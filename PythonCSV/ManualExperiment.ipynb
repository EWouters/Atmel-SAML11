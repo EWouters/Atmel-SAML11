{
 "cells": [
  {
   "cell_type": "code",
   "execution_count": 2,
   "metadata": {},
   "outputs": [],
   "source": [
    "from experiment.loops import experiment_loop, averages_loop, sizes_loop"
   ]
  },
  {
   "cell_type": "code",
   "execution_count": 3,
   "metadata": {},
   "outputs": [],
   "source": [
    "output_dir = \"C:\\\\Users\\\\Dragos\\\\MasThesis_output\""
   ]
  },
  {
   "cell_type": "markdown",
   "metadata": {},
   "source": [
    "Todo:\n",
    "* **TODO** Put utilization in table\n",
    "* **TODO** Reput averages iterations in table and re-do so they can be 2887"
   ]
  },
  {
   "cell_type": "code",
   "execution_count": 3,
   "metadata": {},
   "outputs": [
    {
     "name": "stdout",
     "output_type": "stream",
     "text": [
      "WARNING: Folder 'C:\\Users\\Dragos\\MasThesis_output' already exists.\n",
      "WARNING: Folder 'C:\\Users\\Dragos\\MasThesis_output\\hash_120_eps_1.6_mod_10000_2887iter_1' already exists.\n",
      "File 'C:\\Users\\Dragos\\Dropbox\\College\\MasThesis\\Git\\KalmanC++\\HashTable\\hashtable.h' now contains:\n",
      "#define HASHSIZE 120\n",
      "#define EPSILON 1.600000\n",
      "#define MOD_PRECISION 10000\n",
      "#define EPSILON_MOD 16000\n",
      "Epsilon: 1.600000\n",
      "Epsilon mod: 16000\n",
      "Mod precision: 10000\n",
      "Hash size: 120\n",
      "\n",
      "HashTable population: 4 / 120\n",
      "No. of times found: 2121\n",
      "No. of times stored: 766\n",
      "Copied 'C:\\Users\\Dragos\\Dropbox\\College\\MasThesis\\Git\\KalmanC++\\debug.txt' to 'C:\\Users\\Dragos\\MasThesis_output\\hash_120_eps_1.6_mod_10000_2887iter_1\\hash_120_eps_1.6_mod_10000_2887iter_1_hash.txt'\n",
      "File 'C:\\Users\\Dragos\\Dropbox\\College\\MasThesis\\Git\\KalmanARM\\STDIO_Redirect_w_TrustZone\\HashTable\\hashtable.h' now contains:\n",
      "#define HASHSIZE 120\n",
      "#define EPSILON 1.600000\n",
      "#define MOD_PRECISION 10000\n",
      "#define EPSILON_MOD 16000\n",
      "Copied 'C:\\Users\\Dragos\\Dropbox\\College\\MasThesis\\Git\\KalmanARM\\main_hash.c' to 'C:\\Users\\Dragos\\Dropbox\\College\\MasThesis\\Git\\KalmanARM\\STDIO_Redirect_w_TrustZone\\main.c'\n",
      "Building file: ../HashTable/hashtable.c\n",
      "Invoking: ARM/GNU C Compiler : 6.3.1\n",
      "\"C:\\Program Files (x86)\\Atmel\\Studio\\7.0\\toolchain\\arm\\arm-gnu-toolchain\\bin\\arm-none-eabi-gcc.exe\"  -x c -mthumb -D__SAML11E16A__ -DDEBUG  -I\"C:\\Program Files (x86)\\Atmel\\Studio\\7.0\\Packs\\arm\\cmsis\\5.0.1\\CMSIS\\Include\" -I\"../Config\" -I\"..\" -I\"../examples\" -I\"../hal/include\" -I\"../hal/utils/include\" -I\"../hpl/core\" -I\"../hpl/crya\" -I\"../hpl/dmac\" -I\"../hpl/gclk\" -I\"../hpl/mclk\" -I\"../hpl/osc32kctrl\" -I\"../hpl/oscctrl\" -I\"../hpl/pm\" -I\"../hpl/port\" -I\"../hpl/sercom\" -I\"../hri\" -I\"../trustzone\" -I\"../stdio_redirect\" -I\"C:\\Program Files (x86)\\Atmel\\Studio\\7.0\\Packs\\Atmel\\SAML11_DFP\\1.0.91\\include\"  -O0 -g3 -Wall -mcpu=cortex-m23 -c -std=gnu99 -mcmse -MD -MP -MF \"HashTable/hashtable.d\" -MT\"HashTable/hashtable.d\" -MT\"HashTable/hashtable.o\"   -o \"HashTable/hashtable.o\" \"../HashTable/hashtable.c\" \n",
      "Finished building: ../HashTable/hashtable.c\n",
      "Building file: .././main.c\n",
      "Invoking: ARM/GNU C Compiler : 6.3.1\n",
      "\"C:\\Program Files (x86)\\Atmel\\Studio\\7.0\\toolchain\\arm\\arm-gnu-toolchain\\bin\\arm-none-eabi-gcc.exe\"  -x c -mthumb -D__SAML11E16A__ -DDEBUG  -I\"C:\\Program Files (x86)\\Atmel\\Studio\\7.0\\Packs\\arm\\cmsis\\5.0.1\\CMSIS\\Include\" -I\"../Config\" -I\"..\" -I\"../examples\" -I\"../hal/include\" -I\"../hal/utils/include\" -I\"../hpl/core\" -I\"../hpl/crya\" -I\"../hpl/dmac\" -I\"../hpl/gclk\" -I\"../hpl/mclk\" -I\"../hpl/osc32kctrl\" -I\"../hpl/oscctrl\" -I\"../hpl/pm\" -I\"../hpl/port\" -I\"../hpl/sercom\" -I\"../hri\" -I\"../trustzone\" -I\"../stdio_redirect\" -I\"C:\\Program Files (x86)\\Atmel\\Studio\\7.0\\Packs\\Atmel\\SAML11_DFP\\1.0.91\\include\"  -O0 -g3 -Wall -mcpu=cortex-m23 -c -std=gnu99 -mcmse -MD -MP -MF \"main.d\" -MT\"main.d\" -MT\"main.o\"   -o \"main.o\" \".././main.c\" \n",
      ".././main.c: In function 'main':\n",
      ".././main.c:100:3: warning: statement with no effect [-Wunused-value]\n",
      "   1+1;\n",
      "   ^\n",
      "Finished building: .././main.c\n",
      "Building target: STDIO_Redirect_w_TrustZone.elf\n",
      "Invoking: ARM/GNU Linker : 6.3.1\n",
      "\"C:\\Program Files (x86)\\Atmel\\Studio\\7.0\\toolchain\\arm\\arm-gnu-toolchain\\bin\\arm-none-eabi-gcc.exe\" -o STDIO_Redirect_w_TrustZone.elf  atmel_start.o Device_Startup/startup_saml11e16a.o Device_Startup/system_saml11e16a.o driver_init.o examples/driver_examples.o hal/src/hal_atomic.o hal/src/hal_delay.o hal/src/hal_gpio.o hal/src/hal_init.o hal/src/hal_io.o hal/src/hal_sleep.o hal/src/hal_usart_sync.o hal/utils/src/utils_assert.o hal/utils/src/utils_event.o hal/utils/src/utils_list.o hal/utils/src/utils_syscalls.o HashTable/hashtable.o hpl/core/hpl_core_m23_base.o hpl/core/hpl_init.o hpl/dmac/hpl_dmac.o hpl/gclk/hpl_gclk.o hpl/mclk/hpl_mclk.o hpl/osc32kctrl/hpl_osc32kctrl.o hpl/oscctrl/hpl_oscctrl.o hpl/pm/hpl_pm.o hpl/sercom/hpl_sercom.o Kalman/kalman.o Kalman/kalman_main.o main.o PrintLines/printlines.o stdio_redirect/gcc/read.o stdio_redirect/gcc/write.o stdio_redirect/stdio_io.o stdio_start.o trustzone/trustzone_manager.o trustzone/trustzone_veneer.o   -mthumb -Wl,-Map=\"STDIO_Redirect_w_TrustZone.map\" --specs=nano.specs -Wl,--start-group -lm  -Wl,--end-group -L\"..\\\\Device_Startup\"  -Wl,--gc-sections -mcpu=cortex-m23 -Wl,--out-implib=libsecure_gateway_veneer.lib -Wl,--cmse-implib -T\"../Device_Startup/saml11_secure.ld\"  \n",
      "Finished building target: STDIO_Redirect_w_TrustZone.elf\n",
      "\"C:\\Program Files (x86)\\Atmel\\Studio\\7.0\\toolchain\\arm\\arm-gnu-toolchain\\bin\\arm-none-eabi-objcopy.exe\" -O binary \"STDIO_Redirect_w_TrustZone.elf\" \"STDIO_Redirect_w_TrustZone.bin\"\n",
      "\"C:\\Program Files (x86)\\Atmel\\Studio\\7.0\\toolchain\\arm\\arm-gnu-toolchain\\bin\\arm-none-eabi-objcopy.exe\" -O ihex -R .eeprom -R .fuse -R .lock -R .signature  \"STDIO_Redirect_w_TrustZone.elf\" \"STDIO_Redirect_w_TrustZone.hex\"\n",
      "\"C:\\Program Files (x86)\\Atmel\\Studio\\7.0\\toolchain\\arm\\arm-gnu-toolchain\\bin\\arm-none-eabi-objcopy.exe\" -j .eeprom --set-section-flags=.eeprom=alloc,load --change-section-lma .eeprom=0 --no-change-warnings -O binary \"STDIO_Redirect_w_TrustZone.elf\" \"STDIO_Redirect_w_TrustZone.eep\" || exit 0\n",
      "\"C:\\Program Files (x86)\\Atmel\\Studio\\7.0\\toolchain\\arm\\arm-gnu-toolchain\\bin\\arm-none-eabi-objdump.exe\" -h -S \"STDIO_Redirect_w_TrustZone.elf\" > \"STDIO_Redirect_w_TrustZone.lss\"\n",
      "\"C:\\Program Files (x86)\\Atmel\\Studio\\7.0\\toolchain\\arm\\arm-gnu-toolchain\\bin\\arm-none-eabi-objcopy.exe\" -O srec -R .eeprom -R .fuse -R .lock -R .signature  \"STDIO_Redirect_w_TrustZone.elf\" \"STDIO_Redirect_w_TrustZone.srec\"\n",
      "\"C:\\Program Files (x86)\\Atmel\\Studio\\7.0\\toolchain\\arm\\arm-gnu-toolchain\\bin\\arm-none-eabi-size.exe\" \"STDIO_Redirect_w_TrustZone.elf\"\n",
      "   text\t   data\t    bss\t    dec\t    hex\tfilename\n",
      "  49664\t    128\t  15624\t  65416\t   ff88\tSTDIO_Redirect_w_TrustZone.elf\n",
      "\n",
      "Firmware check OK\n",
      "Chiperase completed successfully\n",
      "Programming completed successfully.\n",
      "\n",
      "Reading line 1/2888\n",
      "Hash is 120\n",
      "Reading line 2888/2888\n",
      "\n",
      "Wrote Kalman output to 'C:\\Users\\Dragos\\MasThesis_output\\hash_120_eps_1.6_mod_10000_2887iter_1\\hash_120_eps_1.6_mod_10000_2887iter_1_output.csv'\n",
      "\n",
      "Receiving thread done!\n",
      "Measurement thread: Got stop command!\n",
      "Sending thread done!\n",
      "Wrote gpio data to C:\\Users\\Dragos\\MasThesis_output\\hash_120_eps_1.6_mod_10000_2887iter_1\\hash_120_eps_1.6_mod_10000_2887iter_1_gpio.csv'\n",
      "Wrote power data to C:\\Users\\Dragos\\MasThesis_output\\hash_120_eps_1.6_mod_10000_2887iter_1\\hash_120_eps_1.6_mod_10000_2887iter_1_power.csv'\n",
      "Measurement thread done!\n"
     ]
    }
   ],
   "source": [
    "e = 1.6\n",
    "experiment_loop(\"hash\", hash_size=120, epsilon=e, mod_precision=10000, iterations=2887, attempt=1, output_dir=output_dir)"
   ]
  },
  {
   "cell_type": "code",
   "execution_count": 4,
   "metadata": {},
   "outputs": [
    {
     "name": "stdout",
     "output_type": "stream",
     "text": [
      "WARNING: Folder 'C:\\Users\\Dragos\\MasThesis_output' already exists.\n",
      "WARNING: Folder 'C:\\Users\\Dragos\\MasThesis_output\\hash_120_eps_1.7_mod_10000_2887iter_1' already exists.\n",
      "File 'C:\\Users\\Dragos\\Dropbox\\College\\MasThesis\\Git\\KalmanC++\\HashTable\\hashtable.h' now contains:\n",
      "#define HASHSIZE 120\n",
      "#define EPSILON 1.700000\n",
      "#define MOD_PRECISION 10000\n",
      "#define EPSILON_MOD 17000\n",
      "Epsilon: 1.700000\n",
      "Epsilon mod: 17000\n",
      "Mod precision: 10000\n",
      "Hash size: 120\n",
      "\n",
      "HashTable population: 3 / 120\n",
      "No. of times found: 2132\n",
      "No. of times stored: 755\n",
      "Copied 'C:\\Users\\Dragos\\Dropbox\\College\\MasThesis\\Git\\KalmanC++\\debug.txt' to 'C:\\Users\\Dragos\\MasThesis_output\\hash_120_eps_1.7_mod_10000_2887iter_1\\hash_120_eps_1.7_mod_10000_2887iter_1_hash.txt'\n",
      "File 'C:\\Users\\Dragos\\Dropbox\\College\\MasThesis\\Git\\KalmanARM\\STDIO_Redirect_w_TrustZone\\HashTable\\hashtable.h' now contains:\n",
      "#define HASHSIZE 120\n",
      "#define EPSILON 1.700000\n",
      "#define MOD_PRECISION 10000\n",
      "#define EPSILON_MOD 17000\n",
      "Copied 'C:\\Users\\Dragos\\Dropbox\\College\\MasThesis\\Git\\KalmanARM\\main_hash.c' to 'C:\\Users\\Dragos\\Dropbox\\College\\MasThesis\\Git\\KalmanARM\\STDIO_Redirect_w_TrustZone\\main.c'\n",
      "Building file: ../HashTable/hashtable.c\n",
      "Invoking: ARM/GNU C Compiler : 6.3.1\n",
      "\"C:\\Program Files (x86)\\Atmel\\Studio\\7.0\\toolchain\\arm\\arm-gnu-toolchain\\bin\\arm-none-eabi-gcc.exe\"  -x c -mthumb -D__SAML11E16A__ -DDEBUG  -I\"C:\\Program Files (x86)\\Atmel\\Studio\\7.0\\Packs\\arm\\cmsis\\5.0.1\\CMSIS\\Include\" -I\"../Config\" -I\"..\" -I\"../examples\" -I\"../hal/include\" -I\"../hal/utils/include\" -I\"../hpl/core\" -I\"../hpl/crya\" -I\"../hpl/dmac\" -I\"../hpl/gclk\" -I\"../hpl/mclk\" -I\"../hpl/osc32kctrl\" -I\"../hpl/oscctrl\" -I\"../hpl/pm\" -I\"../hpl/port\" -I\"../hpl/sercom\" -I\"../hri\" -I\"../trustzone\" -I\"../stdio_redirect\" -I\"C:\\Program Files (x86)\\Atmel\\Studio\\7.0\\Packs\\Atmel\\SAML11_DFP\\1.0.91\\include\"  -O0 -g3 -Wall -mcpu=cortex-m23 -c -std=gnu99 -mcmse -MD -MP -MF \"HashTable/hashtable.d\" -MT\"HashTable/hashtable.d\" -MT\"HashTable/hashtable.o\"   -o \"HashTable/hashtable.o\" \"../HashTable/hashtable.c\" \n",
      "Finished building: ../HashTable/hashtable.c\n",
      "Building file: .././main.c\n",
      "Invoking: ARM/GNU C Compiler : 6.3.1\n",
      "\"C:\\Program Files (x86)\\Atmel\\Studio\\7.0\\toolchain\\arm\\arm-gnu-toolchain\\bin\\arm-none-eabi-gcc.exe\"  -x c -mthumb -D__SAML11E16A__ -DDEBUG  -I\"C:\\Program Files (x86)\\Atmel\\Studio\\7.0\\Packs\\arm\\cmsis\\5.0.1\\CMSIS\\Include\" -I\"../Config\" -I\"..\" -I\"../examples\" -I\"../hal/include\" -I\"../hal/utils/include\" -I\"../hpl/core\" -I\"../hpl/crya\" -I\"../hpl/dmac\" -I\"../hpl/gclk\" -I\"../hpl/mclk\" -I\"../hpl/osc32kctrl\" -I\"../hpl/oscctrl\" -I\"../hpl/pm\" -I\"../hpl/port\" -I\"../hpl/sercom\" -I\"../hri\" -I\"../trustzone\" -I\"../stdio_redirect\" -I\"C:\\Program Files (x86)\\Atmel\\Studio\\7.0\\Packs\\Atmel\\SAML11_DFP\\1.0.91\\include\"  -O0 -g3 -Wall -mcpu=cortex-m23 -c -std=gnu99 -mcmse -MD -MP -MF \"main.d\" -MT\"main.d\" -MT\"main.o\"   -o \"main.o\" \".././main.c\" \n",
      ".././main.c: In function 'main':\n",
      ".././main.c:100:3: warning: statement with no effect [-Wunused-value]\n",
      "   1+1;\n",
      "   ^\n",
      "Finished building: .././main.c\n",
      "Building target: STDIO_Redirect_w_TrustZone.elf\n",
      "Invoking: ARM/GNU Linker : 6.3.1\n",
      "\"C:\\Program Files (x86)\\Atmel\\Studio\\7.0\\toolchain\\arm\\arm-gnu-toolchain\\bin\\arm-none-eabi-gcc.exe\" -o STDIO_Redirect_w_TrustZone.elf  atmel_start.o Device_Startup/startup_saml11e16a.o Device_Startup/system_saml11e16a.o driver_init.o examples/driver_examples.o hal/src/hal_atomic.o hal/src/hal_delay.o hal/src/hal_gpio.o hal/src/hal_init.o hal/src/hal_io.o hal/src/hal_sleep.o hal/src/hal_usart_sync.o hal/utils/src/utils_assert.o hal/utils/src/utils_event.o hal/utils/src/utils_list.o hal/utils/src/utils_syscalls.o HashTable/hashtable.o hpl/core/hpl_core_m23_base.o hpl/core/hpl_init.o hpl/dmac/hpl_dmac.o hpl/gclk/hpl_gclk.o hpl/mclk/hpl_mclk.o hpl/osc32kctrl/hpl_osc32kctrl.o hpl/oscctrl/hpl_oscctrl.o hpl/pm/hpl_pm.o hpl/sercom/hpl_sercom.o Kalman/kalman.o Kalman/kalman_main.o main.o PrintLines/printlines.o stdio_redirect/gcc/read.o stdio_redirect/gcc/write.o stdio_redirect/stdio_io.o stdio_start.o trustzone/trustzone_manager.o trustzone/trustzone_veneer.o   -mthumb -Wl,-Map=\"STDIO_Redirect_w_TrustZone.map\" --specs=nano.specs -Wl,--start-group -lm  -Wl,--end-group -L\"..\\\\Device_Startup\"  -Wl,--gc-sections -mcpu=cortex-m23 -Wl,--out-implib=libsecure_gateway_veneer.lib -Wl,--cmse-implib -T\"../Device_Startup/saml11_secure.ld\"  \n",
      "Finished building target: STDIO_Redirect_w_TrustZone.elf\n",
      "\"C:\\Program Files (x86)\\Atmel\\Studio\\7.0\\toolchain\\arm\\arm-gnu-toolchain\\bin\\arm-none-eabi-objcopy.exe\" -O binary \"STDIO_Redirect_w_TrustZone.elf\" \"STDIO_Redirect_w_TrustZone.bin\"\n",
      "\"C:\\Program Files (x86)\\Atmel\\Studio\\7.0\\toolchain\\arm\\arm-gnu-toolchain\\bin\\arm-none-eabi-objcopy.exe\" -O ihex -R .eeprom -R .fuse -R .lock -R .signature  \"STDIO_Redirect_w_TrustZone.elf\" \"STDIO_Redirect_w_TrustZone.hex\"\n",
      "\"C:\\Program Files (x86)\\Atmel\\Studio\\7.0\\toolchain\\arm\\arm-gnu-toolchain\\bin\\arm-none-eabi-objcopy.exe\" -j .eeprom --set-section-flags=.eeprom=alloc,load --change-section-lma .eeprom=0 --no-change-warnings -O binary \"STDIO_Redirect_w_TrustZone.elf\" \"STDIO_Redirect_w_TrustZone.eep\" || exit 0\n",
      "\"C:\\Program Files (x86)\\Atmel\\Studio\\7.0\\toolchain\\arm\\arm-gnu-toolchain\\bin\\arm-none-eabi-objdump.exe\" -h -S \"STDIO_Redirect_w_TrustZone.elf\" > \"STDIO_Redirect_w_TrustZone.lss\"\n",
      "\"C:\\Program Files (x86)\\Atmel\\Studio\\7.0\\toolchain\\arm\\arm-gnu-toolchain\\bin\\arm-none-eabi-objcopy.exe\" -O srec -R .eeprom -R .fuse -R .lock -R .signature  \"STDIO_Redirect_w_TrustZone.elf\" \"STDIO_Redirect_w_TrustZone.srec\"\n",
      "\"C:\\Program Files (x86)\\Atmel\\Studio\\7.0\\toolchain\\arm\\arm-gnu-toolchain\\bin\\arm-none-eabi-size.exe\" \"STDIO_Redirect_w_TrustZone.elf\"\n",
      "   text\t   data\t    bss\t    dec\t    hex\tfilename\n",
      "  49664\t    128\t  15624\t  65416\t   ff88\tSTDIO_Redirect_w_TrustZone.elf\n",
      "\n",
      "Firmware check OK\n",
      "Chiperase completed successfully\n",
      "Programming completed successfully.\n",
      "\n",
      "Reading line 1/2888\n",
      "Hash is 120\n",
      "Reading line 2888/2888\n",
      "\n",
      "Wrote Kalman output to 'C:\\Users\\Dragos\\MasThesis_output\\hash_120_eps_1.7_mod_10000_2887iter_1\\hash_120_eps_1.7_mod_10000_2887iter_1_output.csv'\n",
      "\n",
      "Receiving thread done!\n",
      "Measurement thread: Got stop command!\n",
      "Sending thread done!\n",
      "Wrote gpio data to C:\\Users\\Dragos\\MasThesis_output\\hash_120_eps_1.7_mod_10000_2887iter_1\\hash_120_eps_1.7_mod_10000_2887iter_1_gpio.csv'\n",
      "Wrote power data to C:\\Users\\Dragos\\MasThesis_output\\hash_120_eps_1.7_mod_10000_2887iter_1\\hash_120_eps_1.7_mod_10000_2887iter_1_power.csv'\n",
      "Measurement thread done!\n"
     ]
    }
   ],
   "source": [
    "e = 1.7\n",
    "experiment_loop(\"hash\", hash_size=120, epsilon=e, mod_precision=10000, iterations=2887, attempt=1, output_dir=output_dir)"
   ]
  },
  {
   "cell_type": "code",
   "execution_count": 5,
   "metadata": {},
   "outputs": [
    {
     "name": "stdout",
     "output_type": "stream",
     "text": [
      "WARNING: Folder 'C:\\Users\\Dragos\\MasThesis_output' already exists.\n",
      "WARNING: Folder 'C:\\Users\\Dragos\\MasThesis_output\\hash_120_eps_1.8_mod_10000_2887iter_1' already exists.\n",
      "File 'C:\\Users\\Dragos\\Dropbox\\College\\MasThesis\\Git\\KalmanC++\\HashTable\\hashtable.h' now contains:\n",
      "#define HASHSIZE 120\n",
      "#define EPSILON 1.800000\n",
      "#define MOD_PRECISION 10000\n",
      "#define EPSILON_MOD 18000\n",
      "Epsilon: 1.800000\n",
      "Epsilon mod: 18000\n",
      "Mod precision: 10000\n",
      "Hash size: 120\n",
      "\n",
      "HashTable population: 3 / 120\n",
      "No. of times found: 2215\n",
      "No. of times stored: 672\n",
      "Copied 'C:\\Users\\Dragos\\Dropbox\\College\\MasThesis\\Git\\KalmanC++\\debug.txt' to 'C:\\Users\\Dragos\\MasThesis_output\\hash_120_eps_1.8_mod_10000_2887iter_1\\hash_120_eps_1.8_mod_10000_2887iter_1_hash.txt'\n",
      "File 'C:\\Users\\Dragos\\Dropbox\\College\\MasThesis\\Git\\KalmanARM\\STDIO_Redirect_w_TrustZone\\HashTable\\hashtable.h' now contains:\n",
      "#define HASHSIZE 120\n",
      "#define EPSILON 1.800000\n",
      "#define MOD_PRECISION 10000\n",
      "#define EPSILON_MOD 18000\n",
      "Copied 'C:\\Users\\Dragos\\Dropbox\\College\\MasThesis\\Git\\KalmanARM\\main_hash.c' to 'C:\\Users\\Dragos\\Dropbox\\College\\MasThesis\\Git\\KalmanARM\\STDIO_Redirect_w_TrustZone\\main.c'\n",
      "Building file: ../HashTable/hashtable.c\n",
      "Invoking: ARM/GNU C Compiler : 6.3.1\n",
      "\"C:\\Program Files (x86)\\Atmel\\Studio\\7.0\\toolchain\\arm\\arm-gnu-toolchain\\bin\\arm-none-eabi-gcc.exe\"  -x c -mthumb -D__SAML11E16A__ -DDEBUG  -I\"C:\\Program Files (x86)\\Atmel\\Studio\\7.0\\Packs\\arm\\cmsis\\5.0.1\\CMSIS\\Include\" -I\"../Config\" -I\"..\" -I\"../examples\" -I\"../hal/include\" -I\"../hal/utils/include\" -I\"../hpl/core\" -I\"../hpl/crya\" -I\"../hpl/dmac\" -I\"../hpl/gclk\" -I\"../hpl/mclk\" -I\"../hpl/osc32kctrl\" -I\"../hpl/oscctrl\" -I\"../hpl/pm\" -I\"../hpl/port\" -I\"../hpl/sercom\" -I\"../hri\" -I\"../trustzone\" -I\"../stdio_redirect\" -I\"C:\\Program Files (x86)\\Atmel\\Studio\\7.0\\Packs\\Atmel\\SAML11_DFP\\1.0.91\\include\"  -O0 -g3 -Wall -mcpu=cortex-m23 -c -std=gnu99 -mcmse -MD -MP -MF \"HashTable/hashtable.d\" -MT\"HashTable/hashtable.d\" -MT\"HashTable/hashtable.o\"   -o \"HashTable/hashtable.o\" \"../HashTable/hashtable.c\" \n",
      "Finished building: ../HashTable/hashtable.c\n",
      "Building file: .././main.c\n",
      "Invoking: ARM/GNU C Compiler : 6.3.1\n",
      "\"C:\\Program Files (x86)\\Atmel\\Studio\\7.0\\toolchain\\arm\\arm-gnu-toolchain\\bin\\arm-none-eabi-gcc.exe\"  -x c -mthumb -D__SAML11E16A__ -DDEBUG  -I\"C:\\Program Files (x86)\\Atmel\\Studio\\7.0\\Packs\\arm\\cmsis\\5.0.1\\CMSIS\\Include\" -I\"../Config\" -I\"..\" -I\"../examples\" -I\"../hal/include\" -I\"../hal/utils/include\" -I\"../hpl/core\" -I\"../hpl/crya\" -I\"../hpl/dmac\" -I\"../hpl/gclk\" -I\"../hpl/mclk\" -I\"../hpl/osc32kctrl\" -I\"../hpl/oscctrl\" -I\"../hpl/pm\" -I\"../hpl/port\" -I\"../hpl/sercom\" -I\"../hri\" -I\"../trustzone\" -I\"../stdio_redirect\" -I\"C:\\Program Files (x86)\\Atmel\\Studio\\7.0\\Packs\\Atmel\\SAML11_DFP\\1.0.91\\include\"  -O0 -g3 -Wall -mcpu=cortex-m23 -c -std=gnu99 -mcmse -MD -MP -MF \"main.d\" -MT\"main.d\" -MT\"main.o\"   -o \"main.o\" \".././main.c\" \n",
      ".././main.c: In function 'main':\n",
      ".././main.c:100:3: warning: statement with no effect [-Wunused-value]\n",
      "   1+1;\n",
      "   ^\n",
      "Finished building: .././main.c\n",
      "Building target: STDIO_Redirect_w_TrustZone.elf\n",
      "Invoking: ARM/GNU Linker : 6.3.1\n",
      "\"C:\\Program Files (x86)\\Atmel\\Studio\\7.0\\toolchain\\arm\\arm-gnu-toolchain\\bin\\arm-none-eabi-gcc.exe\" -o STDIO_Redirect_w_TrustZone.elf  atmel_start.o Device_Startup/startup_saml11e16a.o Device_Startup/system_saml11e16a.o driver_init.o examples/driver_examples.o hal/src/hal_atomic.o hal/src/hal_delay.o hal/src/hal_gpio.o hal/src/hal_init.o hal/src/hal_io.o hal/src/hal_sleep.o hal/src/hal_usart_sync.o hal/utils/src/utils_assert.o hal/utils/src/utils_event.o hal/utils/src/utils_list.o hal/utils/src/utils_syscalls.o HashTable/hashtable.o hpl/core/hpl_core_m23_base.o hpl/core/hpl_init.o hpl/dmac/hpl_dmac.o hpl/gclk/hpl_gclk.o hpl/mclk/hpl_mclk.o hpl/osc32kctrl/hpl_osc32kctrl.o hpl/oscctrl/hpl_oscctrl.o hpl/pm/hpl_pm.o hpl/sercom/hpl_sercom.o Kalman/kalman.o Kalman/kalman_main.o main.o PrintLines/printlines.o stdio_redirect/gcc/read.o stdio_redirect/gcc/write.o stdio_redirect/stdio_io.o stdio_start.o trustzone/trustzone_manager.o trustzone/trustzone_veneer.o   -mthumb -Wl,-Map=\"STDIO_Redirect_w_TrustZone.map\" --specs=nano.specs -Wl,--start-group -lm  -Wl,--end-group -L\"..\\\\Device_Startup\"  -Wl,--gc-sections -mcpu=cortex-m23 -Wl,--out-implib=libsecure_gateway_veneer.lib -Wl,--cmse-implib -T\"../Device_Startup/saml11_secure.ld\"  \n",
      "Finished building target: STDIO_Redirect_w_TrustZone.elf\n",
      "\"C:\\Program Files (x86)\\Atmel\\Studio\\7.0\\toolchain\\arm\\arm-gnu-toolchain\\bin\\arm-none-eabi-objcopy.exe\" -O binary \"STDIO_Redirect_w_TrustZone.elf\" \"STDIO_Redirect_w_TrustZone.bin\"\n",
      "\"C:\\Program Files (x86)\\Atmel\\Studio\\7.0\\toolchain\\arm\\arm-gnu-toolchain\\bin\\arm-none-eabi-objcopy.exe\" -O ihex -R .eeprom -R .fuse -R .lock -R .signature  \"STDIO_Redirect_w_TrustZone.elf\" \"STDIO_Redirect_w_TrustZone.hex\"\n",
      "\"C:\\Program Files (x86)\\Atmel\\Studio\\7.0\\toolchain\\arm\\arm-gnu-toolchain\\bin\\arm-none-eabi-objcopy.exe\" -j .eeprom --set-section-flags=.eeprom=alloc,load --change-section-lma .eeprom=0 --no-change-warnings -O binary \"STDIO_Redirect_w_TrustZone.elf\" \"STDIO_Redirect_w_TrustZone.eep\" || exit 0\n",
      "\"C:\\Program Files (x86)\\Atmel\\Studio\\7.0\\toolchain\\arm\\arm-gnu-toolchain\\bin\\arm-none-eabi-objdump.exe\" -h -S \"STDIO_Redirect_w_TrustZone.elf\" > \"STDIO_Redirect_w_TrustZone.lss\"\n",
      "\"C:\\Program Files (x86)\\Atmel\\Studio\\7.0\\toolchain\\arm\\arm-gnu-toolchain\\bin\\arm-none-eabi-objcopy.exe\" -O srec -R .eeprom -R .fuse -R .lock -R .signature  \"STDIO_Redirect_w_TrustZone.elf\" \"STDIO_Redirect_w_TrustZone.srec\"\n",
      "\"C:\\Program Files (x86)\\Atmel\\Studio\\7.0\\toolchain\\arm\\arm-gnu-toolchain\\bin\\arm-none-eabi-size.exe\" \"STDIO_Redirect_w_TrustZone.elf\"\n",
      "   text\t   data\t    bss\t    dec\t    hex\tfilename\n",
      "  49664\t    128\t  15624\t  65416\t   ff88\tSTDIO_Redirect_w_TrustZone.elf\n",
      "\n",
      "Firmware check OK\n",
      "Chiperase completed successfully\n",
      "Programming completed successfully.\n",
      "\n",
      "Reading line 1/2888\n",
      "Hash is 120\n",
      "Reading line 2888/2888\n",
      "\n",
      "Wrote Kalman output to 'C:\\Users\\Dragos\\MasThesis_output\\hash_120_eps_1.8_mod_10000_2887iter_1\\hash_120_eps_1.8_mod_10000_2887iter_1_output.csv'\n",
      "\n",
      "Receiving thread done!\n",
      "Measurement thread: Got stop command!\n",
      "Sending thread done!\n",
      "Wrote gpio data to C:\\Users\\Dragos\\MasThesis_output\\hash_120_eps_1.8_mod_10000_2887iter_1\\hash_120_eps_1.8_mod_10000_2887iter_1_gpio.csv'\n",
      "Wrote power data to C:\\Users\\Dragos\\MasThesis_output\\hash_120_eps_1.8_mod_10000_2887iter_1\\hash_120_eps_1.8_mod_10000_2887iter_1_power.csv'\n",
      "Measurement thread done!\n"
     ]
    }
   ],
   "source": [
    "e = 1.8\n",
    "experiment_loop(\"hash\", hash_size=120, epsilon=e, mod_precision=10000, iterations=2887, attempt=1, output_dir=output_dir)"
   ]
  },
  {
   "cell_type": "code",
   "execution_count": 6,
   "metadata": {},
   "outputs": [
    {
     "name": "stdout",
     "output_type": "stream",
     "text": [
      "WARNING: Folder 'C:\\Users\\Dragos\\MasThesis_output' already exists.\n",
      "WARNING: Folder 'C:\\Users\\Dragos\\MasThesis_output\\hash_120_eps_1.9_mod_10000_2887iter_1' already exists.\n",
      "File 'C:\\Users\\Dragos\\Dropbox\\College\\MasThesis\\Git\\KalmanC++\\HashTable\\hashtable.h' now contains:\n",
      "#define HASHSIZE 120\n",
      "#define EPSILON 1.900000\n",
      "#define MOD_PRECISION 10000\n",
      "#define EPSILON_MOD 19000\n",
      "Epsilon: 1.900000\n",
      "Epsilon mod: 19000\n",
      "Mod precision: 10000\n",
      "Hash size: 120\n",
      "\n",
      "HashTable population: 2 / 120\n",
      "No. of times found: 2289\n",
      "No. of times stored: 598\n",
      "Copied 'C:\\Users\\Dragos\\Dropbox\\College\\MasThesis\\Git\\KalmanC++\\debug.txt' to 'C:\\Users\\Dragos\\MasThesis_output\\hash_120_eps_1.9_mod_10000_2887iter_1\\hash_120_eps_1.9_mod_10000_2887iter_1_hash.txt'\n",
      "File 'C:\\Users\\Dragos\\Dropbox\\College\\MasThesis\\Git\\KalmanARM\\STDIO_Redirect_w_TrustZone\\HashTable\\hashtable.h' now contains:\n",
      "#define HASHSIZE 120\n",
      "#define EPSILON 1.900000\n",
      "#define MOD_PRECISION 10000\n",
      "#define EPSILON_MOD 19000\n",
      "Copied 'C:\\Users\\Dragos\\Dropbox\\College\\MasThesis\\Git\\KalmanARM\\main_hash.c' to 'C:\\Users\\Dragos\\Dropbox\\College\\MasThesis\\Git\\KalmanARM\\STDIO_Redirect_w_TrustZone\\main.c'\n",
      "Building file: ../HashTable/hashtable.c\n",
      "Invoking: ARM/GNU C Compiler : 6.3.1\n",
      "\"C:\\Program Files (x86)\\Atmel\\Studio\\7.0\\toolchain\\arm\\arm-gnu-toolchain\\bin\\arm-none-eabi-gcc.exe\"  -x c -mthumb -D__SAML11E16A__ -DDEBUG  -I\"C:\\Program Files (x86)\\Atmel\\Studio\\7.0\\Packs\\arm\\cmsis\\5.0.1\\CMSIS\\Include\" -I\"../Config\" -I\"..\" -I\"../examples\" -I\"../hal/include\" -I\"../hal/utils/include\" -I\"../hpl/core\" -I\"../hpl/crya\" -I\"../hpl/dmac\" -I\"../hpl/gclk\" -I\"../hpl/mclk\" -I\"../hpl/osc32kctrl\" -I\"../hpl/oscctrl\" -I\"../hpl/pm\" -I\"../hpl/port\" -I\"../hpl/sercom\" -I\"../hri\" -I\"../trustzone\" -I\"../stdio_redirect\" -I\"C:\\Program Files (x86)\\Atmel\\Studio\\7.0\\Packs\\Atmel\\SAML11_DFP\\1.0.91\\include\"  -O0 -g3 -Wall -mcpu=cortex-m23 -c -std=gnu99 -mcmse -MD -MP -MF \"HashTable/hashtable.d\" -MT\"HashTable/hashtable.d\" -MT\"HashTable/hashtable.o\"   -o \"HashTable/hashtable.o\" \"../HashTable/hashtable.c\" \n",
      "Finished building: ../HashTable/hashtable.c\n",
      "Building file: .././main.c\n",
      "Invoking: ARM/GNU C Compiler : 6.3.1\n",
      "\"C:\\Program Files (x86)\\Atmel\\Studio\\7.0\\toolchain\\arm\\arm-gnu-toolchain\\bin\\arm-none-eabi-gcc.exe\"  -x c -mthumb -D__SAML11E16A__ -DDEBUG  -I\"C:\\Program Files (x86)\\Atmel\\Studio\\7.0\\Packs\\arm\\cmsis\\5.0.1\\CMSIS\\Include\" -I\"../Config\" -I\"..\" -I\"../examples\" -I\"../hal/include\" -I\"../hal/utils/include\" -I\"../hpl/core\" -I\"../hpl/crya\" -I\"../hpl/dmac\" -I\"../hpl/gclk\" -I\"../hpl/mclk\" -I\"../hpl/osc32kctrl\" -I\"../hpl/oscctrl\" -I\"../hpl/pm\" -I\"../hpl/port\" -I\"../hpl/sercom\" -I\"../hri\" -I\"../trustzone\" -I\"../stdio_redirect\" -I\"C:\\Program Files (x86)\\Atmel\\Studio\\7.0\\Packs\\Atmel\\SAML11_DFP\\1.0.91\\include\"  -O0 -g3 -Wall -mcpu=cortex-m23 -c -std=gnu99 -mcmse -MD -MP -MF \"main.d\" -MT\"main.d\" -MT\"main.o\"   -o \"main.o\" \".././main.c\" \n",
      ".././main.c: In function 'main':\n",
      ".././main.c:100:3: warning: statement with no effect [-Wunused-value]\n",
      "   1+1;\n",
      "   ^\n",
      "Finished building: .././main.c\n",
      "Building target: STDIO_Redirect_w_TrustZone.elf\n",
      "Invoking: ARM/GNU Linker : 6.3.1\n",
      "\"C:\\Program Files (x86)\\Atmel\\Studio\\7.0\\toolchain\\arm\\arm-gnu-toolchain\\bin\\arm-none-eabi-gcc.exe\" -o STDIO_Redirect_w_TrustZone.elf  atmel_start.o Device_Startup/startup_saml11e16a.o Device_Startup/system_saml11e16a.o driver_init.o examples/driver_examples.o hal/src/hal_atomic.o hal/src/hal_delay.o hal/src/hal_gpio.o hal/src/hal_init.o hal/src/hal_io.o hal/src/hal_sleep.o hal/src/hal_usart_sync.o hal/utils/src/utils_assert.o hal/utils/src/utils_event.o hal/utils/src/utils_list.o hal/utils/src/utils_syscalls.o HashTable/hashtable.o hpl/core/hpl_core_m23_base.o hpl/core/hpl_init.o hpl/dmac/hpl_dmac.o hpl/gclk/hpl_gclk.o hpl/mclk/hpl_mclk.o hpl/osc32kctrl/hpl_osc32kctrl.o hpl/oscctrl/hpl_oscctrl.o hpl/pm/hpl_pm.o hpl/sercom/hpl_sercom.o Kalman/kalman.o Kalman/kalman_main.o main.o PrintLines/printlines.o stdio_redirect/gcc/read.o stdio_redirect/gcc/write.o stdio_redirect/stdio_io.o stdio_start.o trustzone/trustzone_manager.o trustzone/trustzone_veneer.o   -mthumb -Wl,-Map=\"STDIO_Redirect_w_TrustZone.map\" --specs=nano.specs -Wl,--start-group -lm  -Wl,--end-group -L\"..\\\\Device_Startup\"  -Wl,--gc-sections -mcpu=cortex-m23 -Wl,--out-implib=libsecure_gateway_veneer.lib -Wl,--cmse-implib -T\"../Device_Startup/saml11_secure.ld\"  \n",
      "Finished building target: STDIO_Redirect_w_TrustZone.elf\n",
      "\"C:\\Program Files (x86)\\Atmel\\Studio\\7.0\\toolchain\\arm\\arm-gnu-toolchain\\bin\\arm-none-eabi-objcopy.exe\" -O binary \"STDIO_Redirect_w_TrustZone.elf\" \"STDIO_Redirect_w_TrustZone.bin\"\n",
      "\"C:\\Program Files (x86)\\Atmel\\Studio\\7.0\\toolchain\\arm\\arm-gnu-toolchain\\bin\\arm-none-eabi-objcopy.exe\" -O ihex -R .eeprom -R .fuse -R .lock -R .signature  \"STDIO_Redirect_w_TrustZone.elf\" \"STDIO_Redirect_w_TrustZone.hex\"\n",
      "\"C:\\Program Files (x86)\\Atmel\\Studio\\7.0\\toolchain\\arm\\arm-gnu-toolchain\\bin\\arm-none-eabi-objcopy.exe\" -j .eeprom --set-section-flags=.eeprom=alloc,load --change-section-lma .eeprom=0 --no-change-warnings -O binary \"STDIO_Redirect_w_TrustZone.elf\" \"STDIO_Redirect_w_TrustZone.eep\" || exit 0\n",
      "\"C:\\Program Files (x86)\\Atmel\\Studio\\7.0\\toolchain\\arm\\arm-gnu-toolchain\\bin\\arm-none-eabi-objdump.exe\" -h -S \"STDIO_Redirect_w_TrustZone.elf\" > \"STDIO_Redirect_w_TrustZone.lss\"\n",
      "\"C:\\Program Files (x86)\\Atmel\\Studio\\7.0\\toolchain\\arm\\arm-gnu-toolchain\\bin\\arm-none-eabi-objcopy.exe\" -O srec -R .eeprom -R .fuse -R .lock -R .signature  \"STDIO_Redirect_w_TrustZone.elf\" \"STDIO_Redirect_w_TrustZone.srec\"\n",
      "\"C:\\Program Files (x86)\\Atmel\\Studio\\7.0\\toolchain\\arm\\arm-gnu-toolchain\\bin\\arm-none-eabi-size.exe\" \"STDIO_Redirect_w_TrustZone.elf\"\n",
      "   text\t   data\t    bss\t    dec\t    hex\tfilename\n",
      "  49664\t    128\t  15624\t  65416\t   ff88\tSTDIO_Redirect_w_TrustZone.elf\n",
      "\n",
      "Firmware check OK\n",
      "Chiperase completed successfully\n",
      "Programming completed successfully.\n",
      "\n",
      "Reading line 1/2888\n",
      "Hash is 120\n",
      "Reading line 2888/2888\n",
      "\n",
      "Wrote Kalman output to 'C:\\Users\\Dragos\\MasThesis_output\\hash_120_eps_1.9_mod_10000_2887iter_1\\hash_120_eps_1.9_mod_10000_2887iter_1_output.csv'\n",
      "\n",
      "Receiving thread done!\n",
      "Measurement thread: Got stop command!\n",
      "Sending thread done!\n",
      "Wrote gpio data to C:\\Users\\Dragos\\MasThesis_output\\hash_120_eps_1.9_mod_10000_2887iter_1\\hash_120_eps_1.9_mod_10000_2887iter_1_gpio.csv'\n",
      "Wrote power data to C:\\Users\\Dragos\\MasThesis_output\\hash_120_eps_1.9_mod_10000_2887iter_1\\hash_120_eps_1.9_mod_10000_2887iter_1_power.csv'\n",
      "Measurement thread done!\n"
     ]
    }
   ],
   "source": [
    "e = 1.9\n",
    "experiment_loop(\"hash\", hash_size=120, epsilon=e, mod_precision=10000, iterations=2887, attempt=1, output_dir=output_dir)"
   ]
  },
  {
   "cell_type": "code",
   "execution_count": 7,
   "metadata": {},
   "outputs": [
    {
     "name": "stdout",
     "output_type": "stream",
     "text": [
      "Copied 'C:\\Users\\Dragos\\Dropbox\\College\\MasThesis\\Git\\KalmanC++\\debug.txt' to 'C:\\Users\\Dragos\\MasThesis_output\\hash_120_eps_2.0_mod_10000_2887iter_1\\hash_120_eps_2.0_mod_10000_2887iter_1_hash.txt'\n",
      "Reading line 1/2888\n",
      "Hash is 120\n",
      "Reading line 2888/2888\n",
      "\n",
      "Wrote Kalman output to 'C:\\Users\\Dragos\\MasThesis_output\\hash_120_eps_2.0_mod_10000_2887iter_1\\hash_120_eps_2.0_mod_10000_2887iter_1_output.csv'\n",
      "Wrote gpio data to C:\\Users\\Dragos\\MasThesis_output\\hash_120_eps_2.0_mod_10000_2887iter_1\\hash_120_eps_2.0_mod_10000_2887iter_1_gpio.csv'\n",
      "Wrote power data to C:\\Users\\Dragos\\MasThesis_output\\hash_120_eps_2.0_mod_10000_2887iter_1\\hash_120_eps_2.0_mod_10000_2887iter_1_power.csv'\n"
     ]
    }
   ],
   "source": [
    "e = 2.0\n",
    "experiment_loop(\"hash\", hash_size=120, epsilon=e, mod_precision=10000, iterations=2887, attempt=1, output_dir=output_dir)"
   ]
  },
  {
   "cell_type": "code",
   "execution_count": 8,
   "metadata": {},
   "outputs": [
    {
     "name": "stdout",
     "output_type": "stream",
     "text": [
      "Copied 'C:\\Users\\Dragos\\Dropbox\\College\\MasThesis\\Git\\KalmanC++\\debug.txt' to 'C:\\Users\\Dragos\\MasThesis_output\\hash_120_eps_3.1_mod_10000_2887iter_1\\hash_120_eps_3.1_mod_10000_2887iter_1_hash.txt'\n",
      "Reading line 1/2888\n",
      "Hash is 120\n",
      "Reading line 2888/2888\n",
      "\n",
      "Wrote Kalman output to 'C:\\Users\\Dragos\\MasThesis_output\\hash_120_eps_3.1_mod_10000_2887iter_1\\hash_120_eps_3.1_mod_10000_2887iter_1_output.csv'\n",
      "Wrote gpio data to C:\\Users\\Dragos\\MasThesis_output\\hash_120_eps_3.1_mod_10000_2887iter_1\\hash_120_eps_3.1_mod_10000_2887iter_1_gpio.csv'\n",
      "Wrote power data to C:\\Users\\Dragos\\MasThesis_output\\hash_120_eps_3.1_mod_10000_2887iter_1\\hash_120_eps_3.1_mod_10000_2887iter_1_power.csv'\n"
     ]
    }
   ],
   "source": [
    "e = 3.1\n",
    "experiment_loop(\"hash\", hash_size=120, epsilon=e, mod_precision=10000, iterations=2887, attempt=1, output_dir=output_dir)"
   ]
  },
  {
   "cell_type": "code",
   "execution_count": 9,
   "metadata": {},
   "outputs": [
    {
     "name": "stdout",
     "output_type": "stream",
     "text": [
      "Copied 'C:\\Users\\Dragos\\Dropbox\\College\\MasThesis\\Git\\KalmanC++\\debug.txt' to 'C:\\Users\\Dragos\\MasThesis_output\\hash_120_eps_3.2_mod_10000_2887iter_1\\hash_120_eps_3.2_mod_10000_2887iter_1_hash.txt'\n",
      "Reading line 1/2888\n",
      "Hash is 120\n",
      "Reading line 2888/2888\n",
      "\n",
      "Wrote Kalman output to 'C:\\Users\\Dragos\\MasThesis_output\\hash_120_eps_3.2_mod_10000_2887iter_1\\hash_120_eps_3.2_mod_10000_2887iter_1_output.csv'\n",
      "Wrote gpio data to C:\\Users\\Dragos\\MasThesis_output\\hash_120_eps_3.2_mod_10000_2887iter_1\\hash_120_eps_3.2_mod_10000_2887iter_1_gpio.csv'\n",
      "Wrote power data to C:\\Users\\Dragos\\MasThesis_output\\hash_120_eps_3.2_mod_10000_2887iter_1\\hash_120_eps_3.2_mod_10000_2887iter_1_power.csv'\n"
     ]
    }
   ],
   "source": [
    "e = 3.2\n",
    "experiment_loop(\"hash\", hash_size=120, epsilon=e, mod_precision=10000, iterations=2887, attempt=1, output_dir=output_dir)"
   ]
  },
  {
   "cell_type": "code",
   "execution_count": 10,
   "metadata": {},
   "outputs": [
    {
     "name": "stdout",
     "output_type": "stream",
     "text": [
      "Copied 'C:\\Users\\Dragos\\Dropbox\\College\\MasThesis\\Git\\KalmanC++\\debug.txt' to 'C:\\Users\\Dragos\\MasThesis_output\\hash_120_eps_3.3_mod_10000_2887iter_1\\hash_120_eps_3.3_mod_10000_2887iter_1_hash.txt'\n",
      "Reading line 1/2888\n",
      "Hash is 120\n",
      "Reading line 2888/2888\n",
      "\n",
      "Wrote Kalman output to 'C:\\Users\\Dragos\\MasThesis_output\\hash_120_eps_3.3_mod_10000_2887iter_1\\hash_120_eps_3.3_mod_10000_2887iter_1_output.csv'\n",
      "Wrote gpio data to C:\\Users\\Dragos\\MasThesis_output\\hash_120_eps_3.3_mod_10000_2887iter_1\\hash_120_eps_3.3_mod_10000_2887iter_1_gpio.csv'\n",
      "Wrote power data to C:\\Users\\Dragos\\MasThesis_output\\hash_120_eps_3.3_mod_10000_2887iter_1\\hash_120_eps_3.3_mod_10000_2887iter_1_power.csv'\n"
     ]
    }
   ],
   "source": [
    "e = 3.3\n",
    "experiment_loop(\"hash\", hash_size=120, epsilon=e, mod_precision=10000, iterations=2887, attempt=1, output_dir=output_dir)"
   ]
  },
  {
   "cell_type": "code",
   "execution_count": 11,
   "metadata": {},
   "outputs": [
    {
     "name": "stdout",
     "output_type": "stream",
     "text": [
      "Copied 'C:\\Users\\Dragos\\Dropbox\\College\\MasThesis\\Git\\KalmanC++\\debug.txt' to 'C:\\Users\\Dragos\\MasThesis_output\\hash_120_eps_3.4_mod_10000_2887iter_1\\hash_120_eps_3.4_mod_10000_2887iter_1_hash.txt'\n",
      "Reading line 1/2888\n",
      "Hash is 120\n",
      "Reading line 2888/2888\n",
      "\n",
      "Wrote Kalman output to 'C:\\Users\\Dragos\\MasThesis_output\\hash_120_eps_3.4_mod_10000_2887iter_1\\hash_120_eps_3.4_mod_10000_2887iter_1_output.csv'\n",
      "Wrote gpio data to C:\\Users\\Dragos\\MasThesis_output\\hash_120_eps_3.4_mod_10000_2887iter_1\\hash_120_eps_3.4_mod_10000_2887iter_1_gpio.csv'\n",
      "Wrote power data to C:\\Users\\Dragos\\MasThesis_output\\hash_120_eps_3.4_mod_10000_2887iter_1\\hash_120_eps_3.4_mod_10000_2887iter_1_power.csv'\n"
     ]
    }
   ],
   "source": [
    "e = 3.4\n",
    "experiment_loop(\"hash\", hash_size=120, epsilon=e, mod_precision=10000, iterations=2887, attempt=1, output_dir=output_dir)"
   ]
  },
  {
   "cell_type": "code",
   "execution_count": 12,
   "metadata": {},
   "outputs": [
    {
     "name": "stdout",
     "output_type": "stream",
     "text": [
      "Copied 'C:\\Users\\Dragos\\Dropbox\\College\\MasThesis\\Git\\KalmanC++\\debug.txt' to 'C:\\Users\\Dragos\\MasThesis_output\\hash_120_eps_3.5_mod_10000_2887iter_1\\hash_120_eps_3.5_mod_10000_2887iter_1_hash.txt'\n",
      "Reading line 1/2888\n",
      "Hash is 120\n",
      "Reading line 2888/2888\n",
      "\n",
      "Wrote Kalman output to 'C:\\Users\\Dragos\\MasThesis_output\\hash_120_eps_3.5_mod_10000_2887iter_1\\hash_120_eps_3.5_mod_10000_2887iter_1_output.csv'\n",
      "Wrote gpio data to C:\\Users\\Dragos\\MasThesis_output\\hash_120_eps_3.5_mod_10000_2887iter_1\\hash_120_eps_3.5_mod_10000_2887iter_1_gpio.csv'\n",
      "Wrote power data to C:\\Users\\Dragos\\MasThesis_output\\hash_120_eps_3.5_mod_10000_2887iter_1\\hash_120_eps_3.5_mod_10000_2887iter_1_power.csv'\n"
     ]
    }
   ],
   "source": [
    "e = 3.5\n",
    "experiment_loop(\"hash\", hash_size=120, epsilon=e, mod_precision=10000, iterations=2887, attempt=1, output_dir=output_dir)"
   ]
  },
  {
   "cell_type": "code",
   "execution_count": 13,
   "metadata": {},
   "outputs": [
    {
     "name": "stdout",
     "output_type": "stream",
     "text": [
      "Copied 'C:\\Users\\Dragos\\Dropbox\\College\\MasThesis\\Git\\KalmanC++\\debug.txt' to 'C:\\Users\\Dragos\\MasThesis_output\\hash_120_eps_3.6_mod_10000_2887iter_1\\hash_120_eps_3.6_mod_10000_2887iter_1_hash.txt'\n",
      "Reading line 1/2888\n",
      "Hash is 120\n",
      "Reading line 2888/2888\n",
      "\n",
      "Wrote Kalman output to 'C:\\Users\\Dragos\\MasThesis_output\\hash_120_eps_3.6_mod_10000_2887iter_1\\hash_120_eps_3.6_mod_10000_2887iter_1_output.csv'\n",
      "Wrote gpio data to C:\\Users\\Dragos\\MasThesis_output\\hash_120_eps_3.6_mod_10000_2887iter_1\\hash_120_eps_3.6_mod_10000_2887iter_1_gpio.csv'\n",
      "Wrote power data to C:\\Users\\Dragos\\MasThesis_output\\hash_120_eps_3.6_mod_10000_2887iter_1\\hash_120_eps_3.6_mod_10000_2887iter_1_power.csv'\n"
     ]
    }
   ],
   "source": [
    "e = 3.6\n",
    "experiment_loop(\"hash\", hash_size=120, epsilon=e, mod_precision=10000, iterations=2887, attempt=1, output_dir=output_dir)"
   ]
  },
  {
   "cell_type": "code",
   "execution_count": 14,
   "metadata": {},
   "outputs": [
    {
     "name": "stdout",
     "output_type": "stream",
     "text": [
      "Copied 'C:\\Users\\Dragos\\Dropbox\\College\\MasThesis\\Git\\KalmanC++\\debug.txt' to 'C:\\Users\\Dragos\\MasThesis_output\\hash_120_eps_3.7_mod_10000_2887iter_1\\hash_120_eps_3.7_mod_10000_2887iter_1_hash.txt'\n",
      "Reading line 1/2888\n",
      "Hash is 120\n",
      "Reading line 2888/2888\n",
      "\n",
      "Wrote Kalman output to 'C:\\Users\\Dragos\\MasThesis_output\\hash_120_eps_3.7_mod_10000_2887iter_1\\hash_120_eps_3.7_mod_10000_2887iter_1_output.csv'\n",
      "Wrote gpio data to C:\\Users\\Dragos\\MasThesis_output\\hash_120_eps_3.7_mod_10000_2887iter_1\\hash_120_eps_3.7_mod_10000_2887iter_1_gpio.csv'\n",
      "Wrote power data to C:\\Users\\Dragos\\MasThesis_output\\hash_120_eps_3.7_mod_10000_2887iter_1\\hash_120_eps_3.7_mod_10000_2887iter_1_power.csv'\n"
     ]
    }
   ],
   "source": [
    "e = 3.7\n",
    "experiment_loop(\"hash\", hash_size=120, epsilon=e, mod_precision=10000, iterations=2887, attempt=1, output_dir=output_dir)"
   ]
  },
  {
   "cell_type": "code",
   "execution_count": 15,
   "metadata": {},
   "outputs": [
    {
     "name": "stdout",
     "output_type": "stream",
     "text": [
      "Copied 'C:\\Users\\Dragos\\Dropbox\\College\\MasThesis\\Git\\KalmanC++\\debug.txt' to 'C:\\Users\\Dragos\\MasThesis_output\\hash_120_eps_3.8_mod_10000_2887iter_1\\hash_120_eps_3.8_mod_10000_2887iter_1_hash.txt'\n",
      "Reading line 1/2888\n",
      "Hash is 120\n",
      "Reading line 2888/2888\n",
      "\n",
      "Wrote Kalman output to 'C:\\Users\\Dragos\\MasThesis_output\\hash_120_eps_3.8_mod_10000_2887iter_1\\hash_120_eps_3.8_mod_10000_2887iter_1_output.csv'\n",
      "Wrote gpio data to C:\\Users\\Dragos\\MasThesis_output\\hash_120_eps_3.8_mod_10000_2887iter_1\\hash_120_eps_3.8_mod_10000_2887iter_1_gpio.csv'\n",
      "Wrote power data to C:\\Users\\Dragos\\MasThesis_output\\hash_120_eps_3.8_mod_10000_2887iter_1\\hash_120_eps_3.8_mod_10000_2887iter_1_power.csv'\n"
     ]
    }
   ],
   "source": [
    "e = 3.8\n",
    "experiment_loop(\"hash\", hash_size=120, epsilon=e, mod_precision=10000, iterations=2887, attempt=1, output_dir=output_dir)"
   ]
  },
  {
   "cell_type": "code",
   "execution_count": 16,
   "metadata": {},
   "outputs": [
    {
     "name": "stdout",
     "output_type": "stream",
     "text": [
      "Copied 'C:\\Users\\Dragos\\Dropbox\\College\\MasThesis\\Git\\KalmanC++\\debug.txt' to 'C:\\Users\\Dragos\\MasThesis_output\\hash_120_eps_3.9_mod_10000_2887iter_1\\hash_120_eps_3.9_mod_10000_2887iter_1_hash.txt'\n",
      "Reading line 1/2888\n",
      "Hash is 120\n",
      "Reading line 2888/2888\n",
      "\n",
      "Wrote Kalman output to 'C:\\Users\\Dragos\\MasThesis_output\\hash_120_eps_3.9_mod_10000_2887iter_1\\hash_120_eps_3.9_mod_10000_2887iter_1_output.csv'\n",
      "Wrote gpio data to C:\\Users\\Dragos\\MasThesis_output\\hash_120_eps_3.9_mod_10000_2887iter_1\\hash_120_eps_3.9_mod_10000_2887iter_1_gpio.csv'\n",
      "Wrote power data to C:\\Users\\Dragos\\MasThesis_output\\hash_120_eps_3.9_mod_10000_2887iter_1\\hash_120_eps_3.9_mod_10000_2887iter_1_power.csv'\n"
     ]
    }
   ],
   "source": [
    "e = 3.9\n",
    "experiment_loop(\"hash\", hash_size=120, epsilon=e, mod_precision=10000, iterations=2887, attempt=1, output_dir=output_dir)"
   ]
  },
  {
   "cell_type": "code",
   "execution_count": 17,
   "metadata": {},
   "outputs": [
    {
     "name": "stdout",
     "output_type": "stream",
     "text": [
      "Copied 'C:\\Users\\Dragos\\Dropbox\\College\\MasThesis\\Git\\KalmanC++\\debug.txt' to 'C:\\Users\\Dragos\\MasThesis_output\\hash_120_eps_4.0_mod_10000_2887iter_1\\hash_120_eps_4.0_mod_10000_2887iter_1_hash.txt'\n",
      "Reading line 1/2888\n",
      "Hash is 120\n",
      "Reading line 2888/2888\n",
      "\n",
      "Wrote Kalman output to 'C:\\Users\\Dragos\\MasThesis_output\\hash_120_eps_4.0_mod_10000_2887iter_1\\hash_120_eps_4.0_mod_10000_2887iter_1_output.csv'\n",
      "Wrote gpio data to C:\\Users\\Dragos\\MasThesis_output\\hash_120_eps_4.0_mod_10000_2887iter_1\\hash_120_eps_4.0_mod_10000_2887iter_1_gpio.csv'\n",
      "Wrote power data to C:\\Users\\Dragos\\MasThesis_output\\hash_120_eps_4.0_mod_10000_2887iter_1\\hash_120_eps_4.0_mod_10000_2887iter_1_power.csv'\n"
     ]
    }
   ],
   "source": [
    "e = 4.0\n",
    "experiment_loop(\"hash\", hash_size=120, epsilon=e, mod_precision=10000, iterations=2887, attempt=1, output_dir=output_dir)"
   ]
  },
  {
   "cell_type": "code",
   "execution_count": 5,
   "metadata": {},
   "outputs": [
    {
     "name": "stdout",
     "output_type": "stream",
     "text": [
      "Copied 'C:\\Users\\Dragos\\Dropbox\\College\\MasThesis\\Git\\KalmanC++\\debug.txt' to 'C:\\Users\\Dragos\\MasThesis_output\\hash_120_eps_4.1_mod_10000_2887iter_1\\hash_120_eps_4.1_mod_10000_2887iter_1_hash.txt'\n",
      "Reading line 1/2888\n",
      "Hash is 120\n",
      "Reading line 2888/2888\n",
      "\n",
      "Wrote Kalman output to 'C:\\Users\\Dragos\\MasThesis_output\\hash_120_eps_4.1_mod_10000_2887iter_1\\hash_120_eps_4.1_mod_10000_2887iter_1_output.csv'\n",
      "Wrote gpio data to C:\\Users\\Dragos\\MasThesis_output\\hash_120_eps_4.1_mod_10000_2887iter_1\\hash_120_eps_4.1_mod_10000_2887iter_1_gpio.csv'\n",
      "Wrote power data to C:\\Users\\Dragos\\MasThesis_output\\hash_120_eps_4.1_mod_10000_2887iter_1\\hash_120_eps_4.1_mod_10000_2887iter_1_power.csv'\n"
     ]
    }
   ],
   "source": [
    "e = 4.1\n",
    "experiment_loop(\"hash\", hash_size=120, epsilon=e, mod_precision=10000, iterations=2887, attempt=1, output_dir=output_dir)"
   ]
  },
  {
   "cell_type": "code",
   "execution_count": 6,
   "metadata": {},
   "outputs": [
    {
     "name": "stdout",
     "output_type": "stream",
     "text": [
      "Copied 'C:\\Users\\Dragos\\Dropbox\\College\\MasThesis\\Git\\KalmanC++\\debug.txt' to 'C:\\Users\\Dragos\\MasThesis_output\\hash_120_eps_4.2_mod_10000_2887iter_1\\hash_120_eps_4.2_mod_10000_2887iter_1_hash.txt'\n",
      "Reading line 1/2888\n",
      "Hash is 120\n",
      "Reading line 2888/2888\n",
      "\n",
      "Wrote Kalman output to 'C:\\Users\\Dragos\\MasThesis_output\\hash_120_eps_4.2_mod_10000_2887iter_1\\hash_120_eps_4.2_mod_10000_2887iter_1_output.csv'\n",
      "Wrote gpio data to C:\\Users\\Dragos\\MasThesis_output\\hash_120_eps_4.2_mod_10000_2887iter_1\\hash_120_eps_4.2_mod_10000_2887iter_1_gpio.csv'\n",
      "Wrote power data to C:\\Users\\Dragos\\MasThesis_output\\hash_120_eps_4.2_mod_10000_2887iter_1\\hash_120_eps_4.2_mod_10000_2887iter_1_power.csv'\n"
     ]
    }
   ],
   "source": [
    "e = 4.2\n",
    "experiment_loop(\"hash\", hash_size=120, epsilon=e, mod_precision=10000, iterations=2887, attempt=1, output_dir=output_dir)"
   ]
  },
  {
   "cell_type": "code",
   "execution_count": null,
   "metadata": {},
   "outputs": [
    {
     "name": "stdout",
     "output_type": "stream",
     "text": [
      "Copied 'C:\\Users\\Dragos\\Dropbox\\College\\MasThesis\\Git\\KalmanC++\\debug.txt' to 'C:\\Users\\Dragos\\MasThesis_output\\hash_120_eps_4.3_mod_10000_2887iter_1\\hash_120_eps_4.3_mod_10000_2887iter_1_hash.txt'\n"
     ]
    }
   ],
   "source": [
    "e = 4.3\n",
    "experiment_loop(\"hash\", hash_size=120, epsilon=e, mod_precision=10000, iterations=2887, attempt=1, output_dir=output_dir)"
   ]
  },
  {
   "cell_type": "code",
   "execution_count": 4,
   "metadata": {},
   "outputs": [
    {
     "name": "stdout",
     "output_type": "stream",
     "text": [
      "Copied 'C:\\Users\\Dragos\\Dropbox\\College\\MasThesis\\Git\\KalmanC++\\debug.txt' to 'C:\\Users\\Dragos\\MasThesis_output\\hash_120_eps_4.4_mod_10000_2887iter_1\\hash_120_eps_4.4_mod_10000_2887iter_1_hash.txt'\n",
      "Reading line 1/2888\n",
      "Hash is 120\n",
      "Reading line 2888/2888\n",
      "\n",
      "Wrote Kalman output to 'C:\\Users\\Dragos\\MasThesis_output\\hash_120_eps_4.4_mod_10000_2887iter_1\\hash_120_eps_4.4_mod_10000_2887iter_1_output.csv'\n",
      "Wrote gpio data to C:\\Users\\Dragos\\MasThesis_output\\power_gpio\\hash_120_eps_4.4_mod_10000_2887iter_1_gpio.csv'\n",
      "Wrote power data to C:\\Users\\Dragos\\MasThesis_output\\power_gpio\\hash_120_eps_4.4_mod_10000_2887iter_1_power.csv'\n"
     ]
    }
   ],
   "source": [
    "e = 4.4\n",
    "experiment_loop(\"hash\", hash_size=120, epsilon=e, mod_precision=10000, iterations=2887, attempt=1, output_dir=output_dir)"
   ]
  },
  {
   "cell_type": "code",
   "execution_count": 5,
   "metadata": {},
   "outputs": [
    {
     "name": "stdout",
     "output_type": "stream",
     "text": [
      "Copied 'C:\\Users\\Dragos\\Dropbox\\College\\MasThesis\\Git\\KalmanC++\\debug.txt' to 'C:\\Users\\Dragos\\MasThesis_output\\hash_120_eps_4.5_mod_10000_2887iter_1\\hash_120_eps_4.5_mod_10000_2887iter_1_hash.txt'\n",
      "Reading line 1/2888\n",
      "Hash is 120\n",
      "Reading line 2888/2888\n",
      "\n",
      "Wrote Kalman output to 'C:\\Users\\Dragos\\MasThesis_output\\hash_120_eps_4.5_mod_10000_2887iter_1\\hash_120_eps_4.5_mod_10000_2887iter_1_output.csv'\n",
      "Wrote gpio data to C:\\Users\\Dragos\\MasThesis_output\\power_gpio\\hash_120_eps_4.5_mod_10000_2887iter_1_gpio.csv'\n",
      "Wrote power data to C:\\Users\\Dragos\\MasThesis_output\\power_gpio\\hash_120_eps_4.5_mod_10000_2887iter_1_power.csv'\n"
     ]
    }
   ],
   "source": [
    "e = 4.5\n",
    "experiment_loop(\"hash\", hash_size=120, epsilon=e, mod_precision=10000, iterations=2887, attempt=1, output_dir=output_dir)"
   ]
  },
  {
   "cell_type": "code",
   "execution_count": 6,
   "metadata": {},
   "outputs": [
    {
     "name": "stdout",
     "output_type": "stream",
     "text": [
      "Copied 'C:\\Users\\Dragos\\Dropbox\\College\\MasThesis\\Git\\KalmanC++\\debug.txt' to 'C:\\Users\\Dragos\\MasThesis_output\\hash_120_eps_4.6_mod_10000_2887iter_1\\hash_120_eps_4.6_mod_10000_2887iter_1_hash.txt'\n",
      "Reading line 1/2888\n",
      "Hash is 120\n",
      "Reading line 2888/2888\n",
      "\n",
      "Wrote Kalman output to 'C:\\Users\\Dragos\\MasThesis_output\\hash_120_eps_4.6_mod_10000_2887iter_1\\hash_120_eps_4.6_mod_10000_2887iter_1_output.csv'\n",
      "Wrote gpio data to C:\\Users\\Dragos\\MasThesis_output\\power_gpio\\hash_120_eps_4.6_mod_10000_2887iter_1_gpio.csv'\n",
      "Wrote power data to C:\\Users\\Dragos\\MasThesis_output\\power_gpio\\hash_120_eps_4.6_mod_10000_2887iter_1_power.csv'\n"
     ]
    }
   ],
   "source": [
    "e = 4.6\n",
    "experiment_loop(\"hash\", hash_size=120, epsilon=e, mod_precision=10000, iterations=2887, attempt=1, output_dir=output_dir)"
   ]
  },
  {
   "cell_type": "code",
   "execution_count": 7,
   "metadata": {},
   "outputs": [
    {
     "name": "stdout",
     "output_type": "stream",
     "text": [
      "Copied 'C:\\Users\\Dragos\\Dropbox\\College\\MasThesis\\Git\\KalmanC++\\debug.txt' to 'C:\\Users\\Dragos\\MasThesis_output\\hash_120_eps_4.7_mod_10000_2887iter_1\\hash_120_eps_4.7_mod_10000_2887iter_1_hash.txt'\n",
      "Reading line 1/2888\n",
      "Hash is 120\n",
      "Reading line 2888/2888\n",
      "\n",
      "Wrote Kalman output to 'C:\\Users\\Dragos\\MasThesis_output\\hash_120_eps_4.7_mod_10000_2887iter_1\\hash_120_eps_4.7_mod_10000_2887iter_1_output.csv'\n",
      "Wrote gpio data to C:\\Users\\Dragos\\MasThesis_output\\power_gpio\\hash_120_eps_4.7_mod_10000_2887iter_1_gpio.csv'\n",
      "Wrote power data to C:\\Users\\Dragos\\MasThesis_output\\power_gpio\\hash_120_eps_4.7_mod_10000_2887iter_1_power.csv'\n"
     ]
    }
   ],
   "source": [
    "e = 4.7\n",
    "experiment_loop(\"hash\", hash_size=120, epsilon=e, mod_precision=10000, iterations=2887, attempt=1, output_dir=output_dir)"
   ]
  },
  {
   "cell_type": "code",
   "execution_count": 8,
   "metadata": {},
   "outputs": [
    {
     "name": "stdout",
     "output_type": "stream",
     "text": [
      "Copied 'C:\\Users\\Dragos\\Dropbox\\College\\MasThesis\\Git\\KalmanC++\\debug.txt' to 'C:\\Users\\Dragos\\MasThesis_output\\hash_120_eps_4.8_mod_10000_2887iter_1\\hash_120_eps_4.8_mod_10000_2887iter_1_hash.txt'\n",
      "Reading line 1/2888\n",
      "Hash is 120\n",
      "Reading line 2888/2888\n",
      "\n",
      "Wrote Kalman output to 'C:\\Users\\Dragos\\MasThesis_output\\hash_120_eps_4.8_mod_10000_2887iter_1\\hash_120_eps_4.8_mod_10000_2887iter_1_output.csv'\n",
      "Wrote gpio data to C:\\Users\\Dragos\\MasThesis_output\\power_gpio\\hash_120_eps_4.8_mod_10000_2887iter_1_gpio.csv'\n",
      "Wrote power data to C:\\Users\\Dragos\\MasThesis_output\\power_gpio\\hash_120_eps_4.8_mod_10000_2887iter_1_power.csv'\n"
     ]
    }
   ],
   "source": [
    "e = 4.8\n",
    "experiment_loop(\"hash\", hash_size=120, epsilon=e, mod_precision=10000, iterations=2887, attempt=1, output_dir=output_dir)"
   ]
  },
  {
   "cell_type": "code",
   "execution_count": 9,
   "metadata": {},
   "outputs": [
    {
     "name": "stdout",
     "output_type": "stream",
     "text": [
      "Copied 'C:\\Users\\Dragos\\Dropbox\\College\\MasThesis\\Git\\KalmanC++\\debug.txt' to 'C:\\Users\\Dragos\\MasThesis_output\\hash_120_eps_4.9_mod_10000_2887iter_1\\hash_120_eps_4.9_mod_10000_2887iter_1_hash.txt'\n",
      "Reading line 1/2888\n",
      "Hash is 120\n",
      "Reading line 2888/2888\n",
      "\n",
      "Wrote Kalman output to 'C:\\Users\\Dragos\\MasThesis_output\\hash_120_eps_4.9_mod_10000_2887iter_1\\hash_120_eps_4.9_mod_10000_2887iter_1_output.csv'\n",
      "Wrote gpio data to C:\\Users\\Dragos\\MasThesis_output\\power_gpio\\hash_120_eps_4.9_mod_10000_2887iter_1_gpio.csv'\n",
      "Wrote power data to C:\\Users\\Dragos\\MasThesis_output\\power_gpio\\hash_120_eps_4.9_mod_10000_2887iter_1_power.csv'\n"
     ]
    }
   ],
   "source": [
    "e = 4.9\n",
    "experiment_loop(\"hash\", hash_size=120, epsilon=e, mod_precision=10000, iterations=2887, attempt=1, output_dir=output_dir)"
   ]
  },
  {
   "cell_type": "code",
   "execution_count": 4,
   "metadata": {},
   "outputs": [
    {
     "name": "stdout",
     "output_type": "stream",
     "text": [
      "Copied 'C:\\Users\\Dragos\\Dropbox\\College\\MasThesis\\Git\\KalmanC++\\debug.txt' to 'C:\\Users\\Dragos\\MasThesis_output\\hash_120_eps_5.0_mod_10000_2887iter_1\\hash_120_eps_5.0_mod_10000_2887iter_1_hash.txt'\n",
      "Reading line 1/2888\n",
      "Hash is 120\n",
      "Reading line 2888/2888\n",
      "\n",
      "Wrote Kalman output to 'C:\\Users\\Dragos\\MasThesis_output\\hash_120_eps_5.0_mod_10000_2887iter_1\\hash_120_eps_5.0_mod_10000_2887iter_1_output.csv'\n",
      "Wrote gpio data to C:\\Users\\Dragos\\MasThesis_output\\power_gpio\\hash_120_eps_5.0_mod_10000_2887iter_1_gpio.csv'\n",
      "Wrote power data to C:\\Users\\Dragos\\MasThesis_output\\power_gpio\\hash_120_eps_5.0_mod_10000_2887iter_1_power.csv'\n"
     ]
    }
   ],
   "source": [
    "e = 5.0\n",
    "experiment_loop(\"hash\", hash_size=120, epsilon=e, mod_precision=10000, iterations=2887, attempt=1, output_dir=output_dir)"
   ]
  },
  {
   "cell_type": "code",
   "execution_count": 5,
   "metadata": {},
   "outputs": [
    {
     "name": "stdout",
     "output_type": "stream",
     "text": [
      "Copied 'C:\\Users\\Dragos\\Dropbox\\College\\MasThesis\\Git\\KalmanC++\\debug.txt' to 'C:\\Users\\Dragos\\MasThesis_output\\hash_120_eps_5.1_mod_10000_2887iter_1\\hash_120_eps_5.1_mod_10000_2887iter_1_hash.txt'\n",
      "Reading line 1/2888\n",
      "Hash is 120\n",
      "Reading line 2888/2888\n",
      "\n",
      "Wrote Kalman output to 'C:\\Users\\Dragos\\MasThesis_output\\hash_120_eps_5.1_mod_10000_2887iter_1\\hash_120_eps_5.1_mod_10000_2887iter_1_output.csv'\n",
      "Wrote gpio data to C:\\Users\\Dragos\\MasThesis_output\\power_gpio\\hash_120_eps_5.1_mod_10000_2887iter_1_gpio.csv'\n",
      "Wrote power data to C:\\Users\\Dragos\\MasThesis_output\\power_gpio\\hash_120_eps_5.1_mod_10000_2887iter_1_power.csv'\n"
     ]
    }
   ],
   "source": [
    "e = 5.1\n",
    "experiment_loop(\"hash\", hash_size=120, epsilon=e, mod_precision=10000, iterations=2887, attempt=1, output_dir=output_dir)"
   ]
  },
  {
   "cell_type": "code",
   "execution_count": 6,
   "metadata": {},
   "outputs": [
    {
     "name": "stdout",
     "output_type": "stream",
     "text": [
      "Copied 'C:\\Users\\Dragos\\Dropbox\\College\\MasThesis\\Git\\KalmanC++\\debug.txt' to 'C:\\Users\\Dragos\\MasThesis_output\\hash_120_eps_5.2_mod_10000_2887iter_1\\hash_120_eps_5.2_mod_10000_2887iter_1_hash.txt'\n",
      "Reading line 1/2888\n",
      "Hash is 120\n",
      "Reading line 2888/2888\n",
      "\n",
      "Wrote Kalman output to 'C:\\Users\\Dragos\\MasThesis_output\\hash_120_eps_5.2_mod_10000_2887iter_1\\hash_120_eps_5.2_mod_10000_2887iter_1_output.csv'\n",
      "Wrote gpio data to C:\\Users\\Dragos\\MasThesis_output\\power_gpio\\hash_120_eps_5.2_mod_10000_2887iter_1_gpio.csv'\n",
      "Wrote power data to C:\\Users\\Dragos\\MasThesis_output\\power_gpio\\hash_120_eps_5.2_mod_10000_2887iter_1_power.csv'\n"
     ]
    }
   ],
   "source": [
    "e = 5.2\n",
    "experiment_loop(\"hash\", hash_size=120, epsilon=e, mod_precision=10000, iterations=2887, attempt=1, output_dir=output_dir)"
   ]
  },
  {
   "cell_type": "code",
   "execution_count": null,
   "metadata": {},
   "outputs": [
    {
     "name": "stdout",
     "output_type": "stream",
     "text": [
      "Copied 'C:\\Users\\Dragos\\Dropbox\\College\\MasThesis\\Git\\KalmanC++\\debug.txt' to 'C:\\Users\\Dragos\\MasThesis_output\\hash_120_eps_5.3_mod_10000_2887iter_1\\hash_120_eps_5.3_mod_10000_2887iter_1_hash.txt'\n",
      "Reading line 1/2888\n",
      "Hash is 120\n",
      "Reading line 2027/2888"
     ]
    }
   ],
   "source": [
    "e = 5.3\n",
    "experiment_loop(\"hash\", hash_size=120, epsilon=e, mod_precision=10000, iterations=2887, attempt=1, output_dir=output_dir)"
   ]
  },
  {
   "cell_type": "code",
   "execution_count": null,
   "metadata": {},
   "outputs": [],
   "source": [
    "e = 5.4\n",
    "experiment_loop(\"hash\", hash_size=120, epsilon=e, mod_precision=10000, iterations=2887, attempt=1, output_dir=output_dir)"
   ]
  },
  {
   "cell_type": "code",
   "execution_count": null,
   "metadata": {},
   "outputs": [],
   "source": [
    "e = 5.5\n",
    "experiment_loop(\"hash\", hash_size=120, epsilon=e, mod_precision=10000, iterations=2887, attempt=1, output_dir=output_dir)"
   ]
  },
  {
   "cell_type": "code",
   "execution_count": null,
   "metadata": {},
   "outputs": [],
   "source": [
    "e = 5.6\n",
    "experiment_loop(\"hash\", hash_size=120, epsilon=e, mod_precision=10000, iterations=2887, attempt=1, output_dir=output_dir)"
   ]
  },
  {
   "cell_type": "code",
   "execution_count": null,
   "metadata": {},
   "outputs": [],
   "source": [
    "e = 5.7\n",
    "experiment_loop(\"hash\", hash_size=120, epsilon=e, mod_precision=10000, iterations=2887, attempt=1, output_dir=output_dir)"
   ]
  },
  {
   "cell_type": "code",
   "execution_count": null,
   "metadata": {},
   "outputs": [],
   "source": [
    "e = 5.8\n",
    "experiment_loop(\"hash\", hash_size=120, epsilon=e, mod_precision=10000, iterations=2887, attempt=1, output_dir=output_dir)"
   ]
  },
  {
   "cell_type": "code",
   "execution_count": null,
   "metadata": {},
   "outputs": [],
   "source": [
    "e = 5.9\n",
    "experiment_loop(\"hash\", hash_size=120, epsilon=e, mod_precision=10000, iterations=2887, attempt=1, output_dir=output_dir)"
   ]
  },
  {
   "cell_type": "code",
   "execution_count": null,
   "metadata": {},
   "outputs": [],
   "source": []
  }
 ],
 "metadata": {
  "kernelspec": {
   "display_name": "Python (py36_32)",
   "language": "python",
   "name": "py36_32"
  },
  "language_info": {
   "codemirror_mode": {
    "name": "ipython",
    "version": 3
   },
   "file_extension": ".py",
   "mimetype": "text/x-python",
   "name": "python",
   "nbconvert_exporter": "python",
   "pygments_lexer": "ipython3",
   "version": "3.6.5"
  }
 },
 "nbformat": 4,
 "nbformat_minor": 2
}
