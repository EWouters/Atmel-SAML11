{
 "cells": [
  {
   "cell_type": "code",
   "execution_count": null,
   "metadata": {},
   "outputs": [],
   "source": [
    "from experiment.loops import experiment_loop, averages_loop, sizes_loop"
   ]
  },
  {
   "cell_type": "code",
   "execution_count": null,
   "metadata": {},
   "outputs": [],
   "source": [
    "output_dir = \"C:\\\\Users\\\\Dragos\\\\MasThesis_output\""
   ]
  },
  {
   "cell_type": "markdown",
   "metadata": {},
   "source": [
    "**Experiments**"
   ]
  },
  {
   "cell_type": "code",
   "execution_count": 11,
   "metadata": {},
   "outputs": [
    {
     "data": {
      "text/plain": [
       "26400"
      ]
     },
     "execution_count": 11,
     "metadata": {},
     "output_type": "execute_result"
    }
   ],
   "source": [
    "epsilons = [x/10 for x in list(range(60, 71, 1))]\n",
    "len(epsilons) * 40 * 60"
   ]
  },
  {
   "cell_type": "code",
   "execution_count": null,
   "metadata": {},
   "outputs": [],
   "source": []
  },
  {
   "cell_type": "code",
   "execution_count": null,
   "metadata": {},
   "outputs": [],
   "source": [
    "e = 6.0\n",
    "for a in range(1,6): experiment_loop(\"hash\", hash_size=120, epsilon=e, mod_precision=10000, iterations=2887, attempt=a, output_dir=output_dir)"
   ]
  },
  {
   "cell_type": "code",
   "execution_count": null,
   "metadata": {},
   "outputs": [],
   "source": [
    "e = 6.1\n",
    "for a in range(1,6): experiment_loop(\"hash\", hash_size=120, epsilon=e, mod_precision=10000, iterations=2887, attempt=a, output_dir=output_dir)"
   ]
  },
  {
   "cell_type": "code",
   "execution_count": null,
   "metadata": {},
   "outputs": [],
   "source": [
    "e = 6.2\n",
    "for a in range(1,6): experiment_loop(\"hash\", hash_size=120, epsilon=e, mod_precision=10000, iterations=2887, attempt=a, output_dir=output_dir)"
   ]
  },
  {
   "cell_type": "code",
   "execution_count": null,
   "metadata": {},
   "outputs": [],
   "source": [
    "e = 6.3\n",
    "for a in range(1,6): experiment_loop(\"hash\", hash_size=120, epsilon=e, mod_precision=10000, iterations=2887, attempt=a, output_dir=output_dir)"
   ]
  },
  {
   "cell_type": "code",
   "execution_count": null,
   "metadata": {},
   "outputs": [],
   "source": [
    "e = 6.4\n",
    "for a in range(1,6): experiment_loop(\"hash\", hash_size=120, epsilon=e, mod_precision=10000, iterations=2887, attempt=a, output_dir=output_dir)"
   ]
  },
  {
   "cell_type": "code",
   "execution_count": null,
   "metadata": {},
   "outputs": [],
   "source": [
    "e = 6.5\n",
    "for a in range(1,6): experiment_loop(\"hash\", hash_size=120, epsilon=e, mod_precision=10000, iterations=2887, attempt=a, output_dir=output_dir)"
   ]
  },
  {
   "cell_type": "code",
   "execution_count": null,
   "metadata": {},
   "outputs": [],
   "source": [
    "e = 6.6\n",
    "for a in range(1,6): experiment_loop(\"hash\", hash_size=120, epsilon=e, mod_precision=10000, iterations=2887, attempt=a, output_dir=output_dir)"
   ]
  },
  {
   "cell_type": "code",
   "execution_count": null,
   "metadata": {},
   "outputs": [],
   "source": [
    "e = 6.7\n",
    "for a in range(1,6): experiment_loop(\"hash\", hash_size=120, epsilon=e, mod_precision=10000, iterations=2887, attempt=a, output_dir=output_dir)"
   ]
  },
  {
   "cell_type": "code",
   "execution_count": null,
   "metadata": {},
   "outputs": [],
   "source": [
    "e = 6.8\n",
    "for a in range(1,6): experiment_loop(\"hash\", hash_size=120, epsilon=e, mod_precision=10000, iterations=2887, attempt=a, output_dir=output_dir)"
   ]
  },
  {
   "cell_type": "code",
   "execution_count": null,
   "metadata": {},
   "outputs": [],
   "source": [
    "e = 6.9\n",
    "for a in range(1,6): experiment_loop(\"hash\", hash_size=120, epsilon=e, mod_precision=10000, iterations=2887, attempt=a, output_dir=output_dir)"
   ]
  },
  {
   "cell_type": "code",
   "execution_count": null,
   "metadata": {},
   "outputs": [],
   "source": [
    "e = 7.0\n",
    "for a in range(1,6): experiment_loop(\"hash\", hash_size=120, epsilon=e, mod_precision=10000, iterations=2887, attempt=a, output_dir=output_dir)"
   ]
  },
  {
   "cell_type": "markdown",
   "metadata": {},
   "source": [
    "**Averages**"
   ]
  },
  {
   "cell_type": "code",
   "execution_count": null,
   "metadata": {},
   "outputs": [],
   "source": []
  }
 ],
 "metadata": {
  "kernelspec": {
   "display_name": "Python (py36_32)",
   "language": "python",
   "name": "py36_32"
  },
  "language_info": {
   "codemirror_mode": {
    "name": "ipython",
    "version": 3
   },
   "file_extension": ".py",
   "mimetype": "text/x-python",
   "name": "python",
   "nbconvert_exporter": "python",
   "pygments_lexer": "ipython3",
   "version": "3.6.5"
  }
 },
 "nbformat": 4,
 "nbformat_minor": 2
}
