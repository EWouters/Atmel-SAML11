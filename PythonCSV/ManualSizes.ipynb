{
 "cells": [
  {
   "cell_type": "code",
   "execution_count": 1,
   "metadata": {},
   "outputs": [],
   "source": [
    "from experiment.loop import experiment_loop, averages_loop, sizes_loop"
   ]
  },
  {
   "cell_type": "code",
   "execution_count": 2,
   "metadata": {},
   "outputs": [],
   "source": [
    "output_dir = \"C:\\\\Users\\\\Dragos\\\\MasThesis_output\""
   ]
  },
  {
   "cell_type": "code",
   "execution_count": 3,
   "metadata": {},
   "outputs": [
    {
     "name": "stdout",
     "output_type": "stream",
     "text": [
      "Compiling in order to obtain the program sizes...\n",
      "Copied 'C:\\Users\\Dragos\\Dropbox\\College\\MasThesis\\Git\\KalmanARM\\main_baseline.c' to 'C:\\Users\\Dragos\\Dropbox\\College\\MasThesis\\Git\\KalmanARM\\STDIO_Redirect_w_TrustZone\\main.c'\n",
      "Written project size details to: 'C:\\Users\\Dragos\\MasThesis_output\\baseline_2887iter_1\\baseline_2887iter_1_size.txt'\n",
      "\n"
     ]
    }
   ],
   "source": [
    "sizes_loop(\"baseline\", hash_size=120, epsilon=0.00, mod_precision=10000, iterations=2887, attempt=1, output_dir=output_dir, verbose=2)"
   ]
  },
  {
   "cell_type": "code",
   "execution_count": 3,
   "metadata": {},
   "outputs": [
    {
     "name": "stdout",
     "output_type": "stream",
     "text": [
      "Compiling in order to obtain the program sizes...\n",
      "File 'C:\\Users\\Dragos\\Dropbox\\College\\MasThesis\\Git\\KalmanARM\\STDIO_Redirect_w_TrustZone\\HashTable\\hashtable.h' now contains:\n",
      "#define HASHSIZE 120\n",
      "#define EPSILON 0.050000\n",
      "#define MOD_PRECISION 10000\n",
      "#define EPSILON_MOD 500\n",
      "Copied 'C:\\Users\\Dragos\\Dropbox\\College\\MasThesis\\Git\\KalmanARM\\main_hash.c' to 'C:\\Users\\Dragos\\Dropbox\\College\\MasThesis\\Git\\KalmanARM\\STDIO_Redirect_w_TrustZone\\main.c'\n",
      "Written project size details to: 'C:\\Users\\Dragos\\MasThesis_output\\hash_120_eps_0.05_mod_10000_2887iter_1\\hash_120_eps_0.05_mod_10000_2887iter_1_size.txt'\n",
      "\n"
     ]
    }
   ],
   "source": [
    "e = 0.05\n",
    "sizes_loop(\"hash\", hash_size=120, epsilon=e, mod_precision=10000, iterations=2887, attempt=1, output_dir=output_dir, verbose=2)"
   ]
  },
  {
   "cell_type": "code",
   "execution_count": 4,
   "metadata": {},
   "outputs": [
    {
     "name": "stdout",
     "output_type": "stream",
     "text": [
      "Compiling in order to obtain the program sizes...\n",
      "File 'C:\\Users\\Dragos\\Dropbox\\College\\MasThesis\\Git\\KalmanARM\\STDIO_Redirect_w_TrustZone\\HashTable\\hashtable.h' now contains:\n",
      "#define HASHSIZE 120\n",
      "#define EPSILON 0.100000\n",
      "#define MOD_PRECISION 10000\n",
      "#define EPSILON_MOD 1000\n",
      "Copied 'C:\\Users\\Dragos\\Dropbox\\College\\MasThesis\\Git\\KalmanARM\\main_hash.c' to 'C:\\Users\\Dragos\\Dropbox\\College\\MasThesis\\Git\\KalmanARM\\STDIO_Redirect_w_TrustZone\\main.c'\n",
      "Written project size details to: 'C:\\Users\\Dragos\\MasThesis_output\\hash_120_eps_0.1_mod_10000_2887iter_1\\hash_120_eps_0.1_mod_10000_2887iter_1_size.txt'\n",
      "\n"
     ]
    }
   ],
   "source": [
    "e = 0.1\n",
    "sizes_loop(\"hash\", hash_size=120, epsilon=e, mod_precision=10000, iterations=2887, attempt=1, output_dir=output_dir, verbose=2)"
   ]
  },
  {
   "cell_type": "code",
   "execution_count": 5,
   "metadata": {},
   "outputs": [
    {
     "name": "stdout",
     "output_type": "stream",
     "text": [
      "Compiling in order to obtain the program sizes...\n",
      "File 'C:\\Users\\Dragos\\Dropbox\\College\\MasThesis\\Git\\KalmanARM\\STDIO_Redirect_w_TrustZone\\HashTable\\hashtable.h' now contains:\n",
      "#define HASHSIZE 120\n",
      "#define EPSILON 0.200000\n",
      "#define MOD_PRECISION 10000\n",
      "#define EPSILON_MOD 2000\n",
      "Copied 'C:\\Users\\Dragos\\Dropbox\\College\\MasThesis\\Git\\KalmanARM\\main_hash.c' to 'C:\\Users\\Dragos\\Dropbox\\College\\MasThesis\\Git\\KalmanARM\\STDIO_Redirect_w_TrustZone\\main.c'\n",
      "Written project size details to: 'C:\\Users\\Dragos\\MasThesis_output\\hash_120_eps_0.2_mod_10000_2887iter_1\\hash_120_eps_0.2_mod_10000_2887iter_1_size.txt'\n",
      "\n"
     ]
    }
   ],
   "source": [
    "e = 0.2\n",
    "sizes_loop(\"hash\", hash_size=120, epsilon=e, mod_precision=10000, iterations=2887, attempt=1, output_dir=output_dir, verbose=2)"
   ]
  },
  {
   "cell_type": "code",
   "execution_count": 6,
   "metadata": {},
   "outputs": [
    {
     "name": "stdout",
     "output_type": "stream",
     "text": [
      "Compiling in order to obtain the program sizes...\n",
      "File 'C:\\Users\\Dragos\\Dropbox\\College\\MasThesis\\Git\\KalmanARM\\STDIO_Redirect_w_TrustZone\\HashTable\\hashtable.h' now contains:\n",
      "#define HASHSIZE 120\n",
      "#define EPSILON 0.300000\n",
      "#define MOD_PRECISION 10000\n",
      "#define EPSILON_MOD 3000\n",
      "Copied 'C:\\Users\\Dragos\\Dropbox\\College\\MasThesis\\Git\\KalmanARM\\main_hash.c' to 'C:\\Users\\Dragos\\Dropbox\\College\\MasThesis\\Git\\KalmanARM\\STDIO_Redirect_w_TrustZone\\main.c'\n",
      "Written project size details to: 'C:\\Users\\Dragos\\MasThesis_output\\hash_120_eps_0.3_mod_10000_2887iter_1\\hash_120_eps_0.3_mod_10000_2887iter_1_size.txt'\n",
      "\n"
     ]
    }
   ],
   "source": [
    "e = 0.3\n",
    "sizes_loop(\"hash\", hash_size=120, epsilon=e, mod_precision=10000, iterations=2887, attempt=1, output_dir=output_dir, verbose=2)"
   ]
  },
  {
   "cell_type": "code",
   "execution_count": 7,
   "metadata": {},
   "outputs": [
    {
     "name": "stdout",
     "output_type": "stream",
     "text": [
      "Compiling in order to obtain the program sizes...\n",
      "File 'C:\\Users\\Dragos\\Dropbox\\College\\MasThesis\\Git\\KalmanARM\\STDIO_Redirect_w_TrustZone\\HashTable\\hashtable.h' now contains:\n",
      "#define HASHSIZE 120\n",
      "#define EPSILON 0.400000\n",
      "#define MOD_PRECISION 10000\n",
      "#define EPSILON_MOD 4000\n",
      "Copied 'C:\\Users\\Dragos\\Dropbox\\College\\MasThesis\\Git\\KalmanARM\\main_hash.c' to 'C:\\Users\\Dragos\\Dropbox\\College\\MasThesis\\Git\\KalmanARM\\STDIO_Redirect_w_TrustZone\\main.c'\n",
      "Written project size details to: 'C:\\Users\\Dragos\\MasThesis_output\\hash_120_eps_0.4_mod_10000_2887iter_1\\hash_120_eps_0.4_mod_10000_2887iter_1_size.txt'\n",
      "\n"
     ]
    }
   ],
   "source": [
    "e = 0.4\n",
    "sizes_loop(\"hash\", hash_size=120, epsilon=e, mod_precision=10000, iterations=2887, attempt=1, output_dir=output_dir, verbose=2)"
   ]
  },
  {
   "cell_type": "code",
   "execution_count": 8,
   "metadata": {},
   "outputs": [
    {
     "name": "stdout",
     "output_type": "stream",
     "text": [
      "Compiling in order to obtain the program sizes...\n",
      "File 'C:\\Users\\Dragos\\Dropbox\\College\\MasThesis\\Git\\KalmanARM\\STDIO_Redirect_w_TrustZone\\HashTable\\hashtable.h' now contains:\n",
      "#define HASHSIZE 120\n",
      "#define EPSILON 0.500000\n",
      "#define MOD_PRECISION 10000\n",
      "#define EPSILON_MOD 5000\n",
      "Copied 'C:\\Users\\Dragos\\Dropbox\\College\\MasThesis\\Git\\KalmanARM\\main_hash.c' to 'C:\\Users\\Dragos\\Dropbox\\College\\MasThesis\\Git\\KalmanARM\\STDIO_Redirect_w_TrustZone\\main.c'\n",
      "Written project size details to: 'C:\\Users\\Dragos\\MasThesis_output\\hash_120_eps_0.5_mod_10000_2887iter_1\\hash_120_eps_0.5_mod_10000_2887iter_1_size.txt'\n",
      "\n"
     ]
    }
   ],
   "source": [
    "e = 0.5\n",
    "sizes_loop(\"hash\", hash_size=120, epsilon=e, mod_precision=10000, iterations=2887, attempt=1, output_dir=output_dir, verbose=2)"
   ]
  },
  {
   "cell_type": "code",
   "execution_count": 9,
   "metadata": {},
   "outputs": [
    {
     "name": "stdout",
     "output_type": "stream",
     "text": [
      "Compiling in order to obtain the program sizes...\n",
      "File 'C:\\Users\\Dragos\\Dropbox\\College\\MasThesis\\Git\\KalmanARM\\STDIO_Redirect_w_TrustZone\\HashTable\\hashtable.h' now contains:\n",
      "#define HASHSIZE 120\n",
      "#define EPSILON 0.600000\n",
      "#define MOD_PRECISION 10000\n",
      "#define EPSILON_MOD 6000\n",
      "Copied 'C:\\Users\\Dragos\\Dropbox\\College\\MasThesis\\Git\\KalmanARM\\main_hash.c' to 'C:\\Users\\Dragos\\Dropbox\\College\\MasThesis\\Git\\KalmanARM\\STDIO_Redirect_w_TrustZone\\main.c'\n",
      "Written project size details to: 'C:\\Users\\Dragos\\MasThesis_output\\hash_120_eps_0.6_mod_10000_2887iter_1\\hash_120_eps_0.6_mod_10000_2887iter_1_size.txt'\n",
      "\n"
     ]
    }
   ],
   "source": [
    "e = 0.6\n",
    "sizes_loop(\"hash\", hash_size=120, epsilon=e, mod_precision=10000, iterations=2887, attempt=1, output_dir=output_dir, verbose=2)"
   ]
  },
  {
   "cell_type": "code",
   "execution_count": 10,
   "metadata": {},
   "outputs": [
    {
     "name": "stdout",
     "output_type": "stream",
     "text": [
      "Compiling in order to obtain the program sizes...\n",
      "File 'C:\\Users\\Dragos\\Dropbox\\College\\MasThesis\\Git\\KalmanARM\\STDIO_Redirect_w_TrustZone\\HashTable\\hashtable.h' now contains:\n",
      "#define HASHSIZE 120\n",
      "#define EPSILON 0.700000\n",
      "#define MOD_PRECISION 10000\n",
      "#define EPSILON_MOD 7000\n",
      "Copied 'C:\\Users\\Dragos\\Dropbox\\College\\MasThesis\\Git\\KalmanARM\\main_hash.c' to 'C:\\Users\\Dragos\\Dropbox\\College\\MasThesis\\Git\\KalmanARM\\STDIO_Redirect_w_TrustZone\\main.c'\n",
      "Written project size details to: 'C:\\Users\\Dragos\\MasThesis_output\\hash_120_eps_0.7_mod_10000_2887iter_1\\hash_120_eps_0.7_mod_10000_2887iter_1_size.txt'\n",
      "\n"
     ]
    }
   ],
   "source": [
    "e = 0.7\n",
    "sizes_loop(\"hash\", hash_size=120, epsilon=e, mod_precision=10000, iterations=2887, attempt=1, output_dir=output_dir, verbose=2)"
   ]
  },
  {
   "cell_type": "code",
   "execution_count": 13,
   "metadata": {},
   "outputs": [
    {
     "name": "stdout",
     "output_type": "stream",
     "text": [
      "Compiling in order to obtain the program sizes...\n",
      "File 'C:\\Users\\Dragos\\Dropbox\\College\\MasThesis\\Git\\KalmanARM\\STDIO_Redirect_w_TrustZone\\HashTable\\hashtable.h' now contains:\n",
      "#define HASHSIZE 120\n",
      "#define EPSILON 0.800000\n",
      "#define MOD_PRECISION 10000\n",
      "#define EPSILON_MOD 8000\n",
      "Copied 'C:\\Users\\Dragos\\Dropbox\\College\\MasThesis\\Git\\KalmanARM\\main_hash.c' to 'C:\\Users\\Dragos\\Dropbox\\College\\MasThesis\\Git\\KalmanARM\\STDIO_Redirect_w_TrustZone\\main.c'\n",
      "Written project size details to: 'C:\\Users\\Dragos\\MasThesis_output\\hash_120_eps_0.8_mod_10000_2887iter_1\\hash_120_eps_0.8_mod_10000_2887iter_1_size.txt'\n",
      "\n"
     ]
    }
   ],
   "source": [
    "e = 0.8\n",
    "sizes_loop(\"hash\", hash_size=120, epsilon=e, mod_precision=10000, iterations=2887, attempt=1, output_dir=output_dir, verbose=2)"
   ]
  },
  {
   "cell_type": "code",
   "execution_count": 12,
   "metadata": {},
   "outputs": [
    {
     "name": "stdout",
     "output_type": "stream",
     "text": [
      "Compiling in order to obtain the program sizes...\n",
      "File 'C:\\Users\\Dragos\\Dropbox\\College\\MasThesis\\Git\\KalmanARM\\STDIO_Redirect_w_TrustZone\\HashTable\\hashtable.h' now contains:\n",
      "#define HASHSIZE 120\n",
      "#define EPSILON 0.850000\n",
      "#define MOD_PRECISION 10000\n",
      "#define EPSILON_MOD 8500\n",
      "Copied 'C:\\Users\\Dragos\\Dropbox\\College\\MasThesis\\Git\\KalmanARM\\main_hash.c' to 'C:\\Users\\Dragos\\Dropbox\\College\\MasThesis\\Git\\KalmanARM\\STDIO_Redirect_w_TrustZone\\main.c'\n",
      "Written project size details to: 'C:\\Users\\Dragos\\MasThesis_output\\hash_120_eps_0.85_mod_10000_2887iter_1\\hash_120_eps_0.85_mod_10000_2887iter_1_size.txt'\n",
      "\n"
     ]
    }
   ],
   "source": [
    "e = 0.85\n",
    "sizes_loop(\"hash\", hash_size=120, epsilon=e, mod_precision=10000, iterations=2887, attempt=1, output_dir=output_dir, verbose=2)"
   ]
  },
  {
   "cell_type": "code",
   "execution_count": 14,
   "metadata": {},
   "outputs": [
    {
     "name": "stdout",
     "output_type": "stream",
     "text": [
      "Compiling in order to obtain the program sizes...\n",
      "File 'C:\\Users\\Dragos\\Dropbox\\College\\MasThesis\\Git\\KalmanARM\\STDIO_Redirect_w_TrustZone\\HashTable\\hashtable.h' now contains:\n",
      "#define HASHSIZE 120\n",
      "#define EPSILON 0.900000\n",
      "#define MOD_PRECISION 10000\n",
      "#define EPSILON_MOD 9000\n",
      "Copied 'C:\\Users\\Dragos\\Dropbox\\College\\MasThesis\\Git\\KalmanARM\\main_hash.c' to 'C:\\Users\\Dragos\\Dropbox\\College\\MasThesis\\Git\\KalmanARM\\STDIO_Redirect_w_TrustZone\\main.c'\n",
      "Written project size details to: 'C:\\Users\\Dragos\\MasThesis_output\\hash_120_eps_0.9_mod_10000_2887iter_1\\hash_120_eps_0.9_mod_10000_2887iter_1_size.txt'\n",
      "\n"
     ]
    }
   ],
   "source": [
    "e = 0.9\n",
    "sizes_loop(\"hash\", hash_size=120, epsilon=e, mod_precision=10000, iterations=2887, attempt=1, output_dir=output_dir, verbose=2)"
   ]
  },
  {
   "cell_type": "code",
   "execution_count": 5,
   "metadata": {},
   "outputs": [
    {
     "name": "stdout",
     "output_type": "stream",
     "text": [
      "Compiling in order to obtain the program sizes...\n",
      "File 'C:\\Users\\Dragos\\Dropbox\\College\\MasThesis\\Git\\KalmanARM\\STDIO_Redirect_w_TrustZone\\HashTable\\hashtable.h' now contains:\n",
      "#define HASHSIZE 120\n",
      "#define EPSILON 0.940000\n",
      "#define MOD_PRECISION 10000\n",
      "#define EPSILON_MOD 9400\n",
      "Copied 'C:\\Users\\Dragos\\Dropbox\\College\\MasThesis\\Git\\KalmanARM\\main_hash.c' to 'C:\\Users\\Dragos\\Dropbox\\College\\MasThesis\\Git\\KalmanARM\\STDIO_Redirect_w_TrustZone\\main.c'\n",
      "Written project size details to: 'C:\\Users\\Dragos\\MasThesis_output\\hash_120_eps_0.94_mod_10000_2887iter_1\\hash_120_eps_0.94_mod_10000_2887iter_1_size.txt'\n",
      "\n"
     ]
    }
   ],
   "source": [
    "e = 0.94\n",
    "sizes_loop(\"hash\", hash_size=120, epsilon=e, mod_precision=10000, iterations=2887, attempt=1, output_dir=output_dir, verbose=2)"
   ]
  },
  {
   "cell_type": "code",
   "execution_count": 6,
   "metadata": {},
   "outputs": [
    {
     "name": "stdout",
     "output_type": "stream",
     "text": [
      "Compiling in order to obtain the program sizes...\n",
      "File 'C:\\Users\\Dragos\\Dropbox\\College\\MasThesis\\Git\\KalmanARM\\STDIO_Redirect_w_TrustZone\\HashTable\\hashtable.h' now contains:\n",
      "#define HASHSIZE 120\n",
      "#define EPSILON 0.950000\n",
      "#define MOD_PRECISION 10000\n",
      "#define EPSILON_MOD 9500\n",
      "Copied 'C:\\Users\\Dragos\\Dropbox\\College\\MasThesis\\Git\\KalmanARM\\main_hash.c' to 'C:\\Users\\Dragos\\Dropbox\\College\\MasThesis\\Git\\KalmanARM\\STDIO_Redirect_w_TrustZone\\main.c'\n",
      "Written project size details to: 'C:\\Users\\Dragos\\MasThesis_output\\hash_120_eps_0.95_mod_10000_2887iter_1\\hash_120_eps_0.95_mod_10000_2887iter_1_size.txt'\n",
      "\n"
     ]
    }
   ],
   "source": [
    "e = 0.95\n",
    "sizes_loop(\"hash\", hash_size=120, epsilon=e, mod_precision=10000, iterations=2887, attempt=1, output_dir=output_dir, verbose=2)"
   ]
  },
  {
   "cell_type": "code",
   "execution_count": 7,
   "metadata": {},
   "outputs": [
    {
     "name": "stdout",
     "output_type": "stream",
     "text": [
      "Compiling in order to obtain the program sizes...\n",
      "File 'C:\\Users\\Dragos\\Dropbox\\College\\MasThesis\\Git\\KalmanARM\\STDIO_Redirect_w_TrustZone\\HashTable\\hashtable.h' now contains:\n",
      "#define HASHSIZE 120\n",
      "#define EPSILON 1.000000\n",
      "#define MOD_PRECISION 10000\n",
      "#define EPSILON_MOD 10000\n",
      "Copied 'C:\\Users\\Dragos\\Dropbox\\College\\MasThesis\\Git\\KalmanARM\\main_hash.c' to 'C:\\Users\\Dragos\\Dropbox\\College\\MasThesis\\Git\\KalmanARM\\STDIO_Redirect_w_TrustZone\\main.c'\n",
      "Written project size details to: 'C:\\Users\\Dragos\\MasThesis_output\\hash_120_eps_1.0_mod_10000_2887iter_1\\hash_120_eps_1.0_mod_10000_2887iter_1_size.txt'\n",
      "\n"
     ]
    }
   ],
   "source": [
    "e = 1.0\n",
    "sizes_loop(\"hash\", hash_size=120, epsilon=e, mod_precision=10000, iterations=2887, attempt=1, output_dir=output_dir, verbose=2)"
   ]
  },
  {
   "cell_type": "code",
   "execution_count": 8,
   "metadata": {},
   "outputs": [
    {
     "name": "stdout",
     "output_type": "stream",
     "text": [
      "Compiling in order to obtain the program sizes...\n",
      "File 'C:\\Users\\Dragos\\Dropbox\\College\\MasThesis\\Git\\KalmanARM\\STDIO_Redirect_w_TrustZone\\HashTable\\hashtable.h' now contains:\n",
      "#define HASHSIZE 120\n",
      "#define EPSILON 1.100000\n",
      "#define MOD_PRECISION 10000\n",
      "#define EPSILON_MOD 11000\n",
      "Copied 'C:\\Users\\Dragos\\Dropbox\\College\\MasThesis\\Git\\KalmanARM\\main_hash.c' to 'C:\\Users\\Dragos\\Dropbox\\College\\MasThesis\\Git\\KalmanARM\\STDIO_Redirect_w_TrustZone\\main.c'\n",
      "Written project size details to: 'C:\\Users\\Dragos\\MasThesis_output\\hash_120_eps_1.1_mod_10000_2887iter_1\\hash_120_eps_1.1_mod_10000_2887iter_1_size.txt'\n",
      "\n"
     ]
    }
   ],
   "source": [
    "e = 1.1\n",
    "sizes_loop(\"hash\", hash_size=120, epsilon=e, mod_precision=10000, iterations=2887, attempt=1, output_dir=output_dir, verbose=2)"
   ]
  },
  {
   "cell_type": "code",
   "execution_count": 9,
   "metadata": {},
   "outputs": [
    {
     "name": "stdout",
     "output_type": "stream",
     "text": [
      "Compiling in order to obtain the program sizes...\n",
      "File 'C:\\Users\\Dragos\\Dropbox\\College\\MasThesis\\Git\\KalmanARM\\STDIO_Redirect_w_TrustZone\\HashTable\\hashtable.h' now contains:\n",
      "#define HASHSIZE 120\n",
      "#define EPSILON 1.200000\n",
      "#define MOD_PRECISION 10000\n",
      "#define EPSILON_MOD 12000\n",
      "Copied 'C:\\Users\\Dragos\\Dropbox\\College\\MasThesis\\Git\\KalmanARM\\main_hash.c' to 'C:\\Users\\Dragos\\Dropbox\\College\\MasThesis\\Git\\KalmanARM\\STDIO_Redirect_w_TrustZone\\main.c'\n",
      "Written project size details to: 'C:\\Users\\Dragos\\MasThesis_output\\hash_120_eps_1.2_mod_10000_2887iter_1\\hash_120_eps_1.2_mod_10000_2887iter_1_size.txt'\n",
      "\n"
     ]
    }
   ],
   "source": [
    "e = 1.2\n",
    "sizes_loop(\"hash\", hash_size=120, epsilon=e, mod_precision=10000, iterations=2887, attempt=1, output_dir=output_dir, verbose=2)"
   ]
  },
  {
   "cell_type": "code",
   "execution_count": 10,
   "metadata": {},
   "outputs": [
    {
     "name": "stdout",
     "output_type": "stream",
     "text": [
      "Compiling in order to obtain the program sizes...\n",
      "File 'C:\\Users\\Dragos\\Dropbox\\College\\MasThesis\\Git\\KalmanARM\\STDIO_Redirect_w_TrustZone\\HashTable\\hashtable.h' now contains:\n",
      "#define HASHSIZE 120\n",
      "#define EPSILON 1.300000\n",
      "#define MOD_PRECISION 10000\n",
      "#define EPSILON_MOD 13000\n",
      "Copied 'C:\\Users\\Dragos\\Dropbox\\College\\MasThesis\\Git\\KalmanARM\\main_hash.c' to 'C:\\Users\\Dragos\\Dropbox\\College\\MasThesis\\Git\\KalmanARM\\STDIO_Redirect_w_TrustZone\\main.c'\n",
      "Written project size details to: 'C:\\Users\\Dragos\\MasThesis_output\\hash_120_eps_1.3_mod_10000_2887iter_1\\hash_120_eps_1.3_mod_10000_2887iter_1_size.txt'\n",
      "\n"
     ]
    }
   ],
   "source": [
    "e = 1.3\n",
    "sizes_loop(\"hash\", hash_size=120, epsilon=e, mod_precision=10000, iterations=2887, attempt=1, output_dir=output_dir, verbose=2)"
   ]
  },
  {
   "cell_type": "code",
   "execution_count": 11,
   "metadata": {},
   "outputs": [
    {
     "name": "stdout",
     "output_type": "stream",
     "text": [
      "Compiling in order to obtain the program sizes...\n",
      "File 'C:\\Users\\Dragos\\Dropbox\\College\\MasThesis\\Git\\KalmanARM\\STDIO_Redirect_w_TrustZone\\HashTable\\hashtable.h' now contains:\n",
      "#define HASHSIZE 120\n",
      "#define EPSILON 1.400000\n",
      "#define MOD_PRECISION 10000\n",
      "#define EPSILON_MOD 14000\n",
      "Copied 'C:\\Users\\Dragos\\Dropbox\\College\\MasThesis\\Git\\KalmanARM\\main_hash.c' to 'C:\\Users\\Dragos\\Dropbox\\College\\MasThesis\\Git\\KalmanARM\\STDIO_Redirect_w_TrustZone\\main.c'\n",
      "Written project size details to: 'C:\\Users\\Dragos\\MasThesis_output\\hash_120_eps_1.4_mod_10000_2887iter_1\\hash_120_eps_1.4_mod_10000_2887iter_1_size.txt'\n",
      "\n"
     ]
    }
   ],
   "source": [
    "e = 1.4\n",
    "sizes_loop(\"hash\", hash_size=120, epsilon=e, mod_precision=10000, iterations=2887, attempt=1, output_dir=output_dir, verbose=2)"
   ]
  },
  {
   "cell_type": "code",
   "execution_count": 12,
   "metadata": {},
   "outputs": [
    {
     "name": "stdout",
     "output_type": "stream",
     "text": [
      "Compiling in order to obtain the program sizes...\n",
      "File 'C:\\Users\\Dragos\\Dropbox\\College\\MasThesis\\Git\\KalmanARM\\STDIO_Redirect_w_TrustZone\\HashTable\\hashtable.h' now contains:\n",
      "#define HASHSIZE 120\n",
      "#define EPSILON 1.500000\n",
      "#define MOD_PRECISION 10000\n",
      "#define EPSILON_MOD 15000\n",
      "Copied 'C:\\Users\\Dragos\\Dropbox\\College\\MasThesis\\Git\\KalmanARM\\main_hash.c' to 'C:\\Users\\Dragos\\Dropbox\\College\\MasThesis\\Git\\KalmanARM\\STDIO_Redirect_w_TrustZone\\main.c'\n",
      "Written project size details to: 'C:\\Users\\Dragos\\MasThesis_output\\hash_120_eps_1.5_mod_10000_2887iter_1\\hash_120_eps_1.5_mod_10000_2887iter_1_size.txt'\n",
      "\n"
     ]
    }
   ],
   "source": [
    "e = 1.5\n",
    "sizes_loop(\"hash\", hash_size=120, epsilon=e, mod_precision=10000, iterations=2887, attempt=1, output_dir=output_dir, verbose=2)"
   ]
  },
  {
   "cell_type": "code",
   "execution_count": 13,
   "metadata": {},
   "outputs": [
    {
     "name": "stdout",
     "output_type": "stream",
     "text": [
      "Compiling in order to obtain the program sizes...\n",
      "File 'C:\\Users\\Dragos\\Dropbox\\College\\MasThesis\\Git\\KalmanARM\\STDIO_Redirect_w_TrustZone\\HashTable\\hashtable.h' now contains:\n",
      "#define HASHSIZE 120\n",
      "#define EPSILON 1.600000\n",
      "#define MOD_PRECISION 10000\n",
      "#define EPSILON_MOD 16000\n",
      "Copied 'C:\\Users\\Dragos\\Dropbox\\College\\MasThesis\\Git\\KalmanARM\\main_hash.c' to 'C:\\Users\\Dragos\\Dropbox\\College\\MasThesis\\Git\\KalmanARM\\STDIO_Redirect_w_TrustZone\\main.c'\n",
      "Written project size details to: 'C:\\Users\\Dragos\\MasThesis_output\\hash_120_eps_1.6_mod_10000_2887iter_1\\hash_120_eps_1.6_mod_10000_2887iter_1_size.txt'\n",
      "\n"
     ]
    }
   ],
   "source": [
    "e = 1.6\n",
    "sizes_loop(\"hash\", hash_size=120, epsilon=e, mod_precision=10000, iterations=2887, attempt=1, output_dir=output_dir, verbose=2)"
   ]
  },
  {
   "cell_type": "code",
   "execution_count": 14,
   "metadata": {},
   "outputs": [
    {
     "name": "stdout",
     "output_type": "stream",
     "text": [
      "Compiling in order to obtain the program sizes...\n",
      "File 'C:\\Users\\Dragos\\Dropbox\\College\\MasThesis\\Git\\KalmanARM\\STDIO_Redirect_w_TrustZone\\HashTable\\hashtable.h' now contains:\n",
      "#define HASHSIZE 120\n",
      "#define EPSILON 1.700000\n",
      "#define MOD_PRECISION 10000\n",
      "#define EPSILON_MOD 17000\n",
      "Copied 'C:\\Users\\Dragos\\Dropbox\\College\\MasThesis\\Git\\KalmanARM\\main_hash.c' to 'C:\\Users\\Dragos\\Dropbox\\College\\MasThesis\\Git\\KalmanARM\\STDIO_Redirect_w_TrustZone\\main.c'\n",
      "Written project size details to: 'C:\\Users\\Dragos\\MasThesis_output\\hash_120_eps_1.7_mod_10000_2887iter_1\\hash_120_eps_1.7_mod_10000_2887iter_1_size.txt'\n",
      "\n"
     ]
    }
   ],
   "source": [
    "e = 1.7\n",
    "sizes_loop(\"hash\", hash_size=120, epsilon=e, mod_precision=10000, iterations=2887, attempt=1, output_dir=output_dir, verbose=2)"
   ]
  },
  {
   "cell_type": "code",
   "execution_count": 15,
   "metadata": {},
   "outputs": [
    {
     "name": "stdout",
     "output_type": "stream",
     "text": [
      "Compiling in order to obtain the program sizes...\n",
      "File 'C:\\Users\\Dragos\\Dropbox\\College\\MasThesis\\Git\\KalmanARM\\STDIO_Redirect_w_TrustZone\\HashTable\\hashtable.h' now contains:\n",
      "#define HASHSIZE 120\n",
      "#define EPSILON 1.800000\n",
      "#define MOD_PRECISION 10000\n",
      "#define EPSILON_MOD 18000\n",
      "Copied 'C:\\Users\\Dragos\\Dropbox\\College\\MasThesis\\Git\\KalmanARM\\main_hash.c' to 'C:\\Users\\Dragos\\Dropbox\\College\\MasThesis\\Git\\KalmanARM\\STDIO_Redirect_w_TrustZone\\main.c'\n",
      "Written project size details to: 'C:\\Users\\Dragos\\MasThesis_output\\hash_120_eps_1.8_mod_10000_2887iter_1\\hash_120_eps_1.8_mod_10000_2887iter_1_size.txt'\n",
      "\n"
     ]
    }
   ],
   "source": [
    "e = 1.8\n",
    "sizes_loop(\"hash\", hash_size=120, epsilon=e, mod_precision=10000, iterations=2887, attempt=1, output_dir=output_dir, verbose=2)"
   ]
  },
  {
   "cell_type": "code",
   "execution_count": 16,
   "metadata": {},
   "outputs": [
    {
     "name": "stdout",
     "output_type": "stream",
     "text": [
      "Compiling in order to obtain the program sizes...\n",
      "File 'C:\\Users\\Dragos\\Dropbox\\College\\MasThesis\\Git\\KalmanARM\\STDIO_Redirect_w_TrustZone\\HashTable\\hashtable.h' now contains:\n",
      "#define HASHSIZE 120\n",
      "#define EPSILON 1.900000\n",
      "#define MOD_PRECISION 10000\n",
      "#define EPSILON_MOD 19000\n",
      "Copied 'C:\\Users\\Dragos\\Dropbox\\College\\MasThesis\\Git\\KalmanARM\\main_hash.c' to 'C:\\Users\\Dragos\\Dropbox\\College\\MasThesis\\Git\\KalmanARM\\STDIO_Redirect_w_TrustZone\\main.c'\n",
      "Written project size details to: 'C:\\Users\\Dragos\\MasThesis_output\\hash_120_eps_1.9_mod_10000_2887iter_1\\hash_120_eps_1.9_mod_10000_2887iter_1_size.txt'\n",
      "\n"
     ]
    }
   ],
   "source": [
    "e = 1.9\n",
    "sizes_loop(\"hash\", hash_size=120, epsilon=e, mod_precision=10000, iterations=2887, attempt=1, output_dir=output_dir, verbose=2)"
   ]
  },
  {
   "cell_type": "code",
   "execution_count": 17,
   "metadata": {},
   "outputs": [
    {
     "name": "stdout",
     "output_type": "stream",
     "text": [
      "Compiling in order to obtain the program sizes...\n",
      "File 'C:\\Users\\Dragos\\Dropbox\\College\\MasThesis\\Git\\KalmanARM\\STDIO_Redirect_w_TrustZone\\HashTable\\hashtable.h' now contains:\n",
      "#define HASHSIZE 120\n",
      "#define EPSILON 2.000000\n",
      "#define MOD_PRECISION 10000\n",
      "#define EPSILON_MOD 20000\n",
      "Copied 'C:\\Users\\Dragos\\Dropbox\\College\\MasThesis\\Git\\KalmanARM\\main_hash.c' to 'C:\\Users\\Dragos\\Dropbox\\College\\MasThesis\\Git\\KalmanARM\\STDIO_Redirect_w_TrustZone\\main.c'\n",
      "Written project size details to: 'C:\\Users\\Dragos\\MasThesis_output\\hash_120_eps_2.0_mod_10000_2887iter_1\\hash_120_eps_2.0_mod_10000_2887iter_1_size.txt'\n",
      "\n"
     ]
    }
   ],
   "source": [
    "e = 2.0\n",
    "sizes_loop(\"hash\", hash_size=120, epsilon=e, mod_precision=10000, iterations=2887, attempt=1, output_dir=output_dir, verbose=2)"
   ]
  },
  {
   "cell_type": "code",
   "execution_count": 18,
   "metadata": {},
   "outputs": [
    {
     "name": "stdout",
     "output_type": "stream",
     "text": [
      "Compiling in order to obtain the program sizes...\n",
      "File 'C:\\Users\\Dragos\\Dropbox\\College\\MasThesis\\Git\\KalmanARM\\STDIO_Redirect_w_TrustZone\\HashTable\\hashtable.h' now contains:\n",
      "#define HASHSIZE 120\n",
      "#define EPSILON 2.100000\n",
      "#define MOD_PRECISION 10000\n",
      "#define EPSILON_MOD 21000\n",
      "Copied 'C:\\Users\\Dragos\\Dropbox\\College\\MasThesis\\Git\\KalmanARM\\main_hash.c' to 'C:\\Users\\Dragos\\Dropbox\\College\\MasThesis\\Git\\KalmanARM\\STDIO_Redirect_w_TrustZone\\main.c'\n",
      "Written project size details to: 'C:\\Users\\Dragos\\MasThesis_output\\hash_120_eps_2.1_mod_10000_2887iter_1\\hash_120_eps_2.1_mod_10000_2887iter_1_size.txt'\n",
      "\n"
     ]
    }
   ],
   "source": [
    "e = 2.1\n",
    "sizes_loop(\"hash\", hash_size=120, epsilon=e, mod_precision=10000, iterations=2887, attempt=1, output_dir=output_dir, verbose=2)"
   ]
  },
  {
   "cell_type": "code",
   "execution_count": 19,
   "metadata": {},
   "outputs": [
    {
     "name": "stdout",
     "output_type": "stream",
     "text": [
      "Compiling in order to obtain the program sizes...\n",
      "File 'C:\\Users\\Dragos\\Dropbox\\College\\MasThesis\\Git\\KalmanARM\\STDIO_Redirect_w_TrustZone\\HashTable\\hashtable.h' now contains:\n",
      "#define HASHSIZE 120\n",
      "#define EPSILON 2.200000\n",
      "#define MOD_PRECISION 10000\n",
      "#define EPSILON_MOD 22000\n",
      "Copied 'C:\\Users\\Dragos\\Dropbox\\College\\MasThesis\\Git\\KalmanARM\\main_hash.c' to 'C:\\Users\\Dragos\\Dropbox\\College\\MasThesis\\Git\\KalmanARM\\STDIO_Redirect_w_TrustZone\\main.c'\n",
      "Written project size details to: 'C:\\Users\\Dragos\\MasThesis_output\\hash_120_eps_2.2_mod_10000_2887iter_1\\hash_120_eps_2.2_mod_10000_2887iter_1_size.txt'\n",
      "\n"
     ]
    }
   ],
   "source": [
    "e = 2.2\n",
    "sizes_loop(\"hash\", hash_size=120, epsilon=e, mod_precision=10000, iterations=2887, attempt=1, output_dir=output_dir, verbose=2)"
   ]
  },
  {
   "cell_type": "code",
   "execution_count": 20,
   "metadata": {},
   "outputs": [
    {
     "name": "stdout",
     "output_type": "stream",
     "text": [
      "Compiling in order to obtain the program sizes...\n",
      "File 'C:\\Users\\Dragos\\Dropbox\\College\\MasThesis\\Git\\KalmanARM\\STDIO_Redirect_w_TrustZone\\HashTable\\hashtable.h' now contains:\n",
      "#define HASHSIZE 120\n",
      "#define EPSILON 2.300000\n",
      "#define MOD_PRECISION 10000\n",
      "#define EPSILON_MOD 23000\n",
      "Copied 'C:\\Users\\Dragos\\Dropbox\\College\\MasThesis\\Git\\KalmanARM\\main_hash.c' to 'C:\\Users\\Dragos\\Dropbox\\College\\MasThesis\\Git\\KalmanARM\\STDIO_Redirect_w_TrustZone\\main.c'\n",
      "Written project size details to: 'C:\\Users\\Dragos\\MasThesis_output\\hash_120_eps_2.3_mod_10000_2887iter_1\\hash_120_eps_2.3_mod_10000_2887iter_1_size.txt'\n",
      "\n"
     ]
    }
   ],
   "source": [
    "e = 2.3\n",
    "sizes_loop(\"hash\", hash_size=120, epsilon=e, mod_precision=10000, iterations=2887, attempt=1, output_dir=output_dir, verbose=2)"
   ]
  },
  {
   "cell_type": "code",
   "execution_count": 21,
   "metadata": {},
   "outputs": [
    {
     "name": "stdout",
     "output_type": "stream",
     "text": [
      "Compiling in order to obtain the program sizes...\n",
      "File 'C:\\Users\\Dragos\\Dropbox\\College\\MasThesis\\Git\\KalmanARM\\STDIO_Redirect_w_TrustZone\\HashTable\\hashtable.h' now contains:\n",
      "#define HASHSIZE 120\n",
      "#define EPSILON 2.400000\n",
      "#define MOD_PRECISION 10000\n",
      "#define EPSILON_MOD 24000\n",
      "Copied 'C:\\Users\\Dragos\\Dropbox\\College\\MasThesis\\Git\\KalmanARM\\main_hash.c' to 'C:\\Users\\Dragos\\Dropbox\\College\\MasThesis\\Git\\KalmanARM\\STDIO_Redirect_w_TrustZone\\main.c'\n",
      "Written project size details to: 'C:\\Users\\Dragos\\MasThesis_output\\hash_120_eps_2.4_mod_10000_2887iter_1\\hash_120_eps_2.4_mod_10000_2887iter_1_size.txt'\n",
      "\n"
     ]
    }
   ],
   "source": [
    "e = 2.4\n",
    "sizes_loop(\"hash\", hash_size=120, epsilon=e, mod_precision=10000, iterations=2887, attempt=1, output_dir=output_dir, verbose=2)"
   ]
  },
  {
   "cell_type": "code",
   "execution_count": 22,
   "metadata": {},
   "outputs": [
    {
     "name": "stdout",
     "output_type": "stream",
     "text": [
      "Compiling in order to obtain the program sizes...\n",
      "File 'C:\\Users\\Dragos\\Dropbox\\College\\MasThesis\\Git\\KalmanARM\\STDIO_Redirect_w_TrustZone\\HashTable\\hashtable.h' now contains:\n",
      "#define HASHSIZE 120\n",
      "#define EPSILON 2.500000\n",
      "#define MOD_PRECISION 10000\n",
      "#define EPSILON_MOD 25000\n",
      "Copied 'C:\\Users\\Dragos\\Dropbox\\College\\MasThesis\\Git\\KalmanARM\\main_hash.c' to 'C:\\Users\\Dragos\\Dropbox\\College\\MasThesis\\Git\\KalmanARM\\STDIO_Redirect_w_TrustZone\\main.c'\n",
      "Written project size details to: 'C:\\Users\\Dragos\\MasThesis_output\\hash_120_eps_2.5_mod_10000_2887iter_1\\hash_120_eps_2.5_mod_10000_2887iter_1_size.txt'\n",
      "\n"
     ]
    }
   ],
   "source": [
    "e = 2.5\n",
    "sizes_loop(\"hash\", hash_size=120, epsilon=e, mod_precision=10000, iterations=2887, attempt=1, output_dir=output_dir, verbose=2)"
   ]
  },
  {
   "cell_type": "code",
   "execution_count": 23,
   "metadata": {},
   "outputs": [
    {
     "name": "stdout",
     "output_type": "stream",
     "text": [
      "Compiling in order to obtain the program sizes...\n",
      "File 'C:\\Users\\Dragos\\Dropbox\\College\\MasThesis\\Git\\KalmanARM\\STDIO_Redirect_w_TrustZone\\HashTable\\hashtable.h' now contains:\n",
      "#define HASHSIZE 120\n",
      "#define EPSILON 2.600000\n",
      "#define MOD_PRECISION 10000\n",
      "#define EPSILON_MOD 26000\n",
      "Copied 'C:\\Users\\Dragos\\Dropbox\\College\\MasThesis\\Git\\KalmanARM\\main_hash.c' to 'C:\\Users\\Dragos\\Dropbox\\College\\MasThesis\\Git\\KalmanARM\\STDIO_Redirect_w_TrustZone\\main.c'\n",
      "Written project size details to: 'C:\\Users\\Dragos\\MasThesis_output\\hash_120_eps_2.6_mod_10000_2887iter_1\\hash_120_eps_2.6_mod_10000_2887iter_1_size.txt'\n",
      "\n"
     ]
    }
   ],
   "source": [
    "e = 2.6\n",
    "sizes_loop(\"hash\", hash_size=120, epsilon=e, mod_precision=10000, iterations=2887, attempt=1, output_dir=output_dir, verbose=2)"
   ]
  },
  {
   "cell_type": "code",
   "execution_count": 24,
   "metadata": {},
   "outputs": [
    {
     "name": "stdout",
     "output_type": "stream",
     "text": [
      "Compiling in order to obtain the program sizes...\n",
      "File 'C:\\Users\\Dragos\\Dropbox\\College\\MasThesis\\Git\\KalmanARM\\STDIO_Redirect_w_TrustZone\\HashTable\\hashtable.h' now contains:\n",
      "#define HASHSIZE 120\n",
      "#define EPSILON 2.700000\n",
      "#define MOD_PRECISION 10000\n",
      "#define EPSILON_MOD 27000\n",
      "Copied 'C:\\Users\\Dragos\\Dropbox\\College\\MasThesis\\Git\\KalmanARM\\main_hash.c' to 'C:\\Users\\Dragos\\Dropbox\\College\\MasThesis\\Git\\KalmanARM\\STDIO_Redirect_w_TrustZone\\main.c'\n",
      "Written project size details to: 'C:\\Users\\Dragos\\MasThesis_output\\hash_120_eps_2.7_mod_10000_2887iter_1\\hash_120_eps_2.7_mod_10000_2887iter_1_size.txt'\n",
      "\n"
     ]
    }
   ],
   "source": [
    "e = 2.7\n",
    "sizes_loop(\"hash\", hash_size=120, epsilon=e, mod_precision=10000, iterations=2887, attempt=1, output_dir=output_dir, verbose=2)"
   ]
  },
  {
   "cell_type": "code",
   "execution_count": 25,
   "metadata": {},
   "outputs": [
    {
     "name": "stdout",
     "output_type": "stream",
     "text": [
      "Compiling in order to obtain the program sizes...\n",
      "File 'C:\\Users\\Dragos\\Dropbox\\College\\MasThesis\\Git\\KalmanARM\\STDIO_Redirect_w_TrustZone\\HashTable\\hashtable.h' now contains:\n",
      "#define HASHSIZE 120\n",
      "#define EPSILON 2.800000\n",
      "#define MOD_PRECISION 10000\n",
      "#define EPSILON_MOD 28000\n",
      "Copied 'C:\\Users\\Dragos\\Dropbox\\College\\MasThesis\\Git\\KalmanARM\\main_hash.c' to 'C:\\Users\\Dragos\\Dropbox\\College\\MasThesis\\Git\\KalmanARM\\STDIO_Redirect_w_TrustZone\\main.c'\n",
      "Written project size details to: 'C:\\Users\\Dragos\\MasThesis_output\\hash_120_eps_2.8_mod_10000_2887iter_1\\hash_120_eps_2.8_mod_10000_2887iter_1_size.txt'\n",
      "\n"
     ]
    }
   ],
   "source": [
    "e = 2.8\n",
    "sizes_loop(\"hash\", hash_size=120, epsilon=e, mod_precision=10000, iterations=2887, attempt=1, output_dir=output_dir, verbose=2)"
   ]
  },
  {
   "cell_type": "code",
   "execution_count": 26,
   "metadata": {},
   "outputs": [
    {
     "name": "stdout",
     "output_type": "stream",
     "text": [
      "Compiling in order to obtain the program sizes...\n",
      "File 'C:\\Users\\Dragos\\Dropbox\\College\\MasThesis\\Git\\KalmanARM\\STDIO_Redirect_w_TrustZone\\HashTable\\hashtable.h' now contains:\n",
      "#define HASHSIZE 120\n",
      "#define EPSILON 2.900000\n",
      "#define MOD_PRECISION 10000\n",
      "#define EPSILON_MOD 29000\n",
      "Copied 'C:\\Users\\Dragos\\Dropbox\\College\\MasThesis\\Git\\KalmanARM\\main_hash.c' to 'C:\\Users\\Dragos\\Dropbox\\College\\MasThesis\\Git\\KalmanARM\\STDIO_Redirect_w_TrustZone\\main.c'\n",
      "Written project size details to: 'C:\\Users\\Dragos\\MasThesis_output\\hash_120_eps_2.9_mod_10000_2887iter_1\\hash_120_eps_2.9_mod_10000_2887iter_1_size.txt'\n",
      "\n"
     ]
    }
   ],
   "source": [
    "e = 2.9\n",
    "sizes_loop(\"hash\", hash_size=120, epsilon=e, mod_precision=10000, iterations=2887, attempt=1, output_dir=output_dir, verbose=2)"
   ]
  },
  {
   "cell_type": "code",
   "execution_count": 27,
   "metadata": {},
   "outputs": [
    {
     "name": "stdout",
     "output_type": "stream",
     "text": [
      "Compiling in order to obtain the program sizes...\n",
      "File 'C:\\Users\\Dragos\\Dropbox\\College\\MasThesis\\Git\\KalmanARM\\STDIO_Redirect_w_TrustZone\\HashTable\\hashtable.h' now contains:\n",
      "#define HASHSIZE 120\n",
      "#define EPSILON 3.000000\n",
      "#define MOD_PRECISION 10000\n",
      "#define EPSILON_MOD 30000\n",
      "Copied 'C:\\Users\\Dragos\\Dropbox\\College\\MasThesis\\Git\\KalmanARM\\main_hash.c' to 'C:\\Users\\Dragos\\Dropbox\\College\\MasThesis\\Git\\KalmanARM\\STDIO_Redirect_w_TrustZone\\main.c'\n",
      "Written project size details to: 'C:\\Users\\Dragos\\MasThesis_output\\hash_120_eps_3.0_mod_10000_2887iter_1\\hash_120_eps_3.0_mod_10000_2887iter_1_size.txt'\n",
      "\n"
     ]
    }
   ],
   "source": [
    "e = 3.0\n",
    "sizes_loop(\"hash\", hash_size=120, epsilon=e, mod_precision=10000, iterations=2887, attempt=1, output_dir=output_dir, verbose=2)"
   ]
  },
  {
   "cell_type": "code",
   "execution_count": 28,
   "metadata": {},
   "outputs": [
    {
     "name": "stdout",
     "output_type": "stream",
     "text": [
      "Compiling in order to obtain the program sizes...\n",
      "File 'C:\\Users\\Dragos\\Dropbox\\College\\MasThesis\\Git\\KalmanARM\\STDIO_Redirect_w_TrustZone\\HashTable\\hashtable.h' now contains:\n",
      "#define HASHSIZE 120\n",
      "#define EPSILON 3.100000\n",
      "#define MOD_PRECISION 10000\n",
      "#define EPSILON_MOD 31000\n",
      "Copied 'C:\\Users\\Dragos\\Dropbox\\College\\MasThesis\\Git\\KalmanARM\\main_hash.c' to 'C:\\Users\\Dragos\\Dropbox\\College\\MasThesis\\Git\\KalmanARM\\STDIO_Redirect_w_TrustZone\\main.c'\n",
      "Written project size details to: 'C:\\Users\\Dragos\\MasThesis_output\\hash_120_eps_3.1_mod_10000_2887iter_1\\hash_120_eps_3.1_mod_10000_2887iter_1_size.txt'\n",
      "\n"
     ]
    }
   ],
   "source": [
    "e = 3.1\n",
    "sizes_loop(\"hash\", hash_size=120, epsilon=e, mod_precision=10000, iterations=2887, attempt=1, output_dir=output_dir, verbose=2)"
   ]
  },
  {
   "cell_type": "code",
   "execution_count": 29,
   "metadata": {},
   "outputs": [
    {
     "name": "stdout",
     "output_type": "stream",
     "text": [
      "Compiling in order to obtain the program sizes...\n",
      "File 'C:\\Users\\Dragos\\Dropbox\\College\\MasThesis\\Git\\KalmanARM\\STDIO_Redirect_w_TrustZone\\HashTable\\hashtable.h' now contains:\n",
      "#define HASHSIZE 120\n",
      "#define EPSILON 3.200000\n",
      "#define MOD_PRECISION 10000\n",
      "#define EPSILON_MOD 32000\n",
      "Copied 'C:\\Users\\Dragos\\Dropbox\\College\\MasThesis\\Git\\KalmanARM\\main_hash.c' to 'C:\\Users\\Dragos\\Dropbox\\College\\MasThesis\\Git\\KalmanARM\\STDIO_Redirect_w_TrustZone\\main.c'\n",
      "Written project size details to: 'C:\\Users\\Dragos\\MasThesis_output\\hash_120_eps_3.2_mod_10000_2887iter_1\\hash_120_eps_3.2_mod_10000_2887iter_1_size.txt'\n",
      "\n"
     ]
    }
   ],
   "source": [
    "e = 3.2\n",
    "sizes_loop(\"hash\", hash_size=120, epsilon=e, mod_precision=10000, iterations=2887, attempt=1, output_dir=output_dir, verbose=2)"
   ]
  },
  {
   "cell_type": "code",
   "execution_count": 30,
   "metadata": {},
   "outputs": [
    {
     "name": "stdout",
     "output_type": "stream",
     "text": [
      "Compiling in order to obtain the program sizes...\n",
      "File 'C:\\Users\\Dragos\\Dropbox\\College\\MasThesis\\Git\\KalmanARM\\STDIO_Redirect_w_TrustZone\\HashTable\\hashtable.h' now contains:\n",
      "#define HASHSIZE 120\n",
      "#define EPSILON 3.300000\n",
      "#define MOD_PRECISION 10000\n",
      "#define EPSILON_MOD 33000\n",
      "Copied 'C:\\Users\\Dragos\\Dropbox\\College\\MasThesis\\Git\\KalmanARM\\main_hash.c' to 'C:\\Users\\Dragos\\Dropbox\\College\\MasThesis\\Git\\KalmanARM\\STDIO_Redirect_w_TrustZone\\main.c'\n",
      "Written project size details to: 'C:\\Users\\Dragos\\MasThesis_output\\hash_120_eps_3.3_mod_10000_2887iter_1\\hash_120_eps_3.3_mod_10000_2887iter_1_size.txt'\n",
      "\n"
     ]
    }
   ],
   "source": [
    "e = 3.3\n",
    "sizes_loop(\"hash\", hash_size=120, epsilon=e, mod_precision=10000, iterations=2887, attempt=1, output_dir=output_dir, verbose=2)"
   ]
  },
  {
   "cell_type": "code",
   "execution_count": 31,
   "metadata": {},
   "outputs": [
    {
     "name": "stdout",
     "output_type": "stream",
     "text": [
      "Compiling in order to obtain the program sizes...\n",
      "File 'C:\\Users\\Dragos\\Dropbox\\College\\MasThesis\\Git\\KalmanARM\\STDIO_Redirect_w_TrustZone\\HashTable\\hashtable.h' now contains:\n",
      "#define HASHSIZE 120\n",
      "#define EPSILON 3.400000\n",
      "#define MOD_PRECISION 10000\n",
      "#define EPSILON_MOD 34000\n",
      "Copied 'C:\\Users\\Dragos\\Dropbox\\College\\MasThesis\\Git\\KalmanARM\\main_hash.c' to 'C:\\Users\\Dragos\\Dropbox\\College\\MasThesis\\Git\\KalmanARM\\STDIO_Redirect_w_TrustZone\\main.c'\n",
      "Written project size details to: 'C:\\Users\\Dragos\\MasThesis_output\\hash_120_eps_3.4_mod_10000_2887iter_1\\hash_120_eps_3.4_mod_10000_2887iter_1_size.txt'\n",
      "\n"
     ]
    }
   ],
   "source": [
    "e = 3.4\n",
    "sizes_loop(\"hash\", hash_size=120, epsilon=e, mod_precision=10000, iterations=2887, attempt=1, output_dir=output_dir, verbose=2)"
   ]
  },
  {
   "cell_type": "code",
   "execution_count": 32,
   "metadata": {},
   "outputs": [
    {
     "name": "stdout",
     "output_type": "stream",
     "text": [
      "Compiling in order to obtain the program sizes...\n",
      "File 'C:\\Users\\Dragos\\Dropbox\\College\\MasThesis\\Git\\KalmanARM\\STDIO_Redirect_w_TrustZone\\HashTable\\hashtable.h' now contains:\n",
      "#define HASHSIZE 120\n",
      "#define EPSILON 3.500000\n",
      "#define MOD_PRECISION 10000\n",
      "#define EPSILON_MOD 35000\n",
      "Copied 'C:\\Users\\Dragos\\Dropbox\\College\\MasThesis\\Git\\KalmanARM\\main_hash.c' to 'C:\\Users\\Dragos\\Dropbox\\College\\MasThesis\\Git\\KalmanARM\\STDIO_Redirect_w_TrustZone\\main.c'\n",
      "Written project size details to: 'C:\\Users\\Dragos\\MasThesis_output\\hash_120_eps_3.5_mod_10000_2887iter_1\\hash_120_eps_3.5_mod_10000_2887iter_1_size.txt'\n",
      "\n"
     ]
    }
   ],
   "source": [
    "e = 3.5\n",
    "sizes_loop(\"hash\", hash_size=120, epsilon=e, mod_precision=10000, iterations=2887, attempt=1, output_dir=output_dir, verbose=2)"
   ]
  },
  {
   "cell_type": "code",
   "execution_count": 33,
   "metadata": {},
   "outputs": [
    {
     "name": "stdout",
     "output_type": "stream",
     "text": [
      "Compiling in order to obtain the program sizes...\n",
      "File 'C:\\Users\\Dragos\\Dropbox\\College\\MasThesis\\Git\\KalmanARM\\STDIO_Redirect_w_TrustZone\\HashTable\\hashtable.h' now contains:\n",
      "#define HASHSIZE 120\n",
      "#define EPSILON 3.600000\n",
      "#define MOD_PRECISION 10000\n",
      "#define EPSILON_MOD 36000\n",
      "Copied 'C:\\Users\\Dragos\\Dropbox\\College\\MasThesis\\Git\\KalmanARM\\main_hash.c' to 'C:\\Users\\Dragos\\Dropbox\\College\\MasThesis\\Git\\KalmanARM\\STDIO_Redirect_w_TrustZone\\main.c'\n",
      "Written project size details to: 'C:\\Users\\Dragos\\MasThesis_output\\hash_120_eps_3.6_mod_10000_2887iter_1\\hash_120_eps_3.6_mod_10000_2887iter_1_size.txt'\n",
      "\n"
     ]
    }
   ],
   "source": [
    "e = 3.6\n",
    "sizes_loop(\"hash\", hash_size=120, epsilon=e, mod_precision=10000, iterations=2887, attempt=1, output_dir=output_dir, verbose=2)"
   ]
  },
  {
   "cell_type": "code",
   "execution_count": 34,
   "metadata": {},
   "outputs": [
    {
     "name": "stdout",
     "output_type": "stream",
     "text": [
      "Compiling in order to obtain the program sizes...\n",
      "File 'C:\\Users\\Dragos\\Dropbox\\College\\MasThesis\\Git\\KalmanARM\\STDIO_Redirect_w_TrustZone\\HashTable\\hashtable.h' now contains:\n",
      "#define HASHSIZE 120\n",
      "#define EPSILON 3.700000\n",
      "#define MOD_PRECISION 10000\n",
      "#define EPSILON_MOD 37000\n",
      "Copied 'C:\\Users\\Dragos\\Dropbox\\College\\MasThesis\\Git\\KalmanARM\\main_hash.c' to 'C:\\Users\\Dragos\\Dropbox\\College\\MasThesis\\Git\\KalmanARM\\STDIO_Redirect_w_TrustZone\\main.c'\n",
      "Written project size details to: 'C:\\Users\\Dragos\\MasThesis_output\\hash_120_eps_3.7_mod_10000_2887iter_1\\hash_120_eps_3.7_mod_10000_2887iter_1_size.txt'\n",
      "\n"
     ]
    }
   ],
   "source": [
    "e = 3.7\n",
    "sizes_loop(\"hash\", hash_size=120, epsilon=e, mod_precision=10000, iterations=2887, attempt=1, output_dir=output_dir, verbose=2)"
   ]
  },
  {
   "cell_type": "code",
   "execution_count": 35,
   "metadata": {},
   "outputs": [
    {
     "name": "stdout",
     "output_type": "stream",
     "text": [
      "Compiling in order to obtain the program sizes...\n",
      "File 'C:\\Users\\Dragos\\Dropbox\\College\\MasThesis\\Git\\KalmanARM\\STDIO_Redirect_w_TrustZone\\HashTable\\hashtable.h' now contains:\n",
      "#define HASHSIZE 120\n",
      "#define EPSILON 3.800000\n",
      "#define MOD_PRECISION 10000\n",
      "#define EPSILON_MOD 38000\n",
      "Copied 'C:\\Users\\Dragos\\Dropbox\\College\\MasThesis\\Git\\KalmanARM\\main_hash.c' to 'C:\\Users\\Dragos\\Dropbox\\College\\MasThesis\\Git\\KalmanARM\\STDIO_Redirect_w_TrustZone\\main.c'\n",
      "Written project size details to: 'C:\\Users\\Dragos\\MasThesis_output\\hash_120_eps_3.8_mod_10000_2887iter_1\\hash_120_eps_3.8_mod_10000_2887iter_1_size.txt'\n",
      "\n"
     ]
    }
   ],
   "source": [
    "e = 3.8\n",
    "sizes_loop(\"hash\", hash_size=120, epsilon=e, mod_precision=10000, iterations=2887, attempt=1, output_dir=output_dir, verbose=2)"
   ]
  },
  {
   "cell_type": "code",
   "execution_count": 36,
   "metadata": {},
   "outputs": [
    {
     "name": "stdout",
     "output_type": "stream",
     "text": [
      "Compiling in order to obtain the program sizes...\n",
      "File 'C:\\Users\\Dragos\\Dropbox\\College\\MasThesis\\Git\\KalmanARM\\STDIO_Redirect_w_TrustZone\\HashTable\\hashtable.h' now contains:\n",
      "#define HASHSIZE 120\n",
      "#define EPSILON 3.900000\n",
      "#define MOD_PRECISION 10000\n",
      "#define EPSILON_MOD 39000\n",
      "Copied 'C:\\Users\\Dragos\\Dropbox\\College\\MasThesis\\Git\\KalmanARM\\main_hash.c' to 'C:\\Users\\Dragos\\Dropbox\\College\\MasThesis\\Git\\KalmanARM\\STDIO_Redirect_w_TrustZone\\main.c'\n",
      "Written project size details to: 'C:\\Users\\Dragos\\MasThesis_output\\hash_120_eps_3.9_mod_10000_2887iter_1\\hash_120_eps_3.9_mod_10000_2887iter_1_size.txt'\n",
      "\n"
     ]
    }
   ],
   "source": [
    "e = 3.9\n",
    "sizes_loop(\"hash\", hash_size=120, epsilon=e, mod_precision=10000, iterations=2887, attempt=1, output_dir=output_dir, verbose=2)"
   ]
  },
  {
   "cell_type": "code",
   "execution_count": 37,
   "metadata": {},
   "outputs": [
    {
     "name": "stdout",
     "output_type": "stream",
     "text": [
      "Compiling in order to obtain the program sizes...\n",
      "File 'C:\\Users\\Dragos\\Dropbox\\College\\MasThesis\\Git\\KalmanARM\\STDIO_Redirect_w_TrustZone\\HashTable\\hashtable.h' now contains:\n",
      "#define HASHSIZE 120\n",
      "#define EPSILON 4.000000\n",
      "#define MOD_PRECISION 10000\n",
      "#define EPSILON_MOD 40000\n",
      "Copied 'C:\\Users\\Dragos\\Dropbox\\College\\MasThesis\\Git\\KalmanARM\\main_hash.c' to 'C:\\Users\\Dragos\\Dropbox\\College\\MasThesis\\Git\\KalmanARM\\STDIO_Redirect_w_TrustZone\\main.c'\n",
      "Written project size details to: 'C:\\Users\\Dragos\\MasThesis_output\\hash_120_eps_4.0_mod_10000_2887iter_1\\hash_120_eps_4.0_mod_10000_2887iter_1_size.txt'\n",
      "\n"
     ]
    }
   ],
   "source": [
    "e = 4.0\n",
    "sizes_loop(\"hash\", hash_size=120, epsilon=e, mod_precision=10000, iterations=2887, attempt=1, output_dir=output_dir, verbose=2)"
   ]
  },
  {
   "cell_type": "code",
   "execution_count": 4,
   "metadata": {},
   "outputs": [
    {
     "name": "stdout",
     "output_type": "stream",
     "text": [
      "Compiling in order to obtain the program sizes...\n",
      "File 'C:\\Users\\Dragos\\Dropbox\\College\\MasThesis\\Git\\KalmanARM\\STDIO_Redirect_w_TrustZone\\HashTable\\hashtable.h' now contains:\n",
      "#define HASHSIZE 120\n",
      "#define EPSILON 4.100000\n",
      "#define MOD_PRECISION 10000\n",
      "#define EPSILON_MOD 41000\n",
      "Copied 'C:\\Users\\Dragos\\Dropbox\\College\\MasThesis\\Git\\KalmanARM\\main_hash.c' to 'C:\\Users\\Dragos\\Dropbox\\College\\MasThesis\\Git\\KalmanARM\\STDIO_Redirect_w_TrustZone\\main.c'\n",
      "Written project size details to: 'C:\\Users\\Dragos\\MasThesis_output\\hash_120_eps_4.1_mod_10000_2887iter_1\\hash_120_eps_4.1_mod_10000_2887iter_1_size.txt'\n",
      "\n"
     ]
    }
   ],
   "source": [
    "e = 4.1\n",
    "sizes_loop(\"hash\", hash_size=120, epsilon=e, mod_precision=10000, iterations=2887, attempt=1, output_dir=output_dir, verbose=2)"
   ]
  },
  {
   "cell_type": "code",
   "execution_count": 5,
   "metadata": {},
   "outputs": [
    {
     "name": "stdout",
     "output_type": "stream",
     "text": [
      "Compiling in order to obtain the program sizes...\n",
      "File 'C:\\Users\\Dragos\\Dropbox\\College\\MasThesis\\Git\\KalmanARM\\STDIO_Redirect_w_TrustZone\\HashTable\\hashtable.h' now contains:\n",
      "#define HASHSIZE 120\n",
      "#define EPSILON 4.200000\n",
      "#define MOD_PRECISION 10000\n",
      "#define EPSILON_MOD 42000\n",
      "Copied 'C:\\Users\\Dragos\\Dropbox\\College\\MasThesis\\Git\\KalmanARM\\main_hash.c' to 'C:\\Users\\Dragos\\Dropbox\\College\\MasThesis\\Git\\KalmanARM\\STDIO_Redirect_w_TrustZone\\main.c'\n",
      "Written project size details to: 'C:\\Users\\Dragos\\MasThesis_output\\hash_120_eps_4.2_mod_10000_2887iter_1\\hash_120_eps_4.2_mod_10000_2887iter_1_size.txt'\n",
      "\n"
     ]
    }
   ],
   "source": [
    "e = 4.2\n",
    "sizes_loop(\"hash\", hash_size=120, epsilon=e, mod_precision=10000, iterations=2887, attempt=1, output_dir=output_dir, verbose=2)"
   ]
  },
  {
   "cell_type": "code",
   "execution_count": 6,
   "metadata": {},
   "outputs": [
    {
     "name": "stdout",
     "output_type": "stream",
     "text": [
      "Compiling in order to obtain the program sizes...\n",
      "File 'C:\\Users\\Dragos\\Dropbox\\College\\MasThesis\\Git\\KalmanARM\\STDIO_Redirect_w_TrustZone\\HashTable\\hashtable.h' now contains:\n",
      "#define HASHSIZE 120\n",
      "#define EPSILON 4.300000\n",
      "#define MOD_PRECISION 10000\n",
      "#define EPSILON_MOD 43000\n",
      "Copied 'C:\\Users\\Dragos\\Dropbox\\College\\MasThesis\\Git\\KalmanARM\\main_hash.c' to 'C:\\Users\\Dragos\\Dropbox\\College\\MasThesis\\Git\\KalmanARM\\STDIO_Redirect_w_TrustZone\\main.c'\n",
      "Written project size details to: 'C:\\Users\\Dragos\\MasThesis_output\\hash_120_eps_4.3_mod_10000_2887iter_1\\hash_120_eps_4.3_mod_10000_2887iter_1_size.txt'\n",
      "\n"
     ]
    }
   ],
   "source": [
    "e = 4.3\n",
    "sizes_loop(\"hash\", hash_size=120, epsilon=e, mod_precision=10000, iterations=2887, attempt=1, output_dir=output_dir, verbose=2)"
   ]
  },
  {
   "cell_type": "code",
   "execution_count": 7,
   "metadata": {},
   "outputs": [
    {
     "name": "stdout",
     "output_type": "stream",
     "text": [
      "Compiling in order to obtain the program sizes...\n",
      "File 'C:\\Users\\Dragos\\Dropbox\\College\\MasThesis\\Git\\KalmanARM\\STDIO_Redirect_w_TrustZone\\HashTable\\hashtable.h' now contains:\n",
      "#define HASHSIZE 120\n",
      "#define EPSILON 4.400000\n",
      "#define MOD_PRECISION 10000\n",
      "#define EPSILON_MOD 44000\n",
      "Copied 'C:\\Users\\Dragos\\Dropbox\\College\\MasThesis\\Git\\KalmanARM\\main_hash.c' to 'C:\\Users\\Dragos\\Dropbox\\College\\MasThesis\\Git\\KalmanARM\\STDIO_Redirect_w_TrustZone\\main.c'\n",
      "Written project size details to: 'C:\\Users\\Dragos\\MasThesis_output\\hash_120_eps_4.4_mod_10000_2887iter_1\\hash_120_eps_4.4_mod_10000_2887iter_1_size.txt'\n",
      "\n"
     ]
    }
   ],
   "source": [
    "e = 4.4\n",
    "sizes_loop(\"hash\", hash_size=120, epsilon=e, mod_precision=10000, iterations=2887, attempt=1, output_dir=output_dir, verbose=2)"
   ]
  },
  {
   "cell_type": "code",
   "execution_count": 8,
   "metadata": {},
   "outputs": [
    {
     "name": "stdout",
     "output_type": "stream",
     "text": [
      "Compiling in order to obtain the program sizes...\n",
      "File 'C:\\Users\\Dragos\\Dropbox\\College\\MasThesis\\Git\\KalmanARM\\STDIO_Redirect_w_TrustZone\\HashTable\\hashtable.h' now contains:\n",
      "#define HASHSIZE 120\n",
      "#define EPSILON 4.500000\n",
      "#define MOD_PRECISION 10000\n",
      "#define EPSILON_MOD 45000\n",
      "Copied 'C:\\Users\\Dragos\\Dropbox\\College\\MasThesis\\Git\\KalmanARM\\main_hash.c' to 'C:\\Users\\Dragos\\Dropbox\\College\\MasThesis\\Git\\KalmanARM\\STDIO_Redirect_w_TrustZone\\main.c'\n",
      "Written project size details to: 'C:\\Users\\Dragos\\MasThesis_output\\hash_120_eps_4.5_mod_10000_2887iter_1\\hash_120_eps_4.5_mod_10000_2887iter_1_size.txt'\n",
      "\n"
     ]
    }
   ],
   "source": [
    "e = 4.5\n",
    "sizes_loop(\"hash\", hash_size=120, epsilon=e, mod_precision=10000, iterations=2887, attempt=1, output_dir=output_dir, verbose=2)"
   ]
  },
  {
   "cell_type": "code",
   "execution_count": 9,
   "metadata": {},
   "outputs": [
    {
     "name": "stdout",
     "output_type": "stream",
     "text": [
      "Compiling in order to obtain the program sizes...\n",
      "File 'C:\\Users\\Dragos\\Dropbox\\College\\MasThesis\\Git\\KalmanARM\\STDIO_Redirect_w_TrustZone\\HashTable\\hashtable.h' now contains:\n",
      "#define HASHSIZE 120\n",
      "#define EPSILON 4.600000\n",
      "#define MOD_PRECISION 10000\n",
      "#define EPSILON_MOD 46000\n",
      "Copied 'C:\\Users\\Dragos\\Dropbox\\College\\MasThesis\\Git\\KalmanARM\\main_hash.c' to 'C:\\Users\\Dragos\\Dropbox\\College\\MasThesis\\Git\\KalmanARM\\STDIO_Redirect_w_TrustZone\\main.c'\n",
      "Written project size details to: 'C:\\Users\\Dragos\\MasThesis_output\\hash_120_eps_4.6_mod_10000_2887iter_1\\hash_120_eps_4.6_mod_10000_2887iter_1_size.txt'\n",
      "\n"
     ]
    }
   ],
   "source": [
    "e = 4.6\n",
    "sizes_loop(\"hash\", hash_size=120, epsilon=e, mod_precision=10000, iterations=2887, attempt=1, output_dir=output_dir, verbose=2)"
   ]
  },
  {
   "cell_type": "code",
   "execution_count": 10,
   "metadata": {},
   "outputs": [
    {
     "name": "stdout",
     "output_type": "stream",
     "text": [
      "Compiling in order to obtain the program sizes...\n",
      "File 'C:\\Users\\Dragos\\Dropbox\\College\\MasThesis\\Git\\KalmanARM\\STDIO_Redirect_w_TrustZone\\HashTable\\hashtable.h' now contains:\n",
      "#define HASHSIZE 120\n",
      "#define EPSILON 4.700000\n",
      "#define MOD_PRECISION 10000\n",
      "#define EPSILON_MOD 47000\n",
      "Copied 'C:\\Users\\Dragos\\Dropbox\\College\\MasThesis\\Git\\KalmanARM\\main_hash.c' to 'C:\\Users\\Dragos\\Dropbox\\College\\MasThesis\\Git\\KalmanARM\\STDIO_Redirect_w_TrustZone\\main.c'\n",
      "Written project size details to: 'C:\\Users\\Dragos\\MasThesis_output\\hash_120_eps_4.7_mod_10000_2887iter_1\\hash_120_eps_4.7_mod_10000_2887iter_1_size.txt'\n",
      "\n"
     ]
    }
   ],
   "source": [
    "e = 4.7\n",
    "sizes_loop(\"hash\", hash_size=120, epsilon=e, mod_precision=10000, iterations=2887, attempt=1, output_dir=output_dir, verbose=2)"
   ]
  },
  {
   "cell_type": "code",
   "execution_count": 11,
   "metadata": {},
   "outputs": [
    {
     "name": "stdout",
     "output_type": "stream",
     "text": [
      "Compiling in order to obtain the program sizes...\n",
      "File 'C:\\Users\\Dragos\\Dropbox\\College\\MasThesis\\Git\\KalmanARM\\STDIO_Redirect_w_TrustZone\\HashTable\\hashtable.h' now contains:\n",
      "#define HASHSIZE 120\n",
      "#define EPSILON 4.800000\n",
      "#define MOD_PRECISION 10000\n",
      "#define EPSILON_MOD 48000\n",
      "Copied 'C:\\Users\\Dragos\\Dropbox\\College\\MasThesis\\Git\\KalmanARM\\main_hash.c' to 'C:\\Users\\Dragos\\Dropbox\\College\\MasThesis\\Git\\KalmanARM\\STDIO_Redirect_w_TrustZone\\main.c'\n",
      "Written project size details to: 'C:\\Users\\Dragos\\MasThesis_output\\hash_120_eps_4.8_mod_10000_2887iter_1\\hash_120_eps_4.8_mod_10000_2887iter_1_size.txt'\n",
      "\n"
     ]
    }
   ],
   "source": [
    "e = 4.8\n",
    "sizes_loop(\"hash\", hash_size=120, epsilon=e, mod_precision=10000, iterations=2887, attempt=1, output_dir=output_dir, verbose=2)"
   ]
  },
  {
   "cell_type": "code",
   "execution_count": 12,
   "metadata": {},
   "outputs": [
    {
     "name": "stdout",
     "output_type": "stream",
     "text": [
      "Compiling in order to obtain the program sizes...\n",
      "File 'C:\\Users\\Dragos\\Dropbox\\College\\MasThesis\\Git\\KalmanARM\\STDIO_Redirect_w_TrustZone\\HashTable\\hashtable.h' now contains:\n",
      "#define HASHSIZE 120\n",
      "#define EPSILON 4.900000\n",
      "#define MOD_PRECISION 10000\n",
      "#define EPSILON_MOD 49000\n",
      "Copied 'C:\\Users\\Dragos\\Dropbox\\College\\MasThesis\\Git\\KalmanARM\\main_hash.c' to 'C:\\Users\\Dragos\\Dropbox\\College\\MasThesis\\Git\\KalmanARM\\STDIO_Redirect_w_TrustZone\\main.c'\n",
      "Written project size details to: 'C:\\Users\\Dragos\\MasThesis_output\\hash_120_eps_4.9_mod_10000_2887iter_1\\hash_120_eps_4.9_mod_10000_2887iter_1_size.txt'\n",
      "\n"
     ]
    }
   ],
   "source": [
    "e = 4.9\n",
    "sizes_loop(\"hash\", hash_size=120, epsilon=e, mod_precision=10000, iterations=2887, attempt=1, output_dir=output_dir, verbose=2)"
   ]
  },
  {
   "cell_type": "code",
   "execution_count": null,
   "metadata": {},
   "outputs": [],
   "source": []
  }
 ],
 "metadata": {
  "kernelspec": {
   "display_name": "Python 3",
   "language": "python",
   "name": "python3"
  },
  "language_info": {
   "codemirror_mode": {
    "name": "ipython",
    "version": 3
   },
   "file_extension": ".py",
   "mimetype": "text/x-python",
   "name": "python",
   "nbconvert_exporter": "python",
   "pygments_lexer": "ipython3",
   "version": "3.7.2"
  }
 },
 "nbformat": 4,
 "nbformat_minor": 2
}
