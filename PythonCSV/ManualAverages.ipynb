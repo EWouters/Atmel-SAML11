{
 "cells": [
  {
   "cell_type": "code",
   "execution_count": 2,
   "metadata": {},
   "outputs": [],
   "source": [
    "from experiment.loops import experiment_loop, averages_loop, sizes_loop"
   ]
  },
  {
   "cell_type": "code",
   "execution_count": 3,
   "metadata": {},
   "outputs": [],
   "source": [
    "output_dir = \"C:\\\\Users\\\\Dragos\\\\MasThesis_output\""
   ]
  },
  {
   "cell_type": "code",
   "execution_count": 41,
   "metadata": {},
   "outputs": [
    {
     "name": "stdout",
     "output_type": "stream",
     "text": [
      "Loading dgilib data into memory for averging from csv files: C:\\Users\\Dragos\\MasThesis_output\\power_gpio\\baseline_2887iter_1_[power/gpio].csv\n",
      "Finished getting dgilib data. Took 293 seconds...\n",
      "Calculating averages... \n",
      "Ignore first average is False!\n",
      "Done calculating averages! Took 7 seconds. Writing averages csv...\n",
      "Wrote averages to: C:\\Users\\Dragos\\MasThesis_output\\baseline_2887iter_1\\baseline_2887iter_1_averages.csv\n"
     ]
    }
   ],
   "source": [
    "averages_loop(\"baseline\", iterations=2887, attempt=1, output_dir=output_dir, verbose=2)"
   ]
  },
  {
   "cell_type": "code",
   "execution_count": 43,
   "metadata": {},
   "outputs": [
    {
     "name": "stdout",
     "output_type": "stream",
     "text": [
      "Loading dgilib data into memory for averging from csv files: C:\\Users\\Dragos\\MasThesis_output\\power_gpio\\hash_120_eps_0.01_mod_10000_2887iter_1_[power/gpio].csv\n",
      "Finished getting dgilib data. Took 205 seconds...\n",
      "Calculating averages... \n",
      "Ignore first average is False!\n",
      "Done calculating averages! Took 5 seconds. Writing averages csv...\n",
      "Wrote averages to: C:\\Users\\Dragos\\MasThesis_output\\hash_120_eps_0.01_mod_10000_2887iter_1\\hash_120_eps_0.01_mod_10000_2887iter_1_averages.csv\n"
     ]
    }
   ],
   "source": [
    "e = 0.01\n",
    "averages_loop(\"hash\", hash_size=120, epsilon=e, mod_precision=10000, iterations=2887, attempt=1, output_dir=output_dir, verbose=2)"
   ]
  },
  {
   "cell_type": "code",
   "execution_count": 42,
   "metadata": {},
   "outputs": [
    {
     "name": "stdout",
     "output_type": "stream",
     "text": [
      "Loading dgilib data into memory for averging from csv files: C:\\Users\\Dragos\\MasThesis_output\\power_gpio\\hash_120_eps_0.05_mod_10000_2887iter_1_[power/gpio].csv\n",
      "Finished getting dgilib data. Took 203 seconds...\n",
      "Calculating averages... \n",
      "Ignore first average is False!\n",
      "Done calculating averages! Took 5 seconds. Writing averages csv...\n",
      "Wrote averages to: C:\\Users\\Dragos\\MasThesis_output\\hash_120_eps_0.05_mod_10000_2887iter_1\\hash_120_eps_0.05_mod_10000_2887iter_1_averages.csv\n"
     ]
    }
   ],
   "source": [
    "e = 0.05\n",
    "averages_loop(\"hash\", hash_size=120, epsilon=e, mod_precision=10000, iterations=2887, attempt=1, output_dir=output_dir, verbose=2)"
   ]
  },
  {
   "cell_type": "code",
   "execution_count": 5,
   "metadata": {},
   "outputs": [
    {
     "name": "stdout",
     "output_type": "stream",
     "text": [
      "Loading dgilib data into memory for averging from csv files: C:\\Users\\Dragos\\MasThesis_output\\power_gpio\\hash_120_eps_0.1_mod_10000_2887iter_1_[power/gpio].csv\n",
      "Finished getting dgilib data. Took 222 seconds...\n",
      "Calculating averages... \n",
      "Ignore first average is False!\n",
      "Done calculating averages! Took 5 seconds. Writing averages csv...\n",
      "Wrote averages to: C:\\Users\\Dragos\\MasThesis_output\\hash_120_eps_0.1_mod_10000_2887iter_1\\hash_120_eps_0.1_mod_10000_2887iter_1_averages.csv\n"
     ]
    }
   ],
   "source": [
    "e = 0.1\n",
    "averages_loop(\"hash\", hash_size=120, epsilon=e, mod_precision=10000, iterations=2887, attempt=1, output_dir=output_dir, verbose=2)"
   ]
  },
  {
   "cell_type": "code",
   "execution_count": 6,
   "metadata": {},
   "outputs": [
    {
     "name": "stdout",
     "output_type": "stream",
     "text": [
      "Loading dgilib data into memory for averging from csv files: C:\\Users\\Dragos\\MasThesis_output\\power_gpio\\hash_120_eps_0.2_mod_10000_2887iter_1_[power/gpio].csv\n",
      "Finished getting dgilib data. Took 212 seconds...\n",
      "Calculating averages... \n",
      "Ignore first average is False!\n",
      "Done calculating averages! Took 5 seconds. Writing averages csv...\n",
      "Wrote averages to: C:\\Users\\Dragos\\MasThesis_output\\hash_120_eps_0.2_mod_10000_2887iter_1\\hash_120_eps_0.2_mod_10000_2887iter_1_averages.csv\n"
     ]
    }
   ],
   "source": [
    "e = 0.2\n",
    "averages_loop(\"hash\", hash_size=120, epsilon=e, mod_precision=10000, iterations=2887, attempt=1, output_dir=output_dir, verbose=2)"
   ]
  },
  {
   "cell_type": "code",
   "execution_count": 7,
   "metadata": {},
   "outputs": [
    {
     "name": "stdout",
     "output_type": "stream",
     "text": [
      "Loading dgilib data into memory for averging from csv files: C:\\Users\\Dragos\\MasThesis_output\\power_gpio\\hash_120_eps_0.3_mod_10000_2887iter_1_[power/gpio].csv\n",
      "Finished getting dgilib data. Took 219 seconds...\n",
      "Calculating averages... \n",
      "Ignore first average is False!\n",
      "Done calculating averages! Took 5 seconds. Writing averages csv...\n",
      "Wrote averages to: C:\\Users\\Dragos\\MasThesis_output\\hash_120_eps_0.3_mod_10000_2887iter_1\\hash_120_eps_0.3_mod_10000_2887iter_1_averages.csv\n"
     ]
    }
   ],
   "source": [
    "e = 0.3\n",
    "averages_loop(\"hash\", hash_size=120, epsilon=e, mod_precision=10000, iterations=2887, attempt=1, output_dir=output_dir, verbose=2)"
   ]
  },
  {
   "cell_type": "code",
   "execution_count": 8,
   "metadata": {},
   "outputs": [
    {
     "name": "stdout",
     "output_type": "stream",
     "text": [
      "Loading dgilib data into memory for averging from csv files: C:\\Users\\Dragos\\MasThesis_output\\power_gpio\\hash_120_eps_0.4_mod_10000_2887iter_1_[power/gpio].csv\n",
      "Finished getting dgilib data. Took 230 seconds...\n",
      "Calculating averages... \n",
      "Ignore first average is False!\n",
      "Done calculating averages! Took 5 seconds. Writing averages csv...\n",
      "Wrote averages to: C:\\Users\\Dragos\\MasThesis_output\\hash_120_eps_0.4_mod_10000_2887iter_1\\hash_120_eps_0.4_mod_10000_2887iter_1_averages.csv\n"
     ]
    }
   ],
   "source": [
    "e = 0.4\n",
    "averages_loop(\"hash\", hash_size=120, epsilon=e, mod_precision=10000, iterations=2887, attempt=1, output_dir=output_dir, verbose=2)"
   ]
  },
  {
   "cell_type": "code",
   "execution_count": 9,
   "metadata": {},
   "outputs": [
    {
     "name": "stdout",
     "output_type": "stream",
     "text": [
      "Loading dgilib data into memory for averging from csv files: C:\\Users\\Dragos\\MasThesis_output\\power_gpio\\hash_120_eps_0.5_mod_10000_2887iter_1_[power/gpio].csv\n",
      "Finished getting dgilib data. Took 200 seconds...\n",
      "Calculating averages... \n",
      "Ignore first average is False!\n",
      "Done calculating averages! Took 5 seconds. Writing averages csv...\n",
      "Wrote averages to: C:\\Users\\Dragos\\MasThesis_output\\hash_120_eps_0.5_mod_10000_2887iter_1\\hash_120_eps_0.5_mod_10000_2887iter_1_averages.csv\n"
     ]
    }
   ],
   "source": [
    "e = 0.5\n",
    "averages_loop(\"hash\", hash_size=120, epsilon=e, mod_precision=10000, iterations=2887, attempt=1, output_dir=output_dir, verbose=2)"
   ]
  },
  {
   "cell_type": "code",
   "execution_count": 10,
   "metadata": {},
   "outputs": [
    {
     "name": "stdout",
     "output_type": "stream",
     "text": [
      "Loading dgilib data into memory for averging from csv files: C:\\Users\\Dragos\\MasThesis_output\\power_gpio\\hash_120_eps_0.6_mod_10000_2887iter_1_[power/gpio].csv\n",
      "Finished getting dgilib data. Took 202 seconds...\n",
      "Calculating averages... \n",
      "Ignore first average is False!\n",
      "Done calculating averages! Took 5 seconds. Writing averages csv...\n",
      "Wrote averages to: C:\\Users\\Dragos\\MasThesis_output\\hash_120_eps_0.6_mod_10000_2887iter_1\\hash_120_eps_0.6_mod_10000_2887iter_1_averages.csv\n"
     ]
    }
   ],
   "source": [
    "e = 0.6\n",
    "averages_loop(\"hash\", hash_size=120, epsilon=e, mod_precision=10000, iterations=2887, attempt=1, output_dir=output_dir, verbose=2)"
   ]
  },
  {
   "cell_type": "code",
   "execution_count": 11,
   "metadata": {},
   "outputs": [
    {
     "name": "stdout",
     "output_type": "stream",
     "text": [
      "Loading dgilib data into memory for averging from csv files: C:\\Users\\Dragos\\MasThesis_output\\power_gpio\\hash_120_eps_0.7_mod_10000_2887iter_1_[power/gpio].csv\n",
      "Finished getting dgilib data. Took 199 seconds...\n",
      "Calculating averages... \n",
      "Ignore first average is False!\n",
      "Done calculating averages! Took 5 seconds. Writing averages csv...\n",
      "Wrote averages to: C:\\Users\\Dragos\\MasThesis_output\\hash_120_eps_0.7_mod_10000_2887iter_1\\hash_120_eps_0.7_mod_10000_2887iter_1_averages.csv\n"
     ]
    }
   ],
   "source": [
    "e = 0.7\n",
    "averages_loop(\"hash\", hash_size=120, epsilon=e, mod_precision=10000, iterations=2887, attempt=1, output_dir=output_dir, verbose=2)"
   ]
  },
  {
   "cell_type": "code",
   "execution_count": 12,
   "metadata": {},
   "outputs": [
    {
     "name": "stdout",
     "output_type": "stream",
     "text": [
      "Loading dgilib data into memory for averging from csv files: C:\\Users\\Dragos\\MasThesis_output\\power_gpio\\hash_120_eps_0.8_mod_10000_2887iter_1_[power/gpio].csv\n",
      "Finished getting dgilib data. Took 199 seconds...\n",
      "Calculating averages... \n",
      "Ignore first average is False!\n",
      "Done calculating averages! Took 5 seconds. Writing averages csv...\n",
      "Wrote averages to: C:\\Users\\Dragos\\MasThesis_output\\hash_120_eps_0.8_mod_10000_2887iter_1\\hash_120_eps_0.8_mod_10000_2887iter_1_averages.csv\n"
     ]
    }
   ],
   "source": [
    "e = 0.8\n",
    "averages_loop(\"hash\", hash_size=120, epsilon=e, mod_precision=10000, iterations=2887, attempt=1, output_dir=output_dir, verbose=2)"
   ]
  },
  {
   "cell_type": "code",
   "execution_count": 13,
   "metadata": {},
   "outputs": [
    {
     "name": "stdout",
     "output_type": "stream",
     "text": [
      "Loading dgilib data into memory for averging from csv files: C:\\Users\\Dragos\\MasThesis_output\\power_gpio\\hash_120_eps_0.85_mod_10000_2887iter_1_[power/gpio].csv\n",
      "Finished getting dgilib data. Took 200 seconds...\n",
      "Calculating averages... \n",
      "Ignore first average is False!\n",
      "Done calculating averages! Took 5 seconds. Writing averages csv...\n",
      "Wrote averages to: C:\\Users\\Dragos\\MasThesis_output\\hash_120_eps_0.85_mod_10000_2887iter_1\\hash_120_eps_0.85_mod_10000_2887iter_1_averages.csv\n"
     ]
    }
   ],
   "source": [
    "e = 0.85\n",
    "averages_loop(\"hash\", hash_size=120, epsilon=e, mod_precision=10000, iterations=2887, attempt=1, output_dir=output_dir, verbose=2)"
   ]
  },
  {
   "cell_type": "code",
   "execution_count": 14,
   "metadata": {},
   "outputs": [
    {
     "name": "stdout",
     "output_type": "stream",
     "text": [
      "Loading dgilib data into memory for averging from csv files: C:\\Users\\Dragos\\MasThesis_output\\power_gpio\\hash_120_eps_0.9_mod_10000_2887iter_1_[power/gpio].csv\n",
      "Finished getting dgilib data. Took 213 seconds...\n",
      "Calculating averages... \n",
      "Ignore first average is False!\n",
      "Done calculating averages! Took 5 seconds. Writing averages csv...\n",
      "Wrote averages to: C:\\Users\\Dragos\\MasThesis_output\\hash_120_eps_0.9_mod_10000_2887iter_1\\hash_120_eps_0.9_mod_10000_2887iter_1_averages.csv\n"
     ]
    }
   ],
   "source": [
    "e = 0.9\n",
    "averages_loop(\"hash\", hash_size=120, epsilon=e, mod_precision=10000, iterations=2887, attempt=1, output_dir=output_dir, verbose=2)"
   ]
  },
  {
   "cell_type": "code",
   "execution_count": 15,
   "metadata": {},
   "outputs": [
    {
     "name": "stdout",
     "output_type": "stream",
     "text": [
      "Loading dgilib data into memory for averging from csv files: C:\\Users\\Dragos\\MasThesis_output\\power_gpio\\hash_120_eps_0.94_mod_10000_2887iter_1_[power/gpio].csv\n",
      "Finished getting dgilib data. Took 199 seconds...\n",
      "Calculating averages... \n",
      "Ignore first average is False!\n",
      "Done calculating averages! Took 5 seconds. Writing averages csv...\n",
      "Wrote averages to: C:\\Users\\Dragos\\MasThesis_output\\hash_120_eps_0.94_mod_10000_2887iter_1\\hash_120_eps_0.94_mod_10000_2887iter_1_averages.csv\n"
     ]
    }
   ],
   "source": [
    "e = 0.94\n",
    "averages_loop(\"hash\", hash_size=120, epsilon=e, mod_precision=10000, iterations=2887, attempt=1, output_dir=output_dir, verbose=2)"
   ]
  },
  {
   "cell_type": "code",
   "execution_count": 16,
   "metadata": {},
   "outputs": [
    {
     "name": "stdout",
     "output_type": "stream",
     "text": [
      "Loading dgilib data into memory for averging from csv files: C:\\Users\\Dragos\\MasThesis_output\\power_gpio\\hash_120_eps_0.95_mod_10000_2887iter_1_[power/gpio].csv\n",
      "Finished getting dgilib data. Took 216 seconds...\n",
      "Calculating averages... \n",
      "Ignore first average is False!\n",
      "Done calculating averages! Took 5 seconds. Writing averages csv...\n",
      "Wrote averages to: C:\\Users\\Dragos\\MasThesis_output\\hash_120_eps_0.95_mod_10000_2887iter_1\\hash_120_eps_0.95_mod_10000_2887iter_1_averages.csv\n"
     ]
    }
   ],
   "source": [
    "e = 0.95\n",
    "averages_loop(\"hash\", hash_size=120, epsilon=e, mod_precision=10000, iterations=2887, attempt=1, output_dir=output_dir, verbose=2)"
   ]
  },
  {
   "cell_type": "code",
   "execution_count": 17,
   "metadata": {},
   "outputs": [
    {
     "name": "stdout",
     "output_type": "stream",
     "text": [
      "Loading dgilib data into memory for averging from csv files: C:\\Users\\Dragos\\MasThesis_output\\power_gpio\\hash_120_eps_1.0_mod_10000_2887iter_1_[power/gpio].csv\n",
      "Finished getting dgilib data. Took 255 seconds...\n",
      "Calculating averages... \n",
      "Ignore first average is False!\n",
      "Done calculating averages! Took 5 seconds. Writing averages csv...\n",
      "Wrote averages to: C:\\Users\\Dragos\\MasThesis_output\\hash_120_eps_1.0_mod_10000_2887iter_1\\hash_120_eps_1.0_mod_10000_2887iter_1_averages.csv\n"
     ]
    }
   ],
   "source": [
    "e = 1.0\n",
    "averages_loop(\"hash\", hash_size=120, epsilon=e, mod_precision=10000, iterations=2887, attempt=1, output_dir=output_dir, verbose=2)"
   ]
  },
  {
   "cell_type": "code",
   "execution_count": 18,
   "metadata": {},
   "outputs": [
    {
     "name": "stdout",
     "output_type": "stream",
     "text": [
      "Loading dgilib data into memory for averging from csv files: C:\\Users\\Dragos\\MasThesis_output\\power_gpio\\hash_120_eps_1.1_mod_10000_2887iter_1_[power/gpio].csv\n",
      "Finished getting dgilib data. Took 251 seconds...\n",
      "Calculating averages... \n",
      "Ignore first average is False!\n",
      "Done calculating averages! Took 5 seconds. Writing averages csv...\n",
      "Wrote averages to: C:\\Users\\Dragos\\MasThesis_output\\hash_120_eps_1.1_mod_10000_2887iter_1\\hash_120_eps_1.1_mod_10000_2887iter_1_averages.csv\n"
     ]
    }
   ],
   "source": [
    "e = 1.1\n",
    "averages_loop(\"hash\", hash_size=120, epsilon=e, mod_precision=10000, iterations=2887, attempt=1, output_dir=output_dir, verbose=2)"
   ]
  },
  {
   "cell_type": "code",
   "execution_count": 19,
   "metadata": {},
   "outputs": [
    {
     "name": "stdout",
     "output_type": "stream",
     "text": [
      "Loading dgilib data into memory for averging from csv files: C:\\Users\\Dragos\\MasThesis_output\\power_gpio\\hash_120_eps_1.2_mod_10000_2887iter_1_[power/gpio].csv\n",
      "Finished getting dgilib data. Took 213 seconds...\n",
      "Calculating averages... \n",
      "Ignore first average is False!\n",
      "Done calculating averages! Took 5 seconds. Writing averages csv...\n",
      "Wrote averages to: C:\\Users\\Dragos\\MasThesis_output\\hash_120_eps_1.2_mod_10000_2887iter_1\\hash_120_eps_1.2_mod_10000_2887iter_1_averages.csv\n"
     ]
    }
   ],
   "source": [
    "e = 1.2\n",
    "averages_loop(\"hash\", hash_size=120, epsilon=e, mod_precision=10000, iterations=2887, attempt=1, output_dir=output_dir, verbose=2)"
   ]
  },
  {
   "cell_type": "code",
   "execution_count": 20,
   "metadata": {},
   "outputs": [
    {
     "name": "stdout",
     "output_type": "stream",
     "text": [
      "Loading dgilib data into memory for averging from csv files: C:\\Users\\Dragos\\MasThesis_output\\power_gpio\\hash_120_eps_1.3_mod_10000_2887iter_1_[power/gpio].csv\n",
      "Finished getting dgilib data. Took 247 seconds...\n",
      "Calculating averages... \n",
      "Ignore first average is False!\n",
      "Done calculating averages! Took 5 seconds. Writing averages csv...\n",
      "Wrote averages to: C:\\Users\\Dragos\\MasThesis_output\\hash_120_eps_1.3_mod_10000_2887iter_1\\hash_120_eps_1.3_mod_10000_2887iter_1_averages.csv\n"
     ]
    }
   ],
   "source": [
    "e = 1.3\n",
    "averages_loop(\"hash\", hash_size=120, epsilon=e, mod_precision=10000, iterations=2887, attempt=1, output_dir=output_dir, verbose=2)"
   ]
  },
  {
   "cell_type": "code",
   "execution_count": 21,
   "metadata": {},
   "outputs": [
    {
     "name": "stdout",
     "output_type": "stream",
     "text": [
      "Loading dgilib data into memory for averging from csv files: C:\\Users\\Dragos\\MasThesis_output\\power_gpio\\hash_120_eps_1.4_mod_10000_2887iter_1_[power/gpio].csv\n",
      "Finished getting dgilib data. Took 207 seconds...\n",
      "Calculating averages... \n",
      "Ignore first average is False!\n",
      "Done calculating averages! Took 5 seconds. Writing averages csv...\n",
      "Wrote averages to: C:\\Users\\Dragos\\MasThesis_output\\hash_120_eps_1.4_mod_10000_2887iter_1\\hash_120_eps_1.4_mod_10000_2887iter_1_averages.csv\n"
     ]
    }
   ],
   "source": [
    "e = 1.4\n",
    "averages_loop(\"hash\", hash_size=120, epsilon=e, mod_precision=10000, iterations=2887, attempt=1, output_dir=output_dir, verbose=2)"
   ]
  },
  {
   "cell_type": "code",
   "execution_count": 22,
   "metadata": {},
   "outputs": [
    {
     "name": "stdout",
     "output_type": "stream",
     "text": [
      "Loading dgilib data into memory for averging from csv files: C:\\Users\\Dragos\\MasThesis_output\\power_gpio\\hash_120_eps_1.5_mod_10000_2887iter_1_[power/gpio].csv\n",
      "Finished getting dgilib data. Took 223 seconds...\n",
      "Calculating averages... \n",
      "Ignore first average is False!\n",
      "Done calculating averages! Took 5 seconds. Writing averages csv...\n",
      "Wrote averages to: C:\\Users\\Dragos\\MasThesis_output\\hash_120_eps_1.5_mod_10000_2887iter_1\\hash_120_eps_1.5_mod_10000_2887iter_1_averages.csv\n"
     ]
    }
   ],
   "source": [
    "e = 1.5\n",
    "averages_loop(\"hash\", hash_size=120, epsilon=e, mod_precision=10000, iterations=2887, attempt=1, output_dir=output_dir, verbose=2)"
   ]
  },
  {
   "cell_type": "code",
   "execution_count": 23,
   "metadata": {},
   "outputs": [
    {
     "name": "stdout",
     "output_type": "stream",
     "text": [
      "Loading dgilib data into memory for averging from csv files: C:\\Users\\Dragos\\MasThesis_output\\power_gpio\\hash_120_eps_1.6_mod_10000_2887iter_1_[power/gpio].csv\n",
      "Finished getting dgilib data. Took 216 seconds...\n",
      "Calculating averages... \n",
      "Ignore first average is False!\n",
      "Done calculating averages! Took 5 seconds. Writing averages csv...\n",
      "Wrote averages to: C:\\Users\\Dragos\\MasThesis_output\\hash_120_eps_1.6_mod_10000_2887iter_1\\hash_120_eps_1.6_mod_10000_2887iter_1_averages.csv\n"
     ]
    }
   ],
   "source": [
    "e = 1.6\n",
    "averages_loop(\"hash\", hash_size=120, epsilon=e, mod_precision=10000, iterations=2887, attempt=1, output_dir=output_dir, verbose=2)"
   ]
  },
  {
   "cell_type": "code",
   "execution_count": 24,
   "metadata": {},
   "outputs": [
    {
     "name": "stdout",
     "output_type": "stream",
     "text": [
      "Loading dgilib data into memory for averging from csv files: C:\\Users\\Dragos\\MasThesis_output\\power_gpio\\hash_120_eps_1.7_mod_10000_2887iter_1_[power/gpio].csv\n",
      "Finished getting dgilib data. Took 208 seconds...\n",
      "Calculating averages... \n",
      "Ignore first average is False!\n",
      "Done calculating averages! Took 5 seconds. Writing averages csv...\n",
      "Wrote averages to: C:\\Users\\Dragos\\MasThesis_output\\hash_120_eps_1.7_mod_10000_2887iter_1\\hash_120_eps_1.7_mod_10000_2887iter_1_averages.csv\n"
     ]
    }
   ],
   "source": [
    "e = 1.7\n",
    "averages_loop(\"hash\", hash_size=120, epsilon=e, mod_precision=10000, iterations=2887, attempt=1, output_dir=output_dir, verbose=2)"
   ]
  },
  {
   "cell_type": "code",
   "execution_count": 25,
   "metadata": {},
   "outputs": [
    {
     "name": "stdout",
     "output_type": "stream",
     "text": [
      "Loading dgilib data into memory for averging from csv files: C:\\Users\\Dragos\\MasThesis_output\\power_gpio\\hash_120_eps_1.8_mod_10000_2887iter_1_[power/gpio].csv\n",
      "Finished getting dgilib data. Took 210 seconds...\n",
      "Calculating averages... \n",
      "Ignore first average is False!\n",
      "Done calculating averages! Took 5 seconds. Writing averages csv...\n",
      "Wrote averages to: C:\\Users\\Dragos\\MasThesis_output\\hash_120_eps_1.8_mod_10000_2887iter_1\\hash_120_eps_1.8_mod_10000_2887iter_1_averages.csv\n"
     ]
    }
   ],
   "source": [
    "e = 1.8\n",
    "averages_loop(\"hash\", hash_size=120, epsilon=e, mod_precision=10000, iterations=2887, attempt=1, output_dir=output_dir, verbose=2)"
   ]
  },
  {
   "cell_type": "code",
   "execution_count": 26,
   "metadata": {},
   "outputs": [
    {
     "name": "stdout",
     "output_type": "stream",
     "text": [
      "Loading dgilib data into memory for averging from csv files: C:\\Users\\Dragos\\MasThesis_output\\power_gpio\\hash_120_eps_1.9_mod_10000_2887iter_1_[power/gpio].csv\n",
      "Finished getting dgilib data. Took 205 seconds...\n",
      "Calculating averages... \n",
      "Ignore first average is False!\n",
      "Done calculating averages! Took 5 seconds. Writing averages csv...\n",
      "Wrote averages to: C:\\Users\\Dragos\\MasThesis_output\\hash_120_eps_1.9_mod_10000_2887iter_1\\hash_120_eps_1.9_mod_10000_2887iter_1_averages.csv\n"
     ]
    }
   ],
   "source": [
    "e = 1.9\n",
    "averages_loop(\"hash\", hash_size=120, epsilon=e, mod_precision=10000, iterations=2887, attempt=1, output_dir=output_dir, verbose=2)"
   ]
  },
  {
   "cell_type": "code",
   "execution_count": 27,
   "metadata": {},
   "outputs": [
    {
     "name": "stdout",
     "output_type": "stream",
     "text": [
      "Loading dgilib data into memory for averging from csv files: C:\\Users\\Dragos\\MasThesis_output\\power_gpio\\hash_120_eps_2.0_mod_10000_2887iter_1_[power/gpio].csv\n",
      "Finished getting dgilib data. Took 210 seconds...\n",
      "Calculating averages... \n",
      "Ignore first average is False!\n",
      "Done calculating averages! Took 5 seconds. Writing averages csv...\n",
      "Wrote averages to: C:\\Users\\Dragos\\MasThesis_output\\hash_120_eps_2.0_mod_10000_2887iter_1\\hash_120_eps_2.0_mod_10000_2887iter_1_averages.csv\n"
     ]
    }
   ],
   "source": [
    "e = 2.0\n",
    "averages_loop(\"hash\", hash_size=120, epsilon=e, mod_precision=10000, iterations=2887, attempt=1, output_dir=output_dir, verbose=2)"
   ]
  },
  {
   "cell_type": "code",
   "execution_count": 28,
   "metadata": {},
   "outputs": [
    {
     "name": "stdout",
     "output_type": "stream",
     "text": [
      "Loading dgilib data into memory for averging from csv files: C:\\Users\\Dragos\\MasThesis_output\\power_gpio\\hash_120_eps_2.1_mod_10000_2887iter_1_[power/gpio].csv\n",
      "Finished getting dgilib data. Took 245 seconds...\n",
      "Calculating averages... \n",
      "Ignore first average is False!\n",
      "Done calculating averages! Took 5 seconds. Writing averages csv...\n",
      "Wrote averages to: C:\\Users\\Dragos\\MasThesis_output\\hash_120_eps_2.1_mod_10000_2887iter_1\\hash_120_eps_2.1_mod_10000_2887iter_1_averages.csv\n"
     ]
    }
   ],
   "source": [
    "e = 2.1\n",
    "averages_loop(\"hash\", hash_size=120, epsilon=e, mod_precision=10000, iterations=2887, attempt=1, output_dir=output_dir, verbose=2)"
   ]
  },
  {
   "cell_type": "code",
   "execution_count": 29,
   "metadata": {},
   "outputs": [
    {
     "name": "stdout",
     "output_type": "stream",
     "text": [
      "Loading dgilib data into memory for averging from csv files: C:\\Users\\Dragos\\MasThesis_output\\power_gpio\\hash_120_eps_2.2_mod_10000_2887iter_1_[power/gpio].csv\n",
      "Finished getting dgilib data. Took 234 seconds...\n",
      "Calculating averages... \n",
      "Ignore first average is False!\n",
      "Done calculating averages! Took 5 seconds. Writing averages csv...\n",
      "Wrote averages to: C:\\Users\\Dragos\\MasThesis_output\\hash_120_eps_2.2_mod_10000_2887iter_1\\hash_120_eps_2.2_mod_10000_2887iter_1_averages.csv\n"
     ]
    }
   ],
   "source": [
    "e = 2.2\n",
    "averages_loop(\"hash\", hash_size=120, epsilon=e, mod_precision=10000, iterations=2887, attempt=1, output_dir=output_dir, verbose=2)"
   ]
  },
  {
   "cell_type": "code",
   "execution_count": 30,
   "metadata": {},
   "outputs": [
    {
     "name": "stdout",
     "output_type": "stream",
     "text": [
      "Loading dgilib data into memory for averging from csv files: C:\\Users\\Dragos\\MasThesis_output\\power_gpio\\hash_120_eps_2.3_mod_10000_2887iter_1_[power/gpio].csv\n",
      "Finished getting dgilib data. Took 213 seconds...\n",
      "Calculating averages... \n",
      "Ignore first average is False!\n",
      "Done calculating averages! Took 5 seconds. Writing averages csv...\n",
      "Wrote averages to: C:\\Users\\Dragos\\MasThesis_output\\hash_120_eps_2.3_mod_10000_2887iter_1\\hash_120_eps_2.3_mod_10000_2887iter_1_averages.csv\n"
     ]
    }
   ],
   "source": [
    "e = 2.3\n",
    "averages_loop(\"hash\", hash_size=120, epsilon=e, mod_precision=10000, iterations=2887, attempt=1, output_dir=output_dir, verbose=2)"
   ]
  },
  {
   "cell_type": "code",
   "execution_count": 31,
   "metadata": {},
   "outputs": [
    {
     "name": "stdout",
     "output_type": "stream",
     "text": [
      "Loading dgilib data into memory for averging from csv files: C:\\Users\\Dragos\\MasThesis_output\\power_gpio\\hash_120_eps_2.4_mod_10000_2887iter_1_[power/gpio].csv\n",
      "Finished getting dgilib data. Took 211 seconds...\n",
      "Calculating averages... \n",
      "Ignore first average is False!\n",
      "Done calculating averages! Took 5 seconds. Writing averages csv...\n",
      "Wrote averages to: C:\\Users\\Dragos\\MasThesis_output\\hash_120_eps_2.4_mod_10000_2887iter_1\\hash_120_eps_2.4_mod_10000_2887iter_1_averages.csv\n"
     ]
    }
   ],
   "source": [
    "e = 2.4\n",
    "averages_loop(\"hash\", hash_size=120, epsilon=e, mod_precision=10000, iterations=2887, attempt=1, output_dir=output_dir, verbose=2)"
   ]
  },
  {
   "cell_type": "code",
   "execution_count": 32,
   "metadata": {},
   "outputs": [
    {
     "name": "stdout",
     "output_type": "stream",
     "text": [
      "Loading dgilib data into memory for averging from csv files: C:\\Users\\Dragos\\MasThesis_output\\power_gpio\\hash_120_eps_2.5_mod_10000_2887iter_1_[power/gpio].csv\n",
      "Finished getting dgilib data. Took 207 seconds...\n",
      "Calculating averages... \n",
      "Ignore first average is False!\n",
      "Done calculating averages! Took 5 seconds. Writing averages csv...\n",
      "Wrote averages to: C:\\Users\\Dragos\\MasThesis_output\\hash_120_eps_2.5_mod_10000_2887iter_1\\hash_120_eps_2.5_mod_10000_2887iter_1_averages.csv\n"
     ]
    }
   ],
   "source": [
    "e = 2.5\n",
    "averages_loop(\"hash\", hash_size=120, epsilon=e, mod_precision=10000, iterations=2887, attempt=1, output_dir=output_dir, verbose=2)"
   ]
  },
  {
   "cell_type": "code",
   "execution_count": 33,
   "metadata": {},
   "outputs": [
    {
     "name": "stdout",
     "output_type": "stream",
     "text": [
      "Loading dgilib data into memory for averging from csv files: C:\\Users\\Dragos\\MasThesis_output\\power_gpio\\hash_120_eps_2.6_mod_10000_2887iter_1_[power/gpio].csv\n",
      "Finished getting dgilib data. Took 209 seconds...\n",
      "Calculating averages... \n",
      "Ignore first average is False!\n",
      "Done calculating averages! Took 5 seconds. Writing averages csv...\n",
      "Wrote averages to: C:\\Users\\Dragos\\MasThesis_output\\hash_120_eps_2.6_mod_10000_2887iter_1\\hash_120_eps_2.6_mod_10000_2887iter_1_averages.csv\n"
     ]
    }
   ],
   "source": [
    "e = 2.6\n",
    "averages_loop(\"hash\", hash_size=120, epsilon=e, mod_precision=10000, iterations=2887, attempt=1, output_dir=output_dir, verbose=2)"
   ]
  },
  {
   "cell_type": "code",
   "execution_count": 34,
   "metadata": {},
   "outputs": [
    {
     "name": "stdout",
     "output_type": "stream",
     "text": [
      "Loading dgilib data into memory for averging from csv files: C:\\Users\\Dragos\\MasThesis_output\\power_gpio\\hash_120_eps_2.7_mod_10000_2887iter_1_[power/gpio].csv\n",
      "Finished getting dgilib data. Took 209 seconds...\n",
      "Calculating averages... \n",
      "Ignore first average is False!\n",
      "Done calculating averages! Took 5 seconds. Writing averages csv...\n",
      "Wrote averages to: C:\\Users\\Dragos\\MasThesis_output\\hash_120_eps_2.7_mod_10000_2887iter_1\\hash_120_eps_2.7_mod_10000_2887iter_1_averages.csv\n"
     ]
    }
   ],
   "source": [
    "e = 2.7\n",
    "averages_loop(\"hash\", hash_size=120, epsilon=e, mod_precision=10000, iterations=2887, attempt=1, output_dir=output_dir, verbose=2)"
   ]
  },
  {
   "cell_type": "code",
   "execution_count": 35,
   "metadata": {},
   "outputs": [
    {
     "name": "stdout",
     "output_type": "stream",
     "text": [
      "Loading dgilib data into memory for averging from csv files: C:\\Users\\Dragos\\MasThesis_output\\power_gpio\\hash_120_eps_2.8_mod_10000_2887iter_1_[power/gpio].csv\n",
      "Finished getting dgilib data. Took 210 seconds...\n",
      "Calculating averages... \n",
      "Ignore first average is False!\n",
      "Done calculating averages! Took 5 seconds. Writing averages csv...\n",
      "Wrote averages to: C:\\Users\\Dragos\\MasThesis_output\\hash_120_eps_2.8_mod_10000_2887iter_1\\hash_120_eps_2.8_mod_10000_2887iter_1_averages.csv\n"
     ]
    }
   ],
   "source": [
    "e = 2.8\n",
    "averages_loop(\"hash\", hash_size=120, epsilon=e, mod_precision=10000, iterations=2887, attempt=1, output_dir=output_dir, verbose=2)"
   ]
  },
  {
   "cell_type": "code",
   "execution_count": 36,
   "metadata": {},
   "outputs": [
    {
     "name": "stdout",
     "output_type": "stream",
     "text": [
      "Loading dgilib data into memory for averging from csv files: C:\\Users\\Dragos\\MasThesis_output\\power_gpio\\hash_120_eps_2.9_mod_10000_2887iter_1_[power/gpio].csv\n",
      "Finished getting dgilib data. Took 209 seconds...\n",
      "Calculating averages... \n",
      "Ignore first average is False!\n",
      "Done calculating averages! Took 5 seconds. Writing averages csv...\n",
      "Wrote averages to: C:\\Users\\Dragos\\MasThesis_output\\hash_120_eps_2.9_mod_10000_2887iter_1\\hash_120_eps_2.9_mod_10000_2887iter_1_averages.csv\n"
     ]
    }
   ],
   "source": [
    "e = 2.9\n",
    "averages_loop(\"hash\", hash_size=120, epsilon=e, mod_precision=10000, iterations=2887, attempt=1, output_dir=output_dir, verbose=2)"
   ]
  },
  {
   "cell_type": "code",
   "execution_count": 37,
   "metadata": {},
   "outputs": [
    {
     "name": "stdout",
     "output_type": "stream",
     "text": [
      "Loading dgilib data into memory for averging from csv files: C:\\Users\\Dragos\\MasThesis_output\\power_gpio\\hash_120_eps_3.0_mod_10000_2887iter_1_[power/gpio].csv\n",
      "Finished getting dgilib data. Took 209 seconds...\n",
      "Calculating averages... \n",
      "Ignore first average is False!\n",
      "Done calculating averages! Took 5 seconds. Writing averages csv...\n",
      "Wrote averages to: C:\\Users\\Dragos\\MasThesis_output\\hash_120_eps_3.0_mod_10000_2887iter_1\\hash_120_eps_3.0_mod_10000_2887iter_1_averages.csv\n"
     ]
    }
   ],
   "source": [
    "e = 3.0\n",
    "averages_loop(\"hash\", hash_size=120, epsilon=e, mod_precision=10000, iterations=2887, attempt=1, output_dir=output_dir, verbose=2)"
   ]
  },
  {
   "cell_type": "code",
   "execution_count": 38,
   "metadata": {},
   "outputs": [
    {
     "name": "stdout",
     "output_type": "stream",
     "text": [
      "Loading dgilib data into memory for averging from csv files: C:\\Users\\Dragos\\MasThesis_output\\power_gpio\\hash_120_eps_3.1_mod_10000_2887iter_1_[power/gpio].csv\n",
      "Finished getting dgilib data. Took 247 seconds...\n",
      "Calculating averages... \n",
      "Ignore first average is False!\n",
      "Done calculating averages! Took 5 seconds. Writing averages csv...\n",
      "Wrote averages to: C:\\Users\\Dragos\\MasThesis_output\\hash_120_eps_3.1_mod_10000_2887iter_1\\hash_120_eps_3.1_mod_10000_2887iter_1_averages.csv\n"
     ]
    }
   ],
   "source": [
    "e = 3.1\n",
    "averages_loop(\"hash\", hash_size=120, epsilon=e, mod_precision=10000, iterations=2887, attempt=1, output_dir=output_dir, verbose=2)"
   ]
  },
  {
   "cell_type": "code",
   "execution_count": 39,
   "metadata": {},
   "outputs": [
    {
     "name": "stdout",
     "output_type": "stream",
     "text": [
      "Loading dgilib data into memory for averging from csv files: C:\\Users\\Dragos\\MasThesis_output\\power_gpio\\hash_120_eps_3.2_mod_10000_2887iter_1_[power/gpio].csv\n",
      "Finished getting dgilib data. Took 212 seconds...\n",
      "Calculating averages... \n",
      "Ignore first average is False!\n",
      "Done calculating averages! Took 5 seconds. Writing averages csv...\n",
      "Wrote averages to: C:\\Users\\Dragos\\MasThesis_output\\hash_120_eps_3.2_mod_10000_2887iter_1\\hash_120_eps_3.2_mod_10000_2887iter_1_averages.csv\n"
     ]
    }
   ],
   "source": [
    "e = 3.2\n",
    "averages_loop(\"hash\", hash_size=120, epsilon=e, mod_precision=10000, iterations=2887, attempt=1, output_dir=output_dir, verbose=2)"
   ]
  },
  {
   "cell_type": "code",
   "execution_count": 45,
   "metadata": {},
   "outputs": [
    {
     "name": "stdout",
     "output_type": "stream",
     "text": [
      "Loading dgilib data into memory for averging from csv files: C:\\Users\\Dragos\\MasThesis_output\\power_gpio\\hash_120_eps_3.3_mod_10000_2887iter_1_[power/gpio].csv\n",
      "Finished getting dgilib data. Took 252 seconds...\n",
      "Calculating averages... \n",
      "Ignore first average is False!\n",
      "Done calculating averages! Took 5 seconds. Writing averages csv...\n",
      "Wrote averages to: C:\\Users\\Dragos\\MasThesis_output\\hash_120_eps_3.3_mod_10000_2887iter_1\\hash_120_eps_3.3_mod_10000_2887iter_1_averages.csv\n"
     ]
    }
   ],
   "source": [
    "e = 3.3\n",
    "averages_loop(\"hash\", hash_size=120, epsilon=e, mod_precision=10000, iterations=2887, attempt=1, output_dir=output_dir, verbose=2)"
   ]
  },
  {
   "cell_type": "code",
   "execution_count": null,
   "metadata": {},
   "outputs": [],
   "source": [
    "e = 3.4\n",
    "averages_loop(\"hash\", hash_size=120, epsilon=e, mod_precision=10000, iterations=2887, attempt=1, output_dir=output_dir, verbose=2)"
   ]
  },
  {
   "cell_type": "code",
   "execution_count": null,
   "metadata": {},
   "outputs": [],
   "source": [
    "e = 3.5\n",
    "averages_loop(\"hash\", hash_size=120, epsilon=e, mod_precision=10000, iterations=2887, attempt=1, output_dir=output_dir, verbose=2)"
   ]
  },
  {
   "cell_type": "code",
   "execution_count": null,
   "metadata": {},
   "outputs": [],
   "source": [
    "e = 3.6\n",
    "averages_loop(\"hash\", hash_size=120, epsilon=e, mod_precision=10000, iterations=2887, attempt=1, output_dir=output_dir, verbose=2)"
   ]
  },
  {
   "cell_type": "code",
   "execution_count": null,
   "metadata": {},
   "outputs": [],
   "source": [
    "e = 3.7\n",
    "averages_loop(\"hash\", hash_size=120, epsilon=e, mod_precision=10000, iterations=2887, attempt=1, output_dir=output_dir, verbose=2)"
   ]
  },
  {
   "cell_type": "code",
   "execution_count": null,
   "metadata": {},
   "outputs": [],
   "source": [
    "e = 3.8\n",
    "averages_loop(\"hash\", hash_size=120, epsilon=e, mod_precision=10000, iterations=2887, attempt=1, output_dir=output_dir, verbose=2)"
   ]
  },
  {
   "cell_type": "code",
   "execution_count": null,
   "metadata": {},
   "outputs": [],
   "source": [
    "e = 3.9\n",
    "averages_loop(\"hash\", hash_size=120, epsilon=e, mod_precision=10000, iterations=2887, attempt=1, output_dir=output_dir, verbose=2)"
   ]
  },
  {
   "cell_type": "code",
   "execution_count": null,
   "metadata": {},
   "outputs": [],
   "source": [
    "e = 4.0\n",
    "averages_loop(\"hash\", hash_size=120, epsilon=e, mod_precision=10000, iterations=2887, attempt=1, output_dir=output_dir, verbose=2)"
   ]
  },
  {
   "cell_type": "code",
   "execution_count": null,
   "metadata": {},
   "outputs": [],
   "source": [
    "e = 4.1\n",
    "averages_loop(\"hash\", hash_size=120, epsilon=e, mod_precision=10000, iterations=2887, attempt=1, output_dir=output_dir, verbose=2)"
   ]
  },
  {
   "cell_type": "code",
   "execution_count": null,
   "metadata": {},
   "outputs": [],
   "source": [
    "e = 4.2\n",
    "averages_loop(\"hash\", hash_size=120, epsilon=e, mod_precision=10000, iterations=2887, attempt=1, output_dir=output_dir, verbose=2)"
   ]
  },
  {
   "cell_type": "code",
   "execution_count": null,
   "metadata": {},
   "outputs": [],
   "source": [
    "e = 4.3\n",
    "averages_loop(\"hash\", hash_size=120, epsilon=e, mod_precision=10000, iterations=2887, attempt=1, output_dir=output_dir, verbose=2)"
   ]
  },
  {
   "cell_type": "code",
   "execution_count": null,
   "metadata": {},
   "outputs": [],
   "source": [
    "e = 4.4\n",
    "averages_loop(\"hash\", hash_size=120, epsilon=e, mod_precision=10000, iterations=2887, attempt=1, output_dir=output_dir, verbose=2)"
   ]
  },
  {
   "cell_type": "code",
   "execution_count": null,
   "metadata": {},
   "outputs": [],
   "source": [
    "e = 4.5\n",
    "averages_loop(\"hash\", hash_size=120, epsilon=e, mod_precision=10000, iterations=2887, attempt=1, output_dir=output_dir, verbose=2)"
   ]
  },
  {
   "cell_type": "code",
   "execution_count": null,
   "metadata": {},
   "outputs": [],
   "source": [
    "e = 4.6\n",
    "averages_loop(\"hash\", hash_size=120, epsilon=e, mod_precision=10000, iterations=2887, attempt=1, output_dir=output_dir, verbose=2)"
   ]
  },
  {
   "cell_type": "code",
   "execution_count": null,
   "metadata": {},
   "outputs": [],
   "source": [
    "e = 4.7\n",
    "averages_loop(\"hash\", hash_size=120, epsilon=e, mod_precision=10000, iterations=2887, attempt=1, output_dir=output_dir, verbose=2)"
   ]
  },
  {
   "cell_type": "code",
   "execution_count": null,
   "metadata": {},
   "outputs": [],
   "source": [
    "e = 4.8\n",
    "averages_loop(\"hash\", hash_size=120, epsilon=e, mod_precision=10000, iterations=2887, attempt=1, output_dir=output_dir, verbose=2)"
   ]
  },
  {
   "cell_type": "code",
   "execution_count": null,
   "metadata": {},
   "outputs": [],
   "source": [
    "e = 4.9\n",
    "averages_loop(\"hash\", hash_size=120, epsilon=e, mod_precision=10000, iterations=2887, attempt=1, output_dir=output_dir, verbose=2)"
   ]
  },
  {
   "cell_type": "code",
   "execution_count": 48,
   "metadata": {},
   "outputs": [
    {
     "name": "stdout",
     "output_type": "stream",
     "text": [
      "Loading dgilib data into memory for averging from csv files: C:\\Users\\Dragos\\MasThesis_output\\power_gpio\\hash_120_eps_5.0_mod_10000_2887iter_1_[power/gpio].csv\n",
      "Finished getting dgilib data. Took 345 seconds...\n",
      "Calculating averages... \n",
      "Ignore first average is False!\n",
      "Done calculating averages! Took 5 seconds. Writing averages csv...\n",
      "Wrote averages to: C:\\Users\\Dragos\\MasThesis_output\\hash_120_eps_5.0_mod_10000_2887iter_1\\hash_120_eps_5.0_mod_10000_2887iter_1_averages.csv\n"
     ]
    }
   ],
   "source": [
    "e = 5.0\n",
    "averages_loop(\"hash\", hash_size=120, epsilon=e, mod_precision=10000, iterations=2887, attempt=1, output_dir=output_dir, verbose=2)"
   ]
  },
  {
   "cell_type": "code",
   "execution_count": 49,
   "metadata": {},
   "outputs": [
    {
     "name": "stdout",
     "output_type": "stream",
     "text": [
      "Loading dgilib data into memory for averging from csv files: C:\\Users\\Dragos\\MasThesis_output\\power_gpio\\hash_120_eps_5.1_mod_10000_2887iter_1_[power/gpio].csv\n",
      "Finished getting dgilib data. Took 208 seconds...\n",
      "Calculating averages... \n",
      "Ignore first average is False!\n",
      "Done calculating averages! Took 5 seconds. Writing averages csv...\n",
      "Wrote averages to: C:\\Users\\Dragos\\MasThesis_output\\hash_120_eps_5.1_mod_10000_2887iter_1\\hash_120_eps_5.1_mod_10000_2887iter_1_averages.csv\n"
     ]
    }
   ],
   "source": [
    "e = 5.1\n",
    "averages_loop(\"hash\", hash_size=120, epsilon=e, mod_precision=10000, iterations=2887, attempt=1, output_dir=output_dir, verbose=2)"
   ]
  },
  {
   "cell_type": "code",
   "execution_count": 50,
   "metadata": {},
   "outputs": [
    {
     "name": "stdout",
     "output_type": "stream",
     "text": [
      "Loading dgilib data into memory for averging from csv files: C:\\Users\\Dragos\\MasThesis_output\\power_gpio\\hash_120_eps_5.2_mod_10000_2887iter_1_[power/gpio].csv\n",
      "Finished getting dgilib data. Took 203 seconds...\n",
      "Calculating averages... \n",
      "Ignore first average is False!\n",
      "Done calculating averages! Took 5 seconds. Writing averages csv...\n",
      "Wrote averages to: C:\\Users\\Dragos\\MasThesis_output\\hash_120_eps_5.2_mod_10000_2887iter_1\\hash_120_eps_5.2_mod_10000_2887iter_1_averages.csv\n"
     ]
    }
   ],
   "source": [
    "e = 5.2\n",
    "averages_loop(\"hash\", hash_size=120, epsilon=e, mod_precision=10000, iterations=2887, attempt=1, output_dir=output_dir, verbose=2)"
   ]
  },
  {
   "cell_type": "code",
   "execution_count": 58,
   "metadata": {},
   "outputs": [
    {
     "name": "stdout",
     "output_type": "stream",
     "text": [
      "Loading dgilib data into memory for averging from csv files: C:\\Users\\Dragos\\MasThesis_output\\power_gpio\\hash_120_eps_5.3_mod_10000_2887iter_1_[power/gpio].csv\n",
      "Finished getting dgilib data. Took 215 seconds...\n",
      "Calculating averages... \n",
      "Ignore first average is False!\n",
      "Done calculating averages! Took 7 seconds. Writing averages csv...\n",
      "Wrote averages to: C:\\Users\\Dragos\\MasThesis_output\\hash_120_eps_5.3_mod_10000_2887iter_1\\hash_120_eps_5.3_mod_10000_2887iter_1_averages.csv\n"
     ]
    }
   ],
   "source": [
    "e = 5.3\n",
    "averages_loop(\"hash\", hash_size=120, epsilon=e, mod_precision=10000, iterations=2887, attempt=1, output_dir=output_dir, verbose=2)"
   ]
  },
  {
   "cell_type": "code",
   "execution_count": 59,
   "metadata": {},
   "outputs": [
    {
     "name": "stdout",
     "output_type": "stream",
     "text": [
      "Loading dgilib data into memory for averging from csv files: C:\\Users\\Dragos\\MasThesis_output\\power_gpio\\hash_120_eps_5.4_mod_10000_2887iter_1_[power/gpio].csv\n",
      "Finished getting dgilib data. Took 290 seconds...\n",
      "Calculating averages... \n",
      "Ignore first average is False!\n",
      "Done calculating averages! Took 6 seconds. Writing averages csv...\n",
      "Wrote averages to: C:\\Users\\Dragos\\MasThesis_output\\hash_120_eps_5.4_mod_10000_2887iter_1\\hash_120_eps_5.4_mod_10000_2887iter_1_averages.csv\n"
     ]
    }
   ],
   "source": [
    "e = 5.4\n",
    "averages_loop(\"hash\", hash_size=120, epsilon=e, mod_precision=10000, iterations=2887, attempt=1, output_dir=output_dir, verbose=2)"
   ]
  },
  {
   "cell_type": "code",
   "execution_count": 53,
   "metadata": {},
   "outputs": [
    {
     "name": "stdout",
     "output_type": "stream",
     "text": [
      "Loading dgilib data into memory for averging from csv files: C:\\Users\\Dragos\\MasThesis_output\\power_gpio\\hash_120_eps_5.5_mod_10000_2887iter_1_[power/gpio].csv\n",
      "Finished getting dgilib data. Took 258 seconds...\n",
      "Calculating averages... \n",
      "Ignore first average is False!\n",
      "Done calculating averages! Took 6 seconds. Writing averages csv...\n",
      "Wrote averages to: C:\\Users\\Dragos\\MasThesis_output\\hash_120_eps_5.5_mod_10000_2887iter_1\\hash_120_eps_5.5_mod_10000_2887iter_1_averages.csv\n"
     ]
    }
   ],
   "source": [
    "e = 5.5\n",
    "averages_loop(\"hash\", hash_size=120, epsilon=e, mod_precision=10000, iterations=2887, attempt=1, output_dir=output_dir, verbose=2)"
   ]
  },
  {
   "cell_type": "code",
   "execution_count": 54,
   "metadata": {},
   "outputs": [
    {
     "name": "stdout",
     "output_type": "stream",
     "text": [
      "Loading dgilib data into memory for averging from csv files: C:\\Users\\Dragos\\MasThesis_output\\power_gpio\\hash_120_eps_5.6_mod_10000_2887iter_1_[power/gpio].csv\n",
      "Finished getting dgilib data. Took 250 seconds...\n",
      "Calculating averages... \n",
      "Ignore first average is False!\n",
      "Done calculating averages! Took 5 seconds. Writing averages csv...\n",
      "Wrote averages to: C:\\Users\\Dragos\\MasThesis_output\\hash_120_eps_5.6_mod_10000_2887iter_1\\hash_120_eps_5.6_mod_10000_2887iter_1_averages.csv\n"
     ]
    }
   ],
   "source": [
    "e = 5.6\n",
    "averages_loop(\"hash\", hash_size=120, epsilon=e, mod_precision=10000, iterations=2887, attempt=1, output_dir=output_dir, verbose=2)"
   ]
  },
  {
   "cell_type": "code",
   "execution_count": 55,
   "metadata": {},
   "outputs": [
    {
     "name": "stdout",
     "output_type": "stream",
     "text": [
      "Loading dgilib data into memory for averging from csv files: C:\\Users\\Dragos\\MasThesis_output\\power_gpio\\hash_120_eps_5.7_mod_10000_2887iter_1_[power/gpio].csv\n",
      "Finished getting dgilib data. Took 294 seconds...\n",
      "Calculating averages... \n",
      "Ignore first average is False!\n",
      "Done calculating averages! Took 5 seconds. Writing averages csv...\n",
      "Wrote averages to: C:\\Users\\Dragos\\MasThesis_output\\hash_120_eps_5.7_mod_10000_2887iter_1\\hash_120_eps_5.7_mod_10000_2887iter_1_averages.csv\n"
     ]
    }
   ],
   "source": [
    "e = 5.7\n",
    "averages_loop(\"hash\", hash_size=120, epsilon=e, mod_precision=10000, iterations=2887, attempt=1, output_dir=output_dir, verbose=2)"
   ]
  },
  {
   "cell_type": "code",
   "execution_count": 56,
   "metadata": {},
   "outputs": [
    {
     "name": "stdout",
     "output_type": "stream",
     "text": [
      "Loading dgilib data into memory for averging from csv files: C:\\Users\\Dragos\\MasThesis_output\\power_gpio\\hash_120_eps_5.8_mod_10000_2887iter_1_[power/gpio].csv\n",
      "Finished getting dgilib data. Took 218 seconds...\n",
      "Calculating averages... \n",
      "Ignore first average is False!\n",
      "Done calculating averages! Took 5 seconds. Writing averages csv...\n",
      "Wrote averages to: C:\\Users\\Dragos\\MasThesis_output\\hash_120_eps_5.8_mod_10000_2887iter_1\\hash_120_eps_5.8_mod_10000_2887iter_1_averages.csv\n"
     ]
    }
   ],
   "source": [
    "e = 5.8\n",
    "averages_loop(\"hash\", hash_size=120, epsilon=e, mod_precision=10000, iterations=2887, attempt=1, output_dir=output_dir, verbose=2)"
   ]
  },
  {
   "cell_type": "code",
   "execution_count": 57,
   "metadata": {},
   "outputs": [
    {
     "name": "stdout",
     "output_type": "stream",
     "text": [
      "Loading dgilib data into memory for averging from csv files: C:\\Users\\Dragos\\MasThesis_output\\power_gpio\\hash_120_eps_5.9_mod_10000_2887iter_1_[power/gpio].csv\n",
      "Finished getting dgilib data. Took 216 seconds...\n",
      "Calculating averages... \n",
      "Ignore first average is False!\n",
      "Done calculating averages! Took 65 seconds. Writing averages csv...\n",
      "Wrote averages to: C:\\Users\\Dragos\\MasThesis_output\\hash_120_eps_5.9_mod_10000_2887iter_1\\hash_120_eps_5.9_mod_10000_2887iter_1_averages.csv\n"
     ]
    }
   ],
   "source": [
    "e = 5.9\n",
    "averages_loop(\"hash\", hash_size=120, epsilon=e, mod_precision=10000, iterations=2887, attempt=1, output_dir=output_dir, verbose=2)"
   ]
  },
  {
   "cell_type": "code",
   "execution_count": null,
   "metadata": {},
   "outputs": [],
   "source": []
  }
 ],
 "metadata": {
  "kernelspec": {
   "display_name": "Python 3",
   "language": "python",
   "name": "python3"
  },
  "language_info": {
   "codemirror_mode": {
    "name": "ipython",
    "version": 3
   },
   "file_extension": ".py",
   "mimetype": "text/x-python",
   "name": "python",
   "nbconvert_exporter": "python",
   "pygments_lexer": "ipython3",
   "version": "3.7.2"
  }
 },
 "nbformat": 4,
 "nbformat_minor": 2
}
