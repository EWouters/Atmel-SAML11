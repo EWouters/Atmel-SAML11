{
 "cells": [
  {
   "cell_type": "code",
   "execution_count": 1,
   "metadata": {},
   "outputs": [],
   "source": [
    "%matplotlib qt"
   ]
  },
  {
   "cell_type": "code",
   "execution_count": 2,
   "metadata": {},
   "outputs": [],
   "source": [
    "import numpy as np\n",
    "import matplotlib.pyplot as plt\n",
    "from matplotlib.ticker import MaxNLocator\n",
    "from collections import namedtuple"
   ]
  },
  {
   "cell_type": "code",
   "execution_count": 3,
   "metadata": {},
   "outputs": [],
   "source": [
    "import pandas as pd\n",
    "import os\n",
    "from sys import platform\n",
    "from time import time\n",
    "from shutil import copy"
   ]
  },
  {
   "cell_type": "code",
   "execution_count": 4,
   "metadata": {},
   "outputs": [],
   "source": [
    "from pydgilib_extra import DGILibAverages, power_and_time_per_pulse, rise_and_fall_times\n",
    "from experiment.plotting import *"
   ]
  },
  {
   "cell_type": "code",
   "execution_count": 5,
   "metadata": {},
   "outputs": [],
   "source": [
    "import dgilib_threaded as dgi_t\n",
    "from atprogram.atprogram import atprogram\n"
   ]
  },
  {
   "cell_type": "code",
   "execution_count": 6,
   "metadata": {},
   "outputs": [],
   "source": [
    "import ctypes\n",
    "try:\n",
    "    ctypes.windll.shcore.SetProcessDpiAwareness(True)\n",
    "except:\n",
    "    pass"
   ]
  },
  {
   "cell_type": "markdown",
   "metadata": {},
   "source": [
    "Common constants"
   ]
  },
  {
   "cell_type": "code",
   "execution_count": 7,
   "metadata": {},
   "outputs": [],
   "source": [
    "experiment = \"baseline\" # or hash\n",
    "hash_size = 8\n",
    "mod_accuracy = 5\n",
    "iterations = 100\n",
    "duration = 60\n",
    "\n",
    "hash_size_str = \"\"\n",
    "if experiment == \"hash\":\n",
    "    hash_size_str = str(hash_size)"
   ]
  },
  {
   "cell_type": "markdown",
   "metadata": {},
   "source": [
    "File locations for experiments"
   ]
  },
  {
   "cell_type": "code",
   "execution_count": 8,
   "metadata": {},
   "outputs": [],
   "source": [
    "compile_base_dir = os.path.join(os.path.dirname(os.getcwd()),\"KalmanARM\")\n",
    "project_dir = os.path.join(compile_base_dir, \"STDIO_Redirect_w_TrustZone\")\n",
    "\n",
    "exprm_base_dir = os.path.join(os.getcwd(), \"output\")\n",
    "main_file_from = os.path.join(compile_base_dir, \"main_\" + experiment + \".c\")\n",
    "main_file_to = os.path.join(project_dir, \"main.c\")\n",
    "\n",
    "initial_output = os.path.join(exprm_base_dir, \"output_arm.csv\")"
   ]
  },
  {
   "cell_type": "markdown",
   "metadata": {},
   "source": [
    "File locations for plotting"
   ]
  },
  {
   "cell_type": "code",
   "execution_count": 9,
   "metadata": {},
   "outputs": [],
   "source": [
    "plot_base_folder = os.path.join(os.getcwd(),\"good_results\")\n",
    "original_output = os.path.join(plot_base_folder, \"original_output.csv\")\n",
    "\n",
    "exprm_output_name = experiment + hash_size_str + \"_\" + str(iterations) + \"iter_output.csv\"\n",
    "exprm_averages_name = experiment + hash_size_str + \"_\" + str(iterations) + \"_averages.csv\"\n",
    "exprm_output = os.path.join(plot_base_folder, exprm_output_name)\n",
    "exprm_averages = os.path.join(plot_base_folder, exprm_averages_name)"
   ]
  },
  {
   "cell_type": "markdown",
   "metadata": {},
   "source": [
    "**Experiment**"
   ]
  },
  {
   "cell_type": "code",
   "execution_count": 10,
   "metadata": {},
   "outputs": [
    {
     "name": "stdout",
     "output_type": "stream",
     "text": [
      "Copied 'C:\\Users\\Dragos\\Dropbox\\RISE\\Git\\KalmanARM\\main_baseline.c' to 'C:\\Users\\Dragos\\Dropbox\\RISE\\Git\\KalmanARM\\STDIO_Redirect_w_TrustZone\\main.c'\n"
     ]
    }
   ],
   "source": [
    "copy(main_file_from, main_file_to)\n",
    "print(\"Copied '\"+ main_file_from + \"' to '\" + main_file_to + \"'\")"
   ]
  },
  {
   "cell_type": "code",
   "execution_count": 11,
   "metadata": {},
   "outputs": [],
   "source": [
    "if False: atprogram(project_dir, verbose=1)"
   ]
  },
  {
   "cell_type": "code",
   "execution_count": 12,
   "metadata": {},
   "outputs": [
    {
     "name": "stdout",
     "output_type": "stream",
     "text": [
      "Reading line 101/101\n",
      "\n",
      "Written Kalman output to 'output/output_arm.csv'\n",
      "\n",
      "Receiving thread done!\n",
      "Sending thread done!\n",
      "Sent measurement data and preprocessed averages data to main thread.\n",
      "Measurement thread waiting for plot...\n",
      "Measurement thread done!\n",
      "Main thread done!\n"
     ]
    }
   ],
   "source": [
    "data, preprocessed_data = dgi_t.start(duration, iterations)\n",
    "dgi_t.wait_dgilib()\n",
    "dgi_t.wait_sendrecv()"
   ]
  },
  {
   "cell_type": "markdown",
   "metadata": {},
   "source": [
    "Save Kalman output"
   ]
  },
  {
   "cell_type": "code",
   "execution_count": 13,
   "metadata": {},
   "outputs": [
    {
     "name": "stdout",
     "output_type": "stream",
     "text": [
      "Copied 'C:\\Users\\Dragos\\Dropbox\\RISE\\Git\\PythonCSV\\output\\output_arm.csv' to 'C:\\Users\\Dragos\\Dropbox\\RISE\\Git\\PythonCSV\\output\\baseline_100iter_output.csv'\n"
     ]
    }
   ],
   "source": [
    "initial_exprm_output = os.path.join(exprm_base_dir, exprm_output_name)\n",
    "copy(initial_output, exprm_output)\n",
    "print(\"Copied '\"+ initial_output + \"' to '\" + initial_exprm_output + \"'\")"
   ]
  },
  {
   "cell_type": "markdown",
   "metadata": {},
   "source": [
    "Save averages data"
   ]
  },
  {
   "cell_type": "code",
   "execution_count": 14,
   "metadata": {},
   "outputs": [
    {
     "name": "stdout",
     "output_type": "stream",
     "text": [
      "    1: (   0.96552 s,    0.97576 s) =    0.01024 s         ignored mC\n",
      "    2: (    1.4232 s,     1.4344 s) =     0.0112 s        0.005657 mC\n",
      "    3: (     1.863 s,    1.87446 s) =    0.01146 s          0.0058 mC\n",
      "    4: (   2.43836 s,    2.44982 s) =    0.01146 s        0.005798 mC\n",
      "    5: (   2.87078 s,     2.8823 s) =    0.01152 s        0.005805 mC\n",
      "    6: (    3.4343 s,    3.44584 s) =    0.01154 s        0.005847 mC\n",
      "    7: (   3.93076 s,    3.94225 s) =    0.01149 s          0.0058 mC\n",
      "    8: (   4.51758 s,    4.52908 s) =     0.0115 s        0.005857 mC\n",
      "    9: (   5.17604 s,    5.18755 s) =    0.01151 s        0.005817 mC\n",
      "   10: (   5.81594 s,    5.82747 s) =    0.01153 s        0.005857 mC\n",
      "   11: (   6.29639 s,    6.30798 s) =    0.01159 s        0.005875 mC\n",
      "   12: (   6.82547 s,      6.837 s) =    0.01153 s        0.005858 mC\n",
      "   13: (   7.41777 s,    7.42925 s) =    0.01148 s        0.005816 mC\n",
      "   14: (   7.86008 s,    7.87153 s) =    0.01145 s        0.005809 mC\n",
      "   15: (   8.30228 s,    8.31366 s) =    0.01138 s         0.00577 mC\n",
      "   16: (     8.852 s,    8.86353 s) =    0.01153 s        0.005819 mC\n",
      "   17: (   9.36876 s,    9.38017 s) =    0.01141 s        0.005806 mC\n",
      "   18: (   9.89902 s,    9.91042 s) =     0.0114 s        0.005765 mC\n",
      "   19: (  10.44242 s,   10.45389 s) =    0.01147 s        0.005818 mC\n",
      "   20: (  10.97551 s,   10.98712 s) =    0.01161 s        0.005886 mC\n",
      "   21: (  11.53165 s,   11.54318 s) =    0.01153 s        0.005848 mC\n",
      "   22: (  12.17765 s,   12.18901 s) =    0.01136 s        0.005766 mC\n",
      "   23: (  12.67116 s,   12.68266 s) =     0.0115 s         0.00586 mC\n",
      "   24: (  13.06794 s,   13.07939 s) =    0.01145 s        0.005816 mC\n",
      "   25: (  13.60682 s,   13.61825 s) =    0.01143 s        0.005767 mC\n",
      "   26: (  14.22466 s,   14.23634 s) =    0.01168 s        0.005926 mC\n",
      "   27: (  14.72039 s,   14.73191 s) =    0.01152 s        0.005848 mC\n",
      "   28: (   15.2689 s,   15.28082 s) =    0.01192 s        0.006047 mC\n",
      "   29: (  15.75502 s,   15.76661 s) =    0.01159 s          0.0059 mC\n",
      "   30: (   16.2294 s,   16.24072 s) =    0.01132 s         0.00576 mC\n",
      "   31: (  16.86159 s,    16.8729 s) =    0.01131 s        0.005741 mC\n",
      "   32: (  17.50923 s,   17.52083 s) =     0.0116 s        0.005888 mC\n",
      "   33: (  18.18149 s,   18.19318 s) =    0.01169 s        0.005946 mC\n",
      "   34: (  18.78695 s,   18.79844 s) =    0.01149 s         0.00585 mC\n",
      "   35: (  19.27519 s,   19.28669 s) =     0.0115 s         0.00582 mC\n",
      "   36: (  19.76754 s,   19.77913 s) =    0.01159 s        0.005875 mC\n",
      "   37: (   20.3549 s,    20.3666 s) =     0.0117 s        0.005961 mC\n",
      "   38: (  20.87063 s,   20.88195 s) =    0.01132 s        0.005754 mC\n",
      "   39: (  21.41331 s,   21.42474 s) =    0.01143 s        0.005789 mC\n",
      "   40: (  21.91814 s,   21.92957 s) =    0.01143 s        0.005795 mC\n",
      "   41: (  22.34972 s,   22.36115 s) =    0.01143 s        0.005795 mC\n",
      "   42: (  22.93713 s,    22.9486 s) =    0.01147 s        0.005768 mC\n",
      "   43: (  23.47686 s,   23.48833 s) =    0.01147 s        0.005771 mC\n",
      "   44: (  24.04159 s,   24.05305 s) =    0.01146 s        0.005779 mC\n",
      "   45: (  24.54496 s,   24.55647 s) =    0.01151 s        0.005799 mC\n",
      "   46: (   25.2306 s,   25.24193 s) =    0.01133 s        0.005794 mC\n",
      "   47: (   25.9762 s,   25.98758 s) =    0.01138 s        0.005799 mC\n",
      "   48: (  26.51909 s,   26.53043 s) =    0.01134 s        0.005764 mC\n",
      "   49: (  27.12037 s,    27.1317 s) =    0.01133 s        0.005759 mC\n",
      "   50: (  27.75845 s,   27.76981 s) =    0.01136 s        0.005759 mC\n",
      "   51: (  28.20782 s,   28.21954 s) =    0.01172 s        0.005938 mC\n",
      "   52: (  28.72464 s,   28.73636 s) =    0.01172 s         0.00593 mC\n",
      "   53: (  29.36001 s,   29.37176 s) =    0.01175 s        0.005974 mC\n",
      "   54: (  30.02821 s,   30.03979 s) =    0.01158 s        0.005845 mC\n",
      "   55: (  30.62428 s,    30.6358 s) =    0.01152 s        0.005825 mC\n",
      "   56: (   31.1384 s,   31.14989 s) =    0.01149 s        0.005891 mC\n",
      "   57: (  31.70339 s,   31.71474 s) =    0.01135 s        0.005774 mC\n",
      "   58: (  32.22391 s,   32.23529 s) =    0.01138 s        0.005758 mC\n",
      "   59: (  32.66207 s,   32.67334 s) =    0.01127 s        0.005727 mC\n",
      "   60: (  33.24978 s,   33.26151 s) =    0.01173 s        0.005946 mC\n",
      "   61: (  33.87156 s,   33.88326 s) =     0.0117 s        0.005936 mC\n",
      "   62: (  34.37704 s,    34.3885 s) =    0.01146 s        0.005772 mC\n",
      "   63: (  34.91007 s,   34.92157 s) =     0.0115 s        0.005824 mC\n",
      "   64: (  35.44167 s,   35.45303 s) =    0.01136 s        0.005763 mC\n",
      "   65: (  36.06333 s,   36.07468 s) =    0.01135 s        0.005777 mC\n",
      "   66: (  36.59583 s,   36.60718 s) =    0.01135 s        0.005769 mC\n",
      "   67: (  37.15873 s,   37.17004 s) =    0.01131 s        0.005736 mC\n",
      "   68: (   37.7404 s,   37.75173 s) =    0.01133 s        0.005756 mC\n",
      "   69: (  38.30685 s,   38.31833 s) =    0.01148 s        0.005833 mC\n",
      "   70: (  38.77737 s,    38.7888 s) =    0.01143 s        0.005775 mC\n",
      "   71: (  39.31434 s,   39.32584 s) =     0.0115 s        0.005814 mC\n",
      "   72: (  39.87333 s,   39.88483 s) =     0.0115 s        0.005825 mC\n",
      "   73: (  40.28247 s,   40.29397 s) =     0.0115 s        0.005838 mC\n",
      "   74: (  40.84365 s,   40.85511 s) =    0.01146 s        0.005816 mC\n",
      "   75: (  41.30414 s,   41.31585 s) =    0.01171 s        0.005938 mC\n",
      "   76: (  41.77571 s,   41.78744 s) =    0.01173 s        0.005953 mC\n",
      "   77: (  42.29841 s,   42.30984 s) =    0.01143 s        0.005806 mC\n",
      "   78: (   42.8644 s,    42.8759 s) =     0.0115 s        0.005823 mC\n",
      "   79: (  43.37122 s,   43.38271 s) =    0.01149 s        0.005825 mC\n",
      "   80: (  43.96919 s,   43.98066 s) =    0.01147 s        0.005827 mC\n",
      "   81: (  44.45627 s,   44.46761 s) =    0.01134 s        0.005773 mC\n",
      "   82: (  45.09943 s,   45.11078 s) =    0.01135 s        0.005763 mC\n",
      "   83: (   45.6981 s,    45.7094 s) =     0.0113 s        0.005733 mC\n",
      "   84: (  46.16796 s,   46.17944 s) =    0.01148 s        0.005833 mC\n",
      "   85: (  46.77363 s,   46.78513 s) =     0.0115 s        0.005854 mC\n",
      "   86: (   47.3296 s,   47.34109 s) =    0.01149 s        0.005834 mC\n",
      "   87: (  47.86634 s,   47.87777 s) =    0.01143 s        0.005817 mC\n",
      "   88: (  48.52036 s,   48.53181 s) =    0.01145 s        0.005774 mC\n",
      "   89: (  49.11057 s,   49.12205 s) =    0.01148 s        0.005787 mC\n",
      "   90: (  49.76912 s,   49.78062 s) =     0.0115 s        0.005865 mC\n",
      "   91: (  50.40986 s,   50.42136 s) =     0.0115 s        0.005839 mC\n",
      "   92: (  51.02359 s,   51.03532 s) =    0.01173 s        0.005935 mC\n",
      "   93: (  51.61049 s,   51.62214 s) =    0.01165 s        0.005939 mC\n",
      "   94: (  52.24615 s,   52.25775 s) =     0.0116 s        0.005893 mC\n",
      "   95: (  52.80049 s,   52.81235 s) =    0.01186 s        0.006016 mC\n",
      "   96: (  53.41305 s,   53.42486 s) =    0.01181 s        0.006004 mC\n",
      "   97: (  54.17188 s,   54.18344 s) =    0.01156 s        0.005867 mC\n",
      "   98: (  54.64529 s,   54.65668 s) =    0.01139 s        0.005789 mC\n",
      "   99: (  55.13734 s,     55.149 s) =    0.01166 s        0.005904 mC\n",
      "  100: (  55.74795 s,   55.75949 s) =    0.01154 s        0.005808 mC\n",
      "Average charge per iteration: 5.830778661 uC\n",
      "Average energy per iteration: 29.153893 uJ\n",
      "Average time per iteration: 11.496819 ms\n",
      "\n",
      "Total iterations: 99\n",
      "Total average current: 0.507165 mA\n",
      "Total charge: 0.577247 mC\n",
      "Total energy: 2.886235 mJ\n",
      "Total time: 1.138185 s\n",
      "\n",
      "Benchmark time: 0.23985052 s\n"
     ]
    }
   ],
   "source": [
    "avg1 = DGILibAverages(data = data, preprocessed_data = preprocessed_data, average_function=\"leftpoint\")\n",
    "avg1.calculate_averages_for_pin(1)\n",
    "avg1.print_averages_for_pin(1)"
   ]
  },
  {
   "cell_type": "code",
   "execution_count": 17,
   "metadata": {},
   "outputs": [
    {
     "name": "stdout",
     "output_type": "stream",
     "text": [
      "    1: (   0.96552 s,    0.97576 s) =    0.01024 s         ignored mC\n",
      "    1: (    1.4232 s,     1.4344 s) =     0.0112 s         0.00569 mC\n",
      "    2: (     1.863 s,    1.87446 s) =    0.01146 s        0.005832 mC\n",
      "    3: (   2.43836 s,    2.44982 s) =    0.01146 s        0.005833 mC\n",
      "    4: (   2.87078 s,     2.8823 s) =    0.01152 s        0.005839 mC\n",
      "    5: (    3.4343 s,    3.44584 s) =    0.01154 s        0.005881 mC\n",
      "    6: (   3.93076 s,    3.94225 s) =    0.01149 s        0.005835 mC\n",
      "    7: (   4.51758 s,    4.52908 s) =     0.0115 s        0.005891 mC\n",
      "    8: (   5.17604 s,    5.18755 s) =    0.01151 s        0.005852 mC\n",
      "    9: (   5.81594 s,    5.82747 s) =    0.01153 s        0.005891 mC\n",
      "   10: (   6.29639 s,    6.30798 s) =    0.01159 s        0.005908 mC\n",
      "   11: (   6.82547 s,      6.837 s) =    0.01153 s        0.005892 mC\n",
      "   12: (   7.41777 s,    7.42925 s) =    0.01148 s        0.005851 mC\n",
      "   13: (   7.86008 s,    7.87153 s) =    0.01145 s        0.005843 mC\n",
      "   14: (   8.30228 s,    8.31366 s) =    0.01138 s        0.005803 mC\n",
      "   15: (     8.852 s,    8.86353 s) =    0.01153 s        0.005853 mC\n",
      "   16: (   9.36876 s,    9.38017 s) =    0.01141 s        0.005839 mC\n",
      "   17: (   9.89902 s,    9.91042 s) =     0.0114 s        0.005798 mC\n",
      "   18: (  10.44242 s,   10.45389 s) =    0.01147 s        0.005851 mC\n",
      "   19: (  10.97551 s,   10.98712 s) =    0.01161 s        0.005919 mC\n",
      "   20: (  11.53165 s,   11.54318 s) =    0.01153 s        0.005883 mC\n",
      "   21: (  12.17765 s,   12.18901 s) =    0.01136 s          0.0058 mC\n",
      "   22: (  12.67116 s,   12.68266 s) =     0.0115 s        0.005894 mC\n",
      "   23: (  13.06794 s,   13.07939 s) =    0.01145 s        0.005851 mC\n",
      "   24: (  13.60682 s,   13.61825 s) =    0.01143 s        0.005801 mC\n",
      "   25: (  14.22466 s,   14.23634 s) =    0.01168 s        0.005961 mC\n",
      "   26: (  14.72039 s,   14.73191 s) =    0.01152 s        0.005883 mC\n",
      "   27: (   15.2689 s,   15.28082 s) =    0.01192 s        0.006083 mC\n",
      "   28: (  15.75502 s,   15.76661 s) =    0.01159 s        0.005935 mC\n",
      "   29: (   16.2294 s,   16.24072 s) =    0.01132 s        0.005794 mC\n",
      "   30: (  16.86159 s,    16.8729 s) =    0.01131 s        0.005774 mC\n",
      "   31: (  17.50923 s,   17.52083 s) =     0.0116 s        0.005923 mC\n",
      "   32: (  18.18149 s,   18.19318 s) =    0.01169 s         0.00598 mC\n",
      "   33: (  18.78695 s,   18.79844 s) =    0.01149 s        0.005884 mC\n",
      "   34: (  19.27519 s,   19.28669 s) =     0.0115 s        0.005855 mC\n",
      "   35: (  19.76754 s,   19.77913 s) =    0.01159 s         0.00591 mC\n",
      "   36: (   20.3549 s,    20.3666 s) =     0.0117 s        0.005996 mC\n",
      "   37: (  20.87063 s,   20.88195 s) =    0.01132 s        0.005788 mC\n",
      "   38: (  21.41331 s,   21.42474 s) =    0.01143 s        0.005823 mC\n",
      "   39: (  21.91814 s,   21.92957 s) =    0.01143 s        0.005829 mC\n",
      "   40: (  22.34972 s,   22.36115 s) =    0.01143 s        0.005828 mC\n",
      "   41: (  22.93713 s,    22.9486 s) =    0.01147 s        0.005801 mC\n",
      "   42: (  23.47686 s,   23.48833 s) =    0.01147 s        0.005804 mC\n",
      "   43: (  24.04159 s,   24.05305 s) =    0.01146 s        0.005814 mC\n",
      "   44: (  24.54496 s,   24.55647 s) =    0.01151 s        0.005831 mC\n",
      "   45: (   25.2306 s,   25.24193 s) =    0.01133 s        0.005829 mC\n",
      "   46: (   25.9762 s,   25.98758 s) =    0.01138 s        0.005834 mC\n",
      "   47: (  26.51909 s,   26.53043 s) =    0.01134 s        0.005799 mC\n",
      "   48: (  27.12037 s,    27.1317 s) =    0.01133 s        0.005794 mC\n",
      "   49: (  27.75845 s,   27.76981 s) =    0.01136 s        0.005792 mC\n",
      "   50: (  28.20782 s,   28.21954 s) =    0.01172 s        0.005972 mC\n",
      "   51: (  28.72464 s,   28.73636 s) =    0.01172 s        0.005962 mC\n",
      "   52: (  29.36001 s,   29.37176 s) =    0.01175 s        0.006008 mC\n",
      "   53: (  30.02821 s,   30.03979 s) =    0.01158 s        0.005878 mC\n",
      "   54: (  30.62428 s,    30.6358 s) =    0.01152 s        0.005858 mC\n",
      "   55: (   31.1384 s,   31.14989 s) =    0.01149 s        0.005925 mC\n",
      "   56: (  31.70339 s,   31.71474 s) =    0.01135 s        0.005808 mC\n",
      "   57: (  32.22391 s,   32.23529 s) =    0.01138 s         0.00579 mC\n",
      "   58: (  32.66207 s,   32.67334 s) =    0.01127 s        0.005761 mC\n",
      "   59: (  33.24978 s,   33.26151 s) =    0.01173 s        0.005981 mC\n",
      "   60: (  33.87156 s,   33.88326 s) =     0.0117 s        0.005969 mC\n",
      "   61: (  34.37704 s,    34.3885 s) =    0.01146 s        0.005804 mC\n",
      "   62: (  34.91007 s,   34.92157 s) =     0.0115 s        0.005857 mC\n",
      "   63: (  35.44167 s,   35.45303 s) =    0.01136 s        0.005797 mC\n",
      "   64: (  36.06333 s,   36.07468 s) =    0.01135 s        0.005811 mC\n",
      "   65: (  36.59583 s,   36.60718 s) =    0.01135 s        0.005803 mC\n",
      "   66: (  37.15873 s,   37.17004 s) =    0.01131 s         0.00577 mC\n",
      "   67: (   37.7404 s,   37.75173 s) =    0.01133 s        0.005791 mC\n",
      "   68: (  38.30685 s,   38.31833 s) =    0.01148 s        0.005866 mC\n",
      "   69: (  38.77737 s,    38.7888 s) =    0.01143 s        0.005808 mC\n",
      "   70: (  39.31434 s,   39.32584 s) =     0.0115 s        0.005847 mC\n",
      "   71: (  39.87333 s,   39.88483 s) =     0.0115 s         0.00586 mC\n",
      "   72: (  40.28247 s,   40.29397 s) =     0.0115 s        0.005873 mC\n",
      "   73: (  40.84365 s,   40.85511 s) =    0.01146 s         0.00585 mC\n",
      "   74: (  41.30414 s,   41.31585 s) =    0.01171 s        0.005973 mC\n",
      "   75: (  41.77571 s,   41.78744 s) =    0.01173 s        0.005987 mC\n",
      "   76: (  42.29841 s,   42.30984 s) =    0.01143 s        0.005838 mC\n",
      "   77: (   42.8644 s,    42.8759 s) =     0.0115 s        0.005857 mC\n",
      "   78: (  43.37122 s,   43.38271 s) =    0.01149 s         0.00586 mC\n",
      "   79: (  43.96919 s,   43.98066 s) =    0.01147 s        0.005861 mC\n",
      "   80: (  44.45627 s,   44.46761 s) =    0.01134 s        0.005806 mC\n",
      "   81: (  45.09943 s,   45.11078 s) =    0.01135 s        0.005798 mC\n",
      "   82: (   45.6981 s,    45.7094 s) =     0.0113 s        0.005766 mC\n",
      "   83: (  46.16796 s,   46.17944 s) =    0.01148 s        0.005865 mC\n",
      "   84: (  46.77363 s,   46.78513 s) =     0.0115 s        0.005889 mC\n",
      "   85: (   47.3296 s,   47.34109 s) =    0.01149 s        0.005869 mC\n",
      "   86: (  47.86634 s,   47.87777 s) =    0.01143 s         0.00585 mC\n",
      "   87: (  48.52036 s,   48.53181 s) =    0.01145 s        0.005809 mC\n",
      "   88: (  49.11057 s,   49.12205 s) =    0.01148 s         0.00582 mC\n",
      "   89: (  49.76912 s,   49.78062 s) =     0.0115 s        0.005899 mC\n",
      "   90: (  50.40986 s,   50.42136 s) =     0.0115 s        0.005872 mC\n",
      "   91: (  51.02359 s,   51.03532 s) =    0.01173 s        0.005967 mC\n",
      "   92: (  51.61049 s,   51.62214 s) =    0.01165 s        0.005975 mC\n",
      "   93: (  52.24615 s,   52.25775 s) =     0.0116 s        0.005927 mC\n",
      "   94: (  52.80049 s,   52.81235 s) =    0.01186 s        0.006051 mC\n",
      "   95: (  53.41305 s,   53.42486 s) =    0.01181 s        0.006038 mC\n",
      "   96: (  54.17188 s,   54.18344 s) =    0.01156 s        0.005899 mC\n",
      "   97: (  54.64529 s,   54.65668 s) =    0.01139 s        0.005823 mC\n",
      "   98: (  55.13734 s,     55.149 s) =    0.01166 s        0.005938 mC\n",
      "   99: (  55.74795 s,   55.75949 s) =    0.01154 s        0.005843 mC\n",
      "Average charge per iteration: 5.864660511 uC\n",
      "Average energy per iteration: 29.323303 uJ\n",
      "Average time per iteration: 11.496674 ms\n",
      "\n",
      "Total iterations: 99\n",
      "Total average current: 0.510118 mA\n",
      "Total charge: 0.580601 mC\n",
      "Total energy: 2.903007 mJ\n",
      "Total time: 1.138171 s\n",
      "\n",
      "Benchmark time: 0.29681516 s\n"
     ]
    }
   ],
   "source": [
    "avg2 = DGILibAverages(data = data, preprocessed_data = preprocessed_data, average_function=\"pulse\")\n",
    "avg2.calculate_averages_for_pin(1)\n",
    "avg2.print_averages_for_pin(1)"
   ]
  },
  {
   "cell_type": "code",
   "execution_count": null,
   "metadata": {},
   "outputs": [],
   "source": [
    "# ht = HoldTimes()\n",
    "# start_time = time()\n",
    "# ht.identify_hold_times(1, True, data.gpio)\n",
    "# duration = time() - start_time\n",
    "# print(str(duration) + \" s\")"
   ]
  },
  {
   "cell_type": "code",
   "execution_count": null,
   "metadata": {},
   "outputs": [],
   "source": [
    "start_time = time()\n",
    "rise_and_fall_times(data, 1)\n",
    "duration = time() - start_time\n",
    "print(str(duration) + \" s\")"
   ]
  },
  {
   "cell_type": "code",
   "execution_count": null,
   "metadata": {},
   "outputs": [],
   "source": [
    "start_time = time()\n",
    "(a,b,c,d) = data.power.get_next_available_timestamps(5,0)\n",
    "duration = time() - start_time\n",
    "print(str(duration) + \" s\")"
   ]
  },
  {
   "cell_type": "markdown",
   "metadata": {},
   "source": [
    "**Read averages from saved csv**"
   ]
  },
  {
   "cell_type": "code",
   "execution_count": null,
   "metadata": {},
   "outputs": [],
   "source": [
    "avg_baseline = DGILibAverages()\n",
    "avg_baseline.read_from_csv(exprm_averages)\n",
    "\n",
    "print(\"\")\n",
    "print(\"-- Baseline --\")\n",
    "avg_baseline.calculate_averages_for_pin(2)\n",
    "avg_baseline.print_averages_for_pin(2, 5)"
   ]
  },
  {
   "cell_type": "markdown",
   "metadata": {},
   "source": [
    "**Comparison plot with Intel x86 result**"
   ]
  },
  {
   "cell_type": "code",
   "execution_count": null,
   "metadata": {},
   "outputs": [],
   "source": [
    "f1 = comparison_plot(original_output, baseline_output, 100, \"Original\", \"Baseline\")\n",
    "wait_for_plot(f1, True)"
   ]
  },
  {
   "cell_type": "code",
   "execution_count": null,
   "metadata": {},
   "outputs": [],
   "source": []
  }
 ],
 "metadata": {
  "kernelspec": {
   "display_name": "Python (py36_32)",
   "language": "python",
   "name": "py36_32"
  },
  "language_info": {
   "codemirror_mode": {
    "name": "ipython",
    "version": 3
   },
   "file_extension": ".py",
   "mimetype": "text/x-python",
   "name": "python",
   "nbconvert_exporter": "python",
   "pygments_lexer": "ipython3",
   "version": "3.6.5"
  }
 },
 "nbformat": 4,
 "nbformat_minor": 2
}
