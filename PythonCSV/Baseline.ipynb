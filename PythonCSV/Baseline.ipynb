{
 "cells": [
  {
   "cell_type": "code",
   "execution_count": 52,
   "metadata": {},
   "outputs": [],
   "source": [
    "%matplotlib qt"
   ]
  },
  {
   "cell_type": "code",
   "execution_count": 53,
   "metadata": {},
   "outputs": [],
   "source": [
    "import numpy as np\n",
    "import matplotlib.pyplot as plt\n",
    "from matplotlib.ticker import MaxNLocator\n",
    "from collections import namedtuple"
   ]
  },
  {
   "cell_type": "code",
   "execution_count": 54,
   "metadata": {},
   "outputs": [],
   "source": [
    "import pandas as pd\n",
    "import os\n",
    "from sys import platform\n",
    "from time import time\n",
    "from shutil import copy"
   ]
  },
  {
   "cell_type": "code",
   "execution_count": 55,
   "metadata": {},
   "outputs": [],
   "source": [
    "from pydgilib_extra import DGILibAverages, power_and_time_per_pulse, HoldTimes, rise_and_fall_times\n",
    "from experiment.plotting import *"
   ]
  },
  {
   "cell_type": "code",
   "execution_count": 56,
   "metadata": {},
   "outputs": [],
   "source": [
    "import dgilib_threaded as dgi_t\n",
    "from atprogram.atprogram import atprogram\n"
   ]
  },
  {
   "cell_type": "code",
   "execution_count": 57,
   "metadata": {},
   "outputs": [],
   "source": [
    "import ctypes\n",
    "try:\n",
    "    ctypes.windll.shcore.SetProcessDpiAwareness(True)\n",
    "except:\n",
    "    pass"
   ]
  },
  {
   "cell_type": "markdown",
   "metadata": {},
   "source": [
    "Common constants"
   ]
  },
  {
   "cell_type": "code",
   "execution_count": 58,
   "metadata": {},
   "outputs": [],
   "source": [
    "experiment = \"baseline\" # or hash\n",
    "hash_size = 8\n",
    "mod_accuracy = 5\n",
    "iterations = 100\n",
    "duration = 90\n",
    "\n",
    "hash_size_str = \"\"\n",
    "if experiment == \"hash\":\n",
    "    hash_size_str = str(hash_size)"
   ]
  },
  {
   "cell_type": "markdown",
   "metadata": {},
   "source": [
    "File locations for experiments"
   ]
  },
  {
   "cell_type": "code",
   "execution_count": 59,
   "metadata": {},
   "outputs": [],
   "source": [
    "compile_base_dir = os.path.join(os.path.dirname(os.getcwd()),\"KalmanARM\")\n",
    "project_dir = os.path.join(compile_base_dir, \"STDIO_Redirect_w_TrustZone\")\n",
    "\n",
    "exprm_base_dir = os.path.join(os.getcwd(), \"output\")\n",
    "main_file_from = os.path.join(compile_base_dir, \"main_\" + experiment + \".c\")\n",
    "main_file_to = os.path.join(project_dir, \"main.c\")\n",
    "\n",
    "initial_output = os.path.join(exprm_base_dir, \"output_arm.csv\")"
   ]
  },
  {
   "cell_type": "markdown",
   "metadata": {},
   "source": [
    "File locations for plotting"
   ]
  },
  {
   "cell_type": "code",
   "execution_count": 60,
   "metadata": {},
   "outputs": [],
   "source": [
    "plot_base_folder = os.path.join(os.getcwd(),\"good_results\")\n",
    "original_output = os.path.join(plot_base_folder, \"original_output.csv\")\n",
    "\n",
    "exprm_output_name = experiment + hash_size_str + \"_\" + str(iterations) + \"iter_output.csv\"\n",
    "exprm_averages_name = experiment + hash_size_str + \"_\" + str(iterations) + \"_averages.csv\"\n",
    "exprm_output = os.path.join(plot_base_folder, exprm_output_name)\n",
    "exprm_averages = os.path.join(plot_base_folder, exprm_averages_name)"
   ]
  },
  {
   "cell_type": "markdown",
   "metadata": {},
   "source": [
    "**Experiment**"
   ]
  },
  {
   "cell_type": "code",
   "execution_count": 61,
   "metadata": {},
   "outputs": [
    {
     "name": "stdout",
     "output_type": "stream",
     "text": [
      "Copied 'C:\\Users\\Dragos\\Dropbox\\RISE\\Git\\KalmanARM\\main_baseline.c' to 'C:\\Users\\Dragos\\Dropbox\\RISE\\Git\\KalmanARM\\STDIO_Redirect_w_TrustZone\\main.c'\n"
     ]
    }
   ],
   "source": [
    "copy(main_file_from, main_file_to)\n",
    "print(\"Copied '\"+ main_file_from + \"' to '\" + main_file_to + \"'\")"
   ]
  },
  {
   "cell_type": "code",
   "execution_count": 62,
   "metadata": {},
   "outputs": [],
   "source": [
    "if False: atprogram(project_dir, verbose=1)"
   ]
  },
  {
   "cell_type": "code",
   "execution_count": 63,
   "metadata": {},
   "outputs": [
    {
     "name": "stdout",
     "output_type": "stream",
     "text": [
      "Reading line 101/101\n",
      "\n",
      "Written Kalman output to 'output/output_arm.csv'\n",
      "\n",
      "Receiving thread done!\n",
      "Sending thread done!\n",
      "Sent measurement data and preprocessed averages data to main thread.\n",
      "Measurement thread waiting for plot...\n",
      "Measurement thread done!\n",
      "Main thread done!\n"
     ]
    }
   ],
   "source": [
    "data, preprocessed_data = dgi_t.start(duration, iterations)\n",
    "dgi_t.wait_dgilib()\n",
    "dgi_t.wait_sendrecv()"
   ]
  },
  {
   "cell_type": "markdown",
   "metadata": {},
   "source": [
    "Save Kalman output"
   ]
  },
  {
   "cell_type": "code",
   "execution_count": 64,
   "metadata": {},
   "outputs": [
    {
     "name": "stdout",
     "output_type": "stream",
     "text": [
      "Copied 'C:\\Users\\Dragos\\Dropbox\\RISE\\Git\\PythonCSV\\output\\output_arm.csv' to 'C:\\Users\\Dragos\\Dropbox\\RISE\\Git\\PythonCSV\\output\\baseline_100iter_output.csv'\n"
     ]
    }
   ],
   "source": [
    "initial_exprm_output = os.path.join(exprm_base_dir, exprm_output_name)\n",
    "copy(initial_output, exprm_output)\n",
    "print(\"Copied '\"+ initial_output + \"' to '\" + initial_exprm_output + \"'\")"
   ]
  },
  {
   "cell_type": "markdown",
   "metadata": {},
   "source": [
    "Save averages data"
   ]
  },
  {
   "cell_type": "code",
   "execution_count": 65,
   "metadata": {},
   "outputs": [
    {
     "name": "stdout",
     "output_type": "stream",
     "text": [
      "For1: 0\n",
      "For1: 1\n",
      "For1: 2\n",
      "For1: 3\n",
      "For1: 4\n",
      "For1: 5\n",
      "For1: 6\n",
      "For1: 7\n",
      "For1: 8\n",
      "For1: 9\n",
      "For1: 10\n",
      "For1: 11\n",
      "For1: 12\n",
      "For1: 13\n",
      "For1: 14\n",
      "For1: 15\n",
      "For1: 16\n",
      "For1: 17\n",
      "For1: 18\n",
      "For1: 19\n",
      "For1: 20\n",
      "For1: 21\n",
      "For1: 22\n",
      "For1: 23\n",
      "For1: 24\n",
      "For1: 25\n",
      "For1: 26\n",
      "For1: 27\n",
      "For1: 28\n",
      "For1: 29\n",
      "For1: 30\n",
      "For1: 31\n",
      "For1: 32\n",
      "For1: 33\n",
      "For1: 34\n",
      "For1: 35\n",
      "For1: 36\n",
      "For1: 37\n",
      "For1: 38\n",
      "For1: 39\n",
      "For1: 40\n",
      "For1: 41\n",
      "For1: 42\n",
      "For1: 43\n",
      "For1: 44\n",
      "For1: 45\n",
      "For1: 46\n",
      "For1: 47\n",
      "For1: 48\n",
      "For1: 49\n",
      "For1: 50\n",
      "For1: 51\n",
      "For1: 52\n",
      "For1: 53\n",
      "For1: 54\n",
      "For1: 55\n",
      "For1: 56\n",
      "For1: 57\n",
      "For1: 58\n",
      "For1: 59\n",
      "For1: 60\n",
      "For1: 61\n",
      "For1: 62\n",
      "For1: 63\n",
      "For1: 64\n",
      "For1: 65\n",
      "For1: 66\n",
      "For1: 67\n",
      "For1: 68\n",
      "For1: 69\n",
      "For1: 70\n",
      "For1: 71\n",
      "For1: 72\n",
      "For1: 73\n",
      "For1: 74\n",
      "For1: 75\n",
      "For1: 76\n",
      "For1: 77\n",
      "For1: 78\n",
      "For1: 79\n",
      "For1: 80\n",
      "For1: 81\n",
      "For1: 82\n",
      "For1: 83\n",
      "For1: 84\n",
      "For1: 85\n",
      "For1: 86\n",
      "For1: 87\n",
      "For1: 88\n",
      "For1: 89\n",
      "For1: 90\n",
      "For1: 91\n",
      "For1: 92\n",
      "For1: 93\n",
      "For1: 94\n",
      "For1: 95\n",
      "For1: 96\n",
      "For1: 97\n",
      "For1: 98\n",
      "For1: 99\n",
      "    1: (   0.82826 s,     0.8385 s) =    0.01024 s         ignored mC\n",
      "    2: (   1.18759 s,     1.1988 s) =    0.01121 s         0.00567 mC\n",
      "    3: (   1.60782 s,    1.61927 s) =    0.01145 s        0.005829 mC\n",
      "    4: (   2.22817 s,    2.23963 s) =    0.01146 s        0.005773 mC\n",
      "    5: (   2.67277 s,    2.68429 s) =    0.01152 s        0.005844 mC\n",
      "    6: (   3.24015 s,    3.25168 s) =    0.01153 s        0.005818 mC\n",
      "    7: (   3.74307 s,    3.75456 s) =    0.01149 s        0.005806 mC\n",
      "    8: (   4.31042 s,    4.32192 s) =     0.0115 s        0.005803 mC\n",
      "    9: (    4.8223 s,     4.8338 s) =     0.0115 s        0.005803 mC\n",
      "   10: (   5.36085 s,    5.37237 s) =    0.01152 s         0.00582 mC\n",
      "   11: (   5.84443 s,    5.85602 s) =    0.01159 s        0.005913 mC\n",
      "   12: (   6.33278 s,    6.34431 s) =    0.01153 s        0.005824 mC\n",
      "   13: (   6.87476 s,    6.88625 s) =    0.01149 s        0.005828 mC\n",
      "   14: (   7.34615 s,    7.35759 s) =    0.01144 s        0.005807 mC\n",
      "   15: (   7.92742 s,     7.9388 s) =    0.01138 s        0.005761 mC\n",
      "   16: (   8.42328 s,     8.4348 s) =    0.01152 s        0.005825 mC\n",
      "   17: (   8.91191 s,    8.92332 s) =    0.01141 s        0.005802 mC\n",
      "   18: (   9.35321 s,    9.36459 s) =    0.01138 s         0.00577 mC\n",
      "   19: (   9.85119 s,    9.86266 s) =    0.01147 s        0.005824 mC\n",
      "   20: (  10.46294 s,   10.47455 s) =    0.01161 s        0.005877 mC\n",
      "   21: (  11.00303 s,   11.01456 s) =    0.01153 s        0.005855 mC\n",
      "   22: (  11.65779 s,   11.66915 s) =    0.01136 s        0.005769 mC\n",
      "   23: (  11.99733 s,   12.00882 s) =    0.01149 s        0.005818 mC\n",
      "   24: (  12.37516 s,   12.38661 s) =    0.01145 s        0.005795 mC\n",
      "   25: (   12.9484 s,   12.95983 s) =    0.01143 s        0.005823 mC\n",
      "   26: (  13.40186 s,   13.41355 s) =    0.01169 s        0.005919 mC\n",
      "   27: (  13.85166 s,   13.86318 s) =    0.01152 s        0.005851 mC\n",
      "   28: (  14.33915 s,   14.35107 s) =    0.01192 s        0.006056 mC\n",
      "   29: (  14.79315 s,   14.80475 s) =     0.0116 s          0.0059 mC\n",
      "   30: (  15.26045 s,   15.27178 s) =    0.01133 s        0.005761 mC\n",
      "   31: (  15.76192 s,   15.77323 s) =    0.01131 s        0.005761 mC\n",
      "   32: (  16.34863 s,   16.36023 s) =     0.0116 s        0.005893 mC\n",
      "   33: (   16.8557 s,   16.86739 s) =    0.01169 s        0.005953 mC\n",
      "   34: (  17.32218 s,   17.33367 s) =    0.01149 s         0.00582 mC\n",
      "   35: (  17.82125 s,   17.83274 s) =    0.01149 s        0.005824 mC\n",
      "   36: (  18.28568 s,   18.29726 s) =    0.01158 s        0.005848 mC\n",
      "   37: (  18.80689 s,   18.81859 s) =     0.0117 s        0.005937 mC\n",
      "   38: (  19.31806 s,   19.32938 s) =    0.01132 s        0.005758 mC\n",
      "   39: (  19.89959 s,   19.91102 s) =    0.01143 s        0.005788 mC\n",
      "   40: (   20.3765 s,   20.38793 s) =    0.01143 s         0.00578 mC\n",
      "   41: (  20.87798 s,    20.8894 s) =    0.01142 s        0.005801 mC\n",
      "   42: (  21.44976 s,   21.46123 s) =    0.01147 s        0.005805 mC\n",
      "   43: (    22.002 s,   22.01346 s) =    0.01146 s        0.005778 mC\n",
      "   44: (  22.58694 s,    22.5984 s) =    0.01146 s        0.005816 mC\n",
      "   45: (  22.95466 s,   22.96617 s) =    0.01151 s        0.005806 mC\n",
      "   46: (  23.61927 s,    23.6306 s) =    0.01133 s        0.005776 mC\n",
      "   47: (  24.27321 s,   24.28459 s) =    0.01138 s        0.005772 mC\n",
      "   48: (  24.71713 s,   24.72848 s) =    0.01135 s        0.005781 mC\n",
      "   49: (  25.22352 s,   25.23485 s) =    0.01133 s        0.005776 mC\n",
      "   50: (  25.81065 s,   25.82202 s) =    0.01137 s        0.005796 mC\n",
      "   51: (  26.22982 s,   26.24155 s) =    0.01173 s        0.005954 mC\n",
      "   52: (  26.71144 s,   26.72315 s) =    0.01171 s        0.005924 mC\n",
      "   53: (   27.2866 s,   27.29835 s) =    0.01175 s        0.005988 mC\n",
      "   54: (  27.81437 s,   27.82595 s) =    0.01158 s        0.005866 mC\n",
      "   55: (  28.34868 s,   28.36021 s) =    0.01153 s        0.005829 mC\n",
      "   56: (  28.77206 s,   28.78355 s) =    0.01149 s        0.005898 mC\n",
      "   57: (  29.30092 s,   29.31227 s) =    0.01135 s        0.005795 mC\n",
      "   58: (  29.69695 s,   29.70833 s) =    0.01138 s        0.005764 mC\n",
      "   59: (  30.15386 s,   30.16514 s) =    0.01128 s        0.005727 mC\n",
      "   60: (  30.66303 s,   30.67475 s) =    0.01172 s        0.005957 mC\n",
      "   61: (  31.21523 s,   31.22693 s) =     0.0117 s        0.005928 mC\n",
      "   62: (  31.72312 s,   31.73458 s) =    0.01146 s        0.005819 mC\n",
      "   63: (  32.18738 s,   32.19888 s) =     0.0115 s        0.005824 mC\n",
      "   64: (   32.6867 s,   32.69805 s) =    0.01135 s        0.005762 mC\n",
      "   65: (  33.15493 s,   33.16628 s) =    0.01135 s        0.005769 mC\n",
      "   66: (  33.72991 s,   33.74126 s) =    0.01135 s        0.005759 mC\n",
      "   67: (  34.25177 s,   34.26308 s) =    0.01131 s        0.005762 mC\n",
      "   68: (  34.79032 s,   34.80166 s) =    0.01134 s        0.005763 mC\n",
      "   69: (  35.26448 s,   35.27596 s) =    0.01148 s        0.005824 mC\n",
      "   70: (  35.76553 s,   35.77695 s) =    0.01142 s         0.00577 mC\n",
      "   71: (  36.26561 s,   36.27711 s) =     0.0115 s        0.005824 mC\n",
      "   72: (  36.82231 s,   36.83381 s) =     0.0115 s        0.005828 mC\n",
      "   73: (  37.27926 s,   37.29076 s) =     0.0115 s        0.005825 mC\n",
      "   74: (  37.85962 s,   37.87108 s) =    0.01146 s        0.005787 mC\n",
      "   75: (  38.34927 s,   38.36097 s) =     0.0117 s        0.005934 mC\n",
      "   76: (  38.96647 s,    38.9782 s) =    0.01173 s        0.005974 mC\n",
      "   77: (  39.49523 s,   39.50665 s) =    0.01142 s        0.005801 mC\n",
      "   78: (  39.98713 s,   39.99863 s) =     0.0115 s         0.00582 mC\n",
      "   79: (  40.65082 s,   40.66231 s) =    0.01149 s        0.005866 mC\n",
      "   80: (  41.20163 s,    41.2131 s) =    0.01147 s        0.005824 mC\n",
      "   81: (  41.73286 s,    41.7442 s) =    0.01134 s        0.005765 mC\n",
      "   82: (  42.23488 s,   42.24622 s) =    0.01134 s        0.005758 mC\n",
      "   83: (  42.79165 s,   42.80296 s) =    0.01131 s        0.005731 mC\n",
      "   84: (  43.28945 s,   43.30094 s) =    0.01149 s        0.005847 mC\n",
      "   85: (  43.80127 s,   43.81277 s) =     0.0115 s        0.005861 mC\n",
      "   86: (  44.31651 s,     44.328 s) =    0.01149 s        0.005811 mC\n",
      "   87: (  44.86407 s,   44.87551 s) =    0.01144 s        0.005821 mC\n",
      "   88: (  45.43414 s,   45.44559 s) =    0.01145 s        0.005769 mC\n",
      "   89: (  45.97519 s,   45.98667 s) =    0.01148 s        0.005829 mC\n",
      "   90: (  46.52427 s,   46.53577 s) =     0.0115 s        0.005822 mC\n",
      "   91: (  47.08563 s,   47.09712 s) =    0.01149 s        0.005829 mC\n",
      "   92: (  47.56038 s,   47.57211 s) =    0.01173 s        0.005937 mC\n",
      "   93: (  48.12659 s,   48.13823 s) =    0.01164 s        0.005929 mC\n",
      "   94: (  48.72305 s,   48.73465 s) =     0.0116 s        0.005847 mC\n",
      "   95: (  49.19897 s,   49.21084 s) =    0.01187 s        0.005982 mC\n",
      "   96: (  49.74276 s,   49.75457 s) =    0.01181 s        0.005988 mC\n",
      "   97: (  50.32274 s,    50.3343 s) =    0.01156 s        0.005867 mC\n",
      "   98: (  50.84667 s,   50.85806 s) =    0.01139 s        0.005799 mC\n",
      "   99: (  51.29841 s,   51.31007 s) =    0.01166 s        0.005936 mC\n",
      "  100: (  51.86318 s,   51.87473 s) =    0.01155 s        0.005853 mC\n",
      "Average charge per iteration: 5.831930415 uC\n",
      "Average energy per iteration: 29.159652 uJ\n",
      "Average time per iteration: 11.496329 ms\n",
      "\n",
      "Total iterations: 99\n",
      "Total average current: 0.507286 mA\n",
      "Total charge: 0.577361 mC\n",
      "Total energy: 2.886806 mJ\n",
      "Total time: 1.138137 s\n",
      "\n",
      "Benchmark time: 20.84817219 s\n"
     ]
    }
   ],
   "source": [
    "avg1 = DGILibAverages(data = data, preprocessed_data = preprocessed_data, average_function=\"leftpoint\")\n",
    "avg1.calculate_averages_for_pin(1)\n",
    "avg1.print_averages_for_pin(1)"
   ]
  },
  {
   "cell_type": "code",
   "execution_count": 66,
   "metadata": {},
   "outputs": [
    {
     "name": "stdout",
     "output_type": "stream",
     "text": [
      "([0.8282594666666666, 1.1875938666666668, 1.6078226666666668, 2.228173066666667, 2.6727704, 3.2401501333333336, 3.7430744000000002, 4.3104162666666666, 4.822302666666666, 5.360850933333333, 5.844430666666667, 6.3327768, 6.874762933333334, 7.3461522666666665, 7.927423733333334, 8.423277066666667, 8.911908533333333, 9.353206133333334, 9.851188533333334, 10.462938933333334, 11.003030133333334, 11.657788533333333, 11.997326133333333, 12.375164, 12.948398666666668, 13.401864266666667, 13.8516616, 14.339150666666667, 14.7931544, 15.260450933333333, 15.761920266666667, 16.3486328, 16.855699466666668, 17.3221768, 17.821249866666665, 18.285676, 18.80689466666667, 19.318060533333334, 19.899591733333335, 20.376501066666666, 20.8779752, 21.4497608, 22.002000266666666, 22.5869416, 22.9546616, 23.619274400000002, 24.2732056, 24.7171336, 25.223524, 25.810653600000002, 26.229820533333335, 26.711436, 27.286601333333333, 27.814374133333335, 28.348683466666667, 28.77206, 29.300916533333336, 29.696951733333336, 30.1538632, 30.663025333333334, 31.2152296, 31.723118666666668, 32.1873816, 32.6866968, 33.15493146666667, 33.729905333333335, 34.2517704, 34.79032453333333, 35.26447973333333, 35.76552506666667, 36.2656072, 36.82231386666667, 37.2792616, 37.859624266666664, 38.349265333333335, 38.9664728, 39.49522533333334, 39.98713253333334, 40.6508168, 41.201627466666665, 41.732857333333335, 42.234882400000004, 42.79165306666667, 43.2894472, 43.80127173333334, 44.316506933333336, 44.86407173333333, 45.43413786666667, 45.975185333333336, 46.52426693333334, 47.0856264, 47.5603848, 48.12658533333333, 48.72304666666667, 49.19896933333334, 49.742756533333335, 50.32273786666667, 50.84666693333333, 51.298407733333335, 51.86318373333334], [0.8384978666666666, 1.1987997333333333, 1.6192712, 2.2396312000000003, 2.6842872, 3.2516813333333334, 3.7545645333333333, 4.321917066666667, 4.833804, 5.372372, 5.856020533333334, 6.3443064, 6.886248800000001, 7.3575912, 7.938801333333333, 8.4347992, 8.923315466666667, 9.364593866666667, 9.862660533333333, 10.474551733333334, 11.0145592, 11.669147466666667, 12.008819466666667, 12.386613066666667, 12.959832800000001, 13.413545866666666, 13.863175733333334, 14.351072266666668, 14.8047512, 15.2717784, 15.773231733333335, 16.360233333333333, 16.867388533333333, 17.3336712, 17.8327448, 18.297257866666666, 18.818588000000002, 19.329383733333334, 19.9110232, 20.387927733333335, 20.889401866666667, 21.461228000000002, 22.013463733333335, 22.598397600000002, 22.9661736, 23.630603466666667, 24.284585333333332, 24.728476, 25.2348504, 25.82201626666667, 26.241545866666666, 26.7231528, 27.298353866666666, 27.825950133333333, 28.3602104, 28.783552266666668, 29.3122744, 29.7083288, 30.165136266666668, 30.674750133333333, 31.226932, 31.734580533333332, 32.19888026666667, 32.698054666666664, 33.1662824, 33.7412552, 34.26308293333334, 34.80166213333334, 35.275955466666666, 35.77694906666667, 36.277108, 36.833814133333334, 37.29075973333333, 37.871081333333336, 38.3609688, 38.978196000000004, 39.5066488, 39.998628000000004, 40.662308, 41.2130984, 41.74420453333333, 42.246224266666665, 42.802956, 43.30093573333333, 43.812768266666666, 44.32799546666667, 44.8755096, 45.445588, 45.986665333333335, 46.535769333333334, 47.09712293333333, 47.572112266666664, 48.13823493333334, 48.73465146666667, 49.21083973333334, 49.75456773333333, 50.334298933333336, 50.85806, 51.310073333333335, 51.874730400000004])\n",
      "Average charge per iteration: 5.860416559 uC\n",
      "Average energy per iteration: 29.302083 uJ\n",
      "Average time per iteration: 11.496009 ms\n",
      "\n",
      "Total iterations: 99\n",
      "Total average current: 0.509778 mA\n",
      "Total charge: 0.580181 mC\n",
      "Total energy: 2.900906 mJ\n",
      "Total time: 1.138105 s\n",
      "\n",
      "Benchmark time: 0.28382468 s\n"
     ]
    }
   ],
   "source": [
    "avg2 = DGILibAverages(data = data, preprocessed_data = preprocessed_data, average_function=\"pulse\")\n",
    "avg2.calculate_averages_for_pin(1)\n",
    "avg2.print_averages_for_pin(1)"
   ]
  },
  {
   "cell_type": "code",
   "execution_count": 67,
   "metadata": {},
   "outputs": [
    {
     "name": "stdout",
     "output_type": "stream",
     "text": [
      "0.0009982585906982422 s\n"
     ]
    }
   ],
   "source": [
    "ht = HoldTimes()\n",
    "start_time = time()\n",
    "ht.identify_hold_times(1, True, data.gpio)\n",
    "duration = time() - start_time\n",
    "print(str(duration) + \" s\")"
   ]
  },
  {
   "cell_type": "code",
   "execution_count": 68,
   "metadata": {},
   "outputs": [
    {
     "name": "stdout",
     "output_type": "stream",
     "text": [
      "0.0009996891021728516 s\n"
     ]
    }
   ],
   "source": [
    "start_time = time()\n",
    "rise_and_fall_times(data, 1)\n",
    "duration = time() - start_time\n",
    "print(str(duration) + \" s\")"
   ]
  },
  {
   "cell_type": "markdown",
   "metadata": {},
   "source": [
    "**Read averages from saved csv**"
   ]
  },
  {
   "cell_type": "code",
   "execution_count": null,
   "metadata": {},
   "outputs": [],
   "source": [
    "avg_baseline = DGILibAverages()\n",
    "avg_baseline.read_from_csv(exprm_averages)\n",
    "\n",
    "print(\"\")\n",
    "print(\"-- Baseline --\")\n",
    "avg_baseline.calculate_averages_for_pin(2)\n",
    "avg_baseline.print_averages_for_pin(2, 5)"
   ]
  },
  {
   "cell_type": "markdown",
   "metadata": {},
   "source": [
    "**Comparison plot with Intel x86 result**"
   ]
  },
  {
   "cell_type": "code",
   "execution_count": null,
   "metadata": {},
   "outputs": [],
   "source": [
    "f1 = comparison_plot(original_output, baseline_output, 100, \"Original\", \"Baseline\")\n",
    "wait_for_plot(f1, True)"
   ]
  },
  {
   "cell_type": "code",
   "execution_count": null,
   "metadata": {},
   "outputs": [],
   "source": []
  }
 ],
 "metadata": {
  "kernelspec": {
   "display_name": "Python (py36_32)",
   "language": "python",
   "name": "py36_32"
  },
  "language_info": {
   "codemirror_mode": {
    "name": "ipython",
    "version": 3
   },
   "file_extension": ".py",
   "mimetype": "text/x-python",
   "name": "python",
   "nbconvert_exporter": "python",
   "pygments_lexer": "ipython3",
   "version": "3.6.5"
  }
 },
 "nbformat": 4,
 "nbformat_minor": 2
}
