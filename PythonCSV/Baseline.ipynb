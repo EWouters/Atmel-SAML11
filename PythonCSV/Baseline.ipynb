{
 "cells": [
  {
   "cell_type": "code",
   "execution_count": 11,
   "metadata": {},
   "outputs": [],
   "source": [
    "%matplotlib qt"
   ]
  },
  {
   "cell_type": "code",
   "execution_count": 12,
   "metadata": {},
   "outputs": [],
   "source": [
    "import numpy as np\n",
    "import matplotlib.pyplot as plt\n",
    "from matplotlib.ticker import MaxNLocator\n",
    "from collections import namedtuple"
   ]
  },
  {
   "cell_type": "code",
   "execution_count": 13,
   "metadata": {},
   "outputs": [],
   "source": [
    "import pandas as pd\n",
    "import os\n",
    "from sys import platform"
   ]
  },
  {
   "cell_type": "code",
   "execution_count": 18,
   "metadata": {},
   "outputs": [],
   "source": [
    "from pydgilib_extra import DGILibAverages\n",
    "from experiment.plotting import *"
   ]
  },
  {
   "cell_type": "code",
   "execution_count": 26,
   "metadata": {},
   "outputs": [],
   "source": [
    "import dgilib_threaded as dgi_t\n",
    "from atprogram.atprogram import atprogram\n",
    "from shutil import copy\n",
    "import os"
   ]
  },
  {
   "cell_type": "markdown",
   "metadata": {},
   "source": [
    "Common constants"
   ]
  },
  {
   "cell_type": "code",
   "execution_count": 15,
   "metadata": {},
   "outputs": [],
   "source": [
    "experiment = \"baseline\" # or hash\n",
    "hash_size = 8\n",
    "mod_accuracy = 5\n",
    "iterations = 100\n",
    "\n",
    "hash_size_str = \"\"\n",
    "if experiment == \"hash\":\n",
    "    hash_size_str = str(hash_size)"
   ]
  },
  {
   "cell_type": "markdown",
   "metadata": {},
   "source": [
    "File locations for experiments"
   ]
  },
  {
   "cell_type": "code",
   "execution_count": 40,
   "metadata": {},
   "outputs": [],
   "source": [
    "compile_base_dir = os.path.join(os.path.dirname(os.getcwd()),\"KalmanARM\")\n",
    "project_dir = os.path.join(compile_base_dir, \"STDIO_Redirect_w_TrustZone\")\n",
    "\n",
    "exprm_base_dir = os.path.join(os.getcwd(), \"output\")\n",
    "main_file_from = os.path.join(compile_base_dir, \"main_\" + experiment + \".c\")\n",
    "main_file_to = os.path.join(project_dir, \"main.c\")\n",
    "\n",
    "initial_output = os.path.join(exprm_base_dir, \"output_arm.csv\")"
   ]
  },
  {
   "cell_type": "markdown",
   "metadata": {},
   "source": [
    "File locations for plotting"
   ]
  },
  {
   "cell_type": "code",
   "execution_count": 44,
   "metadata": {},
   "outputs": [],
   "source": [
    "plot_base_folder = os.path.join(os.getcwd(),\"good_results\")\n",
    "original_output = os.path.join(plot_base_folder, \"original_output.csv\")\n",
    "\n",
    "exprm_output_name = experiment + hash_size_str + \"_\" + str(iterations) + \"iter_output.csv\"\n",
    "exprm_averages_name = experiment + hash_size_str + \"_\" + str(iterations) + \"_averages.csv\"\n",
    "exprm_output = os.path.join(plot_base_folder, exprm_output_name)\n",
    "exprm_averages = os.path.join(plot_base_folder, exprm_averages_name)"
   ]
  },
  {
   "cell_type": "markdown",
   "metadata": {},
   "source": [
    "**Experiment**"
   ]
  },
  {
   "cell_type": "code",
   "execution_count": 35,
   "metadata": {},
   "outputs": [
    {
     "name": "stdout",
     "output_type": "stream",
     "text": [
      "Copied 'C:\\Users\\Dragos\\Dropbox\\RISE\\Git\\KalmanARM\\main_baseline.c' to 'C:\\Users\\Dragos\\Dropbox\\RISE\\Git\\KalmanARM\\STDIO_Redirect_w_TrustZone\\main.c'\n"
     ]
    }
   ],
   "source": [
    "copy(main_file_from, main_file_to)\n",
    "print(\"Copied '\"+ main_file_from + \"' to '\" + main_file_to + \"'\")"
   ]
  },
  {
   "cell_type": "code",
   "execution_count": 46,
   "metadata": {},
   "outputs": [
    {
     "name": "stdout",
     "output_type": "stream",
     "text": [
      "Building file: ../HashTable/hashtable.c\n",
      "Invoking: ARM/GNU C Compiler : 6.3.1\n",
      "\"C:\\Program Files (x86)\\Atmel\\Studio\\7.0\\toolchain\\arm\\arm-gnu-toolchain\\bin\\arm-none-eabi-gcc.exe\"  -x c -mthumb -D__SAML11E16A__ -DDEBUG  -I\"C:\\Program Files (x86)\\Atmel\\Studio\\7.0\\Packs\\arm\\cmsis\\5.0.1\\CMSIS\\Include\" -I\"../Config\" -I\"..\" -I\"../examples\" -I\"../hal/include\" -I\"../hal/utils/include\" -I\"../hpl/core\" -I\"../hpl/crya\" -I\"../hpl/dmac\" -I\"../hpl/gclk\" -I\"../hpl/mclk\" -I\"../hpl/osc32kctrl\" -I\"../hpl/oscctrl\" -I\"../hpl/pm\" -I\"../hpl/port\" -I\"../hpl/sercom\" -I\"../hri\" -I\"../trustzone\" -I\"../stdio_redirect\" -I\"C:\\Program Files (x86)\\Atmel\\Studio\\7.0\\Packs\\Atmel\\SAML11_DFP\\1.0.91\\include\"  -O0 -g3 -Wall -mcpu=cortex-m23 -c -std=gnu99 -mcmse -MD -MP -MF \"HashTable/hashtable.d\" -MT\"HashTable/hashtable.d\" -MT\"HashTable/hashtable.o\"   -o \"HashTable/hashtable.o\" \"../HashTable/hashtable.c\" \n",
      "Finished building: ../HashTable/hashtable.c\n",
      "Building file: ../PrintLines/printlines.c\n",
      "Invoking: ARM/GNU C Compiler : 6.3.1\n",
      "\"C:\\Program Files (x86)\\Atmel\\Studio\\7.0\\toolchain\\arm\\arm-gnu-toolchain\\bin\\arm-none-eabi-gcc.exe\"  -x c -mthumb -D__SAML11E16A__ -DDEBUG  -I\"C:\\Program Files (x86)\\Atmel\\Studio\\7.0\\Packs\\arm\\cmsis\\5.0.1\\CMSIS\\Include\" -I\"../Config\" -I\"..\" -I\"../examples\" -I\"../hal/include\" -I\"../hal/utils/include\" -I\"../hpl/core\" -I\"../hpl/crya\" -I\"../hpl/dmac\" -I\"../hpl/gclk\" -I\"../hpl/mclk\" -I\"../hpl/osc32kctrl\" -I\"../hpl/oscctrl\" -I\"../hpl/pm\" -I\"../hpl/port\" -I\"../hpl/sercom\" -I\"../hri\" -I\"../trustzone\" -I\"../stdio_redirect\" -I\"C:\\Program Files (x86)\\Atmel\\Studio\\7.0\\Packs\\Atmel\\SAML11_DFP\\1.0.91\\include\"  -O0 -g3 -Wall -mcpu=cortex-m23 -c -std=gnu99 -mcmse -MD -MP -MF \"PrintLines/printlines.d\" -MT\"PrintLines/printlines.d\" -MT\"PrintLines/printlines.o\"   -o \"PrintLines/printlines.o\" \"../PrintLines/printlines.c\" \n",
      "Finished building: ../PrintLines/printlines.c\n",
      "Building file: ../Kalman/kalman_main.c\n",
      "Invoking: ARM/GNU C Compiler : 6.3.1\n",
      "\"C:\\Program Files (x86)\\Atmel\\Studio\\7.0\\toolchain\\arm\\arm-gnu-toolchain\\bin\\arm-none-eabi-gcc.exe\"  -x c -mthumb -D__SAML11E16A__ -DDEBUG  -I\"C:\\Program Files (x86)\\Atmel\\Studio\\7.0\\Packs\\arm\\cmsis\\5.0.1\\CMSIS\\Include\" -I\"../Config\" -I\"..\" -I\"../examples\" -I\"../hal/include\" -I\"../hal/utils/include\" -I\"../hpl/core\" -I\"../hpl/crya\" -I\"../hpl/dmac\" -I\"../hpl/gclk\" -I\"../hpl/mclk\" -I\"../hpl/osc32kctrl\" -I\"../hpl/oscctrl\" -I\"../hpl/pm\" -I\"../hpl/port\" -I\"../hpl/sercom\" -I\"../hri\" -I\"../trustzone\" -I\"../stdio_redirect\" -I\"C:\\Program Files (x86)\\Atmel\\Studio\\7.0\\Packs\\Atmel\\SAML11_DFP\\1.0.91\\include\"  -O0 -g3 -Wall -mcpu=cortex-m23 -c -std=gnu99 -mcmse -MD -MP -MF \"Kalman/kalman_main.d\" -MT\"Kalman/kalman_main.d\" -MT\"Kalman/kalman_main.o\"   -o \"Kalman/kalman_main.o\" \"../Kalman/kalman_main.c\" \n",
      "Finished building: ../Kalman/kalman_main.c\n",
      "Building file: .././main.c\n",
      "Invoking: ARM/GNU C Compiler : 6.3.1\n",
      "\"C:\\Program Files (x86)\\Atmel\\Studio\\7.0\\toolchain\\arm\\arm-gnu-toolchain\\bin\\arm-none-eabi-gcc.exe\"  -x c -mthumb -D__SAML11E16A__ -DDEBUG  -I\"C:\\Program Files (x86)\\Atmel\\Studio\\7.0\\Packs\\arm\\cmsis\\5.0.1\\CMSIS\\Include\" -I\"../Config\" -I\"..\" -I\"../examples\" -I\"../hal/include\" -I\"../hal/utils/include\" -I\"../hpl/core\" -I\"../hpl/crya\" -I\"../hpl/dmac\" -I\"../hpl/gclk\" -I\"../hpl/mclk\" -I\"../hpl/osc32kctrl\" -I\"../hpl/oscctrl\" -I\"../hpl/pm\" -I\"../hpl/port\" -I\"../hpl/sercom\" -I\"../hri\" -I\"../trustzone\" -I\"../stdio_redirect\" -I\"C:\\Program Files (x86)\\Atmel\\Studio\\7.0\\Packs\\Atmel\\SAML11_DFP\\1.0.91\\include\"  -O0 -g3 -Wall -mcpu=cortex-m23 -c -std=gnu99 -mcmse -MD -MP -MF \"main.d\" -MT\"main.d\" -MT\"main.o\"   -o \"main.o\" \".././main.c\" \n",
      ".././main.c: In function 'main':\n",
      ".././main.c:83:3: warning: statement with no effect [-Wunused-value]\n",
      "   1+1;\n",
      "   ^\n",
      "Finished building: .././main.c\n",
      "Building target: STDIO_Redirect_w_TrustZone.elf\n",
      "Invoking: ARM/GNU Linker : 6.3.1\n",
      "\"C:\\Program Files (x86)\\Atmel\\Studio\\7.0\\toolchain\\arm\\arm-gnu-toolchain\\bin\\arm-none-eabi-gcc.exe\" -o STDIO_Redirect_w_TrustZone.elf  atmel_start.o Device_Startup/startup_saml11e16a.o Device_Startup/system_saml11e16a.o driver_init.o examples/driver_examples.o hal/src/hal_atomic.o hal/src/hal_delay.o hal/src/hal_gpio.o hal/src/hal_init.o hal/src/hal_io.o hal/src/hal_sleep.o hal/src/hal_usart_sync.o hal/utils/src/utils_assert.o hal/utils/src/utils_event.o hal/utils/src/utils_list.o hal/utils/src/utils_syscalls.o HashTable/hashtable.o hpl/core/hpl_core_m23_base.o hpl/core/hpl_init.o hpl/dmac/hpl_dmac.o hpl/gclk/hpl_gclk.o hpl/mclk/hpl_mclk.o hpl/osc32kctrl/hpl_osc32kctrl.o hpl/oscctrl/hpl_oscctrl.o hpl/pm/hpl_pm.o hpl/sercom/hpl_sercom.o Kalman/kalman.o Kalman/kalman_main.o main.o PrintLines/printlines.o stdio_redirect/gcc/read.o stdio_redirect/gcc/write.o stdio_redirect/stdio_io.o stdio_start.o trustzone/trustzone_manager.o trustzone/trustzone_veneer.o   -mthumb -Wl,-Map=\"STDIO_Redirect_w_TrustZone.map\" --specs=nano.specs -Wl,--start-group -lm  -Wl,--end-group -L\"..\\\\Device_Startup\"  -Wl,--gc-sections -mcpu=cortex-m23 -Wl,--out-implib=libsecure_gateway_veneer.lib -Wl,--cmse-implib -T\"../Device_Startup/saml11_secure.ld\"  \n",
      "Finished building target: STDIO_Redirect_w_TrustZone.elf\n",
      "\"C:\\Program Files (x86)\\Atmel\\Studio\\7.0\\toolchain\\arm\\arm-gnu-toolchain\\bin\\arm-none-eabi-objcopy.exe\" -O binary \"STDIO_Redirect_w_TrustZone.elf\" \"STDIO_Redirect_w_TrustZone.bin\"\n",
      "\"C:\\Program Files (x86)\\Atmel\\Studio\\7.0\\toolchain\\arm\\arm-gnu-toolchain\\bin\\arm-none-eabi-objcopy.exe\" -O ihex -R .eeprom -R .fuse -R .lock -R .signature  \"STDIO_Redirect_w_TrustZone.elf\" \"STDIO_Redirect_w_TrustZone.hex\"\n",
      "\"C:\\Program Files (x86)\\Atmel\\Studio\\7.0\\toolchain\\arm\\arm-gnu-toolchain\\bin\\arm-none-eabi-objcopy.exe\" -j .eeprom --set-section-flags=.eeprom=alloc,load --change-section-lma .eeprom=0 --no-change-warnings -O binary \"STDIO_Redirect_w_TrustZone.elf\" \"STDIO_Redirect_w_TrustZone.eep\" || exit 0\n",
      "\"C:\\Program Files (x86)\\Atmel\\Studio\\7.0\\toolchain\\arm\\arm-gnu-toolchain\\bin\\arm-none-eabi-objdump.exe\" -h -S \"STDIO_Redirect_w_TrustZone.elf\" > \"STDIO_Redirect_w_TrustZone.lss\"\n",
      "\"C:\\Program Files (x86)\\Atmel\\Studio\\7.0\\toolchain\\arm\\arm-gnu-toolchain\\bin\\arm-none-eabi-objcopy.exe\" -O srec -R .eeprom -R .fuse -R .lock -R .signature  \"STDIO_Redirect_w_TrustZone.elf\" \"STDIO_Redirect_w_TrustZone.srec\"\n",
      "\"C:\\Program Files (x86)\\Atmel\\Studio\\7.0\\toolchain\\arm\\arm-gnu-toolchain\\bin\\arm-none-eabi-size.exe\" \"STDIO_Redirect_w_TrustZone.elf\"\n",
      "   text\t   data\t    bss\t    dec\t    hex\tfilename\n",
      "  48408\t    128\t   2168\t  50704\t   c610\tSTDIO_Redirect_w_TrustZone.elf\n",
      "\n",
      "Firmware check OK\n",
      "Chiperase completed successfully\n",
      "Programming completed successfully.\n",
      "\n"
     ]
    },
    {
     "data": {
      "text/plain": [
       "0"
      ]
     },
     "execution_count": 46,
     "metadata": {},
     "output_type": "execute_result"
    }
   ],
   "source": [
    "atprogram(project_dir, verbose=1)"
   ]
  },
  {
   "cell_type": "code",
   "execution_count": 47,
   "metadata": {},
   "outputs": [
    {
     "name": "stdout",
     "output_type": "stream",
     "text": [
      "Reading line 1/4"
     ]
    },
    {
     "name": "stderr",
     "output_type": "stream",
     "text": [
      "C:\\Users\\Dragos\\Miniconda3\\envs\\py36_32\\lib\\site-packages\\matplotlib\\widgets.py:346: UserWarning: Attempting to set identical left==right results\n",
      "in singular transformations; automatically expanding.\n",
      "left=0, right=0\n",
      "  ax.set_xlim((valmin, valmax))\n"
     ]
    },
    {
     "name": "stdout",
     "output_type": "stream",
     "text": [
      "Reading line 4/4Written Kalman output to CSV\n",
      "Calculating averages...\n",
      "Time spent on calculate_averages_for_pin: {0} s 0.0\n",
      "ERROR: No average data obtained for pin 2\n",
      "Interfaces:\n",
      "\t 256:   power,   samples:   75000\n",
      "\t  48:   gpio,    samples:      15\n",
      "\n",
      "Time spent on power_and_time_per_pulse: {0} s 0.0\n",
      "\n",
      "Done!\n"
     ]
    }
   ],
   "source": [
    "dgi_t.start()\n",
    "dgi_t.wait_main()"
   ]
  },
  {
   "cell_type": "code",
   "execution_count": 45,
   "metadata": {},
   "outputs": [
    {
     "name": "stdout",
     "output_type": "stream",
     "text": [
      "Copied 'C:\\Users\\Dragos\\Dropbox\\RISE\\Git\\PythonCSV\\output\\output_arm.csv' to 'C:\\Users\\Dragos\\Dropbox\\RISE\\Git\\PythonCSV\\output\\baseline_100iter_output.csv'\n"
     ]
    }
   ],
   "source": [
    "initial_exprm_output = os.path.join(exprm_base_dir, exprm_output_name)\n",
    "copy(initial_output, exprm_output)\n",
    "print(\"Copied '\"+ initial_output + \"' to '\" + initial_exprm_output + \"'\")"
   ]
  },
  {
   "cell_type": "markdown",
   "metadata": {},
   "source": [
    "**Read averages from saved csv**"
   ]
  },
  {
   "cell_type": "code",
   "execution_count": null,
   "metadata": {},
   "outputs": [],
   "source": [
    "avg_baseline = DGILibAverages(None)\n",
    "avg_baseline.read_from_csv(baseline_averages)\n",
    "\n",
    "print(\"\")\n",
    "print(\"-- Baseline --\")\n",
    "avg_baseline.calculate_averages_for_pin(2)\n",
    "avg_baseline.print_averages_for_pin(2, 5)"
   ]
  },
  {
   "cell_type": "markdown",
   "metadata": {},
   "source": [
    "**Comparison plot with Intel x86 result**"
   ]
  },
  {
   "cell_type": "code",
   "execution_count": null,
   "metadata": {},
   "outputs": [],
   "source": [
    "f1 = comparison_plot(original_output, baseline_output, 100, \"Original\", \"Baseline\")\n",
    "wait_for_plot(f1, True)"
   ]
  },
  {
   "cell_type": "code",
   "execution_count": null,
   "metadata": {},
   "outputs": [],
   "source": []
  }
 ],
 "metadata": {
  "kernelspec": {
   "display_name": "Python (py36_32)",
   "language": "python",
   "name": "py36_32"
  },
  "language_info": {
   "codemirror_mode": {
    "name": "ipython",
    "version": 3
   },
   "file_extension": ".py",
   "mimetype": "text/x-python",
   "name": "python",
   "nbconvert_exporter": "python",
   "pygments_lexer": "ipython3",
   "version": "3.6.5"
  }
 },
 "nbformat": 4,
 "nbformat_minor": 2
}
