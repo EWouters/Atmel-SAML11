{
 "cells": [
  {
   "cell_type": "code",
   "execution_count": 2,
   "metadata": {},
   "outputs": [],
   "source": [
    "%matplotlib qt"
   ]
  },
  {
   "cell_type": "code",
   "execution_count": 3,
   "metadata": {},
   "outputs": [],
   "source": [
    "import numpy as np\n",
    "import matplotlib.pyplot as plt\n",
    "from matplotlib.ticker import MaxNLocator\n",
    "from collections import namedtuple"
   ]
  },
  {
   "cell_type": "code",
   "execution_count": 4,
   "metadata": {},
   "outputs": [],
   "source": [
    "import pandas as pd\n",
    "import os\n",
    "from sys import platform"
   ]
  },
  {
   "cell_type": "code",
   "execution_count": 5,
   "metadata": {},
   "outputs": [],
   "source": [
    "from pydgilib_extra import DGILibAverages\n",
    "from experiment.plotting import *"
   ]
  },
  {
   "cell_type": "code",
   "execution_count": 6,
   "metadata": {},
   "outputs": [
    {
     "name": "stdout",
     "output_type": "stream",
     "text": [
      "\n",
      "-- Baseline --\n",
      "    1: (   0.00892 s,     0.0106 s) =    0.00168 s         ignored mC\n",
      "    2: (   1.35427 s,    1.36451 s) =    0.01024 s        0.005089 mC\n",
      "    3: (   1.93652 s,    1.94773 s) =    0.01121 s        0.005641 mC\n",
      "    4: (   2.44372 s,    2.45517 s) =    0.01145 s        0.005779 mC\n",
      "    5: (   3.28043 s,    3.29189 s) =    0.01146 s        0.005789 mC\n",
      "Average charge per iteration: 5.795926106 uC\n",
      "Average energy per iteration: 28.979631 uJ\n",
      "Average time per iteration: 11.483723 ms\n",
      "\n",
      "Total iterations: 100\n",
      "Total average current: 0.504708 mA\n",
      "Total charge: 0.579593 mC\n",
      "Total energy: 2.897963 mJ\n",
      "Total time: 1.148372 s\n",
      "\n",
      "-- Hash 8 --\n",
      "    1: (   0.01021 s,    0.01189 s) =    0.00168 s         ignored mC\n",
      "    2: (   1.34665 s,    1.35773 s) =    0.01108 s        0.005466 mC\n",
      "    3: (   2.06305 s,     2.0751 s) =    0.01205 s        0.006056 mC\n",
      "    4: (   2.69151 s,    2.70381 s) =     0.0123 s        0.006198 mC\n",
      "    5: (   3.48937 s,    3.50168 s) =    0.01231 s        0.006179 mC\n",
      "Average charge per iteration: 5.783581829 uC\n",
      "Average energy per iteration: 28.917909 uJ\n",
      "Average time per iteration: 11.516085 ms\n",
      "\n",
      "Total iterations: 100\n",
      "Total average current: 0.502218 mA\n",
      "Total charge: 0.578358 mC\n",
      "Total energy: 2.891791 mJ\n",
      "Total time: 1.151609 s\n",
      "\n",
      "-- Hash 32 --\n",
      "    1: (   0.01526 s,    0.01694 s) =    0.00168 s         ignored mC\n",
      "    2: (   1.34786 s,    1.35895 s) =    0.01109 s        0.005598 mC\n",
      "    3: (   1.73148 s,    1.74354 s) =    0.01206 s        0.006165 mC\n",
      "    4: (   2.33774 s,    2.35004 s) =     0.0123 s         0.00629 mC\n",
      "    5: (   3.16455 s,    3.17686 s) =    0.01231 s        0.006307 mC\n",
      "Average charge per iteration: 6.307192883 uC\n",
      "Average energy per iteration: 31.535964 uJ\n",
      "Average time per iteration: 12.303472 ms\n",
      "\n",
      "Total iterations: 100\n",
      "Total average current: 0.512635 mA\n",
      "Total charge: 0.630719 mC\n",
      "Total energy: 3.153596 mJ\n",
      "Total time: 1.230347 s\n"
     ]
    }
   ],
   "source": [
    "base_folder = os.path.join(os.getcwd(),\"good_results\")\n",
    "\n",
    "original_output = os.path.join(base_folder, \"original_output.csv\")\n",
    "\n",
    "baseline_output = os.path.join(base_folder, \"baseline_100iter_output.csv\")\n",
    "baseline_averages = os.path.join(base_folder, \"baseline_100iter_averages.csv\")\n",
    "\n",
    "hash_8_output = os.path.join(good_results_path, \"hash_8_mod_5_100iter_output.csv\")\n",
    "hash_32_output = os.path.join(good_results_path, \"hash_32_mod_6_100iter_output.csv\")\n",
    "\n",
    "hash_8_averages = os.path.join(good_results_path, \"hash_8_mod_5_100iter_averages.csv\")\n",
    "hash_32_averages = os.path.join(good_results_path, \"hash_32_mod_6_100iter_averages.csv\")\n",
    "\n",
    "avg_baseline = DGILibAverages(None)\n",
    "avg_baseline.read_from_csv(baseline_averages)\n",
    "\n",
    "avg_hash8 = DGILibAverages(None)\n",
    "avg_hash8.read_from_csv(hash_8_averages)\n",
    "\n",
    "avg_hash32 = DGILibAverages(None)\n",
    "avg_hash32.read_from_csv(hash_32_averages)\n",
    "\n",
    "print(\"\")\n",
    "print(\"-- Baseline --\")\n",
    "avg_baseline.calculate_averages_for_pin(2)\n",
    "avg_baseline.print_averages_for_pin(2, 5)\n",
    "\n",
    "print(\"\")\n",
    "print(\"-- Hash 8 --\")\n",
    "avg_hash8.calculate_averages_for_pin(2)\n",
    "avg_hash8.print_averages_for_pin(2, 5)\n",
    "\n",
    "print(\"\")\n",
    "print(\"-- Hash 32 --\")\n",
    "avg_hash32.calculate_averages_for_pin(2)\n",
    "avg_hash32.print_averages_for_pin(2, 5)\n",
    "\n",
    "f1 = comparison_plot(original_output, hash_8_output, 100, \"Original\", \"Hash 8\")\n",
    "#f2 = comparison_plot(original_output, hash_32_output, 100, \"Original\", \"Hash 32\")\n",
    "wait_for_plot(f1, True)\n",
    "#wait_for_plot(f2)"
   ]
  },
  {
   "cell_type": "code",
   "execution_count": null,
   "metadata": {},
   "outputs": [],
   "source": []
  }
 ],
 "metadata": {
  "kernelspec": {
   "display_name": "Python 3",
   "language": "python",
   "name": "python3"
  },
  "language_info": {
   "codemirror_mode": {
    "name": "ipython",
    "version": 3
   },
   "file_extension": ".py",
   "mimetype": "text/x-python",
   "name": "python",
   "nbconvert_exporter": "python",
   "pygments_lexer": "ipython3",
   "version": "3.6.7"
  }
 },
 "nbformat": 4,
 "nbformat_minor": 2
}
