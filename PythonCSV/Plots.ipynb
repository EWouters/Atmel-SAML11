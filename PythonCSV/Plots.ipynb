{
 "cells": [
  {
   "cell_type": "code",
   "execution_count": 32,
   "metadata": {},
   "outputs": [],
   "source": [
    "%matplotlib qt"
   ]
  },
  {
   "cell_type": "code",
   "execution_count": 33,
   "metadata": {},
   "outputs": [],
   "source": [
    "from experiment.plotting import *\n",
    "from pydgilib_extra import DGILibAverages"
   ]
  },
  {
   "cell_type": "code",
   "execution_count": 64,
   "metadata": {},
   "outputs": [],
   "source": [
    "def output_comparison_plot_of_run(run_name=\"baseline_1_100iter\", run_dir = \"output\", original_output_name=\"original_output.csv\", original_output_dir=\"output\"):\n",
    "    run_path = os.path.join(os.getcwd(), run_dir, run_name, run_name + \"_output.csv\")\n",
    "    original_output_path = os.path.join(os.getcwd(), original_output_dir, original_output_name)\n",
    "    \n",
    "    print(run_path)\n",
    "    print(original_output_path)\n",
    "    \n",
    "    iterations = int(run_name.split(\"iter\")[0].split(\"_\")[-1]) - 2\n",
    "    experiment_name = run_name.split(\"_\")[0].title()\n",
    "    hash_size_str = \"\"\n",
    "    if \"Hash\" in experiment_name:\n",
    "        hash_size_str = \" \" + run_name.split(\"_\")[1]\n",
    "    \n",
    "    output_comparison_plot(run_path, original_output_path, iterations, experiment_name + hash_size_str, \"Original\")"
   ]
  },
  {
   "cell_type": "code",
   "execution_count": 161,
   "metadata": {},
   "outputs": [],
   "source": [
    "def print_averages_of_run(run_name=\"baseline_1000iter_1\", run_dir = \"output\", pin = 1):\n",
    "    run_path = os.path.join(os.getcwd(), run_dir, run_name, run_name + \"_averages.csv\")\n",
    "    \n",
    "    avg_baseline = DGILibAverages()\n",
    "    avg_baseline.read_from_csv(run_path)\n",
    "    \n",
    "    experiment_name = run_name.split(\"_\")[0].title()\n",
    "    hash_size_str = \"\"\n",
    "    if \"Hash\" in experiment_name:\n",
    "        hash_size_str = \" \" + run_name.split(\"_\")[1]\n",
    "\n",
    "    print(\"\")\n",
    "    print(\"-- {0} --\".format(experiment_name + hash_size_str))\n",
    "    avg_baseline.calculate_averages_for_pin(pin)\n",
    "\n",
    "    avg_baseline.print_averages_for_pin(pin, 5)"
   ]
  },
  {
   "cell_type": "code",
   "execution_count": 162,
   "metadata": {},
   "outputs": [],
   "source": [
    "def power_curves_plot(run_name_1=\"baseline_1000iter_1\", run_name_2=\"hash_8_eps_0.01_subeps_50_1000iter_1\", run_dir_1 = \"output\", run_dir_2=\"output\"):\n",
    "    filename_1 = os.path.join(os.getcwd(), run_dir_1, run_name_1, run_name_1 + \"_averages.csv\")\n",
    "    filename_2 = os.path.join(os.getcwd(), run_dir_2, run_name_2, run_name_2 + \"_averages.csv\")\n",
    "    \n",
    "    column_names = ['Pin','Iteration', 'From', 'To', 'Charge']\n",
    "    df1 = pd.read_csv(filename_1, header = None, names=column_names)\n",
    "    df2 = pd.read_csv(filename_2, header = None, names=column_names)\n",
    "    \n",
    "    iterations = int(run_name_1.split(\"iter\")[0].split(\"_\")[-1])\n",
    "\n",
    "    df1 = df1[1:iterations]\n",
    "    df2 = df2[1:iterations]\n",
    "    \n",
    "    df1[\"Charge\"] = df1[\"Charge\"].astype(float) #pd.to_numeric(df1[\"Charge\"])\n",
    "    df2[\"Charge\"] = df2[\"Charge\"].astype(float)\n",
    "    \n",
    "    fig, axes = plt.subplots(nrows=1, ncols=1)\n",
    "    \n",
    "    #print(df2)\n",
    "    \n",
    "    df1.plot(kind='line', x='Iteration', y='Charge', ax=axes, color='blue')\n",
    "    df2.plot(kind='line', x='Iteration', y='Charge', ax=axes, color='black')"
   ]
  },
  {
   "cell_type": "code",
   "execution_count": 172,
   "metadata": {},
   "outputs": [],
   "source": [
    "power_curves_plot(run_name_1=\"baseline_1000iter_1\", run_name_2=\"hash_8_eps_0.01_subeps_50_1000iter_1\",run_dir_1=\"output\", run_dir_2=\"output\")"
   ]
  },
  {
   "cell_type": "code",
   "execution_count": 169,
   "metadata": {},
   "outputs": [],
   "source": [
    "power_curves_plot(run_name_1=\"baseline_1000iter_1\", run_name_2=\"hash_8_eps_0.01_subeps_50_1000iter_1\",run_dir_1=\"output\\\\full_6_hash\", run_dir_2=\"output\\\\full_6_hash\")"
   ]
  },
  {
   "cell_type": "code",
   "execution_count": 171,
   "metadata": {},
   "outputs": [],
   "source": [
    "power_curves_plot(run_name_1=\"baseline_100iter\", run_name_2=\"hash_8_mod_5_100iter\", run_dir_1=\"output\\\\good_results\", run_dir_2=\"output\\\\good_results\")"
   ]
  },
  {
   "cell_type": "code",
   "execution_count": 146,
   "metadata": {},
   "outputs": [
    {
     "name": "stdout",
     "output_type": "stream",
     "text": [
      "C:\\Users\\Dragos\\Dropbox\\RISE\\Git\\PythonCSV\\output\\baseline_1000iter_1\\baseline_1000iter_1_output.csv\n",
      "C:\\Users\\Dragos\\Dropbox\\RISE\\Git\\PythonCSV\\output\\original_output.csv\n"
     ]
    }
   ],
   "source": [
    "output_comparison_plot_of_run(run_name=\"baseline_1000iter_1\", run_dir = \"output\")"
   ]
  },
  {
   "cell_type": "code",
   "execution_count": 148,
   "metadata": {},
   "outputs": [
    {
     "name": "stdout",
     "output_type": "stream",
     "text": [
      "C:\\Users\\Dragos\\Dropbox\\RISE\\Git\\PythonCSV\\output/full_6_hash\\hash_8_eps_0.01_subeps_50_1000iter_1\\hash_8_eps_0.01_subeps_50_1000iter_1_output.csv\n",
      "C:\\Users\\Dragos\\Dropbox\\RISE\\Git\\PythonCSV\\output\\original_output.csv\n"
     ]
    }
   ],
   "source": [
    "output_comparison_plot_of_run(run_name=\"hash_8_eps_0.01_subeps_50_1000iter_1\", run_dir=\"output/full_6_hash\")"
   ]
  },
  {
   "cell_type": "code",
   "execution_count": 147,
   "metadata": {},
   "outputs": [
    {
     "name": "stdout",
     "output_type": "stream",
     "text": [
      "C:\\Users\\Dragos\\Dropbox\\RISE\\Git\\PythonCSV\\output/full_6_hash\\hash_32_eps_0.01_subeps_50_1000iter_1\\hash_32_eps_0.01_subeps_50_1000iter_1_output.csv\n",
      "C:\\Users\\Dragos\\Dropbox\\RISE\\Git\\PythonCSV\\output\\original_output.csv\n"
     ]
    }
   ],
   "source": [
    "output_comparison_plot_of_run(run_name=\"hash_32_eps_0.01_subeps_50_1000iter_1\", run_dir=\"output/full_6_hash\")"
   ]
  },
  {
   "cell_type": "code",
   "execution_count": 165,
   "metadata": {},
   "outputs": [
    {
     "name": "stdout",
     "output_type": "stream",
     "text": [
      "\n",
      "-- Baseline --\n",
      "    1: (   0.00892 s,     0.0106 s) =    0.00168 s         ignored mC\n",
      "    2: (   1.35427 s,    1.36451 s) =    0.01024 s        0.005089 mC\n",
      "    3: (   1.93652 s,    1.94773 s) =    0.01121 s        0.005641 mC\n",
      "    4: (   2.44372 s,    2.45517 s) =    0.01145 s        0.005779 mC\n",
      "    5: (   3.28043 s,    3.29189 s) =    0.01146 s        0.005789 mC\n",
      "Average charge per iteration: 5.795926106 uC\n",
      "Average energy per iteration: 28.979631 uJ\n",
      "Average time per iteration: 0.011484 ms\n",
      "\n",
      "Total iterations: 100\n",
      "Total average current: 0.504708 mA\n",
      "Total charge: 0.579593 mC\n",
      "Total energy: 2.897963 mJ\n",
      "Total time: 1.148372 s\n",
      "\n",
      "Benchmark time: 0.0 s\n"
     ]
    }
   ],
   "source": [
    "print_averages_of_run(run_name=\"baseline_100iter\", run_dir=\"output\\\\good_results\", pin=2)"
   ]
  },
  {
   "cell_type": "code",
   "execution_count": 159,
   "metadata": {},
   "outputs": [
    {
     "name": "stdout",
     "output_type": "stream",
     "text": [
      "\n",
      "-- Baseline --\n",
      "    1: (   1.54606 s,    1.55727 s) =    0.01121 s         ignored mC\n",
      "    2: (     2.109 s,    2.12044 s) =    0.01144 s        0.005889 mC\n",
      "    3: (   2.94269 s,    2.95414 s) =    0.01145 s         0.00584 mC\n",
      "    4: (   3.51646 s,    3.52798 s) =    0.01152 s        0.005909 mC\n",
      "    5: (   4.28197 s,     4.2935 s) =    0.01153 s        0.005885 mC\n",
      "Average charge per iteration: 5.888627049 uC\n",
      "Average energy per iteration: 29.443135 uJ\n",
      "Average time per iteration: 0.011482 ms\n",
      "\n",
      "Total iterations: 998\n",
      "Total average current: 0.512842 mA\n",
      "Total charge: 5.87685 mC\n",
      "Total energy: 29.384249 mJ\n",
      "Total time: 11.459371 s\n",
      "\n",
      "Benchmark time: 0.00200009 s\n"
     ]
    }
   ],
   "source": [
    "print_averages_of_run(run_name=\"baseline_1000iter_1\", run_dir=\"output\\\\full_6_hash\")"
   ]
  },
  {
   "cell_type": "code",
   "execution_count": 175,
   "metadata": {},
   "outputs": [
    {
     "name": "stdout",
     "output_type": "stream",
     "text": [
      "\n",
      "-- Hash 8 --\n",
      "    1: (    1.1884 s,    1.20125 s) =    0.01285 s         ignored mC\n",
      "    2: (   1.77647 s,     1.7786 s) =    0.00213 s        0.001072 mC\n",
      "    3: (   2.42243 s,    2.42455 s) =    0.00212 s        0.001039 mC\n",
      "    4: (   3.13258 s,    3.14654 s) =    0.01396 s        0.007085 mC\n",
      "    5: (   3.76301 s,    3.77718 s) =    0.01417 s        0.007195 mC\n",
      "Average charge per iteration: 6.747316646 uC\n",
      "Average energy per iteration: 33.736583 uJ\n",
      "Average time per iteration: 0.013246 ms\n",
      "\n",
      "Total iterations: 999\n",
      "Total average current: 0.509384 mA\n",
      "Total charge: 6.740569 mC\n",
      "Total energy: 33.702847 mJ\n",
      "Total time: 13.232796 s\n",
      "\n",
      "Benchmark time: 0.00199866 s\n"
     ]
    }
   ],
   "source": [
    "print_averages_of_run(run_name=\"hash_8_eps_0.01_subeps_50_1000iter_1\", run_dir=\"output/full_6_hash\")"
   ]
  },
  {
   "cell_type": "code",
   "execution_count": 156,
   "metadata": {},
   "outputs": [
    {
     "name": "stdout",
     "output_type": "stream",
     "text": [
      "\n",
      "-- Hash 32 --\n",
      "    1: (   1.09472 s,    1.10756 s) =    0.01284 s         ignored mC\n",
      "    2: (   1.68383 s,    1.68597 s) =    0.00214 s        0.000988 mC\n",
      "    3: (   2.24823 s,    2.25035 s) =    0.00212 s        0.000987 mC\n",
      "    4: (   3.02516 s,    3.03913 s) =    0.01397 s        0.007084 mC\n",
      "    5: (   3.60517 s,    3.61928 s) =    0.01411 s        0.007151 mC\n",
      "Average charge per iteration: 6.736109903 uC\n",
      "Average energy per iteration: 33.68055 uJ\n",
      "Average time per iteration: 0.013282 ms\n",
      "\n",
      "Total iterations: 999\n",
      "Total average current: 0.507178 mA\n",
      "Total charge: 6.729374 mC\n",
      "Total energy: 33.646869 mJ\n",
      "Total time: 13.268266 s\n",
      "\n",
      "Benchmark time: 0.00199771 s\n"
     ]
    }
   ],
   "source": [
    "print_averages_of_run(run_name=\"hash_32_eps_0.01_subeps_50_1000iter_1\", run_dir=\"output/full_6_hash\")"
   ]
  },
  {
   "cell_type": "code",
   "execution_count": 176,
   "metadata": {},
   "outputs": [
    {
     "name": "stdout",
     "output_type": "stream",
     "text": [
      "\n",
      "-- Hash 64 --\n",
      "    1: (   1.25434 s,    1.26719 s) =    0.01285 s         ignored mC\n",
      "    2: (   1.88929 s,    1.89142 s) =    0.00213 s        0.001036 mC\n",
      "    3: (   2.42942 s,    2.43155 s) =    0.00213 s        0.001038 mC\n",
      "    4: (   3.30967 s,    3.32364 s) =    0.01397 s        0.007084 mC\n",
      "    5: (   3.86668 s,    3.88079 s) =    0.01411 s        0.007166 mC\n",
      "Average charge per iteration: 6.746497639 uC\n",
      "Average energy per iteration: 33.732488 uJ\n",
      "Average time per iteration: 0.013245 ms\n",
      "\n",
      "Total iterations: 999\n",
      "Total average current: 0.509363 mA\n",
      "Total charge: 6.739751 mC\n",
      "Total energy: 33.698756 mJ\n",
      "Total time: 13.231726 s\n",
      "\n",
      "Benchmark time: 0.00299788 s\n"
     ]
    }
   ],
   "source": [
    "print_averages_of_run(run_name=\"hash_64_eps_0.01_subeps_50_1000iter_1\", run_dir=\"output/full_6_hash\")"
   ]
  },
  {
   "cell_type": "code",
   "execution_count": 166,
   "metadata": {},
   "outputs": [
    {
     "name": "stdout",
     "output_type": "stream",
     "text": [
      "\n",
      "-- Baseline --\n",
      "    1: (     1.124 s,    1.13423 s) =    0.01023 s         ignored mC\n",
      "    2: (    1.6175 s,     1.6287 s) =     0.0112 s        0.005729 mC\n",
      "    3: (   2.18084 s,    2.19229 s) =    0.01145 s        0.005904 mC\n",
      "    4: (   3.00443 s,    3.01588 s) =    0.01145 s        0.005882 mC\n",
      "    5: (   3.61965 s,    3.63116 s) =    0.01151 s         0.00592 mC\n",
      "Average charge per iteration: 5.889393891 uC\n",
      "Average energy per iteration: 29.446969 uJ\n",
      "Average time per iteration: 0.011481 ms\n",
      "\n",
      "Total iterations: 999\n",
      "Total average current: 0.512952 mA\n",
      "Total charge: 5.883504 mC\n",
      "Total energy: 29.417522 mJ\n",
      "Total time: 11.469896 s\n",
      "\n",
      "Benchmark time: 0.00200152 s\n"
     ]
    }
   ],
   "source": [
    "print_averages_of_run(run_name=\"baseline_1000iter_1\", run_dir=\"output\")"
   ]
  },
  {
   "cell_type": "code",
   "execution_count": 173,
   "metadata": {},
   "outputs": [
    {
     "name": "stdout",
     "output_type": "stream",
     "text": [
      "\n",
      "-- Hash 8 --\n",
      "    1: (   1.24182 s,    1.25302 s) =     0.0112 s         ignored mC\n",
      "    2: (   1.91022 s,    1.91163 s) =    0.00141 s        0.000632 mC\n",
      "    3: (    2.4793 s,    2.48071 s) =    0.00141 s        0.000637 mC\n",
      "    4: (   3.27559 s,     3.2879 s) =    0.01231 s         0.00622 mC\n",
      "    5: (    3.9104 s,     3.9229 s) =     0.0125 s        0.006279 mC\n",
      "Average charge per iteration: 5.891931891 uC\n",
      "Average energy per iteration: 29.459659 uJ\n",
      "Average time per iteration: 0.011686 ms\n",
      "\n",
      "Total iterations: 999\n",
      "Total average current: 0.504201 mA\n",
      "Total charge: 5.88604 mC\n",
      "Total energy: 29.4302 mJ\n",
      "Total time: 11.674005 s\n",
      "\n",
      "Benchmark time: 0.00199771 s\n"
     ]
    }
   ],
   "source": [
    "print_averages_of_run(run_name=\"hash_8_eps_0.01_subeps_50_1000iter_1\", run_dir=\"output\")"
   ]
  },
  {
   "cell_type": "code",
   "execution_count": 174,
   "metadata": {},
   "outputs": [
    {
     "ename": "FileNotFoundError",
     "evalue": "[Errno 2] No such file or directory: 'C:\\\\Users\\\\Dragos\\\\Dropbox\\\\RISE\\\\Git\\\\PythonCSV\\\\output\\\\hash_32_eps_0.01_subeps_50_1000iter_1\\\\hash_32_eps_0.01_subeps_50_1000iter_1_averages.csv'",
     "output_type": "error",
     "traceback": [
      "\u001b[1;31m---------------------------------------------------------------------------\u001b[0m",
      "\u001b[1;31mFileNotFoundError\u001b[0m                         Traceback (most recent call last)",
      "\u001b[1;32m<ipython-input-174-dc76a35dafb8>\u001b[0m in \u001b[0;36m<module>\u001b[1;34m()\u001b[0m\n\u001b[1;32m----> 1\u001b[1;33m \u001b[0mprint_averages_of_run\u001b[0m\u001b[1;33m(\u001b[0m\u001b[0mrun_name\u001b[0m\u001b[1;33m=\u001b[0m\u001b[1;34m\"hash_32_eps_0.01_subeps_50_1000iter_1\"\u001b[0m\u001b[1;33m,\u001b[0m \u001b[0mrun_dir\u001b[0m\u001b[1;33m=\u001b[0m\u001b[1;34m\"output\"\u001b[0m\u001b[1;33m)\u001b[0m\u001b[1;33m\u001b[0m\u001b[0m\n\u001b[0m",
      "\u001b[1;32m<ipython-input-161-6901bab21bf9>\u001b[0m in \u001b[0;36mprint_averages_of_run\u001b[1;34m(run_name, run_dir, pin)\u001b[0m\n\u001b[0;32m      3\u001b[0m \u001b[1;33m\u001b[0m\u001b[0m\n\u001b[0;32m      4\u001b[0m     \u001b[0mavg_baseline\u001b[0m \u001b[1;33m=\u001b[0m \u001b[0mDGILibAverages\u001b[0m\u001b[1;33m(\u001b[0m\u001b[1;33m)\u001b[0m\u001b[1;33m\u001b[0m\u001b[0m\n\u001b[1;32m----> 5\u001b[1;33m     \u001b[0mavg_baseline\u001b[0m\u001b[1;33m.\u001b[0m\u001b[0mread_from_csv\u001b[0m\u001b[1;33m(\u001b[0m\u001b[0mrun_path\u001b[0m\u001b[1;33m)\u001b[0m\u001b[1;33m\u001b[0m\u001b[0m\n\u001b[0m\u001b[0;32m      6\u001b[0m \u001b[1;33m\u001b[0m\u001b[0m\n\u001b[0;32m      7\u001b[0m     \u001b[0mexperiment_name\u001b[0m \u001b[1;33m=\u001b[0m \u001b[0mrun_name\u001b[0m\u001b[1;33m.\u001b[0m\u001b[0msplit\u001b[0m\u001b[1;33m(\u001b[0m\u001b[1;34m\"_\"\u001b[0m\u001b[1;33m)\u001b[0m\u001b[1;33m[\u001b[0m\u001b[1;36m0\u001b[0m\u001b[1;33m]\u001b[0m\u001b[1;33m.\u001b[0m\u001b[0mtitle\u001b[0m\u001b[1;33m(\u001b[0m\u001b[1;33m)\u001b[0m\u001b[1;33m\u001b[0m\u001b[0m\n",
      "\u001b[1;32mc:\\users\\dragos\\dropbox\\rise\\git\\python\\pydgilib\\pydgilib_extra\\dgilib_averages.py\u001b[0m in \u001b[0;36mread_from_csv\u001b[1;34m(self, filepath, verbose)\u001b[0m\n\u001b[0;32m     31\u001b[0m \u001b[1;33m\u001b[0m\u001b[0m\n\u001b[0;32m     32\u001b[0m     \u001b[1;32mdef\u001b[0m \u001b[0mread_from_csv\u001b[0m\u001b[1;33m(\u001b[0m\u001b[0mself\u001b[0m\u001b[1;33m,\u001b[0m \u001b[0mfilepath\u001b[0m\u001b[1;33m,\u001b[0m \u001b[0mverbose\u001b[0m\u001b[1;33m=\u001b[0m\u001b[1;36m0\u001b[0m\u001b[1;33m)\u001b[0m\u001b[1;33m:\u001b[0m\u001b[1;33m\u001b[0m\u001b[0m\n\u001b[1;32m---> 33\u001b[1;33m         \u001b[1;32mwith\u001b[0m \u001b[0mopen\u001b[0m\u001b[1;33m(\u001b[0m\u001b[0mfilepath\u001b[0m\u001b[1;33m,\u001b[0m \u001b[1;34m\"r\"\u001b[0m\u001b[1;33m)\u001b[0m \u001b[1;32mas\u001b[0m \u001b[0mf\u001b[0m\u001b[1;33m:\u001b[0m\u001b[1;33m\u001b[0m\u001b[0m\n\u001b[0m\u001b[0;32m     34\u001b[0m             \u001b[1;32mfor\u001b[0m \u001b[0mline\u001b[0m \u001b[1;32min\u001b[0m \u001b[0mf\u001b[0m\u001b[1;33m:\u001b[0m\u001b[1;33m\u001b[0m\u001b[0m\n\u001b[0;32m     35\u001b[0m \u001b[1;33m\u001b[0m\u001b[0m\n",
      "\u001b[1;31mFileNotFoundError\u001b[0m: [Errno 2] No such file or directory: 'C:\\\\Users\\\\Dragos\\\\Dropbox\\\\RISE\\\\Git\\\\PythonCSV\\\\output\\\\hash_32_eps_0.01_subeps_50_1000iter_1\\\\hash_32_eps_0.01_subeps_50_1000iter_1_averages.csv'"
     ]
    }
   ],
   "source": [
    "print_averages_of_run(run_name=\"hash_32_eps_0.01_subeps_50_1000iter_1\", run_dir=\"output\")"
   ]
  },
  {
   "cell_type": "code",
   "execution_count": null,
   "metadata": {},
   "outputs": [],
   "source": [
    "#print_averages_of_run(run_name=\"hash_64_eps_0.01_subeps_50_1000iter_1\", run_dir=\"output\")"
   ]
  }
 ],
 "metadata": {
  "kernelspec": {
   "display_name": "Python 2",
   "language": "python",
   "name": "python2"
  },
  "language_info": {
   "codemirror_mode": {
    "name": "ipython",
    "version": 3
   },
   "file_extension": ".py",
   "mimetype": "text/x-python",
   "name": "python",
   "nbconvert_exporter": "python",
   "pygments_lexer": "ipython3",
   "version": "3.6.7"
  }
 },
 "nbformat": 4,
 "nbformat_minor": 2
}
