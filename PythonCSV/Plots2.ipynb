{
 "cells": [
  {
   "cell_type": "markdown",
   "metadata": {},
   "source": [
    "**TODO**\n",
    "\n",
    "* **TODO** Rerun eps = 0.9, mod = 10 000"
   ]
  },
  {
   "cell_type": "code",
   "execution_count": 23,
   "metadata": {},
   "outputs": [],
   "source": [
    "%matplotlib qt"
   ]
  },
  {
   "cell_type": "code",
   "execution_count": 24,
   "metadata": {},
   "outputs": [],
   "source": [
    "import os\n",
    "from pydgilib_extra import DGILibPlot\n",
    "from experiment.averages import Averages\n",
    "import pandas as pd\n",
    "import matplotlib.pyplot as plt\n",
    "import operator\n",
    "from IPython.display import display, HTML\n",
    "\n",
    "def wait_for_plot(fig):\n",
    "    if os.name != \"nt\":\n",
    "        while plt.fignum_exists(fig.number):\n",
    "            plt.pause(0.000001)\n",
    "\n",
    "class ExperimentResult(object):\n",
    "    \n",
    "    def __init__(self,folder=\"baseline_2887iter_1\", output_dir = \"C:\\\\Users\\\\Dragos\\\\Dropbox\\\\RISE\\\\Git\\\\PythonCSV\\\\output\"):\n",
    "        \n",
    "        self.folder = folder\n",
    "        self.output_dir = output_dir\n",
    "        \n",
    "        self.averages_csv = os.path.join(output_dir, folder, folder + \"_averages.csv\")\n",
    "        self.table_stats_txt = os.path.join(output_dir, folder, folder + \"_table_stats.txt\")\n",
    "        self.output_csv = os.path.join(output_dir, folder, folder + \"_output.csv\")\n",
    "        \n",
    "        self.column_names = ['Iteration','Roll', 'Pitch', 'Gyro X Angle', 'Gyro Y Angle', 'Comp Angle X', 'Comp Angle Y', 'Kalman Angle X', 'Kalman Angle Y']\n",
    "        \n",
    "        self.output_axes = None\n",
    "        self.output_fig = None\n",
    "        self.output_df = pd.read_csv(self.output_csv, header = None, names = self.column_names)\n",
    "        self.output_colors = ['red', 'blue', 'black', 'brown']\n",
    "        self.output_plotted_axes = 0\n",
    "        \n",
    "        self.legend = \"\"\n",
    "        if \"hash\" in folder:\n",
    "            self.legend = \" \".join(folder.split(\"_\")[0:6]).title()\n",
    "        else:\n",
    "            self.legend = folder.split(\"_\")[0].title()\n",
    "        \n",
    "        self.iterations = min(len(self.output_df['Iteration']), int(folder.split(\"iter\")[0].split(\"_\")[-1]))\n",
    "        \n",
    "        self.avgobj = Averages()\n",
    "        \n",
    "        self.error = {\n",
    "            'Roll': 0,\n",
    "            'Pitch': 0,\n",
    "            'Gyro X Angle': 0,\n",
    "            'Gyro Y Angle': 0,\n",
    "            'Comp Angle X': 0,\n",
    "            'Comp Angle Y': 0,\n",
    "            'Kalman Angle X': 0,\n",
    "            'Kalman Angle Y': 0,\n",
    "            'Average': 0            \n",
    "        }\n",
    "        \n",
    "    def plot_output(self, color='red', reference = []):\n",
    "        self.output_fig, self.output_axes = plt.subplots(nrows=2, ncols=4)\n",
    "\n",
    "        fig, axes = self.output_fig, self.output_axes\n",
    "        dfs = [self.output_df]\n",
    "        column_names = self.column_names\n",
    "        legends = [self.legend]\n",
    "        \n",
    "        for exp in reference:\n",
    "            legends.append(exp.legend)\n",
    "            dfs.append(exp.output_df)\n",
    "        \n",
    "        for i in range(1,len(column_names)):\n",
    "            row = int((i-1)/4)\n",
    "            column = int((i-1)%4)\n",
    "            \n",
    "            color_idx = 0\n",
    "            for df in dfs:\n",
    "                df.plot(kind='line', x='Iteration', y=column_names[i], ax=axes[row, column], color=self.output_colors[color_idx])\n",
    "                color_idx += 1\n",
    "            \n",
    "            axes[row, column].legend(legends)\n",
    "            axes[row, column].set_title(column_names[i])\n",
    "\n",
    "        self.output_axes = axes\n",
    "        self.output_fig = fig\n",
    "        \n",
    "        wait_for_plot(fig)\n",
    "        \n",
    "    def plot_power_curves(self, reference=None):\n",
    "        run_name_1 = self.folder\n",
    "        \n",
    "        if reference is None:\n",
    "            reference = ExperimentResult()\n",
    "        \n",
    "        run_name_2 = reference.folder\n",
    "        \n",
    "        filename_1 = os.path.join(self.output_dir, run_name_1, run_name_1 + \"_averages.csv\")\n",
    "        filename_2 = os.path.join(reference.output_dir, run_name_2, run_name_2 + \"_averages.csv\")\n",
    "\n",
    "        column_names = ['Pin','Iteration', 'From', 'To', 'Charge']\n",
    "        df1 = pd.read_csv(filename_1, header = None, names=column_names)\n",
    "        df2 = pd.read_csv(filename_2, header = None, names=column_names)\n",
    "\n",
    "        iterations = int(run_name_1.split(\"iter\")[0].split(\"_\")[-1])\n",
    "\n",
    "        df1 = df1[1:iterations]\n",
    "        df2 = df2[1:iterations]\n",
    "\n",
    "        df1[\"Charge\"] = df1[\"Charge\"].astype(float) #pd.to_numeric(df1[\"Charge\"])\n",
    "        df2[\"Charge\"] = df2[\"Charge\"].astype(float)\n",
    "\n",
    "        fig, axes = plt.subplots(nrows=1, ncols=1)\n",
    "        \n",
    "        df1.plot(kind='line', x='Iteration', y='Charge', ax=axes, color='blue')\n",
    "        df2.plot(kind='line', x='Iteration', y='Charge', ax=axes, color='black')\n",
    "        \n",
    "        axes.legend([self.legend, reference.legend])\n",
    "        \n",
    "        wait_for_plot(fig)\n",
    "        \n",
    "    def calculate_deviation(self, reference=None):\n",
    "        if self.error[\"Average\"] > 0.0:\n",
    "            return\n",
    "        \n",
    "        if reference is None:\n",
    "            reference = ExperimentResult()\n",
    "        \n",
    "        df = self.output_df\n",
    "        df2 = reference.output_df\n",
    "        \n",
    "        iterations = min(self.iterations, len(df2['Iteration']))\n",
    "        \n",
    "        for column in self.column_names:\n",
    "            if column == 'Iteration': continue\n",
    "            for i in range(iterations):\n",
    "                if df2[column][i] != 0.0: \n",
    "                    val = abs(df[column][i] - df2[column][i] / df2[column][i])\n",
    "                else: \n",
    "                    val = 0.0\n",
    "                self.error[column] += val\n",
    "                #print(\"Adding {0} for column {1} and i {2}\".format(val, column, i))\n",
    "                \n",
    "            self.error[\"Average\"] += self.error[column]\n",
    "            self.error[column] /= iterations\n",
    "            \n",
    "        self.error[\"Average\"] /= (iterations * (len(self.column_names) - 1))\n",
    "        \n",
    "    def print_deviation(self,verbose=1):\n",
    "        if verbose == 1:\n",
    "            print(\"Error: {0}%\".format(self.error[\"Average\"]))\n",
    "        elif verbose >= 2:\n",
    "            for column in self.column_names:\n",
    "                if 'Iteration' == column: continue\n",
    "                print(\"{0}: {1:0.4f}%\".format(column, self.error[column]))\n",
    "            print(\"Average error: {0:0.4f}%\".format(self.error[\"Average\"]))\n",
    "    \n",
    "    def calculate_averages(self):\n",
    "        self.avgobj.read_from_csv(self.averages_csv)\n",
    "        self.avgobj.calculate_averages_for_pin(1)\n",
    "    \n",
    "    def show_averages(self, verbose=1):\n",
    "        \n",
    "        print_per_iteration=False\n",
    "        print_total_average=False\n",
    "        print_benchmark_time=False\n",
    "        print_energy_and_current=False\n",
    "        \n",
    "        if verbose >= 1:\n",
    "            print_per_iteration = True\n",
    "        if verbose >= 2:\n",
    "            print_energy_and_current = True\n",
    "            print_total_average = True\n",
    "        if verbose >= 3:\n",
    "            print_benchmark_time = True\n",
    "        \n",
    "        self.avgobj.print_averages_for_pin(1, print_per_iteration = print_per_iteration, \n",
    "                                          print_energy_and_current = print_energy_and_current,\n",
    "                                          print_total_average = print_total_average,\n",
    "                                          print_benchmark_time = print_benchmark_time)\n",
    "    \n",
    "    def get_averages(self, pin = 1):\n",
    "        return {\n",
    "            'Average per iteration uC': self.avgobj.total_average[pin] * 1000 * 1000 / self.avgobj.total_iterations[pin],\n",
    "            'Average per iteration duration': self.avgobj.total_duration[pin] / self.avgobj.total_iterations[pin],\n",
    "            'Total mC': self.avgobj.total_average[pin] * 1000,\n",
    "            'Total duration': self.avgobj.total_duration[1],\n",
    "            'True iterations': self.avgobj.total_iterations[pin]\n",
    "        }\n",
    "    \n",
    "    def get_error(self):\n",
    "        return {\n",
    "            'Average': self.error[\"Average\"], \n",
    "            'List': list(self.error.values())[:-1],\n",
    "            'Maximum': max(list(self.error.values())[:-1]),\n",
    "            'Maximum name': max(self.error.items(), key=operator.itemgetter(1))[0]\n",
    "        }\n",
    "    \n",
    "    def get_hash_stats(self, verbose=0):\n",
    "        epsilon = 0\n",
    "        epsilon_mod = 0\n",
    "        mod_precision = 0\n",
    "        hash_size = 0\n",
    "        utilizied = 0\n",
    "        found = 0\n",
    "        stored = 0\n",
    "\n",
    "        for line in open(self.table_stats_txt, \"r\"):\n",
    "            if (\"Epsilon:\" in line):\n",
    "                epsilon = float(line.split(\" \")[-1])\n",
    "            elif (\"Epsilon mod\" in line):\n",
    "                epsilon_mod = int(line.split(\" \")[-1])\n",
    "            elif (\"Mod precision\" in line):\n",
    "                mod_precision = int(line.split(\" \")[-1])\n",
    "            elif (\"Hash size\" in line):\n",
    "                hash_size = int(line.split(\" \")[-1])\n",
    "            elif (\"HashTable population\" in line):\n",
    "                utilized = int(line.split(\" \")[-3])\n",
    "            elif (\"found\" in line):\n",
    "                found = int(line.split(\" \")[-1])\n",
    "            elif (\"stored\" in line):\n",
    "                stored = int(line.split(\" \")[-1])\n",
    "            if verbose>0:print(line, end='')\n",
    "\n",
    "        return {\n",
    "            'Epsilon': epsilon,\n",
    "            'Epsilon Mod': epsilon_mod, \n",
    "            'Mod precision': mod_precision,\n",
    "            'Hash size': hash_size,\n",
    "            'Utilized': utilized,\n",
    "            'Found': found,\n",
    "            'Stored': stored\n",
    "        }\n",
    "        \n",
    "class ResultsTable(object):\n",
    "    \n",
    "    def __init__(self):\n",
    "        \n",
    "        self.column_names = [\"Type\", \"Epsilon\", \"Mod precision\", \n",
    "                             \"mC/iter\", \"sec/iter\", \"Total mC\", \n",
    "                             \"Total sec\",\n",
    "                             \"Accuracy average\", \"Accuracy worst\", \"Accuracy worst name\",\n",
    "                             \"Hits from hash\", \"Writes to hash\", \"Iterations\"]\n",
    "        self.df = pd.DataFrame(columns=self.column_names)\n",
    "        \n",
    "    def add_to_table(self, exp):\n",
    "        averages = exp.get_averages()\n",
    "        errors = exp.get_error()\n",
    "        \n",
    "        if \"baseline\" in exp.folder:\n",
    "            row = [\"Baseline\", 0, 0, \n",
    "                   averages['Average per iteration uC'], averages['Average per iteration duration'], averages['Total mC'],\n",
    "                   averages['Total duration'], \n",
    "                   errors['Average'], errors['Maximum'], errors['Maximum name'],\n",
    "                   0, 0, 0]\n",
    "            assert(len(row) == len(self.column_names))\n",
    "        else:\n",
    "            hash_stats = exp.get_hash_stats()\n",
    "            row = [\"Hash\", hash_stats['Epsilon'], hash_stats['Mod precision'], averages['Average per iteration uC'],\n",
    "                   averages['Average per iteration duration'], averages['Total mC'], averages['Total duration'],\n",
    "                   errors['Average'], errors['Maximum'], errors['Maximum name'],\n",
    "                   hash_stats['Found'], hash_stats['Stored'], averages['True iterations']]\n",
    "            assert(len(row) == len(self.column_names))\n",
    "        #print(len(self.column_names), len(row))\n",
    "        self.df.loc[len(self.df)] = row\n",
    "        \n",
    "        self.df[\"Mod precision\"] = self.df[\"Mod precision\"].astype(int)\n",
    "        self.df[\"Hits from hash\"] = self.df[\"Hits from hash\"].astype(int)\n",
    "        self.df[\"Writes to hash\"] = self.df[\"Writes to hash\"].astype(int)\n",
    "        self.df[\"Iterations\"] = self.df[\"Iterations\"].astype(int)\n",
    "        \n",
    "    def print_table(self):\n",
    "        display(self.df)"
   ]
  },
  {
   "cell_type": "code",
   "execution_count": 25,
   "metadata": {},
   "outputs": [
    {
     "ename": "FileNotFoundError",
     "evalue": "[Errno 2] File b'C:\\\\Users\\\\Dragos\\\\Dropbox\\\\RISE\\\\Git\\\\PythonCSV\\\\output\\\\baseline_2887iter_1\\\\baseline_2887iter_1_output.csv' does not exist: b'C:\\\\Users\\\\Dragos\\\\Dropbox\\\\RISE\\\\Git\\\\PythonCSV\\\\output\\\\baseline_2887iter_1\\\\baseline_2887iter_1_output.csv'",
     "output_type": "error",
     "traceback": [
      "\u001b[1;31m---------------------------------------------------------------------------\u001b[0m",
      "\u001b[1;31mFileNotFoundError\u001b[0m                         Traceback (most recent call last)",
      "\u001b[1;32m<ipython-input-25-639bb8be9446>\u001b[0m in \u001b[0;36m<module>\u001b[1;34m()\u001b[0m\n\u001b[0;32m      6\u001b[0m     \u001b[0moutput_dir\u001b[0m \u001b[1;33m=\u001b[0m \u001b[1;34m\"/home/dragos/Dropbox/RISE/Git/PythonCSV/output/\"\u001b[0m\u001b[1;33m\u001b[0m\u001b[0m\n\u001b[0;32m      7\u001b[0m \u001b[1;33m\u001b[0m\u001b[0m\n\u001b[1;32m----> 8\u001b[1;33m \u001b[0mbaseline\u001b[0m \u001b[1;33m=\u001b[0m \u001b[0mExperimentResult\u001b[0m\u001b[1;33m(\u001b[0m\u001b[0moutput_dir\u001b[0m\u001b[1;33m=\u001b[0m\u001b[0moutput_dir\u001b[0m\u001b[1;33m)\u001b[0m\u001b[1;33m\u001b[0m\u001b[0m\n\u001b[0m\u001b[0;32m      9\u001b[0m \u001b[0mhash120_eps05\u001b[0m \u001b[1;33m=\u001b[0m \u001b[0mExperimentResult\u001b[0m\u001b[1;33m(\u001b[0m\u001b[0mfolder\u001b[0m\u001b[1;33m=\u001b[0m\u001b[1;34m\"hash_120_eps_0.5_mod_10000_2887iter_1\"\u001b[0m\u001b[1;33m,\u001b[0m \u001b[0moutput_dir\u001b[0m\u001b[1;33m=\u001b[0m\u001b[0moutput_dir\u001b[0m\u001b[1;33m)\u001b[0m\u001b[1;33m\u001b[0m\u001b[0m\n\u001b[0;32m     10\u001b[0m \u001b[0mhash120_eps06\u001b[0m \u001b[1;33m=\u001b[0m \u001b[0mExperimentResult\u001b[0m\u001b[1;33m(\u001b[0m\u001b[0mfolder\u001b[0m\u001b[1;33m=\u001b[0m\u001b[1;34m\"hash_120_eps_0.6_mod_10000_2887iter_1\"\u001b[0m\u001b[1;33m,\u001b[0m \u001b[0moutput_dir\u001b[0m\u001b[1;33m=\u001b[0m\u001b[0moutput_dir\u001b[0m\u001b[1;33m)\u001b[0m\u001b[1;33m\u001b[0m\u001b[0m\n",
      "\u001b[1;32m<ipython-input-24-a04306a80981>\u001b[0m in \u001b[0;36m__init__\u001b[1;34m(self, folder, output_dir)\u001b[0m\n\u001b[0;32m     27\u001b[0m         \u001b[0mself\u001b[0m\u001b[1;33m.\u001b[0m\u001b[0moutput_axes\u001b[0m \u001b[1;33m=\u001b[0m \u001b[1;32mNone\u001b[0m\u001b[1;33m\u001b[0m\u001b[0m\n\u001b[0;32m     28\u001b[0m         \u001b[0mself\u001b[0m\u001b[1;33m.\u001b[0m\u001b[0moutput_fig\u001b[0m \u001b[1;33m=\u001b[0m \u001b[1;32mNone\u001b[0m\u001b[1;33m\u001b[0m\u001b[0m\n\u001b[1;32m---> 29\u001b[1;33m         \u001b[0mself\u001b[0m\u001b[1;33m.\u001b[0m\u001b[0moutput_df\u001b[0m \u001b[1;33m=\u001b[0m \u001b[0mpd\u001b[0m\u001b[1;33m.\u001b[0m\u001b[0mread_csv\u001b[0m\u001b[1;33m(\u001b[0m\u001b[0mself\u001b[0m\u001b[1;33m.\u001b[0m\u001b[0moutput_csv\u001b[0m\u001b[1;33m,\u001b[0m \u001b[0mheader\u001b[0m \u001b[1;33m=\u001b[0m \u001b[1;32mNone\u001b[0m\u001b[1;33m,\u001b[0m \u001b[0mnames\u001b[0m \u001b[1;33m=\u001b[0m \u001b[0mself\u001b[0m\u001b[1;33m.\u001b[0m\u001b[0mcolumn_names\u001b[0m\u001b[1;33m)\u001b[0m\u001b[1;33m\u001b[0m\u001b[0m\n\u001b[0m\u001b[0;32m     30\u001b[0m         \u001b[0mself\u001b[0m\u001b[1;33m.\u001b[0m\u001b[0moutput_colors\u001b[0m \u001b[1;33m=\u001b[0m \u001b[1;33m[\u001b[0m\u001b[1;34m'red'\u001b[0m\u001b[1;33m,\u001b[0m \u001b[1;34m'blue'\u001b[0m\u001b[1;33m,\u001b[0m \u001b[1;34m'black'\u001b[0m\u001b[1;33m,\u001b[0m \u001b[1;34m'brown'\u001b[0m\u001b[1;33m]\u001b[0m\u001b[1;33m\u001b[0m\u001b[0m\n\u001b[0;32m     31\u001b[0m         \u001b[0mself\u001b[0m\u001b[1;33m.\u001b[0m\u001b[0moutput_plotted_axes\u001b[0m \u001b[1;33m=\u001b[0m \u001b[1;36m0\u001b[0m\u001b[1;33m\u001b[0m\u001b[0m\n",
      "\u001b[1;32m~\\Miniconda3\\envs\\py36_32\\lib\\site-packages\\pandas\\io\\parsers.py\u001b[0m in \u001b[0;36mparser_f\u001b[1;34m(filepath_or_buffer, sep, delimiter, header, names, index_col, usecols, squeeze, prefix, mangle_dupe_cols, dtype, engine, converters, true_values, false_values, skipinitialspace, skiprows, skipfooter, nrows, na_values, keep_default_na, na_filter, verbose, skip_blank_lines, parse_dates, infer_datetime_format, keep_date_col, date_parser, dayfirst, iterator, chunksize, compression, thousands, decimal, lineterminator, quotechar, quoting, doublequote, escapechar, comment, encoding, dialect, tupleize_cols, error_bad_lines, warn_bad_lines, delim_whitespace, low_memory, memory_map, float_precision)\u001b[0m\n\u001b[0;32m    700\u001b[0m                     skip_blank_lines=skip_blank_lines)\n\u001b[0;32m    701\u001b[0m \u001b[1;33m\u001b[0m\u001b[0m\n\u001b[1;32m--> 702\u001b[1;33m         \u001b[1;32mreturn\u001b[0m \u001b[0m_read\u001b[0m\u001b[1;33m(\u001b[0m\u001b[0mfilepath_or_buffer\u001b[0m\u001b[1;33m,\u001b[0m \u001b[0mkwds\u001b[0m\u001b[1;33m)\u001b[0m\u001b[1;33m\u001b[0m\u001b[0m\n\u001b[0m\u001b[0;32m    703\u001b[0m \u001b[1;33m\u001b[0m\u001b[0m\n\u001b[0;32m    704\u001b[0m     \u001b[0mparser_f\u001b[0m\u001b[1;33m.\u001b[0m\u001b[0m__name__\u001b[0m \u001b[1;33m=\u001b[0m \u001b[0mname\u001b[0m\u001b[1;33m\u001b[0m\u001b[0m\n",
      "\u001b[1;32m~\\Miniconda3\\envs\\py36_32\\lib\\site-packages\\pandas\\io\\parsers.py\u001b[0m in \u001b[0;36m_read\u001b[1;34m(filepath_or_buffer, kwds)\u001b[0m\n\u001b[0;32m    427\u001b[0m \u001b[1;33m\u001b[0m\u001b[0m\n\u001b[0;32m    428\u001b[0m     \u001b[1;31m# Create the parser.\u001b[0m\u001b[1;33m\u001b[0m\u001b[1;33m\u001b[0m\u001b[0m\n\u001b[1;32m--> 429\u001b[1;33m     \u001b[0mparser\u001b[0m \u001b[1;33m=\u001b[0m \u001b[0mTextFileReader\u001b[0m\u001b[1;33m(\u001b[0m\u001b[0mfilepath_or_buffer\u001b[0m\u001b[1;33m,\u001b[0m \u001b[1;33m**\u001b[0m\u001b[0mkwds\u001b[0m\u001b[1;33m)\u001b[0m\u001b[1;33m\u001b[0m\u001b[0m\n\u001b[0m\u001b[0;32m    430\u001b[0m \u001b[1;33m\u001b[0m\u001b[0m\n\u001b[0;32m    431\u001b[0m     \u001b[1;32mif\u001b[0m \u001b[0mchunksize\u001b[0m \u001b[1;32mor\u001b[0m \u001b[0miterator\u001b[0m\u001b[1;33m:\u001b[0m\u001b[1;33m\u001b[0m\u001b[0m\n",
      "\u001b[1;32m~\\Miniconda3\\envs\\py36_32\\lib\\site-packages\\pandas\\io\\parsers.py\u001b[0m in \u001b[0;36m__init__\u001b[1;34m(self, f, engine, **kwds)\u001b[0m\n\u001b[0;32m    893\u001b[0m             \u001b[0mself\u001b[0m\u001b[1;33m.\u001b[0m\u001b[0moptions\u001b[0m\u001b[1;33m[\u001b[0m\u001b[1;34m'has_index_names'\u001b[0m\u001b[1;33m]\u001b[0m \u001b[1;33m=\u001b[0m \u001b[0mkwds\u001b[0m\u001b[1;33m[\u001b[0m\u001b[1;34m'has_index_names'\u001b[0m\u001b[1;33m]\u001b[0m\u001b[1;33m\u001b[0m\u001b[0m\n\u001b[0;32m    894\u001b[0m \u001b[1;33m\u001b[0m\u001b[0m\n\u001b[1;32m--> 895\u001b[1;33m         \u001b[0mself\u001b[0m\u001b[1;33m.\u001b[0m\u001b[0m_make_engine\u001b[0m\u001b[1;33m(\u001b[0m\u001b[0mself\u001b[0m\u001b[1;33m.\u001b[0m\u001b[0mengine\u001b[0m\u001b[1;33m)\u001b[0m\u001b[1;33m\u001b[0m\u001b[0m\n\u001b[0m\u001b[0;32m    896\u001b[0m \u001b[1;33m\u001b[0m\u001b[0m\n\u001b[0;32m    897\u001b[0m     \u001b[1;32mdef\u001b[0m \u001b[0mclose\u001b[0m\u001b[1;33m(\u001b[0m\u001b[0mself\u001b[0m\u001b[1;33m)\u001b[0m\u001b[1;33m:\u001b[0m\u001b[1;33m\u001b[0m\u001b[0m\n",
      "\u001b[1;32m~\\Miniconda3\\envs\\py36_32\\lib\\site-packages\\pandas\\io\\parsers.py\u001b[0m in \u001b[0;36m_make_engine\u001b[1;34m(self, engine)\u001b[0m\n\u001b[0;32m   1120\u001b[0m     \u001b[1;32mdef\u001b[0m \u001b[0m_make_engine\u001b[0m\u001b[1;33m(\u001b[0m\u001b[0mself\u001b[0m\u001b[1;33m,\u001b[0m \u001b[0mengine\u001b[0m\u001b[1;33m=\u001b[0m\u001b[1;34m'c'\u001b[0m\u001b[1;33m)\u001b[0m\u001b[1;33m:\u001b[0m\u001b[1;33m\u001b[0m\u001b[0m\n\u001b[0;32m   1121\u001b[0m         \u001b[1;32mif\u001b[0m \u001b[0mengine\u001b[0m \u001b[1;33m==\u001b[0m \u001b[1;34m'c'\u001b[0m\u001b[1;33m:\u001b[0m\u001b[1;33m\u001b[0m\u001b[0m\n\u001b[1;32m-> 1122\u001b[1;33m             \u001b[0mself\u001b[0m\u001b[1;33m.\u001b[0m\u001b[0m_engine\u001b[0m \u001b[1;33m=\u001b[0m \u001b[0mCParserWrapper\u001b[0m\u001b[1;33m(\u001b[0m\u001b[0mself\u001b[0m\u001b[1;33m.\u001b[0m\u001b[0mf\u001b[0m\u001b[1;33m,\u001b[0m \u001b[1;33m**\u001b[0m\u001b[0mself\u001b[0m\u001b[1;33m.\u001b[0m\u001b[0moptions\u001b[0m\u001b[1;33m)\u001b[0m\u001b[1;33m\u001b[0m\u001b[0m\n\u001b[0m\u001b[0;32m   1123\u001b[0m         \u001b[1;32melse\u001b[0m\u001b[1;33m:\u001b[0m\u001b[1;33m\u001b[0m\u001b[0m\n\u001b[0;32m   1124\u001b[0m             \u001b[1;32mif\u001b[0m \u001b[0mengine\u001b[0m \u001b[1;33m==\u001b[0m \u001b[1;34m'python'\u001b[0m\u001b[1;33m:\u001b[0m\u001b[1;33m\u001b[0m\u001b[0m\n",
      "\u001b[1;32m~\\Miniconda3\\envs\\py36_32\\lib\\site-packages\\pandas\\io\\parsers.py\u001b[0m in \u001b[0;36m__init__\u001b[1;34m(self, src, **kwds)\u001b[0m\n\u001b[0;32m   1851\u001b[0m         \u001b[0mkwds\u001b[0m\u001b[1;33m[\u001b[0m\u001b[1;34m'usecols'\u001b[0m\u001b[1;33m]\u001b[0m \u001b[1;33m=\u001b[0m \u001b[0mself\u001b[0m\u001b[1;33m.\u001b[0m\u001b[0musecols\u001b[0m\u001b[1;33m\u001b[0m\u001b[0m\n\u001b[0;32m   1852\u001b[0m \u001b[1;33m\u001b[0m\u001b[0m\n\u001b[1;32m-> 1853\u001b[1;33m         \u001b[0mself\u001b[0m\u001b[1;33m.\u001b[0m\u001b[0m_reader\u001b[0m \u001b[1;33m=\u001b[0m \u001b[0mparsers\u001b[0m\u001b[1;33m.\u001b[0m\u001b[0mTextReader\u001b[0m\u001b[1;33m(\u001b[0m\u001b[0msrc\u001b[0m\u001b[1;33m,\u001b[0m \u001b[1;33m**\u001b[0m\u001b[0mkwds\u001b[0m\u001b[1;33m)\u001b[0m\u001b[1;33m\u001b[0m\u001b[0m\n\u001b[0m\u001b[0;32m   1854\u001b[0m         \u001b[0mself\u001b[0m\u001b[1;33m.\u001b[0m\u001b[0munnamed_cols\u001b[0m \u001b[1;33m=\u001b[0m \u001b[0mself\u001b[0m\u001b[1;33m.\u001b[0m\u001b[0m_reader\u001b[0m\u001b[1;33m.\u001b[0m\u001b[0munnamed_cols\u001b[0m\u001b[1;33m\u001b[0m\u001b[0m\n\u001b[0;32m   1855\u001b[0m \u001b[1;33m\u001b[0m\u001b[0m\n",
      "\u001b[1;32mpandas/_libs/parsers.pyx\u001b[0m in \u001b[0;36mpandas._libs.parsers.TextReader.__cinit__\u001b[1;34m()\u001b[0m\n",
      "\u001b[1;32mpandas/_libs/parsers.pyx\u001b[0m in \u001b[0;36mpandas._libs.parsers.TextReader._setup_parser_source\u001b[1;34m()\u001b[0m\n",
      "\u001b[1;31mFileNotFoundError\u001b[0m: [Errno 2] File b'C:\\\\Users\\\\Dragos\\\\Dropbox\\\\RISE\\\\Git\\\\PythonCSV\\\\output\\\\baseline_2887iter_1\\\\baseline_2887iter_1_output.csv' does not exist: b'C:\\\\Users\\\\Dragos\\\\Dropbox\\\\RISE\\\\Git\\\\PythonCSV\\\\output\\\\baseline_2887iter_1\\\\baseline_2887iter_1_output.csv'"
     ]
    }
   ],
   "source": [
    "output_dir = \"C:\\\\Users\\\\Dragos\\\\Dropbox\\\\RISE\\\\Git\\\\PythonCSV\\\\output\"\n",
    "\n",
    "if os.name == \"nt\":\n",
    "    output_dir = \"C:\\\\Users\\\\Dragos\\\\Dropbox\\\\RISE\\\\Git\\\\PythonCSV\\\\output\"\n",
    "else:\n",
    "    output_dir = \"/home/dragos/Dropbox/RISE/Git/PythonCSV/output/\"\n",
    "\n",
    "baseline = ExperimentResult(output_dir=output_dir)\n",
    "hash120_eps05 = ExperimentResult(folder=\"hash_120_eps_0.5_mod_10000_2887iter_1\", output_dir=output_dir)\n",
    "hash120_eps06 = ExperimentResult(folder=\"hash_120_eps_0.6_mod_10000_2887iter_1\", output_dir=output_dir)\n",
    "hash120_eps07 = ExperimentResult(folder=\"hash_120_eps_0.7_mod_10000_2887iter_1\", output_dir=output_dir)\n",
    "hash120_eps08 = ExperimentResult(folder=\"hash_120_eps_0.8_mod_10000_2887iter_1\", output_dir=output_dir)\n",
    "hash120_eps085 = ExperimentResult(folder=\"hash_120_eps_0.85_mod_10000_2887iter_1\", output_dir=output_dir)\n",
    "hash120_eps09 = ExperimentResult(folder=\"hash_120_eps_0.9_mod_10000_2887iter_1\", output_dir=output_dir)\n",
    "hash120_eps094 = ExperimentResult(folder=\"hash_120_eps_0.94_mod_10000_2887iter_1\", output_dir=output_dir)\n",
    "hash120_eps095 = ExperimentResult(folder=\"hash_120_eps_0.95_mod_10000_2887iter_1\", output_dir=output_dir)\n",
    "hash120_eps1 = ExperimentResult(folder=\"hash_120_eps_1.0_mod_10000_2887iter_1\", output_dir=output_dir)"
   ]
  },
  {
   "cell_type": "markdown",
   "metadata": {},
   "source": [
    "**Calculate everything**"
   ]
  },
  {
   "cell_type": "code",
   "execution_count": 19,
   "metadata": {},
   "outputs": [],
   "source": [
    "# Mod precision: 10 000 for all\n",
    "experiments = [baseline, hash120_eps05, hash120_eps06, hash120_eps07, hash120_eps08, hash120_eps085, hash120_eps09, hash120_eps094, hash120_eps095, hash120_eps1]\n",
    "\n",
    "for e in experiments:\n",
    "    e.calculate_deviation(reference=baseline)\n",
    "    e.calculate_averages()"
   ]
  },
  {
   "cell_type": "markdown",
   "metadata": {},
   "source": [
    "**Data in a table**"
   ]
  },
  {
   "cell_type": "code",
   "execution_count": 20,
   "metadata": {},
   "outputs": [],
   "source": [
    "rt = ResultsTable()\n",
    "\n",
    "for e in experiments:\n",
    "    rt.add_to_table(e)\n"
   ]
  },
  {
   "cell_type": "code",
   "execution_count": 21,
   "metadata": {},
   "outputs": [
    {
     "data": {
      "text/html": [
       "<div>\n",
       "<style scoped>\n",
       "    .dataframe tbody tr th:only-of-type {\n",
       "        vertical-align: middle;\n",
       "    }\n",
       "\n",
       "    .dataframe tbody tr th {\n",
       "        vertical-align: top;\n",
       "    }\n",
       "\n",
       "    .dataframe thead th {\n",
       "        text-align: right;\n",
       "    }\n",
       "</style>\n",
       "<table border=\"1\" class=\"dataframe\">\n",
       "  <thead>\n",
       "    <tr style=\"text-align: right;\">\n",
       "      <th></th>\n",
       "      <th>Type</th>\n",
       "      <th>Epsilon</th>\n",
       "      <th>Mod precision</th>\n",
       "      <th>mC/iter</th>\n",
       "      <th>sec/iter</th>\n",
       "      <th>Total mC</th>\n",
       "      <th>Total sec</th>\n",
       "      <th>Accuracy average</th>\n",
       "      <th>Accuracy worst</th>\n",
       "      <th>Accuracy worst name</th>\n",
       "      <th>Hits from hash</th>\n",
       "      <th>Writes to hash</th>\n",
       "      <th>Iterations</th>\n",
       "    </tr>\n",
       "  </thead>\n",
       "  <tbody>\n",
       "    <tr>\n",
       "      <th>0</th>\n",
       "      <td>Baseline</td>\n",
       "      <td>0</td>\n",
       "      <td>0</td>\n",
       "      <td>5.838719</td>\n",
       "      <td>0.011489</td>\n",
       "      <td>16.850542</td>\n",
       "      <td>33.158087</td>\n",
       "      <td>54.613159</td>\n",
       "      <td>102.337688</td>\n",
       "      <td>Gyro X Angle</td>\n",
       "      <td>0</td>\n",
       "      <td>0</td>\n",
       "      <td>0</td>\n",
       "    </tr>\n",
       "    <tr>\n",
       "      <th>1</th>\n",
       "      <td>Hash</td>\n",
       "      <td>0.5</td>\n",
       "      <td>10000</td>\n",
       "      <td>4.804306</td>\n",
       "      <td>0.009466</td>\n",
       "      <td>13.865226</td>\n",
       "      <td>27.317836</td>\n",
       "      <td>54.356917</td>\n",
       "      <td>102.440179</td>\n",
       "      <td>Gyro X Angle</td>\n",
       "      <td>710</td>\n",
       "      <td>2177</td>\n",
       "      <td>2886</td>\n",
       "    </tr>\n",
       "    <tr>\n",
       "      <th>2</th>\n",
       "      <td>Hash</td>\n",
       "      <td>0.6</td>\n",
       "      <td>10000</td>\n",
       "      <td>4.325328</td>\n",
       "      <td>0.008440</td>\n",
       "      <td>12.482897</td>\n",
       "      <td>24.356860</td>\n",
       "      <td>54.262571</td>\n",
       "      <td>102.362410</td>\n",
       "      <td>Gyro X Angle</td>\n",
       "      <td>971</td>\n",
       "      <td>1916</td>\n",
       "      <td>2886</td>\n",
       "    </tr>\n",
       "    <tr>\n",
       "      <th>3</th>\n",
       "      <td>Hash</td>\n",
       "      <td>0.7</td>\n",
       "      <td>10000</td>\n",
       "      <td>3.848934</td>\n",
       "      <td>0.007642</td>\n",
       "      <td>11.108024</td>\n",
       "      <td>22.053849</td>\n",
       "      <td>54.238345</td>\n",
       "      <td>102.311780</td>\n",
       "      <td>Gyro X Angle</td>\n",
       "      <td>1173</td>\n",
       "      <td>1714</td>\n",
       "      <td>2886</td>\n",
       "    </tr>\n",
       "    <tr>\n",
       "      <th>4</th>\n",
       "      <td>Hash</td>\n",
       "      <td>0.8</td>\n",
       "      <td>10000</td>\n",
       "      <td>3.470928</td>\n",
       "      <td>0.006902</td>\n",
       "      <td>10.017098</td>\n",
       "      <td>19.918327</td>\n",
       "      <td>54.086107</td>\n",
       "      <td>102.048708</td>\n",
       "      <td>Gyro X Angle</td>\n",
       "      <td>1358</td>\n",
       "      <td>1529</td>\n",
       "      <td>2886</td>\n",
       "    </tr>\n",
       "    <tr>\n",
       "      <th>5</th>\n",
       "      <td>Hash</td>\n",
       "      <td>0.85</td>\n",
       "      <td>10000</td>\n",
       "      <td>3.451650</td>\n",
       "      <td>0.006868</td>\n",
       "      <td>9.961463</td>\n",
       "      <td>19.819631</td>\n",
       "      <td>54.159042</td>\n",
       "      <td>102.305559</td>\n",
       "      <td>Gyro X Angle</td>\n",
       "      <td>1367</td>\n",
       "      <td>1520</td>\n",
       "      <td>2886</td>\n",
       "    </tr>\n",
       "    <tr>\n",
       "      <th>6</th>\n",
       "      <td>Hash</td>\n",
       "      <td>0.9</td>\n",
       "      <td>10000</td>\n",
       "      <td>3.229410</td>\n",
       "      <td>0.006441</td>\n",
       "      <td>9.316847</td>\n",
       "      <td>18.581567</td>\n",
       "      <td>53.800566</td>\n",
       "      <td>102.073252</td>\n",
       "      <td>Gyro X Angle</td>\n",
       "      <td>1475</td>\n",
       "      <td>1412</td>\n",
       "      <td>2885</td>\n",
       "    </tr>\n",
       "    <tr>\n",
       "      <th>7</th>\n",
       "      <td>Hash</td>\n",
       "      <td>0.94</td>\n",
       "      <td>10000</td>\n",
       "      <td>3.090601</td>\n",
       "      <td>0.006197</td>\n",
       "      <td>8.919476</td>\n",
       "      <td>17.883871</td>\n",
       "      <td>53.813233</td>\n",
       "      <td>102.153439</td>\n",
       "      <td>Gyro X Angle</td>\n",
       "      <td>1538</td>\n",
       "      <td>1349</td>\n",
       "      <td>2886</td>\n",
       "    </tr>\n",
       "    <tr>\n",
       "      <th>8</th>\n",
       "      <td>Hash</td>\n",
       "      <td>0.95</td>\n",
       "      <td>10000</td>\n",
       "      <td>3.024653</td>\n",
       "      <td>0.006072</td>\n",
       "      <td>8.729149</td>\n",
       "      <td>17.524155</td>\n",
       "      <td>53.833371</td>\n",
       "      <td>102.017890</td>\n",
       "      <td>Gyro X Angle</td>\n",
       "      <td>1569</td>\n",
       "      <td>1318</td>\n",
       "      <td>2886</td>\n",
       "    </tr>\n",
       "    <tr>\n",
       "      <th>9</th>\n",
       "      <td>Hash</td>\n",
       "      <td>1</td>\n",
       "      <td>10000</td>\n",
       "      <td>2.988586</td>\n",
       "      <td>0.005855</td>\n",
       "      <td>8.625060</td>\n",
       "      <td>16.896219</td>\n",
       "      <td>53.765784</td>\n",
       "      <td>101.926993</td>\n",
       "      <td>Gyro X Angle</td>\n",
       "      <td>1621</td>\n",
       "      <td>1266</td>\n",
       "      <td>2886</td>\n",
       "    </tr>\n",
       "  </tbody>\n",
       "</table>\n",
       "</div>"
      ],
      "text/plain": [
       "       Type Epsilon  Mod precision   mC/iter  sec/iter   Total mC  Total sec  \\\n",
       "0  Baseline       0              0  5.838719  0.011489  16.850542  33.158087   \n",
       "1      Hash     0.5          10000  4.804306  0.009466  13.865226  27.317836   \n",
       "2      Hash     0.6          10000  4.325328  0.008440  12.482897  24.356860   \n",
       "3      Hash     0.7          10000  3.848934  0.007642  11.108024  22.053849   \n",
       "4      Hash     0.8          10000  3.470928  0.006902  10.017098  19.918327   \n",
       "5      Hash    0.85          10000  3.451650  0.006868   9.961463  19.819631   \n",
       "6      Hash     0.9          10000  3.229410  0.006441   9.316847  18.581567   \n",
       "7      Hash    0.94          10000  3.090601  0.006197   8.919476  17.883871   \n",
       "8      Hash    0.95          10000  3.024653  0.006072   8.729149  17.524155   \n",
       "9      Hash       1          10000  2.988586  0.005855   8.625060  16.896219   \n",
       "\n",
       "   Accuracy average  Accuracy worst Accuracy worst name  Hits from hash  \\\n",
       "0         54.613159      102.337688        Gyro X Angle               0   \n",
       "1         54.356917      102.440179        Gyro X Angle             710   \n",
       "2         54.262571      102.362410        Gyro X Angle             971   \n",
       "3         54.238345      102.311780        Gyro X Angle            1173   \n",
       "4         54.086107      102.048708        Gyro X Angle            1358   \n",
       "5         54.159042      102.305559        Gyro X Angle            1367   \n",
       "6         53.800566      102.073252        Gyro X Angle            1475   \n",
       "7         53.813233      102.153439        Gyro X Angle            1538   \n",
       "8         53.833371      102.017890        Gyro X Angle            1569   \n",
       "9         53.765784      101.926993        Gyro X Angle            1621   \n",
       "\n",
       "   Writes to hash  Iterations  \n",
       "0               0           0  \n",
       "1            2177        2886  \n",
       "2            1916        2886  \n",
       "3            1714        2886  \n",
       "4            1529        2886  \n",
       "5            1520        2886  \n",
       "6            1412        2885  \n",
       "7            1349        2886  \n",
       "8            1318        2886  \n",
       "9            1266        2886  "
      ]
     },
     "metadata": {},
     "output_type": "display_data"
    }
   ],
   "source": [
    "rt.print_table()"
   ]
  },
  {
   "cell_type": "markdown",
   "metadata": {},
   "source": [
    "**Plots**"
   ]
  },
  {
   "cell_type": "markdown",
   "metadata": {},
   "source": [
    "Output plots"
   ]
  },
  {
   "cell_type": "code",
   "execution_count": 32,
   "metadata": {},
   "outputs": [],
   "source": [
    "hash120_eps1.plot_output(reference=[baseline])"
   ]
  },
  {
   "cell_type": "code",
   "execution_count": null,
   "metadata": {},
   "outputs": [],
   "source": [
    "hash120_eps095.plot_output(reference=[baseline])"
   ]
  },
  {
   "cell_type": "code",
   "execution_count": null,
   "metadata": {},
   "outputs": [],
   "source": [
    "hash120_eps094.plot_output(reference=[baseline])"
   ]
  },
  {
   "cell_type": "code",
   "execution_count": null,
   "metadata": {},
   "outputs": [],
   "source": [
    "hash120_eps09.plot_output(reference=[baseline])"
   ]
  },
  {
   "cell_type": "code",
   "execution_count": 50,
   "metadata": {},
   "outputs": [],
   "source": [
    "hash120_eps085.plot_output(reference=[baseline])"
   ]
  },
  {
   "cell_type": "markdown",
   "metadata": {},
   "source": [
    "Power plots"
   ]
  },
  {
   "cell_type": "code",
   "execution_count": 33,
   "metadata": {},
   "outputs": [],
   "source": [
    "hash120_eps1.plot_power_curves(reference=baseline)"
   ]
  },
  {
   "cell_type": "code",
   "execution_count": null,
   "metadata": {},
   "outputs": [],
   "source": [
    "hash120_eps095.plot_power_curves(reference=baseline)"
   ]
  },
  {
   "cell_type": "code",
   "execution_count": null,
   "metadata": {},
   "outputs": [],
   "source": [
    "hash120_eps094.plot_power_curves(reference=baseline)"
   ]
  },
  {
   "cell_type": "code",
   "execution_count": null,
   "metadata": {},
   "outputs": [],
   "source": [
    "hash120_eps09.plot_power_curves(reference=baseline)"
   ]
  },
  {
   "cell_type": "code",
   "execution_count": 34,
   "metadata": {},
   "outputs": [],
   "source": [
    "hash120_eps085.plot_power_curves(reference=baseline)"
   ]
  },
  {
   "cell_type": "markdown",
   "metadata": {},
   "source": [
    "**Data in a table (testing)**"
   ]
  },
  {
   "cell_type": "code",
   "execution_count": 9,
   "metadata": {},
   "outputs": [],
   "source": [
    "hash120_eps09.plot_output()"
   ]
  },
  {
   "cell_type": "code",
   "execution_count": 7,
   "metadata": {},
   "outputs": [
    {
     "data": {
      "text/plain": [
       "{'Average per iteration charge': 0.0030906013916907806,\n",
       " 'Average per iteration duration': 0.006196767475167963,\n",
       " 'Total charge': 8.919475616419593,\n",
       " 'Total duration': 17.88387093333474}"
      ]
     },
     "execution_count": 7,
     "metadata": {},
     "output_type": "execute_result"
    }
   ],
   "source": [
    "hash120_eps094.get_averages()"
   ]
  },
  {
   "cell_type": "code",
   "execution_count": 22,
   "metadata": {},
   "outputs": [
    {
     "data": {
      "text/plain": [
       "{'Average': 54.61315937110321,\n",
       " 'List': [96.52031448077588,\n",
       "  12.450947742639443,\n",
       "  102.33768848908889,\n",
       "  14.272661107377902,\n",
       "  96.78228715552473,\n",
       "  5.60654353827501,\n",
       "  96.48779968721857,\n",
       "  12.447032767925206],\n",
       " 'Maximum': 102.33768848908889,\n",
       " 'Maximum name': 'Gyro X Angle'}"
      ]
     },
     "execution_count": 22,
     "metadata": {},
     "output_type": "execute_result"
    }
   ],
   "source": [
    "hash120_eps094.get_error()"
   ]
  },
  {
   "cell_type": "code",
   "execution_count": 9,
   "metadata": {},
   "outputs": [
    {
     "data": {
      "text/plain": [
       "{'Epsilon': 0.94,\n",
       " 'Epsilon Mod': 9400,\n",
       " 'Mod precision': 10000,\n",
       " 'Hash size': 120,\n",
       " 'Utilized': 4,\n",
       " 'Found': 1538,\n",
       " 'Stored': 1349}"
      ]
     },
     "execution_count": 9,
     "metadata": {},
     "output_type": "execute_result"
    }
   ],
   "source": [
    "hash120_eps094.get_hash_stats()"
   ]
  },
  {
   "cell_type": "code",
   "execution_count": null,
   "metadata": {},
   "outputs": [],
   "source": [
    "baseline.calculate_deviation(reference=baseline)"
   ]
  },
  {
   "cell_type": "code",
   "execution_count": null,
   "metadata": {},
   "outputs": [],
   "source": [
    "baseline.get_deviation()"
   ]
  },
  {
   "cell_type": "markdown",
   "metadata": {},
   "source": [
    "**Data in text format**"
   ]
  },
  {
   "cell_type": "code",
   "execution_count": 80,
   "metadata": {},
   "outputs": [
    {
     "name": "stdout",
     "output_type": "stream",
     "text": [
      "Baseline\n",
      "---\n",
      "Roll: 96.5203%\n",
      "Pitch: 12.4509%\n",
      "Gyro X Angle: 102.3377%\n",
      "Gyro Y Angle: 14.2727%\n",
      "Comp Angle X: 96.7823%\n",
      "Comp Angle Y: 5.6065%\n",
      "Kalman Angle X: 96.4878%\n",
      "Kalman Angle Y: 12.4470%\n",
      "Average error: 54.6132%\n",
      "---\n",
      "Average charge per iteration: 5.83871872 uC\n",
      "Average energy per iteration: 29.193594 uJ\n",
      "Average time per iteration: 0.011489 ms\n",
      "\n",
      "Total iterations: 2886\n",
      "Total average current: 0.508188 mA\n",
      "Total charge: 16.850542 mC\n",
      "Total energy: 84.252711 mJ\n",
      "Total time: 33.158087 s\n",
      "\n"
     ]
    }
   ],
   "source": [
    "print(\"Baseline\")\n",
    "print(\"---\")\n",
    "baseline.print_output_error(verbose=2)\n",
    "print(\"---\")\n",
    "baseline.show_averages(verbose=2)"
   ]
  },
  {
   "cell_type": "code",
   "execution_count": 71,
   "metadata": {},
   "outputs": [
    {
     "name": "stdout",
     "output_type": "stream",
     "text": [
      "Hash size: 120, Epsilon: 1, Mod precision: 10000\n",
      "---\n",
      "Roll: 94.9683%\n",
      "Pitch: 11.8805%\n",
      "Gyro X Angle: 101.9270%\n",
      "Gyro Y Angle: 12.9564%\n",
      "Comp Angle X: 95.5064%\n",
      "Comp Angle Y: 6.1134%\n",
      "Kalman Angle X: 94.9494%\n",
      "Kalman Angle Y: 11.8250%\n",
      "Average error: 53.7658%\n",
      "---\n",
      "Average charge per iteration: 2.988586131 uC\n",
      "Average energy per iteration: 14.942931 uJ\n",
      "Average time per iteration: 0.005855 ms\n",
      "\n",
      "Total iterations: 2886\n",
      "Total average current: 0.510473 mA\n",
      "Total charge: 8.62506 mC\n",
      "Total energy: 43.125298 mJ\n",
      "Total time: 16.896219 s\n",
      "\n"
     ]
    }
   ],
   "source": [
    "print(\"Hash size: 120, Epsilon: 1, Mod precision: 10000\")\n",
    "print(\"---\")\n",
    "hash120_eps1.print_output_error(verbose=2)\n",
    "print(\"---\")\n",
    "hash120_eps1.show_averages(verbose=2)"
   ]
  },
  {
   "cell_type": "code",
   "execution_count": 72,
   "metadata": {},
   "outputs": [
    {
     "name": "stdout",
     "output_type": "stream",
     "text": [
      "Hash size: 120, Epsilon: 0.95, Mod precision: 10000\n",
      "---\n",
      "Roll: 95.1148%\n",
      "Pitch: 11.9365%\n",
      "Gyro X Angle: 102.0179%\n",
      "Gyro Y Angle: 13.1073%\n",
      "Comp Angle X: 95.4448%\n",
      "Comp Angle Y: 6.0554%\n",
      "Kalman Angle X: 95.0996%\n",
      "Kalman Angle Y: 11.8907%\n",
      "Average error: 53.8334%\n",
      "---\n",
      "Average charge per iteration: 3.024653009 uC\n",
      "Average energy per iteration: 15.123265 uJ\n",
      "Average time per iteration: 0.006072 ms\n",
      "\n",
      "Total iterations: 2886\n",
      "Total average current: 0.498121 mA\n",
      "Total charge: 8.729149 mC\n",
      "Total energy: 43.645743 mJ\n",
      "Total time: 17.524155 s\n",
      "\n"
     ]
    }
   ],
   "source": [
    "print(\"Hash size: 120, Epsilon: 0.95, Mod precision: 10000\")\n",
    "print(\"---\")\n",
    "hash120_eps095.print_output_error(verbose=2)\n",
    "print(\"---\")\n",
    "hash120_eps095.show_averages(verbose=2)"
   ]
  },
  {
   "cell_type": "code",
   "execution_count": 73,
   "metadata": {},
   "outputs": [
    {
     "name": "stdout",
     "output_type": "stream",
     "text": [
      "Hash size: 120, Epsilon: 0.94, Mod precision: 10000\n",
      "---\n",
      "Roll: 95.1172%\n",
      "Pitch: 12.0202%\n",
      "Gyro X Angle: 102.1534%\n",
      "Gyro Y Angle: 12.6506%\n",
      "Comp Angle X: 95.5954%\n",
      "Comp Angle Y: 5.8923%\n",
      "Kalman Angle X: 95.1014%\n",
      "Kalman Angle Y: 11.9752%\n",
      "Average error: 53.8132%\n",
      "---\n",
      "Average charge per iteration: 3.090601392 uC\n",
      "Average energy per iteration: 15.453007 uJ\n",
      "Average time per iteration: 0.006197 ms\n",
      "\n",
      "Total iterations: 2886\n",
      "Total average current: 0.498744 mA\n",
      "Total charge: 8.919476 mC\n",
      "Total energy: 44.597378 mJ\n",
      "Total time: 17.883871 s\n",
      "\n"
     ]
    }
   ],
   "source": [
    "print(\"Hash size: 120, Epsilon: 0.94, Mod precision: 10000\")\n",
    "print(\"---\")\n",
    "hash120_eps094.print_output_error(verbose=2)\n",
    "print(\"---\")\n",
    "hash120_eps094.show_averages(verbose=2)"
   ]
  },
  {
   "cell_type": "markdown",
   "metadata": {},
   "source": [
    "**Output Plots**"
   ]
  },
  {
   "cell_type": "code",
   "execution_count": null,
   "metadata": {},
   "outputs": [],
   "source": []
  }
 ],
 "metadata": {
  "kernelspec": {
   "display_name": "Python (py36_32)",
   "language": "python",
   "name": "py36_32"
  },
  "language_info": {
   "codemirror_mode": {
    "name": "ipython",
    "version": 3
   },
   "file_extension": ".py",
   "mimetype": "text/x-python",
   "name": "python",
   "nbconvert_exporter": "python",
   "pygments_lexer": "ipython3",
   "version": "3.6.5"
  }
 },
 "nbformat": 4,
 "nbformat_minor": 2
}
