{
 "cells": [
  {
   "cell_type": "code",
   "execution_count": 1,
   "metadata": {},
   "outputs": [],
   "source": [
    "%matplotlib qt"
   ]
  },
  {
   "cell_type": "code",
   "execution_count": 2,
   "metadata": {},
   "outputs": [],
   "source": [
    "import numpy as np\n",
    "import matplotlib.pyplot as plt\n",
    "from matplotlib.ticker import MaxNLocator\n",
    "from collections import namedtuple"
   ]
  },
  {
   "cell_type": "code",
   "execution_count": 3,
   "metadata": {},
   "outputs": [],
   "source": [
    "import pandas as pd\n",
    "import os\n",
    "from sys import platform\n",
    "from time import time, sleep\n",
    "from shutil import copy"
   ]
  },
  {
   "cell_type": "code",
   "execution_count": 4,
   "metadata": {},
   "outputs": [],
   "source": [
    "from pydgilib_extra import DGILibAverages, LOGGER_OBJECT, LOGGER_CSV, LOGGER_PLOT\n",
    "from experiment.plotting import *\n",
    "from experiment.helpers import *"
   ]
  },
  {
   "cell_type": "code",
   "execution_count": 5,
   "metadata": {},
   "outputs": [],
   "source": [
    "import dgilib_threaded as dgi_t\n",
    "from atprogram.atprogram import atprogram\n"
   ]
  },
  {
   "cell_type": "code",
   "execution_count": 6,
   "metadata": {},
   "outputs": [],
   "source": [
    "import ctypes\n",
    "try:\n",
    "    ctypes.windll.shcore.SetProcessDpiAwareness(True)\n",
    "except:\n",
    "    pass"
   ]
  },
  {
   "cell_type": "markdown",
   "metadata": {},
   "source": [
    "Common constants"
   ]
  },
  {
   "cell_type": "code",
   "execution_count": 7,
   "metadata": {},
   "outputs": [],
   "source": [
    "experiment = \"baseline\" # or hash\n",
    "hash_size = 8\n",
    "mod_precision = 100000\n",
    "epsilon = 0.5\n",
    "iterations = 20\n",
    "duration = 9999\n",
    "attempt = 1\n",
    "\n",
    "hash_size_str = \"\"\n",
    "if experiment == \"hash\":\n",
    "    hash_size_str = str(hash_size)\n",
    "exprm_file_name_base = experiment + \"_\" + str(attempt) + hash_size_str + \"_\" + str(iterations) + \"iter\""
   ]
  },
  {
   "cell_type": "markdown",
   "metadata": {},
   "source": [
    "File locations for experiments"
   ]
  },
  {
   "cell_type": "code",
   "execution_count": 8,
   "metadata": {},
   "outputs": [],
   "source": [
    "compile_base_dir = os.path.join(os.path.dirname(os.getcwd()),\"KalmanARM\")\n",
    "project_dir = os.path.join(compile_base_dir, \"STDIO_Redirect_w_TrustZone\")\n",
    "\n",
    "exprm_base_dir = os.path.join(os.getcwd(), \"output\")\n",
    "main_file_from = os.path.join(compile_base_dir, \"main_\" + experiment + \".c\")\n",
    "main_file_to = os.path.join(project_dir, \"main.c\")\n",
    "\n",
    "initial_output = os.path.join(exprm_base_dir, \"output_arm.csv\")"
   ]
  },
  {
   "cell_type": "markdown",
   "metadata": {},
   "source": [
    "File locations for plotting"
   ]
  },
  {
   "cell_type": "code",
   "execution_count": 9,
   "metadata": {},
   "outputs": [],
   "source": [
    "exprm_output_base_folder = os.path.join(os.getcwd(),\"output\", exprm_file_name_base)\n",
    "original_output_path = os.path.join(os.getcwd(), \"output\", \"original_output.csv\")\n",
    "\n",
    "exprm_output_name = exprm_file_name_base + \"_output.csv\"\n",
    "exprm_averages_name = exprm_file_name_base + \"_averages.csv\"\n",
    "exprm_output_path = os.path.join(exprm_output_base_folder, exprm_output_name)\n",
    "exprm_averages_path = os.path.join(exprm_output_base_folder, exprm_averages_name)"
   ]
  },
  {
   "cell_type": "markdown",
   "metadata": {},
   "source": [
    "DGILib constants"
   ]
  },
  {
   "cell_type": "code",
   "execution_count": 10,
   "metadata": {},
   "outputs": [],
   "source": [
    "config = {\n",
    "    \"input_acc_file\": os.path.join(\"input\", \"input_acc.csv\"),\n",
    "    \"input_gyro_file\": os.path.join(\"input\", \"input_gyro.csv\"),\n",
    "    \"output_file\": exprm_output_path\n",
    "}\n",
    "\n",
    "dgilib_config_dict = {\n",
    "    \"loggers\": [LOGGER_OBJECT, LOGGER_CSV],\n",
    "    \"plot_pins_method\": \"highlight\",\n",
    "    \"gpio_delay_time\": 0.0015,\n",
    "    \"log_folder\": exprm_output_base_folder,\n",
    "    \"file_name_base\": exprm_file_name_base\n",
    "}\n",
    "\n",
    "# dgilib_config_dict_plot = {\n",
    "#     \"loggers\": [LOGGER_OBJECT, LOGGER_CSV, LOGGER_PLOT],\n",
    "#     \"plot_pins_method\": \"highlight\"\n",
    "# }"
   ]
  },
  {
   "cell_type": "code",
   "execution_count": 11,
   "metadata": {},
   "outputs": [
    {
     "name": "stdout",
     "output_type": "stream",
     "text": [
      "WARNING: Folder 'C:\\Users\\Dragos\\Dropbox\\RISE\\Git\\PythonCSV\\output\\baseline_1_20iter' already exists.\n"
     ]
    }
   ],
   "source": [
    "try:\n",
    "    os.mkdir(exprm_output_base_folder)\n",
    "    print(\"Folder '\" + exprm_output_base_folder + \"' created.\")\n",
    "except FileExistsError:\n",
    "    print(\"WARNING: Folder '\" + exprm_output_base_folder + \"' already exists.\")\n",
    "    pass"
   ]
  },
  {
   "cell_type": "markdown",
   "metadata": {},
   "source": [
    "**Edit C/C++ files with hash table information**"
   ]
  },
  {
   "cell_type": "code",
   "execution_count": 12,
   "metadata": {},
   "outputs": [
    {
     "name": "stdout",
     "output_type": "stream",
     "text": [
      "File 'C:\\Users\\Dragos\\Dropbox\\RISE\\Git\\KalmanARM\\STDIO_Redirect_w_TrustZone\\HashTable\\hashtable.h' now contains:\n",
      "#define HASHSIZE 8\n",
      "#define MOD_PRECISION 100000\n",
      "#define EPSILON 0.5\n"
     ]
    }
   ],
   "source": [
    "hashtable_header_file_path = os.path.join(project_dir, \"HashTable\", \"hashtable.h\")\n",
    "replace_define_value_in_file(hashtable_header_file_path, \"HASHSIZE\", hash_size)\n",
    "sleep(1)\n",
    "replace_define_value_in_file(hashtable_header_file_path, \"MOD_PRECISION\", mod_precision)\n",
    "sleep(1)\n",
    "replace_define_value_in_file(hashtable_header_file_path, \"EPSILON\", epsilon)\n",
    "\n",
    "print(\"File '\" + hashtable_header_file_path + \"' now contains:\")\n",
    "print_file(hashtable_header_file_path, \"#define HASHSIZE\")\n",
    "print_file(hashtable_header_file_path, \"#define MOD_PRECISION\")\n",
    "print_file(hashtable_header_file_path, \"#define EPSILON\")"
   ]
  },
  {
   "cell_type": "code",
   "execution_count": 13,
   "metadata": {},
   "outputs": [
    {
     "name": "stdout",
     "output_type": "stream",
     "text": [
      "Copied 'C:\\Users\\Dragos\\Dropbox\\RISE\\Git\\KalmanARM\\main_baseline.c' to 'C:\\Users\\Dragos\\Dropbox\\RISE\\Git\\KalmanARM\\STDIO_Redirect_w_TrustZone\\main.c'\n"
     ]
    }
   ],
   "source": [
    "copy(main_file_from, main_file_to)\n",
    "print(\"Copied '\"+ main_file_from + \"' to '\" + main_file_to + \"'\")"
   ]
  },
  {
   "cell_type": "markdown",
   "metadata": {},
   "source": [
    "**Run KalmanC++**"
   ]
  },
  {
   "cell_type": "code",
   "execution_count": 14,
   "metadata": {},
   "outputs": [],
   "source": [
    "x86_kalman_dir = os.path.join(os.path.dirname(os.getcwd()),\"KalmanC++\")\n",
    "x86_kalman_hash_header = os.path.join(x86_kalman_dir, \"HashTable\", \"hashtable.h\")"
   ]
  },
  {
   "cell_type": "code",
   "execution_count": 15,
   "metadata": {},
   "outputs": [
    {
     "name": "stdout",
     "output_type": "stream",
     "text": [
      "File 'C:\\Users\\Dragos\\Dropbox\\RISE\\Git\\KalmanC++\\HashTable\\hashtable.h' now contains:\n",
      "#define HASHSIZE 8\n",
      "#define MOD_PRECISION 100000\n",
      "#define EPSILON 0.5\n"
     ]
    }
   ],
   "source": [
    "hashtable_header_file_path = x86_kalman_hash_header\n",
    "replace_define_value_in_file(hashtable_header_file_path, \"HASHSIZE\", hash_size)\n",
    "sleep(1)\n",
    "replace_define_value_in_file(hashtable_header_file_path, \"MOD_PRECISION\", mod_precision)\n",
    "sleep(1)\n",
    "replace_define_value_in_file(hashtable_header_file_path, \"EPSILON\", epsilon)\n",
    "\n",
    "print(\"File '\" + hashtable_header_file_path + \"' now contains:\")\n",
    "print_file(hashtable_header_file_path, \"#define HASHSIZE\")\n",
    "print_file(hashtable_header_file_path, \"#define MOD_PRECISION\")\n",
    "print_file(hashtable_header_file_path, \"#define EPSILON\")"
   ]
  },
  {
   "cell_type": "code",
   "execution_count": 16,
   "metadata": {},
   "outputs": [],
   "source": [
    "compile_hash()"
   ]
  },
  {
   "cell_type": "code",
   "execution_count": 17,
   "metadata": {},
   "outputs": [
    {
     "name": "stdout",
     "output_type": "stream",
     "text": [
      "Executing ['C:\\\\Users\\\\Dragos\\\\Dropbox\\\\RISE\\\\Git\\\\KalmanC++\\\\kalman-hash.exe']\n",
      "Mod precision: 100000\n",
      "Epsilon: 0.500000\n",
      "Hash size: 8\n",
      "\n",
      "HashTable population: 8 / 8\n",
      "No. of times found: 5\n",
      "No. of times stored: 94\n"
     ]
    }
   ],
   "source": [
    "run_hash()"
   ]
  },
  {
   "cell_type": "code",
   "execution_count": 18,
   "metadata": {},
   "outputs": [
    {
     "name": "stdout",
     "output_type": "stream",
     "text": [
      "Copied 'C:\\Users\\Dragos\\Dropbox\\RISE\\Git\\KalmanC++\\debug.txt' to 'C:\\Users\\Dragos\\Dropbox\\RISE\\Git\\PythonCSV\\output\\baseline_1_20iter\\baseline_1_20iter_table_stats.txt'\n"
     ]
    }
   ],
   "source": [
    "output_file_from = os.path.join(x86_kalman_dir, \"debug.txt\")\n",
    "output_file_to = os.path.join(exprm_output_base_folder, exprm_file_name_base + \"_table_stats.txt\")\n",
    "copy(output_file_from, output_file_to)\n",
    "print(\"Copied '\"+ output_file_from + \"' to '\" + output_file_to + \"'\")"
   ]
  },
  {
   "cell_type": "markdown",
   "metadata": {},
   "source": [
    "**Experiment**"
   ]
  },
  {
   "cell_type": "code",
   "execution_count": 19,
   "metadata": {},
   "outputs": [],
   "source": [
    "if False: atprogram(project_dir, verbose=1)"
   ]
  },
  {
   "cell_type": "code",
   "execution_count": 20,
   "metadata": {},
   "outputs": [
    {
     "name": "stdout",
     "output_type": "stream",
     "text": [
      "Reading line 21/21\n",
      "\n",
      "Written Kalman output to 'C:\\Users\\Dragos\\Dropbox\\RISE\\Git\\PythonCSV\\output\\baseline_1_20iter\\baseline_1_20iter_output.csv'\n",
      "\n",
      "Receiving thread done!\n",
      "Measurement thread: Got stop command!\n",
      "Sending thread done!\n",
      "Wrote gpio data to C:\\Users\\Dragos\\Dropbox\\RISE\\Git\\PythonCSV\\output\\baseline_1_20iter\\baseline_1_20iter_gpio.csv'\n",
      "Wrote power data to C:\\Users\\Dragos\\Dropbox\\RISE\\Git\\PythonCSV\\output\\baseline_1_20iter\\baseline_1_20iter_power.csv'\n",
      "Measurement thread done!\n"
     ]
    }
   ],
   "source": [
    "data, preprocessed_data = dgi_t.measure(duration, iterations, dgilib_config_dict, input_acc_file=config[\"input_acc_file\"], input_gyro_file=config[\"input_gyro_file\"], output_file=config[\"output_file\"], waitForPlot=True)"
   ]
  },
  {
   "cell_type": "code",
   "execution_count": 21,
   "metadata": {},
   "outputs": [],
   "source": [
    "data2 = dgi_t.load_from_csv(exprm_output_base_folder, exprm_file_name_base)"
   ]
  },
  {
   "cell_type": "markdown",
   "metadata": {},
   "source": [
    "Save averages data"
   ]
  },
  {
   "cell_type": "code",
   "execution_count": 22,
   "metadata": {},
   "outputs": [
    {
     "name": "stdout",
     "output_type": "stream",
     "text": [
      "    1: (   1.06485 s,    1.07509 s) =    0.01024 s         ignored mC\n",
      "    2: (   1.76961 s,    1.78082 s) =    0.01121 s        0.005686 mC\n",
      "    3: (   2.36358 s,    2.37503 s) =    0.01145 s        0.005825 mC\n",
      "    4: (   3.06789 s,    3.07935 s) =    0.01146 s        0.005829 mC\n",
      "    5: (   3.70594 s,    3.71746 s) =    0.01152 s        0.005868 mC\n",
      "Average charge per iteration: 5.831852439 uC\n",
      "Average energy per iteration: 29.159262 uJ\n",
      "Average time per iteration: 0.011474 ms\n",
      "\n",
      "Total iterations: 19\n",
      "Total average current: 0.508258 mA\n",
      "Total charge: 0.110805 mC\n",
      "Total energy: 0.554026 mJ\n",
      "Total time: 0.21801 s\n",
      "\n",
      "Benchmark time: 0.60762572 s\n"
     ]
    }
   ],
   "source": [
    "avg1 = DGILibAverages(data = data, average_function=\"leftpoint\", ignore_first_average = False)\n",
    "avg1.calculate_averages_for_pin(1)\n",
    "avg1.print_averages_for_pin(1,5)"
   ]
  },
  {
   "cell_type": "code",
   "execution_count": 23,
   "metadata": {},
   "outputs": [
    {
     "name": "stdout",
     "output_type": "stream",
     "text": [
      "    1: (   1.06485 s,    1.07509 s) =    0.01024 s         ignored mC\n",
      "    2: (   1.76961 s,    1.78082 s) =    0.01121 s        0.005686 mC\n",
      "    3: (   2.36358 s,    2.37503 s) =    0.01145 s        0.005825 mC\n",
      "    4: (   3.06789 s,    3.07935 s) =    0.01146 s        0.005829 mC\n",
      "    5: (   3.70594 s,    3.71746 s) =    0.01152 s        0.005868 mC\n",
      "Average charge per iteration: 5.831852439 uC\n",
      "Average energy per iteration: 29.159262 uJ\n",
      "Average time per iteration: 0.011474 ms\n",
      "\n",
      "Total iterations: 19\n",
      "Total average current: 0.508258 mA\n",
      "Total charge: 0.110805 mC\n",
      "Total energy: 0.554026 mJ\n",
      "Total time: 0.21801 s\n",
      "\n",
      "Benchmark time: 0.61762047 s\n"
     ]
    }
   ],
   "source": [
    "avg2 = DGILibAverages(data = data2, average_function=\"leftpoint\")\n",
    "avg2.calculate_averages_for_pin(1)\n",
    "avg2.print_averages_for_pin(1,5)"
   ]
  },
  {
   "cell_type": "code",
   "execution_count": 24,
   "metadata": {},
   "outputs": [
    {
     "name": "stdout",
     "output_type": "stream",
     "text": [
      "    1: (   1.76961 s,    1.78082 s) =    0.01121 s        0.005721 mC\n",
      "    2: (   2.36358 s,    2.37503 s) =    0.01145 s        0.005862 mC\n",
      "    3: (   3.06789 s,    3.07935 s) =    0.01146 s        0.005864 mC\n",
      "    4: (   3.70594 s,    3.71746 s) =    0.01152 s          0.0059 mC\n",
      "    5: (   4.52614 s,    4.53767 s) =    0.01153 s        0.005864 mC\n",
      "Average charge per iteration: 5.866913592 uC\n",
      "Average energy per iteration: 29.334568 uJ\n",
      "Average time per iteration: 0.011474 ms\n",
      "\n",
      "Total iterations: 19\n",
      "Total average current: 0.511326 mA\n",
      "Total charge: 0.111471 mC\n",
      "Total energy: 0.557357 mJ\n",
      "Total time: 0.218005 s\n",
      "\n",
      "Benchmark time: 0.07395482 s\n"
     ]
    }
   ],
   "source": [
    "avg3 = DGILibAverages(data = data, average_function=\"pulse\")\n",
    "avg3.calculate_averages_for_pin(1)\n",
    "avg3.print_averages_for_pin(1,5)"
   ]
  },
  {
   "cell_type": "code",
   "execution_count": 25,
   "metadata": {},
   "outputs": [
    {
     "name": "stdout",
     "output_type": "stream",
     "text": [
      "    1: (   1.76961 s,    1.78082 s) =    0.01121 s        0.005721 mC\n",
      "    2: (   2.36358 s,    2.37503 s) =    0.01145 s        0.005862 mC\n",
      "    3: (   3.06789 s,    3.07935 s) =    0.01146 s        0.005864 mC\n",
      "    4: (   3.70594 s,    3.71746 s) =    0.01152 s          0.0059 mC\n",
      "    5: (   4.52614 s,    4.53767 s) =    0.01153 s        0.005864 mC\n",
      "Average charge per iteration: 5.866913592 uC\n",
      "Average energy per iteration: 29.334568 uJ\n",
      "Average time per iteration: 0.011474 ms\n",
      "\n",
      "Total iterations: 19\n",
      "Total average current: 0.511326 mA\n",
      "Total charge: 0.111471 mC\n",
      "Total energy: 0.557357 mJ\n",
      "Total time: 0.218005 s\n",
      "\n",
      "Benchmark time: 0.08694863 s\n"
     ]
    }
   ],
   "source": [
    "avg4 = DGILibAverages(data = data2, average_function=\"pulse\")\n",
    "avg4.calculate_averages_for_pin(1)\n",
    "avg4.print_averages_for_pin(1,5)"
   ]
  },
  {
   "cell_type": "markdown",
   "metadata": {},
   "source": [
    "**Read averages from saved csv**"
   ]
  },
  {
   "cell_type": "code",
   "execution_count": 26,
   "metadata": {},
   "outputs": [],
   "source": [
    "avg2.write_to_csv(exprm_averages_path)"
   ]
  },
  {
   "cell_type": "code",
   "execution_count": 27,
   "metadata": {},
   "outputs": [
    {
     "name": "stdout",
     "output_type": "stream",
     "text": [
      "\n",
      "-- Baseline --\n",
      "    1: (   1.06485 s,    1.07509 s) =    0.01024 s         ignored mC\n",
      "    2: (   1.76961 s,    1.78082 s) =    0.01121 s        0.005686 mC\n",
      "    3: (   2.36358 s,    2.37503 s) =    0.01145 s        0.005825 mC\n",
      "    4: (   3.06789 s,    3.07935 s) =    0.01146 s        0.005829 mC\n",
      "    5: (   3.70594 s,    3.71746 s) =    0.01152 s        0.005868 mC\n",
      "Average charge per iteration: 5.831852439 uC\n",
      "Average energy per iteration: 29.159262 uJ\n",
      "Average time per iteration: 0.011474 ms\n",
      "\n",
      "Total iterations: 19\n",
      "Total average current: 0.508258 mA\n",
      "Total charge: 0.110805 mC\n",
      "Total energy: 0.554026 mJ\n",
      "Total time: 0.21801 s\n",
      "\n",
      "Benchmark time: 0.0 s\n"
     ]
    }
   ],
   "source": [
    "avg_baseline = DGILibAverages()\n",
    "avg_baseline.read_from_csv(exprm_averages_path)\n",
    "\n",
    "avg_baseline.initialized = True\n",
    "print(\"\")\n",
    "print(\"-- Baseline --\")\n",
    "avg_baseline.calculate_averages_for_pin(1)\n",
    "\n",
    "avg_baseline.print_averages_for_pin(1, 5)"
   ]
  },
  {
   "cell_type": "markdown",
   "metadata": {},
   "source": [
    "**Comparison plot with Intel x86 result**"
   ]
  },
  {
   "cell_type": "code",
   "execution_count": null,
   "metadata": {},
   "outputs": [],
   "source": [
    "f1 = comparison_plot(original_output_path, exprm_output_path, iterations, \"Original\", \"Baseline\")\n",
    "wait_for_plot(f1, True)"
   ]
  },
  {
   "cell_type": "code",
   "execution_count": null,
   "metadata": {},
   "outputs": [],
   "source": []
  }
 ],
 "metadata": {
  "kernelspec": {
   "display_name": "Python (py36_32)",
   "language": "python",
   "name": "py36_32"
  },
  "language_info": {
   "codemirror_mode": {
    "name": "ipython",
    "version": 3
   },
   "file_extension": ".py",
   "mimetype": "text/x-python",
   "name": "python",
   "nbconvert_exporter": "python",
   "pygments_lexer": "ipython3",
   "version": "3.6.5"
  }
 },
 "nbformat": 4,
 "nbformat_minor": 2
}
