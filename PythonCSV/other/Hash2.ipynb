{
 "cells": [
  {
   "cell_type": "code",
   "execution_count": 2,
   "metadata": {},
   "outputs": [],
   "source": [
    "import os\n",
    "from experiment.helpers import *\n",
    "\n",
    "def replace_with_values(hashsize=8, iterations=1000, epsilon=0.5, epsilon_mod=5, mod_precision=10, verbose = 0):\n",
    "    props_and_values = {\n",
    "        \"HASHSIZE\": hashsize,\n",
    "        \"ITERATIONS\": iterations,\n",
    "        \"EPSILON\" : '{0:f}'.format(epsilon),\n",
    "        \"EPSILON_MOD\": int(epsilon_mod),\n",
    "        \"MOD_PRECISION\" : mod_precision\n",
    "    }\n",
    "\n",
    "    x86_kalman_dir = os.path.join(os.path.dirname(os.getcwd()),\"KalmanC++\")\n",
    "    x86_kalman_hash_header = os.path.join(x86_kalman_dir, \"HashTable\", \"hashtable.h\")\n",
    "\n",
    "    hashtable_header_file_path = x86_kalman_hash_header\n",
    "    hashtable_header_file_clone_path = os.path.join(x86_kalman_dir, \"Originals\", \"hashtable.h\")\n",
    "    replace_define_value_in_file(hashtable_header_file_clone_path, hashtable_header_file_path, props_and_values)\n",
    "\n",
    "    if verbose >= 2: print(\"File '\" + hashtable_header_file_path + \"' now contains:\")\n",
    "    if verbose >= 2: print_file(hashtable_header_file_path, \"#define HASHSIZE\")\n",
    "    if verbose >= 2: print_file(hashtable_header_file_path, \"#define EPSILON\")\n",
    "    if verbose >= 2: print_file(hashtable_header_file_path, \"#define EPSILON_MOD\")\n",
    "    if verbose >= 2: print_file(hashtable_header_file_path, \"#define MOD_PRECISION\")\n",
    "    if verbose >= 2: print_file(hashtable_header_file_path, \"#define ITERATIONS\")"
   ]
  },
  {
   "cell_type": "code",
   "execution_count": 3,
   "metadata": {},
   "outputs": [
    {
     "name": "stdout",
     "output_type": "stream",
     "text": [
      "File 'C:\\Users\\Dragos\\Dropbox\\RISE\\Git\\KalmanC++\\HashTable\\hashtable.h' now contains:\n",
      "#define HASHSIZE 8\n",
      "#define EPSILON 0.500000\n",
      "#define EPSILON_MOD 5000\n",
      "#define MOD_PRECISION 10000\n",
      "#define ITERATIONS 1000\n",
      "\n",
      "Epsilon: 0.500000\n",
      "Epsilon mod: 5000\n",
      "Mod precision: 10000\n",
      "Hash size: 8\n",
      "\n",
      "HashTable population: 4 / 8\n",
      "No. of times found: 250\n",
      "No. of times stored: 750\n"
     ]
    }
   ],
   "source": [
    "replace_with_values(hashsize=8, iterations=1000, epsilon=0.5, epsilon_mod=5000, mod_precision=10000, verbose=2)\n",
    "compile_hash()\n",
    "print(\"\")\n",
    "run_hash(verbose=2)"
   ]
  },
  {
   "cell_type": "code",
   "execution_count": 7,
   "metadata": {},
   "outputs": [],
   "source": [
    "def get_from_debug(path = \"C:\\\\Users\\\\Dragos\\\\Dropbox\\\\RISE\\\\Git\\\\KalmanC++\\\\debug.txt\", verbose=0):\n",
    "    epsilon = 0\n",
    "    epsilon_mod = 0\n",
    "    mod_precision = 0\n",
    "    hash_size = 0\n",
    "    utilizied = 0\n",
    "    found = 0\n",
    "    stored = 0\n",
    "    \n",
    "    for line in open(path, \"r\"):\n",
    "        if (\"Epsilon:\" in line):\n",
    "            epsilon = float(line.split(\" \")[-1])\n",
    "        elif (\"Epsilon mod\" in line):\n",
    "            epsilon_mod = int(line.split(\" \")[-1])\n",
    "        elif (\"Mod precision\" in line):\n",
    "            mod_precision = int(line.split(\" \")[-1])\n",
    "        elif (\"Hash size\" in line):\n",
    "            hash_size = int(line.split(\" \")[-1])\n",
    "        elif (\"HashTable population\" in line):\n",
    "            utilized = int(line.split(\" \")[-3])\n",
    "        elif (\"found\" in line):\n",
    "            found = int(line.split(\" \")[-1])\n",
    "        elif (\"stored\" in line):\n",
    "            stored = int(line.split(\" \")[-1])\n",
    "        if verbose>0:print(line, end='')\n",
    "            \n",
    "    return (epsilon, epsilon_mod, mod_precision, hash_size, utilized, found, stored)"
   ]
  },
  {
   "cell_type": "code",
   "execution_count": 8,
   "metadata": {},
   "outputs": [
    {
     "name": "stdout",
     "output_type": "stream",
     "text": [
      "Epsilon: 0.750000\n",
      "Epsilon mod: 75\n",
      "Mod precision: 100\n",
      "Hash size: 8\n",
      "\n",
      "HashTable population: 4 / 8\n",
      "No. of times found: 431\n",
      "No. of times stored: 569\n"
     ]
    },
    {
     "data": {
      "text/plain": [
       "(0.75, 75, 100, 8, 4, 431, 569)"
      ]
     },
     "execution_count": 8,
     "metadata": {},
     "output_type": "execute_result"
    }
   ],
   "source": [
    "get_from_debug(verbose=1)"
   ]
  },
  {
   "cell_type": "code",
   "execution_count": 36,
   "metadata": {},
   "outputs": [
    {
     "name": "stdout",
     "output_type": "stream",
     "text": [
      "Hash size: 120, Epsilon: 0.94, Mod precision: 100, Epsilon mod: 94.0\n",
      "Other details: \n",
      "- Stored: 1345\n",
      "- Found: 1543\n"
     ]
    }
   ],
   "source": [
    "import sys\n",
    "import numpy as np\n",
    "\n",
    "hash_sizes = [120, 100, 64, 32, 16, 8]\n",
    "epsilon=np.arange(1.0, 0.8, -0.01) #[1.0, 0.99, 0.98, 0.97 0.9, 0.85, 0.84, 0.83, 0.82, 0.81, 0.8, 0.75, 0.5, 0.25, 0.1, 0.01, 0.001, 0.0001, 0.00001]\n",
    "mod_precision=[10,100,1000,10000,100000]\n",
    "iterations = 2888\n",
    "\n",
    "max_found = 0\n",
    "min_found = 9999\n",
    "max_utilized = 0\n",
    "\n",
    "selected_hash_size = 8\n",
    "selected_epsilon = 0.1\n",
    "selected_mod_precision = 10\n",
    "selected_epsilon_mod = 0\n",
    "\n",
    "selected_utilized = 0\n",
    "selected_stored = 0\n",
    "selected_found = 0\n",
    "\n",
    "for h in hash_sizes:\n",
    "    for e in epsilon:\n",
    "        for m in mod_precision:\n",
    "            if e*m - int(e*m) > 0:\n",
    "                continue # If fraction part is not 0\n",
    "            replace_with_values(hashsize=h, epsilon=e, mod_precision=m, epsilon_mod=e*m, iterations=iterations)\n",
    "            compile_hash()\n",
    "            #sleep(0.001)\n",
    "            run_hash(verbose=0)\n",
    "            #sleep(0.5)\n",
    "            (e_, em_, m_, h_, utilized, found, stored) = get_from_debug()\n",
    "            try:\n",
    "                assert(e == e_)\n",
    "            except AssertionError:\n",
    "                #print(\"e != e_: {0} -- {1}\".format(e, e_))\n",
    "                pass\n",
    "            try:\n",
    "                assert(em_ == e*m)\n",
    "            except AssertionError:\n",
    "                print(\"em != e*m: {0} -- {1}\".format(em_, e*m))\n",
    "            assert(m == m_)\n",
    "            assert(h == h_)\n",
    "            #if utilized_ > max_utilized:\n",
    "            #if found > max_found: # and balance < min_balance:\n",
    "            #if balance < min_balance:\n",
    "            if found > (iterations / 2) and found < ((iterations / 2) + 100) and found > max_found:\n",
    "                selected_hash_size = h\n",
    "                selected_epsilon = e__\n",
    "                selected_mod_precision = m\n",
    "                selected_epsilon_mod = e*m\n",
    "                selected_utilized = utilized\n",
    "                \n",
    "                selected_stored = stored\n",
    "                selected_found = found\n",
    "                \n",
    "                max_found = found\n",
    "                min_found = found\n",
    "                min_utilized = utilized\n",
    "            \n",
    "            sys.stdout.write(\"\\r(Hash, Eps, Mod, EpsMod | Utilized, Stored, Found): Running = ({0}, {1}, {2}, {3} | {4}, {5}, {6}); Selected = ({7}, {8}, {9}, {10}) | {11}, {12}, {13})\".format( \\\n",
    "                h,e,m,e*m, utilized, stored, found, selected_hash_size, selected_epsilon, selected_mod_precision, selected_epsilon_mod, selected_utilized, selected_stored, selected_found))\n",
    "            sys.stdout.flush()\n",
    "                \n",
    "print(\"\\rHash size: {0}, Epsilon: {1}, Mod precision: {2}, Epsilon mod: {3}\".format(selected_hash_size, selected_epsilon, selected_mod_precision, selected_epsilon_mod))\n",
    "\n",
    "print(\"Other details: \")\n",
    "print(\"- Stored: {0}\".format(selected_stored))\n",
    "print(\"- Found: {0}\".format(selected_found))\n"
   ]
  },
  {
   "cell_type": "code",
   "execution_count": 63,
   "metadata": {},
   "outputs": [
    {
     "name": "stdout",
     "output_type": "stream",
     "text": [
      "File 'C:\\Users\\Dragos\\Dropbox\\RISE\\Git\\KalmanC++\\HashTable\\hashtable.h' now contains:\n",
      "#define HASHSIZE 8\n",
      "#define EPSILON 0.100000\n",
      "#define EPSILON_MOD 7\n",
      "#define MOD_PRECISION 10\n",
      "#define ITERATIONS 1000\n",
      "\n",
      "Epsilon: 0.100000\n",
      "Epsilon mod: 7\n",
      "Mod precision: 10\n",
      "Hash size: 8\n",
      "\n",
      "HashTable population: 4 / 8\n",
      "No. of times found: 2\n",
      "No. of times stored: 998\n"
     ]
    }
   ],
   "source": [
    "replace_with_values(hashsize=8, iterations=1000, epsilon=0.1, epsilon_mod=7, mod_precision=10, verbose=2)\n",
    "compile_hash()\n",
    "print(\"\")\n",
    "run_hash(verbose=2)"
   ]
  },
  {
   "cell_type": "code",
   "execution_count": null,
   "metadata": {},
   "outputs": [],
   "source": []
  }
 ],
 "metadata": {
  "kernelspec": {
   "display_name": "Python (py36_32)",
   "language": "python",
   "name": "py36_32"
  },
  "language_info": {
   "codemirror_mode": {
    "name": "ipython",
    "version": 3
   },
   "file_extension": ".py",
   "mimetype": "text/x-python",
   "name": "python",
   "nbconvert_exporter": "python",
   "pygments_lexer": "ipython3",
   "version": "3.6.5"
  }
 },
 "nbformat": 4,
 "nbformat_minor": 2
}
