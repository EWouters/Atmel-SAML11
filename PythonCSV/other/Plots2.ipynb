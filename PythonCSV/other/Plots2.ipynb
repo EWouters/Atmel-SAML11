{
 "cells": [
  {
   "cell_type": "code",
   "execution_count": 1,
   "metadata": {},
   "outputs": [],
   "source": [
    "%matplotlib qt\n",
    "import matplotlib.pyplot as plt\n",
    "from IPython.display import display, HTML\n",
    "from experiment.experiment_results import ExperimentResult, ResultsTable, get_output_dirs"
   ]
  },
  {
   "cell_type": "markdown",
   "metadata": {},
   "source": [
    "Todo:\n",
    "* **TODO** Put utilization in table\n",
    "* DONE Reput averages iterations in table and re-do so they can be 2887"
   ]
  },
  {
   "cell_type": "code",
   "execution_count": 2,
   "metadata": {},
   "outputs": [
    {
     "name": "stdout",
     "output_type": "stream",
     "text": [
      "['.ipynb_checkpoints', '.stfolder', '.stversions', '.vscode', 'attempt_1', 'attempt_2', 'power_gpio']\n"
     ]
    },
    {
     "data": {
      "text/plain": [
       "['C:\\\\Users\\\\Dragos\\\\MasThesis_output\\\\attempt_1',\n",
       " 'C:\\\\Users\\\\Dragos\\\\MasThesis_output\\\\attempt_2']"
      ]
     },
     "execution_count": 2,
     "metadata": {},
     "output_type": "execute_result"
    }
   ],
   "source": [
    "import os\n",
    "\n",
    "output_dirs = get_output_dirs()\n",
    "output_dirs"
   ]
  },
  {
   "cell_type": "code",
   "execution_count": 3,
   "metadata": {},
   "outputs": [
    {
     "name": "stdout",
     "output_type": "stream",
     "text": [
      "0: baseline_2887iter_1\n",
      "1: hash_120_eps_0.01_mod_10000_2887iter_1\n",
      "2: hash_120_eps_0.05_mod_10000_2887iter_1\n",
      "3: hash_120_eps_0.1_mod_10000_2887iter_1\n",
      "4: hash_120_eps_0.2_mod_10000_2887iter_1\n",
      "5: hash_120_eps_0.3_mod_10000_2887iter_1\n",
      "6: hash_120_eps_0.4_mod_10000_2887iter_1\n",
      "7: hash_120_eps_0.5_mod_10000_2887iter_1\n",
      "8: hash_120_eps_0.6_mod_10000_2887iter_1\n",
      "9: hash_120_eps_0.7_mod_10000_2887iter_1\n",
      "10: hash_120_eps_0.85_mod_10000_2887iter_1\n",
      "11: hash_120_eps_0.8_mod_10000_2887iter_1\n",
      "12: hash_120_eps_0.94_mod_10000_2887iter_1\n",
      "13: hash_120_eps_0.95_mod_10000_2887iter_1\n",
      "14: hash_120_eps_0.9_mod_10000_2887iter_1\n",
      "15: hash_120_eps_1.0_mod_10000_2887iter_1\n",
      "16: hash_120_eps_1.1_mod_10000_2887iter_1\n",
      "17: hash_120_eps_1.2_mod_10000_2887iter_1\n",
      "18: hash_120_eps_1.3_mod_10000_2887iter_1\n",
      "19: hash_120_eps_1.4_mod_10000_2887iter_1\n",
      "20: hash_120_eps_1.5_mod_10000_2887iter_1\n",
      "21: hash_120_eps_1.6_mod_10000_2887iter_1\n",
      "22: hash_120_eps_1.7_mod_10000_2887iter_1\n",
      "23: hash_120_eps_1.8_mod_10000_2887iter_1\n",
      "24: hash_120_eps_1.9_mod_10000_2887iter_1\n",
      "25: hash_120_eps_2.0_mod_10000_2887iter_1\n",
      "26: hash_120_eps_2.1_mod_10000_2887iter_1\n",
      "27: hash_120_eps_2.2_mod_10000_2887iter_1\n",
      "28: hash_120_eps_2.3_mod_10000_2887iter_1\n",
      "29: hash_120_eps_2.4_mod_10000_2887iter_1\n",
      "30: hash_120_eps_2.5_mod_10000_2887iter_1\n",
      "31: hash_120_eps_2.6_mod_10000_2887iter_1\n",
      "32: hash_120_eps_2.7_mod_10000_2887iter_1\n",
      "33: hash_120_eps_2.8_mod_10000_2887iter_1\n",
      "34: hash_120_eps_2.9_mod_10000_2887iter_1\n",
      "35: hash_120_eps_3.0_mod_10000_2887iter_1\n",
      "36: hash_120_eps_3.1_mod_10000_2887iter_1\n",
      "37: hash_120_eps_3.2_mod_10000_2887iter_1\n",
      "38: hash_120_eps_3.3_mod_10000_2887iter_1\n",
      "39: hash_120_eps_3.4_mod_10000_2887iter_1\n",
      "40: hash_120_eps_3.5_mod_10000_2887iter_1\n",
      "41: hash_120_eps_3.6_mod_10000_2887iter_1\n",
      "42: hash_120_eps_3.7_mod_10000_2887iter_1\n",
      "43: hash_120_eps_3.8_mod_10000_2887iter_1\n",
      "44: hash_120_eps_3.9_mod_10000_2887iter_1\n",
      "45: hash_120_eps_4.0_mod_10000_2887iter_1\n",
      "46: hash_120_eps_4.1_mod_10000_2887iter_1\n",
      "47: hash_120_eps_4.2_mod_10000_2887iter_1\n",
      "48: hash_120_eps_4.3_mod_10000_2887iter_1\n",
      "49: hash_120_eps_4.4_mod_10000_2887iter_1\n",
      "50: hash_120_eps_4.5_mod_10000_2887iter_1\n",
      "51: hash_120_eps_4.6_mod_10000_2887iter_1\n",
      "52: hash_120_eps_4.7_mod_10000_2887iter_1\n",
      "53: hash_120_eps_4.8_mod_10000_2887iter_1\n",
      "54: hash_120_eps_4.9_mod_10000_2887iter_1\n",
      "55: hash_120_eps_5.0_mod_10000_2887iter_1\n",
      "56: hash_120_eps_5.1_mod_10000_2887iter_1\n",
      "57: hash_120_eps_5.2_mod_10000_2887iter_1\n",
      "58: hash_120_eps_5.3_mod_10000_2887iter_1\n",
      "59: hash_120_eps_5.4_mod_10000_2887iter_1\n",
      "60: hash_120_eps_5.5_mod_10000_2887iter_1\n",
      "61: hash_120_eps_5.6_mod_10000_2887iter_1\n",
      "62: hash_120_eps_5.7_mod_10000_2887iter_1\n",
      "63: hash_120_eps_5.8_mod_10000_2887iter_1\n",
      "64: hash_120_eps_5.9_mod_10000_2887iter_1\n",
      "65: baseline_2887iter_2\n",
      "66: hash_120_eps_0.1_mod_10000_2887iter_2\n",
      "67: hash_120_eps_0.5_mod_10000_2887iter_2\n",
      "68: hash_120_eps_0.6_mod_10000_2887iter_2\n",
      "69: hash_120_eps_0.7_mod_10000_2887iter_2\n",
      "70: hash_120_eps_0.8_mod_10000_2887iter_2\n",
      "71: hash_120_eps_0.9_mod_10000_2887iter_2\n",
      "72: hash_120_eps_1.0_mod_10000_2887iter_2\n",
      "73: hash_120_eps_1.1_mod_10000_2887iter_2\n",
      "74: hash_120_eps_1.2_mod_10000_2887iter_2\n",
      "75: hash_120_eps_1.3_mod_10000_2887iter_2\n",
      "76: hash_120_eps_1.4_mod_10000_2887iter_2\n",
      "77: hash_120_eps_1.5_mod_10000_2887iter_2\n",
      "78: hash_120_eps_1.6_mod_10000_2887iter_2\n",
      "79: hash_120_eps_1.7_mod_10000_2887iter_2\n",
      "80: hash_120_eps_1.8_mod_10000_2887iter_2\n",
      "81: hash_120_eps_1.9_mod_10000_2887iter_2\n",
      "82: hash_120_eps_2.0_mod_10000_2887iter_2\n",
      "83: hash_120_eps_2.1_mod_10000_2887iter_2\n",
      "84: hash_120_eps_2.2_mod_10000_2887iter_2\n",
      "85: hash_120_eps_2.3_mod_10000_2887iter_2\n",
      "86: hash_120_eps_2.4_mod_10000_2887iter_2\n",
      "87: hash_120_eps_2.5_mod_10000_2887iter_2\n",
      "88: hash_120_eps_2.6_mod_10000_2887iter_2\n",
      "89: hash_120_eps_2.7_mod_10000_2887iter_2\n",
      "90: hash_120_eps_2.8_mod_10000_2887iter_2\n",
      "91: hash_120_eps_2.9_mod_10000_2887iter_2\n",
      "92: hash_120_eps_3.0_mod_10000_2887iter_2\n",
      "93: hash_120_eps_3.1_mod_10000_2887iter_2\n",
      "94: hash_120_eps_3.2_mod_10000_2887iter_2\n",
      "95: hash_120_eps_3.3_mod_10000_2887iter_2\n",
      "96: hash_120_eps_3.4_mod_10000_2887iter_2\n",
      "97: hash_120_eps_3.5_mod_10000_2887iter_2\n",
      "98: hash_120_eps_3.6_mod_10000_2887iter_2\n",
      "99: hash_120_eps_3.7_mod_10000_2887iter_2\n",
      "100: hash_120_eps_3.8_mod_10000_2887iter_2\n",
      "101: hash_120_eps_3.9_mod_10000_2887iter_2\n",
      "102: hash_120_eps_4.0_mod_10000_2887iter_2\n",
      "103: hash_120_eps_4.1_mod_10000_2887iter_2\n",
      "104: hash_120_eps_4.2_mod_10000_2887iter_2\n",
      "105: hash_120_eps_4.3_mod_10000_2887iter_2\n",
      "106: hash_120_eps_4.4_mod_10000_2887iter_2\n",
      "107: hash_120_eps_4.5_mod_10000_2887iter_2\n",
      "108: hash_120_eps_4.6_mod_10000_2887iter_2\n",
      "109: hash_120_eps_4.7_mod_10000_2887iter_2\n",
      "110: hash_120_eps_4.8_mod_10000_2887iter_2\n",
      "111: hash_120_eps_4.9_mod_10000_2887iter_2\n",
      "112: hash_120_eps_5.0_mod_10000_2887iter_2\n",
      "113: hash_120_eps_5.1_mod_10000_2887iter_2\n",
      "114: hash_120_eps_5.2_mod_10000_2887iter_2\n",
      "115: hash_120_eps_5.3_mod_10000_2887iter_2\n",
      "116: hash_120_eps_5.4_mod_10000_2887iter_2\n",
      "117: hash_120_eps_5.5_mod_10000_2887iter_2\n",
      "118: hash_120_eps_5.6_mod_10000_2887iter_2\n",
      "119: hash_120_eps_5.7_mod_10000_2887iter_2\n",
      "120: hash_120_eps_5.8_mod_10000_2887iter_2\n",
      "121: hash_120_eps_5.9_mod_10000_2887iter_2\n"
     ]
    }
   ],
   "source": [
    "include = [\"baseline\", \"hash\"]\n",
    "exclude = [\".stversions\", \".ipynb_checkpoints\", \".vscode\", \".stfolder\", \"broken\", \"20iter\", \"other\"]\n",
    "\n",
    "experiments = []\n",
    "baseline = None\n",
    "\n",
    "for d in output_dirs:\n",
    "    dirs = [x[0] for x in os.walk(d)]\n",
    "\n",
    "    # Remove output_dir_ itself\n",
    "    dirs = [x for x in dirs if (x != d)]\n",
    "    dirs = [x for x in dirs if not any(s in x for s in exclude)]\n",
    "    dirs = [x for x in dirs if any(s in x for s in include)]\n",
    "    folders = [x.split(d)[1].replace('\\\\', '') for x in dirs]\n",
    "\n",
    "    #print(folders)\n",
    "\n",
    "    experiments.extend([ExperimentResult(folder = x, output_dir=d) for x in folders[:]])\n",
    "\n",
    "for i in range(len(experiments)):\n",
    "    print(str(i) + \": \" + experiments[i].folder)\n",
    "\n",
    "baseline = experiments[0]"
   ]
  },
  {
   "cell_type": "markdown",
   "metadata": {},
   "source": [
    "**Calculate everything**"
   ]
  },
  {
   "cell_type": "code",
   "execution_count": 4,
   "metadata": {},
   "outputs": [
    {
     "name": "stdout",
     "output_type": "stream",
     "text": [
      "baseline_2887iter_1\n",
      "hash_120_eps_0.01_mod_10000_2887iter_1\n",
      "hash_120_eps_0.05_mod_10000_2887iter_1\n",
      "hash_120_eps_0.1_mod_10000_2887iter_1\n",
      "hash_120_eps_0.2_mod_10000_2887iter_1\n",
      "hash_120_eps_0.3_mod_10000_2887iter_1\n",
      "hash_120_eps_0.4_mod_10000_2887iter_1\n",
      "hash_120_eps_0.5_mod_10000_2887iter_1\n",
      "hash_120_eps_0.6_mod_10000_2887iter_1\n",
      "hash_120_eps_0.7_mod_10000_2887iter_1\n",
      "hash_120_eps_0.85_mod_10000_2887iter_1\n",
      "hash_120_eps_0.8_mod_10000_2887iter_1\n",
      "hash_120_eps_0.94_mod_10000_2887iter_1\n",
      "hash_120_eps_0.95_mod_10000_2887iter_1\n",
      "hash_120_eps_0.9_mod_10000_2887iter_1\n",
      "hash_120_eps_1.0_mod_10000_2887iter_1\n",
      "hash_120_eps_1.1_mod_10000_2887iter_1\n",
      "hash_120_eps_1.2_mod_10000_2887iter_1\n",
      "hash_120_eps_1.3_mod_10000_2887iter_1\n",
      "hash_120_eps_1.4_mod_10000_2887iter_1\n",
      "hash_120_eps_1.5_mod_10000_2887iter_1\n",
      "hash_120_eps_1.6_mod_10000_2887iter_1\n",
      "hash_120_eps_1.7_mod_10000_2887iter_1\n",
      "hash_120_eps_1.8_mod_10000_2887iter_1\n",
      "hash_120_eps_1.9_mod_10000_2887iter_1\n",
      "hash_120_eps_2.0_mod_10000_2887iter_1\n",
      "hash_120_eps_2.1_mod_10000_2887iter_1\n",
      "hash_120_eps_2.2_mod_10000_2887iter_1\n",
      "hash_120_eps_2.3_mod_10000_2887iter_1\n",
      "hash_120_eps_2.4_mod_10000_2887iter_1\n",
      "hash_120_eps_2.5_mod_10000_2887iter_1\n",
      "hash_120_eps_2.6_mod_10000_2887iter_1\n",
      "hash_120_eps_2.7_mod_10000_2887iter_1\n",
      "hash_120_eps_2.8_mod_10000_2887iter_1\n",
      "hash_120_eps_2.9_mod_10000_2887iter_1\n",
      "hash_120_eps_3.0_mod_10000_2887iter_1\n",
      "hash_120_eps_3.1_mod_10000_2887iter_1\n",
      "hash_120_eps_3.2_mod_10000_2887iter_1\n",
      "hash_120_eps_3.3_mod_10000_2887iter_1\n",
      "hash_120_eps_3.4_mod_10000_2887iter_1\n",
      "hash_120_eps_3.5_mod_10000_2887iter_1\n",
      "hash_120_eps_3.6_mod_10000_2887iter_1\n",
      "hash_120_eps_3.7_mod_10000_2887iter_1\n",
      "hash_120_eps_3.8_mod_10000_2887iter_1\n",
      "hash_120_eps_3.9_mod_10000_2887iter_1\n",
      "hash_120_eps_4.0_mod_10000_2887iter_1\n",
      "hash_120_eps_4.1_mod_10000_2887iter_1\n",
      "hash_120_eps_4.2_mod_10000_2887iter_1\n",
      "hash_120_eps_4.3_mod_10000_2887iter_1\n",
      "hash_120_eps_4.4_mod_10000_2887iter_1\n",
      "hash_120_eps_4.5_mod_10000_2887iter_1\n",
      "hash_120_eps_4.6_mod_10000_2887iter_1\n",
      "hash_120_eps_4.7_mod_10000_2887iter_1\n",
      "hash_120_eps_4.8_mod_10000_2887iter_1\n",
      "hash_120_eps_4.9_mod_10000_2887iter_1\n",
      "hash_120_eps_5.0_mod_10000_2887iter_1\n",
      "hash_120_eps_5.1_mod_10000_2887iter_1\n",
      "hash_120_eps_5.2_mod_10000_2887iter_1\n",
      "hash_120_eps_5.3_mod_10000_2887iter_1\n",
      "hash_120_eps_5.4_mod_10000_2887iter_1\n",
      "hash_120_eps_5.5_mod_10000_2887iter_1\n",
      "hash_120_eps_5.6_mod_10000_2887iter_1\n",
      "hash_120_eps_5.7_mod_10000_2887iter_1\n",
      "hash_120_eps_5.8_mod_10000_2887iter_1\n",
      "hash_120_eps_5.9_mod_10000_2887iter_1\n",
      "baseline_2887iter_2\n",
      "hash_120_eps_0.1_mod_10000_2887iter_2\n",
      "hash_120_eps_0.5_mod_10000_2887iter_2\n",
      "hash_120_eps_0.6_mod_10000_2887iter_2\n",
      "hash_120_eps_0.7_mod_10000_2887iter_2\n",
      "hash_120_eps_0.8_mod_10000_2887iter_2\n",
      "hash_120_eps_0.9_mod_10000_2887iter_2\n",
      "hash_120_eps_1.0_mod_10000_2887iter_2\n",
      "hash_120_eps_1.1_mod_10000_2887iter_2\n",
      "hash_120_eps_1.2_mod_10000_2887iter_2\n",
      "hash_120_eps_1.3_mod_10000_2887iter_2\n",
      "hash_120_eps_1.4_mod_10000_2887iter_2\n",
      "hash_120_eps_1.5_mod_10000_2887iter_2\n",
      "hash_120_eps_1.6_mod_10000_2887iter_2\n",
      "hash_120_eps_1.7_mod_10000_2887iter_2\n",
      "hash_120_eps_1.8_mod_10000_2887iter_2\n",
      "hash_120_eps_1.9_mod_10000_2887iter_2\n",
      "hash_120_eps_2.0_mod_10000_2887iter_2\n",
      "hash_120_eps_2.1_mod_10000_2887iter_2\n",
      "hash_120_eps_2.2_mod_10000_2887iter_2\n",
      "hash_120_eps_2.3_mod_10000_2887iter_2\n",
      "hash_120_eps_2.4_mod_10000_2887iter_2\n",
      "hash_120_eps_2.5_mod_10000_2887iter_2\n",
      "hash_120_eps_2.6_mod_10000_2887iter_2\n",
      "hash_120_eps_2.7_mod_10000_2887iter_2\n",
      "hash_120_eps_2.8_mod_10000_2887iter_2\n",
      "hash_120_eps_2.9_mod_10000_2887iter_2\n",
      "hash_120_eps_3.0_mod_10000_2887iter_2\n",
      "hash_120_eps_3.1_mod_10000_2887iter_2\n",
      "hash_120_eps_3.2_mod_10000_2887iter_2\n",
      "hash_120_eps_3.3_mod_10000_2887iter_2\n",
      "hash_120_eps_3.4_mod_10000_2887iter_2\n",
      "hash_120_eps_3.5_mod_10000_2887iter_2\n",
      "hash_120_eps_3.6_mod_10000_2887iter_2\n",
      "hash_120_eps_3.7_mod_10000_2887iter_2\n",
      "hash_120_eps_3.8_mod_10000_2887iter_2\n",
      "hash_120_eps_3.9_mod_10000_2887iter_2\n",
      "hash_120_eps_4.0_mod_10000_2887iter_2\n",
      "hash_120_eps_4.1_mod_10000_2887iter_2\n",
      "hash_120_eps_4.2_mod_10000_2887iter_2\n",
      "hash_120_eps_4.3_mod_10000_2887iter_2\n",
      "hash_120_eps_4.4_mod_10000_2887iter_2\n",
      "hash_120_eps_4.5_mod_10000_2887iter_2\n",
      "hash_120_eps_4.6_mod_10000_2887iter_2\n",
      "hash_120_eps_4.7_mod_10000_2887iter_2\n",
      "hash_120_eps_4.8_mod_10000_2887iter_2\n",
      "hash_120_eps_4.9_mod_10000_2887iter_2\n",
      "hash_120_eps_5.0_mod_10000_2887iter_2\n",
      "hash_120_eps_5.1_mod_10000_2887iter_2\n",
      "hash_120_eps_5.2_mod_10000_2887iter_2\n",
      "hash_120_eps_5.3_mod_10000_2887iter_2\n",
      "hash_120_eps_5.4_mod_10000_2887iter_2\n",
      "hash_120_eps_5.5_mod_10000_2887iter_2\n",
      "hash_120_eps_5.6_mod_10000_2887iter_2\n",
      "hash_120_eps_5.7_mod_10000_2887iter_2\n",
      "hash_120_eps_5.8_mod_10000_2887iter_2\n",
      "hash_120_eps_5.9_mod_10000_2887iter_2\n"
     ]
    }
   ],
   "source": [
    "for e in experiments[:]:\n",
    "    print(e.experiment_name)\n",
    "    e.calculate_deviation(reference=baseline)\n",
    "    e.calculate_averages(ignore_first_average = False)"
   ]
  },
  {
   "cell_type": "markdown",
   "metadata": {},
   "source": [
    "**Data in a table**"
   ]
  },
  {
   "cell_type": "code",
   "execution_count": 5,
   "metadata": {},
   "outputs": [],
   "source": [
    "rt = ResultsTable()\n",
    "\n",
    "for e in experiments[:]:\n",
    "    rt.add_to_table(e)"
   ]
  },
  {
   "cell_type": "markdown",
   "metadata": {},
   "source": [
    "**Export**"
   ]
  },
  {
   "cell_type": "code",
   "execution_count": 17,
   "metadata": {},
   "outputs": [],
   "source": [
    "rt.df.to_csv(\"experiment_results_table.csv\")"
   ]
  },
  {
   "cell_type": "markdown",
   "metadata": {},
   "source": [
    "For all of the below experiments: The hash size is 120. The mod precision is 10 000."
   ]
  },
  {
   "cell_type": "markdown",
   "metadata": {},
   "source": [
    "**Kalman iterations** = number of iterations that the Kalman algorithm has actually gone through after the experiments; this is reported by the Kalman results csv\n",
    "\n",
    "**Power averaged iterations** = number of iterations that were used for the calculation of charge and duration (the **mC/iter**, **sec/iter**, **Total mC**, **Total sec columns**); if it is 1 less than the actual number of iterations, it is because the first iteration has been ignored intentionally since the very first iteration only initializes Kalman and uses different power than the rest of the iterations (which are comparatively in a loop, while the first one is not); this is reported by the power average csv\n",
    " Note: the very first iteration can be included in the averaging as an option, and will do so in the future when re-running the averages script at some point\n",
    "\n",
    "**Deviation iterations** = number of iterations considered for deviation calculations; if this number is smaller in any way, it is wrong; it should be the same number as the baseline number of iterations written also in the table, which is used for reference when calculating deviation; this is reported by a minimum between the iterations of the actual experiment and the reference experiment, which should be the baseline"
   ]
  },
  {
   "cell_type": "markdown",
   "metadata": {},
   "source": [
    "**Memory sizes**"
   ]
  },
  {
   "cell_type": "markdown",
   "metadata": {},
   "source": [
    "Read https://mcuoneclipse.com/2013/04/14/text-data-and-bss-code-and-data-size-explained/ for text+data+bss explanation"
   ]
  },
  {
   "cell_type": "markdown",
   "metadata": {},
   "source": [
    "text = code + constant data that goes into FLASH only\n",
    "\n",
    "data = initialized data that goes into FLASH, then at startup gets copied to RAM (so counts for both)\n",
    "\n",
    "bss = uninitialized data that will be given values into RAM"
   ]
  },
  {
   "cell_type": "markdown",
   "metadata": {},
   "source": [
    "**Plots**"
   ]
  },
  {
   "cell_type": "markdown",
   "metadata": {},
   "source": [
    "Output plots"
   ]
  },
  {
   "cell_type": "code",
   "execution_count": null,
   "metadata": {},
   "outputs": [],
   "source": [
    "experiments[5].experiment_name"
   ]
  },
  {
   "cell_type": "code",
   "execution_count": null,
   "metadata": {},
   "outputs": [],
   "source": [
    "experiments[5].plot_output(reference=[baseline])"
   ]
  },
  {
   "cell_type": "markdown",
   "metadata": {},
   "source": [
    "Power plots"
   ]
  },
  {
   "cell_type": "code",
   "execution_count": null,
   "metadata": {},
   "outputs": [],
   "source": [
    "experiments[5].plot_power_curves(reference=baseline)"
   ]
  },
  {
   "cell_type": "markdown",
   "metadata": {},
   "source": [
    "**Data in text format**"
   ]
  },
  {
   "cell_type": "code",
   "execution_count": null,
   "metadata": {},
   "outputs": [],
   "source": [
    "print(\"Baseline\")\n",
    "print(\"---\")\n",
    "baseline.print_output_error(verbose=2)\n",
    "print(\"---\")\n",
    "baseline.show_averages(verbose=2)"
   ]
  },
  {
   "cell_type": "code",
   "execution_count": null,
   "metadata": {},
   "outputs": [],
   "source": [
    "print(\"Hash size: 120, Epsilon: 1, Mod precision: 10000\")\n",
    "print(\"---\")\n",
    "hash120_eps1.print_output_error(verbose=2)\n",
    "print(\"---\")\n",
    "hash120_eps1.show_averages(verbose=2)"
   ]
  },
  {
   "cell_type": "code",
   "execution_count": null,
   "metadata": {},
   "outputs": [],
   "source": [
    "print(\"Hash size: 120, Epsilon: 0.95, Mod precision: 10000\")\n",
    "print(\"---\")\n",
    "hash120_eps095.print_output_error(verbose=2)\n",
    "print(\"---\")\n",
    "hash120_eps095.show_averages(verbose=2)"
   ]
  },
  {
   "cell_type": "code",
   "execution_count": null,
   "metadata": {},
   "outputs": [],
   "source": [
    "print(\"Hash size: 120, Epsilon: 0.94, Mod precision: 10000\")\n",
    "print(\"---\")\n",
    "hash120_eps094.print_output_error(verbose=2)\n",
    "print(\"---\")\n",
    "hash120_eps094.show_averages(verbose=2)"
   ]
  }
 ],
 "metadata": {
  "kernelspec": {
   "display_name": "Python (py36_32)",
   "language": "python",
   "name": "py36_32"
  },
  "language_info": {
   "codemirror_mode": {
    "name": "ipython",
    "version": 3
   },
   "file_extension": ".py",
   "mimetype": "text/x-python",
   "name": "python",
   "nbconvert_exporter": "python",
   "pygments_lexer": "ipython3",
   "version": "3.6.5"
  }
 },
 "nbformat": 4,
 "nbformat_minor": 2
}
