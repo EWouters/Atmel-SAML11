{
 "cells": [
  {
   "cell_type": "code",
   "execution_count": 1,
   "metadata": {},
   "outputs": [],
   "source": [
    "%matplotlib qt\n",
    "from IPython.display import display, HTML\n",
    "from experiment.experiment_results import ExperimentResult, ResultsTable, get_output_dir"
   ]
  },
  {
   "cell_type": "code",
   "execution_count": 2,
   "metadata": {},
   "outputs": [
    {
     "name": "stdout",
     "output_type": "stream",
     "text": [
      "0: baseline_2887iter_1\n",
      "1: hash_120_eps_0.01_mod_10000_2887iter_1\n",
      "2: hash_120_eps_0.05_mod_10000_2887iter_1\n",
      "3: hash_120_eps_0.1_mod_10000_2887iter_1\n",
      "4: hash_120_eps_0.2_mod_10000_2887iter_1\n",
      "5: hash_120_eps_0.3_mod_10000_2887iter_1\n",
      "6: hash_120_eps_0.4_mod_10000_2887iter_1\n",
      "7: hash_120_eps_0.5_mod_10000_2887iter_1\n",
      "8: hash_120_eps_0.6_mod_10000_2887iter_1\n",
      "9: hash_120_eps_0.7_mod_10000_2887iter_1\n",
      "10: hash_120_eps_0.85_mod_10000_2887iter_1\n",
      "11: hash_120_eps_0.8_mod_10000_2887iter_1\n",
      "12: hash_120_eps_0.94_mod_10000_2887iter_1\n",
      "13: hash_120_eps_0.95_mod_10000_2887iter_1\n",
      "14: hash_120_eps_0.9_mod_10000_2887iter_1\n",
      "15: hash_120_eps_1.0_mod_10000_2887iter_1\n",
      "16: hash_120_eps_1.1_mod_10000_2887iter_1\n",
      "17: hash_120_eps_1.2_mod_10000_2887iter_1\n",
      "18: hash_120_eps_1.3_mod_10000_2887iter_1\n",
      "19: hash_120_eps_1.4_mod_10000_2887iter_1\n",
      "20: hash_120_eps_1.5_mod_10000_2887iter_1\n",
      "21: hash_120_eps_1.6_mod_10000_2887iter_1\n",
      "22: hash_120_eps_1.7_mod_10000_2887iter_1\n",
      "23: hash_120_eps_1.8_mod_10000_2887iter_1\n",
      "24: hash_120_eps_1.9_mod_10000_2887iter_1\n",
      "25: hash_120_eps_2.0_mod_10000_2887iter_1\n",
      "26: hash_120_eps_2.1_mod_10000_2887iter_1\n",
      "27: hash_120_eps_2.2_mod_10000_2887iter_1\n",
      "28: hash_120_eps_2.3_mod_10000_2887iter_1\n",
      "29: hash_120_eps_2.4_mod_10000_2887iter_1\n",
      "30: hash_120_eps_2.5_mod_10000_2887iter_1\n",
      "31: hash_120_eps_2.6_mod_10000_2887iter_1\n",
      "32: hash_120_eps_2.7_mod_10000_2887iter_1\n",
      "33: hash_120_eps_2.8_mod_10000_2887iter_1\n",
      "34: hash_120_eps_2.9_mod_10000_2887iter_1\n",
      "35: hash_120_eps_3.0_mod_10000_2887iter_1\n"
     ]
    }
   ],
   "source": [
    "import os\n",
    "\n",
    "output_dir_ = get_output_dir()\n",
    "\n",
    "include = [\"baseline\", \"hash\"]\n",
    "exclude = [\".stversions\", \".ipynb_checkpoints\", \".vscode\", \".stfolder\", \"broken\", \"20iter\", \"other\"]\n",
    "\n",
    "dirs = [x[0] for x in os.walk(output_dir_)]\n",
    "\n",
    "# Remove output_dir_ itself\n",
    "dirs = [x for x in dirs if (x != output_dir_)]\n",
    "dirs = [x for x in dirs if not any(s in x for s in exclude)]\n",
    "dirs = [x for x in dirs if any(s in x for s in include)]\n",
    "folders = [x.split(output_dir_)[1].replace('\\\\', '') for x in dirs]\n",
    "\n",
    "#print(folders)\n",
    "\n",
    "experiments = [ExperimentResult(folder = x, output_dir=output_dir_) for x in folders]\n",
    "\n",
    "for i in range(len(experiments)):\n",
    "    print(str(i) + \": \" + experiments[i].folder)\n",
    "\n",
    "baseline = experiments[0]\n"
   ]
  },
  {
   "cell_type": "markdown",
   "metadata": {},
   "source": [
    "**Calculate everything**"
   ]
  },
  {
   "cell_type": "code",
   "execution_count": 3,
   "metadata": {},
   "outputs": [],
   "source": [
    "for e in experiments:\n",
    "    e.calculate_deviation(reference=baseline)\n",
    "    e.calculate_averages()"
   ]
  },
  {
   "cell_type": "markdown",
   "metadata": {},
   "source": [
    "**Testing Sizes**"
   ]
  },
  {
   "cell_type": "code",
   "execution_count": 4,
   "metadata": {},
   "outputs": [
    {
     "data": {
      "text/plain": [
       "'hash_120_eps_0.01_mod_10000_2887iter_1'"
      ]
     },
     "execution_count": 4,
     "metadata": {},
     "output_type": "execute_result"
    }
   ],
   "source": [
    "experiments[1].experiment_name"
   ]
  },
  {
   "cell_type": "code",
   "execution_count": 5,
   "metadata": {},
   "outputs": [
    {
     "data": {
      "text/plain": [
       "{'text': 49664.0,\n",
       " 'data': 128,\n",
       " 'bss': 15624,\n",
       " 'dec': 65416,\n",
       " 'hex': 65416,\n",
       " 'filename': 'STDIO_Redirect_w_TrustZone.elf'}"
      ]
     },
     "execution_count": 5,
     "metadata": {},
     "output_type": "execute_result"
    }
   ],
   "source": [
    "experiments[1].get_size_stats()"
   ]
  },
  {
   "cell_type": "code",
   "execution_count": null,
   "metadata": {},
   "outputs": [],
   "source": []
  },
  {
   "cell_type": "code",
   "execution_count": null,
   "metadata": {},
   "outputs": [],
   "source": []
  },
  {
   "cell_type": "markdown",
   "metadata": {},
   "source": [
    "**Testing Deviation**"
   ]
  },
  {
   "cell_type": "code",
   "execution_count": 46,
   "metadata": {},
   "outputs": [
    {
     "data": {
      "text/html": [
       "<div>\n",
       "<style scoped>\n",
       "    .dataframe tbody tr th:only-of-type {\n",
       "        vertical-align: middle;\n",
       "    }\n",
       "\n",
       "    .dataframe tbody tr th {\n",
       "        vertical-align: top;\n",
       "    }\n",
       "\n",
       "    .dataframe thead th {\n",
       "        text-align: right;\n",
       "    }\n",
       "</style>\n",
       "<table border=\"1\" class=\"dataframe\">\n",
       "  <thead>\n",
       "    <tr style=\"text-align: right;\">\n",
       "      <th></th>\n",
       "      <th>Iteration (mine)</th>\n",
       "      <th>Roll (mine)</th>\n",
       "      <th>Pitch (mine)</th>\n",
       "      <th>Gyro X Angle (mine)</th>\n",
       "      <th>Gyro Y Angle (mine)</th>\n",
       "      <th>Comp Angle X (mine)</th>\n",
       "      <th>Comp Angle Y (mine)</th>\n",
       "      <th>Kalman Angle X (mine)</th>\n",
       "      <th>Kalman Angle Y (mine)</th>\n",
       "    </tr>\n",
       "  </thead>\n",
       "  <tbody>\n",
       "    <tr>\n",
       "      <th>0</th>\n",
       "      <td>1</td>\n",
       "      <td>86.358280</td>\n",
       "      <td>-11.166888</td>\n",
       "      <td>86.35828</td>\n",
       "      <td>-11.166888</td>\n",
       "      <td>86.358280</td>\n",
       "      <td>-11.166888</td>\n",
       "      <td>0.000000</td>\n",
       "      <td>0.000000</td>\n",
       "    </tr>\n",
       "    <tr>\n",
       "      <th>1</th>\n",
       "      <td>2</td>\n",
       "      <td>91.010182</td>\n",
       "      <td>-17.838128</td>\n",
       "      <td>86.37368</td>\n",
       "      <td>-11.168583</td>\n",
       "      <td>86.698235</td>\n",
       "      <td>-11.635451</td>\n",
       "      <td>86.523245</td>\n",
       "      <td>-11.383730</td>\n",
       "    </tr>\n",
       "    <tr>\n",
       "      <th>2</th>\n",
       "      <td>3</td>\n",
       "      <td>91.010182</td>\n",
       "      <td>-17.838128</td>\n",
       "      <td>86.37368</td>\n",
       "      <td>-11.168583</td>\n",
       "      <td>86.698235</td>\n",
       "      <td>-11.635451</td>\n",
       "      <td>86.523245</td>\n",
       "      <td>-11.383730</td>\n",
       "    </tr>\n",
       "    <tr>\n",
       "      <th>3</th>\n",
       "      <td>4</td>\n",
       "      <td>89.650424</td>\n",
       "      <td>-22.759001</td>\n",
       "      <td>86.39439</td>\n",
       "      <td>-11.161178</td>\n",
       "      <td>86.924148</td>\n",
       "      <td>-12.407213</td>\n",
       "      <td>86.985279</td>\n",
       "      <td>-12.993421</td>\n",
       "    </tr>\n",
       "    <tr>\n",
       "      <th>4</th>\n",
       "      <td>5</td>\n",
       "      <td>89.650424</td>\n",
       "      <td>-22.759001</td>\n",
       "      <td>86.39439</td>\n",
       "      <td>-11.161178</td>\n",
       "      <td>86.924148</td>\n",
       "      <td>-12.407213</td>\n",
       "      <td>86.985279</td>\n",
       "      <td>-12.993421</td>\n",
       "    </tr>\n",
       "  </tbody>\n",
       "</table>\n",
       "</div>"
      ],
      "text/plain": [
       "   Iteration (mine)  Roll (mine)  Pitch (mine)  Gyro X Angle (mine)  \\\n",
       "0                 1    86.358280    -11.166888             86.35828   \n",
       "1                 2    91.010182    -17.838128             86.37368   \n",
       "2                 3    91.010182    -17.838128             86.37368   \n",
       "3                 4    89.650424    -22.759001             86.39439   \n",
       "4                 5    89.650424    -22.759001             86.39439   \n",
       "\n",
       "   Gyro Y Angle (mine)  Comp Angle X (mine)  Comp Angle Y (mine)  \\\n",
       "0           -11.166888            86.358280           -11.166888   \n",
       "1           -11.168583            86.698235           -11.635451   \n",
       "2           -11.168583            86.698235           -11.635451   \n",
       "3           -11.161178            86.924148           -12.407213   \n",
       "4           -11.161178            86.924148           -12.407213   \n",
       "\n",
       "   Kalman Angle X (mine)  Kalman Angle Y (mine)  \n",
       "0               0.000000               0.000000  \n",
       "1              86.523245             -11.383730  \n",
       "2              86.523245             -11.383730  \n",
       "3              86.985279             -12.993421  \n",
       "4              86.985279             -12.993421  "
      ]
     },
     "metadata": {},
     "output_type": "display_data"
    }
   ],
   "source": [
    "display(experiments[12].deviation_df_mine[0:5])"
   ]
  },
  {
   "cell_type": "code",
   "execution_count": 47,
   "metadata": {},
   "outputs": [
    {
     "data": {
      "text/html": [
       "<div>\n",
       "<style scoped>\n",
       "    .dataframe tbody tr th:only-of-type {\n",
       "        vertical-align: middle;\n",
       "    }\n",
       "\n",
       "    .dataframe tbody tr th {\n",
       "        vertical-align: top;\n",
       "    }\n",
       "\n",
       "    .dataframe thead th {\n",
       "        text-align: right;\n",
       "    }\n",
       "</style>\n",
       "<table border=\"1\" class=\"dataframe\">\n",
       "  <thead>\n",
       "    <tr style=\"text-align: right;\">\n",
       "      <th></th>\n",
       "      <th>Iteration (theirs)</th>\n",
       "      <th>Roll (theirs)</th>\n",
       "      <th>Pitch (theirs)</th>\n",
       "      <th>Gyro X Angle (theirs)</th>\n",
       "      <th>Gyro Y Angle (theirs)</th>\n",
       "      <th>Comp Angle X (theirs)</th>\n",
       "      <th>Comp Angle Y (theirs)</th>\n",
       "      <th>Kalman Angle X (theirs)</th>\n",
       "      <th>Kalman Angle Y (theirs)</th>\n",
       "    </tr>\n",
       "  </thead>\n",
       "  <tbody>\n",
       "    <tr>\n",
       "      <th>0</th>\n",
       "      <td>1</td>\n",
       "      <td>86.358280</td>\n",
       "      <td>-11.166888</td>\n",
       "      <td>86.358280</td>\n",
       "      <td>-11.166888</td>\n",
       "      <td>86.358280</td>\n",
       "      <td>-11.166888</td>\n",
       "      <td>0.000000</td>\n",
       "      <td>0.000000</td>\n",
       "    </tr>\n",
       "    <tr>\n",
       "      <th>1</th>\n",
       "      <td>2</td>\n",
       "      <td>91.010182</td>\n",
       "      <td>-17.838128</td>\n",
       "      <td>86.373680</td>\n",
       "      <td>-11.168583</td>\n",
       "      <td>86.698235</td>\n",
       "      <td>-11.635451</td>\n",
       "      <td>86.523245</td>\n",
       "      <td>-11.383730</td>\n",
       "    </tr>\n",
       "    <tr>\n",
       "      <th>2</th>\n",
       "      <td>3</td>\n",
       "      <td>87.472496</td>\n",
       "      <td>-19.300771</td>\n",
       "      <td>86.392025</td>\n",
       "      <td>-11.166177</td>\n",
       "      <td>86.769495</td>\n",
       "      <td>-12.169786</td>\n",
       "      <td>86.673840</td>\n",
       "      <td>-12.506411</td>\n",
       "    </tr>\n",
       "    <tr>\n",
       "      <th>3</th>\n",
       "      <td>4</td>\n",
       "      <td>89.650424</td>\n",
       "      <td>-22.759001</td>\n",
       "      <td>86.412735</td>\n",
       "      <td>-11.158772</td>\n",
       "      <td>86.990420</td>\n",
       "      <td>-12.904145</td>\n",
       "      <td>87.784878</td>\n",
       "      <td>-16.544494</td>\n",
       "    </tr>\n",
       "    <tr>\n",
       "      <th>4</th>\n",
       "      <td>5</td>\n",
       "      <td>94.380136</td>\n",
       "      <td>-23.330180</td>\n",
       "      <td>86.435931</td>\n",
       "      <td>-11.172631</td>\n",
       "      <td>87.529272</td>\n",
       "      <td>-13.646856</td>\n",
       "      <td>91.456452</td>\n",
       "      <td>-21.199734</td>\n",
       "    </tr>\n",
       "  </tbody>\n",
       "</table>\n",
       "</div>"
      ],
      "text/plain": [
       "   Iteration (theirs)  Roll (theirs)  Pitch (theirs)  Gyro X Angle (theirs)  \\\n",
       "0                   1      86.358280      -11.166888              86.358280   \n",
       "1                   2      91.010182      -17.838128              86.373680   \n",
       "2                   3      87.472496      -19.300771              86.392025   \n",
       "3                   4      89.650424      -22.759001              86.412735   \n",
       "4                   5      94.380136      -23.330180              86.435931   \n",
       "\n",
       "   Gyro Y Angle (theirs)  Comp Angle X (theirs)  Comp Angle Y (theirs)  \\\n",
       "0             -11.166888              86.358280             -11.166888   \n",
       "1             -11.168583              86.698235             -11.635451   \n",
       "2             -11.166177              86.769495             -12.169786   \n",
       "3             -11.158772              86.990420             -12.904145   \n",
       "4             -11.172631              87.529272             -13.646856   \n",
       "\n",
       "   Kalman Angle X (theirs)  Kalman Angle Y (theirs)  \n",
       "0                 0.000000                 0.000000  \n",
       "1                86.523245               -11.383730  \n",
       "2                86.673840               -12.506411  \n",
       "3                87.784878               -16.544494  \n",
       "4                91.456452               -21.199734  "
      ]
     },
     "metadata": {},
     "output_type": "display_data"
    }
   ],
   "source": [
    "display(experiments[12].deviation_df_theirs[0:5])"
   ]
  },
  {
   "cell_type": "code",
   "execution_count": 48,
   "metadata": {},
   "outputs": [
    {
     "data": {
      "text/html": [
       "<div>\n",
       "<style scoped>\n",
       "    .dataframe tbody tr th:only-of-type {\n",
       "        vertical-align: middle;\n",
       "    }\n",
       "\n",
       "    .dataframe tbody tr th {\n",
       "        vertical-align: top;\n",
       "    }\n",
       "\n",
       "    .dataframe thead th {\n",
       "        text-align: right;\n",
       "    }\n",
       "</style>\n",
       "<table border=\"1\" class=\"dataframe\">\n",
       "  <thead>\n",
       "    <tr style=\"text-align: right;\">\n",
       "      <th></th>\n",
       "      <th>Iteration (deviation)</th>\n",
       "      <th>Roll (deviation)</th>\n",
       "      <th>Pitch (deviation)</th>\n",
       "      <th>Gyro X Angle (deviation)</th>\n",
       "      <th>Gyro Y Angle (deviation)</th>\n",
       "      <th>Comp Angle X (deviation)</th>\n",
       "      <th>Comp Angle Y (deviation)</th>\n",
       "      <th>Kalman Angle X (deviation)</th>\n",
       "      <th>Kalman Angle Y (deviation)</th>\n",
       "    </tr>\n",
       "  </thead>\n",
       "  <tbody>\n",
       "    <tr>\n",
       "      <th>0</th>\n",
       "      <td>0.0</td>\n",
       "      <td>0.000000</td>\n",
       "      <td>0.000000</td>\n",
       "      <td>0.000000</td>\n",
       "      <td>0.000000</td>\n",
       "      <td>0.000000</td>\n",
       "      <td>0.000000</td>\n",
       "      <td>0.000000</td>\n",
       "      <td>0.000000</td>\n",
       "    </tr>\n",
       "    <tr>\n",
       "      <th>1</th>\n",
       "      <td>0.0</td>\n",
       "      <td>0.000000</td>\n",
       "      <td>0.000000</td>\n",
       "      <td>0.000000</td>\n",
       "      <td>0.000000</td>\n",
       "      <td>0.000000</td>\n",
       "      <td>0.000000</td>\n",
       "      <td>0.000000</td>\n",
       "      <td>0.000000</td>\n",
       "    </tr>\n",
       "    <tr>\n",
       "      <th>2</th>\n",
       "      <td>0.0</td>\n",
       "      <td>0.040443</td>\n",
       "      <td>0.075782</td>\n",
       "      <td>0.000212</td>\n",
       "      <td>0.000215</td>\n",
       "      <td>0.000821</td>\n",
       "      <td>0.043907</td>\n",
       "      <td>0.001737</td>\n",
       "      <td>0.089768</td>\n",
       "    </tr>\n",
       "    <tr>\n",
       "      <th>3</th>\n",
       "      <td>0.0</td>\n",
       "      <td>0.000000</td>\n",
       "      <td>0.000000</td>\n",
       "      <td>0.000212</td>\n",
       "      <td>0.000216</td>\n",
       "      <td>0.000762</td>\n",
       "      <td>0.038509</td>\n",
       "      <td>0.009109</td>\n",
       "      <td>0.214638</td>\n",
       "    </tr>\n",
       "    <tr>\n",
       "      <th>4</th>\n",
       "      <td>0.0</td>\n",
       "      <td>0.050113</td>\n",
       "      <td>0.024482</td>\n",
       "      <td>0.000481</td>\n",
       "      <td>0.001025</td>\n",
       "      <td>0.006913</td>\n",
       "      <td>0.090837</td>\n",
       "      <td>0.048889</td>\n",
       "      <td>0.387095</td>\n",
       "    </tr>\n",
       "  </tbody>\n",
       "</table>\n",
       "</div>"
      ],
      "text/plain": [
       "   Iteration (deviation)  Roll (deviation)  Pitch (deviation)  \\\n",
       "0                    0.0          0.000000           0.000000   \n",
       "1                    0.0          0.000000           0.000000   \n",
       "2                    0.0          0.040443           0.075782   \n",
       "3                    0.0          0.000000           0.000000   \n",
       "4                    0.0          0.050113           0.024482   \n",
       "\n",
       "   Gyro X Angle (deviation)  Gyro Y Angle (deviation)  \\\n",
       "0                  0.000000                  0.000000   \n",
       "1                  0.000000                  0.000000   \n",
       "2                  0.000212                  0.000215   \n",
       "3                  0.000212                  0.000216   \n",
       "4                  0.000481                  0.001025   \n",
       "\n",
       "   Comp Angle X (deviation)  Comp Angle Y (deviation)  \\\n",
       "0                  0.000000                  0.000000   \n",
       "1                  0.000000                  0.000000   \n",
       "2                  0.000821                  0.043907   \n",
       "3                  0.000762                  0.038509   \n",
       "4                  0.006913                  0.090837   \n",
       "\n",
       "   Kalman Angle X (deviation)  Kalman Angle Y (deviation)  \n",
       "0                    0.000000                    0.000000  \n",
       "1                    0.000000                    0.000000  \n",
       "2                    0.001737                    0.089768  \n",
       "3                    0.009109                    0.214638  \n",
       "4                    0.048889                    0.387095  "
      ]
     },
     "metadata": {},
     "output_type": "display_data"
    }
   ],
   "source": [
    "display(experiments[12].deviation_df[0:5])"
   ]
  },
  {
   "cell_type": "code",
   "execution_count": 75,
   "metadata": {},
   "outputs": [
    {
     "data": {
      "text/plain": [
       "Iteration (deviation)         0.000000\n",
       "Roll (deviation)              0.000012\n",
       "Pitch (deviation)             0.000208\n",
       "Gyro X Angle (deviation)      0.000026\n",
       "Gyro Y Angle (deviation)      0.000096\n",
       "Comp Angle X (deviation)      0.000036\n",
       "Comp Angle Y (deviation)      0.000098\n",
       "Kalman Angle X (deviation)    0.000012\n",
       "Kalman Angle Y (deviation)    0.000209\n",
       "dtype: float64"
      ]
     },
     "execution_count": 75,
     "metadata": {},
     "output_type": "execute_result"
    }
   ],
   "source": [
    "experiments[3].deviation_df.mean(skipna=False)"
   ]
  },
  {
   "cell_type": "code",
   "execution_count": 50,
   "metadata": {},
   "outputs": [],
   "source": [
    "experiments[12].deviation_df_average.at[0,'Iteration (deviation average)'] = experiments[12].deviation_df['Pitch (deviation)'].mean(skipna=False)"
   ]
  },
  {
   "cell_type": "code",
   "execution_count": 51,
   "metadata": {},
   "outputs": [
    {
     "data": {
      "text/html": [
       "<div>\n",
       "<style scoped>\n",
       "    .dataframe tbody tr th:only-of-type {\n",
       "        vertical-align: middle;\n",
       "    }\n",
       "\n",
       "    .dataframe tbody tr th {\n",
       "        vertical-align: top;\n",
       "    }\n",
       "\n",
       "    .dataframe thead th {\n",
       "        text-align: right;\n",
       "    }\n",
       "</style>\n",
       "<table border=\"1\" class=\"dataframe\">\n",
       "  <thead>\n",
       "    <tr style=\"text-align: right;\">\n",
       "      <th></th>\n",
       "      <th>Iteration (deviation average)</th>\n",
       "      <th>Roll (deviation average)</th>\n",
       "      <th>Pitch (deviation average)</th>\n",
       "      <th>Gyro X Angle (deviation average)</th>\n",
       "      <th>Gyro Y Angle (deviation average)</th>\n",
       "      <th>Comp Angle X (deviation average)</th>\n",
       "      <th>Comp Angle Y (deviation average)</th>\n",
       "      <th>Kalman Angle X (deviation average)</th>\n",
       "      <th>Kalman Angle Y (deviation average)</th>\n",
       "    </tr>\n",
       "  </thead>\n",
       "  <tbody>\n",
       "    <tr>\n",
       "      <th>0</th>\n",
       "      <td>0.993293</td>\n",
       "      <td>0.063657</td>\n",
       "      <td>0.993293</td>\n",
       "      <td>0.002451</td>\n",
       "      <td>0.114922</td>\n",
       "      <td>0.048478</td>\n",
       "      <td>2.614949</td>\n",
       "      <td>0.064612</td>\n",
       "      <td>1.013458</td>\n",
       "    </tr>\n",
       "  </tbody>\n",
       "</table>\n",
       "</div>"
      ],
      "text/plain": [
       "   Iteration (deviation average)  Roll (deviation average)  \\\n",
       "0                       0.993293                  0.063657   \n",
       "\n",
       "   Pitch (deviation average)  Gyro X Angle (deviation average)  \\\n",
       "0                   0.993293                          0.002451   \n",
       "\n",
       "   Gyro Y Angle (deviation average)  Comp Angle X (deviation average)  \\\n",
       "0                          0.114922                          0.048478   \n",
       "\n",
       "   Comp Angle Y (deviation average)  Kalman Angle X (deviation average)  \\\n",
       "0                          2.614949                            0.064612   \n",
       "\n",
       "   Kalman Angle Y (deviation average)  \n",
       "0                            1.013458  "
      ]
     },
     "metadata": {},
     "output_type": "display_data"
    }
   ],
   "source": [
    "display(experiments[12].deviation_df_average)"
   ]
  },
  {
   "cell_type": "code",
   "execution_count": 40,
   "metadata": {},
   "outputs": [
    {
     "data": {
      "text/plain": [
       "0    0.656568\n",
       "dtype: float64"
      ]
     },
     "execution_count": 40,
     "metadata": {},
     "output_type": "execute_result"
    }
   ],
   "source": [
    "experiments[12].deviation_df_average.mean(axis=1)"
   ]
  }
 ],
 "metadata": {
  "kernelspec": {
   "display_name": "Python (py36_32)",
   "language": "python",
   "name": "py36_32"
  },
  "language_info": {
   "codemirror_mode": {
    "name": "ipython",
    "version": 3
   },
   "file_extension": ".py",
   "mimetype": "text/x-python",
   "name": "python",
   "nbconvert_exporter": "python",
   "pygments_lexer": "ipython3",
   "version": "3.6.5"
  }
 },
 "nbformat": 4,
 "nbformat_minor": 2
}
