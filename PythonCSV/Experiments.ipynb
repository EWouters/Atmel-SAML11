{
 "cells": [
  {
   "cell_type": "code",
   "execution_count": 2,
   "metadata": {},
   "outputs": [],
   "source": [
    "%matplotlib qt"
   ]
  },
  {
   "cell_type": "code",
   "execution_count": 2,
   "metadata": {},
   "outputs": [],
   "source": [
    "from experiment.loop import loop"
   ]
  },
  {
   "cell_type": "markdown",
   "metadata": {},
   "source": [
    "**100 iterations batch**"
   ]
  },
  {
   "cell_type": "code",
   "execution_count": 7,
   "metadata": {},
   "outputs": [
    {
     "name": "stdout",
     "output_type": "stream",
     "text": [
      "Reading line 101/101\n",
      "\n",
      "Written Kalman output to 'C:\\Users\\Dragos\\Dropbox\\RISE\\Git\\PythonCSV\\output\\baseline_1_100iter\\baseline_1_100iter_output.csv'\n",
      "Wrote gpio data to C:\\Users\\Dragos\\Dropbox\\RISE\\Git\\PythonCSV\\output\\baseline_1_100iter\\baseline_1_100iter_gpio.csv'\n",
      "Wrote power data to C:\\Users\\Dragos\\Dropbox\\RISE\\Git\\PythonCSV\\output\\baseline_1_100iter\\baseline_1_100iter_power.csv'\n",
      "Wrote averages to: C:\\Users\\Dragos\\Dropbox\\RISE\\Git\\PythonCSV\\output\\baseline_1_100iter\\baseline_1_100iter_averages_hold.csv\n",
      "Wrote averages to: C:\\Users\\Dragos\\Dropbox\\RISE\\Git\\PythonCSV\\output\\baseline_1_100iter\\baseline_1_100iter_averages_pulse.csv\n"
     ]
    }
   ],
   "source": [
    "loop(\"baseline\", 100, attempt=1, output_dir=\"output\")"
   ]
  },
  {
   "cell_type": "code",
   "execution_count": 8,
   "metadata": {},
   "outputs": [
    {
     "name": "stdout",
     "output_type": "stream",
     "text": [
      "Mod precision: 100000\n",
      "Epsilon: 0.500000\n",
      "Hash size: 8\n",
      "\n",
      "HashTable population: 8 / 8\n",
      "No. of times found: 5\n",
      "No. of times stored: 94\n",
      "Copied 'C:\\Users\\Dragos\\Dropbox\\RISE\\Git\\KalmanC++\\debug.txt' to 'C:\\Users\\Dragos\\Dropbox\\RISE\\Git\\PythonCSV\\output\\hash_8_1_100iter\\hash_8_1_100iter_table_stats.txt'\n",
      "Reading line 1/101\n",
      "Hash is 8\n",
      "\n",
      "Reading line 101/101\n",
      "\n",
      "Written Kalman output to 'C:\\Users\\Dragos\\Dropbox\\RISE\\Git\\PythonCSV\\output\\hash_8_1_100iter\\hash_8_1_100iter_output.csv'\n",
      "Wrote gpio data to C:\\Users\\Dragos\\Dropbox\\RISE\\Git\\PythonCSV\\output\\hash_8_1_100iter\\hash_8_1_100iter_gpio.csv'\n",
      "Wrote power data to C:\\Users\\Dragos\\Dropbox\\RISE\\Git\\PythonCSV\\output\\hash_8_1_100iter\\hash_8_1_100iter_power.csv'\n",
      "Wrote averages to: C:\\Users\\Dragos\\Dropbox\\RISE\\Git\\PythonCSV\\output\\hash_8_1_100iter\\hash_8_1_100iter_averages_hold.csv\n",
      "Wrote averages to: C:\\Users\\Dragos\\Dropbox\\RISE\\Git\\PythonCSV\\output\\hash_8_1_100iter\\hash_8_1_100iter_averages_pulse.csv\n"
     ]
    }
   ],
   "source": [
    "loop(\"hash\", 100, hash_size=8, mod_precision=100000, attempt=1, output_dir=\"output\")"
   ]
  },
  {
   "cell_type": "code",
   "execution_count": 3,
   "metadata": {},
   "outputs": [
    {
     "name": "stdout",
     "output_type": "stream",
     "text": [
      "Copied 'C:\\Users\\Dragos\\Dropbox\\RISE\\Git\\KalmanC++\\debug.txt' to 'C:\\Users\\Dragos\\Dropbox\\RISE\\Git\\PythonCSV\\output\\hash_32_1_100iter\\hash_32_1_100iter_table_stats.txt'\n",
      "Reading line 1/101\n",
      "Hash is 32\n",
      "\n",
      "Reading line 101/101\n",
      "\n",
      "Written Kalman output to 'C:\\Users\\Dragos\\Dropbox\\RISE\\Git\\PythonCSV\\output\\hash_32_1_100iter\\hash_32_1_100iter_output.csv'\n",
      "Wrote gpio data to C:\\Users\\Dragos\\Dropbox\\RISE\\Git\\PythonCSV\\output\\hash_32_1_100iter\\hash_32_1_100iter_gpio.csv'\n",
      "Wrote power data to C:\\Users\\Dragos\\Dropbox\\RISE\\Git\\PythonCSV\\output\\hash_32_1_100iter\\hash_32_1_100iter_power.csv'\n",
      "Wrote averages to: C:\\Users\\Dragos\\Dropbox\\RISE\\Git\\PythonCSV\\output\\hash_32_1_100iter\\hash_32_1_100iter_averages_hold.csv\n"
     ]
    },
    {
     "name": "stderr",
     "output_type": "stream",
     "text": [
      "c:\\users\\dragos\\dropbox\\rise\\git\\python\\pydgilib\\pydgilib_extra\\dgilib_calculations.py:205: UserWarning: Corrected a start_index of 0 in power_and_time_per_pulse.\n",
      "  \"power_and_time_per_pulse.\")\n"
     ]
    },
    {
     "name": "stdout",
     "output_type": "stream",
     "text": [
      "Wrote averages to: C:\\Users\\Dragos\\Dropbox\\RISE\\Git\\PythonCSV\\output\\hash_32_1_100iter\\hash_32_1_100iter_averages_pulse.csv\n"
     ]
    }
   ],
   "source": [
    "loop(\"hash\", 100, hash_size=32, mod_precision=100000, attempt=1, output_dir=\"output\")"
   ]
  },
  {
   "cell_type": "code",
   "execution_count": 4,
   "metadata": {},
   "outputs": [
    {
     "name": "stdout",
     "output_type": "stream",
     "text": [
      "Copied 'C:\\Users\\Dragos\\Dropbox\\RISE\\Git\\KalmanC++\\debug.txt' to 'C:\\Users\\Dragos\\Dropbox\\RISE\\Git\\PythonCSV\\output\\hash_64_mod_100000_1_100iter\\hash_64_mod_100000_1_100iter_table_stats.txt'\n",
      "Reading line 1/101\n",
      "Hash is 64\n",
      "\n",
      "Reading line 101/101\n",
      "\n",
      "Written Kalman output to 'C:\\Users\\Dragos\\Dropbox\\RISE\\Git\\PythonCSV\\output\\hash_64_mod_100000_1_100iter\\hash_64_mod_100000_1_100iter_output.csv'\n",
      "Wrote gpio data to C:\\Users\\Dragos\\Dropbox\\RISE\\Git\\PythonCSV\\output\\hash_64_mod_100000_1_100iter\\hash_64_mod_100000_1_100iter_gpio.csv'\n",
      "Wrote power data to C:\\Users\\Dragos\\Dropbox\\RISE\\Git\\PythonCSV\\output\\hash_64_mod_100000_1_100iter\\hash_64_mod_100000_1_100iter_power.csv'\n",
      "Wrote averages to: C:\\Users\\Dragos\\Dropbox\\RISE\\Git\\PythonCSV\\output\\hash_64_mod_100000_1_100iter\\hash_64_mod_100000_1_100iter_averages_hold.csv\n",
      "Wrote averages to: C:\\Users\\Dragos\\Dropbox\\RISE\\Git\\PythonCSV\\output\\hash_64_mod_100000_1_100iter\\hash_64_mod_100000_1_100iter_averages_pulse.csv\n"
     ]
    }
   ],
   "source": [
    "loop(\"hash\", 100, hash_size=64, mod_precision=100000, attempt=1, output_dir=\"output\")"
   ]
  },
  {
   "cell_type": "code",
   "execution_count": 3,
   "metadata": {},
   "outputs": [
    {
     "name": "stdout",
     "output_type": "stream",
     "text": [
      "Copied 'C:\\Users\\Dragos\\Dropbox\\RISE\\Git\\KalmanC++\\debug.txt' to 'C:\\Users\\Dragos\\Dropbox\\RISE\\Git\\PythonCSV\\output\\hash_100_mod_100000_1_100iter\\hash_100_mod_100000_1_100iter_table_stats.txt'\n",
      "Reading line 1/101\n",
      "Hash is 100\n",
      "\n",
      "Reading line 101/101\n",
      "\n",
      "Written Kalman output to 'C:\\Users\\Dragos\\Dropbox\\RISE\\Git\\PythonCSV\\output\\hash_100_mod_100000_1_100iter\\hash_100_mod_100000_1_100iter_output.csv'\n",
      "Wrote gpio data to C:\\Users\\Dragos\\Dropbox\\RISE\\Git\\PythonCSV\\output\\hash_100_mod_100000_1_100iter\\hash_100_mod_100000_1_100iter_gpio.csv'\n",
      "Wrote power data to C:\\Users\\Dragos\\Dropbox\\RISE\\Git\\PythonCSV\\output\\hash_100_mod_100000_1_100iter\\hash_100_mod_100000_1_100iter_power.csv'\n",
      "Wrote averages to: C:\\Users\\Dragos\\Dropbox\\RISE\\Git\\PythonCSV\\output\\hash_100_mod_100000_1_100iter\\hash_100_mod_100000_1_100iter_averages_hold.csv\n",
      "Wrote averages to: C:\\Users\\Dragos\\Dropbox\\RISE\\Git\\PythonCSV\\output\\hash_100_mod_100000_1_100iter\\hash_100_mod_100000_1_100iter_averages_pulse.csv\n"
     ]
    }
   ],
   "source": [
    "loop(\"hash\", 100, hash_size=100, mod_precision=100000, attempt=1, output_dir=\"output\")"
   ]
  },
  {
   "cell_type": "code",
   "execution_count": 7,
   "metadata": {},
   "outputs": [
    {
     "name": "stdout",
     "output_type": "stream",
     "text": [
      "Copied 'C:\\Users\\Dragos\\Dropbox\\RISE\\Git\\KalmanC++\\debug.txt' to 'C:\\Users\\Dragos\\Dropbox\\RISE\\Git\\PythonCSV\\output\\hash_120_mod_100000_1_100iter\\hash_120_mod_100000_1_100iter_table_stats.txt'\n",
      "Reading line 1/101\n",
      "Hash is 120\n",
      "\n",
      "Reading line 101/101\n",
      "\n",
      "Written Kalman output to 'C:\\Users\\Dragos\\Dropbox\\RISE\\Git\\PythonCSV\\output\\hash_120_mod_100000_1_100iter\\hash_120_mod_100000_1_100iter_output.csv'\n",
      "Wrote gpio data to C:\\Users\\Dragos\\Dropbox\\RISE\\Git\\PythonCSV\\output\\hash_120_mod_100000_1_100iter\\hash_120_mod_100000_1_100iter_gpio.csv'\n",
      "Wrote power data to C:\\Users\\Dragos\\Dropbox\\RISE\\Git\\PythonCSV\\output\\hash_120_mod_100000_1_100iter\\hash_120_mod_100000_1_100iter_power.csv'\n",
      "Wrote averages to: C:\\Users\\Dragos\\Dropbox\\RISE\\Git\\PythonCSV\\output\\hash_120_mod_100000_1_100iter\\hash_120_mod_100000_1_100iter_averages_hold.csv\n",
      "Wrote averages to: C:\\Users\\Dragos\\Dropbox\\RISE\\Git\\PythonCSV\\output\\hash_120_mod_100000_1_100iter\\hash_120_mod_100000_1_100iter_averages_pulse.csv\n"
     ]
    }
   ],
   "source": [
    "loop(\"hash\", 100, hash_size=120, mod_precision=100000, attempt=1, output_dir=\"output\")"
   ]
  },
  {
   "cell_type": "code",
   "execution_count": null,
   "metadata": {},
   "outputs": [],
   "source": []
  }
 ],
 "metadata": {
  "kernelspec": {
   "display_name": "Python (py36_32)",
   "language": "python",
   "name": "py36_32"
  },
  "language_info": {
   "codemirror_mode": {
    "name": "ipython",
    "version": 3
   },
   "file_extension": ".py",
   "mimetype": "text/x-python",
   "name": "python",
   "nbconvert_exporter": "python",
   "pygments_lexer": "ipython3",
   "version": "3.6.5"
  }
 },
 "nbformat": 4,
 "nbformat_minor": 2
}
