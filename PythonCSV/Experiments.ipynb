{
 "cells": [
  {
   "cell_type": "code",
   "execution_count": 2,
   "metadata": {},
   "outputs": [],
   "source": [
    "%matplotlib qt"
   ]
  },
  {
   "cell_type": "code",
   "execution_count": 3,
   "metadata": {},
   "outputs": [],
   "source": [
    "from experiment.loop import loop"
   ]
  },
  {
   "cell_type": "markdown",
   "metadata": {},
   "source": [
    "**1000 iterations batch**"
   ]
  },
  {
   "cell_type": "code",
   "execution_count": 4,
   "metadata": {},
   "outputs": [
    {
     "name": "stdout",
     "output_type": "stream",
     "text": [
      "Reading line 1001/1001\n",
      "\n",
      "Written Kalman output to 'C:\\Users\\Dragos\\Dropbox\\RISE\\Git\\PythonCSV\\output\\baseline_1_1000iter\\baseline_1_1000iter_output.csv'\n",
      "Wrote gpio data to C:\\Users\\Dragos\\Dropbox\\RISE\\Git\\PythonCSV\\output\\baseline_1_1000iter\\baseline_1_1000iter_gpio.csv'\n",
      "Wrote power data to C:\\Users\\Dragos\\Dropbox\\RISE\\Git\\PythonCSV\\output\\baseline_1_1000iter\\baseline_1_1000iter_power.csv'\n",
      "Wrote averages to: C:\\Users\\Dragos\\Dropbox\\RISE\\Git\\PythonCSV\\output\\baseline_1_1000iter\\baseline_1_1000iter_averages.csv\n"
     ]
    }
   ],
   "source": [
    "loop(\"baseline\", 1000, attempt=1, output_dir=\"output\")"
   ]
  },
  {
   "cell_type": "code",
   "execution_count": null,
   "metadata": {},
   "outputs": [],
   "source": [
    "loop(\"baseline\", 2000, attempt=1, program=False output_dir=\"output\")"
   ]
  },
  {
   "cell_type": "code",
   "execution_count": null,
   "metadata": {},
   "outputs": [],
   "source": [
    "loop(\"baseline\", 2500, attempt=1, program=False output_dir=\"output\")"
   ]
  },
  {
   "cell_type": "code",
   "execution_count": 5,
   "metadata": {},
   "outputs": [
    {
     "name": "stdout",
     "output_type": "stream",
     "text": [
      "Copied 'C:\\Users\\Dragos\\Dropbox\\RISE\\Git\\KalmanC++\\debug.txt' to 'C:\\Users\\Dragos\\Dropbox\\RISE\\Git\\PythonCSV\\output\\hash_8_mod_50_1_1000iter\\hash_8_mod_50_1_1000iter_table_stats.txt'\n",
      "Reading line 1/1001\n",
      "Hash is 8\n",
      "\n",
      "Reading line 1001/1001\n",
      "\n",
      "Written Kalman output to 'C:\\Users\\Dragos\\Dropbox\\RISE\\Git\\PythonCSV\\output\\hash_8_mod_50_1_1000iter\\hash_8_mod_50_1_1000iter_output.csv'\n",
      "Wrote gpio data to C:\\Users\\Dragos\\Dropbox\\RISE\\Git\\PythonCSV\\output\\hash_8_mod_50_1_1000iter\\hash_8_mod_50_1_1000iter_gpio.csv'\n",
      "Wrote power data to C:\\Users\\Dragos\\Dropbox\\RISE\\Git\\PythonCSV\\output\\hash_8_mod_50_1_1000iter\\hash_8_mod_50_1_1000iter_power.csv'\n",
      "Wrote averages to: C:\\Users\\Dragos\\Dropbox\\RISE\\Git\\PythonCSV\\output\\hash_8_mod_50_1_1000iter\\hash_8_mod_50_1_1000iter_averages.csv\n"
     ]
    }
   ],
   "source": [
    "loop(\"hash\", 1000, hash_size=8, epsilon=0.01, sub_epsilon=50, attempt=1, output_dir=\"output\")"
   ]
  },
  {
   "cell_type": "code",
   "execution_count": 4,
   "metadata": {},
   "outputs": [
    {
     "name": "stdout",
     "output_type": "stream",
     "text": [
      "Copied 'C:\\Users\\Dragos\\Dropbox\\RISE\\Git\\KalmanC++\\debug.txt' to 'C:\\Users\\Dragos\\Dropbox\\RISE\\Git\\PythonCSV\\output\\hash_32_eps_0.01_subeps_50__1000iter_1\\hash_32_eps_0.01_subeps_50__1000iter_1_table_stats.txt'\n",
      "Reading line 1/1001\n",
      "Hash is 32\n",
      "\n",
      "Reading line 1001/1001\n",
      "\n",
      "Written Kalman output to 'C:\\Users\\Dragos\\Dropbox\\RISE\\Git\\PythonCSV\\output\\hash_32_eps_0.01_subeps_50__1000iter_1\\hash_32_eps_0.01_subeps_50__1000iter_1_output.csv'\n",
      "Wrote gpio data to C:\\Users\\Dragos\\Dropbox\\RISE\\Git\\PythonCSV\\output\\hash_32_eps_0.01_subeps_50__1000iter_1\\hash_32_eps_0.01_subeps_50__1000iter_1_gpio.csv'\n",
      "Wrote power data to C:\\Users\\Dragos\\Dropbox\\RISE\\Git\\PythonCSV\\output\\hash_32_eps_0.01_subeps_50__1000iter_1\\hash_32_eps_0.01_subeps_50__1000iter_1_power.csv'\n",
      "Wrote averages to: C:\\Users\\Dragos\\Dropbox\\RISE\\Git\\PythonCSV\\output\\hash_32_eps_0.01_subeps_50__1000iter_1\\hash_32_eps_0.01_subeps_50__1000iter_1_averages.csv\n"
     ]
    }
   ],
   "source": [
    "loop(\"hash\", 1000, hash_size=32, epsilon=0.01, sub_epsilon=50, attempt=1, output_dir=\"output\")"
   ]
  },
  {
   "cell_type": "code",
   "execution_count": 5,
   "metadata": {},
   "outputs": [
    {
     "name": "stdout",
     "output_type": "stream",
     "text": [
      "Copied 'C:\\Users\\Dragos\\Dropbox\\RISE\\Git\\KalmanC++\\debug.txt' to 'C:\\Users\\Dragos\\Dropbox\\RISE\\Git\\PythonCSV\\output\\hash_64_eps_0.01_subeps_50__1000iter_1\\hash_64_eps_0.01_subeps_50__1000iter_1_table_stats.txt'\n",
      "Reading line 1/1001\n",
      "Hash is 64\n",
      "\n",
      "Reading line 1001/1001\n",
      "\n",
      "Written Kalman output to 'C:\\Users\\Dragos\\Dropbox\\RISE\\Git\\PythonCSV\\output\\hash_64_eps_0.01_subeps_50__1000iter_1\\hash_64_eps_0.01_subeps_50__1000iter_1_output.csv'\n",
      "Wrote gpio data to C:\\Users\\Dragos\\Dropbox\\RISE\\Git\\PythonCSV\\output\\hash_64_eps_0.01_subeps_50__1000iter_1\\hash_64_eps_0.01_subeps_50__1000iter_1_gpio.csv'\n",
      "Wrote power data to C:\\Users\\Dragos\\Dropbox\\RISE\\Git\\PythonCSV\\output\\hash_64_eps_0.01_subeps_50__1000iter_1\\hash_64_eps_0.01_subeps_50__1000iter_1_power.csv'\n",
      "Wrote averages to: C:\\Users\\Dragos\\Dropbox\\RISE\\Git\\PythonCSV\\output\\hash_64_eps_0.01_subeps_50__1000iter_1\\hash_64_eps_0.01_subeps_50__1000iter_1_averages.csv\n"
     ]
    }
   ],
   "source": [
    "loop(\"hash\", 1000, hash_size=64, epsilon=0.01, sub_epsilon=50, attempt=1, output_dir=\"output\")"
   ]
  },
  {
   "cell_type": "code",
   "execution_count": null,
   "metadata": {},
   "outputs": [],
   "source": [
    "loop(\"hash\", 1000, hash_size=100, epsilon=0.01, sub_epsilon=50, attempt=1, output_dir=\"output\")"
   ]
  },
  {
   "cell_type": "code",
   "execution_count": null,
   "metadata": {},
   "outputs": [],
   "source": [
    "loop(\"hash\", 1000, hash_size=120, epsilon=0.01, sub_epsilon=50, attempt=1, output_dir=\"output\")"
   ]
  },
  {
   "cell_type": "code",
   "execution_count": null,
   "metadata": {},
   "outputs": [],
   "source": []
  }
 ],
 "metadata": {
  "kernelspec": {
   "display_name": "Python (py36_32)",
   "language": "python",
   "name": "py36_32"
  },
  "language_info": {
   "codemirror_mode": {
    "name": "ipython",
    "version": 3
   },
   "file_extension": ".py",
   "mimetype": "text/x-python",
   "name": "python",
   "nbconvert_exporter": "python",
   "pygments_lexer": "ipython3",
   "version": "3.6.5"
  }
 },
 "nbformat": 4,
 "nbformat_minor": 2
}
