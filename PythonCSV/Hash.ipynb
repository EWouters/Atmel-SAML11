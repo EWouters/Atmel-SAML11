{
 "cells": [
  {
   "cell_type": "code",
   "execution_count": 15,
   "metadata": {},
   "outputs": [
    {
     "name": "stdout",
     "output_type": "stream",
     "text": [
      "26 -> 0.19296300000000002 9.648150000000001\n",
      "2 -> 0.326981 16.349050000000002\n",
      "0 -> 0.321121 16.05605\n",
      "11 -> 0.400803 20.04015\n",
      "2 -> 0.419296 20.9648\n"
     ]
    }
   ],
   "source": [
    "from math import floor\n",
    "epsilon = 0.01\n",
    "sub_epsilon = 50\n",
    "hash_size = 64\n",
    "\n",
    "utilization = [0] * hash_size\n",
    "stored = 0\n",
    "new_stored = 0\n",
    "found = 0\n",
    "hash_table = [(0,0,0,0,0,0)] * hash_size\n",
    "\n",
    "i = 0\n",
    "\n",
    "iterations = 2888\n",
    "\n",
    "max_acc_x_ = 0\n",
    "max_sub_epsilon = 0\n",
    "\n",
    "iteration = 0\n",
    "\n",
    "def theSame(f1, f2):\n",
    "    return abs(f1 - f2) < (f1*sub_epsilon)\n",
    "    \n",
    "def theSameTuple(f1, f2):\n",
    "    return theSame(f1[0], f2[0]) and theSame(f1[1], f2[1]) and theSame(f1[2], f2[2]) \\\n",
    "        and theSame(f1[3], f2[3]) and theSame(f1[4], f2[4]) and theSame(f1[5], f2[5])\n",
    "\n",
    "with open(\"input/input_acc.csv\") as f1:\n",
    "    with open(\"input/input_gyro.csv\") as f2:\n",
    "        for line1, line2 in zip(f1, f2):\n",
    "            iteration += 1\n",
    "            acc_x = line1.split(\",\")[1].strip()\n",
    "            acc_y = line1.split(\",\")[2].strip()\n",
    "            acc_z = line1.split(\",\")[3].strip()\n",
    "            \n",
    "            gyro_x = line2.split(\",\")[1].strip()\n",
    "            gyro_y = line2.split(\",\")[2].strip()\n",
    "            gyro_z = line2.split(\",\")[3].strip()\n",
    "\n",
    "            if i > 0:\n",
    "                acc_x_ = float(acc_x)\n",
    "                acc_y_ = float(acc_y)\n",
    "                acc_z_ = float(acc_z)\n",
    "                gyro_x_ = float(gyro_x)\n",
    "                gyro_y_ = float(gyro_y)\n",
    "                gyro_z_ = float(gyro_z)\n",
    "                \n",
    "                acc_x_hash = int(acc_x_ / epsilon)\n",
    "                acc_y_hash = int(acc_y_ / epsilon)\n",
    "                acc_z_hash = int(acc_z_ / epsilon)\n",
    "                gyro_x_hash = int(gyro_x_ / epsilon)\n",
    "                gyro_y_hash = int(gyro_y_ / epsilon)\n",
    "                gyro_z_hash = int(gyro_z_ / epsilon)\n",
    "\n",
    "                hash_ = (acc_x_hash + acc_y_hash + acc_z_hash + gyro_x_hash + gyro_y_hash + gyro_z_hash) % hash_size\n",
    "                \n",
    "                utilization[hash_] += 1\n",
    "                \n",
    "                #print(\"Comparison in-between: \" + str((acc_x_,acc_y_,acc_z_,gyro_x_,gyro_y_,gyro_z_)) + \", \" + str(hash_table[hash_]))\n",
    "                \n",
    "                if hash_table[hash_] == (0,0,0,0,0,0):\n",
    "                    hash_table[hash_] = (acc_x_, acc_y_, acc_z_, gyro_x_, gyro_y_, gyro_z_)\n",
    "                    new_stored += 1\n",
    "                elif theSameTuple((acc_x_,acc_y_,acc_z_,gyro_x_,gyro_y_,gyro_z_), hash_table[hash_]):\n",
    "                    found += 1\n",
    "                else:\n",
    "                    hash_table[hash_] = (acc_x_, acc_y_, acc_z_, gyro_x_, gyro_y_, gyro_z_)\n",
    "                    stored += 1\n",
    "\n",
    "                if i < 6: print(\"{0} -> {1} {2}\".format(hash_, acc_x, acc_x_*sub_epsilon))\n",
    "                max_acc_x_ = max(max_acc_x_, acc_x_)\n",
    "                max_sub_epsilon = max(max_sub_epsilon, abs(acc_x_ * sub_epsilon))\n",
    "            \n",
    "            i += 1\n",
    "            if (i > iterations): break"
   ]
  },
  {
   "cell_type": "code",
   "execution_count": 16,
   "metadata": {},
   "outputs": [
    {
     "name": "stdout",
     "output_type": "stream",
     "text": [
      "The maximum accX found: 1.6690060000000002 (times sub_epsilon 50 is 83.45030000000001)\n",
      "\n",
      "HashTable population: [43, 51, 49, 48, 41, 38, 52, 49, 52, 48, 39, 46, 40, 41, 50, 38, 45, 57, 41, 36, 48, 54, 40, 50, 40, 49, 39, 51, 41, 49, 57, 40, 34, 50, 39, 42, 50, 38, 46, 37, 46, 44, 50, 49, 44, 39, 42, 41, 40, 44, 44, 46, 34, 43, 46, 54, 36, 54, 50, 43, 54, 54, 44, 49]\n",
      "No. of times found: 131\n",
      "No. of times stored: 2757 (New: 64, Overwritten: 2693)\n"
     ]
    }
   ],
   "source": [
    "print(\"The maximum accX found: {0} (times sub_epsilon {1} is {2})\".format(max_acc_x_, sub_epsilon, max_sub_epsilon))\n",
    "print(\"\")\n",
    "print(\"HashTable population: \" + str(utilization))\n",
    "print(\"No. of times found: \" + str(found))\n",
    "print(\"No. of times stored: \" + str(new_stored + stored) + \" (New: {0}, Overwritten: {1})\".format(new_stored, stored))"
   ]
  },
  {
   "cell_type": "code",
   "execution_count": 17,
   "metadata": {},
   "outputs": [
    {
     "name": "stdout",
     "output_type": "stream",
     "text": [
      "Balance factor (index most used minus index least used, should be close to 0): 23\n",
      "Most written in an index (means most overwrites for a single index, should be small): 57\n"
     ]
    }
   ],
   "source": [
    "print(\"Balance factor (index most used minus index least used, should be close to 0): \" + str(max(utilization) - min(utilization)))\n",
    "print(\"Most written in an index (means most overwrites for a single index, should be small): \" + str(max(utilization)))"
   ]
  },
  {
   "cell_type": "code",
   "execution_count": 18,
   "metadata": {},
   "outputs": [
    {
     "data": {
      "text/plain": [
       "2888"
      ]
     },
     "execution_count": 18,
     "metadata": {},
     "output_type": "execute_result"
    }
   ],
   "source": [
    "sum(utilization)"
   ]
  },
  {
   "cell_type": "code",
   "execution_count": 19,
   "metadata": {},
   "outputs": [
    {
     "name": "stdout",
     "output_type": "stream",
     "text": [
      "2889\n"
     ]
    }
   ],
   "source": [
    "print(iteration)"
   ]
  },
  {
   "cell_type": "code",
   "execution_count": 20,
   "metadata": {},
   "outputs": [
    {
     "name": "stdout",
     "output_type": "stream",
     "text": [
      "File 'C:\\Users\\Dragos\\Dropbox\\RISE\\Git\\KalmanC++\\HashTable\\hashtable.h' now contains:\n",
      "#define HASHSIZE 64\n",
      "#define EPSILON 0.010000\n",
      "#define SUB_EPSILON 50.000000\n",
      "#define ITERATIONS 2888\n"
     ]
    }
   ],
   "source": [
    "import os\n",
    "from experiment.helpers import *\n",
    "\n",
    "verbose=2\n",
    "\n",
    "props_and_values = {\n",
    "    \"HASHSIZE\": hash_size,\n",
    "    \"ITERATIONS\": iterations,\n",
    "    \"EPSILON\" : '{0:f}'.format(epsilon),\n",
    "    \"SUB_EPSILON\" : '{0:f}'.format(sub_epsilon)\n",
    "}\n",
    "\n",
    "x86_kalman_dir = os.path.join(os.path.dirname(os.getcwd()),\"KalmanC++\")\n",
    "x86_kalman_hash_header = os.path.join(x86_kalman_dir, \"HashTable\", \"hashtable.h\")\n",
    "\n",
    "hashtable_header_file_path = x86_kalman_hash_header\n",
    "hashtable_header_file_clone_path = os.path.join(x86_kalman_dir, \"Originals\", \"hashtable.h\")\n",
    "replace_define_value_in_file(hashtable_header_file_clone_path, hashtable_header_file_path, props_and_values)\n",
    "#replace_define_value_in_file(hashtable_header_file_clone_path, hashtable_header_file_path, \"EPSILON\", epsilon)\n",
    "#replace_define_value_in_file(hashtable_header_file_clone_path, hashtable_header_file_path, \"EPSILON2\", epsilon2)\n",
    "\n",
    "if verbose >= 2: print(\"File '\" + hashtable_header_file_path + \"' now contains:\")\n",
    "if verbose >= 2: print_file(hashtable_header_file_path, \"#define HASHSIZE\")\n",
    "if verbose >= 2: print_file(hashtable_header_file_path, \"#define EPSILON\")\n",
    "if verbose >= 2: print_file(hashtable_header_file_path, \"#define SUB_EPSILON\")\n",
    "if verbose >= 2: print_file(hashtable_header_file_path, \"#define ITERATIONS\")"
   ]
  },
  {
   "cell_type": "code",
   "execution_count": 21,
   "metadata": {},
   "outputs": [
    {
     "name": "stdout",
     "output_type": "stream",
     "text": [
      "Epsilon: 0.010000\n",
      "Sub epsilon: 50.000000\n",
      "Hash size: 64\n",
      "\n",
      "HashTable population: 64 / 64\n",
      "No. of times found: 137\n",
      "No. of times stored: 2751\n"
     ]
    }
   ],
   "source": [
    "compile_hash()\n",
    "run_hash(verbose=verbose)"
   ]
  },
  {
   "cell_type": "code",
   "execution_count": null,
   "metadata": {},
   "outputs": [],
   "source": []
  },
  {
   "cell_type": "code",
   "execution_count": null,
   "metadata": {},
   "outputs": [],
   "source": []
  }
 ],
 "metadata": {
  "kernelspec": {
   "display_name": "Python (py36_32)",
   "language": "python",
   "name": "py36_32"
  },
  "language_info": {
   "codemirror_mode": {
    "name": "ipython",
    "version": 3
   },
   "file_extension": ".py",
   "mimetype": "text/x-python",
   "name": "python",
   "nbconvert_exporter": "python",
   "pygments_lexer": "ipython3",
   "version": "3.6.5"
  }
 },
 "nbformat": 4,
 "nbformat_minor": 2
}
