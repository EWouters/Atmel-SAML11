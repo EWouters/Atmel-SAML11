{
 "cells": [
  {
   "cell_type": "markdown",
   "metadata": {},
   "source": [
    "## Import Libraries"
   ]
  },
  {
   "cell_type": "code",
   "execution_count": 1,
   "metadata": {},
   "outputs": [],
   "source": [
    "# %matplotlib ipympl\n",
    "# %matplotlib inline\n",
    "%matplotlib wx"
   ]
  },
  {
   "cell_type": "code",
   "execution_count": 2,
   "metadata": {},
   "outputs": [],
   "source": [
    "import matplotlib.pyplot as plt\n",
    "plt.ion()"
   ]
  },
  {
   "cell_type": "code",
   "execution_count": 3,
   "metadata": {},
   "outputs": [],
   "source": [
    "from pydgilib_extra import *\n",
    "from atprogram.atprogram import atprogram"
   ]
  },
  {
   "cell_type": "code",
   "execution_count": 4,
   "metadata": {},
   "outputs": [],
   "source": [
    "from os import path, pardir"
   ]
  },
  {
   "cell_type": "markdown",
   "metadata": {},
   "source": [
    "## Compile and program project"
   ]
  },
  {
   "cell_type": "code",
   "execution_count": 5,
   "metadata": {},
   "outputs": [
    {
     "data": {
      "text/plain": [
       "['.', 'Dijkstra-S']"
      ]
     },
     "execution_count": 5,
     "metadata": {},
     "output_type": "execute_result"
    }
   ],
   "source": [
    "project_path = [path.curdir, \"Dijkstra-S\"]\n",
    "project_path"
   ]
  },
  {
   "cell_type": "code",
   "execution_count": 16,
   "metadata": {},
   "outputs": [
    {
     "name": "stdout",
     "output_type": "stream",
     "text": [
      "make: Nothing to be done for 'all'.\n",
      "\n",
      "[DEBUG] Starting execution of \"chiperase\"\n",
      "[DEBUG] Starting process 'C:\\Program Files (x86)\\Atmel\\Studio\\7.0\\atbackend\\atbackend.exe'\n",
      "[DEBUG] Connecting to TCP:127.0.0.1:10683\n",
      "[INFO] Connected to edbg, fw version: 3.25\n",
      "[INFO] Firmware check OK\n",
      "[DEBUG] Command \"chiperase\" finished with return code 0\n",
      "[DEBUG] Starting execution of \"program\"\n",
      "[DEBUG] Memory segment base written at 0x00000000. Size = 0x00000f90.\n",
      "[DEBUG] Memory segment base written at 0x00000f90. Size = 0x00000064.\n",
      "[DEBUG] Memory segment base written at 0x0000fb00. Size = 0x00000020.\n",
      "[DEBUG] Memory segment base written at 0x00804000. Size = 0x00000020.\n",
      "[DEBUG] Command \"program\" finished with return code 0\n",
      "[DEBUG] Exit successfully.\n",
      "Firmware check OK\n",
      "Chiperase completed successfully\n",
      "Programming completed successfully.\n",
      "\n"
     ]
    },
    {
     "data": {
      "text/plain": [
       "0"
      ]
     },
     "execution_count": 16,
     "metadata": {},
     "output_type": "execute_result"
    }
   ],
   "source": [
    "atprogram(path.abspath(path.join(*project_path)), verbose=2)"
   ]
  },
  {
   "cell_type": "markdown",
   "metadata": {},
   "source": [
    "## Data Logging"
   ]
  },
  {
   "cell_type": "code",
   "execution_count": 7,
   "metadata": {},
   "outputs": [],
   "source": [
    "live_plot = True"
   ]
  },
  {
   "cell_type": "markdown",
   "metadata": {},
   "source": [
    "Create a figure for the plot."
   ]
  },
  {
   "cell_type": "code",
   "execution_count": 8,
   "metadata": {},
   "outputs": [],
   "source": [
    "if live_plot:\n",
    "    fig = plt.figure(figsize=(10, 6))\n",
    "    fig.show()"
   ]
  },
  {
   "cell_type": "markdown",
   "metadata": {},
   "source": [
    "Create the configuration dictionary for `DGILibExtra`."
   ]
  },
  {
   "cell_type": "code",
   "execution_count": 24,
   "metadata": {},
   "outputs": [],
   "source": [
    "config_dict = {\n",
    "    \"loggers\": [LOGGER_OBJECT, LOGGER_CSV],\n",
    "    \"file_name_base\": \"experiment_dijkstra\"\n",
    "}\n",
    "config_dict_plot = {\n",
    "    \"loggers\": [LOGGER_OBJECT, LOGGER_PLOT, LOGGER_CSV],\n",
    "    \"plot_pins\": [False, False, True, True],\n",
    "    \"plot_pins_method\": \"line\",\n",
    "    \"plot_xmax\": 0.4,\n",
    "    \"window_title\": \"Experiment Dijkstra\",\n",
    "}"
   ]
  },
  {
   "cell_type": "markdown",
   "metadata": {},
   "source": [
    "Stop criteria to pass to the logger:"
   ]
  },
  {
   "cell_type": "code",
   "execution_count": 20,
   "metadata": {},
   "outputs": [],
   "source": [
    "def stop_fn(logger_data):\n",
    "    return len(logger_data.gpio) and all(logger_data.gpio.values[-1])"
   ]
  },
  {
   "cell_type": "markdown",
   "metadata": {},
   "source": [
    "Stop criteria to pass to the parser:"
   ]
  },
  {
   "cell_type": "code",
   "execution_count": 21,
   "metadata": {},
   "outputs": [],
   "source": [
    "def stop_function(pin_values):\n",
    "    return all(pin_values)"
   ]
  },
  {
   "cell_type": "code",
   "execution_count": 22,
   "metadata": {},
   "outputs": [],
   "source": [
    "repetitions = 10"
   ]
  },
  {
   "cell_type": "markdown",
   "metadata": {},
   "source": [
    "Perform the measurement."
   ]
  },
  {
   "cell_type": "code",
   "execution_count": 25,
   "metadata": {},
   "outputs": [],
   "source": [
    "data = []\n",
    "cd = config_dict.copy()\n",
    "if live_plot:\n",
    "    fig.clf()\n",
    "    for ax in fig.get_axes():\n",
    "        ax.cla()\n",
    "    \n",
    "    cd.update(config_dict_plot)\n",
    "    cd[\"fig\"] = fig\n",
    "        \n",
    "charges_graph = []\n",
    "charges_dijkstra = []\n",
    "times_graph = []\n",
    "times_dijkstra = []\n",
    "\n",
    "with DGILibExtra(**cd) as dgilib:\n",
    "    for _ in range(repetitions):\n",
    "        dgilib.device_reset()\n",
    "        dgilib.logger.log(2, stop_fn)\n",
    "        charge_graph, time_graph = power_and_time_per_pulse(dgilib.data, 3, stop_function=stop_function)\n",
    "        charge_dijkstra, time_dijkstra = power_and_time_per_pulse(dgilib.data, 2, stop_function=stop_function)\n",
    "        charges_graph += charge_graph\n",
    "        times_graph += time_graph\n",
    "        charges_dijkstra += charge_dijkstra\n",
    "        times_dijkstra += time_dijkstra\n",
    "        if len(charge_graph) != 1 or len(time_graph) != 1 or len(charge_dijkstra) != 1 or len(time_dijkstra) != 1:\n",
    "            print(f\"Parsing of measurement data failed, charge_graph:{charge_graph}, time_graph:{time_graph}, charge_dijkstra:{charge_dijkstra}, time_dijkstra:{time_dijkstra}\")\n",
    "            break\n",
    "        dgilib.empty_data()\n",
    "    \n",
    "    dgilib.logger.plotobj.ax.set_title(f\"Average of {repetitions} samples: charge: {sum(charges)/len(charges)*1e3:.06} mC, time: {sum(times)/len(times):.06} s\")"
   ]
  },
  {
   "cell_type": "code",
   "execution_count": 27,
   "metadata": {},
   "outputs": [],
   "source": [
    "import json\n",
    "\n",
    "config = {}\n",
    "config[\"name\"] = \"Dijkstra\"\n",
    "config[\"project_paths\"] = [project_path]\n",
    "config[\"config_dict\"] = config_dict\n",
    "config[\"config_dict_plot\"] = config_dict_plot\n",
    "config[\"analysis\"] = {\"pins\":{2: [\"Dijkstra\"], 3: [\"Create Graph\"]}, \n",
    "                      \"result_types\": [\"Charge\", \"Time\"], \n",
    "                      \"section_types\": {\"init\": [\"Create Graph\"],\n",
    "                                        \"loop\": [\"Dijkstra\"],\n",
    "                                        \"exit\": []}}\n",
    "\n",
    "with open(\"repeated_experiment.json\", 'w') as config_file:  \n",
    "    json.dump(config, config_file, indent=4)"
   ]
  },
  {
   "cell_type": "markdown",
   "metadata": {},
   "source": [
    "## Generate test data"
   ]
  },
  {
   "cell_type": "code",
   "execution_count": 8,
   "metadata": {},
   "outputs": [],
   "source": [
    "import numpy as np"
   ]
  },
  {
   "cell_type": "code",
   "execution_count": 9,
   "metadata": {},
   "outputs": [],
   "source": [
    "# https://rosettacode.org/wiki/Dijkstra%27s_algorithm#Python\n",
    "\n",
    "from collections import namedtuple, deque\n",
    " \n",
    " \n",
    "inf = float('inf')\n",
    "Edge = namedtuple('Edge', 'start, end, cost')\n",
    " \n",
    "class Graph():\n",
    "    def __init__(self, edges):\n",
    "        self.edges = edges2 = [Edge(*edge) for edge in edges]\n",
    "        self.vertices = set(sum(([e.start, e.end] for e in edges2), []))\n",
    " \n",
    "    def dijkstra(self, source, dest):\n",
    "        assert source in self.vertices\n",
    "        dist = {vertex: inf for vertex in self.vertices}\n",
    "        previous = {vertex: None for vertex in self.vertices}\n",
    "        dist[source] = 0\n",
    "        q = self.vertices.copy()\n",
    "        neighbours = {vertex: set() for vertex in self.vertices}\n",
    "        for start, end, cost in self.edges:\n",
    "            neighbours[start].add((end, cost))\n",
    "        #pp(neighbours)\n",
    " \n",
    "        while q:\n",
    "            u = min(q, key=lambda vertex: dist[vertex])\n",
    "            q.remove(u)\n",
    "            if dist[u] == inf or u == dest:\n",
    "                break\n",
    "            for v, cost in neighbours[u]:\n",
    "                alt = dist[u] + cost\n",
    "                if alt < dist[v]: # Relax (u,v,a)\n",
    "                    dist[v] = alt\n",
    "                    previous[v] = u\n",
    "        #pp(previous)\n",
    "        s, u = deque(), dest\n",
    "        while previous[u]:\n",
    "            s.appendleft(u)\n",
    "            u = previous[u]\n",
    "        s.appendleft(u)\n",
    "        return s"
   ]
  },
  {
   "cell_type": "code",
   "execution_count": 13,
   "metadata": {},
   "outputs": [],
   "source": [
    "class CGraph(Graph):\n",
    "    def print_c(self):\n",
    "        print('int main (void) {\\n\\tgraph_t *g = calloc(1, sizeof (graph_t));')\n",
    "        for edge in self.edges:\n",
    "            print(f'\\tadd_edge(g, {edge.start}, {edge.end}, {edge.cost});')\n",
    "        end_node = len(self.vertices) - 1\n",
    "        print('\\tdijkstra(g, 0, ' + f'{end_node}' + ');\\n#ifdef DEBUG_PRINT\\n\\tprint_path(g, ' + f'{end_node}' + ');\\n#endif // DEBUG_PRINT\\n\\treturn 0;\\n}')\n",
    "        \n",
    "    def print_path(self):\n",
    "        path = self.dijkstra(0, len(self.vertices) - 1)\n",
    "        s = f'hops: {len(path)}, path: '\n",
    "        for e in reversed(path):\n",
    "            s += f'{e}<-'\n",
    "        print(s + '0')\n",
    "\n",
    "def random_edges(nodes, nedges):\n",
    "    idx = np.random.choice(np.prod((nodes,nodes-1)), nedges, replace=False)\n",
    "    diags = np.array([(i + i * (nodes - 1)) for i in range(nodes)])\n",
    "    return np.vstack(np.unravel_index(idx + np.searchsorted(diags, idx+1), (nodes,nodes))).T\n",
    "\n",
    "def random_graph(nodes, nedges):\n",
    "    edges = random_edges(nodes, nedges)\n",
    "    graph = CGraph([(*edge, np.random.randint(int_max)) for edge in edges])\n",
    "    return graph"
   ]
  },
  {
   "cell_type": "code",
   "execution_count": 14,
   "metadata": {},
   "outputs": [],
   "source": [
    "np.random.seed(314)\n",
    "nodes = 40\n",
    "nedges = 90\n",
    "int_max = 255\n",
    "graph = random_graph(nodes, nedges)"
   ]
  },
  {
   "cell_type": "code",
   "execution_count": 15,
   "metadata": {},
   "outputs": [
    {
     "name": "stdout",
     "output_type": "stream",
     "text": [
      "hops: 6, path: 39<-10<-35<-32<-37<-34<-0\n",
      "int main (void) {\n",
      "\tgraph_t *g = calloc(1, sizeof (graph_t));\n",
      "\tadd_edge(g, 36, 21, 147);\n",
      "\tadd_edge(g, 38, 21, 176);\n",
      "\tadd_edge(g, 26, 22, 223);\n",
      "\tadd_edge(g, 9, 27, 163);\n",
      "\tadd_edge(g, 10, 39, 249);\n",
      "\tadd_edge(g, 11, 33, 53);\n",
      "\tadd_edge(g, 39, 5, 98);\n",
      "\tadd_edge(g, 20, 12, 171);\n",
      "\tadd_edge(g, 16, 38, 214);\n",
      "\tadd_edge(g, 0, 13, 206);\n",
      "\tadd_edge(g, 21, 9, 105);\n",
      "\tadd_edge(g, 0, 34, 178);\n",
      "\tadd_edge(g, 14, 0, 92);\n",
      "\tadd_edge(g, 12, 23, 80);\n",
      "\tadd_edge(g, 1, 6, 191);\n",
      "\tadd_edge(g, 34, 7, 107);\n",
      "\tadd_edge(g, 38, 25, 188);\n",
      "\tadd_edge(g, 6, 31, 129);\n",
      "\tadd_edge(g, 22, 13, 181);\n",
      "\tadd_edge(g, 7, 24, 21);\n",
      "\tadd_edge(g, 18, 31, 254);\n",
      "\tadd_edge(g, 15, 6, 30);\n",
      "\tadd_edge(g, 19, 23, 159);\n",
      "\tadd_edge(g, 16, 7, 141);\n",
      "\tadd_edge(g, 34, 25, 198);\n",
      "\tadd_edge(g, 38, 29, 101);\n",
      "\tadd_edge(g, 16, 11, 41);\n",
      "\tadd_edge(g, 10, 14, 3);\n",
      "\tadd_edge(g, 21, 11, 67);\n",
      "\tadd_edge(g, 1, 30, 137);\n",
      "\tadd_edge(g, 4, 9, 179);\n",
      "\tadd_edge(g, 1, 8, 163);\n",
      "\tadd_edge(g, 34, 6, 122);\n",
      "\tadd_edge(g, 19, 15, 86);\n",
      "\tadd_edge(g, 32, 11, 219);\n",
      "\tadd_edge(g, 27, 21, 25);\n",
      "\tadd_edge(g, 14, 25, 105);\n",
      "\tadd_edge(g, 31, 17, 55);\n",
      "\tadd_edge(g, 17, 1, 242);\n",
      "\tadd_edge(g, 8, 14, 251);\n",
      "\tadd_edge(g, 22, 24, 46);\n",
      "\tadd_edge(g, 38, 36, 113);\n",
      "\tadd_edge(g, 15, 24, 56);\n",
      "\tadd_edge(g, 23, 5, 90);\n",
      "\tadd_edge(g, 27, 24, 73);\n",
      "\tadd_edge(g, 10, 34, 26);\n",
      "\tadd_edge(g, 27, 31, 227);\n",
      "\tadd_edge(g, 37, 23, 91);\n",
      "\tadd_edge(g, 5, 3, 66);\n",
      "\tadd_edge(g, 32, 28, 110);\n",
      "\tadd_edge(g, 8, 2, 80);\n",
      "\tadd_edge(g, 19, 35, 214);\n",
      "\tadd_edge(g, 6, 8, 152);\n",
      "\tadd_edge(g, 29, 22, 199);\n",
      "\tadd_edge(g, 16, 26, 203);\n",
      "\tadd_edge(g, 32, 35, 173);\n",
      "\tadd_edge(g, 38, 8, 135);\n",
      "\tadd_edge(g, 29, 17, 76);\n",
      "\tadd_edge(g, 11, 26, 219);\n",
      "\tadd_edge(g, 16, 36, 152);\n",
      "\tadd_edge(g, 20, 10, 87);\n",
      "\tadd_edge(g, 19, 24, 134);\n",
      "\tadd_edge(g, 14, 34, 96);\n",
      "\tadd_edge(g, 8, 30, 11);\n",
      "\tadd_edge(g, 0, 25, 5);\n",
      "\tadd_edge(g, 35, 9, 58);\n",
      "\tadd_edge(g, 35, 8, 202);\n",
      "\tadd_edge(g, 35, 10, 58);\n",
      "\tadd_edge(g, 19, 5, 107);\n",
      "\tadd_edge(g, 18, 38, 151);\n",
      "\tadd_edge(g, 18, 11, 176);\n",
      "\tadd_edge(g, 27, 16, 42);\n",
      "\tadd_edge(g, 37, 32, 126);\n",
      "\tadd_edge(g, 34, 37, 106);\n",
      "\tadd_edge(g, 18, 5, 91);\n",
      "\tadd_edge(g, 30, 38, 95);\n",
      "\tadd_edge(g, 19, 1, 122);\n",
      "\tadd_edge(g, 39, 24, 218);\n",
      "\tadd_edge(g, 17, 28, 24);\n",
      "\tadd_edge(g, 24, 30, 186);\n",
      "\tadd_edge(g, 24, 6, 150);\n",
      "\tadd_edge(g, 25, 15, 5);\n",
      "\tadd_edge(g, 27, 14, 5);\n",
      "\tadd_edge(g, 33, 1, 28);\n",
      "\tadd_edge(g, 12, 25, 98);\n",
      "\tadd_edge(g, 22, 26, 70);\n",
      "\tadd_edge(g, 10, 35, 210);\n",
      "\tadd_edge(g, 36, 14, 188);\n",
      "\tadd_edge(g, 38, 19, 254);\n",
      "\tadd_edge(g, 38, 1, 242);\n",
      "\tdijkstra(g, 0, 39);\n",
      "#ifdef DEBUG_PRINT\n",
      "\tprint_path(g, 39);\n",
      "#endif // DEBUG_PRINT\n",
      "\treturn 0;\n",
      "}\n"
     ]
    }
   ],
   "source": [
    "graph.print_path()\n",
    "graph.print_c()"
   ]
  },
  {
   "cell_type": "markdown",
   "metadata": {},
   "source": [
    "## Analysis"
   ]
  },
  {
   "cell_type": "code",
   "execution_count": 29,
   "metadata": {},
   "outputs": [],
   "source": [
    "import pandas as pd"
   ]
  },
  {
   "cell_type": "code",
   "execution_count": 30,
   "metadata": {},
   "outputs": [],
   "source": [
    "df = pd.DataFrame({'times_graph': times_graph, 'charges_graph':charges_graph, 'times_dijkstra': times_dijkstra, 'charges_dijkstra':charges_dijkstra})"
   ]
  },
  {
   "cell_type": "code",
   "execution_count": 31,
   "metadata": {},
   "outputs": [
    {
     "data": {
      "text/html": [
       "<div>\n",
       "<style scoped>\n",
       "    .dataframe tbody tr th:only-of-type {\n",
       "        vertical-align: middle;\n",
       "    }\n",
       "\n",
       "    .dataframe tbody tr th {\n",
       "        vertical-align: top;\n",
       "    }\n",
       "\n",
       "    .dataframe thead th {\n",
       "        text-align: right;\n",
       "    }\n",
       "</style>\n",
       "<table border=\"1\" class=\"dataframe\">\n",
       "  <thead>\n",
       "    <tr style=\"text-align: right;\">\n",
       "      <th></th>\n",
       "      <th>times_graph</th>\n",
       "      <th>charges_graph</th>\n",
       "      <th>times_dijkstra</th>\n",
       "      <th>charges_dijkstra</th>\n",
       "    </tr>\n",
       "  </thead>\n",
       "  <tbody>\n",
       "    <tr>\n",
       "      <th>0</th>\n",
       "      <td>0.013002</td>\n",
       "      <td>0.000005</td>\n",
       "      <td>0.00264</td>\n",
       "      <td>9.497056e-07</td>\n",
       "    </tr>\n",
       "    <tr>\n",
       "      <th>1</th>\n",
       "      <td>0.013001</td>\n",
       "      <td>0.000005</td>\n",
       "      <td>0.00264</td>\n",
       "      <td>9.463899e-07</td>\n",
       "    </tr>\n",
       "    <tr>\n",
       "      <th>2</th>\n",
       "      <td>0.013003</td>\n",
       "      <td>0.000005</td>\n",
       "      <td>0.00264</td>\n",
       "      <td>9.506094e-07</td>\n",
       "    </tr>\n",
       "    <tr>\n",
       "      <th>3</th>\n",
       "      <td>0.013003</td>\n",
       "      <td>0.000005</td>\n",
       "      <td>0.00264</td>\n",
       "      <td>9.424458e-07</td>\n",
       "    </tr>\n",
       "    <tr>\n",
       "      <th>4</th>\n",
       "      <td>0.013003</td>\n",
       "      <td>0.000005</td>\n",
       "      <td>0.00264</td>\n",
       "      <td>9.400561e-07</td>\n",
       "    </tr>\n",
       "    <tr>\n",
       "      <th>5</th>\n",
       "      <td>0.013001</td>\n",
       "      <td>0.000005</td>\n",
       "      <td>0.00264</td>\n",
       "      <td>9.456012e-07</td>\n",
       "    </tr>\n",
       "    <tr>\n",
       "      <th>6</th>\n",
       "      <td>0.013003</td>\n",
       "      <td>0.000005</td>\n",
       "      <td>0.00264</td>\n",
       "      <td>9.481511e-07</td>\n",
       "    </tr>\n",
       "    <tr>\n",
       "      <th>7</th>\n",
       "      <td>0.013003</td>\n",
       "      <td>0.000005</td>\n",
       "      <td>0.00264</td>\n",
       "      <td>9.506094e-07</td>\n",
       "    </tr>\n",
       "    <tr>\n",
       "      <th>8</th>\n",
       "      <td>0.012936</td>\n",
       "      <td>0.000005</td>\n",
       "      <td>0.00264</td>\n",
       "      <td>9.440007e-07</td>\n",
       "    </tr>\n",
       "    <tr>\n",
       "      <th>9</th>\n",
       "      <td>0.013002</td>\n",
       "      <td>0.000005</td>\n",
       "      <td>0.00264</td>\n",
       "      <td>9.456088e-07</td>\n",
       "    </tr>\n",
       "  </tbody>\n",
       "</table>\n",
       "</div>"
      ],
      "text/plain": [
       "   times_graph  charges_graph  times_dijkstra  charges_dijkstra\n",
       "0     0.013002       0.000005         0.00264      9.497056e-07\n",
       "1     0.013001       0.000005         0.00264      9.463899e-07\n",
       "2     0.013003       0.000005         0.00264      9.506094e-07\n",
       "3     0.013003       0.000005         0.00264      9.424458e-07\n",
       "4     0.013003       0.000005         0.00264      9.400561e-07\n",
       "5     0.013001       0.000005         0.00264      9.456012e-07\n",
       "6     0.013003       0.000005         0.00264      9.481511e-07\n",
       "7     0.013003       0.000005         0.00264      9.506094e-07\n",
       "8     0.012936       0.000005         0.00264      9.440007e-07\n",
       "9     0.013002       0.000005         0.00264      9.456088e-07"
      ]
     },
     "execution_count": 31,
     "metadata": {},
     "output_type": "execute_result"
    }
   ],
   "source": [
    "df"
   ]
  },
  {
   "cell_type": "code",
   "execution_count": 32,
   "metadata": {},
   "outputs": [
    {
     "data": {
      "text/html": [
       "<div>\n",
       "<style scoped>\n",
       "    .dataframe tbody tr th:only-of-type {\n",
       "        vertical-align: middle;\n",
       "    }\n",
       "\n",
       "    .dataframe tbody tr th {\n",
       "        vertical-align: top;\n",
       "    }\n",
       "\n",
       "    .dataframe thead th {\n",
       "        text-align: right;\n",
       "    }\n",
       "</style>\n",
       "<table border=\"1\" class=\"dataframe\">\n",
       "  <thead>\n",
       "    <tr style=\"text-align: right;\">\n",
       "      <th></th>\n",
       "      <th>times_graph</th>\n",
       "      <th>charges_graph</th>\n",
       "      <th>times_dijkstra</th>\n",
       "      <th>charges_dijkstra</th>\n",
       "    </tr>\n",
       "  </thead>\n",
       "  <tbody>\n",
       "    <tr>\n",
       "      <th>count</th>\n",
       "      <td>10.000000</td>\n",
       "      <td>1.000000e+01</td>\n",
       "      <td>1.000000e+01</td>\n",
       "      <td>1.000000e+01</td>\n",
       "    </tr>\n",
       "    <tr>\n",
       "      <th>mean</th>\n",
       "      <td>0.012996</td>\n",
       "      <td>4.919830e-06</td>\n",
       "      <td>2.640081e-03</td>\n",
       "      <td>9.463178e-07</td>\n",
       "    </tr>\n",
       "    <tr>\n",
       "      <th>std</th>\n",
       "      <td>0.000021</td>\n",
       "      <td>8.892419e-09</td>\n",
       "      <td>1.772936e-07</td>\n",
       "      <td>3.531844e-09</td>\n",
       "    </tr>\n",
       "    <tr>\n",
       "      <th>min</th>\n",
       "      <td>0.012936</td>\n",
       "      <td>4.903446e-06</td>\n",
       "      <td>2.639829e-03</td>\n",
       "      <td>9.400561e-07</td>\n",
       "    </tr>\n",
       "    <tr>\n",
       "      <th>25%</th>\n",
       "      <td>0.013002</td>\n",
       "      <td>4.917448e-06</td>\n",
       "      <td>2.639925e-03</td>\n",
       "      <td>9.444008e-07</td>\n",
       "    </tr>\n",
       "    <tr>\n",
       "      <th>50%</th>\n",
       "      <td>0.013002</td>\n",
       "      <td>4.921841e-06</td>\n",
       "      <td>2.640085e-03</td>\n",
       "      <td>9.459993e-07</td>\n",
       "    </tr>\n",
       "    <tr>\n",
       "      <th>75%</th>\n",
       "      <td>0.013003</td>\n",
       "      <td>4.926007e-06</td>\n",
       "      <td>2.640261e-03</td>\n",
       "      <td>9.493169e-07</td>\n",
       "    </tr>\n",
       "    <tr>\n",
       "      <th>max</th>\n",
       "      <td>0.013003</td>\n",
       "      <td>4.930964e-06</td>\n",
       "      <td>2.640277e-03</td>\n",
       "      <td>9.506094e-07</td>\n",
       "    </tr>\n",
       "  </tbody>\n",
       "</table>\n",
       "</div>"
      ],
      "text/plain": [
       "       times_graph  charges_graph  times_dijkstra  charges_dijkstra\n",
       "count    10.000000   1.000000e+01    1.000000e+01      1.000000e+01\n",
       "mean      0.012996   4.919830e-06    2.640081e-03      9.463178e-07\n",
       "std       0.000021   8.892419e-09    1.772936e-07      3.531844e-09\n",
       "min       0.012936   4.903446e-06    2.639829e-03      9.400561e-07\n",
       "25%       0.013002   4.917448e-06    2.639925e-03      9.444008e-07\n",
       "50%       0.013002   4.921841e-06    2.640085e-03      9.459993e-07\n",
       "75%       0.013003   4.926007e-06    2.640261e-03      9.493169e-07\n",
       "max       0.013003   4.930964e-06    2.640277e-03      9.506094e-07"
      ]
     },
     "execution_count": 32,
     "metadata": {},
     "output_type": "execute_result"
    }
   ],
   "source": [
    "df.describe()"
   ]
  }
 ],
 "metadata": {
  "kernelspec": {
   "display_name": "Python [conda env:SAML11-32]",
   "language": "python",
   "name": "conda-env-SAML11-32-py"
  },
  "language_info": {
   "codemirror_mode": {
    "name": "ipython",
    "version": 3
   },
   "file_extension": ".py",
   "mimetype": "text/x-python",
   "name": "python",
   "nbconvert_exporter": "python",
   "pygments_lexer": "ipython3",
   "version": "3.6.8"
  }
 },
 "nbformat": 4,
 "nbformat_minor": 2
}
