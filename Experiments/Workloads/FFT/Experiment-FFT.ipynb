{
 "cells": [
  {
   "cell_type": "markdown",
   "metadata": {},
   "source": [
    "## Import Libraries"
   ]
  },
  {
   "cell_type": "code",
   "execution_count": 9,
   "metadata": {},
   "outputs": [],
   "source": [
    "# %matplotlib ipympl\n",
    "# %matplotlib inline\n",
    "%matplotlib wx"
   ]
  },
  {
   "cell_type": "code",
   "execution_count": 10,
   "metadata": {},
   "outputs": [],
   "source": [
    "import matplotlib.pyplot as plt\n",
    "plt.ion()"
   ]
  },
  {
   "cell_type": "code",
   "execution_count": 11,
   "metadata": {},
   "outputs": [],
   "source": [
    "from pydgilib_extra import *\n",
    "from atprogram.atprogram import atprogram"
   ]
  },
  {
   "cell_type": "code",
   "execution_count": 12,
   "metadata": {},
   "outputs": [],
   "source": [
    "from os import getcwd, path, pardir"
   ]
  },
  {
   "cell_type": "markdown",
   "metadata": {},
   "source": [
    "## Compile and program project"
   ]
  },
  {
   "cell_type": "code",
   "execution_count": 13,
   "metadata": {},
   "outputs": [
    {
     "data": {
      "text/plain": [
       "'C:\\\\Users\\\\erikw_000\\\\Documents\\\\GitHub\\\\Atmel-SAML11\\\\Experiments\\\\Workloads\\\\FFT\\\\FFT-S'"
      ]
     },
     "execution_count": 13,
     "metadata": {},
     "output_type": "execute_result"
    }
   ],
   "source": [
    "project_path = path.join(getcwd(), \"FFT-S\")\n",
    "project_path"
   ]
  },
  {
   "cell_type": "code",
   "execution_count": 46,
   "metadata": {},
   "outputs": [
    {
     "name": "stdout",
     "output_type": "stream",
     "text": [
      "make: Nothing to be done for 'all'.\n",
      "\n",
      "[DEBUG] Starting execution of \"chiperase\"\n",
      "[DEBUG] Starting process 'C:\\Program Files (x86)\\Atmel\\Studio\\7.0\\atbackend\\atbackend.exe'\n",
      "[DEBUG] Connecting to TCP:127.0.0.1:32082\n",
      "[INFO] Connected to edbg, fw version: 3.25\n",
      "[INFO] Firmware check OK\n",
      "[DEBUG] Command \"chiperase\" finished with return code 0\n",
      "[DEBUG] Starting execution of \"program\"\n",
      "[DEBUG] Memory segment base written at 0x00000000. Size = 0x00005800.\n",
      "[DEBUG] Memory segment base written at 0x00005800. Size = 0x00000068.\n",
      "[DEBUG] Memory segment base written at 0x0000fb00. Size = 0x00000020.\n",
      "[DEBUG] Memory segment base written at 0x00804000. Size = 0x00000020.\n",
      "[DEBUG] Command \"program\" finished with return code 0\n",
      "[DEBUG] Exit successfully.\n",
      "Firmware check OK\n",
      "Chiperase completed successfully\n",
      "Programming completed successfully.\n",
      "\n"
     ]
    },
    {
     "data": {
      "text/plain": [
       "0"
      ]
     },
     "execution_count": 46,
     "metadata": {},
     "output_type": "execute_result"
    }
   ],
   "source": [
    "atprogram(project_path, verbose=2)"
   ]
  },
  {
   "cell_type": "markdown",
   "metadata": {},
   "source": [
    "## Data Logging"
   ]
  },
  {
   "cell_type": "code",
   "execution_count": 15,
   "metadata": {},
   "outputs": [],
   "source": [
    "live_plot = True"
   ]
  },
  {
   "cell_type": "markdown",
   "metadata": {},
   "source": [
    "Create a figure for the plot."
   ]
  },
  {
   "cell_type": "code",
   "execution_count": 16,
   "metadata": {},
   "outputs": [],
   "source": [
    "if live_plot:\n",
    "    fig = plt.figure(figsize=(10, 6))\n",
    "    fig.show()"
   ]
  },
  {
   "cell_type": "markdown",
   "metadata": {},
   "source": [
    "Create the configuration dictionary for `DGILibExtra`."
   ]
  },
  {
   "cell_type": "code",
   "execution_count": 57,
   "metadata": {},
   "outputs": [],
   "source": [
    "if live_plot:\n",
    "    config_dict = {\n",
    "        \"loggers\": [LOGGER_OBJECT, LOGGER_PLOT, LOGGER_CSV],\n",
    "        \"plot_pins\": [False, False, True, True],\n",
    "        \"gpio_delay_time\" : 0.0007,\n",
    "        \"plot_pins_method\": \"line\",\n",
    "        \"plot_xmax\": 6,\n",
    "        \"fig\": fig,\n",
    "        \"window_title\": \"Experiment FFT\",\n",
    "        \"file_name_base\": \"experiment_fft\"\n",
    "    }\n",
    "else:\n",
    "    config_dict = {\n",
    "        \"loggers\": [LOGGER_OBJECT, LOGGER_CSV],\n",
    "        \"gpio_delay_time\" : 0.0007,\n",
    "        \"file_name_base\": \"experiment_fft\"\n",
    "    }"
   ]
  },
  {
   "cell_type": "markdown",
   "metadata": {},
   "source": [
    "Stop criteria to pass to the logger:"
   ]
  },
  {
   "cell_type": "code",
   "execution_count": 58,
   "metadata": {},
   "outputs": [],
   "source": [
    "def stop_fn(logger_data):\n",
    "    return all(logger_data.gpio.values[-1])"
   ]
  },
  {
   "cell_type": "markdown",
   "metadata": {},
   "source": [
    "Stop criteria to pass to the parser:"
   ]
  },
  {
   "cell_type": "code",
   "execution_count": 59,
   "metadata": {},
   "outputs": [],
   "source": [
    "def stop_function(pin_values):\n",
    "    return all(pin_values)"
   ]
  },
  {
   "cell_type": "code",
   "execution_count": 60,
   "metadata": {},
   "outputs": [],
   "source": [
    "repetitions = 10"
   ]
  },
  {
   "cell_type": "markdown",
   "metadata": {},
   "source": [
    "Perform the measurement."
   ]
  },
  {
   "cell_type": "code",
   "execution_count": 61,
   "metadata": {},
   "outputs": [
    {
     "name": "stdout",
     "output_type": "stream",
     "text": [
      "Parsing of measurement data failed, charge2:[1.6025214620356904e-05], time2:[0.04864593066666667], charge3:[1.6025214620356904e-05], time3:[0.04864593066666667],\n"
     ]
    },
    {
     "ename": "ZeroDivisionError",
     "evalue": "division by zero",
     "output_type": "error",
     "traceback": [
      "\u001b[1;31m---------------------------------------------------------------------------\u001b[0m",
      "\u001b[1;31mZeroDivisionError\u001b[0m                         Traceback (most recent call last)",
      "\u001b[1;32m<ipython-input-61-8cbe4c8a3a19>\u001b[0m in \u001b[0;36m<module>\u001b[1;34m\u001b[0m\n\u001b[0;32m     42\u001b[0m     \u001b[0mtimes\u001b[0m \u001b[1;33m=\u001b[0m \u001b[0mtimes_allocate\u001b[0m \u001b[1;33m+\u001b[0m \u001b[0mtimes_fft\u001b[0m \u001b[1;33m+\u001b[0m \u001b[0mtimes_switch_to_ifft\u001b[0m \u001b[1;33m+\u001b[0m \u001b[0mtimes_ifft\u001b[0m \u001b[1;33m+\u001b[0m \u001b[0mtimes_free\u001b[0m\u001b[1;33m\u001b[0m\u001b[1;33m\u001b[0m\u001b[0m\n\u001b[0;32m     43\u001b[0m \u001b[1;33m\u001b[0m\u001b[0m\n\u001b[1;32m---> 44\u001b[1;33m     \u001b[0mdgilib\u001b[0m\u001b[1;33m.\u001b[0m\u001b[0mlogger\u001b[0m\u001b[1;33m.\u001b[0m\u001b[0mplotobj\u001b[0m\u001b[1;33m.\u001b[0m\u001b[0max\u001b[0m\u001b[1;33m.\u001b[0m\u001b[0mset_title\u001b[0m\u001b[1;33m(\u001b[0m\u001b[1;34mf\"Average of {repetitions} samples: charge: {sum(charges)/len(charges)*1e3:.06} mC, time: {sum(times)/len(times):.06} s\"\u001b[0m\u001b[1;33m)\u001b[0m\u001b[1;33m\u001b[0m\u001b[1;33m\u001b[0m\u001b[0m\n\u001b[0m",
      "\u001b[1;31mZeroDivisionError\u001b[0m: division by zero"
     ]
    }
   ],
   "source": [
    "if live_plot:\n",
    "    fig.clf()\n",
    "    for ax in fig.get_axes():\n",
    "        ax.cla()\n",
    "        \n",
    "charges_allocate = []\n",
    "charges_fft = []\n",
    "charges_switch_to_ifft = []\n",
    "charges_ifft = []\n",
    "charges_free = []\n",
    "times_allocate = []\n",
    "times_fft = []\n",
    "times_switch_to_ifft = []\n",
    "times_ifft = []\n",
    "times_free = []\n",
    "\n",
    "\n",
    "with DGILibExtra(**config_dict) as dgilib:\n",
    "    for _ in range(repetitions):\n",
    "        dgilib.device_reset()\n",
    "        dgilib.logger.log(10,stop_fn)\n",
    "        charge2, time2 = power_and_time_per_pulse(dgilib.data, 2, 0, stop_function=stop_function)\n",
    "        charge3, time3 = power_and_time_per_pulse(dgilib.data, 2, 0, stop_function=stop_function)\n",
    "        \n",
    "        if len(charge2) != 3 or len(time2) != 3 or len(charge3) != 3 or len(time3) != 3:\n",
    "            print(f\"Parsing of measurement data failed, charge2:{charge2}, time2:{time2}, charge3:{charge3}, time3:{time3},\")\n",
    "            break\n",
    "        charges_allocate.append(charge2[0])\n",
    "        charges_fft.append(charge3[0])\n",
    "        charges_switch_to_ifft.append(charge2[1])\n",
    "        charges_ifft.append(charge3[1])\n",
    "        charges_free.append(charge2[2])\n",
    "        times_allocate.append(time2[0])\n",
    "        times_fft.append(time3[0])\n",
    "        times_switch_to_ifft.append(time2[1])\n",
    "        times_ifft.append(time3[1])\n",
    "        times_free.append(time2[2])\n",
    "        # dgilib.logger.plotobj.ax.set_title(f\"Previous sample: charge: {sum(charge2+charge3)*1e3:.06} mC, time: {sum(time2+time3):.06} s\")\n",
    "        dgilib.empty_data()\n",
    "\n",
    "    charges = charges_allocate + charges_fft + charges_switch_to_ifft + charges_ifft + charges_free \n",
    "    times = times_allocate + times_fft + times_switch_to_ifft + times_ifft + times_free\n",
    "\n",
    "    dgilib.logger.plotobj.ax.set_title(f\"Average of {repetitions} samples: charge: {sum(charges)/len(charges)*1e3:.06} mC, time: {sum(times)/len(times):.06} s\")"
   ]
  },
  {
   "cell_type": "code",
   "execution_count": 40,
   "metadata": {},
   "outputs": [],
   "source": [
    "import pandas as pd"
   ]
  },
  {
   "cell_type": "code",
   "execution_count": 52,
   "metadata": {},
   "outputs": [],
   "source": [
    "df = pd.DataFrame({'times': times, 'charges':charges})"
   ]
  },
  {
   "cell_type": "code",
   "execution_count": 53,
   "metadata": {},
   "outputs": [
    {
     "data": {
      "text/html": [
       "<div>\n",
       "<style scoped>\n",
       "    .dataframe tbody tr th:only-of-type {\n",
       "        vertical-align: middle;\n",
       "    }\n",
       "\n",
       "    .dataframe tbody tr th {\n",
       "        vertical-align: top;\n",
       "    }\n",
       "\n",
       "    .dataframe thead th {\n",
       "        text-align: right;\n",
       "    }\n",
       "</style>\n",
       "<table border=\"1\" class=\"dataframe\">\n",
       "  <thead>\n",
       "    <tr style=\"text-align: right;\">\n",
       "      <th></th>\n",
       "      <th>times</th>\n",
       "      <th>charges</th>\n",
       "    </tr>\n",
       "  </thead>\n",
       "  <tbody>\n",
       "    <tr>\n",
       "      <th>0</th>\n",
       "      <td>0.503246</td>\n",
       "      <td>2.479505e-04</td>\n",
       "    </tr>\n",
       "    <tr>\n",
       "      <th>1</th>\n",
       "      <td>0.503402</td>\n",
       "      <td>2.481504e-04</td>\n",
       "    </tr>\n",
       "    <tr>\n",
       "      <th>2</th>\n",
       "      <td>0.504051</td>\n",
       "      <td>2.483048e-04</td>\n",
       "    </tr>\n",
       "    <tr>\n",
       "      <th>3</th>\n",
       "      <td>0.502662</td>\n",
       "      <td>2.475527e-04</td>\n",
       "    </tr>\n",
       "    <tr>\n",
       "      <th>4</th>\n",
       "      <td>0.503072</td>\n",
       "      <td>2.477944e-04</td>\n",
       "    </tr>\n",
       "    <tr>\n",
       "      <th>5</th>\n",
       "      <td>0.503912</td>\n",
       "      <td>2.480753e-04</td>\n",
       "    </tr>\n",
       "    <tr>\n",
       "      <th>6</th>\n",
       "      <td>0.503926</td>\n",
       "      <td>2.480331e-04</td>\n",
       "    </tr>\n",
       "    <tr>\n",
       "      <th>7</th>\n",
       "      <td>0.503860</td>\n",
       "      <td>2.481267e-04</td>\n",
       "    </tr>\n",
       "    <tr>\n",
       "      <th>8</th>\n",
       "      <td>0.504581</td>\n",
       "      <td>2.485862e-04</td>\n",
       "    </tr>\n",
       "    <tr>\n",
       "      <th>9</th>\n",
       "      <td>0.504324</td>\n",
       "      <td>2.483452e-04</td>\n",
       "    </tr>\n",
       "    <tr>\n",
       "      <th>10</th>\n",
       "      <td>0.503246</td>\n",
       "      <td>2.479505e-04</td>\n",
       "    </tr>\n",
       "    <tr>\n",
       "      <th>11</th>\n",
       "      <td>0.503402</td>\n",
       "      <td>2.481504e-04</td>\n",
       "    </tr>\n",
       "    <tr>\n",
       "      <th>12</th>\n",
       "      <td>0.504051</td>\n",
       "      <td>2.483048e-04</td>\n",
       "    </tr>\n",
       "    <tr>\n",
       "      <th>13</th>\n",
       "      <td>0.502662</td>\n",
       "      <td>2.475527e-04</td>\n",
       "    </tr>\n",
       "    <tr>\n",
       "      <th>14</th>\n",
       "      <td>0.503072</td>\n",
       "      <td>2.477944e-04</td>\n",
       "    </tr>\n",
       "    <tr>\n",
       "      <th>15</th>\n",
       "      <td>0.503912</td>\n",
       "      <td>2.480753e-04</td>\n",
       "    </tr>\n",
       "    <tr>\n",
       "      <th>16</th>\n",
       "      <td>0.503926</td>\n",
       "      <td>2.480331e-04</td>\n",
       "    </tr>\n",
       "    <tr>\n",
       "      <th>17</th>\n",
       "      <td>0.503860</td>\n",
       "      <td>2.481267e-04</td>\n",
       "    </tr>\n",
       "    <tr>\n",
       "      <th>18</th>\n",
       "      <td>0.504581</td>\n",
       "      <td>2.485862e-04</td>\n",
       "    </tr>\n",
       "    <tr>\n",
       "      <th>19</th>\n",
       "      <td>0.504324</td>\n",
       "      <td>2.483452e-04</td>\n",
       "    </tr>\n",
       "    <tr>\n",
       "      <th>20</th>\n",
       "      <td>0.504108</td>\n",
       "      <td>2.475823e-04</td>\n",
       "    </tr>\n",
       "    <tr>\n",
       "      <th>21</th>\n",
       "      <td>0.504121</td>\n",
       "      <td>2.476073e-04</td>\n",
       "    </tr>\n",
       "    <tr>\n",
       "      <th>22</th>\n",
       "      <td>0.504111</td>\n",
       "      <td>2.475960e-04</td>\n",
       "    </tr>\n",
       "    <tr>\n",
       "      <th>23</th>\n",
       "      <td>0.504058</td>\n",
       "      <td>2.475341e-04</td>\n",
       "    </tr>\n",
       "    <tr>\n",
       "      <th>24</th>\n",
       "      <td>0.504118</td>\n",
       "      <td>2.474800e-04</td>\n",
       "    </tr>\n",
       "    <tr>\n",
       "      <th>25</th>\n",
       "      <td>0.504111</td>\n",
       "      <td>2.474456e-04</td>\n",
       "    </tr>\n",
       "    <tr>\n",
       "      <th>26</th>\n",
       "      <td>0.504117</td>\n",
       "      <td>2.475435e-04</td>\n",
       "    </tr>\n",
       "    <tr>\n",
       "      <th>27</th>\n",
       "      <td>0.504057</td>\n",
       "      <td>2.475041e-04</td>\n",
       "    </tr>\n",
       "    <tr>\n",
       "      <th>28</th>\n",
       "      <td>0.504057</td>\n",
       "      <td>2.476376e-04</td>\n",
       "    </tr>\n",
       "    <tr>\n",
       "      <th>29</th>\n",
       "      <td>0.504103</td>\n",
       "      <td>2.475294e-04</td>\n",
       "    </tr>\n",
       "    <tr>\n",
       "      <th>30</th>\n",
       "      <td>0.504108</td>\n",
       "      <td>2.475823e-04</td>\n",
       "    </tr>\n",
       "    <tr>\n",
       "      <th>31</th>\n",
       "      <td>0.504121</td>\n",
       "      <td>2.476073e-04</td>\n",
       "    </tr>\n",
       "    <tr>\n",
       "      <th>32</th>\n",
       "      <td>0.504111</td>\n",
       "      <td>2.475960e-04</td>\n",
       "    </tr>\n",
       "    <tr>\n",
       "      <th>33</th>\n",
       "      <td>0.504058</td>\n",
       "      <td>2.475341e-04</td>\n",
       "    </tr>\n",
       "    <tr>\n",
       "      <th>34</th>\n",
       "      <td>0.504118</td>\n",
       "      <td>2.474800e-04</td>\n",
       "    </tr>\n",
       "    <tr>\n",
       "      <th>35</th>\n",
       "      <td>0.504111</td>\n",
       "      <td>2.474456e-04</td>\n",
       "    </tr>\n",
       "    <tr>\n",
       "      <th>36</th>\n",
       "      <td>0.504117</td>\n",
       "      <td>2.475435e-04</td>\n",
       "    </tr>\n",
       "    <tr>\n",
       "      <th>37</th>\n",
       "      <td>0.504057</td>\n",
       "      <td>2.475041e-04</td>\n",
       "    </tr>\n",
       "    <tr>\n",
       "      <th>38</th>\n",
       "      <td>0.504057</td>\n",
       "      <td>2.476376e-04</td>\n",
       "    </tr>\n",
       "    <tr>\n",
       "      <th>39</th>\n",
       "      <td>0.504103</td>\n",
       "      <td>2.475294e-04</td>\n",
       "    </tr>\n",
       "    <tr>\n",
       "      <th>40</th>\n",
       "      <td>0.000066</td>\n",
       "      <td>2.516436e-08</td>\n",
       "    </tr>\n",
       "    <tr>\n",
       "      <th>41</th>\n",
       "      <td>0.000066</td>\n",
       "      <td>2.110338e-08</td>\n",
       "    </tr>\n",
       "    <tr>\n",
       "      <th>42</th>\n",
       "      <td>0.000066</td>\n",
       "      <td>2.435103e-08</td>\n",
       "    </tr>\n",
       "    <tr>\n",
       "      <th>43</th>\n",
       "      <td>0.000066</td>\n",
       "      <td>2.435300e-08</td>\n",
       "    </tr>\n",
       "    <tr>\n",
       "      <th>44</th>\n",
       "      <td>0.000066</td>\n",
       "      <td>2.272689e-08</td>\n",
       "    </tr>\n",
       "    <tr>\n",
       "      <th>45</th>\n",
       "      <td>0.000066</td>\n",
       "      <td>2.191540e-08</td>\n",
       "    </tr>\n",
       "    <tr>\n",
       "      <th>46</th>\n",
       "      <td>0.000066</td>\n",
       "      <td>2.435123e-08</td>\n",
       "    </tr>\n",
       "    <tr>\n",
       "      <th>47</th>\n",
       "      <td>0.000066</td>\n",
       "      <td>2.110406e-08</td>\n",
       "    </tr>\n",
       "    <tr>\n",
       "      <th>48</th>\n",
       "      <td>0.000066</td>\n",
       "      <td>2.272800e-08</td>\n",
       "    </tr>\n",
       "    <tr>\n",
       "      <th>49</th>\n",
       "      <td>0.000066</td>\n",
       "      <td>2.516212e-08</td>\n",
       "    </tr>\n",
       "  </tbody>\n",
       "</table>\n",
       "</div>"
      ],
      "text/plain": [
       "       times       charges\n",
       "0   0.503246  2.479505e-04\n",
       "1   0.503402  2.481504e-04\n",
       "2   0.504051  2.483048e-04\n",
       "3   0.502662  2.475527e-04\n",
       "4   0.503072  2.477944e-04\n",
       "5   0.503912  2.480753e-04\n",
       "6   0.503926  2.480331e-04\n",
       "7   0.503860  2.481267e-04\n",
       "8   0.504581  2.485862e-04\n",
       "9   0.504324  2.483452e-04\n",
       "10  0.503246  2.479505e-04\n",
       "11  0.503402  2.481504e-04\n",
       "12  0.504051  2.483048e-04\n",
       "13  0.502662  2.475527e-04\n",
       "14  0.503072  2.477944e-04\n",
       "15  0.503912  2.480753e-04\n",
       "16  0.503926  2.480331e-04\n",
       "17  0.503860  2.481267e-04\n",
       "18  0.504581  2.485862e-04\n",
       "19  0.504324  2.483452e-04\n",
       "20  0.504108  2.475823e-04\n",
       "21  0.504121  2.476073e-04\n",
       "22  0.504111  2.475960e-04\n",
       "23  0.504058  2.475341e-04\n",
       "24  0.504118  2.474800e-04\n",
       "25  0.504111  2.474456e-04\n",
       "26  0.504117  2.475435e-04\n",
       "27  0.504057  2.475041e-04\n",
       "28  0.504057  2.476376e-04\n",
       "29  0.504103  2.475294e-04\n",
       "30  0.504108  2.475823e-04\n",
       "31  0.504121  2.476073e-04\n",
       "32  0.504111  2.475960e-04\n",
       "33  0.504058  2.475341e-04\n",
       "34  0.504118  2.474800e-04\n",
       "35  0.504111  2.474456e-04\n",
       "36  0.504117  2.475435e-04\n",
       "37  0.504057  2.475041e-04\n",
       "38  0.504057  2.476376e-04\n",
       "39  0.504103  2.475294e-04\n",
       "40  0.000066  2.516436e-08\n",
       "41  0.000066  2.110338e-08\n",
       "42  0.000066  2.435103e-08\n",
       "43  0.000066  2.435300e-08\n",
       "44  0.000066  2.272689e-08\n",
       "45  0.000066  2.191540e-08\n",
       "46  0.000066  2.435123e-08\n",
       "47  0.000066  2.110406e-08\n",
       "48  0.000066  2.272800e-08\n",
       "49  0.000066  2.516212e-08"
      ]
     },
     "execution_count": 53,
     "metadata": {},
     "output_type": "execute_result"
    }
   ],
   "source": [
    "df"
   ]
  },
  {
   "cell_type": "code",
   "execution_count": 54,
   "metadata": {},
   "outputs": [
    {
     "data": {
      "text/html": [
       "<div>\n",
       "<style scoped>\n",
       "    .dataframe tbody tr th:only-of-type {\n",
       "        vertical-align: middle;\n",
       "    }\n",
       "\n",
       "    .dataframe tbody tr th {\n",
       "        vertical-align: top;\n",
       "    }\n",
       "\n",
       "    .dataframe thead th {\n",
       "        text-align: right;\n",
       "    }\n",
       "</style>\n",
       "<table border=\"1\" class=\"dataframe\">\n",
       "  <thead>\n",
       "    <tr style=\"text-align: right;\">\n",
       "      <th></th>\n",
       "      <th>times</th>\n",
       "      <th>charges</th>\n",
       "    </tr>\n",
       "  </thead>\n",
       "  <tbody>\n",
       "    <tr>\n",
       "      <th>count</th>\n",
       "      <td>50.000000</td>\n",
       "      <td>5.000000e+01</td>\n",
       "    </tr>\n",
       "    <tr>\n",
       "      <th>mean</th>\n",
       "      <td>0.403133</td>\n",
       "      <td>1.982598e-04</td>\n",
       "    </tr>\n",
       "    <tr>\n",
       "      <th>std</th>\n",
       "      <td>0.203580</td>\n",
       "      <td>1.001250e-04</td>\n",
       "    </tr>\n",
       "    <tr>\n",
       "      <th>min</th>\n",
       "      <td>0.000066</td>\n",
       "      <td>2.110338e-08</td>\n",
       "    </tr>\n",
       "    <tr>\n",
       "      <th>25%</th>\n",
       "      <td>0.503072</td>\n",
       "      <td>2.474800e-04</td>\n",
       "    </tr>\n",
       "    <tr>\n",
       "      <th>50%</th>\n",
       "      <td>0.504051</td>\n",
       "      <td>2.475823e-04</td>\n",
       "    </tr>\n",
       "    <tr>\n",
       "      <th>75%</th>\n",
       "      <td>0.504111</td>\n",
       "      <td>2.480331e-04</td>\n",
       "    </tr>\n",
       "    <tr>\n",
       "      <th>max</th>\n",
       "      <td>0.504581</td>\n",
       "      <td>2.485862e-04</td>\n",
       "    </tr>\n",
       "  </tbody>\n",
       "</table>\n",
       "</div>"
      ],
      "text/plain": [
       "           times       charges\n",
       "count  50.000000  5.000000e+01\n",
       "mean    0.403133  1.982598e-04\n",
       "std     0.203580  1.001250e-04\n",
       "min     0.000066  2.110338e-08\n",
       "25%     0.503072  2.474800e-04\n",
       "50%     0.504051  2.475823e-04\n",
       "75%     0.504111  2.480331e-04\n",
       "max     0.504581  2.485862e-04"
      ]
     },
     "execution_count": 54,
     "metadata": {},
     "output_type": "execute_result"
    }
   ],
   "source": [
    "df.describe()"
   ]
  },
  {
   "cell_type": "code",
   "execution_count": 55,
   "metadata": {},
   "outputs": [
    {
     "data": {
      "text/plain": [
       "0.0009912991028630635"
      ]
     },
     "execution_count": 55,
     "metadata": {},
     "output_type": "execute_result"
    }
   ],
   "source": [
    "sum(charges)/repetitions"
   ]
  },
  {
   "cell_type": "code",
   "execution_count": 56,
   "metadata": {},
   "outputs": [
    {
     "name": "stdout",
     "output_type": "stream",
     "text": [
      "0.0009912991028630635092361300664265399973373860120773315429687500000000000000000000000000000000000000\n"
     ]
    }
   ],
   "source": [
    "print(\"%.0100f\" % (sum(charges)/repetitions))"
   ]
  },
  {
   "cell_type": "code",
   "execution_count": null,
   "metadata": {},
   "outputs": [],
   "source": []
  }
 ],
 "metadata": {
  "kernelspec": {
   "display_name": "Python [conda env:SAML11-32]",
   "language": "python",
   "name": "conda-env-SAML11-32-py"
  },
  "language_info": {
   "codemirror_mode": {
    "name": "ipython",
    "version": 3
   },
   "file_extension": ".py",
   "mimetype": "text/x-python",
   "name": "python",
   "nbconvert_exporter": "python",
   "pygments_lexer": "ipython3",
   "version": "3.6.8"
  }
 },
 "nbformat": 4,
 "nbformat_minor": 2
}
