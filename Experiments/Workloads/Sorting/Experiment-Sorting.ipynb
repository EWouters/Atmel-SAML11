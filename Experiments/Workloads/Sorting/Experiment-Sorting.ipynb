{
 "cells": [
  {
   "cell_type": "markdown",
   "metadata": {},
   "source": [
    "## Import Libraries"
   ]
  },
  {
   "cell_type": "code",
   "execution_count": 1,
   "metadata": {},
   "outputs": [],
   "source": [
    "# %matplotlib ipympl\n",
    "# %matplotlib inline\n",
    "%matplotlib wx"
   ]
  },
  {
   "cell_type": "code",
   "execution_count": 2,
   "metadata": {},
   "outputs": [],
   "source": [
    "import matplotlib.pyplot as plt\n",
    "plt.ion()"
   ]
  },
  {
   "cell_type": "code",
   "execution_count": 3,
   "metadata": {},
   "outputs": [],
   "source": [
    "from pydgilib_extra import *\n",
    "from atprogram.atprogram import atprogram"
   ]
  },
  {
   "cell_type": "code",
   "execution_count": 4,
   "metadata": {},
   "outputs": [],
   "source": [
    "from os import getcwd, path, pardir"
   ]
  },
  {
   "cell_type": "markdown",
   "metadata": {},
   "source": [
    "## Compile and program project"
   ]
  },
  {
   "cell_type": "code",
   "execution_count": 5,
   "metadata": {},
   "outputs": [
    {
     "data": {
      "text/plain": [
       "'C:\\\\Users\\\\erikw_000\\\\Documents\\\\GitHub\\\\Atmel-SAML11\\\\Experiments\\\\Workloads\\\\Sorting\\\\Sorting-S'"
      ]
     },
     "execution_count": 5,
     "metadata": {},
     "output_type": "execute_result"
    }
   ],
   "source": [
    "project_path = path.join(getcwd(), \"Sorting-S\")\n",
    "project_path"
   ]
  },
  {
   "cell_type": "code",
   "execution_count": 6,
   "metadata": {},
   "outputs": [
    {
     "name": "stdout",
     "output_type": "stream",
     "text": [
      "Building file: .././main.c\n",
      "Invoking: ARM/GNU C Compiler : 6.3.1\n",
      "\"C:\\Program Files (x86)\\Atmel\\Studio\\7.0\\toolchain\\arm\\arm-gnu-toolchain\\bin\\arm-none-eabi-gcc.exe\"  -x c -mthumb -D__SAML11E16A__ -DDEBUG  -I\"C:\\Program Files (x86)\\Atmel\\Studio\\7.0\\Packs\\arm\\cmsis\\5.0.1\\CMSIS\\Include\" -I\"../Config\" -I\"..\" -I\"../examples\" -I\"../hal/include\" -I\"../hal/utils/include\" -I\"../hpl/core\" -I\"../hpl/crya\" -I\"../hpl/dmac\" -I\"../hpl/gclk\" -I\"../hpl/mclk\" -I\"../hpl/osc32kctrl\" -I\"../hpl/oscctrl\" -I\"../hpl/pm\" -I\"../hpl/port\" -I\"../hri\" -I\"../trustzone\" -I\"C:\\Program Files (x86)\\Atmel\\Studio\\7.0\\Packs\\Atmel\\SAML11_DFP\\1.0.91\\include\"  -O1 -ffunction-sections -mlong-calls -g3 -Wall -mcpu=cortex-m23 -c -std=gnu99 -mcmse -MD -MP -MF \"main.d\" -MT\"main.d\" -MT\"main.o\"   -o \"main.o\" \".././main.c\" \n",
      "Finished building: .././main.c\n",
      "Building target: Sorting-S.elf\n",
      "Invoking: ARM/GNU Linker : 6.3.1\n",
      "\"C:\\Program Files (x86)\\Atmel\\Studio\\7.0\\toolchain\\arm\\arm-gnu-toolchain\\bin\\arm-none-eabi-gcc.exe\" -o Sorting-S.elf  atmel_start.o Device_Startup/startup_saml11e16a.o Device_Startup/system_saml11e16a.o driver_init.o examples/driver_examples.o hal/src/hal_atomic.o hal/src/hal_delay.o hal/src/hal_gpio.o hal/src/hal_init.o hal/src/hal_io.o hal/src/hal_sleep.o hal/utils/src/utils_assert.o hal/utils/src/utils_event.o hal/utils/src/utils_list.o hal/utils/src/utils_syscalls.o hpl/core/hpl_core_m23_base.o hpl/core/hpl_init.o hpl/dmac/hpl_dmac.o hpl/gclk/hpl_gclk.o hpl/mclk/hpl_mclk.o hpl/osc32kctrl/hpl_osc32kctrl.o hpl/oscctrl/hpl_oscctrl.o hpl/pm/hpl_pm.o main.o trustzone/trustzone_manager.o trustzone/trustzone_veneer.o   -mthumb -Wl,-Map=\"Sorting-S.map\" --specs=nano.specs -Wl,--start-group -lm  -Wl,--end-group -L\"..\\\\Device_Startup\"  -Wl,--gc-sections -mcpu=cortex-m23 -Wl,--out-implib=libsecure_gateway_veneer.lib -Wl,--cmse-implib -T\"../Device_Startup/saml11_secure.ld\"  \n",
      "Finished building target: Sorting-S.elf\n",
      "\"C:\\Program Files (x86)\\Atmel\\Studio\\7.0\\toolchain\\arm\\arm-gnu-toolchain\\bin\\arm-none-eabi-objcopy.exe\" -O binary \"Sorting-S.elf\" \"Sorting-S.bin\"\n",
      "\"C:\\Program Files (x86)\\Atmel\\Studio\\7.0\\toolchain\\arm\\arm-gnu-toolchain\\bin\\arm-none-eabi-objcopy.exe\" -O ihex -R .eeprom -R .fuse -R .lock -R .signature  \"Sorting-S.elf\" \"Sorting-S.hex\"\n",
      "\"C:\\Program Files (x86)\\Atmel\\Studio\\7.0\\toolchain\\arm\\arm-gnu-toolchain\\bin\\arm-none-eabi-objcopy.exe\" -j .eeprom --set-section-flags=.eeprom=alloc,load --change-section-lma .eeprom=0 --no-change-warnings -O binary \"Sorting-S.elf\" \"Sorting-S.eep\" || exit 0\n",
      "\"C:\\Program Files (x86)\\Atmel\\Studio\\7.0\\toolchain\\arm\\arm-gnu-toolchain\\bin\\arm-none-eabi-objdump.exe\" -h -S \"Sorting-S.elf\" > \"Sorting-S.lss\"\n",
      "\"C:\\Program Files (x86)\\Atmel\\Studio\\7.0\\toolchain\\arm\\arm-gnu-toolchain\\bin\\arm-none-eabi-objcopy.exe\" -O srec -R .eeprom -R .fuse -R .lock -R .signature  \"Sorting-S.elf\" \"Sorting-S.srec\"\n",
      "\"C:\\Program Files (x86)\\Atmel\\Studio\\7.0\\toolchain\\arm\\arm-gnu-toolchain\\bin\\arm-none-eabi-size.exe\" \"Sorting-S.elf\"\n",
      "   text\t   data\t    bss\t    dec\t    hex\tfilename\n",
      "   1720\t   1024\t   1568\t   4312\t   10d8\tSorting-S.elf\n",
      "\n",
      "[DEBUG] Starting execution of \"chiperase\"\n",
      "[DEBUG] Starting process 'C:\\Program Files (x86)\\Atmel\\Studio\\7.0\\atbackend\\atbackend.exe'\n",
      "[DEBUG] Connecting to TCP:127.0.0.1:5172\n",
      "[INFO] Connected to edbg, fw version: 3.25\n",
      "[INFO] Firmware check OK\n",
      "[DEBUG] Command \"chiperase\" finished with return code 0\n",
      "[DEBUG] Starting execution of \"program\"\n",
      "[DEBUG] Memory segment base written at 0x00000000. Size = 0x00000678.\n",
      "[DEBUG] Memory segment base written at 0x00000678. Size = 0x00000400.\n",
      "[DEBUG] Memory segment base written at 0x0000fb00. Size = 0x00000020.\n",
      "[DEBUG] Memory segment base written at 0x00804000. Size = 0x00000020.\n",
      "[DEBUG] Command \"program\" finished with return code 0\n",
      "[DEBUG] Exit successfully.\n",
      "Firmware check OK\n",
      "Chiperase completed successfully\n",
      "Programming completed successfully.\n",
      "\n"
     ]
    },
    {
     "data": {
      "text/plain": [
       "0"
      ]
     },
     "execution_count": 6,
     "metadata": {},
     "output_type": "execute_result"
    }
   ],
   "source": [
    "atprogram(project_path, verbose=2)"
   ]
  },
  {
   "cell_type": "markdown",
   "metadata": {},
   "source": [
    "## Data Logging"
   ]
  },
  {
   "cell_type": "code",
   "execution_count": 7,
   "metadata": {},
   "outputs": [],
   "source": [
    "live_plot = True"
   ]
  },
  {
   "cell_type": "markdown",
   "metadata": {},
   "source": [
    "Create a figure for the plot."
   ]
  },
  {
   "cell_type": "code",
   "execution_count": 16,
   "metadata": {},
   "outputs": [],
   "source": [
    "if live_plot:\n",
    "    fig = plt.figure(figsize=(10, 6))\n",
    "    fig.show()"
   ]
  },
  {
   "cell_type": "markdown",
   "metadata": {},
   "source": [
    "Create the configuration dictionary for `DGILibExtra`."
   ]
  },
  {
   "cell_type": "code",
   "execution_count": 17,
   "metadata": {},
   "outputs": [],
   "source": [
    "if live_plot:\n",
    "    config_dict = {\n",
    "        \"loggers\": [LOGGER_OBJECT, LOGGER_PLOT, LOGGER_CSV],\n",
    "        \"plot_pins\": [False, False, True, True],\n",
    "        \"gpio_delay_time\" : 0.0007,\n",
    "        \"plot_pins_method\": \"line\",\n",
    "        \"plot_xmax\": 1,\n",
    "        \"fig\": fig,\n",
    "        \"window_title\": \"Experiment Sorting\",\n",
    "        \"file_name_base\": \"experiment_sorting\"\n",
    "    }\n",
    "else:\n",
    "    config_dict = {\n",
    "        \"loggers\": [LOGGER_OBJECT, LOGGER_CSV],\n",
    "        \"gpio_delay_time\" : 0.0007,\n",
    "        \"file_name_base\": \"experiment_sorting\"\n",
    "    }"
   ]
  },
  {
   "cell_type": "markdown",
   "metadata": {},
   "source": [
    "Stop criteria to pass to the logger:"
   ]
  },
  {
   "cell_type": "code",
   "execution_count": 18,
   "metadata": {},
   "outputs": [],
   "source": [
    "def stop_fn(logger_data):\n",
    "    return all(logger_data.gpio.values[-1])"
   ]
  },
  {
   "cell_type": "markdown",
   "metadata": {},
   "source": [
    "Stop criteria to pass to the parser:"
   ]
  },
  {
   "cell_type": "code",
   "execution_count": 19,
   "metadata": {},
   "outputs": [],
   "source": [
    "def stop_function(pin_values):\n",
    "    return all(pin_values)"
   ]
  },
  {
   "cell_type": "code",
   "execution_count": 20,
   "metadata": {},
   "outputs": [],
   "source": [
    "repetitions = 10"
   ]
  },
  {
   "cell_type": "markdown",
   "metadata": {},
   "source": [
    "Perform the measurement."
   ]
  },
  {
   "cell_type": "code",
   "execution_count": 21,
   "metadata": {},
   "outputs": [
    {
     "name": "stderr",
     "output_type": "stream",
     "text": [
      "D:\\Anaconda3\\envs\\SAML11-32\\lib\\site-packages\\matplotlib\\widgets.py:346: UserWarning: Attempting to set identical left==right results\n",
      "in singular transformations; automatically expanding.\n",
      "left=0, right=0\n",
      "  ax.set_xlim((valmin, valmax))\n",
      "c:\\users\\erikw_000\\documents\\github\\atmel-saml11\\python\\pydgilib\\pydgilib_extra\\dgilib_calculations.py:209: UserWarning: Corrected a start_index of 0 in power_and_time_per_pulse.\n",
      "  \"power_and_time_per_pulse.\")\n"
     ]
    },
    {
     "ename": "IndexError",
     "evalue": "list index out of range",
     "output_type": "error",
     "traceback": [
      "\u001b[1;31m---------------------------------------------------------------------------\u001b[0m",
      "\u001b[1;31mIndexError\u001b[0m                                Traceback (most recent call last)",
      "\u001b[1;32m<ipython-input-21-7ab88577bb1c>\u001b[0m in \u001b[0;36m<module>\u001b[1;34m\u001b[0m\n\u001b[0;32m     11\u001b[0m         \u001b[0mdgilib\u001b[0m\u001b[1;33m.\u001b[0m\u001b[0mdevice_reset\u001b[0m\u001b[1;33m(\u001b[0m\u001b[1;33m)\u001b[0m\u001b[1;33m\u001b[0m\u001b[1;33m\u001b[0m\u001b[0m\n\u001b[0;32m     12\u001b[0m         \u001b[0mdgilib\u001b[0m\u001b[1;33m.\u001b[0m\u001b[0mlogger\u001b[0m\u001b[1;33m.\u001b[0m\u001b[0mlog\u001b[0m\u001b[1;33m(\u001b[0m\u001b[1;36m2\u001b[0m\u001b[1;33m,\u001b[0m\u001b[0mstop_fn\u001b[0m\u001b[1;33m)\u001b[0m\u001b[1;33m\u001b[0m\u001b[1;33m\u001b[0m\u001b[0m\n\u001b[1;32m---> 13\u001b[1;33m         \u001b[0mcharge\u001b[0m\u001b[1;33m,\u001b[0m \u001b[0mtime\u001b[0m \u001b[1;33m=\u001b[0m \u001b[0mpower_and_time_per_pulse\u001b[0m\u001b[1;33m(\u001b[0m\u001b[0mdgilib\u001b[0m\u001b[1;33m.\u001b[0m\u001b[0mdata\u001b[0m\u001b[1;33m,\u001b[0m \u001b[1;36m2\u001b[0m\u001b[1;33m,\u001b[0m \u001b[1;36m0\u001b[0m\u001b[1;33m,\u001b[0m \u001b[0mstop_function\u001b[0m\u001b[1;33m=\u001b[0m\u001b[0mstop_function\u001b[0m\u001b[1;33m)\u001b[0m\u001b[1;33m\u001b[0m\u001b[1;33m\u001b[0m\u001b[0m\n\u001b[0m\u001b[0;32m     14\u001b[0m         \u001b[0mcharges\u001b[0m \u001b[1;33m+=\u001b[0m \u001b[0mcharge\u001b[0m\u001b[1;33m\u001b[0m\u001b[1;33m\u001b[0m\u001b[0m\n\u001b[0;32m     15\u001b[0m         \u001b[0mtimes\u001b[0m \u001b[1;33m+=\u001b[0m \u001b[0mtime\u001b[0m\u001b[1;33m\u001b[0m\u001b[1;33m\u001b[0m\u001b[0m\n",
      "\u001b[1;32mc:\\users\\erikw_000\\documents\\github\\atmel-saml11\\python\\pydgilib\\pydgilib_extra\\dgilib_calculations.py\u001b[0m in \u001b[0;36mpower_and_time_per_pulse\u001b[1;34m(logger_data, pin, start_time, end_time, pulse_direction, stop_function)\u001b[0m\n\u001b[0;32m    214\u001b[0m                                     logger_data.power.timestamps[i-1])\n\u001b[0;32m    215\u001b[0m                                    for i in range(start_index, end_index)))\n\u001b[1;32m--> 216\u001b[1;33m                 times.append(logger_data.power.timestamps[end_index] -\n\u001b[0m\u001b[0;32m    217\u001b[0m                              logger_data.power.timestamps[start_index])\n\u001b[0;32m    218\u001b[0m \u001b[1;33m\u001b[0m\u001b[0m\n",
      "\u001b[1;31mIndexError\u001b[0m: list index out of range"
     ]
    }
   ],
   "source": [
    "if live_plot:\n",
    "    fig.clf()\n",
    "    for ax in fig.get_axes():\n",
    "        ax.cla()\n",
    "        \n",
    "charges = []\n",
    "times = []\n",
    "\n",
    "with DGILibExtra(**config_dict) as dgilib:\n",
    "    for _ in range(repetitions):\n",
    "        dgilib.device_reset()\n",
    "        dgilib.logger.log(2,stop_fn)\n",
    "        charge, time = power_and_time_per_pulse(dgilib.data, 2, 0, stop_function=stop_function)\n",
    "        charges += charge\n",
    "        times += time\n",
    "        if len(charge) > 1 or len(time) > 1:\n",
    "            print(f\"Parsing of measurement data failed, charge:{charge}, time:{time}\")\n",
    "            break\n",
    "        # dgilib.logger.plotobj.ax.set_title(f\"Previous sample: charge: {charge[0]*1e3:.06} mC, time: {time[0]:.06} s\")\n",
    "        dgilib.empty_data()\n",
    "    \n",
    "    dgilib.logger.plotobj.ax.set_title(f\"Average of {repetitions} samples: charge: {sum(charges)/len(charges)*1e3:.06} mC, time: {sum(times)/len(times):.06} s\")"
   ]
  },
  {
   "cell_type": "code",
   "execution_count": null,
   "metadata": {},
   "outputs": [],
   "source": [
    "import pandas as pd"
   ]
  },
  {
   "cell_type": "code",
   "execution_count": null,
   "metadata": {},
   "outputs": [],
   "source": [
    "df = pd.DataFrame({'times': times, 'charges':charges})"
   ]
  },
  {
   "cell_type": "code",
   "execution_count": null,
   "metadata": {},
   "outputs": [],
   "source": [
    "df"
   ]
  },
  {
   "cell_type": "code",
   "execution_count": null,
   "metadata": {},
   "outputs": [],
   "source": [
    "df.describe()"
   ]
  },
  {
   "cell_type": "code",
   "execution_count": null,
   "metadata": {},
   "outputs": [],
   "source": [
    "sum(charges)/repetitions"
   ]
  },
  {
   "cell_type": "code",
   "execution_count": null,
   "metadata": {},
   "outputs": [],
   "source": [
    "print(\"%.0100f\" % (sum(charges)/repetitions))"
   ]
  },
  {
   "cell_type": "code",
   "execution_count": null,
   "metadata": {},
   "outputs": [],
   "source": []
  },
  {
   "cell_type": "code",
   "execution_count": null,
   "metadata": {},
   "outputs": [],
   "source": []
  }
 ],
 "metadata": {
  "kernelspec": {
   "display_name": "Python [conda env:SAML11-32]",
   "language": "python",
   "name": "conda-env-SAML11-32-py"
  },
  "language_info": {
   "codemirror_mode": {
    "name": "ipython",
    "version": 3
   },
   "file_extension": ".py",
   "mimetype": "text/x-python",
   "name": "python",
   "nbconvert_exporter": "python",
   "pygments_lexer": "ipython3",
   "version": "3.6.8"
  }
 },
 "nbformat": 4,
 "nbformat_minor": 2
}
