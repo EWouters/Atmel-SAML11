{
 "cells": [
  {
   "cell_type": "markdown",
   "metadata": {},
   "source": [
    "## Import Libraries"
   ]
  },
  {
   "cell_type": "code",
   "execution_count": 7,
   "metadata": {},
   "outputs": [],
   "source": [
    "# %matplotlib ipympl\n",
    "# %matplotlib inline\n",
    "%matplotlib wx"
   ]
  },
  {
   "cell_type": "code",
   "execution_count": 8,
   "metadata": {},
   "outputs": [],
   "source": [
    "import matplotlib.pyplot as plt\n",
    "plt.ion()"
   ]
  },
  {
   "cell_type": "code",
   "execution_count": 9,
   "metadata": {},
   "outputs": [],
   "source": [
    "from pydgilib_extra import *\n",
    "from atprogram.atprogram import atprogram"
   ]
  },
  {
   "cell_type": "code",
   "execution_count": 10,
   "metadata": {},
   "outputs": [],
   "source": [
    "from os import getcwd, path, pardir\n",
    "import pickle"
   ]
  },
  {
   "cell_type": "markdown",
   "metadata": {},
   "source": [
    "## Compile and program project"
   ]
  },
  {
   "cell_type": "code",
   "execution_count": 11,
   "metadata": {},
   "outputs": [
    {
     "data": {
      "text/plain": [
       "['.', 'AES_Flash-S']"
      ]
     },
     "execution_count": 11,
     "metadata": {},
     "output_type": "execute_result"
    }
   ],
   "source": [
    "project_path = [path.curdir, \"AES_Flash-S\"]\n",
    "project_path"
   ]
  },
  {
   "cell_type": "code",
   "execution_count": 30,
   "metadata": {},
   "outputs": [
    {
     "name": "stdout",
     "output_type": "stream",
     "text": [
      "Building file: .././main.c\n",
      "Invoking: ARM/GNU C Compiler : 6.3.1\n",
      "\"C:\\Program Files (x86)\\Atmel\\Studio\\7.0\\toolchain\\arm\\arm-gnu-toolchain\\bin\\arm-none-eabi-gcc.exe\"  -x c -mthumb -D__SAML11E16A__ -DDEBUG  -I\"C:\\Program Files (x86)\\Atmel\\Studio\\7.0\\Packs\\arm\\cmsis\\5.0.1\\CMSIS\\Include\" -I\"../Config\" -I\"..\" -I\"../examples\" -I\"../hal/include\" -I\"../hal/utils/include\" -I\"../hpl/core\" -I\"../hpl/crya\" -I\"../hpl/dmac\" -I\"../hpl/gclk\" -I\"../hpl/mclk\" -I\"../hpl/nvmctrl\" -I\"../hpl/osc32kctrl\" -I\"../hpl/oscctrl\" -I\"../hpl/pm\" -I\"../hpl/port\" -I\"../hri\" -I\"../trustzone\" -I\"../../../../shared\" -I\"C:\\Program Files (x86)\\Atmel\\Studio\\7.0\\Packs\\Atmel\\SAML11_DFP\\1.0.109\\include\"  -O1 -ffunction-sections -mlong-calls -g3 -Wall -mcpu=cortex-m23 -c -std=gnu99 -mcmse -MD -MP -MF \"main.d\" -MT\"main.d\" -MT\"main.o\"   -o \"main.o\" \".././main.c\" \n",
      "Finished building: .././main.c\n",
      "Building target: AES_Flash-S.elf\n",
      "Invoking: ARM/GNU Linker : 6.3.1\n",
      "\"C:\\Program Files (x86)\\Atmel\\Studio\\7.0\\toolchain\\arm\\arm-gnu-toolchain\\bin\\arm-none-eabi-gcc.exe\" -o AES_Flash-S.elf  gpio_init.o mbedtls/aes.o mbedtls/aesni.o mbedtls/arc4.o mbedtls/aria.o mbedtls/asn1parse.o mbedtls/asn1write.o mbedtls/base64.o mbedtls/bignum.o mbedtls/blowfish.o mbedtls/camellia.o mbedtls/ccm.o mbedtls/certs.o mbedtls/chacha20.o mbedtls/chachapoly.o mbedtls/cipher.o mbedtls/cipher_wrap.o mbedtls/cmac.o mbedtls/ctr_drbg.o mbedtls/debug.o mbedtls/des.o mbedtls/dhm.o mbedtls/ecdh.o mbedtls/ecdsa.o mbedtls/ecjpake.o mbedtls/ecp.o mbedtls/ecp_curves.o mbedtls/entropy.o mbedtls/entropy_poll.o mbedtls/error.o mbedtls/gcm.o mbedtls/havege.o mbedtls/hkdf.o mbedtls/hmac_drbg.o mbedtls/md.o mbedtls/md2.o mbedtls/md4.o mbedtls/md5.o mbedtls/md_wrap.o mbedtls/memory_buffer_alloc.o mbedtls/net_sockets.o mbedtls/nist_kw.o mbedtls/oid.o mbedtls/padlock.o mbedtls/pem.o mbedtls/pk.o mbedtls/pkcs11.o mbedtls/pkcs12.o mbedtls/pkcs5.o mbedtls/pkparse.o mbedtls/pkwrite.o mbedtls/pk_wrap.o mbedtls/platform.o mbedtls/platform_util.o mbedtls/poly1305.o mbedtls/ripemd160.o mbedtls/rsa.o mbedtls/rsa_internal.o mbedtls/sha1.o mbedtls/sha256.o mbedtls/sha512.o mbedtls/ssl_cache.o mbedtls/ssl_ciphersuites.o mbedtls/ssl_cli.o mbedtls/ssl_cookie.o mbedtls/ssl_srv.o mbedtls/ssl_ticket.o mbedtls/ssl_tls.o mbedtls/threading.o mbedtls/timing.o mbedtls/version.o mbedtls/version_features.o mbedtls/x509.o mbedtls/x509write_crt.o mbedtls/x509write_csr.o mbedtls/x509_create.o mbedtls/x509_crl.o mbedtls/x509_crt.o mbedtls/x509_csr.o mbedtls/xtea.o atmel_start.o Device_Startup/startup_saml11e16a.o Device_Startup/system_saml11e16a.o driver_init.o examples/driver_examples.o hal/src/hal_atomic.o hal/src/hal_delay.o hal/src/hal_gpio.o hal/src/hal_init.o hal/src/hal_io.o hal/src/hal_sleep.o hal/utils/src/utils_assert.o hal/utils/src/utils_event.o hal/utils/src/utils_list.o hal/utils/src/utils_syscalls.o hpl/core/hpl_core_m23_base.o hpl/core/hpl_init.o hpl/dmac/hpl_dmac.o hpl/gclk/hpl_gclk.o hpl/mclk/hpl_mclk.o hpl/nvmctrl/nvmctrl_lite.o hpl/osc32kctrl/hpl_osc32kctrl.o hpl/oscctrl/hpl_oscctrl.o hpl/pm/hpl_pm.o main.o trustzone/trustzone_manager.o trustzone/trustzone_veneer.o   -mthumb -Wl,-Map=\"AES_Flash-S.map\" --specs=nano.specs -Wl,--start-group -lm  -Wl,--end-group -L\"..\\\\Device_Startup\"  -Wl,--gc-sections -mcpu=cortex-m23 -Wl,--out-implib=libsecure_gateway_veneer.lib -Wl,--cmse-implib -T\"../Device_Startup/saml11_secure.ld\"  \n",
      "Finished building target: AES_Flash-S.elf\n",
      "\"C:\\Program Files (x86)\\Atmel\\Studio\\7.0\\toolchain\\arm\\arm-gnu-toolchain\\bin\\arm-none-eabi-objcopy.exe\" -O binary \"AES_Flash-S.elf\" \"AES_Flash-S.bin\"\n",
      "\"C:\\Program Files (x86)\\Atmel\\Studio\\7.0\\toolchain\\arm\\arm-gnu-toolchain\\bin\\arm-none-eabi-objcopy.exe\" -O ihex -R .eeprom -R .fuse -R .lock -R .signature  \"AES_Flash-S.elf\" \"AES_Flash-S.hex\"\n",
      "\"C:\\Program Files (x86)\\Atmel\\Studio\\7.0\\toolchain\\arm\\arm-gnu-toolchain\\bin\\arm-none-eabi-objcopy.exe\" -j .eeprom --set-section-flags=.eeprom=alloc,load --change-section-lma .eeprom=0 --no-change-warnings -O binary \"AES_Flash-S.elf\" \"AES_Flash-S.eep\" || exit 0\n",
      "\"C:\\Program Files (x86)\\Atmel\\Studio\\7.0\\toolchain\\arm\\arm-gnu-toolchain\\bin\\arm-none-eabi-objdump.exe\" -h -S \"AES_Flash-S.elf\" > \"AES_Flash-S.lss\"\n",
      "\"C:\\Program Files (x86)\\Atmel\\Studio\\7.0\\toolchain\\arm\\arm-gnu-toolchain\\bin\\arm-none-eabi-objcopy.exe\" -O srec -R .eeprom -R .fuse -R .lock -R .signature  \"AES_Flash-S.elf\" \"AES_Flash-S.srec\"\n",
      "\"C:\\Program Files (x86)\\Atmel\\Studio\\7.0\\toolchain\\arm\\arm-gnu-toolchain\\bin\\arm-none-eabi-size.exe\" \"AES_Flash-S.elf\"\n",
      "   text\t   data\t    bss\t    dec\t    hex\tfilename\n",
      "  17948\t    136\t   2144\t  20228\t   4f04\tAES_Flash-S.elf\n",
      "\n",
      "[DEBUG] Starting execution of \"chiperase\"\n",
      "[DEBUG] Starting process 'C:\\Program Files (x86)\\Atmel\\Studio\\7.0\\atbackend\\atbackend.exe'\n",
      "[DEBUG] Connecting to TCP:127.0.0.1:24272\n",
      "[INFO] Connected to edbg, fw version: 3.25\n",
      "[INFO] Firmware check OK\n",
      "[DEBUG] Command \"chiperase\" finished with return code 0\n",
      "[DEBUG] Starting execution of \"program\"\n",
      "[DEBUG] Memory segment base written at 0x00000000. Size = 0x000045dc.\n",
      "[DEBUG] Memory segment base written at 0x000045dc. Size = 0x00000088.\n",
      "[DEBUG] Memory segment base written at 0x0000fb00. Size = 0x00000020.\n",
      "[DEBUG] Memory segment base written at 0x00804000. Size = 0x00000020.\n",
      "[DEBUG] Command \"program\" finished with return code 0\n",
      "[DEBUG] Exit successfully.\n",
      "Firmware check OK\n",
      "Chiperase completed successfully\n",
      "Programming completed successfully.\n",
      "\n"
     ]
    },
    {
     "data": {
      "text/plain": [
       "0"
      ]
     },
     "execution_count": 30,
     "metadata": {},
     "output_type": "execute_result"
    }
   ],
   "source": [
    "atprogram(path.abspath(path.join(*project_path)), verbose=2)"
   ]
  },
  {
   "cell_type": "markdown",
   "metadata": {},
   "source": [
    "## Data Logging"
   ]
  },
  {
   "cell_type": "code",
   "execution_count": 12,
   "metadata": {},
   "outputs": [],
   "source": [
    "live_plot = False"
   ]
  },
  {
   "cell_type": "markdown",
   "metadata": {},
   "source": [
    "Create a figure for the plot."
   ]
  },
  {
   "cell_type": "code",
   "execution_count": 13,
   "metadata": {},
   "outputs": [],
   "source": [
    "if live_plot:\n",
    "    fig = plt.figure(figsize=(6, 4))\n",
    "    fig.show()"
   ]
  },
  {
   "cell_type": "markdown",
   "metadata": {},
   "source": [
    "Create the configuration dictionary for `DGILibExtra`."
   ]
  },
  {
   "cell_type": "code",
   "execution_count": 14,
   "metadata": {},
   "outputs": [],
   "source": [
    "config_dict = {\n",
    "    \"loggers\": [LOGGER_OBJECT, LOGGER_CSV],\n",
    "    \"file_name_base\": \"experiment_aes_flash\"\n",
    "}\n",
    "config_dict_plot = {\n",
    "    \"loggers\": [LOGGER_OBJECT, LOGGER_PLOT, LOGGER_CSV],\n",
    "    \"plot_pins\": [False, False, True, True],\n",
    "    \"plot_pins_method\": \"line\",\n",
    "    \"plot_xmax\": 5,\n",
    "    \"window_title\": \"Experiment AES-256 Flash\",\n",
    "}"
   ]
  },
  {
   "cell_type": "markdown",
   "metadata": {},
   "source": [
    "Stop criteria to pass to the logger:"
   ]
  },
  {
   "cell_type": "code",
   "execution_count": 15,
   "metadata": {},
   "outputs": [],
   "source": [
    "def stop_fn(logger_data):\n",
    "    return all(logger_data.gpio.values[-1])"
   ]
  },
  {
   "cell_type": "markdown",
   "metadata": {},
   "source": [
    "Perform the measurement."
   ]
  },
  {
   "cell_type": "code",
   "execution_count": 35,
   "metadata": {},
   "outputs": [],
   "source": [
    "data = []\n",
    "cd = config_dict.copy()\n",
    "if live_plot:\n",
    "    fig.clf()\n",
    "    for ax in fig.get_axes():\n",
    "        ax.cla()\n",
    "    \n",
    "    cd.update(config_dict_plot)\n",
    "    cd[\"fig\"] = fig\n",
    "    \n",
    "with DGILibExtra(**cd) as dgilib:\n",
    "    dgilib.device_reset()\n",
    "    dgilib.logger.log(1000,stop_fn)\n",
    "    data = dgilib.data"
   ]
  },
  {
   "cell_type": "markdown",
   "metadata": {},
   "source": [
    "# Store Data"
   ]
  },
  {
   "cell_type": "code",
   "execution_count": 36,
   "metadata": {},
   "outputs": [],
   "source": [
    "import pickle"
   ]
  },
  {
   "cell_type": "code",
   "execution_count": 36,
   "metadata": {},
   "outputs": [],
   "source": [
    "pickle.dump(data, open(\"aes_flash_logger_data.p\", \"wb\"))"
   ]
  },
  {
   "cell_type": "markdown",
   "metadata": {},
   "source": [
    "# Load Data"
   ]
  },
  {
   "cell_type": "code",
   "execution_count": 18,
   "metadata": {},
   "outputs": [],
   "source": [
    "data = pickle.load(open(\"aes_flash_logger_data.p\", \"rb\"))"
   ]
  },
  {
   "cell_type": "code",
   "execution_count": 17,
   "metadata": {},
   "outputs": [],
   "source": [
    "iteration = 0\n",
    "name = \"AES-256_Flash\"\n",
    "data = pickle.load(open(path.join(path.pardir, path.pardir, f\"{name}_{iteration}.p\"), \"rb\"))"
   ]
  },
  {
   "cell_type": "markdown",
   "metadata": {},
   "source": [
    "## Analysis"
   ]
  },
  {
   "cell_type": "markdown",
   "metadata": {},
   "source": [
    "Create Stop Function to stop parsing the data when all pins are high."
   ]
  },
  {
   "cell_type": "code",
   "execution_count": 19,
   "metadata": {},
   "outputs": [],
   "source": [
    "def stop_function(pin_values):\n",
    "    return all(pin_values)"
   ]
  },
  {
   "cell_type": "markdown",
   "metadata": {},
   "source": [
    "Parse the data."
   ]
  },
  {
   "cell_type": "code",
   "execution_count": 20,
   "metadata": {},
   "outputs": [],
   "source": [
    "aes_charge, aes_time = power_and_time_per_pulse(data, 2, stop_function=stop_function)"
   ]
  },
  {
   "cell_type": "code",
   "execution_count": 21,
   "metadata": {},
   "outputs": [],
   "source": [
    "flash_charge, flash_time = power_and_time_per_pulse(data, 3, stop_function=stop_function)"
   ]
  },
  {
   "cell_type": "code",
   "execution_count": 22,
   "metadata": {},
   "outputs": [
    {
     "name": "stdout",
     "output_type": "stream",
     "text": [
      "750\n"
     ]
    }
   ],
   "source": [
    "length = len(aes_charge)\n",
    "assert length == len(aes_time)\n",
    "assert length == len(flash_charge)\n",
    "assert length == len(flash_time)\n",
    "print(length)"
   ]
  },
  {
   "cell_type": "code",
   "execution_count": 23,
   "metadata": {},
   "outputs": [],
   "source": [
    "aes_encrypt_charge = aes_charge[0::2]\n",
    "aes_decrypt_charge = aes_charge[1::2]\n",
    "aes_encrypt_time = aes_time[0::2]\n",
    "aes_decrypt_time = aes_time[1::2]"
   ]
  },
  {
   "cell_type": "code",
   "execution_count": 24,
   "metadata": {},
   "outputs": [],
   "source": [
    "aes_flash_write_charge = flash_charge[0::2]\n",
    "aes_flash_read_charge = flash_charge[1::2]\n",
    "aes_flash_write_time = flash_time[0::2]\n",
    "aes_flash_read_time = flash_time[1::2]"
   ]
  },
  {
   "cell_type": "code",
   "execution_count": 25,
   "metadata": {},
   "outputs": [
    {
     "data": {
      "text/plain": [
       "(375, 375, 375, 375, 375, 375, 375, 375)"
      ]
     },
     "execution_count": 25,
     "metadata": {},
     "output_type": "execute_result"
    }
   ],
   "source": [
    "len(aes_encrypt_charge), len(aes_decrypt_charge), len(aes_encrypt_time), len(aes_decrypt_time), len(aes_flash_write_charge), len(aes_flash_read_charge), len(aes_flash_write_time), len(aes_flash_read_time)"
   ]
  },
  {
   "cell_type": "code",
   "execution_count": 26,
   "metadata": {},
   "outputs": [],
   "source": [
    "drop = 0\n",
    "cutoff = min(len(aes_encrypt_charge), len(aes_decrypt_charge), len(aes_encrypt_time), len(aes_decrypt_time), len(aes_flash_write_charge), len(aes_flash_read_charge), len(aes_flash_write_time), len(aes_flash_read_time)) - drop\n",
    "aes_encrypt_charge = aes_encrypt_charge[:cutoff]\n",
    "aes_decrypt_charge = aes_decrypt_charge[:cutoff]\n",
    "aes_encrypt_time = aes_encrypt_time[:cutoff]\n",
    "aes_decrypt_time = aes_decrypt_time[:cutoff]\n",
    "aes_flash_write_charge = aes_flash_write_charge[:cutoff]\n",
    "aes_flash_read_charge = aes_flash_read_charge[:cutoff]\n",
    "aes_flash_write_time = aes_flash_write_time[:cutoff]\n",
    "aes_flash_read_time = aes_flash_read_time[:cutoff]"
   ]
  },
  {
   "cell_type": "code",
   "execution_count": 27,
   "metadata": {},
   "outputs": [
    {
     "name": "stdout",
     "output_type": "stream",
     "text": [
      "375\n"
     ]
    }
   ],
   "source": [
    "length = len(aes_encrypt_charge)\n",
    "assert length == len(aes_decrypt_charge)\n",
    "assert length == len(aes_encrypt_time)\n",
    "assert length == len(aes_decrypt_time)\n",
    "assert length == len(aes_flash_write_charge)\n",
    "assert length == len(aes_flash_read_charge)\n",
    "assert length == len(aes_flash_write_time)\n",
    "assert length == len(aes_flash_read_time)\n",
    "print(length)"
   ]
  },
  {
   "cell_type": "markdown",
   "metadata": {},
   "source": [
    "# Convert to Joule"
   ]
  },
  {
   "cell_type": "code",
   "execution_count": 28,
   "metadata": {},
   "outputs": [],
   "source": [
    "voltage = 3.33\n",
    "j_scale = 1e3 # m\n",
    "t_scale = 1e3 # m\n",
    "model_j_scale = 1e6 # n\n",
    "model_t_scale = 1e3 # u\n",
    "\n",
    "experiment_name = 'AES-256'"
   ]
  },
  {
   "cell_type": "code",
   "execution_count": 29,
   "metadata": {},
   "outputs": [],
   "source": [
    "aes_encrypt_energy = aes_encrypt_charge[:cutoff]\n",
    "aes_flash_write_energy = aes_flash_write_charge[:cutoff]\n",
    "aes_flash_read_energy = aes_flash_read_charge[:cutoff]\n",
    "aes_decrypt_energy = aes_decrypt_charge[:cutoff]\n",
    "aes_encrypt_time_s = aes_encrypt_time[:cutoff]\n",
    "aes_flash_write_time_s = aes_flash_write_time[:cutoff]\n",
    "aes_flash_read_time_s = aes_flash_read_time[:cutoff]\n",
    "aes_decrypt_time_s = aes_decrypt_time[:cutoff]\n",
    "\n",
    "for i in range(len(aes_encrypt_energy)):\n",
    "    aes_encrypt_energy[i] = aes_encrypt_energy[i] * voltage * j_scale\n",
    "for i in range(len(aes_flash_write_energy)):\n",
    "    aes_flash_write_energy[i] = aes_flash_write_energy[i] * voltage * j_scale\n",
    "for i in range(len(aes_flash_read_energy)):\n",
    "    aes_flash_read_energy[i] = aes_flash_read_energy[i] * voltage * j_scale\n",
    "for i in range(len(aes_decrypt_energy)):\n",
    "    aes_decrypt_energy[i] = aes_decrypt_energy[i] * voltage * j_scale\n",
    "    \n",
    "for i in range(len(aes_encrypt_time_s)):\n",
    "    aes_encrypt_time_s[i] = aes_encrypt_time_s[i] * t_scale\n",
    "for i in range(len(aes_flash_write_time_s)):\n",
    "    aes_flash_write_time_s[i] = aes_flash_write_time_s[i] * t_scale\n",
    "for i in range(len(aes_flash_read_time_s)):\n",
    "    aes_flash_read_time_s[i] = aes_flash_read_time_s[i] * t_scale\n",
    "for i in range(len(aes_decrypt_time_s)):\n",
    "    aes_decrypt_time_s[i] = aes_decrypt_time_s[i] * t_scale"
   ]
  },
  {
   "cell_type": "code",
   "execution_count": 30,
   "metadata": {},
   "outputs": [
    {
     "name": "stdout",
     "output_type": "stream",
     "text": [
      "MAX_NUM_BYTES: 6000\n"
     ]
    }
   ],
   "source": [
    "MBEDTLS_AES_BLOCK_SIZE = 16\n",
    "STEP_SIZE = MBEDTLS_AES_BLOCK_SIZE\n",
    "MIN_NUM_BYTES = STEP_SIZE\n",
    "num_bytes = range(MIN_NUM_BYTES, MIN_NUM_BYTES + STEP_SIZE * len(aes_encrypt_energy), STEP_SIZE)\n",
    "print(f\"MAX_NUM_BYTES: {num_bytes[-1]}\")"
   ]
  },
  {
   "cell_type": "code",
   "execution_count": 31,
   "metadata": {},
   "outputs": [],
   "source": [
    "from lmfit import Model\n",
    "\n",
    "def line(x, slope, intercept):\n",
    "    \"\"\"a line\"\"\"\n",
    "    return [slope*i + intercept for i in x]\n",
    "\n",
    "mod = Model(line)\n",
    "pars = mod.make_params(slope=0, intercept=1)\n",
    "# pars['intercept'].set(min=0)"
   ]
  },
  {
   "cell_type": "code",
   "execution_count": 57,
   "metadata": {},
   "outputs": [
    {
     "name": "stdout",
     "output_type": "stream",
     "text": [
      "[[Model]]\n",
      "    Model(line)\n",
      "[[Fit Statistics]]\n",
      "    # fitting method   = leastsq\n",
      "    # function evals   = 6\n",
      "    # data points      = 375\n",
      "    # variables        = 2\n",
      "    chi-square         = 4.8262e-05\n",
      "    reduced chi-square = 1.2939e-07\n",
      "    Akaike info crit   = -5945.66985\n",
      "    Bayesian info crit = -5937.81600\n",
      "[[Variables]]\n",
      "    slope:      1.0720e-04 +/- 1.0724e-08 (0.01%) (init = 0)\n",
      "    intercept: -5.3293e-04 +/- 3.7225e-05 (6.98%) (init = 1)\n",
      "[[Correlations]] (unreported correlations are < 0.100)\n",
      "    C(slope, intercept) = -0.867\n",
      "\n",
      "[[Model]]\n",
      "    Model(line)\n",
      "[[Fit Statistics]]\n",
      "    # fitting method   = leastsq\n",
      "    # function evals   = 6\n",
      "    # data points      = 375\n",
      "    # variables        = 2\n",
      "    chi-square         = 0.01197788\n",
      "    reduced chi-square = 3.2112e-05\n",
      "    Akaike info crit   = -3877.85741\n",
      "    Bayesian info crit = -3870.00356\n",
      "[[Variables]]\n",
      "    slope:      8.9432e-05 +/- 1.6895e-07 (0.19%) (init = 0)\n",
      "    intercept:  0.01535507 +/- 5.8643e-04 (3.82%) (init = 1)\n",
      "[[Correlations]] (unreported correlations are < 0.100)\n",
      "    C(slope, intercept) = -0.867\n",
      "\n",
      "[[Model]]\n",
      "    Model(line)\n",
      "[[Fit Statistics]]\n",
      "    # fitting method   = leastsq\n",
      "    # function evals   = 7\n",
      "    # data points      = 375\n",
      "    # variables        = 2\n",
      "    chi-square         = 7.7967e-07\n",
      "    reduced chi-square = 2.0903e-09\n",
      "    Akaike info crit   = -7492.74361\n",
      "    Bayesian info crit = -7484.88976\n",
      "[[Variables]]\n",
      "    slope:      2.5850e-06 +/- 1.3631e-09 (0.05%) (init = 0)\n",
      "    intercept: -1.4228e-05 +/- 4.7313e-06 (33.25%) (init = 1)\n",
      "[[Correlations]] (unreported correlations are < 0.100)\n",
      "    C(slope, intercept) = -0.867\n",
      "\n",
      "[[Model]]\n",
      "    Model(line)\n",
      "[[Fit Statistics]]\n",
      "    # fitting method   = leastsq\n",
      "    # function evals   = 7\n",
      "    # data points      = 375\n",
      "    # variables        = 2\n",
      "    chi-square         = 5.2980e-05\n",
      "    reduced chi-square = 1.4204e-07\n",
      "    Akaike info crit   = -5910.69527\n",
      "    Bayesian info crit = -5902.84142\n",
      "[[Variables]]\n",
      "    slope:      1.1183e-04 +/- 1.1236e-08 (0.01%) (init = 0)\n",
      "    intercept: -5.4529e-04 +/- 3.9002e-05 (7.15%) (init = 1)\n",
      "[[Correlations]] (unreported correlations are < 0.100)\n",
      "    C(slope, intercept) = -0.867\n",
      "\n",
      "[[Model]]\n",
      "    Model(line)\n",
      "[[Fit Statistics]]\n",
      "    # fitting method   = leastsq\n",
      "    # function evals   = 10\n",
      "    # data points      = 375\n",
      "    # variables        = 2\n",
      "    chi-square         = 0.49591217\n",
      "    reduced chi-square = 0.00132952\n",
      "    Akaike info crit   = -2481.60593\n",
      "    Bayesian info crit = -2473.75208\n",
      "[[Variables]]\n",
      "    slope:      0.06133993 +/- 1.0871e-06 (0.00%) (init = 0)\n",
      "    intercept:  0.01635245 +/- 0.00377341 (23.08%) (init = 1)\n",
      "[[Correlations]] (unreported correlations are < 0.100)\n",
      "    C(slope, intercept) = -0.867\n",
      "\n",
      "[[Model]]\n",
      "    Model(line)\n",
      "[[Fit Statistics]]\n",
      "    # fitting method   = leastsq\n",
      "    # function evals   = 6\n",
      "    # data points      = 375\n",
      "    # variables        = 2\n",
      "    chi-square         = 239.802134\n",
      "    reduced chi-square = 0.64290116\n",
      "    Akaike info crit   = -163.666957\n",
      "    Bayesian info crit = -155.813105\n",
      "[[Variables]]\n",
      "    slope:      0.01429613 +/- 2.3905e-05 (0.17%) (init = 0)\n",
      "    intercept:  2.23475491 +/- 0.08297661 (3.71%) (init = 1)\n",
      "[[Correlations]] (unreported correlations are < 0.100)\n",
      "    C(slope, intercept) = -0.867\n",
      "\n",
      "[[Model]]\n",
      "    Model(line)\n",
      "[[Fit Statistics]]\n",
      "    # fitting method   = leastsq\n",
      "    # function evals   = 6\n",
      "    # data points      = 375\n",
      "    # variables        = 2\n",
      "    chi-square         = 0.29034215\n",
      "    reduced chi-square = 7.7840e-04\n",
      "    Akaike info crit   = -2682.35797\n",
      "    Bayesian info crit = -2674.50412\n",
      "[[Variables]]\n",
      "    slope:      0.00213633 +/- 8.3181e-07 (0.04%) (init = 0)\n",
      "    intercept:  0.01282778 +/- 0.00288725 (22.51%) (init = 1)\n",
      "[[Correlations]] (unreported correlations are < 0.100)\n",
      "    C(slope, intercept) = -0.867\n",
      "\n",
      "[[Model]]\n",
      "    Model(line)\n",
      "[[Fit Statistics]]\n",
      "    # fitting method   = leastsq\n",
      "    # function evals   = 10\n",
      "    # data points      = 375\n",
      "    # variables        = 2\n",
      "    chi-square         = 0.52487123\n",
      "    reduced chi-square = 0.00140716\n",
      "    Akaike info crit   = -2460.32313\n",
      "    Bayesian info crit = -2452.46928\n",
      "[[Variables]]\n",
      "    slope:      0.06448226 +/- 1.1184e-06 (0.00%) (init = 0)\n",
      "    intercept:  0.01269976 +/- 0.00388198 (30.57%) (init = 1)\n",
      "[[Correlations]] (unreported correlations are < 0.100)\n",
      "    C(slope, intercept) = -0.867\n",
      "\n",
      "[[Model]]\n",
      "    Model(line)\n",
      "[[Fit Statistics]]\n",
      "    # fitting method   = leastsq\n",
      "    # function evals   = 6\n",
      "    # data points      = 375\n",
      "    # variables        = 2\n",
      "    chi-square         = 0.01046088\n",
      "    reduced chi-square = 2.8045e-05\n",
      "    Akaike info crit   = -3928.63938\n",
      "    Bayesian info crit = -3920.78553\n",
      "[[Variables]]\n",
      "    slope:      3.1105e-04 +/- 1.5789e-07 (0.05%) (init = 0)\n",
      "    intercept:  0.01426262 +/- 5.4804e-04 (3.84%) (init = 1)\n",
      "[[Correlations]] (unreported correlations are < 0.100)\n",
      "    C(slope, intercept) = -0.867\n",
      "\n",
      "[[Model]]\n",
      "    Model(line)\n",
      "[[Fit Statistics]]\n",
      "    # fitting method   = leastsq\n",
      "    # function evals   = 13\n",
      "    # data points      = 375\n",
      "    # variables        = 2\n",
      "    chi-square         = 235.660062\n",
      "    reduced chi-square = 0.63179641\n",
      "    Akaike info crit   = -170.200878\n",
      "    Bayesian info crit = -162.347026\n",
      "[[Variables]]\n",
      "    slope:      0.14225465 +/- 2.3698e-05 (0.02%) (init = 0)\n",
      "    intercept:  2.27663533 +/- 0.08225683 (3.61%) (init = 1)\n",
      "[[Correlations]] (unreported correlations are < 0.100)\n",
      "    C(slope, intercept) = -0.867\n",
      "\n"
     ]
    }
   ],
   "source": [
    "results = []\n",
    "ylabels = (['Energy [mJ]'] * 2 + ['Time [ms]'] * 2) * 2 + ['Energy [mJ]'] + ['Time [ms]']\n",
    "parameter_names = [\n",
    "    'Encrypt Energy',\n",
    "    'Flash Write Energy',\n",
    "    'Flash Read Energy',\n",
    "    'Decrypt Energy',\n",
    "    'Encrypt Time',\n",
    "    'Flash Write Time',\n",
    "    'Flash Read Time',\n",
    "    'Decrypt Time',\n",
    "    'Total Energy',\n",
    "    'Total Time',\n",
    "]\n",
    "for y in [aes_encrypt_energy, aes_flash_write_energy, aes_flash_read_energy, aes_decrypt_energy, aes_encrypt_time_s, aes_flash_write_time_s, aes_flash_read_time_s, aes_decrypt_time_s,\n",
    "          [e + w + r + d for (e,w,r,d) in zip(aes_encrypt_energy, aes_flash_write_energy, aes_flash_read_energy, aes_decrypt_energy)],\n",
    "          [e + w + r + d for (e,w,r,d) in zip(aes_encrypt_time_s, aes_flash_write_time_s, aes_flash_read_time_s, aes_decrypt_time_s)]]:\n",
    "    result = mod.fit(y, pars, x=num_bytes)\n",
    "    print(result.fit_report())\n",
    "    fig, grid = result.plot(\n",
    "        xlabel='Checkpoint Size [Bytes]',\n",
    "        ylabel=ylabels[len(results)])\n",
    "    fig.tight_layout(rect=(0.05, 0.05, 1, 1))\n",
    "    fig.set_size_inches(5, 4.5, forward=True)\n",
    "    fig.canvas.set_window_title(\n",
    "        f\"Residuals of {experiment_name} {parameter_names[len(results)]}\")\n",
    "    fig.show()\n",
    "    results.append(result)"
   ]
  },
  {
   "cell_type": "code",
   "execution_count": 33,
   "metadata": {},
   "outputs": [],
   "source": [
    "fig2 = plt.figure(figsize=(8, 6))\n",
    "fig2.canvas.set_window_title(f\"Analysis {experiment_name}\")"
   ]
  },
  {
   "cell_type": "code",
   "execution_count": 34,
   "metadata": {},
   "outputs": [],
   "source": [
    "charge_color = 'r'\n",
    "time_color = 'b'"
   ]
  },
  {
   "cell_type": "code",
   "execution_count": 35,
   "metadata": {},
   "outputs": [],
   "source": [
    "fig2.clf()\n",
    "# fig2.suptitle(\"Energy analysis of AES\")\n",
    "ax1 = fig2.add_subplot(1, 1, 1)\n",
    "ax2 = ax1.twinx()\n",
    "ax1.set_xlabel('Checkpoint Size [Bytes]')\n",
    "ax1.set_ylabel('Energy [mJ]', color=charge_color)\n",
    "ax2.set_ylabel('Time [ms]', color=time_color)\n",
    "ax1.tick_params('y', colors=charge_color)\n",
    "ax2.tick_params('y', colors=time_color)"
   ]
  },
  {
   "cell_type": "code",
   "execution_count": 50,
   "metadata": {},
   "outputs": [],
   "source": [
    "lines = []\n",
    "lines += ax1.plot(num_bytes, aes_encrypt_energy, charge_color+'-', label=f'{parameter_names[len(lines)]}')\n",
    "lines += ax1.plot(num_bytes, aes_flash_write_energy, charge_color+'-.', label=f'{parameter_names[len(lines)]}')\n",
    "lines += ax1.plot(num_bytes, aes_flash_read_energy, charge_color+':', label=f'{parameter_names[len(lines)]}')\n",
    "lines += ax1.plot(num_bytes, aes_decrypt_energy, charge_color+'--', label=f'{parameter_names[len(lines)]}')\n",
    "lines += ax2.plot(num_bytes, aes_encrypt_time_s, time_color+'-', label=f'{parameter_names[len(lines)]}')\n",
    "lines += ax2.plot(num_bytes, aes_flash_write_time_s, time_color+'-.', label=f'{parameter_names[len(lines)]}')\n",
    "lines += ax2.plot(num_bytes, aes_flash_read_time_s, time_color+':', label=f'{parameter_names[len(lines)]}')\n",
    "lines += ax2.plot(num_bytes, aes_decrypt_time_s, time_color+'--', label=f'{parameter_names[len(lines)]}')\n",
    "ax1.legend(handles=lines)\n",
    "ax1.set_title(\n",
    "    f\"{parameter_names[0]}: Slope {results[0].params['slope'].value * model_j_scale:.04} nJ/B, Intercept {results[0].params['intercept'].value * model_j_scale:.04} nJ\\n\" +\n",
    "    f\"{parameter_names[1]}: Slope {results[1].params['slope'].value * model_j_scale:.04} nJ/B, Intercept {results[1].params['intercept'].value * model_j_scale:.04} nJ\\n\" +\n",
    "    f\"{parameter_names[2]}: Slope {results[2].params['slope'].value * model_j_scale:.04} nJ/B, Intercept {results[2].params['intercept'].value * model_j_scale:.04} nJ\\n\" +\n",
    "    f\"{parameter_names[3]}: Slope {results[3].params['slope'].value * model_j_scale:.04} nJ/B, Intercept {results[3].params['intercept'].value * model_j_scale:.04} nJ\\n\" +\n",
    "    f\"{parameter_names[4]}: Slope {results[4].params['slope'].value * model_t_scale:.04} $\\mu$s/B, Intercept {results[4].params['intercept'].value * model_t_scale:.04} $\\mu$s\\n\" +\n",
    "    f\"{parameter_names[5]}: Slope {results[5].params['slope'].value * model_t_scale:.04} $\\mu$s/B, Intercept {results[5].params['intercept'].value * model_t_scale:.04} $\\mu$s\\n\" +\n",
    "    f\"{parameter_names[6]}: Slope {results[6].params['slope'].value * model_t_scale:.04} $\\mu$s/B, Intercept {results[6].params['intercept'].value * model_t_scale:.04} $\\mu$s\\n\" +\n",
    "    f\"{parameter_names[7]}: Slope {results[7].params['slope'].value * model_t_scale:.04} $\\mu$s/B, Intercept {results[7].params['intercept'].value * model_t_scale:.04} $\\mu$s\\n\" +\n",
    "    f\"{parameter_names[8]}: Slope {results[8].params['slope'].value * model_j_scale:.04} nJ/B, Intercept {results[8].params['intercept'].value * model_j_scale:.04} nJ\\n\" +\n",
    "    f\"{parameter_names[9]}: Slope {results[9].params['slope'].value * model_t_scale:.04} $\\mu$s/B, Intercept {results[9].params['intercept'].value * model_t_scale:.04} $\\mu$s\\n\")\n",
    "fig2.tight_layout()\n",
    "fig2.show()"
   ]
  },
  {
   "cell_type": "code",
   "execution_count": 59,
   "metadata": {},
   "outputs": [
    {
     "name": "stdout",
     "output_type": "stream",
     "text": [
      "Encrypt Energy: Slope 107.20141183908533833 nJ/B, Intercept -532.93235653406929941 nJ\n",
      "Flash Write Energy: Slope 89.432015318286602223 nJ/B, Intercept 15355.067682061548112 nJ\n",
      "Flash Read Energy: Slope 2.5849720630519326114 nJ/B, Intercept -14.22819186988029827 nJ\n",
      "Decrypt Energy: Slope 111.83201687384840284 nJ/B, Intercept -545.28747116782551529 nJ\n",
      "Encrypt Time: Slope 61.339934713978017555 $\\mu$s/B, Intercept 16.352446417268552636 $\\mu$s\n",
      "Flash Write Time: Slope 14.296131583214407357 $\\mu$s/B, Intercept 2234.7549069986694121 $\\mu$s\n",
      "Flash Read Time: Slope 2.1363268658369252151 $\\mu$s/B, Intercept 12.827784387678292433 $\\mu$s\n",
      "Decrypt Time: Slope 64.482258911372625221 $\\mu$s/B, Intercept 12.699757136522526579 $\\mu$s\n",
      "Total Energy: Slope 311.05041658406918259 nJ/B, Intercept 14262.617678520451591 nJ\n",
      "Total Time: Slope 142.2546519574131878 $\\mu$s/B, Intercept 2276.6353298404524139 $\\mu$s\n",
      "\n"
     ]
    }
   ],
   "source": [
    "print(\n",
    "    f\"{parameter_names[0]}: Slope {results[0].params['slope'].value * model_j_scale:.020} nJ/B, Intercept {results[0].params['intercept'].value * model_j_scale:.020} nJ\\n\" +\n",
    "    f\"{parameter_names[1]}: Slope {results[1].params['slope'].value * model_j_scale:.020} nJ/B, Intercept {results[1].params['intercept'].value * model_j_scale:.020} nJ\\n\" +\n",
    "    f\"{parameter_names[2]}: Slope {results[2].params['slope'].value * model_j_scale:.020} nJ/B, Intercept {results[2].params['intercept'].value * model_j_scale:.020} nJ\\n\" +\n",
    "    f\"{parameter_names[3]}: Slope {results[3].params['slope'].value * model_j_scale:.020} nJ/B, Intercept {results[3].params['intercept'].value * model_j_scale:.020} nJ\\n\" +\n",
    "    f\"{parameter_names[4]}: Slope {results[4].params['slope'].value * model_t_scale:.020} $\\mu$s/B, Intercept {results[4].params['intercept'].value * model_t_scale:.020} $\\mu$s\\n\" +\n",
    "    f\"{parameter_names[5]}: Slope {results[5].params['slope'].value * model_t_scale:.020} $\\mu$s/B, Intercept {results[5].params['intercept'].value * model_t_scale:.020} $\\mu$s\\n\" +\n",
    "    f\"{parameter_names[6]}: Slope {results[6].params['slope'].value * model_t_scale:.020} $\\mu$s/B, Intercept {results[6].params['intercept'].value * model_t_scale:.020} $\\mu$s\\n\" +\n",
    "    f\"{parameter_names[7]}: Slope {results[7].params['slope'].value * model_t_scale:.020} $\\mu$s/B, Intercept {results[7].params['intercept'].value * model_t_scale:.020} $\\mu$s\\n\" +\n",
    "    f\"{parameter_names[8]}: Slope {results[8].params['slope'].value * model_j_scale:.020} nJ/B, Intercept {results[8].params['intercept'].value * model_j_scale:.020} nJ\\n\" +\n",
    "    f\"{parameter_names[9]}: Slope {results[9].params['slope'].value * model_t_scale:.020} $\\mu$s/B, Intercept {results[9].params['intercept'].value * model_t_scale:.020} $\\mu$s\\n\"\n",
    ")"
   ]
  },
  {
   "cell_type": "code",
   "execution_count": 51,
   "metadata": {},
   "outputs": [],
   "source": [
    "# Save Charge amount list into pickle file\n",
    "import pickle\n",
    "pickle.dump(aes_encrypt_energy, open(\"aes_flash_encrypt_energy_mJ.p\", \"wb\"))\n",
    "pickle.dump(aes_decrypt_energy, open(\"aes_flash_decrypt_energy_mJ.p\", \"wb\"))\n",
    "pickle.dump(aes_flash_write_energy, open(\"aes_flash_write_energy_mJ.p\", \"wb\"))\n",
    "pickle.dump(aes_flash_read_energy, open(\"aes_flash_read_energy_mJ.p\", \"wb\"))\n",
    "pickle.dump(aes_encrypt_time_s, open(\"aes_flash_encrypt_time_ms.p\", \"wb\"))\n",
    "pickle.dump(aes_decrypt_time_s, open(\"aes_flash_decrypt_time_ms.p\", \"wb\"))\n",
    "pickle.dump(aes_flash_write_time_s, open(\"aes_flash_write_time_ms.p\", \"wb\"))\n",
    "pickle.dump(aes_flash_read_time_s, open(\"aes_flash_read_time_ms.p\", \"wb\"))"
   ]
  },
  {
   "cell_type": "code",
   "execution_count": 41,
   "metadata": {},
   "outputs": [
    {
     "name": "stdout",
     "output_type": "stream",
     "text": [
      "375 6000\n",
      "375 6000\n",
      "375 6000\n",
      "375 6000\n",
      "375 6000\n",
      "375 6000\n",
      "375 6000\n",
      "375 6000\n"
     ]
    }
   ],
   "source": [
    "aes = [aes_encrypt_energy, aes_flash_write_energy, aes_flash_read_energy, aes_decrypt_energy, aes_encrypt_time_s, aes_flash_write_time_s, aes_flash_read_time_s, aes_decrypt_time_s]\n",
    "for i in aes:\n",
    "    print(len(i), len(i)*16)"
   ]
  },
  {
   "cell_type": "markdown",
   "metadata": {},
   "source": [
    "## Write config file"
   ]
  },
  {
   "cell_type": "code",
   "execution_count": 52,
   "metadata": {},
   "outputs": [],
   "source": [
    "import json\n",
    "\n",
    "config = {}\n",
    "config[\"name\"] = \"AES-256 Flash\"\n",
    "config[\"project_paths\"] = [project_path]\n",
    "config[\"config_dict\"] = config_dict\n",
    "config[\"config_dict_plot\"] = config_dict_plot\n",
    "config[\"analysis\"] = {\"pins\":{2: [\"AES-256 Encrypt\", \"AES-256 Decrypt\"], 3: [\"AES-256 Flash Write\", \"AES-256 Flash Read\"]}, \n",
    "                      \"result_types\": [\"Charge\", \"Time\"],\n",
    "                      \"section_types\": {\"init\": [], \n",
    "                                        \"store\": [\"AES-256 Encrypt\", \"AES-256 Flash Write\"],\n",
    "                                        \"load\": [\"AES-256 Flash Read\", \"AES-256 Decrypt\"],\n",
    "                                        \"exit\": []},\n",
    "                      \"labels\": {\n",
    "                          \"Charge\": {\"x\":\"Data Size\", \"x_unit\": \"byte\", \"y\": \"Charge\", \"y_unit\": \"C\"},\n",
    "                          \"Time\": {\"x\":\"Data Size\", \"x_unit\": \"byte\", \"y\": \"Time\", \"y_unit\": \"s\"},\n",
    "                      },\n",
    "                      \"x_step\": MBEDTLS_AES_BLOCK_SIZE}\n",
    "\n",
    "with open(\"looped_experiment.json\", 'w') as config_file:  \n",
    "    json.dump(config, config_file, indent=4)"
   ]
  },
  {
   "cell_type": "markdown",
   "metadata": {},
   "source": [
    "# Write model data"
   ]
  },
  {
   "cell_type": "code",
   "execution_count": 53,
   "metadata": {},
   "outputs": [],
   "source": [
    "dump_pickle = True\n",
    "fit_lm = True\n",
    "verbose = 2\n",
    "show_lm_plot = 2"
   ]
  },
  {
   "cell_type": "code",
   "execution_count": 54,
   "metadata": {},
   "outputs": [],
   "source": [
    "# Parse data\n",
    "analysis_config = config.get(\"analysis\")\n",
    "result_types = analysis_config.get(\"result_types\")\n",
    "x_step = analysis_config.get(\"x_step\")\n",
    "parsed_data = {}\n",
    "for pin, parameter_names in analysis_config.get(\"pins\").items():\n",
    "    data2 = power_and_time_per_pulse(\n",
    "        data, int(pin), stop_function=stop_function)\n",
    "    num_names = len(parameter_names)\n",
    "    for i, parameter_name in enumerate(parameter_names):\n",
    "        end_index = -drop * num_names or None\n",
    "        parsed_data[parameter_name] = {\n",
    "            result_types[0]: data2[0][i:end_index:num_names],\n",
    "            result_types[1]: data2[1][i:end_index:num_names],\n",
    "            \"x_step\": x_step}\n",
    "if dump_pickle:\n",
    "    pickle.dump(parsed_data, open(\n",
    "        path.join(path.curdir,\n",
    "                  f\"{config_dict.get('file_name_base')}_looped.p\"), \"wb\"))"
   ]
  },
  {
   "cell_type": "code",
   "execution_count": 55,
   "metadata": {},
   "outputs": [
    {
     "name": "stdout",
     "output_type": "stream",
     "text": [
      "Fitting model to AES-256 Encrypt with 375 samples, from 16 to 6000 bytes in steps of 16.\n",
      "[[Model]]\n",
      "    Model(line)\n",
      "[[Fit Statistics]]\n",
      "    # fitting method   = leastsq\n",
      "    # function evals   = 10\n",
      "    # data points      = 375\n",
      "    # variables        = 2\n",
      "    chi-square         = 4.3523e-12\n",
      "    reduced chi-square = 1.1668e-14\n",
      "    Akaike info crit   = -12028.7155\n",
      "    Bayesian info crit = -12020.8617\n",
      "[[Variables]]\n",
      "    intercept: -1.6004e-07 +/- 1.1179e-08 (6.98%) (init = 0)\n",
      "    slope:      3.2193e-08 +/- 3.2206e-12 (0.01%) (init = 1)\n",
      "[[Correlations]] (unreported correlations are < 0.100)\n",
      "    C(intercept, slope) = -0.867\n",
      "\n",
      "[[Model]]\n",
      "    Model(line)\n",
      "[[Fit Statistics]]\n",
      "    # fitting method   = leastsq\n",
      "    # function evals   = 7\n",
      "    # data points      = 375\n",
      "    # variables        = 2\n",
      "    chi-square         = 4.9591e-07\n",
      "    reduced chi-square = 1.3295e-09\n",
      "    Akaike info crit   = -7662.42239\n",
      "    Bayesian info crit = -7654.56854\n",
      "[[Variables]]\n",
      "    intercept:  1.6355e-05 +/- 3.7735e-06 (23.07%) (init = 0)\n",
      "    slope:      6.1340e-05 +/- 1.0872e-09 (0.00%) (init = 1)\n",
      "[[Correlations]] (unreported correlations are < 0.100)\n",
      "    C(intercept, slope) = -0.867\n",
      "\n",
      "Fitting model to AES-256 Decrypt with 375 samples, from 16 to 6000 bytes in steps of 16.\n",
      "[[Model]]\n",
      "    Model(line)\n",
      "[[Fit Statistics]]\n",
      "    # fitting method   = leastsq\n",
      "    # function evals   = 10\n",
      "    # data points      = 375\n",
      "    # variables        = 2\n",
      "    chi-square         = 4.7778e-12\n",
      "    reduced chi-square = 1.2809e-14\n",
      "    Akaike info crit   = -11993.7410\n",
      "    Bayesian info crit = -11985.8871\n",
      "[[Variables]]\n",
      "    intercept: -1.6375e-07 +/- 1.1712e-08 (7.15%) (init = 0)\n",
      "    slope:      3.3583e-08 +/- 3.3743e-12 (0.01%) (init = 1)\n",
      "[[Correlations]] (unreported correlations are < 0.100)\n",
      "    C(intercept, slope) = -0.867\n",
      "\n",
      "[[Model]]\n",
      "    Model(line)\n",
      "[[Fit Statistics]]\n",
      "    # fitting method   = leastsq\n",
      "    # function evals   = 7\n",
      "    # data points      = 375\n",
      "    # variables        = 2\n",
      "    chi-square         = 5.2487e-07\n",
      "    reduced chi-square = 1.4072e-09\n",
      "    Akaike info crit   = -7641.13959\n",
      "    Bayesian info crit = -7633.28574\n",
      "[[Variables]]\n",
      "    intercept:  1.2699e-05 +/- 3.8820e-06 (30.57%) (init = 0)\n",
      "    slope:      6.4482e-05 +/- 1.1184e-09 (0.00%) (init = 1)\n",
      "[[Correlations]] (unreported correlations are < 0.100)\n",
      "    C(intercept, slope) = -0.867\n",
      "\n",
      "Fitting model to AES-256 Flash Write with 375 samples, from 16 to 6000 bytes in steps of 16.\n",
      "[[Model]]\n",
      "    Model(line)\n",
      "[[Fit Statistics]]\n",
      "    # fitting method   = leastsq\n",
      "    # function evals   = 9\n",
      "    # data points      = 375\n",
      "    # variables        = 2\n",
      "    chi-square         = 1.0802e-09\n",
      "    reduced chi-square = 2.8959e-12\n",
      "    Akaike info crit   = -9960.90310\n",
      "    Bayesian info crit = -9953.04925\n",
      "[[Variables]]\n",
      "    intercept:  4.6111e-06 +/- 1.7611e-07 (3.82%) (init = 0)\n",
      "    slope:      2.6856e-08 +/- 5.0736e-11 (0.19%) (init = 1)\n",
      "[[Correlations]] (unreported correlations are < 0.100)\n",
      "    C(intercept, slope) = -0.867\n",
      "\n",
      "[[Model]]\n",
      "    Model(line)\n",
      "[[Fit Statistics]]\n",
      "    # fitting method   = leastsq\n",
      "    # function evals   = 7\n",
      "    # data points      = 375\n",
      "    # variables        = 2\n",
      "    chi-square         = 2.3980e-04\n",
      "    reduced chi-square = 6.4290e-07\n",
      "    Akaike info crit   = -5344.48342\n",
      "    Bayesian info crit = -5336.62956\n",
      "[[Variables]]\n",
      "    intercept:  0.00223475 +/- 8.2977e-05 (3.71%) (init = 0)\n",
      "    slope:      1.4296e-05 +/- 2.3905e-08 (0.17%) (init = 1)\n",
      "[[Correlations]] (unreported correlations are < 0.100)\n",
      "    C(intercept, slope) = -0.867\n",
      "\n",
      "Fitting model to AES-256 Flash Read with 375 samples, from 16 to 6000 bytes in steps of 16.\n",
      "[[Model]]\n",
      "    Model(line)\n",
      "[[Fit Statistics]]\n",
      "    # fitting method   = leastsq\n",
      "    # function evals   = 10\n",
      "    # data points      = 375\n",
      "    # variables        = 2\n",
      "    chi-square         = 7.0311e-14\n",
      "    reduced chi-square = 1.8850e-16\n",
      "    Akaike info crit   = -13575.7893\n",
      "    Bayesian info crit = -13567.9354\n",
      "[[Variables]]\n",
      "    intercept: -4.2727e-09 +/- 1.4208e-09 (33.25%) (init = 0)\n",
      "    slope:      7.7627e-10 +/- 4.0934e-13 (0.05%) (init = 1)\n",
      "[[Correlations]] (unreported correlations are < 0.100)\n",
      "    C(intercept, slope) = -0.867\n",
      "\n",
      "[[Model]]\n",
      "    Model(line)\n",
      "[[Fit Statistics]]\n",
      "    # fitting method   = leastsq\n",
      "    # function evals   = 7\n",
      "    # data points      = 375\n",
      "    # variables        = 2\n",
      "    chi-square         = 2.9034e-07\n",
      "    reduced chi-square = 7.7840e-10\n",
      "    Akaike info crit   = -7863.17443\n",
      "    Bayesian info crit = -7855.32058\n",
      "[[Variables]]\n",
      "    intercept:  1.2828e-05 +/- 2.8873e-06 (22.51%) (init = 0)\n",
      "    slope:      2.1363e-06 +/- 8.3181e-10 (0.04%) (init = 1)\n",
      "[[Correlations]] (unreported correlations are < 0.100)\n",
      "    C(intercept, slope) = -0.867\n",
      "\n"
     ]
    }
   ],
   "source": [
    "# Fit lm\n",
    "if fit_lm:\n",
    "    model = None\n",
    "    if model is None:\n",
    "        def line(x, intercept, slope):\n",
    "            \"\"\"a line\"\"\"\n",
    "            return [intercept + slope*i for i in x]\n",
    "\n",
    "        model = Model(line)\n",
    "        params = model.make_params(intercept=0, slope=1)\n",
    "#         params['intercept'].set(min=0)\n",
    "    else:\n",
    "        params = model.params\n",
    "\n",
    "    model_results = {}\n",
    "    labels = analysis_config.get(\"labels\")\n",
    "    for parameter_name in parsed_data.keys():\n",
    "        length = len(parsed_data[parameter_name][result_types[0]])\n",
    "        x_step = parsed_data[parameter_name][\"x_step\"]\n",
    "        num_bytes = range(x_step, (length+1)*x_step, x_step)\n",
    "        if verbose:\n",
    "            print(\n",
    "                f\"Fitting model to {parameter_name} with {length} \" +\n",
    "                f\"samples, from {min(num_bytes)} to {max(num_bytes)} \"\n",
    "                f\"bytes in steps of {x_step}.\")\n",
    "        model_result = {}\n",
    "        for result_type in result_types:\n",
    "            model_result[result_type] = model.fit(\n",
    "                parsed_data[parameter_name][result_type], params,\n",
    "                x=num_bytes)\n",
    "            if verbose >= 2:\n",
    "                print(model_result[result_type].fit_report())\n",
    "            # Plot multiple view\n",
    "            if show_lm_plot >= 2:\n",
    "                fig, grid = model_result[result_type].plot(\n",
    "                    xlabel=f\"{labels[result_type]['x']} \" +\n",
    "                           f\"[{labels[result_type]['x_unit']}]\",\n",
    "                    ylabel=f\"{labels[result_type]['y']} \" +\n",
    "                           f\"[{labels[result_type]['y_unit']}]\")\n",
    "                fig.canvas.set_window_title(\n",
    "                    f\"Residuals of {parameter_name}\")\n",
    "                fig.tight_layout()\n",
    "                fig.show()\n",
    "            model_results[parameter_name] = model_result\n",
    "\n",
    "    # Plot single view\n",
    "    if show_lm_plot:\n",
    "        import matplotlib.pyplot as plt\n",
    "        fig = plt.figure(figsize=(9, 6))\n",
    "        fig.canvas.set_window_title(f\"Analysis {config.get('name')}\")\n",
    "        colors = dict(zip(result_types, ['r', 'b']))\n",
    "        line_styles = (\n",
    "            line_style for line_style in ('-', '--', '-.', ':') * 2)\n",
    "        # fig.suptitle(f\"Energy analysis of {config.get('name')}\")\n",
    "        ax = {}\n",
    "        ax[result_types[0]] = fig.add_subplot(1, 1, 1)\n",
    "        ax[result_types[1]] = ax[result_types[0]].twinx()\n",
    "        ax[result_types[0]].set_xlabel(\n",
    "            f\"{labels[result_types[0]]['x']} \" +\n",
    "            f\"[{labels[result_types[0]]['x_unit']}]\")\n",
    "        for result_type in result_types:\n",
    "            ax[result_type].set_ylabel(\n",
    "                f\"{labels[result_type]['y']} \" +\n",
    "                f\"[{labels[result_type]['y_unit']}]\",\n",
    "                color=colors[result_type])\n",
    "            ax[result_type].tick_params('y', colors=colors[result_type])\n",
    "\n",
    "        lines = []\n",
    "        title_str = \"\"\n",
    "        for parameter_name in parsed_data.keys():\n",
    "            length = len(parsed_data[parameter_name][result_types[0]])\n",
    "            x_step = parsed_data[parameter_name][\"x_step\"]\n",
    "            num_bytes = range(x_step, (length+1)*x_step, x_step)\n",
    "            model_result = {}\n",
    "            line_style = next(line_styles)\n",
    "            for result_type in result_types:\n",
    "                label = f\"{parameter_name} {labels[result_type]['y']}\"\n",
    "                lines += ax[result_type].plot(\n",
    "                    num_bytes, parsed_data[parameter_name][result_type],\n",
    "                    colors[result_type] + line_style, label=label)\n",
    "                title_str += f\"{label} \"\n",
    "                for param in params.keys():\n",
    "                    title_str += \"\".join(\n",
    "                        f\"{params[param].name.capitalize()}: \")\n",
    "                    title_str += \"\".join(\n",
    "                        f\"{model_results[parameter_name][result_type].params[param].value: .03} \")\n",
    "                    title_str += \"\".join(\n",
    "                        f\"{labels[result_type]['y_unit']}, \")\n",
    "                title_str = title_str[:-2] + \\\n",
    "                    f\" per {labels[result_type]['x_unit']}\\n\"\n",
    "        ax[result_types[0]].legend(handles=lines)\n",
    "        ax[result_types[0]].set_title(title_str[:-1])\n",
    "        # fig.tight_layout()\n",
    "        fig.tight_layout(rect=(0.05, 0.05, 1, 1))\n",
    "        fig.set_size_inches(8, 6, forward=True)\n",
    "        fig.show()\n",
    "\n",
    "    # Save model results to file\n",
    "    if dump_pickle:\n",
    "        model_results_dump = {}\n",
    "        for parameter_name in model_results.keys():\n",
    "            model_results_dump[parameter_name] = {}\n",
    "            for result_type in model_results[parameter_name].keys():\n",
    "                model_results_dump[parameter_name][result_type] = \\\n",
    "                    model_results[parameter_name][result_type].values\n",
    "\n",
    "        pickle.dump(model_results_dump, open(path.join(\n",
    "            path.curdir,\n",
    "            f\"{config_dict.get('file_name_base')}_model.p\"), \"wb\"))"
   ]
  },
  {
   "cell_type": "code",
   "execution_count": null,
   "metadata": {},
   "outputs": [],
   "source": []
  }
 ],
 "metadata": {
  "kernelspec": {
   "display_name": "Python [conda env:SAML11-32]",
   "language": "python",
   "name": "conda-env-SAML11-32-py"
  },
  "language_info": {
   "codemirror_mode": {
    "name": "ipython",
    "version": 3
   },
   "file_extension": ".py",
   "mimetype": "text/x-python",
   "name": "python",
   "nbconvert_exporter": "python",
   "pygments_lexer": "ipython3",
   "version": "3.6.8"
  }
 },
 "nbformat": 4,
 "nbformat_minor": 2
}
