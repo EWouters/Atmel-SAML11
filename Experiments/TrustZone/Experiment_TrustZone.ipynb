{
 "cells": [
  {
   "cell_type": "markdown",
   "metadata": {},
   "source": [
    "## Import Libraries"
   ]
  },
  {
   "cell_type": "code",
   "execution_count": 1,
   "metadata": {},
   "outputs": [],
   "source": [
    "# %matplotlib ipympl\n",
    "# %matplotlib inline\n",
    "%matplotlib wx"
   ]
  },
  {
   "cell_type": "code",
   "execution_count": 2,
   "metadata": {},
   "outputs": [],
   "source": [
    "import matplotlib.pyplot as plt\n",
    "plt.ion()"
   ]
  },
  {
   "cell_type": "code",
   "execution_count": 3,
   "metadata": {},
   "outputs": [],
   "source": [
    "from pydgilib_extra import *\n",
    "from atprogram.atprogram import atprogram"
   ]
  },
  {
   "cell_type": "code",
   "execution_count": 4,
   "metadata": {},
   "outputs": [],
   "source": [
    "from os import getcwd, path, pardir"
   ]
  },
  {
   "cell_type": "markdown",
   "metadata": {},
   "source": [
    "## Compile and program project"
   ]
  },
  {
   "cell_type": "code",
   "execution_count": 5,
   "metadata": {},
   "outputs": [
    {
     "data": {
      "text/plain": [
       "'C:\\\\Users\\\\erikw_000\\\\Documents\\\\GitHub\\\\Atmel-SAML11\\\\Experiments\\\\TrustZone\\\\TrustZone-S'"
      ]
     },
     "execution_count": 5,
     "metadata": {},
     "output_type": "execute_result"
    }
   ],
   "source": [
    "project_path_s = path.join(getcwd(), \"TrustZone-S\")\n",
    "project_path_s"
   ]
  },
  {
   "cell_type": "code",
   "execution_count": 6,
   "metadata": {},
   "outputs": [
    {
     "data": {
      "text/plain": [
       "'C:\\\\Users\\\\erikw_000\\\\Documents\\\\GitHub\\\\Atmel-SAML11\\\\Experiments\\\\TrustZone\\\\TrustZone-NS'"
      ]
     },
     "execution_count": 6,
     "metadata": {},
     "output_type": "execute_result"
    }
   ],
   "source": [
    "project_path_ns = path.join(getcwd(), \"TrustZone-NS\")\n",
    "project_path_ns"
   ]
  },
  {
   "cell_type": "code",
   "execution_count": 7,
   "metadata": {},
   "outputs": [
    {
     "name": "stdout",
     "output_type": "stream",
     "text": [
      "make: Nothing to be done for 'all'.\n",
      "\n",
      "[DEBUG] Starting execution of \"chiperase\"\n",
      "[DEBUG] Starting process 'C:\\Program Files (x86)\\Atmel\\Studio\\7.0\\atbackend\\atbackend.exe'\n",
      "[DEBUG] Connecting to TCP:127.0.0.1:5048\n",
      "[INFO] Connected to edbg, fw version: 3.25\n",
      "[INFO] Firmware check OK\n",
      "[DEBUG] Command \"chiperase\" finished with return code 0\n",
      "[DEBUG] Starting execution of \"program\"\n",
      "[DEBUG] Memory segment base written at 0x00008000. Size = 0x000006b4.\n",
      "[DEBUG] Memory segment base written at 0x000086b4. Size = 0x00000064.\n",
      "[DEBUG] Command \"program\" finished with return code 0\n",
      "[DEBUG] Exit successfully.\n",
      "Firmware check OK\n",
      "Chiperase completed successfully\n",
      "Programming completed successfully.\n",
      "\n",
      "make: Nothing to be done for 'all'.\n",
      "\n",
      "[DEBUG] Starting execution of \"program\"\n",
      "[DEBUG] Starting process 'C:\\Program Files (x86)\\Atmel\\Studio\\7.0\\atbackend\\atbackend.exe'\n",
      "[DEBUG] Connecting to TCP:127.0.0.1:5050\n",
      "[INFO] Connected to edbg, fw version: 3.25\n",
      "[INFO] Firmware check OK\n",
      "[DEBUG] Memory segment base written at 0x00000000. Size = 0x00000944.\n",
      "[DEBUG] Memory segment base written at 0x00000944. Size = 0x00000064.\n",
      "[DEBUG] Memory segment base written at 0x00007c00. Size = 0x00000020.\n",
      "[DEBUG] Memory segment base written at 0x00804000. Size = 0x00000020.\n",
      "[DEBUG] Command \"program\" finished with return code 0\n",
      "[DEBUG] Exit successfully.\n",
      "Firmware check OK\n",
      "Programming completed successfully.\n",
      "\n"
     ]
    },
    {
     "data": {
      "text/plain": [
       "0"
      ]
     },
     "execution_count": 7,
     "metadata": {},
     "output_type": "execute_result"
    }
   ],
   "source": [
    "atprogram(project_path_ns, verbose=2)\n",
    "atprogram(project_path_s, verbose=2, erase=False)"
   ]
  },
  {
   "cell_type": "markdown",
   "metadata": {},
   "source": [
    "## Data Logging"
   ]
  },
  {
   "cell_type": "markdown",
   "metadata": {},
   "source": [
    "Create a figure for the plot."
   ]
  },
  {
   "cell_type": "code",
   "execution_count": 8,
   "metadata": {},
   "outputs": [],
   "source": [
    "fig = plt.figure(figsize=(10, 6))\n",
    "fig.show()"
   ]
  },
  {
   "cell_type": "markdown",
   "metadata": {},
   "source": [
    "Create the configuration dictionary for `DGILibExtra`."
   ]
  },
  {
   "cell_type": "code",
   "execution_count": 9,
   "metadata": {},
   "outputs": [],
   "source": [
    "config_dict = {\n",
    "    \"interfaces\": [INTERFACE_POWER, INTERFACE_GPIO],\n",
    "    \"power_buffers\": [{\"channel\": CHANNEL_A, \"power_type\": POWER_CURRENT}],\n",
    "    \"read_mode\": [True, True, True, True],\n",
    "    \"loggers\": [LOGGER_OBJECT, LOGGER_PLOT, LOGGER_CSV],\n",
    "    \"plot_pins\": [False, False, True, True],\n",
    "    \"plot_pins_values\": [True, True, True, True],\n",
    "    \"gpio_delay_time\" : 0.0007,\n",
    "    \"plot_pins_method\": \"line\",\n",
    "    \"plot_xmax\": 100,\n",
    "    \"fig\": fig,\n",
    "    \"window_title\": \"Experiment TrustZone\",\n",
    "    \"file_name_base\": \"experiment_trustzone\"\n",
    "}"
   ]
  },
  {
   "cell_type": "markdown",
   "metadata": {},
   "source": [
    "Stop criteria to pass to the logger:"
   ]
  },
  {
   "cell_type": "code",
   "execution_count": 10,
   "metadata": {},
   "outputs": [],
   "source": [
    "def stop_fn(logger_data):\n",
    "    return all(logger_data.gpio.values[-1])"
   ]
  },
  {
   "cell_type": "markdown",
   "metadata": {},
   "source": [
    "Perform the measurement."
   ]
  },
  {
   "cell_type": "code",
   "execution_count": 11,
   "metadata": {},
   "outputs": [],
   "source": [
    "data = []\n",
    "fig.clf()\n",
    "for ax in fig.get_axes():\n",
    "    ax.cla()\n",
    "\n",
    "with DGILibExtra(**config_dict) as dgilib:\n",
    "    dgilib.device_reset()\n",
    "    data = dgilib.logger.log(config_dict[\"plot_xmax\"],stop_fn)\n",
    "    data = dgilib.data"
   ]
  },
  {
   "cell_type": "code",
   "execution_count": 12,
   "metadata": {},
   "outputs": [
    {
     "name": "stdout",
     "output_type": "stream",
     "text": [
      "Interfaces:\n",
      "\t 256:   power,   samples:   69000\n",
      "\t  48:   gpio,    samples:     804\n",
      "\n"
     ]
    }
   ],
   "source": [
    "print(data)"
   ]
  },
  {
   "cell_type": "markdown",
   "metadata": {},
   "source": [
    "## Analysis"
   ]
  },
  {
   "cell_type": "code",
   "execution_count": 13,
   "metadata": {},
   "outputs": [],
   "source": [
    "nsc_store_charge, nsc_store_time = power_and_time_per_pulse(data, 2, 0.01)"
   ]
  },
  {
   "cell_type": "code",
   "execution_count": 14,
   "metadata": {},
   "outputs": [],
   "source": [
    "nsc_load_charge, nsc_load_time = power_and_time_per_pulse(data, 3, 0.01)"
   ]
  },
  {
   "cell_type": "code",
   "execution_count": 15,
   "metadata": {},
   "outputs": [
    {
     "name": "stdout",
     "output_type": "stream",
     "text": [
      "MAX_NUM_BYTES: 100\n"
     ]
    }
   ],
   "source": [
    "MIN_NUM_BYTES = 1\n",
    "num_bytes = range(MIN_NUM_BYTES, MIN_NUM_BYTES + len(nsc_store_charge))\n",
    "print(f\"MAX_NUM_BYTES: {MIN_NUM_BYTES + len(nsc_store_charge) - 1}\")"
   ]
  },
  {
   "cell_type": "code",
   "execution_count": 16,
   "metadata": {},
   "outputs": [],
   "source": [
    "from lmfit import Model\n",
    "\n",
    "def line(x, slope, intercept):\n",
    "    \"\"\"a line\"\"\"\n",
    "    return [slope*i + intercept for i in x]\n",
    "\n",
    "mod = Model(line)\n",
    "pars = mod.make_params(slope=0, intercept=1)"
   ]
  },
  {
   "cell_type": "code",
   "execution_count": 17,
   "metadata": {},
   "outputs": [
    {
     "name": "stdout",
     "output_type": "stream",
     "text": [
      "[[Model]]\n",
      "    Model(line)\n",
      "[[Fit Statistics]]\n",
      "    # fitting method   = leastsq\n",
      "    # function evals   = 7\n",
      "    # data points      = 100\n",
      "    # variables        = 2\n",
      "    chi-square         = 1.1843e-14\n",
      "    reduced chi-square = 1.2085e-16\n",
      "    Akaike info crit   = -3663.22004\n",
      "    Bayesian info crit = -3658.00970\n",
      "[[Variables]]\n",
      "    slope:      8.8247e-10 +/- 3.8083e-11 (4.32%) (init = 0)\n",
      "    intercept:  2.4254e-08 +/- 2.2152e-09 (9.13%) (init = 1)\n",
      "[[Correlations]] (unreported correlations are < 0.100)\n",
      "    C(slope, intercept) = -0.868\n",
      "\n",
      "[[Model]]\n",
      "    Model(line)\n",
      "[[Fit Statistics]]\n",
      "    # fitting method   = leastsq\n",
      "    # function evals   = 7\n",
      "    # data points      = 100\n",
      "    # variables        = 2\n",
      "    chi-square         = 9.1575e-15\n",
      "    reduced chi-square = 9.3444e-17\n",
      "    Akaike info crit   = -3688.93718\n",
      "    Bayesian info crit = -3683.72684\n",
      "[[Variables]]\n",
      "    slope:      9.0550e-10 +/- 3.3488e-11 (3.70%) (init = 0)\n",
      "    intercept:  2.0915e-08 +/- 1.9479e-09 (9.31%) (init = 1)\n",
      "[[Correlations]] (unreported correlations are < 0.100)\n",
      "    C(slope, intercept) = -0.868\n",
      "\n",
      "[[Model]]\n",
      "    Model(line)\n",
      "[[Fit Statistics]]\n",
      "    # fitting method   = leastsq\n",
      "    # function evals   = 6\n",
      "    # data points      = 100\n",
      "    # variables        = 2\n",
      "    chi-square         = 8.5466e-08\n",
      "    reduced chi-square = 8.7210e-10\n",
      "    Akaike info crit   = -2084.03186\n",
      "    Bayesian info crit = -2078.82152\n",
      "[[Variables]]\n",
      "    slope:      2.2995e-06 +/- 1.0230e-07 (4.45%) (init = 0)\n",
      "    intercept:  7.0001e-05 +/- 5.9508e-06 (8.50%) (init = 1)\n",
      "[[Correlations]] (unreported correlations are < 0.100)\n",
      "    C(slope, intercept) = -0.868\n",
      "\n",
      "[[Model]]\n",
      "    Model(line)\n",
      "[[Fit Statistics]]\n",
      "    # fitting method   = leastsq\n",
      "    # function evals   = 6\n",
      "    # data points      = 100\n",
      "    # variables        = 2\n",
      "    chi-square         = 7.1538e-08\n",
      "    reduced chi-square = 7.2998e-10\n",
      "    Akaike info crit   = -2101.82029\n",
      "    Bayesian info crit = -2096.60995\n",
      "[[Variables]]\n",
      "    slope:      2.4939e-06 +/- 9.3598e-08 (3.75%) (init = 0)\n",
      "    intercept:  5.9524e-05 +/- 5.4444e-06 (9.15%) (init = 1)\n",
      "[[Correlations]] (unreported correlations are < 0.100)\n",
      "    C(slope, intercept) = -0.868\n",
      "\n"
     ]
    }
   ],
   "source": [
    "results = []\n",
    "for y in [nsc_store_charge, nsc_load_charge, nsc_store_time, nsc_load_time]:\n",
    "    result = mod.fit(y, pars, x=num_bytes)\n",
    "    print(result.fit_report())\n",
    "    results.append(result)"
   ]
  },
  {
   "cell_type": "code",
   "execution_count": 18,
   "metadata": {},
   "outputs": [],
   "source": [
    "fig2 = plt.figure(figsize=(9, 8))\n",
    "fig2.canvas.set_window_title(\"Analysis TrustZone\")"
   ]
  },
  {
   "cell_type": "code",
   "execution_count": 19,
   "metadata": {},
   "outputs": [],
   "source": [
    "charge_color = 'r'\n",
    "time_color = 'b'"
   ]
  },
  {
   "cell_type": "code",
   "execution_count": 20,
   "metadata": {},
   "outputs": [],
   "source": [
    "fig2.clf()\n",
    "# fig2.suptitle(\"Energy analysis of AES\")\n",
    "ax1 = fig2.add_subplot(1, 1, 1)\n",
    "ax2 = ax1.twinx()\n",
    "ax1.set_xlabel('Number of bytes')\n",
    "ax1.set_ylabel('Charge [C]', color=charge_color)\n",
    "ax2.set_ylabel('Time [s]', color=time_color)\n",
    "ax1.tick_params('y', colors=charge_color)\n",
    "ax2.tick_params('y', colors=time_color)"
   ]
  },
  {
   "cell_type": "code",
   "execution_count": 21,
   "metadata": {},
   "outputs": [],
   "source": [
    "lines = []\n",
    "lines += ax1.plot(num_bytes, nsc_store_charge, charge_color+'-', label='TrustZone Store Charge')\n",
    "lines += ax1.plot(num_bytes, nsc_load_charge, charge_color+'--', label='TrustZone Load Charge')\n",
    "lines += ax2.plot(num_bytes, nsc_store_time, time_color+'-', label='TrustZone Store Time')\n",
    "lines += ax2.plot(num_bytes, nsc_load_time, time_color+'--', label='TrustZone Load Time')\n",
    "ax1.legend(handles=lines)\n",
    "# [nsc_store_charge, nsc_load_charge, nsc_store_time, nsc_load_time]\n",
    "ax1.set_title(f\"TrustZone Store Charge: Base {results[0].params['intercept'].value:.03} C plus {results[0].params['slope'].value:.03} mC per byte\\n\" +\n",
    "             f\"TrustZone Load Charge: Base {results[1].params['intercept'].value:.03} C plus {results[1].params['slope'].value:.03} mC per byte\\n\" +\n",
    "             f\"TrustZone Store Time: Base {results[2].params['intercept'].value:.03} s plus {results[2].params['slope'].value:.03} s per byte\\n\" +\n",
    "             f\"TrustZone Load Time: Base {results[3].params['intercept'].value:.03} s plus {results[3].params['slope'].value:.03} s per byte\\n\")\n",
    "fig2.tight_layout()\n",
    "fig2.show()"
   ]
  },
  {
   "cell_type": "code",
   "execution_count": 22,
   "metadata": {},
   "outputs": [],
   "source": [
    "# Save Charge amount list into pickle file\n",
    "import pickle\n",
    "pickle.dump(nsc_store_charge, open(\"trustzone_store_charge.p\", \"wb\"))\n",
    "pickle.dump(nsc_load_charge, open(\"trustzone_load_charge.p\", \"wb\"))"
   ]
  },
  {
   "cell_type": "code",
   "execution_count": null,
   "metadata": {},
   "outputs": [],
   "source": []
  }
 ],
 "metadata": {
  "kernelspec": {
   "display_name": "Python [conda env:SAML11-32]",
   "language": "python",
   "name": "conda-env-SAML11-32-py"
  },
  "language_info": {
   "codemirror_mode": {
    "name": "ipython",
    "version": 3
   },
   "file_extension": ".py",
   "mimetype": "text/x-python",
   "name": "python",
   "nbconvert_exporter": "python",
   "pygments_lexer": "ipython3",
   "version": "3.6.8"
  }
 },
 "nbformat": 4,
 "nbformat_minor": 2
}
