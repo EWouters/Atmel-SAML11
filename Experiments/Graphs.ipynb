{
 "cells": [
  {
   "cell_type": "code",
   "execution_count": 1,
   "metadata": {},
   "outputs": [],
   "source": [
    "# %matplotlib ipympl\n",
    "# %matplotlib inline\n",
    "%matplotlib wx"
   ]
  },
  {
   "cell_type": "code",
   "execution_count": 2,
   "metadata": {},
   "outputs": [],
   "source": [
    "import matplotlib.pyplot as plt\n",
    "import numpy as np"
   ]
  },
  {
   "cell_type": "markdown",
   "metadata": {},
   "source": [
    "## Load Pickles of checkpoint charges per byte"
   ]
  },
  {
   "cell_type": "code",
   "execution_count": 3,
   "metadata": {},
   "outputs": [],
   "source": [
    "from os import getcwd, path, pardir\n",
    "import pickle\n",
    "from math import ceil"
   ]
  },
  {
   "cell_type": "code",
   "execution_count": 4,
   "metadata": {},
   "outputs": [],
   "source": [
    "run_experiments = False"
   ]
  },
  {
   "cell_type": "markdown",
   "metadata": {},
   "source": [
    "Experiment AES"
   ]
  },
  {
   "cell_type": "code",
   "execution_count": 5,
   "metadata": {},
   "outputs": [],
   "source": [
    "if run_experiments:\n",
    "    from Security.AES.experiment_aes import experiment_aes\n",
    "    experiment_aes(path.join(getcwd(), \"Security\", \"AES\"))\n",
    "\n",
    "encrypt_charge = pickle.load(open(path.join(getcwd(), \"Security\", \"AES\", \"aes_encrypt_charge.p\"), \"rb\"))\n",
    "decrypt_charge = pickle.load(open(path.join(getcwd(), \"Security\", \"AES\", \"aes_decrypt_charge.p\"), \"rb\"))"
   ]
  },
  {
   "cell_type": "markdown",
   "metadata": {},
   "source": [
    "Experiment AES Flash"
   ]
  },
  {
   "cell_type": "code",
   "execution_count": 6,
   "metadata": {},
   "outputs": [],
   "source": [
    "if run_experiments:\n",
    "    from Security.AES_Flash.experiment_aes_flash import experiment_aes_flash\n",
    "    experiment_aes_flash(path.join(getcwd(), \"Security\", \"AES_Flash\"))\n",
    "\n",
    "aes_encrypt_charge = pickle.load(open(path.join(getcwd(), \"Security\", \"AES_Flash\", \"aes_flash_encrypt_charge.p\"), \"rb\"))\n",
    "aes_decrypt_charge = pickle.load(open(path.join(getcwd(), \"Security\", \"AES_Flash\", \"aes_flash_decrypt_charge.p\"), \"rb\"))\n",
    "flash_write_charge = pickle.load(open(path.join(getcwd(), \"Security\", \"AES_Flash\", \"aes_flash_write_charge.p\"), \"rb\"))\n",
    "flash_read_charge = pickle.load(open(path.join(getcwd(), \"Security\", \"AES_Flash\", \"aes_flash_read_charge.p\"), \"rb\"))"
   ]
  },
  {
   "cell_type": "markdown",
   "metadata": {},
   "source": [
    "Experiment TrustZone"
   ]
  },
  {
   "cell_type": "code",
   "execution_count": 7,
   "metadata": {},
   "outputs": [],
   "source": [
    "if run_experiments:\n",
    "    from Security.TrustZone.experiment_trustzone import experiment_trustzone\n",
    "    experiment_trustzone(path.join(getcwd(), \"Security\", \"TrustZone\"))\n",
    "\n",
    "nsc_store_charge = pickle.load(open(path.join(getcwd(), \"Security\", \"TrustZone\", \"trustzone_store_charge.p\"), \"rb\"))\n",
    "nsc_load_charge = pickle.load(open(path.join(getcwd(), \"Security\", \"TrustZone\", \"trustzone_load_charge.p\"), \"rb\"))"
   ]
  },
  {
   "cell_type": "markdown",
   "metadata": {},
   "source": [
    "Experiment TrustZone Flash"
   ]
  },
  {
   "cell_type": "code",
   "execution_count": 8,
   "metadata": {},
   "outputs": [],
   "source": [
    "if run_experiments:\n",
    "    from Security.TrustZone_Flash.experiment_trustzone_flash import experiment_trustzone_flash\n",
    "    experiment_trustzone_flash(path.join(getcwd(), \"Security\", \"TrustZone_Flash\"))\n",
    "\n",
    "flash_nsc_store_charge = pickle.load(open(path.join(getcwd(), \"Security\", \"TrustZone_Flash\", \"trustzone_flash_store_charge.p\"), \"rb\"))\n",
    "flash_nsc_load_charge = pickle.load(open(path.join(getcwd(), \"Security\", \"TrustZone_Flash\", \"trustzone_flash_load_charge.p\"), \"rb\"))"
   ]
  },
  {
   "cell_type": "markdown",
   "metadata": {},
   "source": [
    "### Smoothen?"
   ]
  },
  {
   "cell_type": "markdown",
   "metadata": {},
   "source": [
    "Make lookup function"
   ]
  },
  {
   "cell_type": "code",
   "execution_count": 9,
   "metadata": {},
   "outputs": [],
   "source": [
    "AES_BLOCK_SIZE = 16\n",
    "def get_security_charge(security_type, number_of_bytes):\n",
    "    if security_type is \"AES\":\n",
    "        index = ceil(number_of_bytes/AES_BLOCK_SIZE)\n",
    "        return encrypt_charge[index] + decrypt_charge[index]\n",
    "    elif security_type is \"AES_Flash\":\n",
    "        index = ceil(number_of_bytes/AES_BLOCK_SIZE)\n",
    "        return aes_encrypt_charge[index] + flash_write_charge[index] + flash_read_charge[index] + aes_decrypt_charge[index]\n",
    "    elif security_type is \"TrustZone\":\n",
    "        return nsc_store_charge[number_of_bytes] + nsc_store_charge[number_of_bytes]\n",
    "    elif security_type is \"TrustZone_Flash\":\n",
    "        return flash_nsc_store_charge[number_of_bytes] + flash_nsc_load_charge[number_of_bytes]\n",
    "    else:\n",
    "        return 0 # No security, so 0 C"
   ]
  },
  {
   "cell_type": "code",
   "execution_count": 10,
   "metadata": {},
   "outputs": [
    {
     "data": {
      "text/plain": [
       "6492"
      ]
     },
     "execution_count": 10,
     "metadata": {},
     "output_type": "execute_result"
    }
   ],
   "source": [
    "len(nsc_store_charge)\n",
    "#16*880"
   ]
  },
  {
   "cell_type": "code",
   "execution_count": 160,
   "metadata": {},
   "outputs": [],
   "source": [
    "security_types = [\"None\", \"AES\", \"AES_Flash\", \"TrustZone\", \"TrustZone_Flash\"]\n",
    "# security_types = [\"None\", \"AES_Flash\", \"TruseZone_Flash\"]\n",
    "application_names = [\"Kalman\", \"AR\", \"Dijkstra\", \"Sorting 1024\", \"Bit Counting\", \"FFT 128\"]"
   ]
  },
  {
   "cell_type": "code",
   "execution_count": 184,
   "metadata": {},
   "outputs": [],
   "source": [
    "# app_charge_scale = 1e-4\n",
    "application_charges = np.array([0.0001, 1e-10, 1e-10, 0.00001984909516280825944492365031646130546505446545779705047607421875, 0.0000066193645743728758915470737622666064225995796732604503631591796875, 0.00098674225419147416384080262474753908463753759860992431640625]) # TODO\n",
    "# app_number_of_bytes_scale = 1000\n",
    "application_number_of_bytes = np.array([234, 1, 1, 1544 + 2**10, 90, 1975+24*128]) # TODO"
   ]
  },
  {
   "cell_type": "code",
   "execution_count": 185,
   "metadata": {},
   "outputs": [],
   "source": [
    "base_charge_per_app = dict(zip(application_names, application_charges))\n",
    "number_of_bytes_per_app = dict(zip(application_names, application_number_of_bytes))"
   ]
  },
  {
   "cell_type": "code",
   "execution_count": 186,
   "metadata": {},
   "outputs": [],
   "source": [
    "def get_total_charge(application_name, security_type):\n",
    "    print(application_name, security_type, f\"base: {base_charge_per_app[application_name]}, sec: {get_security_charge(security_type, number_of_bytes_per_app[application_name])}\")\n",
    "    return base_charge_per_app[application_name] + get_security_charge(security_type, number_of_bytes_per_app[application_name])"
   ]
  },
  {
   "cell_type": "markdown",
   "metadata": {},
   "source": [
    "# Bar chart"
   ]
  },
  {
   "cell_type": "code",
   "execution_count": 174,
   "metadata": {},
   "outputs": [],
   "source": [
    "import numpy as np\n",
    "import matplotlib.pyplot as plt"
   ]
  },
  {
   "cell_type": "code",
   "execution_count": 175,
   "metadata": {},
   "outputs": [
    {
     "name": "stdout",
     "output_type": "stream",
     "text": [
      "Kalman None base: 0.0001, sec: 0\n",
      "AR None base: 0.0, sec: 0\n",
      "Dijkstra None base: 0.0, sec: 0\n",
      "Sorting 1024 None base: 1.984909516280826e-05, sec: 0\n",
      "Bit Counting None base: 6.619364574372876e-06, sec: 0\n",
      "FFT 128 None base: 0.0009867422541914742, sec: 0\n",
      "Kalman AES base: 0.0001, sec: 2.134558538557974e-05\n",
      "AR AES base: 0.0, sec: 3.0560544495826275e-06\n",
      "Dijkstra AES base: 0.0, sec: 3.0560544495826275e-06\n",
      "Sorting 1024 AES base: 1.984909516280826e-05, sec: 0.000173811552841254\n",
      "Bit Counting AES base: 6.619364574372876e-06, sec: 1.1982284226705715e-05\n",
      "FFT 128 AES base: 0.0009867422541914742, sec: 0.0003366292979513878\n",
      "Kalman AES_Flash base: 0.0001, sec: 3.439272529308316e-05\n",
      "AR AES_Flash base: 0.0, sec: 1.1511941748189174e-05\n",
      "Dijkstra AES_Flash base: 0.0, sec: 1.1511941748189174e-05\n",
      "Sorting 1024 AES_Flash base: 1.984909516280826e-05, sec: 0.00024787029089482144\n",
      "Bit Counting AES_Flash base: 6.619364574372876e-06, sec: 1.8847149752568023e-05\n",
      "FFT 128 AES_Flash base: 0.0009867422541914742, sec: 0.00047226733670911465\n",
      "Kalman TrustZone base: 0.0001, sec: 4.642929953388708e-07\n",
      "AR TrustZone base: 0.0, sec: 5.195348545412281e-08\n",
      "Dijkstra TrustZone base: 0.0, sec: 5.195348545412281e-08\n",
      "Sorting 1024 TrustZone base: 1.984909516280826e-05, sec: 4.469118552475103e-06\n",
      "Bit Counting TrustZone base: 6.619364574372876e-06, sec: 1.9155370554926808e-07\n",
      "FFT 128 TrustZone base: 0.0009867422541914742, sec: 8.823171335467439e-06\n",
      "Kalman TrustZone_Flash base: 0.0001, sec: 7.040224464826005e-06\n",
      "AR TrustZone_Flash base: 0.0, sec: 4.6886883381776045e-06\n",
      "Dijkstra TrustZone_Flash base: 0.0, sec: 4.6886883381776045e-06\n",
      "Sorting 1024 TrustZone_Flash base: 1.984909516280826e-05, sec: 7.142302708172938e-05\n",
      "Bit Counting TrustZone_Flash base: 6.619364574372876e-06, sec: 5.529851126354984e-06\n",
      "FFT 128 TrustZone_Flash base: 0.0009867422541914742, sec: 0.00012970356681269365\n"
     ]
    }
   ],
   "source": [
    "# create plot\n",
    "fig, ax = plt.subplots(figsize=(10,9))\n",
    "index = np.arange(len(application_names))\n",
    "bar_width = 0.18\n",
    "opacity = 0.8\n",
    "\n",
    "# ax.grid()\n",
    "\n",
    "colors = [\"blue\", \"red\", \"green\", \"cyan\", \"magenta\", \"yellow\", \"black\", \"white\"]\n",
    "\n",
    "rects = []\n",
    "for i,security_type in enumerate(security_types):\n",
    "    rects += ax.bar(index + i*bar_width, [get_total_charge(application_name, security_type) for application_name in application_names], bar_width, label=security_type, color=colors[i], alpha=opacity)\n",
    " \n",
    "ax.set_xlabel('Application')\n",
    "ax.set_ylabel('Charge [C]')\n",
    "ax.set_title('Charge per Application')\n",
    "fig.canvas.set_window_title('Charge per Application')\n",
    "ax.set_xticks(index + bar_width)\n",
    "ax.set_xticklabels(application_names)\n",
    "ax.legend()\n",
    " \n",
    "fig.tight_layout()\n",
    "fig.show()"
   ]
  },
  {
   "cell_type": "markdown",
   "metadata": {},
   "source": [
    "# Number of Checkpoints"
   ]
  },
  {
   "cell_type": "code",
   "execution_count": 176,
   "metadata": {},
   "outputs": [],
   "source": [
    "security_types = [\"None\", \"AES_Flash\", \"TrustZone_Flash\"]"
   ]
  },
  {
   "cell_type": "code",
   "execution_count": 177,
   "metadata": {},
   "outputs": [],
   "source": [
    "min_cap_size_over_sec_charge = 10\n",
    "number_of_points = 1e5\n",
    "iterations = 100\n",
    "min_cap_factor = 10\n",
    "min_step_size = 1e-7"
   ]
  },
  {
   "cell_type": "code",
   "execution_count": 187,
   "metadata": {},
   "outputs": [],
   "source": [
    "opacity = 0.8\n",
    "colors = [\"blue\", \"red\", \"green\", \"cyan\", \"magenta\", \"yellow\", \"black\", \"white\"]\n",
    "\n",
    "figs = {}\n",
    "axs = {}\n",
    "for application_name in application_names:\n",
    "# for application_name in [\"Sorting 1024\", \"FFT 128\"]:\n",
    "    fig, ax = plt.subplots(figsize=(10,9))\n",
    "    figs[application_name] = fig\n",
    "    axs[application_name] = ax\n",
    "    fig.canvas.set_window_title(application_name)\n",
    "    for i,security_type in enumerate(security_types):\n",
    "        security_charge = get_security_charge(security_type, number_of_bytes_per_app[application_name])\n",
    "        base_charge = base_charge_per_app[application_name]\n",
    "        capacitor_sizes = np.arange(base_charge/min_cap_factor,base_charge*iterations, (base_charge*iterations-base_charge/min_cap_factor)/number_of_points)\n",
    "        capacitor_sizes = capacitor_sizes[capacitor_sizes>security_charge]\n",
    "        y = base_charge/(capacitor_sizes - security_charge)\n",
    "#         ax.plot(capacitor_sizes, base_charge/(capacitor_sizes - security_charge)/(base_charge/capacitor_sizes), label=security_type, color=colors[i], alpha=opacity)\n",
    "        ax.plot(capacitor_sizes, y, label=security_type, color=colors[i], alpha=opacity)\n",
    "        ax.plot(capacitor_sizes, np.floor(y), color=colors[i], alpha=opacity/2)\n",
    "#         ax.plot(capacitor_sizes, np.floor(base_charge/(capacitor_sizes - security_charge)), '.', label=security_type, color=colors[i], alpha=opacity/2)\n",
    "#         ax.plot(capacitor_sizes, base_charge/(capacitor_sizes - security_charge), label=security_type, color=colors[i], alpha=opacity)\n",
    "    ax.plot([base_charge/min_cap_factor, base_charge*iterations], [1,1])\n",
    "    ax.set_xscale('log')\n",
    "#     ax.set_yscale('log')\n",
    "    ax.set_ylim(-1,10)\n",
    "    ax.set_xlabel('Capacitor Size [C]')\n",
    "    ax.set_ylabel('Number of Checkpoints')\n",
    "    ax.set_title(f'Number of Checkpoints per Security Type {application_name}')\n",
    "    fig.canvas.set_window_title(f\"Number of Checkpoints {application_name}\")\n",
    "    ax.legend()\n",
    "    fig.tight_layout()\n",
    "    fig.show()"
   ]
  },
  {
   "cell_type": "code",
   "execution_count": null,
   "metadata": {},
   "outputs": [],
   "source": [
    "# opacity = 0.8\n",
    "# colors = [\"blue\", \"red\", \"green\", \"cyan\", \"magenta\", \"yellow\", \"black\", \"white\"]\n",
    "\n",
    "# figs = {}\n",
    "# axs = {}\n",
    "# # for application_name in application_names:\n",
    "# for application_name in [\"Sorting 1024\", \"FFT 128\"]:\n",
    "#     fig, ax = plt.subplots(figsize=(10,9))\n",
    "#     figs[application_name] = fig\n",
    "#     axs[application_name] = ax\n",
    "#     fig.canvas.set_window_title(application_name)\n",
    "#     security_charge_aes = get_security_charge(\"AES_Flash\", number_of_bytes_per_app[application_name])\n",
    "#     security_charge_trustzone = get_security_charge(\"TrustZone_Flash\", number_of_bytes_per_app[application_name])\n",
    "#     base_charge = base_charge_per_app[application_name]\n",
    "#     capacitor_sizes = np.arange(base_charge/min_cap_factor,base_charge*iterations, (base_charge*iterations-base_charge/min_cap_factor)/number_of_points)\n",
    "#     capacitor_sizes = capacitor_sizes[capacitor_sizes>security_charge_aes]\n",
    "# #         ax.plot(capacitor_sizes, base_charge/(capacitor_sizes - security_charge)/(base_charge/capacitor_sizes), label=security_type, color=colors[i], alpha=opacity)\n",
    "#     y = base_charge/(capacitor_sizes - security_charge_aes)/(base_charge/(capacitor_sizes - security_charge_trustzone))\n",
    "#     ax.plot(capacitor_sizes, y, label=security_type, color=colors[i], alpha=opacity)\n",
    "#     ax.plot(capacitor_sizes, np.floor(y), color=colors[i], alpha=opacity/2)\n",
    "# #         ax.plot(capacitor_sizes, np.floor(base_charge/(capacitor_sizes - security_charge)), '.', label=security_type, color=colors[i], alpha=opacity/2)\n",
    "# #         ax.plot(capacitor_sizes, base_charge/(capacitor_sizes - security_charge), label=security_type, color=colors[i], alpha=opacity)\n",
    "#     ax.plot([base_charge/min_cap_factor, base_charge*iterations], [1,1])\n",
    "#     ax.set_xscale('log')\n",
    "# #     ax.set_yscale('log')\n",
    "#     ax.set_ylim(-1,10)\n",
    "#     ax.set_xlabel('Capacitor Size [C]')\n",
    "#     ax.set_ylabel('Number of Checkpoints')\n",
    "#     ax.set_title(f'Number of Checkpoints per Security Type {application_name}')\n",
    "#     fig.canvas.set_window_title(f\"Number of Checkpoints {application_name}\")\n",
    "#     ax.legend()\n",
    "#     fig.tight_layout()\n",
    "#     fig.show()"
   ]
  },
  {
   "cell_type": "markdown",
   "metadata": {},
   "source": [
    "## Scales"
   ]
  },
  {
   "cell_type": "code",
   "execution_count": null,
   "metadata": {},
   "outputs": [],
   "source": [
    "print(\"Cap Size:\")\n",
    "print(f\"\\tmin: {min(capacitor_sizes)}, max: {max(capacitor_sizes)}\")"
   ]
  },
  {
   "cell_type": "code",
   "execution_count": 179,
   "metadata": {},
   "outputs": [
    {
     "name": "stdout",
     "output_type": "stream",
     "text": [
      "Base Charge:\n",
      "\tKalman: 0.0001\n",
      "\tAR: 0.0\n",
      "\tDijkstra: 0.0\n",
      "\tSorting 1024: 1.984909516280826e-05\n",
      "\tBit Counting: 6.619364574372876e-06\n",
      "\tFFT 128: 0.0009867422541914742\n"
     ]
    }
   ],
   "source": [
    "print(\"Base Charge:\")\n",
    "for application_name in application_names:\n",
    "    print(f\"\\t{application_name}: {base_charge_per_app[application_name]}\")"
   ]
  },
  {
   "cell_type": "code",
   "execution_count": 22,
   "metadata": {},
   "outputs": [
    {
     "name": "stdout",
     "output_type": "stream",
     "text": [
      "Security Charge:\n",
      "\tNone min: 0,  max: 0\n",
      "\tAES_Flash min: 1.3821473868907638e-05,  max: 0.00047226733670911465\n",
      "\tTrustZone_Flash min: 4.708487521232661e-06,  max: 0.00012970356681269365\n"
     ]
    }
   ],
   "source": [
    "print(\"Security Charge:\")\n",
    "for security_type in security_types:\n",
    "    print(f\"\\t{security_type} min: {get_security_charge(security_type, min(number_of_bytes_per_app.values()))},  max: {get_security_charge(security_type, max(number_of_bytes_per_app.values()))}\")\n",
    "# number_of_bytes_per_app = dict(zip(application_names, application_number_of_bytes))"
   ]
  },
  {
   "cell_type": "code",
   "execution_count": 23,
   "metadata": {},
   "outputs": [
    {
     "data": {
      "text/plain": [
       "{'Kalman': 0.0001,\n",
       " 'AR': 0.0002,\n",
       " 'Dijkstra': 0.0003,\n",
       " 'Sorting 1024': 1.984909516280826e-05,\n",
       " 'Bit Count': 0.0004,\n",
       " 'FFT 128': 0.000988899251949373}"
      ]
     },
     "execution_count": 23,
     "metadata": {},
     "output_type": "execute_result"
    }
   ],
   "source": [
    "base_charge_per_app"
   ]
  },
  {
   "cell_type": "code",
   "execution_count": 24,
   "metadata": {},
   "outputs": [
    {
     "data": {
      "text/plain": [
       "32"
      ]
     },
     "execution_count": 24,
     "metadata": {},
     "output_type": "execute_result"
    }
   ],
   "source": [
    "min(number_of_bytes_per_app.values())"
   ]
  },
  {
   "cell_type": "code",
   "execution_count": 25,
   "metadata": {},
   "outputs": [
    {
     "data": {
      "text/plain": [
       "0"
      ]
     },
     "execution_count": 25,
     "metadata": {},
     "output_type": "execute_result"
    }
   ],
   "source": [
    "get_security_charge(\"None\", min(number_of_bytes_per_app.values()))"
   ]
  },
  {
   "cell_type": "code",
   "execution_count": 26,
   "metadata": {},
   "outputs": [
    {
     "data": {
      "text/plain": [
       "0.0001048538910494544"
      ]
     },
     "execution_count": 26,
     "metadata": {},
     "output_type": "execute_result"
    }
   ],
   "source": [
    "get_security_charge(\"TrustZone_Flash\", 4000)"
   ]
  },
  {
   "cell_type": "code",
   "execution_count": null,
   "metadata": {},
   "outputs": [],
   "source": []
  },
  {
   "cell_type": "code",
   "execution_count": null,
   "metadata": {},
   "outputs": [],
   "source": []
  },
  {
   "cell_type": "code",
   "execution_count": null,
   "metadata": {},
   "outputs": [],
   "source": []
  },
  {
   "cell_type": "code",
   "execution_count": null,
   "metadata": {},
   "outputs": [],
   "source": []
  },
  {
   "cell_type": "code",
   "execution_count": 27,
   "metadata": {},
   "outputs": [
    {
     "data": {
      "text/plain": [
       "2568"
      ]
     },
     "execution_count": 27,
     "metadata": {},
     "output_type": "execute_result"
    }
   ],
   "source": [
    "1544 + 2**10"
   ]
  },
  {
   "cell_type": "code",
   "execution_count": 28,
   "metadata": {},
   "outputs": [
    {
     "data": {
      "text/plain": [
       "8192"
      ]
     },
     "execution_count": 28,
     "metadata": {},
     "output_type": "execute_result"
    }
   ],
   "source": [
    "2**13"
   ]
  },
  {
   "cell_type": "code",
   "execution_count": null,
   "metadata": {},
   "outputs": [],
   "source": []
  },
  {
   "cell_type": "code",
   "execution_count": 29,
   "metadata": {},
   "outputs": [
    {
     "data": {
      "text/plain": [
       "14263"
      ]
     },
     "execution_count": 29,
     "metadata": {},
     "output_type": "execute_result"
    }
   ],
   "source": [
    "0x37b7"
   ]
  },
  {
   "cell_type": "code",
   "execution_count": 30,
   "metadata": {},
   "outputs": [
    {
     "data": {
      "text/plain": [
       "8119"
      ]
     },
     "execution_count": 30,
     "metadata": {},
     "output_type": "execute_result"
    }
   ],
   "source": [
    "0x1fb7"
   ]
  },
  {
   "cell_type": "code",
   "execution_count": 31,
   "metadata": {},
   "outputs": [
    {
     "data": {
      "text/plain": [
       "14263"
      ]
     },
     "execution_count": 31,
     "metadata": {},
     "output_type": "execute_result"
    }
   ],
   "source": [
    "0x1fb7+256*24"
   ]
  },
  {
   "cell_type": "code",
   "execution_count": 32,
   "metadata": {},
   "outputs": [
    {
     "data": {
      "text/plain": [
       "9920"
      ]
     },
     "execution_count": 32,
     "metadata": {},
     "output_type": "execute_result"
    }
   ],
   "source": [
    "620*16"
   ]
  },
  {
   "cell_type": "code",
   "execution_count": 33,
   "metadata": {},
   "outputs": [
    {
     "data": {
      "text/plain": [
       "1975"
      ]
     },
     "execution_count": 33,
     "metadata": {},
     "output_type": "execute_result"
    }
   ],
   "source": [
    "0x1fb7-256*24"
   ]
  },
  {
   "cell_type": "code",
   "execution_count": 34,
   "metadata": {},
   "outputs": [
    {
     "data": {
      "text/plain": [
       "14263"
      ]
     },
     "execution_count": 34,
     "metadata": {},
     "output_type": "execute_result"
    }
   ],
   "source": [
    "1975+24*512"
   ]
  },
  {
   "cell_type": "code",
   "execution_count": null,
   "metadata": {},
   "outputs": [],
   "source": []
  },
  {
   "cell_type": "code",
   "execution_count": 35,
   "metadata": {},
   "outputs": [
    {
     "data": {
      "text/plain": [
       "5047"
      ]
     },
     "execution_count": 35,
     "metadata": {},
     "output_type": "execute_result"
    }
   ],
   "source": [
    "1975+24*128"
   ]
  },
  {
   "cell_type": "code",
   "execution_count": 36,
   "metadata": {},
   "outputs": [
    {
     "name": "stdout",
     "output_type": "stream",
     "text": [
      "13b7\n"
     ]
    }
   ],
   "source": [
    "print(f\"{1975+24*128:x}\")"
   ]
  },
  {
   "cell_type": "code",
   "execution_count": 37,
   "metadata": {},
   "outputs": [
    {
     "name": "stdout",
     "output_type": "stream",
     "text": [
      "7b7\n"
     ]
    }
   ],
   "source": [
    "print(f\"{1975+24*0:x}\")"
   ]
  },
  {
   "cell_type": "code",
   "execution_count": null,
   "metadata": {},
   "outputs": [],
   "source": []
  },
  {
   "cell_type": "code",
   "execution_count": null,
   "metadata": {},
   "outputs": [],
   "source": []
  },
  {
   "cell_type": "markdown",
   "metadata": {},
   "source": [
    "## Plot stuff"
   ]
  },
  {
   "cell_type": "code",
   "execution_count": 38,
   "metadata": {},
   "outputs": [
    {
     "data": {
      "text/plain": [
       "Text(0, 0.5, 'Number of Checkpoints')"
      ]
     },
     "execution_count": 38,
     "metadata": {},
     "output_type": "execute_result"
    }
   ],
   "source": [
    "# fig = plt.figure(figsize=(10, 6))\n",
    "# ax = fig.add_subplot(1, 1, 1)\n",
    "# ax.set_xlabel(\"Capacitor Size [C]\")\n",
    "# ax.set_ylabel(\"Number of Checkpoints\")"
   ]
  },
  {
   "cell_type": "code",
   "execution_count": 39,
   "metadata": {},
   "outputs": [],
   "source": [
    "# capacitor_sizes = range(1,101)\n",
    "# def get_number_of_checkpoints(application_number):\n",
    "#     return [application_charges[application_number]/(capacitor_size - get_security_charge(\"trustzone_flash\", application_number_of_bytes[application_number])) for capacitor_size in capacitor_sizes]"
   ]
  },
  {
   "cell_type": "code",
   "execution_count": 40,
   "metadata": {},
   "outputs": [
    {
     "data": {
      "text/plain": [
       "<matplotlib.legend.Legend at 0x15b022b0>"
      ]
     },
     "execution_count": 40,
     "metadata": {},
     "output_type": "execute_result"
    }
   ],
   "source": [
    "# for application_number in range(5):\n",
    "#     ax.plot(capacitor_sizes, get_number_of_checkpoints(application_number), label=application_names[application_number])\n",
    "# ax.legend()\n",
    "# # ax.set_yscale('log')\n",
    "# # ax.set_xscale('log')\n",
    "# # ax.invert_xaxis()"
   ]
  },
  {
   "cell_type": "code",
   "execution_count": null,
   "metadata": {},
   "outputs": [],
   "source": []
  },
  {
   "cell_type": "code",
   "execution_count": 41,
   "metadata": {},
   "outputs": [],
   "source": [
    "# fig2 = plt.figure(figsize=(10, 6))\n",
    "# ax2 = fig2.add_subplot(111, projection='3d')\n",
    "\n",
    "# ax2.set_xlabel(\"Capacitor Size [C]\")\n",
    "# ax2.set_ylabel(\"Number of Bytes\")\n",
    "# ax2.set_zlabel(\"Number of Checkpoints\")"
   ]
  },
  {
   "cell_type": "code",
   "execution_count": 42,
   "metadata": {},
   "outputs": [],
   "source": [
    "# capacitor_sizes = range(1,1001)\n",
    "# application_charge = 50\n",
    "# number_of_bytes = range(1,1001)"
   ]
  },
  {
   "cell_type": "code",
   "execution_count": 43,
   "metadata": {},
   "outputs": [],
   "source": [
    "# def get_number_of_checkpoints(application_charge, capacitor_size, number_of_bytes, security_type=\"trustzone_flash\"):\n",
    "#     return application_charge/(capacitor_size - get_security_charge(security_type, number_of_bytes))"
   ]
  },
  {
   "cell_type": "code",
   "execution_count": 44,
   "metadata": {},
   "outputs": [],
   "source": [
    "# X, Y = np.meshgrid(capacitor_sizes, number_of_bytes)\n",
    "# Z = np.zeros(shape=(1000,1000))\n",
    "# for i,capacitor_size in enumerate(capacitor_sizes):\n",
    "#     for j,number_of_byte in enumerate(number_of_bytes):\n",
    "#         Z[i,j] = get_number_of_checkpoints(application_charge, capacitor_size, number_of_byte)\n",
    "# #Z = np.array([np.array([get_number_of_checkpoints(capacitor_size,application_charge) for application_charge in application_charges]) for  capacitor_size in capacitor_sizes])\n",
    "# Z.shape"
   ]
  },
  {
   "cell_type": "code",
   "execution_count": 45,
   "metadata": {},
   "outputs": [],
   "source": [
    "# surf = ax2.plot_surface(X, Y, Z)"
   ]
  },
  {
   "cell_type": "code",
   "execution_count": null,
   "metadata": {},
   "outputs": [],
   "source": []
  },
  {
   "cell_type": "code",
   "execution_count": null,
   "metadata": {},
   "outputs": [],
   "source": []
  }
 ],
 "metadata": {
  "kernelspec": {
   "display_name": "Python [conda env:SAML11-32]",
   "language": "python",
   "name": "conda-env-SAML11-32-py"
  },
  "language_info": {
   "codemirror_mode": {
    "name": "ipython",
    "version": 3
   },
   "file_extension": ".py",
   "mimetype": "text/x-python",
   "name": "python",
   "nbconvert_exporter": "python",
   "pygments_lexer": "ipython3",
   "version": "3.6.8"
  }
 },
 "nbformat": 4,
 "nbformat_minor": 2
}
