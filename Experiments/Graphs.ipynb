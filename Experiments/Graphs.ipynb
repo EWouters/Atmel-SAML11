{
 "cells": [
  {
   "cell_type": "code",
   "execution_count": 1,
   "metadata": {},
   "outputs": [],
   "source": [
    "# %matplotlib ipympl\n",
    "# %matplotlib inline\n",
    "%matplotlib wx"
   ]
  },
  {
   "cell_type": "code",
   "execution_count": 2,
   "metadata": {},
   "outputs": [],
   "source": [
    "import matplotlib.pyplot as plt\n",
    "import numpy as np"
   ]
  },
  {
   "cell_type": "markdown",
   "metadata": {},
   "source": [
    "## Load Pickles of checkpoint charges per byte"
   ]
  },
  {
   "cell_type": "code",
   "execution_count": 3,
   "metadata": {},
   "outputs": [],
   "source": [
    "from os import getcwd, path, pardir\n",
    "import pickle\n",
    "from math import ceil"
   ]
  },
  {
   "cell_type": "code",
   "execution_count": 4,
   "metadata": {},
   "outputs": [],
   "source": [
    "run_experiments = True"
   ]
  },
  {
   "cell_type": "markdown",
   "metadata": {},
   "source": [
    "Experiment AES"
   ]
  },
  {
   "cell_type": "code",
   "execution_count": 5,
   "metadata": {},
   "outputs": [
    {
     "name": "stdout",
     "output_type": "stream",
     "text": [
      "Building file: .././main.c\n",
      "Invoking: ARM/GNU C Compiler : 6.3.1\n",
      "\"C:\\Program Files (x86)\\Atmel\\Studio\\7.0\\toolchain\\arm\\arm-gnu-toolchain\\bin\\arm-none-eabi-gcc.exe\"  -x c -mthumb -D__SAML11E16A__ -DDEBUG  -I\"C:\\Program Files (x86)\\Atmel\\Studio\\7.0\\Packs\\arm\\cmsis\\5.0.1\\CMSIS\\Include\" -I\"../Config\" -I\"..\" -I\"../examples\" -I\"../hal/include\" -I\"../hal/utils/include\" -I\"../hpl/core\" -I\"../hpl/crya\" -I\"../hpl/dmac\" -I\"../hpl/gclk\" -I\"../hpl/mclk\" -I\"../hpl/osc32kctrl\" -I\"../hpl/oscctrl\" -I\"../hpl/pm\" -I\"../hpl/port\" -I\"../hri\" -I\"../trustzone\" -I\"C:\\Program Files (x86)\\Atmel\\Studio\\7.0\\Packs\\Atmel\\SAML11_DFP\\1.0.91\\include\"  -O1 -ffunction-sections -mlong-calls -g3 -Wall -mcpu=cortex-m23 -c -std=gnu99 -mcmse -MD -MP -MF \"main.d\" -MT\"main.d\" -MT\"main.o\"   -o \"main.o\" \".././main.c\" \n",
      "Finished building: .././main.c\n",
      "Building target: AES-S.elf\n",
      "Invoking: ARM/GNU Linker : 6.3.1\n",
      "\"C:\\Program Files (x86)\\Atmel\\Studio\\7.0\\toolchain\\arm\\arm-gnu-toolchain\\bin\\arm-none-eabi-gcc.exe\" -o AES-S.elf  atmel_start.o Device_Startup/startup_saml11e16a.o Device_Startup/system_saml11e16a.o driver_init.o examples/driver_examples.o hal/src/hal_atomic.o hal/src/hal_delay.o hal/src/hal_gpio.o hal/src/hal_init.o hal/src/hal_io.o hal/src/hal_sleep.o hal/utils/src/utils_assert.o hal/utils/src/utils_event.o hal/utils/src/utils_list.o hal/utils/src/utils_syscalls.o hpl/core/hpl_core_m23_base.o hpl/core/hpl_init.o hpl/dmac/hpl_dmac.o hpl/gclk/hpl_gclk.o hpl/mclk/hpl_mclk.o hpl/osc32kctrl/hpl_osc32kctrl.o hpl/oscctrl/hpl_oscctrl.o hpl/pm/hpl_pm.o main.o mbedtls/aes.o mbedtls/aesni.o mbedtls/arc4.o mbedtls/aria.o mbedtls/asn1parse.o mbedtls/asn1write.o mbedtls/base64.o mbedtls/bignum.o mbedtls/blowfish.o mbedtls/camellia.o mbedtls/ccm.o mbedtls/certs.o mbedtls/chacha20.o mbedtls/chachapoly.o mbedtls/cipher.o mbedtls/cipher_wrap.o mbedtls/cmac.o mbedtls/ctr_drbg.o mbedtls/debug.o mbedtls/des.o mbedtls/dhm.o mbedtls/ecdh.o mbedtls/ecdsa.o mbedtls/ecjpake.o mbedtls/ecp.o mbedtls/ecp_curves.o mbedtls/entropy.o mbedtls/entropy_poll.o mbedtls/error.o mbedtls/gcm.o mbedtls/havege.o mbedtls/hkdf.o mbedtls/hmac_drbg.o mbedtls/md.o mbedtls/md2.o mbedtls/md4.o mbedtls/md5.o mbedtls/md_wrap.o mbedtls/memory_buffer_alloc.o mbedtls/net_sockets.o mbedtls/nist_kw.o mbedtls/oid.o mbedtls/padlock.o mbedtls/pem.o mbedtls/pk.o mbedtls/pkcs11.o mbedtls/pkcs12.o mbedtls/pkcs5.o mbedtls/pkparse.o mbedtls/pkwrite.o mbedtls/pk_wrap.o mbedtls/platform.o mbedtls/platform_util.o mbedtls/poly1305.o mbedtls/ripemd160.o mbedtls/rsa.o mbedtls/rsa_internal.o mbedtls/sha1.o mbedtls/sha256.o mbedtls/sha512.o mbedtls/ssl_cache.o mbedtls/ssl_ciphersuites.o mbedtls/ssl_cli.o mbedtls/ssl_cookie.o mbedtls/ssl_srv.o mbedtls/ssl_ticket.o mbedtls/ssl_tls.o mbedtls/threading.o mbedtls/timing.o mbedtls/version.o mbedtls/version_features.o mbedtls/x509.o mbedtls/x509write_crt.o mbedtls/x509write_csr.o mbedtls/x509_create.o mbedtls/x509_crl.o mbedtls/x509_crt.o mbedtls/x509_csr.o mbedtls/xtea.o trustzone/trustzone_manager.o trustzone/trustzone_veneer.o   -mthumb -Wl,-Map=\"AES-S.map\" --specs=nano.specs -Wl,--start-group -lm  -Wl,--end-group -L\"..\\\\Device_Startup\"  -Wl,--gc-sections -mcpu=cortex-m23 -Wl,--out-implib=libsecure_gateway_veneer.lib -Wl,--cmse-implib -T\"../Device_Startup/saml11_secure.ld\"  \n",
      "Finished building target: AES-S.elf\n",
      "\"C:\\Program Files (x86)\\Atmel\\Studio\\7.0\\toolchain\\arm\\arm-gnu-toolchain\\bin\\arm-none-eabi-objcopy.exe\" -O binary \"AES-S.elf\" \"AES-S.bin\"\n",
      "\"C:\\Program Files (x86)\\Atmel\\Studio\\7.0\\toolchain\\arm\\arm-gnu-toolchain\\bin\\arm-none-eabi-objcopy.exe\" -O ihex -R .eeprom -R .fuse -R .lock -R .signature  \"AES-S.elf\" \"AES-S.hex\"\n",
      "\"C:\\Program Files (x86)\\Atmel\\Studio\\7.0\\toolchain\\arm\\arm-gnu-toolchain\\bin\\arm-none-eabi-objcopy.exe\" -j .eeprom --set-section-flags=.eeprom=alloc,load --change-section-lma .eeprom=0 --no-change-warnings -O binary \"AES-S.elf\" \"AES-S.eep\" || exit 0\n",
      "\"C:\\Program Files (x86)\\Atmel\\Studio\\7.0\\toolchain\\arm\\arm-gnu-toolchain\\bin\\arm-none-eabi-objdump.exe\" -h -S \"AES-S.elf\" > \"AES-S.lss\"\n",
      "\"C:\\Program Files (x86)\\Atmel\\Studio\\7.0\\toolchain\\arm\\arm-gnu-toolchain\\bin\\arm-none-eabi-objcopy.exe\" -O srec -R .eeprom -R .fuse -R .lock -R .signature  \"AES-S.elf\" \"AES-S.srec\"\n",
      "\"C:\\Program Files (x86)\\Atmel\\Studio\\7.0\\toolchain\\arm\\arm-gnu-toolchain\\bin\\arm-none-eabi-size.exe\" \"AES-S.elf\"\n",
      "   text\t   data\t    bss\t    dec\t    hex\tfilename\n",
      "  17220\t    136\t   2144\t  19500\t   4c2c\tAES-S.elf\n",
      "\n",
      "Firmware check OK\n",
      "Chiperase completed successfully\n",
      "Programming completed successfully.\n",
      "\n",
      "Start DGILibExtra with config: \n",
      "{'interfaces': [256, 48], 'loggers': [1, 0], 'gpio_delay_time': 0.0007, 'file_name_base': 'experiment_aes', 'log_folder': 'C:\\\\Users\\\\erikw_000\\\\Documents\\\\GitHub\\\\Atmel-SAML11\\\\Experiments\\\\Security\\\\AES', 'verbose': 0}\n",
      "\n",
      "DGILibExtra data: Interfaces:\n",
      "\t 256:   power,   samples: 12030000\n",
      "\t  48:   gpio,    samples:    7010\n",
      "\n",
      "Saved results in: C:\\Users\\erikw_000\\Documents\\GitHub\\Atmel-SAML11\\Experiments\\Security\\AES\n"
     ]
    }
   ],
   "source": [
    "if run_experiments:\n",
    "    from Security.AES.experiment_aes import experiment_aes\n",
    "    experiment_aes(path.join(getcwd(), \"Security\", \"AES\"))\n",
    "\n",
    "encrypt_charge = pickle.load(open(path.join(getcwd(), \"Security\", \"AES\", \"aes_encrypt_charge.p\"), \"rb\"))\n",
    "decrypt_charge = pickle.load(open(path.join(getcwd(), \"Security\", \"AES\", \"aes_decrypt_charge.p\"), \"rb\"))"
   ]
  },
  {
   "cell_type": "markdown",
   "metadata": {},
   "source": [
    "Experiment AES Flash"
   ]
  },
  {
   "cell_type": "code",
   "execution_count": 6,
   "metadata": {},
   "outputs": [
    {
     "name": "stdout",
     "output_type": "stream",
     "text": [
      "make: Nothing to be done for 'all'.\n",
      "\n",
      "Firmware check OK\n",
      "Chiperase completed successfully\n",
      "Programming completed successfully.\n",
      "\n",
      "Start DGILibExtra with config: \n",
      "{'interfaces': [256, 48], 'loggers': [1, 0], 'gpio_delay_time': 0.0007, 'file_name_base': 'experiment_aes_flash', 'log_folder': 'C:\\\\Users\\\\erikw_000\\\\Documents\\\\GitHub\\\\Atmel-SAML11\\\\Experiments\\\\Security\\\\AES_Flash', 'verbose': 0}\n",
      "\n",
      "DGILibExtra data: Interfaces:\n",
      "\t 256:   power,   samples: 13623000\n",
      "\t  48:   gpio,    samples:   14006\n",
      "\n",
      "Saved results in: C:\\Users\\erikw_000\\Documents\\GitHub\\Atmel-SAML11\\Experiments\\Security\\AES_Flash\n"
     ]
    }
   ],
   "source": [
    "if run_experiments:\n",
    "    from Security.AES_Flash.experiment_aes_flash import experiment_aes_flash\n",
    "    experiment_aes_flash(path.join(getcwd(), \"Security\", \"AES_Flash\"))\n",
    "\n",
    "aes_encrypt_charge = pickle.load(open(path.join(getcwd(), \"Security\", \"AES_Flash\", \"aes_flash_encrypt_charge.p\"), \"rb\"))\n",
    "aes_decrypt_charge = pickle.load(open(path.join(getcwd(), \"Security\", \"AES_Flash\", \"aes_flash_decrypt_charge.p\"), \"rb\"))\n",
    "flash_write_charge = pickle.load(open(path.join(getcwd(), \"Security\", \"AES_Flash\", \"aes_flash_write_charge.p\"), \"rb\"))\n",
    "flash_read_charge = pickle.load(open(path.join(getcwd(), \"Security\", \"AES_Flash\", \"aes_flash_read_charge.p\"), \"rb\"))"
   ]
  },
  {
   "cell_type": "markdown",
   "metadata": {},
   "source": [
    "Experiment TrustZone"
   ]
  },
  {
   "cell_type": "code",
   "execution_count": 7,
   "metadata": {},
   "outputs": [
    {
     "name": "stdout",
     "output_type": "stream",
     "text": [
      "Building file: .././main.c\n",
      "Invoking: ARM/GNU C Compiler : 6.3.1\n",
      "\"C:\\Program Files (x86)\\Atmel\\Studio\\7.0\\toolchain\\arm\\arm-gnu-toolchain\\bin\\arm-none-eabi-gcc.exe\"  -x c -mthumb -D__SAML11E16A__ -DDEBUG  -I\"C:\\Program Files (x86)\\Atmel\\Studio\\7.0\\Packs\\arm\\cmsis\\5.0.1\\CMSIS\\Include\" -I\"../Config\" -I\"..\" -I\"../examples\" -I\"../hal/include\" -I\"../hal/utils/include\" -I\"../hpl/core\" -I\"../hpl/crya\" -I\"../hpl/dmac\" -I\"../hpl/gclk\" -I\"../hpl/mclk\" -I\"../hpl/osc32kctrl\" -I\"../hpl/oscctrl\" -I\"../hpl/pm\" -I\"../hpl/port\" -I\"../hri\" -I\"../../TrustZone-S/trustzone\" -I\"C:\\Program Files (x86)\\Atmel\\Studio\\7.0\\Packs\\Atmel\\SAML11_DFP\\1.0.91\\include\"  -O1 -ffunction-sections -mlong-calls -g3 -Wall -mcpu=cortex-m23 -c -std=gnu99 -MD -MP -MF \"main.d\" -MT\"main.d\" -MT\"main.o\"   -o \"main.o\" \".././main.c\" \n",
      "Finished building: .././main.c\n",
      "Building target: TrustZone-NS.elf\n",
      "Invoking: ARM/GNU Linker : 6.3.1\n",
      "\"C:\\Program Files (x86)\\Atmel\\Studio\\7.0\\toolchain\\arm\\arm-gnu-toolchain\\bin\\arm-none-eabi-gcc.exe\" -o TrustZone-NS.elf  atmel_start.o Device_Startup/startup_saml11e16a.o Device_Startup/system_saml11e16a.o driver_init.o examples/driver_examples.o hal/src/hal_atomic.o hal/src/hal_delay.o hal/src/hal_gpio.o hal/src/hal_init.o hal/src/hal_io.o hal/src/hal_sleep.o hal/utils/src/utils_assert.o hal/utils/src/utils_event.o hal/utils/src/utils_list.o hal/utils/src/utils_syscalls.o hpl/core/hpl_core_m23_base.o hpl/core/hpl_init.o hpl/dmac/hpl_dmac.o hpl/gclk/hpl_gclk.o hpl/mclk/hpl_mclk.o hpl/osc32kctrl/hpl_osc32kctrl.o hpl/oscctrl/hpl_oscctrl.o hpl/pm/hpl_pm.o main.o   -mthumb -Wl,-Map=\"TrustZone-NS.map\" --specs=nano.specs -Wl,--start-group -l:libsecure_gateway_veneer.lib -lm  -Wl,--end-group -L\"..\\..\\TrustZone-S\\Debug\" -L\"..\\\\Device_Startup\"  -Wl,--gc-sections -mcpu=cortex-m23 -T\"../../TrustZone-S/Device_Startup/saml11_nonsecure.ld\"  \n",
      "Finished building target: TrustZone-NS.elf\n",
      "\"C:\\Program Files (x86)\\Atmel\\Studio\\7.0\\toolchain\\arm\\arm-gnu-toolchain\\bin\\arm-none-eabi-objcopy.exe\" -O binary \"TrustZone-NS.elf\" \"TrustZone-NS.bin\"\n",
      "\"C:\\Program Files (x86)\\Atmel\\Studio\\7.0\\toolchain\\arm\\arm-gnu-toolchain\\bin\\arm-none-eabi-objcopy.exe\" -O ihex -R .eeprom -R .fuse -R .lock -R .signature  \"TrustZone-NS.elf\" \"TrustZone-NS.hex\"\n",
      "\"C:\\Program Files (x86)\\Atmel\\Studio\\7.0\\toolchain\\arm\\arm-gnu-toolchain\\bin\\arm-none-eabi-objcopy.exe\" -j .eeprom --set-section-flags=.eeprom=alloc,load --change-section-lma .eeprom=0 --no-change-warnings -O binary \"TrustZone-NS.elf\" \"TrustZone-NS.eep\" || exit 0\n",
      "\"C:\\Program Files (x86)\\Atmel\\Studio\\7.0\\toolchain\\arm\\arm-gnu-toolchain\\bin\\arm-none-eabi-objdump.exe\" -h -S \"TrustZone-NS.elf\" > \"TrustZone-NS.lss\"\n",
      "\"C:\\Program Files (x86)\\Atmel\\Studio\\7.0\\toolchain\\arm\\arm-gnu-toolchain\\bin\\arm-none-eabi-objcopy.exe\" -O srec -R .eeprom -R .fuse -R .lock -R .signature  \"TrustZone-NS.elf\" \"TrustZone-NS.srec\"\n",
      "\"C:\\Program Files (x86)\\Atmel\\Studio\\7.0\\toolchain\\arm\\arm-gnu-toolchain\\bin\\arm-none-eabi-size.exe\" \"TrustZone-NS.elf\"\n",
      "   text\t   data\t    bss\t    dec\t    hex\tfilename\n",
      "   1676\t    100\t   1588\t   3364\t    d24\tTrustZone-NS.elf\n",
      "\n",
      "Firmware check OK\n",
      "Chiperase completed successfully\n",
      "Programming completed successfully.\n",
      "\n",
      "make: Nothing to be done for 'all'.\n",
      "\n",
      "Firmware check OK\n",
      "Programming completed successfully.\n",
      "\n",
      "Start DGILibExtra with config: \n",
      "{'interfaces': [256, 48], 'loggers': [1, 0], 'gpio_delay_time': 0.0007, 'file_name_base': 'experiment_trustzone', 'log_folder': 'C:\\\\Users\\\\erikw_000\\\\Documents\\\\GitHub\\\\Atmel-SAML11\\\\Experiments\\\\Security\\\\TrustZone', 'verbose': 0}\n",
      "\n",
      "DGILibExtra data: Interfaces:\n",
      "\t 256:   power,   samples: 2992000\n",
      "\t  48:   gpio,    samples:   51956\n",
      "\n",
      "Saved results in: C:\\Users\\erikw_000\\Documents\\GitHub\\Atmel-SAML11\\Experiments\\Security\\TrustZone\n"
     ]
    }
   ],
   "source": [
    "if run_experiments:\n",
    "    from Security.TrustZone.experiment_trustzone import experiment_trustzone\n",
    "    experiment_trustzone(path.join(getcwd(), \"Security\", \"TrustZone\"))\n",
    "\n",
    "nsc_store_charge = pickle.load(open(path.join(getcwd(), \"Security\", \"TrustZone\", \"trustzone_store_charge.p\"), \"rb\"))\n",
    "nsc_load_charge = pickle.load(open(path.join(getcwd(), \"Security\", \"TrustZone\", \"trustzone_load_charge.p\"), \"rb\"))"
   ]
  },
  {
   "cell_type": "markdown",
   "metadata": {},
   "source": [
    "Experiment TrustZone Flash"
   ]
  },
  {
   "cell_type": "code",
   "execution_count": 8,
   "metadata": {},
   "outputs": [
    {
     "name": "stdout",
     "output_type": "stream",
     "text": [
      "Building file: .././main.c\n",
      "Invoking: ARM/GNU C Compiler : 6.3.1\n",
      "\"C:\\Program Files (x86)\\Atmel\\Studio\\7.0\\toolchain\\arm\\arm-gnu-toolchain\\bin\\arm-none-eabi-gcc.exe\"  -x c -mthumb -D__SAML11E16A__ -DDEBUG  -I\"C:\\Program Files (x86)\\Atmel\\Studio\\7.0\\Packs\\arm\\cmsis\\5.0.1\\CMSIS\\Include\" -I\"../Config\" -I\"..\" -I\"../examples\" -I\"../hal/include\" -I\"../hal/utils/include\" -I\"../hpl/core\" -I\"../hpl/crya\" -I\"../hpl/dmac\" -I\"../hpl/gclk\" -I\"../hpl/mclk\" -I\"../hpl/osc32kctrl\" -I\"../hpl/oscctrl\" -I\"../hpl/pm\" -I\"../hpl/port\" -I\"../hri\" -I\"../../TrustZone_Flash-S/trustzone\" -I\"C:\\Program Files (x86)\\Atmel\\Studio\\7.0\\Packs\\Atmel\\SAML11_DFP\\1.0.91\\include\"  -O1 -ffunction-sections -mlong-calls -g3 -Wall -mcpu=cortex-m23 -c -std=gnu99 -MD -MP -MF \"main.d\" -MT\"main.d\" -MT\"main.o\"   -o \"main.o\" \".././main.c\" \n",
      "Finished building: .././main.c\n",
      "Building target: TrustZone_Flash-NS.elf\n",
      "Invoking: ARM/GNU Linker : 6.3.1\n",
      "\"C:\\Program Files (x86)\\Atmel\\Studio\\7.0\\toolchain\\arm\\arm-gnu-toolchain\\bin\\arm-none-eabi-gcc.exe\" -o TrustZone_Flash-NS.elf  atmel_start.o Device_Startup/startup_saml11e16a.o Device_Startup/system_saml11e16a.o driver_init.o examples/driver_examples.o hal/src/hal_atomic.o hal/src/hal_delay.o hal/src/hal_gpio.o hal/src/hal_init.o hal/src/hal_io.o hal/src/hal_sleep.o hal/utils/src/utils_assert.o hal/utils/src/utils_event.o hal/utils/src/utils_list.o hal/utils/src/utils_syscalls.o hpl/core/hpl_core_m23_base.o hpl/core/hpl_init.o hpl/dmac/hpl_dmac.o hpl/gclk/hpl_gclk.o hpl/mclk/hpl_mclk.o hpl/osc32kctrl/hpl_osc32kctrl.o hpl/oscctrl/hpl_oscctrl.o hpl/pm/hpl_pm.o main.o   -mthumb -Wl,-Map=\"TrustZone_Flash-NS.map\" --specs=nano.specs -Wl,--start-group -l:libsecure_gateway_veneer.lib -lm  -Wl,--end-group -L\"..\\..\\TrustZone_Flash-S\\Debug\" -L\"..\\\\Device_Startup\"  -Wl,--gc-sections -mcpu=cortex-m23 -T\"../../TrustZone_Flash-S/Device_Startup/saml11_nonsecure.ld\"  \n",
      "Finished building target: TrustZone_Flash-NS.elf\n",
      "\"C:\\Program Files (x86)\\Atmel\\Studio\\7.0\\toolchain\\arm\\arm-gnu-toolchain\\bin\\arm-none-eabi-objcopy.exe\" -O binary \"TrustZone_Flash-NS.elf\" \"TrustZone_Flash-NS.bin\"\n",
      "\"C:\\Program Files (x86)\\Atmel\\Studio\\7.0\\toolchain\\arm\\arm-gnu-toolchain\\bin\\arm-none-eabi-objcopy.exe\" -O ihex -R .eeprom -R .fuse -R .lock -R .signature  \"TrustZone_Flash-NS.elf\" \"TrustZone_Flash-NS.hex\"\n",
      "\"C:\\Program Files (x86)\\Atmel\\Studio\\7.0\\toolchain\\arm\\arm-gnu-toolchain\\bin\\arm-none-eabi-objcopy.exe\" -j .eeprom --set-section-flags=.eeprom=alloc,load --change-section-lma .eeprom=0 --no-change-warnings -O binary \"TrustZone_Flash-NS.elf\" \"TrustZone_Flash-NS.eep\" || exit 0\n",
      "\"C:\\Program Files (x86)\\Atmel\\Studio\\7.0\\toolchain\\arm\\arm-gnu-toolchain\\bin\\arm-none-eabi-objdump.exe\" -h -S \"TrustZone_Flash-NS.elf\" > \"TrustZone_Flash-NS.lss\"\n",
      "\"C:\\Program Files (x86)\\Atmel\\Studio\\7.0\\toolchain\\arm\\arm-gnu-toolchain\\bin\\arm-none-eabi-objcopy.exe\" -O srec -R .eeprom -R .fuse -R .lock -R .signature  \"TrustZone_Flash-NS.elf\" \"TrustZone_Flash-NS.srec\"\n",
      "\"C:\\Program Files (x86)\\Atmel\\Studio\\7.0\\toolchain\\arm\\arm-gnu-toolchain\\bin\\arm-none-eabi-size.exe\" \"TrustZone_Flash-NS.elf\"\n",
      "   text\t   data\t    bss\t    dec\t    hex\tfilename\n",
      "   1676\t    100\t   1588\t   3364\t    d24\tTrustZone_Flash-NS.elf\n",
      "\n",
      "Firmware check OK\n",
      "Chiperase completed successfully\n",
      "Programming completed successfully.\n",
      "\n",
      "make: Nothing to be done for 'all'.\n",
      "\n",
      "Firmware check OK\n",
      "Programming completed successfully.\n",
      "\n",
      "Start DGILibExtra with config: \n",
      "{'interfaces': [256, 48], 'loggers': [1, 0], 'gpio_delay_time': 0.0007, 'file_name_base': 'experiment_trustzone_flash', 'log_folder': 'C:\\\\Users\\\\erikw_000\\\\Documents\\\\GitHub\\\\Atmel-SAML11\\\\Experiments\\\\Security\\\\TrustZone_Flash', 'verbose': 0}\n",
      "\n",
      "DGILibExtra data: Interfaces:\n",
      "\t 256:   power,   samples: 7575000\n",
      "\t  48:   gpio,    samples:   51692\n",
      "\n",
      "Saved results in: C:\\Users\\erikw_000\\Documents\\GitHub\\Atmel-SAML11\\Experiments\\Security\\TrustZone_Flash\n"
     ]
    }
   ],
   "source": [
    "if run_experiments:\n",
    "    from Security.TrustZone_Flash.experiment_trustzone_flash import experiment_trustzone_flash\n",
    "    experiment_trustzone_flash(path.join(getcwd(), \"Security\", \"TrustZone_Flash\"))\n",
    "\n",
    "flash_nsc_store_charge = pickle.load(open(path.join(getcwd(), \"Security\", \"TrustZone_Flash\", \"trustzone_flash_store_charge.p\"), \"rb\"))\n",
    "flash_nsc_load_charge = pickle.load(open(path.join(getcwd(), \"Security\", \"TrustZone_Flash\", \"trustzone_flash_load_charge.p\"), \"rb\"))"
   ]
  },
  {
   "cell_type": "markdown",
   "metadata": {},
   "source": [
    "### Smoothen?"
   ]
  },
  {
   "cell_type": "markdown",
   "metadata": {},
   "source": [
    "Make lookup function"
   ]
  },
  {
   "cell_type": "code",
   "execution_count": 9,
   "metadata": {},
   "outputs": [],
   "source": [
    "AES_BLOCK_SIZE = 16\n",
    "def get_security_charge(security_type, number_of_bytes):\n",
    "    if security_type is \"AES\":\n",
    "        index = ceil(number_of_bytes/AES_BLOCK_SIZE)\n",
    "        return encrypt_charge[index] + decrypt_charge[index]\n",
    "    elif security_type is \"AES_Flash\":\n",
    "        index = ceil(number_of_bytes/AES_BLOCK_SIZE)\n",
    "        return aes_encrypt_charge[index] + flash_write_charge[index] + flash_read_charge[index] + aes_decrypt_charge[index]\n",
    "    elif security_type is \"TrustZone\":\n",
    "        return nsc_store_charge[number_of_bytes] + nsc_store_charge[number_of_bytes]\n",
    "    elif security_type is \"TrustZone_Flash\":\n",
    "        return flash_nsc_store_charge[number_of_bytes] + flash_nsc_load_charge[number_of_bytes]\n",
    "    else:\n",
    "        return 0 # No security, so 0 C"
   ]
  },
  {
   "cell_type": "code",
   "execution_count": 103,
   "metadata": {},
   "outputs": [
    {
     "data": {
      "text/plain": [
       "6492"
      ]
     },
     "execution_count": 103,
     "metadata": {},
     "output_type": "execute_result"
    }
   ],
   "source": [
    "len(nsc_store_charge)\n",
    "#16*880"
   ]
  },
  {
   "cell_type": "code",
   "execution_count": 113,
   "metadata": {},
   "outputs": [],
   "source": [
    "security_types = [\"None\", \"AES\", \"AES_Flash\", \"TrustZone\", \"TrustZone_Flash\"]\n",
    "# security_types = [\"None\", \"AES_Flash\", \"TruseZone_Flash\"]\n",
    "application_names = [\"Kalman\", \"AR\", \"Dijkstra\", \"Sorting 1024\", \"Bit Count\", \"FFT 128\"]"
   ]
  },
  {
   "cell_type": "code",
   "execution_count": 114,
   "metadata": {},
   "outputs": [],
   "source": [
    "# app_charge_scale = 1e-4\n",
    "application_charges = np.array([0.0001, 0.0002, 0.0003, 0.00001984909516280825944492365031646130546505446545779705047607421875, 0.0004, 0.00099129910286306350923613006642653999733738601207733154296875]) # TODO\n",
    "# app_number_of_bytes_scale = 1000\n",
    "application_number_of_bytes = np.array([234, 32, 876, 1544 + 2**10, 90, 1975+24*128]) # TODO"
   ]
  },
  {
   "cell_type": "code",
   "execution_count": 115,
   "metadata": {},
   "outputs": [],
   "source": [
    "base_charge_per_app = dict(zip(application_names, application_charges))\n",
    "number_of_bytes_per_app = dict(zip(application_names, application_number_of_bytes))"
   ]
  },
  {
   "cell_type": "code",
   "execution_count": 116,
   "metadata": {},
   "outputs": [],
   "source": [
    "def get_total_charge(application_name, security_type):\n",
    "    print(application_name, security_type, f\"base: {base_charge_per_app[application_name]}, sec: {get_security_charge(security_type, number_of_bytes_per_app[application_name])}\")\n",
    "    return base_charge_per_app[application_name] + get_security_charge(security_type, number_of_bytes_per_app[application_name])"
   ]
  },
  {
   "cell_type": "markdown",
   "metadata": {},
   "source": [
    "# Bar chart"
   ]
  },
  {
   "cell_type": "code",
   "execution_count": 117,
   "metadata": {},
   "outputs": [],
   "source": [
    "import numpy as np\n",
    "import matplotlib.pyplot as plt"
   ]
  },
  {
   "cell_type": "code",
   "execution_count": 118,
   "metadata": {},
   "outputs": [
    {
     "name": "stdout",
     "output_type": "stream",
     "text": [
      "Kalman None base: 0.0001, sec: 0\n",
      "AR None base: 0.0002, sec: 0\n",
      "Dijkstra None base: 0.0003, sec: 0\n",
      "Sorting 1024 None base: 1.984909516280826e-05, sec: 0\n",
      "Bit Count None base: 0.0004, sec: 0\n",
      "FFT 128 None base: 0.0009912991028630635, sec: 0\n",
      "Kalman AES base: 0.0001, sec: 2.134558538557974e-05\n",
      "AR AES base: 0.0002, sec: 7.767979020911068e-06\n",
      "Dijkstra AES base: 0.0003, sec: 6.308684325127971e-05\n",
      "Sorting 1024 AES base: 1.984909516280826e-05, sec: 0.000173811552841254\n",
      "Bit Count AES base: 0.0004, sec: 1.1982284226705715e-05\n",
      "FFT 128 AES base: 0.0009912991028630635, sec: 0.0003366292979513878\n",
      "Kalman AES_Flash base: 0.0001, sec: 3.439272529308316e-05\n",
      "AR AES_Flash base: 0.0002, sec: 1.3821473868907638e-05\n",
      "Dijkstra AES_Flash base: 0.0003, sec: 9.241594985610617e-05\n",
      "Sorting 1024 AES_Flash base: 1.984909516280826e-05, sec: 0.00024787029089482144\n",
      "Bit Count AES_Flash base: 0.0004, sec: 1.8847149752568023e-05\n",
      "FFT 128 AES_Flash base: 0.0009912991028630635, sec: 0.00047226733670911465\n",
      "Kalman TrustZone base: 0.0001, sec: 4.642929953388708e-07\n",
      "AR TrustZone base: 0.0002, sec: 1.0389689205327006e-07\n",
      "Dijkstra TrustZone base: 0.0003, sec: 1.530979501035538e-06\n",
      "Sorting 1024 TrustZone base: 1.984909516280826e-05, sec: 4.469118552475103e-06\n",
      "Bit Count TrustZone base: 0.0004, sec: 1.9155370554926808e-07\n",
      "FFT 128 TrustZone base: 0.0009912991028630635, sec: 8.823171335467439e-06\n",
      "Kalman TrustZone_Flash base: 0.0001, sec: 7.040224464826005e-06\n",
      "AR TrustZone_Flash base: 0.0002, sec: 4.708487521232661e-06\n",
      "Dijkstra TrustZone_Flash base: 0.0003, sec: 2.6987436452690457e-05\n",
      "Sorting 1024 TrustZone_Flash base: 1.984909516280826e-05, sec: 7.142302708172938e-05\n",
      "Bit Count TrustZone_Flash base: 0.0004, sec: 5.529851126354984e-06\n",
      "FFT 128 TrustZone_Flash base: 0.0009912991028630635, sec: 0.00012970356681269365\n"
     ]
    }
   ],
   "source": [
    "# create plot\n",
    "fig, ax = plt.subplots(figsize=(10,9))\n",
    "index = np.arange(len(application_names))\n",
    "bar_width = 0.18\n",
    "opacity = 0.8\n",
    "\n",
    "# ax.grid()\n",
    "\n",
    "colors = [\"blue\", \"red\", \"green\", \"cyan\", \"magenta\", \"yellow\", \"black\", \"white\"]\n",
    "\n",
    "rects = []\n",
    "for i,security_type in enumerate(security_types):\n",
    "    rects += ax.bar(index + i*bar_width, [get_total_charge(application_name, security_type) for application_name in application_names], bar_width, label=security_type, color=colors[i], alpha=opacity)\n",
    " \n",
    "ax.set_xlabel('Application')\n",
    "ax.set_ylabel('Charge [C]')\n",
    "ax.set_title('Charge per Application')\n",
    "fig.canvas.set_window_title('Charge per Application')\n",
    "ax.set_xticks(index + bar_width)\n",
    "ax.set_xticklabels(application_names)\n",
    "ax.legend()\n",
    " \n",
    "fig.tight_layout()\n",
    "fig.show()"
   ]
  },
  {
   "cell_type": "markdown",
   "metadata": {},
   "source": [
    "# Number of Checkpoints"
   ]
  },
  {
   "cell_type": "code",
   "execution_count": 119,
   "metadata": {},
   "outputs": [],
   "source": [
    "security_types = [\"None\", \"AES_Flash\", \"TrustZone_Flash\"]"
   ]
  },
  {
   "cell_type": "code",
   "execution_count": 120,
   "metadata": {},
   "outputs": [
    {
     "name": "stdout",
     "output_type": "stream",
     "text": [
      "0.0003 0.2999970000000019\n",
      "1.984909516280826e-05\n",
      "0\n",
      "0.00024787029089482144\n"
     ]
    }
   ],
   "source": [
    "cap_scale_per_app = 3e-4\n",
    "points_per_unit = 100\n",
    "capacitor_sizes = np.arange(cap_scale_per_app,cap_scale_per_app*1e3, cap_scale_per_app/points_per_unit)\n",
    "print(min(capacitor_sizes),max(capacitor_sizes))\n",
    "print(base_charge_per_app[\"Sorting 1024\"])\n",
    "print(get_security_charge(\"None\", number_of_bytes_per_app[\"Sorting 1024\"]))\n",
    "print(get_security_charge(\"AES_Flash\", number_of_bytes_per_app[\"Sorting 1024\"]))"
   ]
  },
  {
   "cell_type": "code",
   "execution_count": 121,
   "metadata": {},
   "outputs": [],
   "source": [
    "opacity = 0.8\n",
    "colors = [\"blue\", \"red\", \"green\", \"cyan\", \"magenta\", \"yellow\", \"black\", \"white\"]\n",
    "\n",
    "figs = {}\n",
    "axs = {}\n",
    "# for application_name in application_names:\n",
    "for application_name in [\"Sorting 1024\", \"FFT 128\"]:\n",
    "    fig, ax = plt.subplots(figsize=(10,9))\n",
    "    figs[application_name] = fig\n",
    "    axs[application_name] = ax\n",
    "    fig.canvas.set_window_title(application_name)\n",
    "    for i,security_type in enumerate(security_types):\n",
    "        ax.plot(capacitor_sizes, base_charge_per_app[application_name]/(capacitor_sizes - get_security_charge(security_type, number_of_bytes_per_app[application_name]))/(base_charge_per_app[application_name]/(capacitor_sizes - get_security_charge(\"None\", number_of_bytes_per_app[application_name]))), label=security_type, color=colors[i], alpha=opacity)\n",
    "#         ax.plot(capacitor_sizes, 100 * base_charge_per_app[application_name]/(capacitor_sizes - get_security_charge(security_type, number_of_bytes_per_app[application_name])), label=security_type, color=colors[i], alpha=opacity)\n",
    "#     ax.set_yscale('log')\n",
    "    ax.set_xscale('log')\n",
    "    ax.set_xlabel('Capacitor Size [C]')\n",
    "    ax.set_ylabel('Number of Checkpoints')\n",
    "    ax.set_title(f'Number of Checkpoints per Security Type {application_name}')\n",
    "    fig.canvas.set_window_title(f\"Number of Checkpoints {application_name}\")\n",
    "    ax.legend()\n",
    "    fig.tight_layout()\n",
    "    fig.show()"
   ]
  },
  {
   "cell_type": "code",
   "execution_count": null,
   "metadata": {},
   "outputs": [],
   "source": []
  },
  {
   "cell_type": "markdown",
   "metadata": {},
   "source": [
    "## Scales"
   ]
  },
  {
   "cell_type": "code",
   "execution_count": 49,
   "metadata": {},
   "outputs": [
    {
     "name": "stdout",
     "output_type": "stream",
     "text": [
      "Cap Size:\n",
      "\tmin: 1e-06, max: 0.0009999999999999903\n"
     ]
    }
   ],
   "source": [
    "print(\"Cap Size:\")\n",
    "print(f\"\\tmin: {min(capacitor_sizes)}, max: {max(capacitor_sizes)}\")"
   ]
  },
  {
   "cell_type": "code",
   "execution_count": 50,
   "metadata": {},
   "outputs": [
    {
     "name": "stdout",
     "output_type": "stream",
     "text": [
      "Base Charge:\n",
      "\tKalman: 0.0001\n",
      "\tAR: 0.0002\n",
      "\tDijkstra: 0.0003\n",
      "\tSorting 1024: 1.984909516280826e-05\n",
      "\tBit Count: 0.0004\n",
      "\tfft: 0.0005\n"
     ]
    }
   ],
   "source": [
    "print(\"Base Charge:\")\n",
    "for application_name in application_names:\n",
    "    print(f\"\\t{application_name}: {base_charge_per_app[application_name]}\")"
   ]
  },
  {
   "cell_type": "code",
   "execution_count": 51,
   "metadata": {},
   "outputs": [
    {
     "name": "stdout",
     "output_type": "stream",
     "text": [
      "Security Charge:\n",
      "\tNone min: 0,  max: 0\n",
      "\tAES_Flash min: 1.3821473868907638e-05,  max: 0.00024787029089482144\n",
      "\tTrustZone_Flash min: 4.708487521232661e-06,  max: 7.142302708172938e-05\n"
     ]
    }
   ],
   "source": [
    "print(\"Security Charge:\")\n",
    "for security_type in security_types:\n",
    "    print(f\"\\t{security_type} min: {get_security_charge(security_type, min(number_of_bytes_per_app.values()))},  max: {get_security_charge(security_type, max(number_of_bytes_per_app.values()))}\")\n",
    "# number_of_bytes_per_app = dict(zip(application_names, application_number_of_bytes))"
   ]
  },
  {
   "cell_type": "code",
   "execution_count": 52,
   "metadata": {},
   "outputs": [
    {
     "data": {
      "text/plain": [
       "{'Kalman': 0.0001,\n",
       " 'AR': 0.0002,\n",
       " 'Dijkstra': 0.0003,\n",
       " 'Sorting 1024': 1.984909516280826e-05,\n",
       " 'Bit Count': 0.0004,\n",
       " 'fft': 0.0005}"
      ]
     },
     "execution_count": 52,
     "metadata": {},
     "output_type": "execute_result"
    }
   ],
   "source": [
    "base_charge_per_app"
   ]
  },
  {
   "cell_type": "code",
   "execution_count": 53,
   "metadata": {},
   "outputs": [
    {
     "data": {
      "text/plain": [
       "32"
      ]
     },
     "execution_count": 53,
     "metadata": {},
     "output_type": "execute_result"
    }
   ],
   "source": [
    "min(number_of_bytes_per_app.values())"
   ]
  },
  {
   "cell_type": "code",
   "execution_count": 54,
   "metadata": {},
   "outputs": [
    {
     "data": {
      "text/plain": [
       "0"
      ]
     },
     "execution_count": 54,
     "metadata": {},
     "output_type": "execute_result"
    }
   ],
   "source": [
    "get_security_charge(\"None\", min(number_of_bytes_per_app.values()))"
   ]
  },
  {
   "cell_type": "code",
   "execution_count": 59,
   "metadata": {},
   "outputs": [
    {
     "data": {
      "text/plain": [
       "0.0001048538910494544"
      ]
     },
     "execution_count": 59,
     "metadata": {},
     "output_type": "execute_result"
    }
   ],
   "source": [
    "get_security_charge(\"TrustZone_Flash\", 4000)"
   ]
  },
  {
   "cell_type": "code",
   "execution_count": null,
   "metadata": {},
   "outputs": [],
   "source": []
  },
  {
   "cell_type": "code",
   "execution_count": null,
   "metadata": {},
   "outputs": [],
   "source": []
  },
  {
   "cell_type": "code",
   "execution_count": null,
   "metadata": {},
   "outputs": [],
   "source": []
  },
  {
   "cell_type": "code",
   "execution_count": null,
   "metadata": {},
   "outputs": [],
   "source": []
  },
  {
   "cell_type": "code",
   "execution_count": null,
   "metadata": {},
   "outputs": [],
   "source": [
    "1544 + 2**10"
   ]
  },
  {
   "cell_type": "code",
   "execution_count": null,
   "metadata": {},
   "outputs": [],
   "source": [
    "2**13"
   ]
  },
  {
   "cell_type": "code",
   "execution_count": null,
   "metadata": {},
   "outputs": [],
   "source": []
  },
  {
   "cell_type": "code",
   "execution_count": 71,
   "metadata": {},
   "outputs": [
    {
     "data": {
      "text/plain": [
       "14263"
      ]
     },
     "execution_count": 71,
     "metadata": {},
     "output_type": "execute_result"
    }
   ],
   "source": [
    "0x37b7"
   ]
  },
  {
   "cell_type": "code",
   "execution_count": 72,
   "metadata": {},
   "outputs": [
    {
     "data": {
      "text/plain": [
       "8119"
      ]
     },
     "execution_count": 72,
     "metadata": {},
     "output_type": "execute_result"
    }
   ],
   "source": [
    "0x1fb7"
   ]
  },
  {
   "cell_type": "code",
   "execution_count": 81,
   "metadata": {},
   "outputs": [
    {
     "data": {
      "text/plain": [
       "14263"
      ]
     },
     "execution_count": 81,
     "metadata": {},
     "output_type": "execute_result"
    }
   ],
   "source": [
    "0x1fb7+256*24"
   ]
  },
  {
   "cell_type": "code",
   "execution_count": null,
   "metadata": {},
   "outputs": [],
   "source": [
    "620*16"
   ]
  },
  {
   "cell_type": "code",
   "execution_count": 83,
   "metadata": {},
   "outputs": [
    {
     "data": {
      "text/plain": [
       "1975"
      ]
     },
     "execution_count": 83,
     "metadata": {},
     "output_type": "execute_result"
    }
   ],
   "source": [
    "0x1fb7-256*24"
   ]
  },
  {
   "cell_type": "code",
   "execution_count": 104,
   "metadata": {},
   "outputs": [
    {
     "data": {
      "text/plain": [
       "8119.0"
      ]
     },
     "execution_count": 104,
     "metadata": {},
     "output_type": "execute_result"
    }
   ],
   "source": [
    "1975+24*512"
   ]
  },
  {
   "cell_type": "code",
   "execution_count": null,
   "metadata": {},
   "outputs": [],
   "source": []
  },
  {
   "cell_type": "code",
   "execution_count": 85,
   "metadata": {},
   "outputs": [
    {
     "data": {
      "text/plain": [
       "5047"
      ]
     },
     "execution_count": 85,
     "metadata": {},
     "output_type": "execute_result"
    }
   ],
   "source": [
    "1975+24*128"
   ]
  },
  {
   "cell_type": "code",
   "execution_count": 86,
   "metadata": {},
   "outputs": [
    {
     "name": "stdout",
     "output_type": "stream",
     "text": [
      "13b7\n"
     ]
    }
   ],
   "source": [
    "print(f\"{1975+24*128:x}\")"
   ]
  },
  {
   "cell_type": "code",
   "execution_count": 87,
   "metadata": {},
   "outputs": [
    {
     "name": "stdout",
     "output_type": "stream",
     "text": [
      "7b7\n"
     ]
    }
   ],
   "source": [
    "print(f\"{1975+24*0:x}\")"
   ]
  },
  {
   "cell_type": "code",
   "execution_count": null,
   "metadata": {},
   "outputs": [],
   "source": []
  },
  {
   "cell_type": "code",
   "execution_count": null,
   "metadata": {},
   "outputs": [],
   "source": []
  },
  {
   "cell_type": "markdown",
   "metadata": {},
   "source": [
    "## Plot stuff"
   ]
  },
  {
   "cell_type": "code",
   "execution_count": null,
   "metadata": {},
   "outputs": [],
   "source": [
    "fig = plt.figure(figsize=(10, 6))\n",
    "ax = fig.add_subplot(1, 1, 1)\n",
    "ax.set_xlabel(\"Capacitor Size [C]\")\n",
    "ax.set_ylabel(\"Number of Checkpoints\")"
   ]
  },
  {
   "cell_type": "code",
   "execution_count": null,
   "metadata": {},
   "outputs": [],
   "source": [
    "capacitor_sizes = range(1,101)\n",
    "def get_number_of_checkpoints(application_number):\n",
    "    return [application_charges[application_number]/(capacitor_size - get_security_charge(\"trustzone_flash\", application_number_of_bytes[application_number])) for capacitor_size in capacitor_sizes]"
   ]
  },
  {
   "cell_type": "code",
   "execution_count": null,
   "metadata": {},
   "outputs": [],
   "source": [
    "for application_number in range(5):\n",
    "    ax.plot(capacitor_sizes, get_number_of_checkpoints(application_number), label=application_names[application_number])\n",
    "ax.legend()\n",
    "# ax.set_yscale('log')\n",
    "# ax.set_xscale('log')\n",
    "# ax.invert_xaxis()"
   ]
  },
  {
   "cell_type": "code",
   "execution_count": null,
   "metadata": {},
   "outputs": [],
   "source": []
  },
  {
   "cell_type": "code",
   "execution_count": null,
   "metadata": {},
   "outputs": [],
   "source": [
    "# fig2 = plt.figure(figsize=(10, 6))\n",
    "# ax2 = fig2.add_subplot(111, projection='3d')\n",
    "\n",
    "# ax2.set_xlabel(\"Capacitor Size [C]\")\n",
    "# ax2.set_ylabel(\"Number of Bytes\")\n",
    "# ax2.set_zlabel(\"Number of Checkpoints\")"
   ]
  },
  {
   "cell_type": "code",
   "execution_count": null,
   "metadata": {},
   "outputs": [],
   "source": [
    "# capacitor_sizes = range(1,1001)\n",
    "# application_charge = 50\n",
    "# number_of_bytes = range(1,1001)"
   ]
  },
  {
   "cell_type": "code",
   "execution_count": null,
   "metadata": {},
   "outputs": [],
   "source": [
    "# def get_number_of_checkpoints(application_charge, capacitor_size, number_of_bytes, security_type=\"trustzone_flash\"):\n",
    "#     return application_charge/(capacitor_size - get_security_charge(security_type, number_of_bytes))"
   ]
  },
  {
   "cell_type": "code",
   "execution_count": null,
   "metadata": {},
   "outputs": [],
   "source": [
    "# X, Y = np.meshgrid(capacitor_sizes, number_of_bytes)\n",
    "# Z = np.zeros(shape=(1000,1000))\n",
    "# for i,capacitor_size in enumerate(capacitor_sizes):\n",
    "#     for j,number_of_byte in enumerate(number_of_bytes):\n",
    "#         Z[i,j] = get_number_of_checkpoints(application_charge, capacitor_size, number_of_byte)\n",
    "# #Z = np.array([np.array([get_number_of_checkpoints(capacitor_size,application_charge) for application_charge in application_charges]) for  capacitor_size in capacitor_sizes])\n",
    "# Z.shape"
   ]
  },
  {
   "cell_type": "code",
   "execution_count": null,
   "metadata": {},
   "outputs": [],
   "source": [
    "# surf = ax2.plot_surface(X, Y, Z)"
   ]
  },
  {
   "cell_type": "code",
   "execution_count": null,
   "metadata": {},
   "outputs": [],
   "source": []
  },
  {
   "cell_type": "code",
   "execution_count": null,
   "metadata": {},
   "outputs": [],
   "source": []
  }
 ],
 "metadata": {
  "kernelspec": {
   "display_name": "Python [conda env:SAML11-32]",
   "language": "python",
   "name": "conda-env-SAML11-32-py"
  },
  "language_info": {
   "codemirror_mode": {
    "name": "ipython",
    "version": 3
   },
   "file_extension": ".py",
   "mimetype": "text/x-python",
   "name": "python",
   "nbconvert_exporter": "python",
   "pygments_lexer": "ipython3",
   "version": "3.6.8"
  }
 },
 "nbformat": 4,
 "nbformat_minor": 2
}
