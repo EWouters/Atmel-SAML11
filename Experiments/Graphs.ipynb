{
 "cells": [
  {
   "cell_type": "code",
   "execution_count": 1,
   "metadata": {},
   "outputs": [],
   "source": [
    "# %matplotlib ipympl\n",
    "# %matplotlib inline\n",
    "%matplotlib wx"
   ]
  },
  {
   "cell_type": "code",
   "execution_count": 2,
   "metadata": {},
   "outputs": [],
   "source": [
    "import matplotlib.pyplot as plt\n",
    "import numpy as np"
   ]
  },
  {
   "cell_type": "markdown",
   "metadata": {},
   "source": [
    "## Load Pickles of checkpoint charges per byte"
   ]
  },
  {
   "cell_type": "code",
   "execution_count": 3,
   "metadata": {},
   "outputs": [],
   "source": [
    "from os import getcwd, path, pardir, scandir\n",
    "import pickle\n",
    "from math import ceil"
   ]
  },
  {
   "cell_type": "code",
   "execution_count": 4,
   "metadata": {},
   "outputs": [],
   "source": [
    "from pydgilib_extra import LOGGER_CSV"
   ]
  },
  {
   "cell_type": "code",
   "execution_count": 5,
   "metadata": {},
   "outputs": [],
   "source": [
    "run_experiments = True"
   ]
  },
  {
   "cell_type": "code",
   "execution_count": 6,
   "metadata": {},
   "outputs": [],
   "source": [
    "from experiments.checkpoint_energy import CheckpointEnergy"
   ]
  },
  {
   "cell_type": "code",
   "execution_count": 7,
   "metadata": {},
   "outputs": [],
   "source": [
    "checkpoint_energy = CheckpointEnergy()"
   ]
  },
  {
   "cell_type": "code",
   "execution_count": 8,
   "metadata": {},
   "outputs": [
    {
     "data": {
      "text/plain": [
       "['AES', 'AES_Flash', 'TrustZone', 'TrustZone_Flash']"
      ]
     },
     "execution_count": 8,
     "metadata": {},
     "output_type": "execute_result"
    }
   ],
   "source": [
    "checkpoint_energy.security_projects"
   ]
  },
  {
   "cell_type": "code",
   "execution_count": 9,
   "metadata": {},
   "outputs": [
    {
     "data": {
      "text/plain": [
       "['BitCounting', 'FFT', 'Sorting']"
      ]
     },
     "execution_count": 9,
     "metadata": {},
     "output_type": "execute_result"
    }
   ],
   "source": [
    "checkpoint_energy.workload_projects"
   ]
  },
  {
   "cell_type": "code",
   "execution_count": 10,
   "metadata": {},
   "outputs": [
    {
     "name": "stdout",
     "output_type": "stream",
     "text": [
      "{'Target voltage': 3.33, 'Device information': {'Name': 'ATSAML11E16A', 'JtagId': 'N/A', 'CPU arch.': 'CORTEX-M23', 'Series': 'SAML11', 'DAL': 2}, 'Memory Information': {'base': {'FLASH': [0, 65536], 'BOCOR': [8437760, 256], 'SW_CALIB': [8413216, 8], 'USER_PAGE': [8404992, 256], 'HPB0': [1073741824, 32768], 'HPB2': [1107296256, 16384], 'SCS': [3758153728, 4096]}, 'fuses': {'BOOTROM_BOOTKEY_7': [4294967295], 'BOOTROM_BOOTKEY_6': [4294967295], 'BOOTROM_BOOTKEY_5': [4294967295], 'BOOTROM_BOOTKEY_4': [4294967295], 'BOOTROM_BOOTKEY_3': [4294967295], 'BOOTROM_BOOTKEY_2': [4294967295], 'BOOTROM_BOOTKEY_1': [4294967295], 'BOOTROM_BOOTKEY_0': [4294967295], 'BOOTROM_CRCKEY_3': [4294967295], 'BOOTROM_CRCKEY_2': [4294967295], 'BOOTROM_CRCKEY_1': [4294967295], 'BOOTROM_CRCKEY_0': [4294967295], 'BOOTROM_CEKEY2_3': [4294967295], 'BOOTROM_CEKEY2_2': [4294967295], 'BOOTROM_CEKEY2_1': [4294967295], 'BOOTROM_CEKEY2_0': [4294967295], 'BOOTROM_CEKEY1_3': [4294967295], 'BOOTROM_CEKEY1_2': [4294967295], 'BOOTROM_CEKEY1_1': [4294967295], 'BOOTROM_CEKEY1_0': [4294967295], 'BOOTROM_CEKEY0_3': [4294967295], 'BOOTROM_CEKEY0_2': [4294967295], 'BOOTROM_CEKEY0_1': [4294967295], 'BOOTROM_CEKEY0_0': [4294967295], 'BOOTROM_ROMVERSION': [61], 'IDAU_BOOTPROT': [0], 'BOOTROM_BOOTOPT': [160], 'IDAU_BS': [0], 'DFLLULP_DIV_PL2': [0], 'ADC_BIASCOMP': [7], 'HOT_ADC_VAL_PTAT': [3210], 'HOT_INT1V_VAL': [252], 'ROOM_INT1V_VAL': [3], 'HOT_TEMP_VAL_INT': [85], 'ROOM_TEMP_VAL_INT': [30], 'IDAU_RS': [127], 'IDAU_ANSC': [32], 'WDT_EWOFFSET': [11], 'WDT_PER': [11], 'BOD33_ACTION': [1], 'BOD33USERLEVEL': [6], 'NVMCTRL_SULCK': [7]}}}\n"
     ]
    }
   ],
   "source": [
    "checkpoint_energy.get_device_info(verbose=1)"
   ]
  },
  {
   "cell_type": "code",
   "execution_count": null,
   "metadata": {},
   "outputs": [],
   "source": []
  },
  {
   "cell_type": "code",
   "execution_count": 11,
   "metadata": {},
   "outputs": [],
   "source": [
    "# checkpoint_energy.measure_security_energy('AES_Flash', live_plot=True, max_log_time=200, show_lm_plot=2)"
   ]
  },
  {
   "cell_type": "code",
   "execution_count": 12,
   "metadata": {},
   "outputs": [
    {
     "name": "stdout",
     "output_type": "stream",
     "text": [
      "Firmware check OK\n",
      "Chiperase completed successfully\n",
      "\n",
      "make: Nothing to be done for 'all'.\n",
      "\n",
      "Firmware check OK\n",
      "Programming completed successfully.\n",
      "\n",
      "Starting DGILibExtra with config: \n",
      "{'interfaces': [256, 48], 'loggers': [0], 'gpio_delay_time': 0.0007, 'file_name_base': 'experiment_aes', 'log_folder': 'C:\\\\Users\\\\erikw_000\\\\Documents\\\\GitHub\\\\Atmel-SAML11\\\\Experiments\\\\Security\\\\AES'}\n",
      "\n",
      "DGILibExtra logger_data: Interfaces:\n",
      "\t  48:   gpio,    samples:    6339\n",
      "\t 256:   power,   samples: 9938142\n",
      "\n",
      "Fitting model to AES Encrypt with maximum 12640 bytes.\n",
      "Fitting model to AES Decrypt with maximum 12656 bytes.\n",
      "Firmware check OK\n",
      "Chiperase completed successfully\n",
      "\n",
      "make: Nothing to be done for 'all'.\n",
      "\n",
      "Firmware check OK\n",
      "Programming completed successfully.\n",
      "\n",
      "Starting DGILibExtra with config: \n",
      "{'interfaces': [256, 48], 'loggers': [0], 'gpio_delay_time': 0.0007, 'file_name_base': 'experiment_aes_flash', 'log_folder': 'C:\\\\Users\\\\erikw_000\\\\Documents\\\\GitHub\\\\Atmel-SAML11\\\\Experiments\\\\Security\\\\AES_Flash'}\n",
      "\n",
      "DGILibExtra logger_data: Interfaces:\n",
      "\t  48:   gpio,    samples:   12771\n",
      "\t 256:   power,   samples: 11328000\n",
      "\n",
      "Fitting model to AES Encrypt with maximum 12752 bytes.\n",
      "Fitting model to AES Decrypt with maximum 12736 bytes.\n",
      "Fitting model to Flash Write with maximum 12752 bytes.\n",
      "Fitting model to Flash Read with maximum 12752 bytes.\n",
      "Firmware check OK\n",
      "Chiperase completed successfully\n",
      "\n",
      "make: Nothing to be done for 'all'.\n",
      "\n",
      "Firmware check OK\n",
      "Programming completed successfully.\n",
      "\n",
      "make: Nothing to be done for 'all'.\n",
      "\n",
      "Firmware check OK\n",
      "Programming completed successfully.\n",
      "\n",
      "Starting DGILibExtra with config: \n",
      "{'interfaces': [256, 48], 'loggers': [0], 'gpio_delay_time': 0.0007, 'file_name_base': 'experiment_trustzone', 'log_folder': 'C:\\\\Users\\\\erikw_000\\\\Documents\\\\GitHub\\\\Atmel-SAML11\\\\Experiments\\\\Security\\\\TrustZone'}\n",
      "\n",
      "DGILibExtra logger_data: Interfaces:\n",
      "\t  48:   gpio,    samples:   47990\n",
      "\t 256:   power,   samples: 2580000\n",
      "\n",
      "Fitting model to TrustZone Store with maximum 5996 bytes.\n",
      "Fitting model to TrustZone Load with maximum 5996 bytes.\n",
      "Firmware check OK\n",
      "Chiperase completed successfully\n",
      "\n",
      "make: Nothing to be done for 'all'.\n",
      "\n",
      "Firmware check OK\n",
      "Programming completed successfully.\n",
      "\n",
      "make: Nothing to be done for 'all'.\n",
      "\n",
      "Firmware check OK\n",
      "Programming completed successfully.\n",
      "\n",
      "Starting DGILibExtra with config: \n",
      "{'interfaces': [256, 48], 'loggers': [0], 'gpio_delay_time': 0.0007, 'file_name_base': 'experiment_trustzone_flash', 'log_folder': 'C:\\\\Users\\\\erikw_000\\\\Documents\\\\GitHub\\\\Atmel-SAML11\\\\Experiments\\\\Security\\\\TrustZone_Flash'}\n",
      "\n",
      "DGILibExtra logger_data: Interfaces:\n",
      "\t  48:   gpio,    samples:   47973\n",
      "\t 256:   power,   samples: 5706000\n",
      "\n",
      "Fitting model to TrustZone Flash Store with maximum 5994 bytes.\n"
     ]
    },
    {
     "name": "stderr",
     "output_type": "stream",
     "text": [
      "D:\\Anaconda3\\envs\\SAML11-32\\lib\\site-packages\\matplotlib\\pyplot.py:514: RuntimeWarning: More than 20 figures have been opened. Figures created through the pyplot interface (`matplotlib.pyplot.figure`) are retained until explicitly closed and may consume too much memory. (To control this warning, see the rcParam `figure.max_open_warning`).\n",
      "  max_open_warning, RuntimeWarning)\n"
     ]
    },
    {
     "name": "stdout",
     "output_type": "stream",
     "text": [
      "Fitting model to TrustZone Flash Load with maximum 5994 bytes.\n"
     ]
    }
   ],
   "source": [
    "if run_experiments:\n",
    "    checkpoint_energy.measure_all_security_energy(config_dict={\"loggers\": [LOGGER_CSV]}, show_lm_plot=2)"
   ]
  },
  {
   "cell_type": "code",
   "execution_count": null,
   "metadata": {},
   "outputs": [],
   "source": []
  },
  {
   "cell_type": "markdown",
   "metadata": {},
   "source": [
    "### Smoothen?"
   ]
  },
  {
   "cell_type": "markdown",
   "metadata": {},
   "source": [
    "Get lookup function"
   ]
  },
  {
   "cell_type": "code",
   "execution_count": 13,
   "metadata": {},
   "outputs": [],
   "source": [
    "get_security_energy = checkpoint_energy.get_security_energy_function()"
   ]
  },
  {
   "cell_type": "code",
   "execution_count": 14,
   "metadata": {},
   "outputs": [
    {
     "name": "stdout",
     "output_type": "stream",
     "text": [
      "AES {'AES Encrypt': 8.726527462110667e-06, 'AES Decrypt': 8.523603802501043e-06}\n",
      "AES {'AES Encrypt': 3.2097829996770706, 'AES Decrypt': 3.3157625507079116}\n",
      "AES_Flash {'AES Encrypt': 5.340906564515927e-06, 'AES Decrypt': 5.710224592908599e-06, 'Flash Write': 6.602269597469372e-06, 'Flash Read': 1.1769474996862883e-07}\n",
      "AES_Flash {'AES Encrypt': 3.360749212858372, 'AES Decrypt': 3.2559778198651363, 'Flash Write': 2.39241578703048, 'Flash Read': 0.07728764458576942}\n",
      "TrustZone {'TrustZone Store': 1.2012787020858632e-07, 'TrustZone Load': 1.1850452128603901e-07}\n",
      "TrustZone {'TrustZone Store': 0.09031142957444294, 'TrustZone Load': 0.08975812231942296}\n",
      "TrustZone_Flash {'TrustZone Flash Store': 5.466062435996475e-06, 'TrustZone Flash Load': 9.171925349977589e-08}\n",
      "TrustZone_Flash {'TrustZone Flash Store': 2.5547072637329364, 'TrustZone Flash Load': 0.08044798933422952}\n",
      "None {'None': 0}\n",
      "None {'None': 0}\n"
     ]
    }
   ],
   "source": [
    "for security_type in checkpoint_energy.security_projects + [\"None\"]:\n",
    "    print(security_type, get_security_energy(security_type,100))\n",
    "    print(security_type, get_security_energy(security_type,100000000))"
   ]
  },
  {
   "cell_type": "code",
   "execution_count": 15,
   "metadata": {},
   "outputs": [
    {
     "ename": "TypeError",
     "evalue": "repeated_experiment() got an unexpected keyword argument 'repititions'",
     "output_type": "error",
     "traceback": [
      "\u001b[1;31m---------------------------------------------------------------------------\u001b[0m",
      "\u001b[1;31mTypeError\u001b[0m                                 Traceback (most recent call last)",
      "\u001b[1;32m<ipython-input-15-96b04bb72757>\u001b[0m in \u001b[0;36m<module>\u001b[1;34m\u001b[0m\n\u001b[0;32m      1\u001b[0m \u001b[1;32mif\u001b[0m \u001b[0mrun_experiments\u001b[0m\u001b[1;33m:\u001b[0m\u001b[1;33m\u001b[0m\u001b[1;33m\u001b[0m\u001b[0m\n\u001b[0;32m      2\u001b[0m     \u001b[0mrepititions\u001b[0m \u001b[1;33m=\u001b[0m \u001b[1;36m100\u001b[0m\u001b[1;33m\u001b[0m\u001b[1;33m\u001b[0m\u001b[0m\n\u001b[1;32m----> 3\u001b[1;33m     \u001b[0mcheckpoint_energy\u001b[0m\u001b[1;33m.\u001b[0m\u001b[0mmeasure_all_workload_energy\u001b[0m\u001b[1;33m(\u001b[0m\u001b[0mconfig_dict\u001b[0m\u001b[1;33m=\u001b[0m\u001b[1;33m{\u001b[0m\u001b[1;34m\"loggers\"\u001b[0m\u001b[1;33m:\u001b[0m \u001b[1;33m[\u001b[0m\u001b[0mLOGGER_CSV\u001b[0m\u001b[1;33m]\u001b[0m\u001b[1;33m}\u001b[0m\u001b[1;33m,\u001b[0m \u001b[0mrepititions\u001b[0m\u001b[1;33m=\u001b[0m\u001b[0mrepititions\u001b[0m\u001b[1;33m)\u001b[0m\u001b[1;33m\u001b[0m\u001b[1;33m\u001b[0m\u001b[0m\n\u001b[0m",
      "\u001b[1;32m~\\Documents\\GitHub\\Atmel-SAML11\\Experiments\\experiments\\checkpoint_energy.py\u001b[0m in \u001b[0;36mmeasure_all_workload_energy\u001b[1;34m(self, **kwargs)\u001b[0m\n\u001b[0;32m     37\u001b[0m     \u001b[1;32mdef\u001b[0m \u001b[0mmeasure_all_workload_energy\u001b[0m\u001b[1;33m(\u001b[0m\u001b[0mself\u001b[0m\u001b[1;33m,\u001b[0m \u001b[1;33m**\u001b[0m\u001b[0mkwargs\u001b[0m\u001b[1;33m)\u001b[0m\u001b[1;33m:\u001b[0m\u001b[1;33m\u001b[0m\u001b[1;33m\u001b[0m\u001b[0m\n\u001b[0;32m     38\u001b[0m         \u001b[1;32mfor\u001b[0m \u001b[0mworkload_project\u001b[0m \u001b[1;32min\u001b[0m \u001b[0mself\u001b[0m\u001b[1;33m.\u001b[0m\u001b[0mworkload_projects\u001b[0m\u001b[1;33m:\u001b[0m\u001b[1;33m\u001b[0m\u001b[1;33m\u001b[0m\u001b[0m\n\u001b[1;32m---> 39\u001b[1;33m             \u001b[0mself\u001b[0m\u001b[1;33m.\u001b[0m\u001b[0mmeasure_workload_energy\u001b[0m\u001b[1;33m(\u001b[0m\u001b[0mworkload_project\u001b[0m\u001b[1;33m,\u001b[0m \u001b[1;33m**\u001b[0m\u001b[0mkwargs\u001b[0m\u001b[1;33m)\u001b[0m\u001b[1;33m\u001b[0m\u001b[1;33m\u001b[0m\u001b[0m\n\u001b[0m\u001b[0;32m     40\u001b[0m \u001b[1;33m\u001b[0m\u001b[0m\n\u001b[0;32m     41\u001b[0m     def measure_security_energy(self, security_project, config_file=None,\n",
      "\u001b[1;32m~\\Documents\\GitHub\\Atmel-SAML11\\Experiments\\experiments\\checkpoint_energy.py\u001b[0m in \u001b[0;36mmeasure_workload_energy\u001b[1;34m(self, workload_project, config_file, **kwargs)\u001b[0m\n\u001b[0;32m     63\u001b[0m         \u001b[1;32mif\u001b[0m \u001b[1;32mnot\u001b[0m \u001b[0mpath\u001b[0m\u001b[1;33m.\u001b[0m\u001b[0misfile\u001b[0m\u001b[1;33m(\u001b[0m\u001b[0mconfig_file_path\u001b[0m\u001b[1;33m)\u001b[0m\u001b[1;33m:\u001b[0m\u001b[1;33m\u001b[0m\u001b[1;33m\u001b[0m\u001b[0m\n\u001b[0;32m     64\u001b[0m             \u001b[1;32mraise\u001b[0m \u001b[0mIOError\u001b[0m\u001b[1;33m(\u001b[0m\u001b[1;34mf\"Config file not found at {config_file_path}\"\u001b[0m\u001b[1;33m)\u001b[0m\u001b[1;33m\u001b[0m\u001b[1;33m\u001b[0m\u001b[0m\n\u001b[1;32m---> 65\u001b[1;33m         \u001b[0mrepeated_experiment\u001b[0m\u001b[1;33m(\u001b[0m\u001b[0mconfig_file_path\u001b[0m\u001b[1;33m,\u001b[0m \u001b[1;33m**\u001b[0m\u001b[0mkwargs\u001b[0m\u001b[1;33m)\u001b[0m\u001b[1;33m\u001b[0m\u001b[1;33m\u001b[0m\u001b[0m\n\u001b[0m\u001b[0;32m     66\u001b[0m \u001b[1;33m\u001b[0m\u001b[0m\n\u001b[0;32m     67\u001b[0m     \u001b[1;32mdef\u001b[0m \u001b[0mget_security_energy_function\u001b[0m\u001b[1;33m(\u001b[0m\u001b[0mself\u001b[0m\u001b[1;33m,\u001b[0m \u001b[0mconfig_file\u001b[0m\u001b[1;33m=\u001b[0m\u001b[1;32mNone\u001b[0m\u001b[1;33m)\u001b[0m\u001b[1;33m:\u001b[0m\u001b[1;33m\u001b[0m\u001b[1;33m\u001b[0m\u001b[0m\n",
      "\u001b[1;31mTypeError\u001b[0m: repeated_experiment() got an unexpected keyword argument 'repititions'"
     ]
    }
   ],
   "source": [
    "if run_experiments:\n",
    "    repetitions = 100\n",
    "    checkpoint_energy.measure_all_workload_energy(config_dict={\"loggers\": [LOGGER_CSV]}, repetitions=repetitions)"
   ]
  },
  {
   "cell_type": "code",
   "execution_count": 71,
   "metadata": {},
   "outputs": [
    {
     "name": "stdout",
     "output_type": "stream",
     "text": [
      "Firmware check OK\n",
      "Chiperase completed successfully\n",
      "\n",
      "make: Nothing to be done for 'all'.\n",
      "\n",
      "Firmware check OK\n",
      "Programming completed successfully.\n",
      "\n",
      "Starting DGILibExtra with config: \n",
      "{'interfaces': [256, 48], 'loggers': [1, 2, 0], 'gpio_delay_time': 0.0007, 'file_name_base': 'experiment_bit_counting', 'plot_pins': [True, True, True, True], 'plot_pins_method': 'line', 'plot_xmax': 1, 'window_title': 'Experiment BitCounting', 'log_folder': 'C:\\\\Users\\\\erikw_000\\\\Documents\\\\GitHub\\\\Atmel-SAML11\\\\Experiments\\\\Workloads\\\\BitCounting'}\n",
      "\n",
      "((0.0022984, [True, True, True, True]), (0.0024002666666666666, [True, True, True, True]), (0.0024002666666666666, [False, True, True, True]), (0.0024050666666666667, [False, True, True, True]), (0.0024050666666666667, [False, False, False, True]), (0.0024088, [False, False, False, True]), (0.0024088, [False, False, False, False]), (0.01923333333333333, [False, False, False, False]), (0.01923333333333333, [False, False, True, False]), (0.041892, [False, False, True, False]), (0.041892, [False, False, False, False]), (0.043968266666666665, [False, False, False, False]), (0.043968266666666665, [True, True, True, True]), (0.04397146666666667, [True, True, True, True])) ([6.727921824563716e-06], [0.022639646400000005]) 2 ['Bit Counting']\n",
      "DGILibExtra logger_data: Interfaces:\n",
      "\t 256:   power,   samples:    4000\n",
      "\t  48:   gpio,    samples:      14\n",
      "\n",
      "((0.0020733333333333333, [True, True, True, True]), (0.002194933333333333, [True, True, True, True]), (0.002194933333333333, [False, True, True, True]), (0.0021997333333333333, [False, True, True, True]), (0.0021997333333333333, [False, False, False, True]), (0.0022034666666666666, [False, False, False, True]), (0.0022034666666666666, [False, False, False, False]), (0.018806133333333332, [False, False, False, False]), (0.018806133333333332, [False, False, True, False]), (0.041468, [False, False, True, False]), (0.041468, [False, False, False, False]), (0.043544266666666664, [False, False, False, False]), (0.043544266666666664, [True, True, True, True]), (0.043548, [True, True, True, True])) ([6.72721878574484e-06], [0.02264001226666667]) 2 ['Bit Counting']\n",
      "DGILibExtra logger_data: Interfaces:\n",
      "\t 256:   power,   samples:    3000\n",
      "\t  48:   gpio,    samples:      14\n",
      "\n",
      "((0.0023992, [True, True, True, True]), (0.0023992, [False, False, False, False]), (0.0024029333333333335, [False, False, False, False]), (0.002409866666666667, [False, False, False, False]), (0.0185736, [False, False, False, False]), (0.0185736, [False, False, True, False]), (0.04123706666666667, [False, False, True, False]), (0.04123706666666667, [False, False, False, False]), (0.043313333333333336, [False, False, False, False]), (0.043313333333333336, [True, True, True, True]), (0.04331706666666667, [True, True, True, True])) ([6.715691062617917e-06], [0.022639463466666662]) 2 ['Bit Counting']\n",
      "DGILibExtra logger_data: Interfaces:\n",
      "\t 256:   power,   samples:    3000\n",
      "\t  48:   gpio,    samples:      11\n",
      "\n",
      "((0.0024776, [True, True, True, True]), (0.0024776, [False, False, False, False]), (0.018972533333333333, [False, False, False, False]), (0.018972533333333333, [False, False, True, False]), (0.04163706666666667, [False, False, True, False]), (0.04163706666666667, [False, False, False, False]), (0.04371333333333333, [False, False, False, False]), (0.04371333333333333, [True, True, True, True]), (0.043717066666666665, [True, True, True, True])) ([6.751674660491886e-06], [0.022703633066666666]) 2 ['Bit Counting']\n",
      "DGILibExtra logger_data: Interfaces:\n",
      "\t 256:   power,   samples:    3000\n",
      "\t  48:   gpio,    samples:       9\n",
      "\n",
      "((0.002116, [True, True, True, True]), (0.0023512, [True, True, True, True]), (0.0023512, [False, True, True, True]), (0.002356, [False, True, True, True]), (0.002356, [False, False, False, True]), (0.0023597333333333333, [False, False, False, True]), (0.0023597333333333333, [False, False, False, False]), (0.0186376, [False, False, False, False]), (0.0186376, [False, False, True, False]), (0.0413, [False, False, True, False]), (0.0413, [False, False, False, False]), (0.04337626666666667, [False, False, False, False]), (0.04337626666666667, [True, True, True, True]), (0.043379466666666665, [True, True, True, True])) ([6.711632259157817e-06], [0.022639463466666662]) 2 ['Bit Counting']\n",
      "DGILibExtra logger_data: Interfaces:\n",
      "\t 256:   power,   samples:    3000\n",
      "\t  48:   gpio,    samples:      14\n",
      "\n",
      "((0.0028856000000000003, [True, True, True, True]), (0.0028856000000000003, [False, False, False, False]), (0.019190666666666665, [False, False, False, False]), (0.019190666666666665, [False, False, True, False]), (0.04185253333333333, [False, False, True, False]), (0.04185253333333333, [False, False, False, False]), (0.043929333333333334, [False, False, False, False]), (0.043929333333333334, [True, True, True, True]), (0.043932533333333336, [True, True, True, True])) ([6.719804163576896e-06], [0.022639646400000005]) 2 ['Bit Counting']\n",
      "DGILibExtra logger_data: Interfaces:\n",
      "\t 256:   power,   samples:    3000\n",
      "\t  48:   gpio,    samples:       9\n",
      "\n",
      "((0.0025256000000000002, [True, True, True, True]), (0.0025256000000000002, [False, False, False, False]), (0.019307466666666665, [False, False, False, False]), (0.019307466666666665, [False, False, True, False]), (0.0419672, [False, False, True, False]), (0.0419672, [False, False, False, False]), (0.04404346666666667, [False, False, False, False]), (0.04404346666666667, [True, True, True, True]), (0.0440472, [True, True, True, True])) ([6.730407446812769e-06], [0.022637085333333327]) 2 ['Bit Counting']\n",
      "DGILibExtra logger_data: Interfaces:\n",
      "\t 256:   power,   samples:    3000\n",
      "\t  48:   gpio,    samples:       9\n",
      "\n",
      "((0.002052, [True, True, True, True]), (0.002140533333333333, [True, True, True, True]), (0.002140533333333333, [False, True, True, True]), (0.0021448, [False, True, True, True]), (0.0021448, [False, False, False, True]), (0.0021485333333333334, [False, False, False, True]), (0.0021485333333333334, [False, False, False, False]), (0.0186488, [False, False, False, False]), (0.0186488, [False, False, True, False]), (0.0413144, [False, False, True, False]), (0.0413144, [False, False, False, False]), (0.04339066666666667, [False, False, False, False]), (0.04339066666666667, [True, True, True, True]), (0.04339386666666667, [True, True, True, True])) ([6.720398703070043e-06], [0.022638914666666662]) 2 ['Bit Counting']\n",
      "DGILibExtra logger_data: Interfaces:\n",
      "\t 256:   power,   samples:    3000\n",
      "\t  48:   gpio,    samples:      14\n",
      "\n",
      "((0.002425866666666667, [True, True, True, True]), (0.002425866666666667, [False, False, False, False]), (0.002429066666666667, [False, False, False, False]), (0.0024349333333333334, [False, False, False, False]), (0.01902, [False, False, False, False]), (0.01902, [False, False, True, False]), (0.041681333333333334, [False, False, True, False]), (0.041681333333333334, [False, False, False, False]), (0.04375813333333333, [False, False, False, False]), (0.04375813333333333, [True, True, True, True]), (0.04376186666666667, [True, True, True, True])) ([6.71341652798743e-06], [0.022637268266666663]) 2 ['Bit Counting']\n",
      "DGILibExtra logger_data: Interfaces:\n",
      "\t 256:   power,   samples:    3000\n",
      "\t  48:   gpio,    samples:      11\n",
      "\n",
      "((0.00286, [True, True, True, True]), (0.00286, [False, False, False, False]), (0.0192136, [False, False, False, False]), (0.0192136, [False, False, True, False]), (0.041875466666666666, [False, False, True, False]), (0.041875466666666666, [False, False, False, False]), (0.04395173333333333, [False, False, False, False]), (0.04395173333333333, [True, True, True, True]), (0.043954933333333335, [True, True, True, True])) ([6.735391000041384e-06], [0.022706201600000003]) 2 ['Bit Counting']\n",
      "DGILibExtra logger_data: Interfaces:\n",
      "\t 256:   power,   samples:    3000\n",
      "\t  48:   gpio,    samples:       9\n",
      "\n"
     ]
    }
   ],
   "source": [
    "checkpoint_energy.measure_workload_energy('BitCounting', live_plot=True, max_log_time=20)"
   ]
  },
  {
   "cell_type": "code",
   "execution_count": 11,
   "metadata": {},
   "outputs": [],
   "source": [
    "get_workload_energy = checkpoint_energy.get_workload_energy_function()"
   ]
  },
  {
   "cell_type": "code",
   "execution_count": 12,
   "metadata": {},
   "outputs": [
    {
     "name": "stdout",
     "output_type": "stream",
     "text": [
      "BitCounting {'Bit Counting': [6.720235802421212e-06, 6.7037846976457194e-06, 6.7061125018932636e-06, 6.714933565832213e-06, 6.714336732017566e-06, 6.702865390019208e-06, 6.72239933046379e-06, 6.735440773869748e-06, 6.716611361991603e-06, 6.723917318602401e-06]}\n",
      "FFT {'Allocate': [0.0002472943721381611, 0.0002475110689055756, 0.0002476689424268869, 0.0002473873121413624, 0.0002474664128807641, 0.00024728995126166865, 0.0002473708333546231, 0.0002476164750093935, 0.0002474951078617765, 0.0002474618618342235], 'Free': [2.0294657857990844e-08, 2.435083377486701e-08, 0, 0, 2.4352014440450293e-08, 2.191504199805492e-08, 2.4352998328381742e-08, 2.3538760159557177e-08, 0, 0], 'FFT': [5.574136191192742e-05, 5.575672149656845e-05, 3.389052147406983e-05, 5.572622522495008e-05, 5.574315043045305e-05, 5.573175567231333e-05, 5.575464310766828e-05, 5.580721450831481e-05, 5.5801310936415385e-05, 3.337829956783504e-05]}\n",
      "Sorting {'Sorting': [1.6108697028469505e-05, 1.6129121520187844e-05, 1.6106874785999662e-05, 1.6099247254993657e-05, 1.6128570388708994e-05, 1.6094766946408327e-05, 1.6103696319783475e-05, 1.6138660506662596e-05, 1.612369966521365e-05, 1.6132949247536085e-05]}\n"
     ]
    }
   ],
   "source": [
    "for workload_type in checkpoint_energy.workload_projects:\n",
    "    print(workload_type, get_workload_energy(workload_type))"
   ]
  },
  {
   "cell_type": "code",
   "execution_count": 69,
   "metadata": {},
   "outputs": [],
   "source": []
  },
  {
   "cell_type": "code",
   "execution_count": 12,
   "metadata": {},
   "outputs": [],
   "source": [
    "from atprogram.atprogram import atprogram"
   ]
  },
  {
   "cell_type": "code",
   "execution_count": 13,
   "metadata": {},
   "outputs": [
    {
     "data": {
      "text/plain": [
       "'C:\\\\Users\\\\erikw_000\\\\Documents\\\\GitHub\\\\Atmel-SAML11\\\\Experiments\\\\Workloads\\\\BitCounting\\\\BitCounting-S'"
      ]
     },
     "execution_count": 13,
     "metadata": {},
     "output_type": "execute_result"
    }
   ],
   "source": [
    "project_path = path.abspath(path.join(path.curdir, \"Workloads\", \"BitCounting\", \"BitCounting-S\"))\n",
    "project_path"
   ]
  },
  {
   "cell_type": "code",
   "execution_count": 42,
   "metadata": {},
   "outputs": [],
   "source": [
    "str = atprogram(atprogram_command=\"info\", return_output=True, verbose=1)"
   ]
  },
  {
   "cell_type": "code",
   "execution_count": 43,
   "metadata": {},
   "outputs": [
    {
     "data": {
      "text/plain": [
       "['Firmware check OK',\n",
       " 'Tool edbg has firmware version: 03.25',\n",
       " 'Target voltage: 3.33 V',\n",
       " '',\n",
       " 'Device information:',\n",
       " '',\n",
       " 'Name:       ATSAML11E16A  ',\n",
       " 'JtagId:     N/A           ',\n",
       " 'Revision:   B             ',\n",
       " 'CPU arch.:  CORTEX-M23    ',\n",
       " 'Series:     SAML11',\n",
       " 'DAL:        2',\n",
       " '',\n",
       " 'Memory Information:',\n",
       " '',\n",
       " 'Address Space    StartAddress            Size',\n",
       " '',\n",
       " 'base                      0x0     0x100000000',\n",
       " '  FLASH                   0x0         0x10000',\n",
       " '  AUX                0x806000           0x100',\n",
       " '  BOCOR              0x80c000           0x100',\n",
       " '  DATAFLASH          0x400000           0x800',\n",
       " '  SW_CALIB           0x806020             0x8',\n",
       " '  TEMP_LOG           0x806038             0x8',\n",
       " '  USER_PAGE          0x804000           0x100',\n",
       " '  HSRAM            0x20000000          0x4000',\n",
       " '  HPB0             0x40000000          0x8000',\n",
       " '  HPB1             0x41000000         0x10000',\n",
       " '  HPB2             0x42000000          0x4000',\n",
       " '  PPB              0xe0000000        0x100000',\n",
       " '  SCS              0xe000e000          0x1000',\n",
       " '  PERIPHERALS      0x40000000      0x20000000',\n",
       " '',\n",
       " 'fuses                     0x0      0x20000000',\n",
       " '',\n",
       " 'BOCOR_WORD_27 (0b11111111111111111111111111111111 <-> 0xffffffff):',\n",
       " '   BOOTROM_BOOTKEY_7 0xffffffff',\n",
       " '',\n",
       " 'BOCOR_WORD_26 (0b11111111111111111111111111111111 <-> 0xffffffff):',\n",
       " '   BOOTROM_BOOTKEY_6 0xffffffff',\n",
       " '',\n",
       " 'BOCOR_WORD_25 (0b11111111111111111111111111111111 <-> 0xffffffff):',\n",
       " '   BOOTROM_BOOTKEY_5 0xffffffff',\n",
       " '',\n",
       " 'BOCOR_WORD_24 (0b11111111111111111111111111111111 <-> 0xffffffff):',\n",
       " '   BOOTROM_BOOTKEY_4 0xffffffff',\n",
       " '',\n",
       " 'BOCOR_WORD_23 (0b11111111111111111111111111111111 <-> 0xffffffff):',\n",
       " '   BOOTROM_BOOTKEY_3 0xffffffff',\n",
       " '',\n",
       " 'BOCOR_WORD_22 (0b11111111111111111111111111111111 <-> 0xffffffff):',\n",
       " '   BOOTROM_BOOTKEY_2 0xffffffff',\n",
       " '',\n",
       " 'BOCOR_WORD_21 (0b11111111111111111111111111111111 <-> 0xffffffff):',\n",
       " '   BOOTROM_BOOTKEY_1 0xffffffff',\n",
       " '',\n",
       " 'BOCOR_WORD_20 (0b11111111111111111111111111111111 <-> 0xffffffff):',\n",
       " '   BOOTROM_BOOTKEY_0 0xffffffff',\n",
       " '',\n",
       " 'BOCOR_WORD_19 (0b11111111111111111111111111111111 <-> 0xffffffff):',\n",
       " '   BOOTROM_CRCKEY_3 0xffffffff',\n",
       " '',\n",
       " 'BOCOR_WORD_18 (0b11111111111111111111111111111111 <-> 0xffffffff):',\n",
       " '   BOOTROM_CRCKEY_2 0xffffffff',\n",
       " '',\n",
       " 'BOCOR_WORD_17 (0b11111111111111111111111111111111 <-> 0xffffffff):',\n",
       " '   BOOTROM_CRCKEY_1 0xffffffff',\n",
       " '',\n",
       " 'BOCOR_WORD_16 (0b11111111111111111111111111111111 <-> 0xffffffff):',\n",
       " '   BOOTROM_CRCKEY_0 0xffffffff',\n",
       " '',\n",
       " 'BOCOR_WORD_15 (0b11111111111111111111111111111111 <-> 0xffffffff):',\n",
       " '   BOOTROM_CEKEY2_3 0xffffffff',\n",
       " '',\n",
       " 'BOCOR_WORD_14 (0b11111111111111111111111111111111 <-> 0xffffffff):',\n",
       " '   BOOTROM_CEKEY2_2 0xffffffff',\n",
       " '',\n",
       " 'BOCOR_WORD_13 (0b11111111111111111111111111111111 <-> 0xffffffff):',\n",
       " '   BOOTROM_CEKEY2_1 0xffffffff',\n",
       " '',\n",
       " 'BOCOR_WORD_12 (0b11111111111111111111111111111111 <-> 0xffffffff):',\n",
       " '   BOOTROM_CEKEY2_0 0xffffffff',\n",
       " '',\n",
       " 'BOCOR_WORD_11 (0b11111111111111111111111111111111 <-> 0xffffffff):',\n",
       " '   BOOTROM_CEKEY1_3 0xffffffff',\n",
       " '',\n",
       " 'BOCOR_WORD_10 (0b11111111111111111111111111111111 <-> 0xffffffff):',\n",
       " '   BOOTROM_CEKEY1_2 0xffffffff',\n",
       " '',\n",
       " 'BOCOR_WORD_9 (0b11111111111111111111111111111111 <-> 0xffffffff):',\n",
       " '   BOOTROM_CEKEY1_1 0xffffffff',\n",
       " '',\n",
       " 'BOCOR_WORD_8 (0b11111111111111111111111111111111 <-> 0xffffffff):',\n",
       " '   BOOTROM_CEKEY1_0 0xffffffff',\n",
       " '',\n",
       " 'BOCOR_WORD_7 (0b11111111111111111111111111111111 <-> 0xffffffff):',\n",
       " '   BOOTROM_CEKEY0_3 0xffffffff',\n",
       " '',\n",
       " 'BOCOR_WORD_6 (0b11111111111111111111111111111111 <-> 0xffffffff):',\n",
       " '   BOOTROM_CEKEY0_2 0xffffffff',\n",
       " '',\n",
       " 'BOCOR_WORD_5 (0b11111111111111111111111111111111 <-> 0xffffffff):',\n",
       " '   BOOTROM_CEKEY0_1 0xffffffff',\n",
       " '',\n",
       " 'BOCOR_WORD_4 (0b11111111111111111111111111111111 <-> 0xffffffff):',\n",
       " '   BOOTROM_CEKEY0_0 0xffffffff',\n",
       " '',\n",
       " 'BOCOR_WORD_3 (0b00000000000000000000000000111101 <-> 0x0000003d):',\n",
       " '   BOOTROM_ROMVERSION 0x3d',\n",
       " '',\n",
       " 'BOCOR_WORD_1 (0b00000000000000110000000000000000 <-> 0x00030000):',\n",
       " '   NVMCTRL_BCREN 1',\n",
       " '   NVMCTRL_BCWEN 1',\n",
       " '   IDAU_BOOTPROT 0x0',\n",
       " '',\n",
       " 'BOCOR_WORD_0 (0b10100000000000000000000000000000 <-> 0xa0000000):',\n",
       " '   BOOTROM_BOOTOPT 0xa0',\n",
       " '   IDAU_BNSC     0x0',\n",
       " '   IDAU_BS       0x0',\n",
       " '',\n",
       " 'SW_CALIB_WORD_0 (0b11111111111111111111000001111111 <-> 0xfffff07f):',\n",
       " '   DFLLULP_DIV_PL2 0x0',\n",
       " '   DFLLULP_DIV_PL0 0x1',\n",
       " '   ADC_BIASCOMP  0x7',\n",
       " '   ADC_BIASREFBUF 0x7',\n",
       " '',\n",
       " 'TEMP_LOG_WORD_1 (0b11001000101010101000000111111100 <-> 0xc8aa81fc):',\n",
       " '   HOT_ADC_VAL_PTAT 0xc8a',\n",
       " '   ROOM_ADC_VAL_PTAT 0xa81',\n",
       " '   HOT_INT1V_VAL 0xfc',\n",
       " '',\n",
       " 'TEMP_LOG_WORD_0 (0b00000011000001010101011000011110 <-> 0x0305561e):',\n",
       " '   ROOM_INT1V_VAL 0x3',\n",
       " '   HOT_TEMP_VAL_DEC 0x0',\n",
       " '   HOT_TEMP_VAL_INT 0x55',\n",
       " '   ROOM_TEMP_VAL_DEC 0x6',\n",
       " '   ROOM_TEMP_VAL_INT 0x1e',\n",
       " '',\n",
       " 'USER_WORD_6 (0b00000000000000000000000000000000 <-> 0x00000000):',\n",
       " '   NONSECC_TRAM  0',\n",
       " '   NONSECC_OPAMP 0',\n",
       " '   NONSECC_CCL   0',\n",
       " '   NONSECC_TRNG  0',\n",
       " '   NONSECC_PTC   0',\n",
       " '   NONSECC_DAC   0',\n",
       " '   NONSECC_ADC   0',\n",
       " '   NONSECC_TC2   0',\n",
       " '   NONSECC_TC1   0',\n",
       " '   NONSECC_TC0   0',\n",
       " '   NONSECC_SERCOM2 0',\n",
       " '   NONSECC_SERCOM1 0',\n",
       " '   NONSECC_SERCOM0 0',\n",
       " '   NONSECC_EVSYS 0',\n",
       " '',\n",
       " 'USER_WORD_5 (0b00000000000000000000000000000000 <-> 0x00000000):',\n",
       " '   NONSECB_DMAC  0',\n",
       " '   NONSECB_NVMCTRL 0',\n",
       " '   NONSECB_DSU   0',\n",
       " '   NONSECB_IDAU  0',\n",
       " '',\n",
       " 'USER_WORD_4 (0b00000000000000000000000000000000 <-> 0x00000000):',\n",
       " '   NONSECA_AC    0',\n",
       " '   NONSECA_PORT  0',\n",
       " '   NONSECA_FREQM 0',\n",
       " '   NONSECA_EIC   0',\n",
       " '   NONSECA_RTC   0',\n",
       " '   NONSECA_WDT   0',\n",
       " '   NONSECA_GCLK  0',\n",
       " '   NONSECA_SUPC  0',\n",
       " '   NONSECA_OSC32KCTRL 0',\n",
       " '   NONSECA_OSCCTRL 0',\n",
       " '   NONSECA_RSTC  0',\n",
       " '   NONSECA_MCLK  0',\n",
       " '   NONSECA_PM    0',\n",
       " '   NONSECA_PAC   0',\n",
       " '',\n",
       " 'USER_WORD_3 (0b00000000000000000000000000000001 <-> 0x00000001):',\n",
       " '   NVMCTRL_URWEN 1',\n",
       " '',\n",
       " 'USER_WORD_2 (0b01111111000010000010000011111111 <-> 0x7f0820ff):',\n",
       " '   IDAU_RS       0x7f',\n",
       " '   IDAU_DS       0x8',\n",
       " '   IDAU_ANSC     0x20',\n",
       " '   IDAU_AS       0xff',\n",
       " '',\n",
       " 'USER_WORD_1 (0b00000000000000000001100010111011 <-> 0x000018bb):',\n",
       " '   BOOTROM_DXN   1',\n",
       " '   BOOTROM_RXN   1',\n",
       " '   BOD33_HYST    0',\n",
       " '   WDT_WEN       0',\n",
       " '   WDT_EWOFFSET  0xb',\n",
       " '   WDT_WINDOW    0xb',\n",
       " '',\n",
       " 'USER_WORD_0 (0b10110000100011110100001100111111 <-> 0xb08f433f):',\n",
       " '   WDT_PER       0xb',\n",
       " '   WDT_ALWAYSON  0',\n",
       " '   WDT_ENABLE    0',\n",
       " '   WDT_RUNSTDBY  0',\n",
       " '   BOD33_ACTION  0x1',\n",
       " '   BOD33_DIS     0',\n",
       " '   BOD33USERLEVEL 0x6',\n",
       " '   NVMCTRL_NSULCK 0x7',\n",
       " '   NVMCTRL_SULCK 0x7',\n",
       " '',\n",
       " '\\n0']"
      ]
     },
     "execution_count": 43,
     "metadata": {},
     "output_type": "execute_result"
    }
   ],
   "source": [
    "str.split(\"\\r\\n\")"
   ]
  },
  {
   "cell_type": "code",
   "execution_count": null,
   "metadata": {},
   "outputs": [],
   "source": [
    "m = re.search(pattern, str)"
   ]
  },
  {
   "cell_type": "code",
   "execution_count": 44,
   "metadata": {},
   "outputs": [],
   "source": [
    "atprogram_info = atprogram(atprogram_command=\"info\", return_output=True, verbose=1)"
   ]
  },
  {
   "cell_type": "code",
   "execution_count": 46,
   "metadata": {},
   "outputs": [],
   "source": [
    "import re"
   ]
  },
  {
   "cell_type": "code",
   "execution_count": 108,
   "metadata": {},
   "outputs": [
    {
     "data": {
      "text/plain": [
       "{'Target voltage': 3.33,\n",
       " 'Device information': {'Name': 'ATSAML11E16A',\n",
       "  'JtagId': 'N/A',\n",
       "  'CPU arch.': 'CORTEX-M23',\n",
       "  'Series': 'SAML11',\n",
       "  'DAL': 2},\n",
       " 'Memory Information': {'base': {'FLASH': [0, 65536],\n",
       "   'BOCOR': [8437760, 256],\n",
       "   'SW_CALIB': [8413216, 8],\n",
       "   'USER_PAGE': [8404992, 256],\n",
       "   'HPB0': [1073741824, 32768],\n",
       "   'HPB2': [1107296256, 16384],\n",
       "   'SCS': [3758153728, 4096]},\n",
       "  'fuses': {'BOOTROM_BOOTKEY_7': [4294967295],\n",
       "   'BOOTROM_BOOTKEY_6': [4294967295],\n",
       "   'BOOTROM_BOOTKEY_5': [4294967295],\n",
       "   'BOOTROM_BOOTKEY_4': [4294967295],\n",
       "   'BOOTROM_BOOTKEY_3': [4294967295],\n",
       "   'BOOTROM_BOOTKEY_2': [4294967295],\n",
       "   'BOOTROM_BOOTKEY_1': [4294967295],\n",
       "   'BOOTROM_BOOTKEY_0': [4294967295],\n",
       "   'BOOTROM_CRCKEY_3': [4294967295],\n",
       "   'BOOTROM_CRCKEY_2': [4294967295],\n",
       "   'BOOTROM_CRCKEY_1': [4294967295],\n",
       "   'BOOTROM_CRCKEY_0': [4294967295],\n",
       "   'BOOTROM_CEKEY2_3': [4294967295],\n",
       "   'BOOTROM_CEKEY2_2': [4294967295],\n",
       "   'BOOTROM_CEKEY2_1': [4294967295],\n",
       "   'BOOTROM_CEKEY2_0': [4294967295],\n",
       "   'BOOTROM_CEKEY1_3': [4294967295],\n",
       "   'BOOTROM_CEKEY1_2': [4294967295],\n",
       "   'BOOTROM_CEKEY1_1': [4294967295],\n",
       "   'BOOTROM_CEKEY1_0': [4294967295],\n",
       "   'BOOTROM_CEKEY0_3': [4294967295],\n",
       "   'BOOTROM_CEKEY0_2': [4294967295],\n",
       "   'BOOTROM_CEKEY0_1': [4294967295],\n",
       "   'BOOTROM_CEKEY0_0': [4294967295],\n",
       "   'BOOTROM_ROMVERSION': [61],\n",
       "   'IDAU_BOOTPROT': [0],\n",
       "   'BOOTROM_BOOTOPT': [160],\n",
       "   'IDAU_BS': [0],\n",
       "   'DFLLULP_DIV_PL2': [0],\n",
       "   'ADC_BIASCOMP': [7],\n",
       "   'HOT_ADC_VAL_PTAT': [3210],\n",
       "   'HOT_INT1V_VAL': [252],\n",
       "   'ROOM_INT1V_VAL': [3],\n",
       "   'HOT_TEMP_VAL_INT': [85],\n",
       "   'ROOM_TEMP_VAL_INT': [30],\n",
       "   'IDAU_RS': [127],\n",
       "   'IDAU_ANSC': [32],\n",
       "   'WDT_EWOFFSET': [11],\n",
       "   'WDT_PER': [11],\n",
       "   'BOD33_ACTION': [1],\n",
       "   'BOD33USERLEVEL': [6],\n",
       "   'NVMCTRL_SULCK': [7]}}}"
      ]
     },
     "execution_count": 108,
     "metadata": {},
     "output_type": "execute_result"
    }
   ],
   "source": [
    "device_info = {\n",
    "    \"Target voltage\": float(re.findall(\"\\\\nTarget voltage:\\s(\\d+(\\.\\d+)?)\\sV\", atprogram_info)[0][0]),\n",
    "    \"Device information\": {\n",
    "        \"Name\": re.findall(\"\\\\nName:\\s+(\\S+)\\s+\", atprogram_info)[0],\n",
    "        \"JtagId\": re.findall(\"\\\\nJtagId:\\s+(\\S+)\\s+\", atprogram_info)[0],\n",
    "        \"CPU arch.\": re.findall(\"\\\\nCPU arch.:\\s+(\\S+)\\s+\", atprogram_info)[0],\n",
    "        \"Series\": re.findall(\"\\\\nSeries:\\s+(\\S+)\\s+\", atprogram_info)[0],\n",
    "        \"DAL\": int(re.findall(\"\\\\nDAL:\\s+(\\d+)\\s+\", atprogram_info)[0])},\n",
    "    \"Memory Information\": {\n",
    "        \"base\": {adress_space: [int(start_address, 16), int(size, 16)] for adress_space, start_address, size in re.findall(\"\\\\n  (\\w+)\\s+(0[xX][0-9a-fA-F]+)\\s+(0[xX][0-9a-fA-F]+)\\s+\\n\", atprogram_info)},\n",
    "        \"fuses\": {fuse: [int(value, 16)] for fuse, value in re.findall(\"\\\\n   (\\w+)\\s+(0[xX][0-9a-fA-F]+)\\s+\\n\", atprogram_info)}\n",
    "    }\n",
    "}\n",
    "device_info"
   ]
  },
  {
   "cell_type": "code",
   "execution_count": null,
   "metadata": {},
   "outputs": [],
   "source": [
    " 'Address Space    StartAddress            Size',\n",
    " '',\n",
    " 'base                      0x0     0x100000000',\n",
    " '  FLASH                   0x0         0x10000',\n",
    " '  AUX                0x806000           0x100',\n",
    " '  BOCOR              0x80c000           0x100',\n",
    " '  DATAFLASH          0x400000           0x800',\n",
    " '  SW_CALIB           0x806020             0x8',\n",
    " '  TEMP_LOG           0x806038             0x8',\n",
    " '  USER_PAGE          0x804000           0x100',\n",
    " '  HSRAM            0x20000000          0x4000',\n",
    " '  HPB0             0x40000000          0x8000',\n",
    " '  HPB1             0x41000000         0x10000',\n",
    " '  HPB2             0x42000000          0x4000',\n",
    " '  PPB              0xe0000000        0x100000',\n",
    " '  SCS              0xe000e000          0x1000',\n",
    " '  PERIPHERALS      0x40000000      0x20000000',"
   ]
  },
  {
   "cell_type": "code",
   "execution_count": 66,
   "metadata": {},
   "outputs": [
    {
     "data": {
      "text/plain": [
       "3.33"
      ]
     },
     "execution_count": 66,
     "metadata": {},
     "output_type": "execute_result"
    }
   ],
   "source": [
    "float(re.findall(\"\\\\nTarget voltage:\\s+(\\d+(\\.\\d+)?)\\s+V\", atprogram_info)[0][0])"
   ]
  },
  {
   "cell_type": "code",
   "execution_count": 96,
   "metadata": {},
   "outputs": [
    {
     "name": "stdout",
     "output_type": "stream",
     "text": [
      "base 0 4294967296\n",
      "AUX 8413184 256\n",
      "DATAFLASH 4194304 2048\n",
      "TEMP_LOG 8413240 8\n",
      "HSRAM 536870912 16384\n",
      "HPB1 1090519040 65536\n",
      "PPB 3758096384 1048576\n",
      "PERIPHERALS 1073741824 536870912\n"
     ]
    }
   ],
   "source": [
    "for adress_space, start_address, size in re.findall(\"\\\\n\\s*(\\w+)\\s+(0[xX][0-9a-fA-F]+)\\s+(0[xX][0-9a-fA-F]+)\\s+\\n\", atprogram_info):\n",
    "    print(adress_space, int(start_address, 16), int(size, 16))"
   ]
  },
  {
   "cell_type": "code",
   "execution_count": 103,
   "metadata": {},
   "outputs": [
    {
     "data": {
      "text/plain": [
       "{'base': [0, 4294967296],\n",
       " 'AUX': [8413184, 256],\n",
       " 'DATAFLASH': [4194304, 2048],\n",
       " 'TEMP_LOG': [8413240, 8],\n",
       " 'HSRAM': [536870912, 16384],\n",
       " 'HPB1': [1090519040, 65536],\n",
       " 'PPB': [3758096384, 1048576],\n",
       " 'PERIPHERALS': [1073741824, 536870912]}"
      ]
     },
     "execution_count": 103,
     "metadata": {},
     "output_type": "execute_result"
    }
   ],
   "source": [
    "{adress_space: [int(start_address, 16), int(size, 16)] for adress_space, start_address, size in re.findall(\"\\\\n\\s*(\\w+)\\s+(0[xX][0-9a-fA-F]+)\\s+(0[xX][0-9a-fA-F]+)\\s+\\n\", atprogram_info)}"
   ]
  },
  {
   "cell_type": "code",
   "execution_count": null,
   "metadata": {},
   "outputs": [],
   "source": []
  },
  {
   "cell_type": "code",
   "execution_count": null,
   "metadata": {},
   "outputs": [],
   "source": []
  },
  {
   "cell_type": "code",
   "execution_count": null,
   "metadata": {},
   "outputs": [],
   "source": []
  },
  {
   "cell_type": "code",
   "execution_count": null,
   "metadata": {},
   "outputs": [],
   "source": []
  },
  {
   "cell_type": "code",
   "execution_count": null,
   "metadata": {},
   "outputs": [],
   "source": []
  },
  {
   "cell_type": "code",
   "execution_count": 33,
   "metadata": {},
   "outputs": [],
   "source": [
    "from os import path, getenv, getcwd\n",
    "from subprocess import run, PIPE, STDOUT\n",
    "\n",
    "\n",
    "def atprogram(project_path=None, device_name=\"ATSAML11E16A\", verbose=0,\n",
    "              clean=False, build=True, erase=True, program=True, verify=False,\n",
    "              tool=\"EDBG\", interface=\"SWD\", atmel_studio_path=path.join(\n",
    "                  getenv(\"programfiles(x86)\"), \"Atmel\", \"Studio\", \"7.0\"),\n",
    "              make_path=None, atprogram_path=None, configuration=\"Debug\",\n",
    "              device_sn=None, jobs=getenv(\"NUMBER_OF_PROCESSORS\"),\n",
    "              make_command=None, atprogram_command=None, return_output=False,\n",
    "              dry_run=False):\n",
    "    \"\"\"Atprogram.\n",
    "\n",
    "    This function can compile projects and write them to a device. It\n",
    "    determines what to do based on the arguments it gets. Specify at least one\n",
    "    of `project_path`, `make_command` or `atprogram_command`.\n",
    "\n",
    "    NOTE: Verification is known to return 23, also in command line.\n",
    "\n",
    "    Keyword Arguments:\n",
    "        project_path {str} -- Location where the project resides. If it ends in\n",
    "            `.elf` the elf file will be used. If it ends in `Makefile` the\n",
    "            Makefile will be used. Otherwise it should be a path to a folder\n",
    "            which holds the `Debug` folder. (default: {None})\n",
    "        device_name {str} -- Device name. E.g. atxmega128a1 or at32uc3a0256.\n",
    "            (default: {\"ATSAML11E16A\"})\n",
    "        verbose {int} -- Verbosity:\n",
    "            - 0: Silent (default: {0})\n",
    "            - 1: Info\n",
    "            - 2: Debug\n",
    "            - 3: List Commands\n",
    "        clean {bool} -- Run make clean if True (default: {False})\n",
    "        build {bool} -- Run make all if True (default: {True})\n",
    "        erase {bool} -- Run atprogram chiperase if True (default: {True})\n",
    "        program {bool} -- Run atprogram program if True (default: {True})\n",
    "        verify {bool} -- Run atprogram verify if True (default: {False})\n",
    "        tool {str} -- Tool name: avrdragon, avrispmk2, avrone, jtagice3,\n",
    "            jtagicemkii, qt600, stk500, stk600, samice, edbg, medbg, nedbg,\n",
    "            atmelice, pickit4, powerdebugger, megadfu or flip. (default:\n",
    "            {\"EDBG\"})\n",
    "        interface {str} -- Physical interface: aWire, debugWIRE, HVPP, HVSP,\n",
    "            ISP, JTAG, PDI, UPDI, TPI or SWD. (default: {\"SWD\"})\n",
    "        atmel_studio_path {[type]} -- Location where Atmel Studio is installed,\n",
    "            ending in the folder named after the version, e.g. 7.0. (default:\n",
    "            {path.join(getenv(\"programfiles(x86)\"), \"Atmel\", \"Studio\", \"7.0\")})\n",
    "        make_path {[type]} -- Location where `make.exe` is installed. (default:\n",
    "            {path.join(getenv(\"programfiles(x86)\"), \"Atmel\", \"Studio\", \"7.0\", \"shellutils\", \"make.exe\")})\n",
    "        atprogram_path {[type]} -- Location where `atprogram.exe` is installed\n",
    "            (default: {path.join(getenv(\"programfiles(x86)\"), \"Atmel\", \"Studio\", \"7.0\", \"atbackend\", \"atprogram.exe\")})\n",
    "        configuration {str} -- Which configuration to use. (default: {\"Debug\"})\n",
    "        device_sn {str} -- The programmer/debugger serialnumber. Must be\n",
    "            specified when more than one debugger is connected. (default:\n",
    "            {None})\n",
    "        jobs {int} -- How many jobs *make* should use(default:\n",
    "            {getenv(\"NUMBER_OF_PROCESSORS\")})\n",
    "        make_command {str} -- Options to pass to make `[options] [target] ...`\n",
    "            (default: {None})\n",
    "        atprogram_command {str} -- Command(s) to pass to atprogram: `[options]\n",
    "            <command> [arguments] [<command> [arguments] ...]` (default:\n",
    "            {None})\n",
    "        return_output {bool} -- If True the return value will be the output,\n",
    "            else it will be the return code (default: {False})\n",
    "        dry_run {bool} -- Wether to run the commands using the subprocess\n",
    "            module or just print the commands (default: {False})\n",
    "\n",
    "    Raises:\n",
    "        ValueError -- Need to specify at least one of `project_path`,\n",
    "            `make_command` or `atprogram_command`.\n",
    "\n",
    "    Returns:\n",
    "        int -- A non-zero return value indicates the subprocess call returned\n",
    "            an error.\n",
    "\n",
    "    \"\"\"\n",
    "    elf_mode = False\n",
    "    makefile_mode = False\n",
    "    makefile_path = None\n",
    "    if project_path is not None:\n",
    "        elf_mode = path.splitext(project_path)[1] is \".elf\"\n",
    "        makefile_path, makefile = path.split(project_path)\n",
    "        makefile_mode = makefile is \"Makefile\"\n",
    "        if not makefile_mode:\n",
    "            makefile_path = path.join(project_path, configuration)\n",
    "    elif make_command is None and atprogram_command is None:\n",
    "        raise ValueError(\n",
    "            \"Need to specify at least one of project_path, make_command or \" +\n",
    "            \"atprogram_command.\")\n",
    "    else:\n",
    "        # This is make_command mode or atprogram_command mode\n",
    "        clean = build = erase = program = verify = False\n",
    "    output = SavePrint(return_output)\n",
    "    stdout = PIPE if verbose >= 0 else None\n",
    "    stderr = STDOUT if verbose >= 1 else None\n",
    "    if not elf_mode and (clean or build or make_command):\n",
    "        make_path = make_path or path.join(\n",
    "            atmel_studio_path, \"shellutils\", \"make.exe\")\n",
    "\n",
    "        def make_caller(command):\n",
    "            args = ([make_path] + command.split())\n",
    "            kwargs = dict(cwd=makefile_path, stdout=stdout, stderr=stderr)\n",
    "            if dry_run:\n",
    "                output.print(\"\".join(kwargs.get(\"cwd\", getcwd())\n",
    "                                     ) + \"> \" + \" \".join(args))\n",
    "                return 0\n",
    "            res = run(args, **kwargs)\n",
    "            if verbose:\n",
    "                output.print(res.stdout.decode())\n",
    "            return res.returncode\n",
    "        if make_command:\n",
    "            returncode = make_caller(make_command)\n",
    "            if returncode or not atprogram_command:\n",
    "                return returncode\n",
    "        if clean:\n",
    "            returncode = make_caller(\"clean\")\n",
    "            if returncode:\n",
    "                return returncode\n",
    "        if build:\n",
    "            returncode = make_caller(f\"all --jobs {jobs} --output-sync\")\n",
    "            if returncode:\n",
    "                return returncode\n",
    "    if not makefile_mode and (erase or program or verify or atprogram_command):\n",
    "        atprogram_path = atprogram_path or path.join(\n",
    "            atmel_studio_path, \"atbackend\", \"atprogram.exe\")\n",
    "\n",
    "        def atprogram_caller(command):\n",
    "            args = ([atprogram_path] + (verbose-1) * [\"-v\"] + command.split())\n",
    "            kwargs = dict(stdout=stdout, stderr=stderr)\n",
    "            if dry_run:\n",
    "                output.print(getcwd() + \"> \" + \" \".join(args))\n",
    "                return 0\n",
    "            res = run(args, **kwargs)\n",
    "            if verbose:\n",
    "                output.print(res.stdout.decode())\n",
    "            return res.returncode\n",
    "        elf_file_path = None if not (program or verify) else project_path if \\\n",
    "            elf_mode else path.join(project_path, configuration,\n",
    "                                    path.basename(project_path)) + \".elf\"\n",
    "        atprogram_command = \\\n",
    "            f\"-t {tool} -i {interface} -d {device_name} \" + \\\n",
    "            (device_sn is not None) * f\" -s {device_sn} \" + \\\n",
    "            (atprogram_command or\n",
    "             erase * \" chiperase \" +\n",
    "             program * f\" program -f {elf_file_path} \" +\n",
    "             verify * f\" verify -f {elf_file_path} \" +\n",
    "             (verbose >= 3) * \" info\")\n",
    "        returncode = atprogram_caller(atprogram_command)\n",
    "        if returncode:\n",
    "            atprogram_caller(\"exitcode\")\n",
    "        if return_output:\n",
    "            return output.output + f\"\\n{returncode}\"\n",
    "        else:\n",
    "            return returncode\n",
    "\n",
    "\n",
    "class SavePrint(object):\n",
    "    def __init__(self, return_output):\n",
    "        self.return_output = return_output\n",
    "        self.output = \"\"\n",
    "\n",
    "    def print(self, s):\n",
    "        if self.return_output:\n",
    "            self.output += s\n",
    "        else:\n",
    "            print(s)\n"
   ]
  },
  {
   "cell_type": "code",
   "execution_count": null,
   "metadata": {},
   "outputs": [],
   "source": []
  },
  {
   "cell_type": "code",
   "execution_count": null,
   "metadata": {},
   "outputs": [],
   "source": []
  },
  {
   "cell_type": "code",
   "execution_count": 18,
   "metadata": {},
   "outputs": [],
   "source": [
    "security_types = [\"None\", \"AES\", \"AES_Flash\", \"TrustZone\", \"TrustZone_Flash\"]\n",
    "# security_types = [\"None\", \"AES_Flash\", \"TruseZone_Flash\"]\n",
    "application_names = [\"Kalman\", \"AR\", \"Dijkstra\", \"Sorting 1024\", \"Bit Counting\", \"FFT 128\"]"
   ]
  },
  {
   "cell_type": "code",
   "execution_count": 19,
   "metadata": {},
   "outputs": [],
   "source": [
    "# app_charge_scale = 1e-4\n",
    "application_charges = np.array([0.000326812, 1e-10, 1e-10, 0.00001984909516280825944492365031646130546505446545779705047607421875, 0.0000066193645743728758915470737622666064225995796732604503631591796875, 0.00098674225419147416384080262474753908463753759860992431640625]) # TODO\n",
    "# app_number_of_bytes_scale = 1000\n",
    "application_number_of_bytes = np.array([4000, 1, 1, 1544 + 2**10, 90, 1975+24*128]) # TODO"
   ]
  },
  {
   "cell_type": "code",
   "execution_count": 20,
   "metadata": {},
   "outputs": [],
   "source": [
    "base_charge_per_app = dict(zip(application_names, application_charges))\n",
    "number_of_bytes_per_app = dict(zip(application_names, application_number_of_bytes))"
   ]
  },
  {
   "cell_type": "code",
   "execution_count": 21,
   "metadata": {},
   "outputs": [],
   "source": [
    "def get_total_charge(application_name, security_type):\n",
    "    print(application_name, security_type, f\"base: {base_charge_per_app[application_name]}, sec: {get_security_charge(security_type, number_of_bytes_per_app[application_name])}\")\n",
    "    return base_charge_per_app[application_name] + get_security_charge(security_type, number_of_bytes_per_app[application_name])"
   ]
  },
  {
   "cell_type": "markdown",
   "metadata": {},
   "source": [
    "# Bar chart"
   ]
  },
  {
   "cell_type": "code",
   "execution_count": 22,
   "metadata": {},
   "outputs": [],
   "source": [
    "import numpy as np\n",
    "import matplotlib.pyplot as plt"
   ]
  },
  {
   "cell_type": "code",
   "execution_count": 23,
   "metadata": {},
   "outputs": [
    {
     "name": "stdout",
     "output_type": "stream",
     "text": [
      "Kalman None base: 0.000326812, sec: 0\n",
      "AR None base: 1e-10, sec: 0\n",
      "Dijkstra None base: 1e-10, sec: 0\n",
      "Sorting 1024 None base: 1.984909516280826e-05, sec: 0\n",
      "Bit Counting None base: 6.619364574372876e-06, sec: 0\n",
      "FFT 128 None base: 0.0009867422541914742, sec: 0\n",
      "Kalman AES base: 0.000326812, sec: 0.000266660294291551\n",
      "AR AES base: 1e-10, sec: 5.187371787026527e-06\n",
      "Dijkstra AES base: 1e-10, sec: 5.187371787026527e-06\n",
      "Sorting 1024 AES base: 1.984909516280826e-05, sec: 0.00017271113084657168\n",
      "Bit Counting AES base: 6.619364574372876e-06, sec: 1.0433995337623398e-05\n",
      "FFT 128 AES base: 0.0009867422541914742, sec: 0.0003353747052574817\n",
      "Kalman AES_Flash base: 0.000326812, sec: 0.0003762351464001336\n",
      "AR AES_Flash base: 1e-10, sec: 8.73951455681015e-06\n",
      "Dijkstra AES_Flash base: 1e-10, sec: 8.73951455681015e-06\n",
      "Sorting 1024 AES_Flash base: 1.984909516280826e-05, sec: 0.00024623702644686776\n",
      "Bit Counting AES_Flash base: 6.619364574372876e-06, sec: 1.5452415137523475e-05\n",
      "FFT 128 AES_Flash base: 0.0009867422541914742, sec: 0.0004724774345093848\n",
      "Kalman TrustZone base: 0.000326812, sec: 7.22373063498969e-06\n",
      "AR TrustZone base: 1e-10, sec: 5.032668444340286e-08\n",
      "Dijkstra TrustZone base: 1e-10, sec: 5.032668444340286e-08\n",
      "Sorting 1024 TrustZone base: 1.984909516280826e-05, sec: 4.613783293843685e-06\n",
      "Bit Counting TrustZone base: 6.619364574372876e-06, sec: 1.9480195137815337e-07\n",
      "FFT 128 TrustZone base: 0.0009867422541914742, sec: 9.072607678880032e-06\n",
      "Kalman TrustZone_Flash base: 0.000326812, sec: 0.00010843217381790772\n",
      "AR TrustZone_Flash base: 1e-10, sec: 5.089571227427976e-06\n",
      "Dijkstra TrustZone_Flash base: 1e-10, sec: 5.089571227427976e-06\n",
      "Sorting 1024 TrustZone_Flash base: 1.984909516280826e-05, sec: 7.434156408221616e-05\n",
      "Bit Counting TrustZone_Flash base: 6.619364574372876e-06, sec: 5.864972594319396e-06\n",
      "FFT 128 TrustZone_Flash base: 0.0009867422541914742, sec: 0.00013435030928496495\n"
     ]
    }
   ],
   "source": [
    "# create plot\n",
    "fig, ax = plt.subplots(figsize=(10,9))\n",
    "index = np.arange(len(application_names))\n",
    "bar_width = 0.18\n",
    "opacity = 0.8\n",
    "\n",
    "# ax.grid()\n",
    "\n",
    "colors = [\"blue\", \"red\", \"green\", \"cyan\", \"magenta\", \"yellow\", \"black\", \"white\"]\n",
    "\n",
    "rects = []\n",
    "for i,security_type in enumerate(security_types):\n",
    "    rects += ax.bar(index + i*bar_width, [get_total_charge(application_name, security_type) for application_name in application_names], bar_width, label=security_type, color=colors[i], alpha=opacity)\n",
    " \n",
    "ax.set_xlabel('Application')\n",
    "ax.set_ylabel('Charge [C]')\n",
    "ax.set_title('Charge per Application')\n",
    "fig.canvas.set_window_title('Charge per Application')\n",
    "ax.set_xticks(index + bar_width)\n",
    "ax.set_xticklabels(application_names)\n",
    "ax.legend()\n",
    " \n",
    "fig.tight_layout()\n",
    "fig.show()"
   ]
  },
  {
   "cell_type": "markdown",
   "metadata": {},
   "source": [
    "# Number of Checkpoints"
   ]
  },
  {
   "cell_type": "code",
   "execution_count": 24,
   "metadata": {},
   "outputs": [],
   "source": [
    "security_types = [\"None\", \"AES_Flash\", \"TrustZone_Flash\"]"
   ]
  },
  {
   "cell_type": "code",
   "execution_count": 35,
   "metadata": {},
   "outputs": [],
   "source": [
    "min_cap_size_over_sec_charge = 10\n",
    "number_of_points = 1e5\n",
    "iterations = 1\n",
    "min_cap_factor = 10\n",
    "min_step_size = 1e-7"
   ]
  },
  {
   "cell_type": "code",
   "execution_count": null,
   "metadata": {},
   "outputs": [],
   "source": [
    "opacity = 0.8\n",
    "colors = [\"blue\", \"red\", \"green\", \"cyan\", \"magenta\", \"yellow\", \"black\", \"white\"]\n",
    "\n",
    "figs = {}\n",
    "axs = {}\n",
    "for application_name in application_names:\n",
    "# for application_name in [\"Sorting 1024\", \"FFT 128\"]:\n",
    "    fig, ax = plt.subplots(figsize=(10,9))\n",
    "    figs[application_name] = fig\n",
    "    axs[application_name] = ax\n",
    "    fig.canvas.set_window_title(application_name)\n",
    "    for i,security_type in enumerate(security_types):\n",
    "        security_charge = get_security_charge(security_type, number_of_bytes_per_app[application_name])\n",
    "        base_charge = base_charge_per_app[application_name]\n",
    "        capacitor_sizes = np.arange(base_charge/min_cap_factor,base_charge*iterations, (base_charge*iterations-base_charge/min_cap_factor)/number_of_points)\n",
    "        capacitor_sizes = capacitor_sizes[capacitor_sizes>security_charge]\n",
    "        y = base_charge/(capacitor_sizes - security_charge)\n",
    "#         ax.plot(capacitor_sizes, base_charge/(capacitor_sizes - security_charge)/(base_charge/capacitor_sizes), label=security_type, color=colors[i], alpha=opacity)\n",
    "        ax.plot(capacitor_sizes, y, label=security_type, color=colors[i], alpha=opacity)\n",
    "        ax.plot(capacitor_sizes, np.floor(y), color=colors[i], alpha=opacity/2)\n",
    "#         ax.plot(capacitor_sizes, np.floor(base_charge/(capacitor_sizes - security_charge)), '.', label=security_type, color=colors[i], alpha=opacity/2)\n",
    "#         ax.plot(capacitor_sizes, base_charge/(capacitor_sizes - security_charge), label=security_type, color=colors[i], alpha=opacity)\n",
    "    ax.plot([base_charge/min_cap_factor, base_charge*iterations], [1,1])\n",
    "    ax.set_xscale('log')\n",
    "#     ax.set_yscale('log')\n",
    "    ax.set_ylim(-1,10)\n",
    "    ax.set_xlabel('Capacitor Size [C]')\n",
    "    ax.set_ylabel('Number of Checkpoints')\n",
    "    ax.set_title(f'Number of Checkpoints per Security Type {application_name}')\n",
    "    fig.canvas.set_window_title(f\"Number of Checkpoints {application_name}\")\n",
    "    ax.legend()\n",
    "    fig.tight_layout()\n",
    "    fig.show()"
   ]
  },
  {
   "cell_type": "code",
   "execution_count": 27,
   "metadata": {},
   "outputs": [],
   "source": [
    "# opacity = 0.8\n",
    "# colors = [\"blue\", \"red\", \"green\", \"cyan\", \"magenta\", \"yellow\", \"black\", \"white\"]\n",
    "\n",
    "# figs = {}\n",
    "# axs = {}\n",
    "# # for application_name in application_names:\n",
    "# for application_name in [\"Sorting 1024\", \"FFT 128\"]:\n",
    "#     fig, ax = plt.subplots(figsize=(10,9))\n",
    "#     figs[application_name] = fig\n",
    "#     axs[application_name] = ax\n",
    "#     fig.canvas.set_window_title(application_name)\n",
    "#     security_charge_aes = get_security_charge(\"AES_Flash\", number_of_bytes_per_app[application_name])\n",
    "#     security_charge_trustzone = get_security_charge(\"TrustZone_Flash\", number_of_bytes_per_app[application_name])\n",
    "#     base_charge = base_charge_per_app[application_name]\n",
    "#     capacitor_sizes = np.arange(base_charge/min_cap_factor,base_charge*iterations, (base_charge*iterations-base_charge/min_cap_factor)/number_of_points)\n",
    "#     capacitor_sizes = capacitor_sizes[capacitor_sizes>security_charge_aes]\n",
    "# #         ax.plot(capacitor_sizes, base_charge/(capacitor_sizes - security_charge)/(base_charge/capacitor_sizes), label=security_type, color=colors[i], alpha=opacity)\n",
    "#     y = base_charge/(capacitor_sizes - security_charge_aes)/(base_charge/(capacitor_sizes - security_charge_trustzone))\n",
    "#     ax.plot(capacitor_sizes, y, label=security_type, color=colors[i], alpha=opacity)\n",
    "#     ax.plot(capacitor_sizes, np.floor(y), color=colors[i], alpha=opacity/2)\n",
    "# #         ax.plot(capacitor_sizes, np.floor(base_charge/(capacitor_sizes - security_charge)), '.', label=security_type, color=colors[i], alpha=opacity/2)\n",
    "# #         ax.plot(capacitor_sizes, base_charge/(capacitor_sizes - security_charge), label=security_type, color=colors[i], alpha=opacity)\n",
    "#     ax.plot([base_charge/min_cap_factor, base_charge*iterations], [1,1])\n",
    "#     ax.set_xscale('log')\n",
    "# #     ax.set_yscale('log')\n",
    "#     ax.set_ylim(-1,10)\n",
    "#     ax.set_xlabel('Capacitor Size [C]')\n",
    "#     ax.set_ylabel('Number of Checkpoints')\n",
    "#     ax.set_title(f'Number of Checkpoints per Security Type {application_name}')\n",
    "#     fig.canvas.set_window_title(f\"Number of Checkpoints {application_name}\")\n",
    "#     ax.legend()\n",
    "#     fig.tight_layout()\n",
    "#     fig.show()"
   ]
  },
  {
   "cell_type": "markdown",
   "metadata": {},
   "source": [
    "## Scales"
   ]
  },
  {
   "cell_type": "code",
   "execution_count": 28,
   "metadata": {},
   "outputs": [
    {
     "name": "stdout",
     "output_type": "stream",
     "text": [
      "Cap Size:\n",
      "\tmin: 0.00013514717936082669, max: 0.09867323966363496\n"
     ]
    }
   ],
   "source": [
    "print(\"Cap Size:\")\n",
    "print(f\"\\tmin: {min(capacitor_sizes)}, max: {max(capacitor_sizes)}\")"
   ]
  },
  {
   "cell_type": "code",
   "execution_count": 29,
   "metadata": {},
   "outputs": [
    {
     "name": "stdout",
     "output_type": "stream",
     "text": [
      "Base Charge:\n",
      "\tKalman: 0.000326812\n",
      "\tAR: 1e-10\n",
      "\tDijkstra: 1e-10\n",
      "\tSorting 1024: 1.984909516280826e-05\n",
      "\tBit Counting: 6.619364574372876e-06\n",
      "\tFFT 128: 0.0009867422541914742\n"
     ]
    }
   ],
   "source": [
    "print(\"Base Charge:\")\n",
    "for application_name in application_names:\n",
    "    print(f\"\\t{application_name}: {base_charge_per_app[application_name]}\")"
   ]
  },
  {
   "cell_type": "code",
   "execution_count": 30,
   "metadata": {},
   "outputs": [
    {
     "name": "stdout",
     "output_type": "stream",
     "text": [
      "Security Charge:\n",
      "\tNone min: 0,  max: 0\n",
      "\tAES_Flash min: 8.73951455681015e-06,  max: 0.0004724774345093848\n",
      "\tTrustZone_Flash min: 5.089571227427976e-06,  max: 0.00013435030928496495\n"
     ]
    }
   ],
   "source": [
    "print(\"Security Charge:\")\n",
    "for security_type in security_types:\n",
    "    print(f\"\\t{security_type} min: {get_security_charge(security_type, min(number_of_bytes_per_app.values()))},  max: {get_security_charge(security_type, max(number_of_bytes_per_app.values()))}\")\n",
    "# number_of_bytes_per_app = dict(zip(application_names, application_number_of_bytes))"
   ]
  },
  {
   "cell_type": "code",
   "execution_count": 31,
   "metadata": {},
   "outputs": [
    {
     "data": {
      "text/plain": [
       "{'Kalman': 0.000326812,\n",
       " 'AR': 1e-10,\n",
       " 'Dijkstra': 1e-10,\n",
       " 'Sorting 1024': 1.984909516280826e-05,\n",
       " 'Bit Counting': 6.619364574372876e-06,\n",
       " 'FFT 128': 0.0009867422541914742}"
      ]
     },
     "execution_count": 31,
     "metadata": {},
     "output_type": "execute_result"
    }
   ],
   "source": [
    "base_charge_per_app"
   ]
  },
  {
   "cell_type": "code",
   "execution_count": 32,
   "metadata": {},
   "outputs": [
    {
     "data": {
      "text/plain": [
       "1"
      ]
     },
     "execution_count": 32,
     "metadata": {},
     "output_type": "execute_result"
    }
   ],
   "source": [
    "min(number_of_bytes_per_app.values())"
   ]
  },
  {
   "cell_type": "code",
   "execution_count": 33,
   "metadata": {},
   "outputs": [
    {
     "data": {
      "text/plain": [
       "0"
      ]
     },
     "execution_count": 33,
     "metadata": {},
     "output_type": "execute_result"
    }
   ],
   "source": [
    "get_security_charge(\"None\", min(number_of_bytes_per_app.values()))"
   ]
  },
  {
   "cell_type": "code",
   "execution_count": 34,
   "metadata": {},
   "outputs": [
    {
     "data": {
      "text/plain": [
       "0.00010843217381790772"
      ]
     },
     "execution_count": 34,
     "metadata": {},
     "output_type": "execute_result"
    }
   ],
   "source": [
    "get_security_charge(\"TrustZone_Flash\", 4000)"
   ]
  },
  {
   "cell_type": "code",
   "execution_count": null,
   "metadata": {},
   "outputs": [],
   "source": []
  },
  {
   "cell_type": "code",
   "execution_count": null,
   "metadata": {},
   "outputs": [],
   "source": []
  },
  {
   "cell_type": "code",
   "execution_count": null,
   "metadata": {},
   "outputs": [],
   "source": []
  },
  {
   "cell_type": "code",
   "execution_count": null,
   "metadata": {},
   "outputs": [],
   "source": []
  },
  {
   "cell_type": "code",
   "execution_count": null,
   "metadata": {},
   "outputs": [],
   "source": [
    "1544 + 2**10"
   ]
  },
  {
   "cell_type": "code",
   "execution_count": null,
   "metadata": {},
   "outputs": [],
   "source": [
    "2**13"
   ]
  },
  {
   "cell_type": "code",
   "execution_count": null,
   "metadata": {},
   "outputs": [],
   "source": []
  },
  {
   "cell_type": "code",
   "execution_count": null,
   "metadata": {},
   "outputs": [],
   "source": [
    "0x37b7"
   ]
  },
  {
   "cell_type": "code",
   "execution_count": null,
   "metadata": {},
   "outputs": [],
   "source": [
    "0x1fb7"
   ]
  },
  {
   "cell_type": "code",
   "execution_count": null,
   "metadata": {},
   "outputs": [],
   "source": [
    "0x1fb7+256*24"
   ]
  },
  {
   "cell_type": "code",
   "execution_count": null,
   "metadata": {},
   "outputs": [],
   "source": [
    "620*16"
   ]
  },
  {
   "cell_type": "code",
   "execution_count": null,
   "metadata": {},
   "outputs": [],
   "source": [
    "0x1fb7-256*24"
   ]
  },
  {
   "cell_type": "code",
   "execution_count": null,
   "metadata": {},
   "outputs": [],
   "source": [
    "1975+24*512"
   ]
  },
  {
   "cell_type": "code",
   "execution_count": null,
   "metadata": {},
   "outputs": [],
   "source": []
  },
  {
   "cell_type": "code",
   "execution_count": null,
   "metadata": {},
   "outputs": [],
   "source": [
    "1975+24*128"
   ]
  },
  {
   "cell_type": "code",
   "execution_count": null,
   "metadata": {},
   "outputs": [],
   "source": [
    "print(f\"{1975+24*128:x}\")"
   ]
  },
  {
   "cell_type": "code",
   "execution_count": null,
   "metadata": {},
   "outputs": [],
   "source": [
    "print(f\"{1975+24*0:x}\")"
   ]
  },
  {
   "cell_type": "code",
   "execution_count": null,
   "metadata": {},
   "outputs": [],
   "source": []
  },
  {
   "cell_type": "code",
   "execution_count": null,
   "metadata": {},
   "outputs": [],
   "source": []
  },
  {
   "cell_type": "markdown",
   "metadata": {},
   "source": [
    "## Plot stuff"
   ]
  },
  {
   "cell_type": "code",
   "execution_count": null,
   "metadata": {},
   "outputs": [],
   "source": [
    "# fig = plt.figure(figsize=(10, 6))\n",
    "# ax = fig.add_subplot(1, 1, 1)\n",
    "# ax.set_xlabel(\"Capacitor Size [C]\")\n",
    "# ax.set_ylabel(\"Number of Checkpoints\")"
   ]
  },
  {
   "cell_type": "code",
   "execution_count": null,
   "metadata": {},
   "outputs": [],
   "source": [
    "# capacitor_sizes = range(1,101)\n",
    "# def get_number_of_checkpoints(application_number):\n",
    "#     return [application_charges[application_number]/(capacitor_size - get_security_charge(\"trustzone_flash\", application_number_of_bytes[application_number])) for capacitor_size in capacitor_sizes]"
   ]
  },
  {
   "cell_type": "code",
   "execution_count": null,
   "metadata": {},
   "outputs": [],
   "source": [
    "# for application_number in range(5):\n",
    "#     ax.plot(capacitor_sizes, get_number_of_checkpoints(application_number), label=application_names[application_number])\n",
    "# ax.legend()\n",
    "# # ax.set_yscale('log')\n",
    "# # ax.set_xscale('log')\n",
    "# # ax.invert_xaxis()"
   ]
  },
  {
   "cell_type": "code",
   "execution_count": null,
   "metadata": {},
   "outputs": [],
   "source": []
  },
  {
   "cell_type": "code",
   "execution_count": null,
   "metadata": {},
   "outputs": [],
   "source": [
    "# fig2 = plt.figure(figsize=(10, 6))\n",
    "# ax2 = fig2.add_subplot(111, projection='3d')\n",
    "\n",
    "# ax2.set_xlabel(\"Capacitor Size [C]\")\n",
    "# ax2.set_ylabel(\"Number of Bytes\")\n",
    "# ax2.set_zlabel(\"Number of Checkpoints\")"
   ]
  },
  {
   "cell_type": "code",
   "execution_count": null,
   "metadata": {},
   "outputs": [],
   "source": [
    "# capacitor_sizes = range(1,1001)\n",
    "# application_charge = 50\n",
    "# number_of_bytes = range(1,1001)"
   ]
  },
  {
   "cell_type": "code",
   "execution_count": null,
   "metadata": {},
   "outputs": [],
   "source": [
    "# def get_number_of_checkpoints(application_charge, capacitor_size, number_of_bytes, security_type=\"trustzone_flash\"):\n",
    "#     return application_charge/(capacitor_size - get_security_charge(security_type, number_of_bytes))"
   ]
  },
  {
   "cell_type": "code",
   "execution_count": null,
   "metadata": {},
   "outputs": [],
   "source": [
    "# X, Y = np.meshgrid(capacitor_sizes, number_of_bytes)\n",
    "# Z = np.zeros(shape=(1000,1000))\n",
    "# for i,capacitor_size in enumerate(capacitor_sizes):\n",
    "#     for j,number_of_byte in enumerate(number_of_bytes):\n",
    "#         Z[i,j] = get_number_of_checkpoints(application_charge, capacitor_size, number_of_byte)\n",
    "# #Z = np.array([np.array([get_number_of_checkpoints(capacitor_size,application_charge) for application_charge in application_charges]) for  capacitor_size in capacitor_sizes])\n",
    "# Z.shape"
   ]
  },
  {
   "cell_type": "code",
   "execution_count": null,
   "metadata": {},
   "outputs": [],
   "source": [
    "# surf = ax2.plot_surface(X, Y, Z)"
   ]
  },
  {
   "cell_type": "code",
   "execution_count": null,
   "metadata": {},
   "outputs": [],
   "source": []
  },
  {
   "cell_type": "code",
   "execution_count": null,
   "metadata": {},
   "outputs": [],
   "source": []
  }
 ],
 "metadata": {
  "kernelspec": {
   "display_name": "Python [conda env:SAML11-32]",
   "language": "python",
   "name": "conda-env-SAML11-32-py"
  },
  "language_info": {
   "codemirror_mode": {
    "name": "ipython",
    "version": 3
   },
   "file_extension": ".py",
   "mimetype": "text/x-python",
   "name": "python",
   "nbconvert_exporter": "python",
   "pygments_lexer": "ipython3",
   "version": "3.6.8"
  }
 },
 "nbformat": 4,
 "nbformat_minor": 2
}
