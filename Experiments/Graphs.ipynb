{
 "cells": [
  {
   "cell_type": "code",
   "execution_count": 1,
   "metadata": {},
   "outputs": [],
   "source": [
    "# %matplotlib ipympl\n",
    "# %matplotlib inline\n",
    "%matplotlib wx"
   ]
  },
  {
   "cell_type": "code",
   "execution_count": 2,
   "metadata": {},
   "outputs": [],
   "source": [
    "import matplotlib.pyplot as plt\n",
    "import numpy as np"
   ]
  },
  {
   "cell_type": "markdown",
   "metadata": {},
   "source": [
    "## Load Pickles of checkpoint charges per byte"
   ]
  },
  {
   "cell_type": "code",
   "execution_count": 144,
   "metadata": {},
   "outputs": [],
   "source": [
    "from os import getcwd, path, pardir\n",
    "import pickle\n",
    "from math import ceil"
   ]
  },
  {
   "cell_type": "code",
   "execution_count": 145,
   "metadata": {},
   "outputs": [],
   "source": [
    "run_experiments = False"
   ]
  },
  {
   "cell_type": "markdown",
   "metadata": {},
   "source": [
    "Experiment AES"
   ]
  },
  {
   "cell_type": "code",
   "execution_count": 146,
   "metadata": {},
   "outputs": [],
   "source": [
    "if run_experiments:\n",
    "    from Security.AES.experiment_aes import experiment_aes\n",
    "    experiment_aes(path.join(getcwd(), \"Security\", \"AES\"))\n",
    "\n",
    "encrypt_charge = pickle.load(open(path.join(getcwd(), \"Security\", \"AES\", \"aes_encrypt_charge.p\"), \"rb\"))\n",
    "decrypt_charge = pickle.load(open(path.join(getcwd(), \"Security\", \"AES\", \"aes_decrypt_charge.p\"), \"rb\"))"
   ]
  },
  {
   "cell_type": "markdown",
   "metadata": {},
   "source": [
    "Experiment AES Flash"
   ]
  },
  {
   "cell_type": "code",
   "execution_count": 147,
   "metadata": {},
   "outputs": [],
   "source": [
    "if run_experiments:\n",
    "    from Security.AES_Flash.experiment_aes_flash import experiment_aes_flash\n",
    "    experiment_aes_flash(path.join(getcwd(), \"Security\", \"AES_Flash\"))\n",
    "\n",
    "aes_encrypt_charge = pickle.load(open(path.join(getcwd(), \"Security\", \"AES_Flash\", \"aes_flash_encrypt_charge.p\"), \"rb\"))\n",
    "aes_decrypt_charge = pickle.load(open(path.join(getcwd(), \"Security\", \"AES_Flash\", \"aes_flash_decrypt_charge.p\"), \"rb\"))\n",
    "flash_write_charge = pickle.load(open(path.join(getcwd(), \"Security\", \"AES_Flash\", \"aes_flash_write_charge.p\"), \"rb\"))\n",
    "flash_read_charge = pickle.load(open(path.join(getcwd(), \"Security\", \"AES_Flash\", \"aes_flash_read_charge.p\"), \"rb\"))"
   ]
  },
  {
   "cell_type": "markdown",
   "metadata": {},
   "source": [
    "Experiment TrustZone"
   ]
  },
  {
   "cell_type": "code",
   "execution_count": 148,
   "metadata": {},
   "outputs": [],
   "source": [
    "if run_experiments:\n",
    "    from Security.TrustZone.experiment_trustzone import experiment_trustzone\n",
    "    experiment_trustzone(path.join(getcwd(), \"Security\", \"TrustZone\"))\n",
    "\n",
    "nsc_store_charge = pickle.load(open(path.join(getcwd(), \"Security\", \"TrustZone\", \"trustzone_store_charge.p\"), \"rb\"))\n",
    "nsc_load_charge = pickle.load(open(path.join(getcwd(), \"Security\", \"TrustZone\", \"trustzone_load_charge.p\"), \"rb\"))"
   ]
  },
  {
   "cell_type": "markdown",
   "metadata": {},
   "source": [
    "Experiment TrustZone Flash"
   ]
  },
  {
   "cell_type": "code",
   "execution_count": 149,
   "metadata": {},
   "outputs": [],
   "source": [
    "if run_experiments:\n",
    "    from Security.TrustZone_Flash.experiment_trustzone_flash import experiment_trustzone_flash\n",
    "    experiment_trustzone_flash(path.join(getcwd(), \"Security\", \"TrustZone_Flash\"))\n",
    "\n",
    "flash_nsc_store_charge = pickle.load(open(path.join(getcwd(), \"Security\", \"TrustZone_Flash\", \"trustzone_flash_store_charge.p\"), \"rb\"))\n",
    "flash_nsc_load_charge = pickle.load(open(path.join(getcwd(), \"Security\", \"TrustZone_Flash\", \"trustzone_flash_load_charge.p\"), \"rb\"))"
   ]
  },
  {
   "cell_type": "markdown",
   "metadata": {},
   "source": [
    "Make lookup function"
   ]
  },
  {
   "cell_type": "code",
   "execution_count": 150,
   "metadata": {},
   "outputs": [],
   "source": [
    "AES_BLOCK_SIZE = 16\n",
    "def get_security_charge(security_type, number_of_bytes):\n",
    "    if security_type is \"AES\":\n",
    "        index = ceil(number_of_bytes/AES_BLOCK_SIZE)\n",
    "        return encrypt_charge[index] + decrypt_charge[index]\n",
    "    elif security_type is \"AES_Flash\":\n",
    "        index = ceil(number_of_bytes/AES_BLOCK_SIZE)\n",
    "        return aes_encrypt_charge[index] + flash_write_charge[index] + flash_read_charge[index] + aes_decrypt_charge[index]\n",
    "    elif security_type is \"TrustZone\":\n",
    "        return nsc_store_charge[number_of_bytes] + nsc_store_charge[number_of_bytes]\n",
    "    elif security_type is \"TrustZone_Flash\":\n",
    "        return flash_nsc_store_charge[number_of_bytes] + flash_nsc_load_charge[number_of_bytes]\n",
    "    else:\n",
    "        return 0 # No security, so 0 C"
   ]
  },
  {
   "cell_type": "code",
   "execution_count": null,
   "metadata": {},
   "outputs": [],
   "source": []
  },
  {
   "cell_type": "code",
   "execution_count": 165,
   "metadata": {},
   "outputs": [],
   "source": [
    "security_types = [\"None\", \"AES\", \"AES_Flash\", \"TrustZone\", \"TrustZone_Flash\"]\n",
    "# security_types = [\"None\", \"AES_Flash\", \"TruseZone_Flash\"]\n",
    "application_names = [\"Kalman\", \"AR\", \"Dijkstra\", \"Sorting\", \"Bit Count\", \"fft\"]"
   ]
  },
  {
   "cell_type": "code",
   "execution_count": 166,
   "metadata": {},
   "outputs": [],
   "source": [
    "app_charge_scale = 1e-4\n",
    "application_charges = np.array([1, 2, 3, 4, 5 ,6]) * app_charge_scale # TODO\n",
    "# app_number_of_bytes_scale = 1000\n",
    "application_number_of_bytes = np.array([234, 32, 876, 12, 90, 95]) # TODO"
   ]
  },
  {
   "cell_type": "code",
   "execution_count": 167,
   "metadata": {},
   "outputs": [],
   "source": [
    "base_charge_per_app = dict(zip(application_names, application_charges))\n",
    "number_of_bytes_per_app = dict(zip(application_names, application_number_of_bytes))"
   ]
  },
  {
   "cell_type": "code",
   "execution_count": 168,
   "metadata": {},
   "outputs": [],
   "source": [
    "def get_total_charge(application_name, security_type):\n",
    "    print(application_name, security_type, f\"base: {base_charge_per_app[application_name]}, sec: {get_security_charge(security_type, number_of_bytes_per_app[application_name])}\")\n",
    "    return base_charge_per_app[application_name] + get_security_charge(security_type, number_of_bytes_per_app[application_name])"
   ]
  },
  {
   "cell_type": "markdown",
   "metadata": {},
   "source": [
    "# Bar chart"
   ]
  },
  {
   "cell_type": "code",
   "execution_count": 169,
   "metadata": {},
   "outputs": [],
   "source": [
    "import numpy as np\n",
    "import matplotlib.pyplot as plt"
   ]
  },
  {
   "cell_type": "code",
   "execution_count": 170,
   "metadata": {},
   "outputs": [
    {
     "name": "stdout",
     "output_type": "stream",
     "text": [
      "Kalman None base: 0.0001, sec: 0\n",
      "AR None base: 0.0002, sec: 0\n",
      "Dijkstra None base: 0.00030000000000000003, sec: 0\n",
      "Sorting None base: 0.0004, sec: 0\n",
      "Bit Count None base: 0.0005, sec: 0\n",
      "fft None base: 0.0006000000000000001, sec: 0\n",
      "Kalman AES base: 0.0001, sec: 1.665989470970225e-05\n",
      "AR AES base: 0.0002, sec: 3.1193849111543757e-06\n",
      "Dijkstra AES base: 0.00030000000000000003, sec: 5.856134925316661e-05\n",
      "Sorting AES base: 0.0004, sec: 2.052742179666275e-06\n",
      "Bit Count AES base: 0.0005, sec: 7.312193583620544e-06\n",
      "fft AES base: 0.0006000000000000001, sec: 7.312193583620544e-06\n",
      "Kalman AES_Flash base: 0.0001, sec: 2.4004835237013053e-05\n",
      "AR AES_Flash base: 0.0002, sec: 7.896681360580167e-06\n",
      "Dijkstra AES_Flash base: 0.00030000000000000003, sec: 8.410964901737793e-05\n",
      "Sorting AES_Flash base: 0.0004, sec: 6.771078408967512e-06\n",
      "Bit Count AES_Flash base: 0.0005, sec: 1.2851533253425208e-05\n",
      "fft AES_Flash base: 0.0006000000000000001, sec: 1.2851533253425208e-05\n",
      "Kalman TrustZone base: 0.0001, sec: 4.578030891713221e-07\n",
      "AR TrustZone base: 0.0002, sec: 1.5746999885308464e-07\n",
      "Dijkstra TrustZone base: 0.00030000000000000003, sec: 1.5277324582699627e-06\n",
      "Sorting TrustZone base: 0.0004, sec: 5.3572267215451334e-08\n",
      "Bit Count TrustZone base: 0.0005, sec: 2.467710740919524e-07\n",
      "fft TrustZone base: 0.0006000000000000001, sec: 2.3700904257221046e-07\n",
      "Kalman TrustZone_Flash base: 0.0001, sec: 7.223677782290429e-06\n",
      "AR TrustZone_Flash base: 0.0002, sec: 4.696204213759766e-06\n",
      "Dijkstra TrustZone_Flash base: 0.00030000000000000003, sec: 2.527920577827068e-05\n",
      "Sorting TrustZone_Flash base: 0.0004, sec: 4.682889324215809e-06\n",
      "Bit Count TrustZone_Flash base: 0.0005, sec: 5.531429715076177e-06\n",
      "fft TrustZone_Flash base: 0.0006000000000000001, sec: 5.507891771490328e-06\n"
     ]
    }
   ],
   "source": [
    "# create plot\n",
    "fig, ax = plt.subplots(figsize=(10,9))\n",
    "index = np.arange(len(application_names))\n",
    "bar_width = 0.18\n",
    "opacity = 0.8\n",
    "\n",
    "# ax.grid()\n",
    "\n",
    "colors = [\"blue\", \"red\", \"green\", \"cyan\", \"magenta\", \"yellow\", \"black\", \"white\"]\n",
    "\n",
    "rects = []\n",
    "for i,security_type in enumerate(security_types):\n",
    "    rects += ax.bar(index + i*bar_width, [get_total_charge(application_name, security_type) for application_name in application_names], bar_width, label=security_type, color=colors[i], alpha=opacity)\n",
    " \n",
    "ax.set_xlabel('Application')\n",
    "ax.set_ylabel('Charge [C]')\n",
    "ax.set_title('Charge per Application')\n",
    "fig.canvas.set_window_title('Charge per Application')\n",
    "ax.set_xticks(index + bar_width)\n",
    "ax.set_xticklabels(application_names)\n",
    "ax.legend()\n",
    " \n",
    "fig.tight_layout()\n",
    "fig.show()"
   ]
  },
  {
   "cell_type": "markdown",
   "metadata": {},
   "source": [
    "# Number of Checkpoints"
   ]
  },
  {
   "cell_type": "code",
   "execution_count": 157,
   "metadata": {},
   "outputs": [],
   "source": [
    "security_types = [\"None\", \"AES_Flash\", \"TruseZone_Flash\"]"
   ]
  },
  {
   "cell_type": "code",
   "execution_count": 158,
   "metadata": {},
   "outputs": [
    {
     "name": "stdout",
     "output_type": "stream",
     "text": [
      "0.001 0.0019900000000000026\n",
      "0.0001\n",
      "0\n",
      "2.4004835237013053e-05\n"
     ]
    }
   ],
   "source": [
    "cap_scale_per_app = 1e1\n",
    "points_per_unit = 100\n",
    "capacitor_sizes = np.arange(app_charge_scale*cap_scale_per_app,app_charge_scale*cap_scale_per_app*2, app_charge_scale*cap_scale_per_app/points_per_unit)\n",
    "print(min(capacitor_sizes),max(capacitor_sizes))\n",
    "print(base_charge_per_app[\"Kalman\"])\n",
    "print(get_security_charge(\"None\", number_of_bytes_per_app[\"Kalman\"]))\n",
    "print(get_security_charge(\"AES_Flash\", number_of_bytes_per_app[\"Kalman\"]))"
   ]
  },
  {
   "cell_type": "code",
   "execution_count": 159,
   "metadata": {},
   "outputs": [],
   "source": [
    "opacity = 0.8\n",
    "colors = [\"blue\", \"red\", \"green\", \"cyan\", \"magenta\", \"yellow\", \"black\", \"white\"]\n",
    "\n",
    "figs = {}\n",
    "axs = {}\n",
    "for application_name in application_names:\n",
    "    fig, ax = plt.subplots(figsize=(10,9))\n",
    "    figs[application_name] = fig\n",
    "    axs[application_name] = ax\n",
    "    fig.canvas.set_window_title(application_name)\n",
    "    for i,security_type in enumerate(security_types):\n",
    "        ax.plot(capacitor_sizes, base_charge_per_app[application_name]/(capacitor_sizes - get_security_charge(security_type, number_of_bytes_per_app[application_name])), label=security_type, color=colors[i], alpha=opacity)\n",
    "#     ax.set_yscale('log')\n",
    "#     ax.set_xscale('log')\n",
    "    ax.set_xlabel('Capacitor Size [C]')\n",
    "    ax.set_ylabel('Number of Checkpoints')\n",
    "    ax.set_title(f'Number of Checkpoints per Security Type {application_name}')\n",
    "    fig.canvas.set_window_title(f\"Number of Checkpoints {application_name}\")\n",
    "    ax.legend()\n",
    "    fig.tight_layout()\n",
    "    fig.show()\n",
    "    break"
   ]
  },
  {
   "cell_type": "code",
   "execution_count": null,
   "metadata": {},
   "outputs": [],
   "source": []
  },
  {
   "cell_type": "markdown",
   "metadata": {},
   "source": [
    "## Scales"
   ]
  },
  {
   "cell_type": "code",
   "execution_count": 160,
   "metadata": {},
   "outputs": [
    {
     "name": "stdout",
     "output_type": "stream",
     "text": [
      "Cap Size:\n",
      "\tmin: 0.001, max: 0.0019900000000000026\n"
     ]
    }
   ],
   "source": [
    "print(\"Cap Size:\")\n",
    "print(f\"\\tmin: {min(capacitor_sizes)}, max: {max(capacitor_sizes)}\")"
   ]
  },
  {
   "cell_type": "code",
   "execution_count": 161,
   "metadata": {},
   "outputs": [
    {
     "name": "stdout",
     "output_type": "stream",
     "text": [
      "Base Charge:\n",
      "\tKalman: 0.0001\n",
      "\tAR: 0.0002\n",
      "\tDijkstra: 0.00030000000000000003\n",
      "\tCuckoo: 0.0004\n",
      "\tSorting: 0.0005\n"
     ]
    }
   ],
   "source": [
    "print(\"Base Charge:\")\n",
    "for application_name in application_names:\n",
    "    print(f\"\\t{application_name}: {base_charge_per_app[application_name]}\")"
   ]
  },
  {
   "cell_type": "code",
   "execution_count": 162,
   "metadata": {},
   "outputs": [
    {
     "name": "stdout",
     "output_type": "stream",
     "text": [
      "Security Charge:\n",
      "\tNone min: 0,  max: 0\n",
      "\tAES_Flash min: 6.771078408967512e-06,  max: 8.410964901737793e-05\n",
      "\tTruseZone_Flash min: 0,  max: 0\n"
     ]
    }
   ],
   "source": [
    "print(\"Security Charge:\")\n",
    "for security_type in security_types:\n",
    "    print(f\"\\t{security_type} min: {get_security_charge(security_type, min(number_of_bytes_per_app.values()))},  max: {get_security_charge(security_type, max(number_of_bytes_per_app.values()))}\")\n",
    "# number_of_bytes_per_app = dict(zip(application_names, application_number_of_bytes))"
   ]
  },
  {
   "cell_type": "code",
   "execution_count": 163,
   "metadata": {},
   "outputs": [
    {
     "data": {
      "text/plain": [
       "{'Kalman': 0.0001,\n",
       " 'AR': 0.0002,\n",
       " 'Dijkstra': 0.00030000000000000003,\n",
       " 'Cuckoo': 0.0004,\n",
       " 'Sorting': 0.0005}"
      ]
     },
     "execution_count": 163,
     "metadata": {},
     "output_type": "execute_result"
    }
   ],
   "source": [
    "base_charge_per_app"
   ]
  },
  {
   "cell_type": "code",
   "execution_count": 164,
   "metadata": {},
   "outputs": [
    {
     "data": {
      "text/plain": [
       "12"
      ]
     },
     "execution_count": 164,
     "metadata": {},
     "output_type": "execute_result"
    }
   ],
   "source": [
    "min(number_of_bytes_per_app.values())"
   ]
  },
  {
   "cell_type": "code",
   "execution_count": 138,
   "metadata": {},
   "outputs": [
    {
     "data": {
      "text/plain": [
       "0"
      ]
     },
     "execution_count": 138,
     "metadata": {},
     "output_type": "execute_result"
    }
   ],
   "source": [
    "get_security_charge(\"None\", min(number_of_bytes_per_app.values()))"
   ]
  },
  {
   "cell_type": "code",
   "execution_count": null,
   "metadata": {},
   "outputs": [],
   "source": []
  },
  {
   "cell_type": "code",
   "execution_count": null,
   "metadata": {},
   "outputs": [],
   "source": []
  },
  {
   "cell_type": "code",
   "execution_count": null,
   "metadata": {},
   "outputs": [],
   "source": []
  },
  {
   "cell_type": "code",
   "execution_count": null,
   "metadata": {},
   "outputs": [],
   "source": []
  },
  {
   "cell_type": "code",
   "execution_count": null,
   "metadata": {},
   "outputs": [],
   "source": []
  },
  {
   "cell_type": "code",
   "execution_count": null,
   "metadata": {},
   "outputs": [],
   "source": []
  },
  {
   "cell_type": "code",
   "execution_count": null,
   "metadata": {},
   "outputs": [],
   "source": []
  },
  {
   "cell_type": "code",
   "execution_count": null,
   "metadata": {},
   "outputs": [],
   "source": []
  },
  {
   "cell_type": "code",
   "execution_count": null,
   "metadata": {},
   "outputs": [],
   "source": []
  },
  {
   "cell_type": "code",
   "execution_count": null,
   "metadata": {},
   "outputs": [],
   "source": []
  },
  {
   "cell_type": "code",
   "execution_count": null,
   "metadata": {},
   "outputs": [],
   "source": []
  },
  {
   "cell_type": "code",
   "execution_count": null,
   "metadata": {},
   "outputs": [],
   "source": []
  },
  {
   "cell_type": "code",
   "execution_count": null,
   "metadata": {},
   "outputs": [],
   "source": []
  },
  {
   "cell_type": "code",
   "execution_count": null,
   "metadata": {},
   "outputs": [],
   "source": []
  },
  {
   "cell_type": "code",
   "execution_count": null,
   "metadata": {},
   "outputs": [],
   "source": []
  },
  {
   "cell_type": "code",
   "execution_count": null,
   "metadata": {},
   "outputs": [],
   "source": []
  },
  {
   "cell_type": "code",
   "execution_count": null,
   "metadata": {},
   "outputs": [],
   "source": []
  },
  {
   "cell_type": "code",
   "execution_count": null,
   "metadata": {},
   "outputs": [],
   "source": []
  },
  {
   "cell_type": "code",
   "execution_count": null,
   "metadata": {},
   "outputs": [],
   "source": []
  },
  {
   "cell_type": "code",
   "execution_count": null,
   "metadata": {},
   "outputs": [],
   "source": []
  },
  {
   "cell_type": "markdown",
   "metadata": {},
   "source": [
    "## Plot stuff"
   ]
  },
  {
   "cell_type": "code",
   "execution_count": 11,
   "metadata": {},
   "outputs": [
    {
     "data": {
      "text/plain": [
       "Text(0, 0.5, 'Number of Checkpoints')"
      ]
     },
     "execution_count": 11,
     "metadata": {},
     "output_type": "execute_result"
    }
   ],
   "source": [
    "fig = plt.figure(figsize=(10, 6))\n",
    "ax = fig.add_subplot(1, 1, 1)\n",
    "ax.set_xlabel(\"Capacitor Size [C]\")\n",
    "ax.set_ylabel(\"Number of Checkpoints\")"
   ]
  },
  {
   "cell_type": "code",
   "execution_count": 12,
   "metadata": {},
   "outputs": [],
   "source": [
    "capacitor_sizes = range(1,101)\n",
    "def get_number_of_checkpoints(application_number):\n",
    "    return [application_charges[application_number]/(capacitor_size - get_security_charge(\"trustzone_flash\", application_number_of_bytes[application_number])) for capacitor_size in capacitor_sizes]"
   ]
  },
  {
   "cell_type": "code",
   "execution_count": 13,
   "metadata": {},
   "outputs": [
    {
     "data": {
      "text/plain": [
       "<matplotlib.legend.Legend at 0x18daec50>"
      ]
     },
     "execution_count": 13,
     "metadata": {},
     "output_type": "execute_result"
    }
   ],
   "source": [
    "for application_number in range(5):\n",
    "    ax.plot(capacitor_sizes, get_number_of_checkpoints(application_number), label=application_names[application_number])\n",
    "ax.legend()\n",
    "# ax.set_yscale('log')\n",
    "# ax.set_xscale('log')\n",
    "# ax.invert_xaxis()"
   ]
  },
  {
   "cell_type": "code",
   "execution_count": null,
   "metadata": {},
   "outputs": [],
   "source": []
  },
  {
   "cell_type": "code",
   "execution_count": 14,
   "metadata": {},
   "outputs": [],
   "source": [
    "# fig2 = plt.figure(figsize=(10, 6))\n",
    "# ax2 = fig2.add_subplot(111, projection='3d')\n",
    "\n",
    "# ax2.set_xlabel(\"Capacitor Size [C]\")\n",
    "# ax2.set_ylabel(\"Number of Bytes\")\n",
    "# ax2.set_zlabel(\"Number of Checkpoints\")"
   ]
  },
  {
   "cell_type": "code",
   "execution_count": 15,
   "metadata": {},
   "outputs": [],
   "source": [
    "# capacitor_sizes = range(1,1001)\n",
    "# application_charge = 50\n",
    "# number_of_bytes = range(1,1001)"
   ]
  },
  {
   "cell_type": "code",
   "execution_count": 16,
   "metadata": {},
   "outputs": [],
   "source": [
    "# def get_number_of_checkpoints(application_charge, capacitor_size, number_of_bytes, security_type=\"trustzone_flash\"):\n",
    "#     return application_charge/(capacitor_size - get_security_charge(security_type, number_of_bytes))"
   ]
  },
  {
   "cell_type": "code",
   "execution_count": 17,
   "metadata": {},
   "outputs": [],
   "source": [
    "# X, Y = np.meshgrid(capacitor_sizes, number_of_bytes)\n",
    "# Z = np.zeros(shape=(1000,1000))\n",
    "# for i,capacitor_size in enumerate(capacitor_sizes):\n",
    "#     for j,number_of_byte in enumerate(number_of_bytes):\n",
    "#         Z[i,j] = get_number_of_checkpoints(application_charge, capacitor_size, number_of_byte)\n",
    "# #Z = np.array([np.array([get_number_of_checkpoints(capacitor_size,application_charge) for application_charge in application_charges]) for  capacitor_size in capacitor_sizes])\n",
    "# Z.shape"
   ]
  },
  {
   "cell_type": "code",
   "execution_count": 18,
   "metadata": {},
   "outputs": [],
   "source": [
    "# surf = ax2.plot_surface(X, Y, Z)"
   ]
  },
  {
   "cell_type": "code",
   "execution_count": null,
   "metadata": {},
   "outputs": [],
   "source": []
  },
  {
   "cell_type": "code",
   "execution_count": null,
   "metadata": {},
   "outputs": [],
   "source": []
  }
 ],
 "metadata": {
  "kernelspec": {
   "display_name": "Python [conda env:SAML11-32]",
   "language": "python",
   "name": "conda-env-SAML11-32-py"
  },
  "language_info": {
   "codemirror_mode": {
    "name": "ipython",
    "version": 3
   },
   "file_extension": ".py",
   "mimetype": "text/x-python",
   "name": "python",
   "nbconvert_exporter": "python",
   "pygments_lexer": "ipython3",
   "version": "3.6.8"
  }
 },
 "nbformat": 4,
 "nbformat_minor": 2
}
