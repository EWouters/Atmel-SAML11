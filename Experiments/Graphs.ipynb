{
 "cells": [
  {
   "cell_type": "code",
   "execution_count": 1,
   "metadata": {},
   "outputs": [],
   "source": [
    "# %matplotlib ipympl\n",
    "# %matplotlib inline\n",
    "%matplotlib wx"
   ]
  },
  {
   "cell_type": "code",
   "execution_count": 2,
   "metadata": {},
   "outputs": [],
   "source": [
    "import matplotlib.pyplot as plt\n",
    "import numpy as np"
   ]
  },
  {
   "cell_type": "markdown",
   "metadata": {},
   "source": [
    "## Load Pickles of checkpoint charges per byte"
   ]
  },
  {
   "cell_type": "code",
   "execution_count": 3,
   "metadata": {},
   "outputs": [],
   "source": [
    "from os import getcwd, path, pardir, scandir\n",
    "import pickle\n",
    "from math import ceil"
   ]
  },
  {
   "cell_type": "code",
   "execution_count": 4,
   "metadata": {},
   "outputs": [],
   "source": [
    "from pydgilib_extra import LOGGER_CSV"
   ]
  },
  {
   "cell_type": "code",
   "execution_count": 5,
   "metadata": {},
   "outputs": [],
   "source": [
    "measure_security = False\n",
    "measure_workloads = False"
   ]
  },
  {
   "cell_type": "code",
   "execution_count": 6,
   "metadata": {},
   "outputs": [],
   "source": [
    "from experiments.checkpoint_energy import CheckpointEnergy"
   ]
  },
  {
   "cell_type": "code",
   "execution_count": 7,
   "metadata": {},
   "outputs": [],
   "source": [
    "checkpoint_energy = CheckpointEnergy()"
   ]
  },
  {
   "cell_type": "code",
   "execution_count": 8,
   "metadata": {},
   "outputs": [
    {
     "data": {
      "text/plain": [
       "['AES', 'AES_Flash', 'TrustZone', 'TrustZone_Flash']"
      ]
     },
     "execution_count": 8,
     "metadata": {},
     "output_type": "execute_result"
    }
   ],
   "source": [
    "checkpoint_energy.security_projects"
   ]
  },
  {
   "cell_type": "code",
   "execution_count": 9,
   "metadata": {},
   "outputs": [
    {
     "data": {
      "text/plain": [
       "['BitCounting', 'FFT', 'Sorting']"
      ]
     },
     "execution_count": 9,
     "metadata": {},
     "output_type": "execute_result"
    }
   ],
   "source": [
    "checkpoint_energy.workload_projects"
   ]
  },
  {
   "cell_type": "code",
   "execution_count": 10,
   "metadata": {},
   "outputs": [],
   "source": [
    "# checkpoint_energy.get_device_info(verbose=0)"
   ]
  },
  {
   "cell_type": "code",
   "execution_count": null,
   "metadata": {},
   "outputs": [],
   "source": []
  },
  {
   "cell_type": "code",
   "execution_count": 11,
   "metadata": {},
   "outputs": [],
   "source": [
    "# checkpoint_energy.measure_security_energy('AES_Flash', live_plot=True, max_log_time=200, show_lm_plot=2)"
   ]
  },
  {
   "cell_type": "code",
   "execution_count": 12,
   "metadata": {},
   "outputs": [],
   "source": [
    "if measure_security:\n",
    "    checkpoint_energy.measure_all_security_energy(config_dict={\"loggers\": [LOGGER_CSV]}, show_lm_plot=2)"
   ]
  },
  {
   "cell_type": "markdown",
   "metadata": {},
   "source": [
    "### Smoothen?"
   ]
  },
  {
   "cell_type": "markdown",
   "metadata": {},
   "source": [
    "Get lookup function"
   ]
  },
  {
   "cell_type": "code",
   "execution_count": 13,
   "metadata": {},
   "outputs": [],
   "source": [
    "get_security_energy = checkpoint_energy.get_security_energy_function()"
   ]
  },
  {
   "cell_type": "code",
   "execution_count": 14,
   "metadata": {},
   "outputs": [
    {
     "name": "stdout",
     "output_type": "stream",
     "text": [
      "AES {'AES Encrypt': 8.726527462110667e-06, 'AES Decrypt': 8.523603802501043e-06}\n",
      "AES {'AES Encrypt': 3.2097829996770706, 'AES Decrypt': 3.3157625507079116}\n",
      "AES_Flash {'AES Encrypt': 5.340906564515927e-06, 'AES Decrypt': 5.710224592908599e-06, 'Flash Write': 6.602269597469372e-06, 'Flash Read': 1.1769474996862883e-07}\n",
      "AES_Flash {'AES Encrypt': 3.360749212858372, 'AES Decrypt': 3.2559778198651363, 'Flash Write': 2.39241578703048, 'Flash Read': 0.07728764458576942}\n",
      "TrustZone {'TrustZone Store': 1.2012787020858632e-07, 'TrustZone Load': 1.1850452128603901e-07}\n",
      "TrustZone {'TrustZone Store': 0.09031142957444294, 'TrustZone Load': 0.08975812231942296}\n",
      "TrustZone_Flash {'TrustZone Flash Store': 5.466062435996475e-06, 'TrustZone Flash Load': 9.171925349977589e-08}\n",
      "TrustZone_Flash {'TrustZone Flash Store': 2.5547072637329364, 'TrustZone Flash Load': 0.08044798933422952}\n",
      "None {'None': 0}\n",
      "None {'None': 0}\n"
     ]
    }
   ],
   "source": [
    "for security_type in checkpoint_energy.security_projects + [\"None\"]:\n",
    "    print(security_type, get_security_energy(security_type,100))\n",
    "    print(security_type, get_security_energy(security_type,100000000))"
   ]
  },
  {
   "cell_type": "code",
   "execution_count": 15,
   "metadata": {},
   "outputs": [],
   "source": [
    "if measure_workloads:\n",
    "    repetitions = 100\n",
    "    checkpoint_energy.measure_all_workload_energy(config_dict={\"loggers\": [LOGGER_CSV]}, repetitions=repetitions)"
   ]
  },
  {
   "cell_type": "code",
   "execution_count": 16,
   "metadata": {},
   "outputs": [],
   "source": [
    "# checkpoint_energy.measure_workload_energy('BitCounting', live_plot=True, max_log_time=20)"
   ]
  },
  {
   "cell_type": "code",
   "execution_count": 17,
   "metadata": {},
   "outputs": [],
   "source": [
    "get_workload_energy = checkpoint_energy.get_workload_energy_function()"
   ]
  },
  {
   "cell_type": "code",
   "execution_count": 18,
   "metadata": {},
   "outputs": [
    {
     "name": "stdout",
     "output_type": "stream",
     "text": [
      "BitCounting 100 {'Bit Counting': [6.746483443434485e-06, 6.735223070658725e-06, 6.714013301175594e-06, 6.713904792244463e-06, 6.708276822339763e-06, 6.714119697523103e-06, 6.705084011478111e-06, 6.749887647328754e-06, 6.710657835871208e-06, 6.735114215211505e-06, 6.716608980010737e-06, 6.714013306938479e-06, 6.702053615412486e-06, 6.743448734390374e-06, 6.735549640841828e-06, 6.742479161612592e-06, 6.7221308482660874e-06, 6.716771811553405e-06, 6.70367718959924e-06, 6.745072098352208e-06, 6.69896867785416e-06, 6.706058319743722e-06, 6.737771932473184e-06, 6.707734756041787e-06, 6.700862239351736e-06, 6.713633526640515e-06, 6.729758929302732e-06, 6.718234928822761e-06, 6.696262938262748e-06, 6.710928968369955e-06, 6.728189897229571e-06, 6.687604862315796e-06, 6.702918840074046e-06, 6.726407003454024e-06, 6.697399394935968e-06, 6.751463065245795e-06, 6.728084919600944e-06, 6.718883825972162e-06, 6.705895773294719e-06, 6.712550608664761e-06, 6.715636790231505e-06, 6.703027170780939e-06, 6.6961547275435115e-06, 6.716611385043705e-06, 6.69788647852828e-06, 6.709466584470812e-06, 6.684952223721884e-06, 6.736846406462773e-06, 6.705191357323512e-06, 6.713310040934613e-06, 6.6985899822579495e-06, 6.70849364117533e-06, 6.69696647591339e-06, 6.71331005438156e-06, 6.715743048693215e-06, 6.728624856355673e-06, 6.70676171613645e-06, 6.710657835871212e-06, 6.700267636363228e-06, 6.728516124738068e-06, 6.713201548963796e-06, 6.7147165390214945e-06, 6.713362280244871e-06, 6.702810507446387e-06, 6.727758756420034e-06, 6.7167175414154455e-06, 6.691230138663776e-06, 6.748864158754072e-06, 6.710279843239009e-06, 6.705138187068507e-06, 6.733168925194105e-06, 6.737712519845394e-06, 6.696371162429044e-06, 6.72288827097902e-06, 6.709954522827947e-06, 6.700104759525202e-06, 6.7154739980448235e-06, 6.712767584922757e-06, 6.7182323289332845e-06, 6.713687776303653e-06, 6.718938091939153e-06, 6.723754356531606e-06, 6.70183634891947e-06, 6.713255776699904e-06, 6.699131074565397e-06, 6.704217146322368e-06, 6.715853883620012e-06, 6.732139619837212e-06, 6.703784701487366e-06, 6.739335874530265e-06, 6.692150574481529e-06, 6.700104748001018e-06, 6.7108730201527255e-06, 6.7150941643350954e-06, 6.716554696427266e-06, 6.710386701452116e-06, 6.7222907175662365e-06, 6.711578038777312e-06, 6.710820490781893e-06, 6.7142824565868525e-06]}\n",
      "FFT 100 {'Allocate': [0.00024754686677751567, 0.0002474696039405601, 0.00024737491881851565, 0.00024747128263669056, 0.00024740303373071314, 0.0002475066518083503, 0.0002475749699006363, 0.00024739367774672045, 0.0002473630357600887, 0.00024748477809130094, 0.0002475358153445579, 0.00024730884457082697, 0.00024738402038114844, 0.00024736822373249177, 0.00024735991482639416, 0.0002473350897822381, 0.00024748131812299195, 0.00024743646676717745, 0.0002475550273008776, 0.00024746328459139755, 0.00024761465721328613, 0.000247554606110493, 0.0002476596788888169, 0.000247593614498835, 0.00024747763833247804, 0.0002474886073431241, 0.0002474412430114074, 0.0002475781023188245, 0.0002475902401553752, 0.0002476380960313334, 0.000247529229757523, 0.0002475698370870529, 0.0002476048357132909, 0.0002476866774749507, 0.00024773744763484666, 0.00024769941662321205, 0.0002475265035069721, 0.000247710077915842, 0.0002476766791430579, 0.00024748480200844774, 0.0002477353308910613, 0.00024758557271918125, 0.0002476109166076587, 0.00024761958278817745, 0.0002476940875483445, 0.0002476065505474586, 0.00024762209042051436, 0.00024762741876068823, 0.00024750776039734974, 0.0002475037691912606, 0.0002477157250458356, 0.00024756704209258877, 0.00024764320234788343, 0.00024758222415635617, 0.00024736143280693, 0.00024736767819479044, 0.0002472076359567428, 0.0002474583838670372, 0.0002474452689722319, 0.00024761204675239853, 0.0002475783995654926, 0.00024756591919595713, 0.00024761263050753456, 0.0002476039973290928, 0.0002474951924555908, 0.00024749879109564024, 0.00024758070628929236, 0.0002475536551546039, 0.0002474672872280899, 0.0002475546727487156, 0.00024744282972036707, 0.00024755839698733194, 0.0002474477363041423, 0.00024737602349687084, 0.0002474640659844451, 0.0002475744282428115, 0.00024750151145745583, 0.0002475556909837498, 0.00024765592351541643, 0.00024755030186424077, 0.0002474514056808719, 0.0002476651008999934, 0.00024754050293259415, 0.0002476160752148801, 0.00024762614346320456, 0.0002474242629739825, 0.00024749455422216454, 0.000247480236102737, 0.00024751432693944514, 0.0002476055655093978, 0.0002474542830449358, 0.00024752527114960604, 0.000247382557629942, 0.000247463707211601, 0.0002474969621624668, 0.0002473708413052178, 0.000247497260709866, 0.0002474393763859735, 0.00024734314120722123, 0.00024765080802731273], 'Free': [2.4352998328381742e-08, 2.2727261837707815e-08, 2.191840689486896e-08, 2.3539711251315584e-08, 2.1103375056375688e-08, 2.2726710860420097e-08, 2.1916635896555483e-08, 2.110303397519832e-08, 0, 2.435319510599261e-08, 2.191557329753053e-08, 2.1918406894905825e-08, 2.435319510599261e-08, 2.597674272706414e-08, 2.191557329753053e-08, 0, 2.516435890596149e-08, 2.1918052695206263e-08, 2.110354559698212e-08, 2.191805269524313e-08, 2.191539619768075e-08, 0, 2.191504199805492e-08, 2.1915219097867833e-08, 2.3541042779769435e-08, 2.0294001932634725e-08, 2.1915041998018054e-08, 2.110405721873042e-08, 2.435378543878425e-08, 2.435378543878425e-08, 2.1915219097867833e-08, 2.4349849886853635e-08, 0, 0, 0, 2.435024344207537e-08, 2.110405721873042e-08, 2.4349849886894597e-08, 2.110354559698212e-08, 2.1103716137588555e-08, 2.5161918863693954e-08, 2.2726710860420097e-08, 2.191592749723009e-08, 0, 2.191575039738031e-08, 2.1105762624688252e-08, 2.1103375056375688e-08, 2.5164765579658638e-08, 2.1103886678159487e-08, 2.1915219097830967e-08, 0, 2.110576262465275e-08, 2.2727445496816467e-08, 0, 0, 2.1915041998018054e-08, 2.3538189504494216e-08, 2.2727996474065953e-08, 2.3541232998097356e-08, 1.9480981864038227e-08, 0, 2.1104398299943286e-08, 0, 2.1915219097867833e-08, 2.191486489816827e-08, 2.1103375056411187e-08, 2.5973594285397195e-08, 2.1105933165259184e-08, 2.4352211218020196e-08, 2.4351227330006823e-08, 2.1915750397343442e-08, 2.5162732211130578e-08, 2.1103886678159487e-08, 0, 2.1916458796742566e-08, 2.1916104597043004e-08, 2.1104568840549718e-08, 2.2727445496816467e-08, 2.110354559694662e-08, 2.191628169685592e-08, 2.2726894519528745e-08, 2.1914864898205137e-08, 2.1915219097867833e-08, 2.1103375056411187e-08, 0, 0, 2.110354559698212e-08, 0, 2.4352801550811837e-08, 2.516557892709526e-08, 0, 2.1104739381156153e-08, 2.5161715526866546e-08, 2.1915396197717615e-08, 2.3540662343034394e-08, 2.110422775933685e-08, 2.1916104597043004e-08, 0, 2.191557329753053e-08, 2.1105762624688252e-08], 'FFT': [5.5743241533271795e-05, 5.578126112142377e-05, 5.5727056270903705e-05, 5.5717401848094705e-05, 5.5727140947889546e-05, 5.575822717770867e-05, 5.572701820454524e-05, 5.5699712504759196e-05, 5.565243137369588e-05, 5.571073052139159e-05, 5.5767387977707304e-05, 5.57488117921105e-05, 5.576690000233823e-05, 5.574924122244511e-05, 5.57489869030455e-05, 5.576113584262138e-05, 5.57632783844565e-05, 5.5737208031767524e-05, 5.580706655594876e-05, 5.5726783275030294e-05, 5.5804096959054903e-05, 5.573802062479695e-05, 5.5776886162386685e-05, 5.5828794524272154e-05, 5.567810441283836e-05, 5.571931658409884e-05, 5.575845514930822e-05, 5.578179280225025e-05, 5.579026467690744e-05, 5.578198128613132e-05, 5.5778926238431026e-05, 5.581914771234398e-05, 5.578920032578886e-05, 5.5803153586656835e-05, 5.579630306379003e-05, 5.582347097055637e-05, 5.5745412946371666e-05, 5.585760911466377e-05, 5.5782410608615226e-05, 5.573657437708797e-05, 5.5797161805294974e-05, 5.583293418027744e-05, 5.5747624554823853e-05, 3.332870069264087e-05, 5.578846773557023e-05, 5.575514700038586e-05, 5.5748697747094825e-05, 5.5812766395410215e-05, 5.577220524462591e-05, 5.5736829938319515e-05, 5.578630022653375e-05, 5.5714987650474516e-05, 5.576469631887626e-05, 3.346442731167591e-05, 5.5706251466316105e-05, 5.5665615623821584e-05, 5.578056505389097e-05, 5.5716282166377164e-05, 5.5738541960663393e-05, 5.579917523960655e-05, 5.5750091862727874e-05, 5.5772308289186924e-05, 5.5756776163671386e-05, 5.580395013871795e-05, 5.576324549606933e-05, 5.5729164900162896e-05, 5.5762456177268044e-05, 5.5751461896620014e-05, 5.5768642384209085e-05, 5.5737046346860023e-05, 5.576570629980268e-05, 5.5728578042106476e-05, 5.574096963179764e-05, 3.304875957890634e-05, 5.57090439616316e-05, 5.5757536642342876e-05, 5.5722372499241155e-05, 5.574594709872868e-05, 5.575476307224777e-05, 5.5765890615411036e-05, 5.574371015437665e-05, 5.576206649057584e-05, 5.583923165469323e-05, 5.5772186071636676e-05, 5.5786336570666375e-05, 5.57414628100221e-05, 5.5799183625671044e-05, 3.3198799815320734e-05, 5.571905826069723e-05, 5.5853986410086e-05, 3.3502881387958785e-05, 5.571718473880188e-05, 5.575247222141996e-05, 5.579520727296574e-05, 5.574950229605405e-05, 5.575005174267717e-05, 5.575689972054824e-05, 3.3103180270977614e-05, 5.5720538090146254e-05, 5.57524279784577e-05]}\n",
      "Sorting 100 {'Sorting': [1.6104086675659492e-05, 1.6100090124125785e-05, 1.6079797611470974e-05, 1.6092591750580968e-05, 1.611804752540888e-05, 1.6115803192588642e-05, 1.611327665472872e-05, 1.6106261755530555e-05, 1.6055739272850535e-05, 1.6081842829463567e-05, 1.6109378656153478e-05, 1.6104309631034835e-05, 1.6091389904534056e-05, 1.6093076334563843e-05, 1.609132291771185e-05, 1.6110251704558085e-05, 1.6102686289468515e-05, 1.6101193058048057e-05, 1.6122106265197334e-05, 1.61362254876109e-05, 1.6105932955314317e-05, 1.606060934266749e-05, 1.6122166317196298e-05, 1.6071777980952354e-05, 1.6091322934998647e-05, 1.610849812723911e-05, 1.607353131937625e-05, 1.6096260421646795e-05, 1.6116554240388487e-05, 1.6129471344640944e-05, 1.609700459590713e-05, 1.6085641256803367e-05, 1.60896995953531e-05, 1.612710705564016e-05, 1.6128991219356393e-05, 1.609875802602074e-05, 1.6115872728242786e-05, 1.608814291105458e-05, 1.6097655022991354e-05, 1.610895735787824e-05, 1.611512177531491e-05, 1.613668827528887e-05, 1.609814409262275e-05, 1.6146560155091488e-05, 1.610259323195283e-05, 1.6126295280376804e-05, 1.609077132357047e-05, 1.609109819934791e-05, 1.6122076120171133e-05, 1.610184363374717e-05, 1.6096359052191126e-05, 1.6069180171625992e-05, 1.61145705254427e-05, 1.6070739051539453e-05, 1.6101261058838176e-05, 1.610963897370809e-05, 1.611398880482988e-05, 1.608320623292932e-05, 1.6084017897950205e-05, 1.61498361540688e-05, 1.6107525583589454e-05, 1.6103367803537472e-05, 1.6105710244083174e-05, 1.6146299241441614e-05, 1.61091490211547e-05, 1.614548743801955e-05, 1.61028163916044e-05, 1.6082330684040307e-05, 1.613171690132622e-05, 1.6117496245784857e-05, 1.6108367942693914e-05, 1.6113789186859833e-05, 1.6087686228589056e-05, 1.6142530376478744e-05, 1.6112556506268186e-05, 1.6101391163548845e-05, 1.6087071166673043e-05, 1.6116354406150002e-05, 1.6151329141345457e-05, 1.611736604254529e-05, 1.6117917261823613e-05, 1.610930980073999e-05, 1.609544869248653e-05, 1.614502349624376e-05, 1.611749625731073e-05, 1.6116745131593583e-05, 1.6087264586845154e-05, 1.608164884341516e-05, 1.6116424037945673e-05, 1.6135964684015616e-05, 1.612372975266056e-05, 1.610174448661415e-05, 1.6114179843666098e-05, 1.6141747725716945e-05, 1.609619292320322e-05, 1.6080479358157903e-05, 1.614908188487674e-05, 1.612532323907177e-05, 1.6085057730943848e-05, 1.6115642658085555e-05]}\n"
     ]
    }
   ],
   "source": [
    "for workload_type in checkpoint_energy.workload_projects:\n",
    "    print(workload_type, len(list(get_workload_energy(workload_type).values())[0]), get_workload_energy(workload_type))"
   ]
  },
  {
   "cell_type": "code",
   "execution_count": 19,
   "metadata": {},
   "outputs": [],
   "source": [
    "# project_path = path.abspath(path.join(path.curdir, \"Workloads\", \"BitCounting\", \"BitCounting-S\"))\n",
    "# project_path"
   ]
  },
  {
   "cell_type": "code",
   "execution_count": 20,
   "metadata": {},
   "outputs": [],
   "source": [
    "# checkpoint_energy.get_all_workload_info()"
   ]
  },
  {
   "cell_type": "code",
   "execution_count": 21,
   "metadata": {},
   "outputs": [],
   "source": [
    "capacitor_size = 10e-5"
   ]
  },
  {
   "cell_type": "code",
   "execution_count": 22,
   "metadata": {},
   "outputs": [],
   "source": [
    "import numpy as np\n",
    "import matplotlib.pyplot as plt"
   ]
  },
  {
   "cell_type": "code",
   "execution_count": 23,
   "metadata": {},
   "outputs": [],
   "source": [
    "# # create plot\n",
    "# fig, ax = plt.subplots(figsize=(10,9))\n",
    "# index = np.arange(len(checkpoint_energy.workload_projects))\n",
    "# bar_width = 0.18\n",
    "# opacity = 0.8\n",
    "\n",
    "# # ax.grid()\n",
    "\n",
    "# get_workload_energy = checkpoint_energy.get_workload_energy_function()\n",
    "\n",
    "# colors = [\"blue\", \"red\", \"green\", \"cyan\", \"magenta\", \"yellow\", \"black\", \"white\"]\n",
    "\n",
    "# rects = {}\n",
    "# for workload_project in checkpoint_energy.workload_projects:\n",
    "#     energy = get_workload_energy(workload_project)\n",
    "#     #print(energy)\n",
    "#     rects[workload_project] = {}\n",
    "#     section_averages = {}\n",
    "#     section_stds = {}\n",
    "#     last_key = None\n",
    "#     for section in energy.keys():\n",
    "#         section_averages[section] = np.average(energy[section])\n",
    "#         section_stds[section] = np.std(energy[section])\n",
    "#         kwargs = {} if last_key is None else {\"bottom\": section_averages[last_key]}\n",
    "#         rects[workload_project][section] = ax.bar(index, section_averages[section], bar_width, label=section, alpha=opacity, yerr=section_stds[section], **kwargs)\n",
    "#         last_key = section\n",
    "    \n",
    "#     # rects += ax.bar(index + i*bar_width, [get_total_charge(application_name, security_type) for application_name in application_names], bar_width, label=security_type, color=colors[i], alpha=opacity)\n",
    "# print(rects)\n",
    "# ax.set_xlabel('Workload')\n",
    "# ax.set_ylabel('Charge [C]')\n",
    "# ax.set_title('Charge per Iteration')\n",
    "# fig.canvas.set_window_title('Charge per Workload')\n",
    "# ax.set_xticks(index)\n",
    "# ax.set_xticklabels(checkpoint_energy.workload_projects)\n",
    "# ax.legend()\n",
    "\n",
    "# fig.tight_layout()\n",
    "# fig.show()"
   ]
  },
  {
   "cell_type": "code",
   "execution_count": null,
   "metadata": {},
   "outputs": [],
   "source": [
    "class WorkloadPlotter(object):\n",
    "    def __init__(self, checkpoint_energy=CheckpointEnergy(), fig=None, ax=None, show=False):\n",
    "        self.checkpoint_energy = checkpoint_energy\n",
    "        self.fig = fig\n",
    "        self.ax = ax\n",
    "        if show:\n",
    "            self.make_fig()\n",
    "            self.update_fig()\n",
    "            \n",
    "        \n",
    "    def make_fig(self, *args, **kwargs):\n",
    "        self.fig, self.ax = plt.subplots(*args, **kwargs)\n",
    "    \n",
    "    def update_fig(self):\n",
    "        opacity = 0.8\n",
    "        self.ax.cla()\n",
    "        \n",
    "        self.bars = {}\n",
    "        for index, workload_project in enumerate(self.checkpoint_energy.workload_projects):\n",
    "            self.bars[workload_project] = {}\n",
    "            section_averages = self.checkpoint_energy.get_workload_average(workload_project)\n",
    "            section_stds = self.checkpoint_energy.get_workload_std(workload_project)\n",
    "            bottom = 0\n",
    "            for section in section_averages.keys():\n",
    "                self.bars[workload_project][section] = self.ax.bar(index, section_averages[section], label=section, alpha=opacity, yerr=section_stds[section], bottom=bottom)\n",
    "                bottom += section_averages[section]\n",
    "        \n",
    "        self.ax.set_xticks(range(len(self.checkpoint_energy.workload_projects)))\n",
    "        self.ax.set_xticklabels(self.checkpoint_energy.workload_projects)\n",
    "        self.ax.legend()\n",
    "        self.ax.set_yscale('log')\n",
    "        # self.ax.grid()\n",
    "\n",
    "        self.ax.set_xlabel('Workload')\n",
    "        self.ax.set_ylabel('Charge [C]')\n",
    "        self.ax.set_title('Charge per Section')\n",
    "        self.fig.canvas.set_window_title('Charge per Workload')\n",
    "        self.fig.show()"
   ]
  },
  {
   "cell_type": "code",
   "execution_count": 31,
   "metadata": {},
   "outputs": [],
   "source": [
    "workload_plotter = WorkloadPlotter(checkpoint_energy, show=True)"
   ]
  },
  {
   "cell_type": "code",
   "execution_count": 22,
   "metadata": {},
   "outputs": [],
   "source": [
    "# workload_plotter.make_fig()"
   ]
  },
  {
   "cell_type": "code",
   "execution_count": 23,
   "metadata": {},
   "outputs": [],
   "source": [
    "# workload_plotter.update_fig()"
   ]
  },
  {
   "cell_type": "code",
   "execution_count": 23,
   "metadata": {},
   "outputs": [],
   "source": [
    "import matplotlib.animation as animation"
   ]
  },
  {
   "cell_type": "code",
   "execution_count": 130,
   "metadata": {},
   "outputs": [],
   "source": [
    "class SecurityPlotter(object):\n",
    "    def __init__(self, checkpoint_energy=CheckpointEnergy(), num_bytes=100, fig=None, ax=None, show=0):\n",
    "        self.checkpoint_energy = checkpoint_energy\n",
    "        self.fig = fig\n",
    "        self.ax = ax\n",
    "        self.num_bytes = num_bytes\n",
    "        if show:\n",
    "            self.make_fig()\n",
    "            self.update_fig()\n",
    "            if show >= 2:\n",
    "                self.animate()\n",
    "        \n",
    "    def make_fig(self, *args, **kwargs):\n",
    "        self.fig, self.ax = plt.subplots(*args, **kwargs)\n",
    "    \n",
    "    def update_fig(self, num_bytes=None):\n",
    "        if num_bytes is None:\n",
    "            num_bytes = self.num_bytes\n",
    "        opacity = 0.8\n",
    "        self.ax.cla()\n",
    "        \n",
    "        self.bars = {}\n",
    "        for index, security_project in enumerate(self.checkpoint_energy.security_projects):\n",
    "            self.bars[security_project] = {}\n",
    "            security_energy = self.checkpoint_energy.get_security_energy(security_project, num_bytes)\n",
    "            bottom = 0\n",
    "            for section in security_energy.keys():\n",
    "                self.bars[security_project][section] = self.ax.bar(index, security_energy[section], label=section, alpha=opacity, bottom=bottom)\n",
    "                bottom += security_energy[section]\n",
    "        \n",
    "        self.ax.set_xticks(range(len(self.checkpoint_energy.security_projects)))\n",
    "        self.ax.set_xticklabels(self.checkpoint_energy.security_projects)\n",
    "        self.ax.legend()\n",
    "        self.ax.set_yscale('log')\n",
    "        # self.ax.grid()\n",
    "\n",
    "        self.ax.set_xlabel('Security')\n",
    "        self.ax.set_ylabel('Charge [C]')\n",
    "        self.ax.set_title(f'Charge for {num_bytes} bytes')\n",
    "        self.fig.canvas.set_window_title('Charge per Security')\n",
    "        self.fig.show()\n",
    "        \n",
    "    def anim_func(self, num_bytes, *fargs):\n",
    "        self.update_fig(num_bytes)\n",
    "        return flatten(self.bars)\n",
    "    \n",
    "    def animate(self, frames=range(100, 10001, 100)):\n",
    "        self.animation = animation.FuncAnimation(self.fig, self.anim_func, blit=True, interval=0,frames=frames ,repeat=False)\n",
    "        \n",
    "def flatten(d, ret=None):\n",
    "    if ret is None:\n",
    "        ret = []\n",
    "    for k, v in sorted(d.items()):\n",
    "        if isinstance(v, dict):\n",
    "            flatten(v, ret)\n",
    "        else:\n",
    "            ret.extend(v.get_children())\n",
    "    return ret"
   ]
  },
  {
   "cell_type": "code",
   "execution_count": 131,
   "metadata": {},
   "outputs": [],
   "source": [
    "security_plotter = SecurityPlotter(checkpoint_energy, show=2)"
   ]
  },
  {
   "cell_type": "code",
   "execution_count": 205,
   "metadata": {},
   "outputs": [],
   "source": [
    "# security_plotter.make_fig()"
   ]
  },
  {
   "cell_type": "code",
   "execution_count": 206,
   "metadata": {},
   "outputs": [],
   "source": [
    "# security_plotter.update_fig()"
   ]
  },
  {
   "cell_type": "code",
   "execution_count": 207,
   "metadata": {},
   "outputs": [],
   "source": [
    "# security_plotter.animate()"
   ]
  },
  {
   "cell_type": "code",
   "execution_count": 39,
   "metadata": {},
   "outputs": [],
   "source": [
    "# security_plotter.update_fig(1000000)"
   ]
  },
  {
   "cell_type": "code",
   "execution_count": 23,
   "metadata": {},
   "outputs": [],
   "source": [
    "from math import sqrt"
   ]
  },
  {
   "cell_type": "code",
   "execution_count": 119,
   "metadata": {},
   "outputs": [
    {
     "data": {
      "text/plain": [
       "2.23606797749979"
      ]
     },
     "execution_count": 119,
     "metadata": {},
     "output_type": "execute_result"
    }
   ],
   "source": [
    "\n",
    "sqrt(5)"
   ]
  },
  {
   "cell_type": "code",
   "execution_count": 53,
   "metadata": {},
   "outputs": [],
   "source": [
    "from math import sqrt\n",
    "\n",
    "class IterationsPlotter(object):\n",
    "    def __init__(self, checkpoint_energy=CheckpointEnergy(), num_iterations=3, fig=None, ax=None, show=0):\n",
    "        self.checkpoint_energy = checkpoint_energy\n",
    "        self.fig = fig\n",
    "        self.ax = ax\n",
    "        self.num_iterations = num_iterations\n",
    "        self.workload_section_types = {}\n",
    "        if show:\n",
    "            self.make_fig()\n",
    "            self.update_fig()\n",
    "            if show >= 2:\n",
    "                self.animate()\n",
    "        \n",
    "    def make_fig(self, *args, **kwargs):\n",
    "        self.fig, self.ax = plt.subplots(*args, **kwargs)\n",
    "        \n",
    "        for workload_project in self.checkpoint_energy.workload_projects:\n",
    "            self.workload_section_types[workload_project] = \\\n",
    "                self.checkpoint_energy.get_workload_config(workload_project)[\"analysis\"][\"section_types\"]\n",
    "    \n",
    "    def update_fig(self, num_iterations=None):\n",
    "        if num_iterations is None:\n",
    "            num_iterations = self.num_iterations\n",
    "        opacity = 0.8\n",
    "\n",
    "        # ax.grid()\n",
    "        self.ax.cla()\n",
    "\n",
    "        self.bars = []\n",
    "        for index, workload_project in enumerate(self.checkpoint_energy.workload_projects):\n",
    "            section_averages = self.checkpoint_energy.get_workload_average(workload_project)\n",
    "            section_stds = self.checkpoint_energy.get_workload_std(workload_project)\n",
    "            \n",
    "            bottom = 0\n",
    "            for section_type, sections in self.workload_section_types[workload_project].items():\n",
    "                loop_factor = (1 + (section_type == \"loop\") * (num_iterations-1))\n",
    "                for section in sections:\n",
    "                    bar_height = section_averages[section] * loop_factor\n",
    "                    self.bars.append(self.ax.bar(index, bar_height, label=section, alpha=opacity, yerr=section_stds[section] / sqrt(loop_factor), bottom=bottom))\n",
    "                    bottom += bar_height\n",
    "        \n",
    "        self.ax.set_xticks(range(len(self.checkpoint_energy.workload_projects)))\n",
    "        self.ax.set_xticklabels(self.checkpoint_energy.workload_projects)\n",
    "        self.ax.legend()\n",
    "        self.ax.set_yscale('log')\n",
    "\n",
    "        self.ax.set_xlabel('Workload')\n",
    "        self.ax.set_ylabel('Charge [C]')\n",
    "        self.ax.set_title(f'Charge for {num_iterations} iterations')\n",
    "        self.fig.canvas.set_window_title('Charge per Workload')\n",
    "        self.fig.show()\n",
    "        \n",
    "    def anim_func(self, num_iterations, *fargs):\n",
    "        self.update_fig(num_iterations)\n",
    "        artist_list = []\n",
    "        for bar in self.bars:\n",
    "            artist_list += bar\n",
    "        return artist_list\n",
    "    \n",
    "    def animate(self, frames=range(101)):\n",
    "        self.animation = animation.FuncAnimation(self.fig, self.anim_func, blit=True, interval=0, frames=frames, repeat=False)\n",
    "#         self.update_fig(max(frames))"
   ]
  },
  {
   "cell_type": "code",
   "execution_count": 54,
   "metadata": {},
   "outputs": [
    {
     "name": "stderr",
     "output_type": "stream",
     "text": [
      "D:\\Anaconda3\\envs\\SAML11-32\\lib\\site-packages\\ipykernel_launcher.py:40: RuntimeWarning: divide by zero encountered in double_scalars\n"
     ]
    }
   ],
   "source": [
    "iterations_plotter = IterationsPlotter(checkpoint_energy, show=2)"
   ]
  },
  {
   "cell_type": "code",
   "execution_count": 51,
   "metadata": {},
   "outputs": [],
   "source": [
    "iterations_plotter.update_fig(4000)"
   ]
  },
  {
   "cell_type": "code",
   "execution_count": null,
   "metadata": {},
   "outputs": [],
   "source": [
    "class IterationsPlotter(object):\n",
    "    def __init__(self, checkpoint_energy=CheckpointEnergy(), num_iterations=3, fig=None, ax=None, show=0):\n",
    "        self.checkpoint_energy = checkpoint_energy\n",
    "        self.fig = fig\n",
    "        self.ax = ax\n",
    "        self.num_iterations = num_iterations\n",
    "        self.workload_section_types = {}\n",
    "        if show:\n",
    "            self.make_fig()\n",
    "            self.update_fig()\n",
    "        \n",
    "    def make_fig(self, *args, **kwargs):\n",
    "        self.fig, self.ax = plt.subplots(*args, **kwargs)\n",
    "        \n",
    "        for workload_project in self.checkpoint_energy.workload_projects:\n",
    "            self.workload_section_types[workload_project] = \\\n",
    "                self.checkpoint_energy.get_workload_config(workload_project)[\"analysis\"][\"section_types\"]\n",
    "            \n",
    "        print(self.workload_section_types)\n",
    "    \n",
    "    def update_fig(self):\n",
    "        opacity = 0.8\n",
    "\n",
    "        # ax.grid()\n",
    "        self.ax.cla()\n",
    "\n",
    "        self.bars = []\n",
    "        for index, workload_project in enumerate(self.checkpoint_energy.workload_projects):\n",
    "            section_averages = self.checkpoint_energy.get_workload_average(workload_project)\n",
    "            section_stds = self.checkpoint_energy.get_workload_std(workload_project)\n",
    "            \n",
    "            bottom = 0\n",
    "            for section_type, sections in self.workload_section_types[workload_project].items():\n",
    "                print(section_type, sections)\n",
    "                print(type(section_type), section_type, \"loop\", section_type == \"loop\")\n",
    "                for i in range(1 + (section_type == \"loop\") * (self.num_iterations-1)):\n",
    "                    print(i)\n",
    "                    for section in sections:\n",
    "                        self.bars.append(self.ax.bar(index, section_averages[section], label=section, alpha=opacity, yerr=section_stds[section], bottom=bottom))\n",
    "                        bottom += section_averages[section]\n",
    "            \n",
    "#             section_averages = {}\n",
    "#             bottoms = [0] * len(workload_energy)\n",
    "#             for sub_index, section in enumerate(workload_energy.keys()):\n",
    "#                 section_averages[section] = np.average(workload_energy[section])\n",
    "#                 self.bars[workload_project][section] = self.ax.bar(index + sub_index * bar_width, section_averages[section], label=section, alpha=opacity, yerr=section_stds[section], bottom=bottoms[sub_index])\n",
    "#                 bottoms[sub_index] += section_averages[section]\n",
    "\n",
    "#             # rects += ax.bar(index + i*bar_width, [get_total_charge(application_name, security_type) for application_name in application_names], bar_width, label=security_type, color=colors[i], alpha=opacity)\n",
    "#         print(self.bars)\n",
    "        \n",
    "        self.ax.set_xticks(range(len(self.checkpoint_energy.workload_projects)))\n",
    "        self.ax.set_xticklabels(self.checkpoint_energy.workload_projects)\n",
    "        self.ax.legend()\n",
    "        self.ax.set_yscale('log')\n",
    "\n",
    "        self.ax.set_xlabel('Workload')\n",
    "        self.ax.set_ylabel('Charge [C]')\n",
    "        self.ax.set_title(f'Charge for {self.num_iterations} iterations')\n",
    "        self.fig.canvas.set_window_title('Charge per Workload')\n",
    "        self.fig.show()"
   ]
  },
  {
   "cell_type": "code",
   "execution_count": 23,
   "metadata": {},
   "outputs": [
    {
     "data": {
      "text/plain": [
       "{'FFT-S': {'text': 22600,\n",
       "  'data': 104,\n",
       "  'bss': 1584,\n",
       "  'dec': 24288,\n",
       "  'hex': 24288,\n",
       "  'filename': 'FFT-S.elf'}}"
      ]
     },
     "execution_count": 23,
     "metadata": {},
     "output_type": "execute_result"
    }
   ],
   "source": [
    "checkpoint_energy.get_checkpoint_size(\"FFT\")\n",
    "checkpoint_energy.get_workload_size(\"FFT\")"
   ]
  },
  {
   "cell_type": "code",
   "execution_count": 24,
   "metadata": {},
   "outputs": [],
   "source": [
    "security_type = \"AES\"\n",
    "workload_project = \"FFT\""
   ]
  },
  {
   "cell_type": "code",
   "execution_count": 25,
   "metadata": {},
   "outputs": [
    {
     "data": {
      "text/plain": [
       "{'AES Encrypt': 5.866758710673741e-05, 'AES Decrypt': 6.189177546131053e-05}"
      ]
     },
     "execution_count": 25,
     "metadata": {},
     "output_type": "execute_result"
    }
   ],
   "source": [
    "checkpoint_energy.get_security_energy(security_type, checkpoint_energy.get_checkpoint_size(workload_project))"
   ]
  },
  {
   "cell_type": "code",
   "execution_count": 26,
   "metadata": {},
   "outputs": [
    {
     "data": {
      "text/plain": [
       "{'name': 'AES',\n",
       " 'project_paths': [['.', 'AES-S']],\n",
       " 'config_dict': {'interfaces': [256, 48],\n",
       "  'loggers': [1, 0],\n",
       "  'gpio_delay_time': 0.0007,\n",
       "  'file_name_base': 'experiment_aes'},\n",
       " 'config_dict_plot': {'loggers': [1, 2, 0],\n",
       "  'plot_pins': [False, False, True, True],\n",
       "  'plot_pins_method': 'line',\n",
       "  'plot_xmax': 5,\n",
       "  'window_title': 'Experiment AES'},\n",
       " 'analysis': {'pins': {'2': ['AES Encrypt'], '3': ['AES Decrypt']},\n",
       "  'result_types': ['Charge', 'Time'],\n",
       "  'section_types': {'init': [],\n",
       "   'store': ['AES Encrypt'],\n",
       "   'load': ['AES Decrypt'],\n",
       "   'exit': []},\n",
       "  'labels': {'Charge': {'x': 'Data Size',\n",
       "    'x_unit': 'byte',\n",
       "    'y': 'Charge',\n",
       "    'y_unit': 'C'},\n",
       "   'Time': {'x': 'Data Size', 'x_unit': 'byte', 'y': 'Time', 'y_unit': 's'}},\n",
       "  'x_step': 16}}"
      ]
     },
     "execution_count": 26,
     "metadata": {},
     "output_type": "execute_result"
    }
   ],
   "source": [
    "checkpoint_energy.get_security_config(security_type)"
   ]
  },
  {
   "cell_type": "code",
   "execution_count": 27,
   "metadata": {},
   "outputs": [
    {
     "data": {
      "text/plain": [
       "0"
      ]
     },
     "execution_count": 27,
     "metadata": {},
     "output_type": "execute_result"
    }
   ],
   "source": [
    "checkpoint_energy.get_checkpoint_energy(security_type, workload_project)"
   ]
  },
  {
   "cell_type": "code",
   "execution_count": 30,
   "metadata": {},
   "outputs": [
    {
     "name": "stdout",
     "output_type": "stream",
     "text": [
      "init\n",
      "store\n",
      "load\n",
      "exit\n"
     ]
    },
    {
     "data": {
      "text/plain": [
       "['AES Encrypt', 'AES Decrypt']"
      ]
     },
     "execution_count": 30,
     "metadata": {},
     "output_type": "execute_result"
    }
   ],
   "source": [
    "checkpoint_sections = []\n",
    "for section_type, section in checkpoint_energy.get_security_config(security_type)[\"analysis\"][\"section_types\"].items():\n",
    "    print(section_type)\n",
    "    if section_type in (\"load\", \"store\"):\n",
    "        checkpoint_sections += section\n",
    "checkpoint_sections"
   ]
  },
  {
   "cell_type": "code",
   "execution_count": 28,
   "metadata": {},
   "outputs": [
    {
     "data": {
      "text/plain": [
       "1702"
      ]
     },
     "execution_count": 28,
     "metadata": {},
     "output_type": "execute_result"
    }
   ],
   "source": [
    "checkpoint_energy.get_checkpoint_size(workload_project)"
   ]
  },
  {
   "cell_type": "code",
   "execution_count": 36,
   "metadata": {},
   "outputs": [
    {
     "name": "stdout",
     "output_type": "stream",
     "text": [
      "text 22600\n",
      "data 104\n",
      "bss 1584\n",
      "dec 24288\n",
      "hex 24288\n",
      "filename FFT-S.elf\n"
     ]
    },
    {
     "data": {
      "text/plain": [
       "1702"
      ]
     },
     "execution_count": 36,
     "metadata": {},
     "output_type": "execute_result"
    }
   ],
   "source": [
    "result = 0 + 12 + 1 + 1  # 12 GPR + LR + PC\n",
    "for project in checkpoint_energy.get_workload_size(workload_project).values():\n",
    "    for size_type, size in project.items():\n",
    "        print(size_type, size)\n",
    "        if size_type in (\"data\", \"bss\"):\n",
    "            result += size\n",
    "result"
   ]
  },
  {
   "cell_type": "code",
   "execution_count": 29,
   "metadata": {},
   "outputs": [
    {
     "data": {
      "text/plain": [
       "{'AES Encrypt': 5.866758710673741e-05, 'AES Decrypt': 6.189177546131053e-05}"
      ]
     },
     "execution_count": 29,
     "metadata": {},
     "output_type": "execute_result"
    }
   ],
   "source": [
    "checkpoint_energy.get_security_energy(security_type, checkpoint_energy.get_checkpoint_size(workload_project))"
   ]
  },
  {
   "cell_type": "code",
   "execution_count": 36,
   "metadata": {},
   "outputs": [
    {
     "name": "stdout",
     "output_type": "stream",
     "text": [
      "['AES Encrypt', 'AES Decrypt']\n",
      "AES Encrypt 5.866758710673741e-05\n",
      "AES Decrypt 6.189177546131053e-05\n"
     ]
    },
    {
     "data": {
      "text/plain": [
       "0.00012055936256804794"
      ]
     },
     "execution_count": 36,
     "metadata": {},
     "output_type": "execute_result"
    }
   ],
   "source": [
    "result = 0\n",
    "checkpoint_sections = []\n",
    "for section_type, section in checkpoint_energy.get_security_config(security_type)[\"analysis\"][\"section_types\"].items():\n",
    "    if section_type in (\"load\", \"store\"):\n",
    "        checkpoint_sections += section\n",
    "print(checkpoint_sections)\n",
    "for security_section_type, security_section in checkpoint_energy.get_security_energy(security_type, checkpoint_energy.get_checkpoint_size(workload_project)).items():\n",
    "    print(security_section_type, security_section)\n",
    "    if security_section_type in checkpoint_sections:\n",
    "        result += security_section\n",
    "result"
   ]
  },
  {
   "cell_type": "markdown",
   "metadata": {},
   "source": [
    "For example, in the picture above the total RAM usage is  \"data\" + \"bss\" = 15 bytes.\n",
    "In this case, the total checkpoint size will be: RAM usage + 12 GPR  + LR + PC = 29 Bytes."
   ]
  },
  {
   "cell_type": "code",
   "execution_count": 41,
   "metadata": {},
   "outputs": [],
   "source": [
    "def get_number_of_checkpoints(workload_charge, cap_size, security_charge):\n",
    "    if security_charge > cap_size:\n",
    "        print(f\"Not possible, cap size too small for security charge. Got cap_size: {cap_size}, security_charge: {security_charge}\")\n",
    "    return workload_charge / (cap_size - security_charge)"
   ]
  },
  {
   "cell_type": "code",
   "execution_count": 221,
   "metadata": {},
   "outputs": [],
   "source": [
    "from math import sqrt, floor\n",
    "import matplotlib as mpl\n",
    "import matplotlib.animation as animation\n",
    "import numpy as np\n",
    "\n",
    "class CapacitorPlotter(object):\n",
    "    def __init__(self, checkpoint_energy=CheckpointEnergy(), cap_size=1e-5, num_iterations=3, fig=None, ax=None, show=0):\n",
    "        self.checkpoint_energy = checkpoint_energy\n",
    "        self.fig = fig\n",
    "        self.ax = ax\n",
    "        self.cap_size = cap_size\n",
    "        self.num_iterations = num_iterations\n",
    "        self.security_section_types = {}\n",
    "        self.workload_section_types = {}\n",
    "        \n",
    "        if show:\n",
    "            self.make_fig()\n",
    "            self.update_fig()\n",
    "            if show >= 2:\n",
    "                self.animate()\n",
    "            \n",
    "        \n",
    "    def make_fig(self, *args, **kwargs):\n",
    "        self.fig, self.ax = plt.subplots(*args, **kwargs)\n",
    "        \n",
    "        for security_project in self.checkpoint_energy.security_projects:\n",
    "            self.security_section_types[security_project] = \\\n",
    "                self.checkpoint_energy.get_security_config(security_project)[\"analysis\"][\"section_types\"]\n",
    "        for workload_project in self.checkpoint_energy.workload_projects:\n",
    "            self.workload_section_types[workload_project] = \\\n",
    "                self.checkpoint_energy.get_workload_config(workload_project)[\"analysis\"][\"section_types\"]\n",
    "            \n",
    "        self.colormap = mpl.cm.nipy_spectral   # Qualitative colormap\n",
    "        self.max_num_colors = 15\n",
    "        self.color_index = 0\n",
    "        self.colors = {}\n",
    "        self.legend_artists = []\n",
    "    \n",
    "    def get_color(self, section_type, hatch):\n",
    "        if section_type in self.colors:\n",
    "            color = self.colors[section_type]\n",
    "        else:\n",
    "            color = self.colormap(self.color_index/self.max_num_colors)\n",
    "            self.color_index += 1\n",
    "            self.colors[section_type] = color\n",
    "            self.legend_artists.append(mpl.patches.Patch(facecolor=color, label=section_type, hatch=hatch))\n",
    "        return color\n",
    "    \n",
    "    def update_fig(self, cap_size=None, num_iterations=None):\n",
    "        if cap_size is None:\n",
    "            cap_size = self.cap_size\n",
    "        if num_iterations is None:\n",
    "            num_iterations = self.num_iterations\n",
    "        \n",
    "        bar_width = 1/(len(self.checkpoint_energy.security_projects) + 1)\n",
    "        bar_width_factor = 0.9 * bar_width\n",
    "        opacity = 0.8\n",
    "        \n",
    "        max_charge = 0\n",
    "\n",
    "        self.ax.cla()\n",
    "\n",
    "        self.bars = []\n",
    "        for workload_index, workload_project in enumerate(self.checkpoint_energy.workload_projects):\n",
    "            section_averages = self.checkpoint_energy.get_workload_average(workload_project)\n",
    "            section_stds = self.checkpoint_energy.get_workload_std(workload_project)\n",
    "            checkpoint_size = self.checkpoint_energy.get_checkpoint_size(workload_project)\n",
    "            \n",
    "            for security_index, security_project in enumerate(self.checkpoint_energy.security_projects):\n",
    "                bottom = 0\n",
    "                for workload_section_type, workload_sections in self.workload_section_types[workload_project].items():\n",
    "                    loop_factor = num_iterations if workload_section_type == \"loop\" else 1\n",
    "                    for workload_section in workload_sections:\n",
    "                        bar_height = section_averages[workload_section] * loop_factor\n",
    "                        self.bars.append(self.ax.bar(workload_index + security_index * bar_width, bar_height, bar_width_factor, label=workload_section, alpha=opacity, yerr=section_stds[workload_section] / sqrt(loop_factor), bottom=bottom, color=self.get_color(workload_section, 'x'), hatch='x'))\n",
    "                        \n",
    "                        bottom += bar_height\n",
    "                \n",
    "                security_energy = self.checkpoint_energy.get_security_energy(security_project, checkpoint_size)\n",
    "\n",
    "#                 self.checkpoint_energy..get_security_energy(security_type, checkpoint_size)\n",
    "\n",
    "                number_of_checkpoints = get_number_of_checkpoints(bottom, cap_size, self.checkpoint_energy.get_checkpoint_energy(security_project, workload_project))\n",
    "#                 print(number_of_checkpoints, floor(number_of_checkpoints))\n",
    "\n",
    "                for security_section_type, security_sections in self.security_section_types[security_project].items():\n",
    "                    loop_factor = number_of_checkpoints if security_section_type in (\"load\", \"store\") else 1\n",
    "                    security_bottom = bottom\n",
    "                    for security_section in security_sections:\n",
    "                        bar_height = security_energy[security_section] * loop_factor\n",
    "                        self.bars.append(self.ax.bar(workload_index + security_index * bar_width, bar_height, bar_width_factor, label=security_section, alpha=opacity, bottom=security_bottom, color=self.get_color(security_section, '//'), hatch='//'))\n",
    "                        security_bottom += bar_height\n",
    "                    if max_charge < security_bottom:\n",
    "                        max_charge = security_bottom\n",
    "        \n",
    "        self.ax.set_xticks(range(len(self.checkpoint_energy.workload_projects)))\n",
    "        self.ax.set_xticklabels(self.checkpoint_energy.workload_projects)\n",
    "        self.ax.legend(handles=self.legend_artists)\n",
    "\n",
    "#         self.ax.set_yscale('log')\n",
    "#         self.ax.set_yticks(np.arange(0, max_charge, self.cap_size))\n",
    "        \n",
    "#         self.ax.yaxis.grid(which=\"major\")\n",
    "        \n",
    "        for y in np.arange(0, max_charge, self.cap_size):\n",
    "            self.ax.axhline(y, linestyle='--', color='k', alpha=0.4, zorder=0)\n",
    "    \n",
    "    \n",
    "        self.ax.set_xlabel('Workload')\n",
    "        self.ax.set_ylabel('Charge [C]')\n",
    "        self.ax.set_title(f'Charge for {num_iterations} iterations with capacitor of {self.cap_size} C')\n",
    "        self.fig.canvas.set_window_title('Charge per Workload')\n",
    "        self.fig.show()\n",
    "        \n",
    "    def anim_func(self, num_iterations, *fargs):\n",
    "        self.update_fig(num_iterations=num_iterations)\n",
    "        artist_list = []\n",
    "        for bar in self.bars:\n",
    "            artist_list += bar\n",
    "        return artist_list\n",
    "    \n",
    "    def animate(self, frames=range(5)):\n",
    "        self.animation = animation.FuncAnimation(self.fig, self.anim_func, blit=True, interval=0, frames=frames, repeat=False)\n",
    "#         self.update_fig(max(frames))\n",
    "        "
   ]
  },
  {
   "cell_type": "code",
   "execution_count": 222,
   "metadata": {},
   "outputs": [
    {
     "name": "stderr",
     "output_type": "stream",
     "text": [
      "D:\\Anaconda3\\envs\\SAML11-32\\lib\\site-packages\\ipykernel_launcher.py:75: RuntimeWarning: divide by zero encountered in double_scalars\n"
     ]
    }
   ],
   "source": [
    "capacitor_plotter = CapacitorPlotter(checkpoint_energy, show=2, cap_size=0.0003, num_iterations=2)"
   ]
  },
  {
   "cell_type": "code",
   "execution_count": 158,
   "metadata": {},
   "outputs": [],
   "source": [
    "capacitor_plotter.make_fig()"
   ]
  },
  {
   "cell_type": "code",
   "execution_count": 223,
   "metadata": {},
   "outputs": [],
   "source": [
    "capacitor_plotter.update_fig(0.0003, 10)"
   ]
  },
  {
   "cell_type": "code",
   "execution_count": null,
   "metadata": {},
   "outputs": [],
   "source": []
  },
  {
   "cell_type": "code",
   "execution_count": null,
   "metadata": {},
   "outputs": [],
   "source": []
  },
  {
   "cell_type": "code",
   "execution_count": 18,
   "metadata": {},
   "outputs": [],
   "source": [
    "security_types = [\"None\", \"AES\", \"AES_Flash\", \"TrustZone\", \"TrustZone_Flash\"]\n",
    "# security_types = [\"None\", \"AES_Flash\", \"TruseZone_Flash\"]\n",
    "application_names = [\"Kalman\", \"AR\", \"Dijkstra\", \"Sorting 1024\", \"Bit Counting\", \"FFT 128\"]"
   ]
  },
  {
   "cell_type": "code",
   "execution_count": 19,
   "metadata": {},
   "outputs": [],
   "source": [
    "# app_charge_scale = 1e-4\n",
    "application_charges = np.array([0.000326812, 1e-10, 1e-10, 0.00001984909516280825944492365031646130546505446545779705047607421875, 0.0000066193645743728758915470737622666064225995796732604503631591796875, 0.00098674225419147416384080262474753908463753759860992431640625]) # TODO\n",
    "# app_number_of_bytes_scale = 1000\n",
    "application_number_of_bytes = np.array([4000, 1, 1, 1544 + 2**10, 90, 1975+24*128]) # TODO"
   ]
  },
  {
   "cell_type": "code",
   "execution_count": 20,
   "metadata": {},
   "outputs": [],
   "source": [
    "base_charge_per_app = dict(zip(application_names, application_charges))\n",
    "number_of_bytes_per_app = dict(zip(application_names, application_number_of_bytes))"
   ]
  },
  {
   "cell_type": "code",
   "execution_count": 21,
   "metadata": {},
   "outputs": [],
   "source": [
    "def get_total_charge(application_name, security_type):\n",
    "    print(application_name, security_type, f\"base: {base_charge_per_app[application_name]}, sec: {get_security_charge(security_type, number_of_bytes_per_app[application_name])}\")\n",
    "    return base_charge_per_app[application_name] + get_security_charge(security_type, number_of_bytes_per_app[application_name])"
   ]
  },
  {
   "cell_type": "markdown",
   "metadata": {},
   "source": [
    "# Bar chart"
   ]
  },
  {
   "cell_type": "code",
   "execution_count": 22,
   "metadata": {},
   "outputs": [],
   "source": [
    "import numpy as np\n",
    "import matplotlib.pyplot as plt"
   ]
  },
  {
   "cell_type": "code",
   "execution_count": 23,
   "metadata": {},
   "outputs": [
    {
     "name": "stdout",
     "output_type": "stream",
     "text": [
      "Kalman None base: 0.000326812, sec: 0\n",
      "AR None base: 1e-10, sec: 0\n",
      "Dijkstra None base: 1e-10, sec: 0\n",
      "Sorting 1024 None base: 1.984909516280826e-05, sec: 0\n",
      "Bit Counting None base: 6.619364574372876e-06, sec: 0\n",
      "FFT 128 None base: 0.0009867422541914742, sec: 0\n",
      "Kalman AES base: 0.000326812, sec: 0.000266660294291551\n",
      "AR AES base: 1e-10, sec: 5.187371787026527e-06\n",
      "Dijkstra AES base: 1e-10, sec: 5.187371787026527e-06\n",
      "Sorting 1024 AES base: 1.984909516280826e-05, sec: 0.00017271113084657168\n",
      "Bit Counting AES base: 6.619364574372876e-06, sec: 1.0433995337623398e-05\n",
      "FFT 128 AES base: 0.0009867422541914742, sec: 0.0003353747052574817\n",
      "Kalman AES_Flash base: 0.000326812, sec: 0.0003762351464001336\n",
      "AR AES_Flash base: 1e-10, sec: 8.73951455681015e-06\n",
      "Dijkstra AES_Flash base: 1e-10, sec: 8.73951455681015e-06\n",
      "Sorting 1024 AES_Flash base: 1.984909516280826e-05, sec: 0.00024623702644686776\n",
      "Bit Counting AES_Flash base: 6.619364574372876e-06, sec: 1.5452415137523475e-05\n",
      "FFT 128 AES_Flash base: 0.0009867422541914742, sec: 0.0004724774345093848\n",
      "Kalman TrustZone base: 0.000326812, sec: 7.22373063498969e-06\n",
      "AR TrustZone base: 1e-10, sec: 5.032668444340286e-08\n",
      "Dijkstra TrustZone base: 1e-10, sec: 5.032668444340286e-08\n",
      "Sorting 1024 TrustZone base: 1.984909516280826e-05, sec: 4.613783293843685e-06\n",
      "Bit Counting TrustZone base: 6.619364574372876e-06, sec: 1.9480195137815337e-07\n",
      "FFT 128 TrustZone base: 0.0009867422541914742, sec: 9.072607678880032e-06\n",
      "Kalman TrustZone_Flash base: 0.000326812, sec: 0.00010843217381790772\n",
      "AR TrustZone_Flash base: 1e-10, sec: 5.089571227427976e-06\n",
      "Dijkstra TrustZone_Flash base: 1e-10, sec: 5.089571227427976e-06\n",
      "Sorting 1024 TrustZone_Flash base: 1.984909516280826e-05, sec: 7.434156408221616e-05\n",
      "Bit Counting TrustZone_Flash base: 6.619364574372876e-06, sec: 5.864972594319396e-06\n",
      "FFT 128 TrustZone_Flash base: 0.0009867422541914742, sec: 0.00013435030928496495\n"
     ]
    }
   ],
   "source": [
    "# create plot\n",
    "fig, ax = plt.subplots(figsize=(10,9))\n",
    "index = np.arange(len(application_names))\n",
    "bar_width = 0.18\n",
    "opacity = 0.8\n",
    "\n",
    "# ax.grid()\n",
    "\n",
    "colors = [\"blue\", \"red\", \"green\", \"cyan\", \"magenta\", \"yellow\", \"black\", \"white\"]\n",
    "\n",
    "rects = []\n",
    "for i,security_type in enumerate(security_types):\n",
    "    rects += ax.bar(index + i*bar_width, [get_total_charge(application_name, security_type) for application_name in application_names], bar_width, label=security_type, color=colors[i], alpha=opacity)\n",
    " \n",
    "ax.set_xlabel('Application')\n",
    "ax.set_ylabel('Charge [C]')\n",
    "ax.set_title('Charge per Application')\n",
    "fig.canvas.set_window_title('Charge per Application')\n",
    "ax.set_xticks(index + bar_width)\n",
    "ax.set_xticklabels(application_names)\n",
    "ax.legend()\n",
    " \n",
    "fig.tight_layout()\n",
    "fig.show()"
   ]
  },
  {
   "cell_type": "markdown",
   "metadata": {},
   "source": [
    "# Number of Checkpoints"
   ]
  },
  {
   "cell_type": "code",
   "execution_count": 24,
   "metadata": {},
   "outputs": [],
   "source": [
    "security_types = [\"None\", \"AES_Flash\", \"TrustZone_Flash\"]"
   ]
  },
  {
   "cell_type": "code",
   "execution_count": 35,
   "metadata": {},
   "outputs": [],
   "source": [
    "min_cap_size_over_sec_charge = 10\n",
    "number_of_points = 1e5\n",
    "iterations = 1\n",
    "min_cap_factor = 10\n",
    "min_step_size = 1e-7"
   ]
  },
  {
   "cell_type": "code",
   "execution_count": null,
   "metadata": {},
   "outputs": [],
   "source": [
    "opacity = 0.8\n",
    "colors = [\"blue\", \"red\", \"green\", \"cyan\", \"magenta\", \"yellow\", \"black\", \"white\"]\n",
    "\n",
    "figs = {}\n",
    "axs = {}\n",
    "for application_name in application_names:\n",
    "# for application_name in [\"Sorting 1024\", \"FFT 128\"]:\n",
    "    fig, ax = plt.subplots(figsize=(10,9))\n",
    "    figs[application_name] = fig\n",
    "    axs[application_name] = ax\n",
    "    fig.canvas.set_window_title(application_name)\n",
    "    for i,security_type in enumerate(security_types):\n",
    "        security_charge = get_security_charge(security_type, number_of_bytes_per_app[application_name])\n",
    "        base_charge = base_charge_per_app[application_name]\n",
    "        capacitor_sizes = np.arange(base_charge/min_cap_factor,base_charge*iterations, (base_charge*iterations-base_charge/min_cap_factor)/number_of_points)\n",
    "        capacitor_sizes = capacitor_sizes[capacitor_sizes>security_charge]\n",
    "        y = base_charge/(capacitor_sizes - security_charge)\n",
    "#         ax.plot(capacitor_sizes, base_charge/(capacitor_sizes - security_charge)/(base_charge/capacitor_sizes), label=security_type, color=colors[i], alpha=opacity)\n",
    "        ax.plot(capacitor_sizes, y, label=security_type, color=colors[i], alpha=opacity)\n",
    "        ax.plot(capacitor_sizes, np.floor(y), color=colors[i], alpha=opacity/2)\n",
    "#         ax.plot(capacitor_sizes, np.floor(base_charge/(capacitor_sizes - security_charge)), '.', label=security_type, color=colors[i], alpha=opacity/2)\n",
    "#         ax.plot(capacitor_sizes, base_charge/(capacitor_sizes - security_charge), label=security_type, color=colors[i], alpha=opacity)\n",
    "    ax.plot([base_charge/min_cap_factor, base_charge*iterations], [1,1])\n",
    "    ax.set_xscale('log')\n",
    "#     ax.set_yscale('log')\n",
    "    ax.set_ylim(-1,10)\n",
    "    ax.set_xlabel('Capacitor Size [C]')\n",
    "    ax.set_ylabel('Number of Checkpoints')\n",
    "    ax.set_title(f'Number of Checkpoints per Security Type {application_name}')\n",
    "    fig.canvas.set_window_title(f\"Number of Checkpoints {application_name}\")\n",
    "    ax.legend()\n",
    "    fig.tight_layout()\n",
    "    fig.show()"
   ]
  },
  {
   "cell_type": "code",
   "execution_count": 27,
   "metadata": {},
   "outputs": [],
   "source": [
    "# opacity = 0.8\n",
    "# colors = [\"blue\", \"red\", \"green\", \"cyan\", \"magenta\", \"yellow\", \"black\", \"white\"]\n",
    "\n",
    "# figs = {}\n",
    "# axs = {}\n",
    "# # for application_name in application_names:\n",
    "# for application_name in [\"Sorting 1024\", \"FFT 128\"]:\n",
    "#     fig, ax = plt.subplots(figsize=(10,9))\n",
    "#     figs[application_name] = fig\n",
    "#     axs[application_name] = ax\n",
    "#     fig.canvas.set_window_title(application_name)\n",
    "#     security_charge_aes = get_security_charge(\"AES_Flash\", number_of_bytes_per_app[application_name])\n",
    "#     security_charge_trustzone = get_security_charge(\"TrustZone_Flash\", number_of_bytes_per_app[application_name])\n",
    "#     base_charge = base_charge_per_app[application_name]\n",
    "#     capacitor_sizes = np.arange(base_charge/min_cap_factor,base_charge*iterations, (base_charge*iterations-base_charge/min_cap_factor)/number_of_points)\n",
    "#     capacitor_sizes = capacitor_sizes[capacitor_sizes>security_charge_aes]\n",
    "# #         ax.plot(capacitor_sizes, base_charge/(capacitor_sizes - security_charge)/(base_charge/capacitor_sizes), label=security_type, color=colors[i], alpha=opacity)\n",
    "#     y = base_charge/(capacitor_sizes - security_charge_aes)/(base_charge/(capacitor_sizes - security_charge_trustzone))\n",
    "#     ax.plot(capacitor_sizes, y, label=security_type, color=colors[i], alpha=opacity)\n",
    "#     ax.plot(capacitor_sizes, np.floor(y), color=colors[i], alpha=opacity/2)\n",
    "# #         ax.plot(capacitor_sizes, np.floor(base_charge/(capacitor_sizes - security_charge)), '.', label=security_type, color=colors[i], alpha=opacity/2)\n",
    "# #         ax.plot(capacitor_sizes, base_charge/(capacitor_sizes - security_charge), label=security_type, color=colors[i], alpha=opacity)\n",
    "#     ax.plot([base_charge/min_cap_factor, base_charge*iterations], [1,1])\n",
    "#     ax.set_xscale('log')\n",
    "# #     ax.set_yscale('log')\n",
    "#     ax.set_ylim(-1,10)\n",
    "#     ax.set_xlabel('Capacitor Size [C]')\n",
    "#     ax.set_ylabel('Number of Checkpoints')\n",
    "#     ax.set_title(f'Number of Checkpoints per Security Type {application_name}')\n",
    "#     fig.canvas.set_window_title(f\"Number of Checkpoints {application_name}\")\n",
    "#     ax.legend()\n",
    "#     fig.tight_layout()\n",
    "#     fig.show()"
   ]
  },
  {
   "cell_type": "markdown",
   "metadata": {},
   "source": [
    "## Scales"
   ]
  },
  {
   "cell_type": "code",
   "execution_count": 28,
   "metadata": {},
   "outputs": [
    {
     "name": "stdout",
     "output_type": "stream",
     "text": [
      "Cap Size:\n",
      "\tmin: 0.00013514717936082669, max: 0.09867323966363496\n"
     ]
    }
   ],
   "source": [
    "print(\"Cap Size:\")\n",
    "print(f\"\\tmin: {min(capacitor_sizes)}, max: {max(capacitor_sizes)}\")"
   ]
  },
  {
   "cell_type": "code",
   "execution_count": 29,
   "metadata": {},
   "outputs": [
    {
     "name": "stdout",
     "output_type": "stream",
     "text": [
      "Base Charge:\n",
      "\tKalman: 0.000326812\n",
      "\tAR: 1e-10\n",
      "\tDijkstra: 1e-10\n",
      "\tSorting 1024: 1.984909516280826e-05\n",
      "\tBit Counting: 6.619364574372876e-06\n",
      "\tFFT 128: 0.0009867422541914742\n"
     ]
    }
   ],
   "source": [
    "print(\"Base Charge:\")\n",
    "for application_name in application_names:\n",
    "    print(f\"\\t{application_name}: {base_charge_per_app[application_name]}\")"
   ]
  },
  {
   "cell_type": "code",
   "execution_count": 30,
   "metadata": {},
   "outputs": [
    {
     "name": "stdout",
     "output_type": "stream",
     "text": [
      "Security Charge:\n",
      "\tNone min: 0,  max: 0\n",
      "\tAES_Flash min: 8.73951455681015e-06,  max: 0.0004724774345093848\n",
      "\tTrustZone_Flash min: 5.089571227427976e-06,  max: 0.00013435030928496495\n"
     ]
    }
   ],
   "source": [
    "print(\"Security Charge:\")\n",
    "for security_type in security_types:\n",
    "    print(f\"\\t{security_type} min: {get_security_charge(security_type, min(number_of_bytes_per_app.values()))},  max: {get_security_charge(security_type, max(number_of_bytes_per_app.values()))}\")\n",
    "# number_of_bytes_per_app = dict(zip(application_names, application_number_of_bytes))"
   ]
  },
  {
   "cell_type": "code",
   "execution_count": 31,
   "metadata": {},
   "outputs": [
    {
     "data": {
      "text/plain": [
       "{'Kalman': 0.000326812,\n",
       " 'AR': 1e-10,\n",
       " 'Dijkstra': 1e-10,\n",
       " 'Sorting 1024': 1.984909516280826e-05,\n",
       " 'Bit Counting': 6.619364574372876e-06,\n",
       " 'FFT 128': 0.0009867422541914742}"
      ]
     },
     "execution_count": 31,
     "metadata": {},
     "output_type": "execute_result"
    }
   ],
   "source": [
    "base_charge_per_app"
   ]
  },
  {
   "cell_type": "code",
   "execution_count": 32,
   "metadata": {},
   "outputs": [
    {
     "data": {
      "text/plain": [
       "1"
      ]
     },
     "execution_count": 32,
     "metadata": {},
     "output_type": "execute_result"
    }
   ],
   "source": [
    "min(number_of_bytes_per_app.values())"
   ]
  },
  {
   "cell_type": "code",
   "execution_count": 33,
   "metadata": {},
   "outputs": [
    {
     "data": {
      "text/plain": [
       "0"
      ]
     },
     "execution_count": 33,
     "metadata": {},
     "output_type": "execute_result"
    }
   ],
   "source": [
    "get_security_charge(\"None\", min(number_of_bytes_per_app.values()))"
   ]
  },
  {
   "cell_type": "code",
   "execution_count": 34,
   "metadata": {},
   "outputs": [
    {
     "data": {
      "text/plain": [
       "0.00010843217381790772"
      ]
     },
     "execution_count": 34,
     "metadata": {},
     "output_type": "execute_result"
    }
   ],
   "source": [
    "get_security_charge(\"TrustZone_Flash\", 4000)"
   ]
  },
  {
   "cell_type": "code",
   "execution_count": null,
   "metadata": {},
   "outputs": [],
   "source": []
  },
  {
   "cell_type": "code",
   "execution_count": null,
   "metadata": {},
   "outputs": [],
   "source": []
  },
  {
   "cell_type": "code",
   "execution_count": null,
   "metadata": {},
   "outputs": [],
   "source": []
  },
  {
   "cell_type": "code",
   "execution_count": null,
   "metadata": {},
   "outputs": [],
   "source": []
  },
  {
   "cell_type": "code",
   "execution_count": null,
   "metadata": {},
   "outputs": [],
   "source": []
  },
  {
   "cell_type": "code",
   "execution_count": null,
   "metadata": {},
   "outputs": [],
   "source": []
  },
  {
   "cell_type": "markdown",
   "metadata": {},
   "source": [
    "## Plot stuff"
   ]
  },
  {
   "cell_type": "code",
   "execution_count": null,
   "metadata": {},
   "outputs": [],
   "source": [
    "# fig = plt.figure(figsize=(10, 6))\n",
    "# ax = fig.add_subplot(1, 1, 1)\n",
    "# ax.set_xlabel(\"Capacitor Size [C]\")\n",
    "# ax.set_ylabel(\"Number of Checkpoints\")"
   ]
  },
  {
   "cell_type": "code",
   "execution_count": null,
   "metadata": {},
   "outputs": [],
   "source": [
    "# capacitor_sizes = range(1,101)\n",
    "# def get_number_of_checkpoints(application_number):\n",
    "#     return [application_charges[application_number]/(capacitor_size - get_security_charge(\"trustzone_flash\", application_number_of_bytes[application_number])) for capacitor_size in capacitor_sizes]"
   ]
  },
  {
   "cell_type": "code",
   "execution_count": null,
   "metadata": {},
   "outputs": [],
   "source": [
    "# for application_number in range(5):\n",
    "#     ax.plot(capacitor_sizes, get_number_of_checkpoints(application_number), label=application_names[application_number])\n",
    "# ax.legend()\n",
    "# # ax.set_yscale('log')\n",
    "# # ax.set_xscale('log')\n",
    "# # ax.invert_xaxis()"
   ]
  },
  {
   "cell_type": "code",
   "execution_count": null,
   "metadata": {},
   "outputs": [],
   "source": []
  },
  {
   "cell_type": "code",
   "execution_count": null,
   "metadata": {},
   "outputs": [],
   "source": [
    "# fig2 = plt.figure(figsize=(10, 6))\n",
    "# ax2 = fig2.add_subplot(111, projection='3d')\n",
    "\n",
    "# ax2.set_xlabel(\"Capacitor Size [C]\")\n",
    "# ax2.set_ylabel(\"Number of Bytes\")\n",
    "# ax2.set_zlabel(\"Number of Checkpoints\")"
   ]
  },
  {
   "cell_type": "code",
   "execution_count": null,
   "metadata": {},
   "outputs": [],
   "source": [
    "# capacitor_sizes = range(1,1001)\n",
    "# application_charge = 50\n",
    "# number_of_bytes = range(1,1001)"
   ]
  },
  {
   "cell_type": "code",
   "execution_count": null,
   "metadata": {},
   "outputs": [],
   "source": [
    "# def get_number_of_checkpoints(application_charge, capacitor_size, number_of_bytes, security_type=\"trustzone_flash\"):\n",
    "#     return application_charge/(capacitor_size - get_security_charge(security_type, number_of_bytes))"
   ]
  },
  {
   "cell_type": "code",
   "execution_count": null,
   "metadata": {},
   "outputs": [],
   "source": [
    "# X, Y = np.meshgrid(capacitor_sizes, number_of_bytes)\n",
    "# Z = np.zeros(shape=(1000,1000))\n",
    "# for i,capacitor_size in enumerate(capacitor_sizes):\n",
    "#     for j,number_of_byte in enumerate(number_of_bytes):\n",
    "#         Z[i,j] = get_number_of_checkpoints(application_charge, capacitor_size, number_of_byte)\n",
    "# #Z = np.array([np.array([get_number_of_checkpoints(capacitor_size,application_charge) for application_charge in application_charges]) for  capacitor_size in capacitor_sizes])\n",
    "# Z.shape"
   ]
  },
  {
   "cell_type": "code",
   "execution_count": null,
   "metadata": {},
   "outputs": [],
   "source": [
    "# surf = ax2.plot_surface(X, Y, Z)"
   ]
  },
  {
   "cell_type": "code",
   "execution_count": null,
   "metadata": {},
   "outputs": [],
   "source": []
  },
  {
   "cell_type": "code",
   "execution_count": null,
   "metadata": {},
   "outputs": [],
   "source": []
  },
  {
   "cell_type": "code",
   "execution_count": null,
   "metadata": {},
   "outputs": [],
   "source": []
  },
  {
   "cell_type": "code",
   "execution_count": null,
   "metadata": {},
   "outputs": [],
   "source": []
  },
  {
   "cell_type": "code",
   "execution_count": null,
   "metadata": {},
   "outputs": [],
   "source": []
  },
  {
   "cell_type": "code",
   "execution_count": null,
   "metadata": {},
   "outputs": [],
   "source": []
  },
  {
   "cell_type": "code",
   "execution_count": null,
   "metadata": {},
   "outputs": [],
   "source": []
  },
  {
   "cell_type": "code",
   "execution_count": null,
   "metadata": {},
   "outputs": [],
   "source": []
  },
  {
   "cell_type": "code",
   "execution_count": null,
   "metadata": {},
   "outputs": [],
   "source": [
    "from math import sqrt, floor\n",
    "\n",
    "class CapacitorPlotter(object):\n",
    "    def __init__(self, checkpoint_energy=CheckpointEnergy(), cap_size=1e-5, num_iterations=3, fig=None, ax=None, show=0):\n",
    "        self.checkpoint_energy = checkpoint_energy\n",
    "        self.fig = fig\n",
    "        self.ax = ax\n",
    "        self.cap_size = cap_size\n",
    "        self.num_iterations = num_iterations\n",
    "        self.security_section_types = {}\n",
    "        self.workload_section_types = {}\n",
    "        if show:\n",
    "            self.make_fig()\n",
    "            self.update_fig()\n",
    "            \n",
    "        self.hatches_generator = ('/', '\\\\', '|', '-', '+', 'x', 'o', 'O', '.', '*')\n",
    "        self.hatches = {}\n",
    "        self.colors_generator = (\"blue\", \"red\", \"green\", \"cyan\", \"magenta\", \"yellow\", \"black\", \"white\")\n",
    "        self.colors = {}\n",
    "        self.legend_artists = []\n",
    "        \n",
    "    def make_fig(self, *args, **kwargs):\n",
    "        self.fig, self.ax = plt.subplots(*args, **kwargs)\n",
    "        \n",
    "        for security_project in self.checkpoint_energy.security_projects:\n",
    "            self.security_section_types[security_project] = \\\n",
    "                self.checkpoint_energy.get_security_config(security_project)[\"analysis\"][\"section_types\"]\n",
    "        for workload_project in self.checkpoint_energy.workload_projects:\n",
    "            self.workload_section_types[workload_project] = \\\n",
    "                self.checkpoint_energy.get_workload_config(workload_project)[\"analysis\"][\"section_types\"]\n",
    "    \n",
    "    def get_hatch_and_color(self, workload_section_type, security_section_type):\n",
    "        if workload_section_type in self.colors:\n",
    "            color = self.colors[workload_section_type]\n",
    "        else:\n",
    "            color = next(self.colors_generator)\n",
    "        if security_section_type in self.hatches:\n",
    "            hatch = self.hatches[security_section_type]\n",
    "        else:\n",
    "            hatch = next(self.hatches_generator)\n",
    "        return color, hatch\n",
    "            \n",
    "    \n",
    "    def update_fig(self, cap_size=None, num_iterations=None):\n",
    "        if cap_size is None:\n",
    "            cap_size = self.cap_size\n",
    "        if num_iterations is None:\n",
    "            num_iterations = self.num_iterations\n",
    "        \n",
    "        bar_width = 1/(len(self.checkpoint_energy.security_projects) + 1)\n",
    "        bar_width_factor = 0.9 * bar_width\n",
    "        opacity = 0.8\n",
    "\n",
    "        # ax.grid()\n",
    "        self.ax.cla()\n",
    "\n",
    "        self.bars = []\n",
    "        for workload_index, workload_project in enumerate(self.checkpoint_energy.workload_projects):\n",
    "            section_averages = self.checkpoint_energy.get_workload_average(workload_project)\n",
    "            section_stds = self.checkpoint_energy.get_workload_std(workload_project)\n",
    "            checkpoint_size = self.checkpoint_energy.get_checkpoint_size(workload_project)\n",
    "            \n",
    "            for security_index, security_project in enumerate(self.checkpoint_energy.security_projects):\n",
    "                bottom = 0\n",
    "                for workload_section_type, workload_sections in self.workload_section_types[workload_project].items():\n",
    "                    loop_factor = num_iterations if workload_section_type == \"loop\" else 1\n",
    "                    for workload_section in workload_sections:\n",
    "                        bar_height = section_averages[workload_section] * loop_factor\n",
    "                        color, hatch = self.get_hatch_and_color(workload_section_type, security_section_type)\n",
    "                        bar = self.ax.bar(workload_index + security_index * bar_width, bar_height, bar_width_factor, label=workload_section, alpha=opacity, yerr=section_stds[workload_section] / sqrt(loop_factor), bottom=bottom, hatch=hatch, color=color)\n",
    "                        self.bars.append(bar)\n",
    "                        \n",
    "                        bottom += bar_height\n",
    "                \n",
    "                security_energy = self.checkpoint_energy.get_security_energy(security_project, checkpoint_size)\n",
    "\n",
    "#                 self.checkpoint_energy..get_security_energy(security_type, checkpoint_size)\n",
    "\n",
    "                number_of_checkpoints = get_number_of_checkpoints(bottom, cap_size, self.checkpoint_energy.get_checkpoint_energy(security_project, workload_project))\n",
    "#                 print(number_of_checkpoints, floor(number_of_checkpoints))\n",
    "\n",
    "                for security_section_type, security_sections in self.security_section_types[security_project].items():\n",
    "                    loop_factor = number_of_checkpoints if security_section_type in (\"load\", \"store\") else 1\n",
    "                    security_bottom = bottom\n",
    "                    for security_section in security_sections:\n",
    "                        bar_height = security_energy[security_section] * loop_factor\n",
    "                        self.bars.append(self.ax.bar(workload_index + security_index * bar_width, bar_height, bar_width_factor, label=workload_section + ' ' + security_section, alpha=opacity, bottom=security_bottom))\n",
    "                        security_bottom += bar_height\n",
    "\n",
    "        \n",
    "        self.ax.set_xticks(range(len(self.checkpoint_energy.workload_projects)))\n",
    "        self.ax.set_xticklabels(self.checkpoint_energy.workload_projects)\n",
    "        self.ax.legend()\n",
    "        self.ax.set_yscale('log')\n",
    "\n",
    "        self.ax.set_xlabel('Workload')\n",
    "        self.ax.set_ylabel('Charge [C]')\n",
    "        self.ax.set_title(f'Charge for {num_iterations} iterations')\n",
    "        self.fig.canvas.set_window_title('Charge per Workload')\n",
    "        self.fig.show()\n",
    "        "
   ]
  }
 ],
 "metadata": {
  "kernelspec": {
   "display_name": "Python [conda env:SAML11-32]",
   "language": "python",
   "name": "conda-env-SAML11-32-py"
  },
  "language_info": {
   "codemirror_mode": {
    "name": "ipython",
    "version": 3
   },
   "file_extension": ".py",
   "mimetype": "text/x-python",
   "name": "python",
   "nbconvert_exporter": "python",
   "pygments_lexer": "ipython3",
   "version": "3.6.8"
  }
 },
 "nbformat": 4,
 "nbformat_minor": 2
}
