{
 "cells": [
  {
   "cell_type": "markdown",
   "metadata": {},
   "source": [
    "## Load Pickles of checkpoint charges per byte"
   ]
  },
  {
   "cell_type": "code",
   "execution_count": 1,
   "metadata": {},
   "outputs": [],
   "source": [
    "from os import getcwd, path, pardir\n",
    "import pickle\n",
    "from math import ceil"
   ]
  },
  {
   "cell_type": "code",
   "execution_count": 2,
   "metadata": {},
   "outputs": [],
   "source": [
    "run_experiments = True"
   ]
  },
  {
   "cell_type": "markdown",
   "metadata": {},
   "source": [
    "Experiment AES"
   ]
  },
  {
   "cell_type": "code",
   "execution_count": 3,
   "metadata": {},
   "outputs": [
    {
     "name": "stdout",
     "output_type": "stream",
     "text": [
      "make: Nothing to be done for 'all'.\n",
      "\n",
      "Firmware check OK\n",
      "Chiperase completed successfully\n",
      "Programming completed successfully.\n",
      "\n",
      "Start DGILibExtra with config: \n",
      "{'interfaces': [256, 48], 'power_buffers': [{'channel': 0, 'power_type': 0}], 'read_mode': [True, True, True, True], 'loggers': [1, 0], 'gpio_delay_time': 0.0007, 'file_name_base': 'experiment_aes', 'log_folder': 'C:\\\\Users\\\\erikw_000\\\\Documents\\\\GitHub\\\\Atmel-SAML11\\\\Experiments\\\\Security\\\\AES', 'verbose': 0}\n",
      "\n",
      "DGILibExtra data: Interfaces:\n",
      "\t 256:   power,   samples:  218000\n",
      "\t  48:   gpio,    samples:     804\n",
      "\n",
      "Saved results in: C:\\Users\\erikw_000\\Documents\\GitHub\\Atmel-SAML11\\Experiments\\Security\\AES\n"
     ]
    }
   ],
   "source": [
    "if run_experiments:\n",
    "    from Security.AES.experiment_aes import experiment_aes\n",
    "    experiment_aes(path.join(getcwd(), \"Security\", \"AES\"))\n",
    "\n",
    "encrypt_charge = pickle.load(open(path.join(getcwd(), \"Security\", \"AES\", \"aes_encrypt_charge.p\"), \"rb\"))\n",
    "decrypt_charge = pickle.load(open(path.join(getcwd(), \"Security\", \"AES\", \"aes_decrypt_charge.p\"), \"rb\"))"
   ]
  },
  {
   "cell_type": "markdown",
   "metadata": {},
   "source": [
    "Experiment AES Flash"
   ]
  },
  {
   "cell_type": "code",
   "execution_count": 4,
   "metadata": {},
   "outputs": [
    {
     "name": "stdout",
     "output_type": "stream",
     "text": [
      "make: Nothing to be done for 'all'.\n",
      "\n",
      "Firmware check OK\n",
      "Chiperase completed successfully\n",
      "Programming completed successfully.\n",
      "\n",
      "Start DGILibExtra with config: \n",
      "{'interfaces': [256, 48], 'power_buffers': [{'channel': 0, 'power_type': 0}], 'read_mode': [True, True, True, True], 'loggers': [1, 0], 'gpio_delay_time': 0.0007, 'file_name_base': 'experiment_aes_flash', 'log_folder': 'C:\\\\Users\\\\erikw_000\\\\Documents\\\\GitHub\\\\Atmel-SAML11\\\\Experiments\\\\Security\\\\AES_Flash', 'verbose': 0}\n",
      "\n",
      "DGILibExtra data: Interfaces:\n",
      "\t 256:   power,   samples:  270000\n",
      "\t  48:   gpio,    samples:    1604\n",
      "\n",
      "Saved results in: C:\\Users\\erikw_000\\Documents\\GitHub\\Atmel-SAML11\\Experiments\\Security\\AES_Flash\n"
     ]
    }
   ],
   "source": [
    "if run_experiments:\n",
    "    from Security.AES_Flash.experiment_aes_flash import experiment_aes_flash\n",
    "    experiment_aes_flash(path.join(getcwd(), \"Security\", \"AES_Flash\"))\n",
    "\n",
    "aes_encrypt_charge = pickle.load(open(path.join(getcwd(), \"Security\", \"AES_Flash\", \"aes_flash_encrypt_charge.p\"), \"rb\"))\n",
    "aes_decrypt_charge = pickle.load(open(path.join(getcwd(), \"Security\", \"AES_Flash\", \"aes_flash_decrypt_charge.p\"), \"rb\"))\n",
    "flash_write_charge = pickle.load(open(path.join(getcwd(), \"Security\", \"AES_Flash\", \"aes_flash_write_charge.p\"), \"rb\"))\n",
    "flash_read_charge = pickle.load(open(path.join(getcwd(), \"Security\", \"AES_Flash\", \"aes_flash_read_charge.p\"), \"rb\"))"
   ]
  },
  {
   "cell_type": "markdown",
   "metadata": {},
   "source": [
    "Experiment TrustZone"
   ]
  },
  {
   "cell_type": "code",
   "execution_count": 5,
   "metadata": {},
   "outputs": [
    {
     "name": "stdout",
     "output_type": "stream",
     "text": [
      "make: Nothing to be done for 'all'.\n",
      "\n",
      "Firmware check OK\n",
      "Chiperase completed successfully\n",
      "Programming completed successfully.\n",
      "\n",
      "make: Nothing to be done for 'all'.\n",
      "\n",
      "Firmware check OK\n",
      "Programming completed successfully.\n",
      "\n",
      "Start DGILibExtra with config: \n",
      "{'interfaces': [256, 48], 'power_buffers': [{'channel': 0, 'power_type': 0}], 'read_mode': [True, True, True, True], 'loggers': [1, 0], 'gpio_delay_time': 0.0007, 'file_name_base': 'experiment_trustzone', 'log_folder': 'C:\\\\Users\\\\erikw_000\\\\Documents\\\\GitHub\\\\Atmel-SAML11\\\\Experiments\\\\Security\\\\TrustZone', 'verbose': 0}\n",
      "\n",
      "DGILibExtra data: Interfaces:\n",
      "\t 256:   power,   samples: 1139000\n",
      "\t  48:   gpio,    samples:   12804\n",
      "\n",
      "Saved results in: C:\\Users\\erikw_000\\Documents\\GitHub\\Atmel-SAML11\\Experiments\\Security\\TrustZone\n"
     ]
    }
   ],
   "source": [
    "if run_experiments:\n",
    "    from Security.TrustZone.experiment_trustzone import experiment_trustzone\n",
    "    experiment_trustzone(path.join(getcwd(), \"Security\", \"TrustZone\"))\n",
    "\n",
    "nsc_store_charge = pickle.load(open(path.join(getcwd(), \"Security\", \"TrustZone\", \"trustzone_store_charge.p\"), \"rb\"))\n",
    "nsc_load_charge = pickle.load(open(path.join(getcwd(), \"Security\", \"TrustZone\", \"trustzone_load_charge.p\"), \"rb\"))"
   ]
  },
  {
   "cell_type": "markdown",
   "metadata": {},
   "source": [
    "Experiment TrustZone Flash"
   ]
  },
  {
   "cell_type": "code",
   "execution_count": 6,
   "metadata": {},
   "outputs": [
    {
     "name": "stdout",
     "output_type": "stream",
     "text": [
      "make: Nothing to be done for 'all'.\n",
      "\n",
      "Firmware check OK\n",
      "Chiperase completed successfully\n",
      "Programming completed successfully.\n",
      "\n",
      "make: Nothing to be done for 'all'.\n",
      "\n",
      "Firmware check OK\n",
      "Programming completed successfully.\n",
      "\n",
      "Start DGILibExtra with config: \n",
      "{'interfaces': [256, 48], 'power_buffers': [{'channel': 0, 'power_type': 0}], 'read_mode': [True, True, True, True], 'loggers': [1, 0], 'gpio_delay_time': 0.0007, 'file_name_base': 'experiment_trustzone_flash', 'log_folder': 'C:\\\\Users\\\\erikw_000\\\\Documents\\\\GitHub\\\\Atmel-SAML11\\\\Experiments\\\\Security\\\\TrustZone_Flash', 'verbose': 0}\n",
      "\n",
      "DGILibExtra data: Interfaces:\n",
      "\t 256:   power,   samples: 1369000\n",
      "\t  48:   gpio,    samples:   12796\n",
      "\n",
      "Saved results in: C:\\Users\\erikw_000\\Documents\\GitHub\\Atmel-SAML11\\Experiments\\Security\\TrustZone_Flash\n"
     ]
    }
   ],
   "source": [
    "if run_experiments:\n",
    "    from Security.TrustZone_Flash.experiment_trustzone_flash import experiment_trustzone_flash\n",
    "    experiment_trustzone_flash(path.join(getcwd(), \"Security\", \"TrustZone_Flash\"))\n",
    "\n",
    "flash_nsc_store_charge = pickle.load(open(path.join(getcwd(), \"Security\", \"TrustZone_Flash\", \"trustzone_flash_store_charge.p\"), \"rb\"))\n",
    "flash_nsc_load_charge = pickle.load(open(path.join(getcwd(), \"Security\", \"TrustZone_Flash\", \"trustzone_flash_load_charge.p\"), \"rb\"))"
   ]
  },
  {
   "cell_type": "markdown",
   "metadata": {},
   "source": [
    "Make lookup function"
   ]
  },
  {
   "cell_type": "code",
   "execution_count": 7,
   "metadata": {},
   "outputs": [],
   "source": [
    "AES_BLOCK_SIZE = 16\n",
    "def get_security_charge(security_type, number_of_bytes):\n",
    "    if security_type is \"aes\":\n",
    "        index = ceil(number_of_bytes/AES_BLOCK_SIZE)\n",
    "        return encrypt_charge[index] + decrypt_charge[index]\n",
    "    elif security_type is \"aes_flash\":\n",
    "        index = ceil(number_of_bytes/AES_BLOCK_SIZE)\n",
    "        return aes_encrypt_charge[index] + flash_write_charge[index] + flash_read_charge[index] + aes_decrypt_charge[index]\n",
    "    elif security_type is \"trustzone\":\n",
    "        return nsc_store_charge[number_of_bytes] + nsc_store_charge[number_of_bytes]\n",
    "    elif security_type is \"trustzone_flash\":\n",
    "        return flash_nsc_store_charge[number_of_bytes] + flash_nsc_load_charge[number_of_bytes]\n",
    "    else:\n",
    "        return 0 # No security, so 0 C"
   ]
  },
  {
   "cell_type": "code",
   "execution_count": 8,
   "metadata": {},
   "outputs": [],
   "source": [
    "application_names = [\"Kalman\", \"AR\", \"Dijkstra\", \"Cuckoo\", \"Sorting\"]\n",
    "application_charges = [1, 2, 3, 4, 5] # TODO\n",
    "application_number_of_bytes = [234, 32, 876, 12, 90] # TODO"
   ]
  },
  {
   "cell_type": "markdown",
   "metadata": {},
   "source": [
    "## Plot stuff"
   ]
  },
  {
   "cell_type": "code",
   "execution_count": 9,
   "metadata": {},
   "outputs": [],
   "source": [
    "# %matplotlib ipympl\n",
    "# %matplotlib inline\n",
    "%matplotlib wx"
   ]
  },
  {
   "cell_type": "code",
   "execution_count": 10,
   "metadata": {},
   "outputs": [],
   "source": [
    "import matplotlib.pyplot as plt\n",
    "import numpy as np"
   ]
  },
  {
   "cell_type": "code",
   "execution_count": 11,
   "metadata": {},
   "outputs": [
    {
     "data": {
      "text/plain": [
       "Text(0, 0.5, 'Number of Checkpoints')"
      ]
     },
     "execution_count": 11,
     "metadata": {},
     "output_type": "execute_result"
    }
   ],
   "source": [
    "fig = plt.figure(figsize=(10, 6))\n",
    "ax = fig.add_subplot(1, 1, 1)\n",
    "ax.set_xlabel(\"Capacitor Size [C]\")\n",
    "ax.set_ylabel(\"Number of Checkpoints\")"
   ]
  },
  {
   "cell_type": "code",
   "execution_count": 12,
   "metadata": {},
   "outputs": [],
   "source": [
    "capacitor_sizes = range(1,101)\n",
    "def get_number_of_checkpoints(application_number):\n",
    "    return [application_charges[application_number]/(capacitor_size - get_security_charge(\"trustzone_flash\", application_number_of_bytes[application_number])) for capacitor_size in capacitor_sizes]"
   ]
  },
  {
   "cell_type": "code",
   "execution_count": 13,
   "metadata": {},
   "outputs": [
    {
     "data": {
      "text/plain": [
       "<matplotlib.legend.Legend at 0x18daec50>"
      ]
     },
     "execution_count": 13,
     "metadata": {},
     "output_type": "execute_result"
    }
   ],
   "source": [
    "for application_number in range(5):\n",
    "    ax.plot(capacitor_sizes, get_number_of_checkpoints(application_number), label=application_names[application_number])\n",
    "ax.legend()\n",
    "# ax.set_yscale('log')\n",
    "# ax.set_xscale('log')\n",
    "# ax.invert_xaxis()"
   ]
  },
  {
   "cell_type": "code",
   "execution_count": null,
   "metadata": {},
   "outputs": [],
   "source": []
  },
  {
   "cell_type": "code",
   "execution_count": 14,
   "metadata": {},
   "outputs": [],
   "source": [
    "# fig2 = plt.figure(figsize=(10, 6))\n",
    "# ax2 = fig2.add_subplot(111, projection='3d')\n",
    "\n",
    "# ax2.set_xlabel(\"Capacitor Size [C]\")\n",
    "# ax2.set_ylabel(\"Number of Bytes\")\n",
    "# ax2.set_zlabel(\"Number of Checkpoints\")"
   ]
  },
  {
   "cell_type": "code",
   "execution_count": 15,
   "metadata": {},
   "outputs": [],
   "source": [
    "# capacitor_sizes = range(1,1001)\n",
    "# application_charge = 50\n",
    "# number_of_bytes = range(1,1001)"
   ]
  },
  {
   "cell_type": "code",
   "execution_count": 16,
   "metadata": {},
   "outputs": [],
   "source": [
    "# def get_number_of_checkpoints(application_charge, capacitor_size, number_of_bytes, security_type=\"trustzone_flash\"):\n",
    "#     return application_charge/(capacitor_size - get_security_charge(security_type, number_of_bytes))"
   ]
  },
  {
   "cell_type": "code",
   "execution_count": 17,
   "metadata": {},
   "outputs": [],
   "source": [
    "# X, Y = np.meshgrid(capacitor_sizes, number_of_bytes)\n",
    "# Z = np.zeros(shape=(1000,1000))\n",
    "# for i,capacitor_size in enumerate(capacitor_sizes):\n",
    "#     for j,number_of_byte in enumerate(number_of_bytes):\n",
    "#         Z[i,j] = get_number_of_checkpoints(application_charge, capacitor_size, number_of_byte)\n",
    "# #Z = np.array([np.array([get_number_of_checkpoints(capacitor_size,application_charge) for application_charge in application_charges]) for  capacitor_size in capacitor_sizes])\n",
    "# Z.shape"
   ]
  },
  {
   "cell_type": "code",
   "execution_count": 18,
   "metadata": {},
   "outputs": [],
   "source": [
    "# surf = ax2.plot_surface(X, Y, Z)"
   ]
  },
  {
   "cell_type": "code",
   "execution_count": null,
   "metadata": {},
   "outputs": [],
   "source": []
  },
  {
   "cell_type": "code",
   "execution_count": null,
   "metadata": {},
   "outputs": [],
   "source": []
  }
 ],
 "metadata": {
  "kernelspec": {
   "display_name": "Python [conda env:SAML11-32]",
   "language": "python",
   "name": "conda-env-SAML11-32-py"
  },
  "language_info": {
   "codemirror_mode": {
    "name": "ipython",
    "version": 3
   },
   "file_extension": ".py",
   "mimetype": "text/x-python",
   "name": "python",
   "nbconvert_exporter": "python",
   "pygments_lexer": "ipython3",
   "version": "3.6.8"
  }
 },
 "nbformat": 4,
 "nbformat_minor": 2
}
