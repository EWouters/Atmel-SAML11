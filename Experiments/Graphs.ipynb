{
 "cells": [
  {
   "cell_type": "code",
   "execution_count": 1,
   "metadata": {},
   "outputs": [],
   "source": [
    "# %matplotlib ipympl\n",
    "# %matplotlib inline\n",
    "%matplotlib wx"
   ]
  },
  {
   "cell_type": "code",
   "execution_count": 2,
   "metadata": {},
   "outputs": [],
   "source": [
    "import matplotlib.pyplot as plt\n",
    "import numpy as np"
   ]
  },
  {
   "cell_type": "markdown",
   "metadata": {},
   "source": [
    "## Load Pickles of checkpoint charges per byte"
   ]
  },
  {
   "cell_type": "code",
   "execution_count": 3,
   "metadata": {},
   "outputs": [],
   "source": [
    "from os import getcwd, path, pardir, scandir\n",
    "import pickle\n",
    "from math import ceil"
   ]
  },
  {
   "cell_type": "code",
   "execution_count": 4,
   "metadata": {},
   "outputs": [],
   "source": [
    "from pydgilib_extra import LOGGER_CSV"
   ]
  },
  {
   "cell_type": "code",
   "execution_count": 5,
   "metadata": {},
   "outputs": [],
   "source": [
    "measure_security = True\n",
    "show_lm_plot=2\n",
    "measure_workloads = True\n",
    "repetitions = 100"
   ]
  },
  {
   "cell_type": "code",
   "execution_count": 6,
   "metadata": {},
   "outputs": [],
   "source": [
    "from experiments.checkpoint_energy import CheckpointEnergy"
   ]
  },
  {
   "cell_type": "code",
   "execution_count": 7,
   "metadata": {},
   "outputs": [],
   "source": [
    "checkpoint_energy = CheckpointEnergy()"
   ]
  },
  {
   "cell_type": "code",
   "execution_count": 8,
   "metadata": {},
   "outputs": [
    {
     "data": {
      "text/plain": [
       "['AES', 'AES_Flash', 'TrustZone', 'TrustZone_Flash']"
      ]
     },
     "execution_count": 8,
     "metadata": {},
     "output_type": "execute_result"
    }
   ],
   "source": [
    "checkpoint_energy.security_projects"
   ]
  },
  {
   "cell_type": "code",
   "execution_count": 9,
   "metadata": {},
   "outputs": [
    {
     "data": {
      "text/plain": [
       "['BitCounting', 'FFT', 'Sorting']"
      ]
     },
     "execution_count": 9,
     "metadata": {},
     "output_type": "execute_result"
    }
   ],
   "source": [
    "checkpoint_energy.workload_projects"
   ]
  },
  {
   "cell_type": "code",
   "execution_count": 10,
   "metadata": {},
   "outputs": [
    {
     "data": {
      "text/plain": [
       "{'Target voltage': 3.33,\n",
       " 'Device information': {'Name': 'ATSAML11E16A',\n",
       "  'JtagId': 'N/A',\n",
       "  'CPU arch.': 'CORTEX-M23',\n",
       "  'Series': 'SAML11',\n",
       "  'DAL': 2},\n",
       " 'Memory Information': {'base': {'FLASH': [0, 65536],\n",
       "   'BOCOR': [8437760, 256],\n",
       "   'SW_CALIB': [8413216, 8],\n",
       "   'USER_PAGE': [8404992, 256],\n",
       "   'HPB0': [1073741824, 32768],\n",
       "   'HPB2': [1107296256, 16384],\n",
       "   'SCS': [3758153728, 4096]},\n",
       "  'fuses': {'BOOTROM_BOOTKEY_7': 4294967295,\n",
       "   'BOOTROM_BOOTKEY_6': 4294967295,\n",
       "   'BOOTROM_BOOTKEY_5': 4294967295,\n",
       "   'BOOTROM_BOOTKEY_4': 4294967295,\n",
       "   'BOOTROM_BOOTKEY_3': 4294967295,\n",
       "   'BOOTROM_BOOTKEY_2': 4294967295,\n",
       "   'BOOTROM_BOOTKEY_1': 4294967295,\n",
       "   'BOOTROM_BOOTKEY_0': 4294967295,\n",
       "   'BOOTROM_CRCKEY_3': 4294967295,\n",
       "   'BOOTROM_CRCKEY_2': 4294967295,\n",
       "   'BOOTROM_CRCKEY_1': 4294967295,\n",
       "   'BOOTROM_CRCKEY_0': 4294967295,\n",
       "   'BOOTROM_CEKEY2_3': 4294967295,\n",
       "   'BOOTROM_CEKEY2_2': 4294967295,\n",
       "   'BOOTROM_CEKEY2_1': 4294967295,\n",
       "   'BOOTROM_CEKEY2_0': 4294967295,\n",
       "   'BOOTROM_CEKEY1_3': 4294967295,\n",
       "   'BOOTROM_CEKEY1_2': 4294967295,\n",
       "   'BOOTROM_CEKEY1_1': 4294967295,\n",
       "   'BOOTROM_CEKEY1_0': 4294967295,\n",
       "   'BOOTROM_CEKEY0_3': 4294967295,\n",
       "   'BOOTROM_CEKEY0_2': 4294967295,\n",
       "   'BOOTROM_CEKEY0_1': 4294967295,\n",
       "   'BOOTROM_CEKEY0_0': 4294967295,\n",
       "   'BOOTROM_ROMVERSION': 61,\n",
       "   'IDAU_BOOTPROT': 0,\n",
       "   'BOOTROM_BOOTOPT': 160,\n",
       "   'IDAU_BS': 0,\n",
       "   'DFLLULP_DIV_PL2': 0,\n",
       "   'ADC_BIASCOMP': 7,\n",
       "   'HOT_ADC_VAL_PTAT': 3210,\n",
       "   'HOT_INT1V_VAL': 252,\n",
       "   'ROOM_INT1V_VAL': 3,\n",
       "   'HOT_TEMP_VAL_INT': 85,\n",
       "   'ROOM_TEMP_VAL_INT': 30,\n",
       "   'IDAU_RS': 127,\n",
       "   'IDAU_ANSC': 32,\n",
       "   'WDT_EWOFFSET': 11,\n",
       "   'WDT_PER': 11,\n",
       "   'BOD33_ACTION': 1,\n",
       "   'BOD33USERLEVEL': 6,\n",
       "   'NVMCTRL_SULCK': 7}}}"
      ]
     },
     "execution_count": 10,
     "metadata": {},
     "output_type": "execute_result"
    }
   ],
   "source": [
    "checkpoint_energy.get_device_info(verbose=0)"
   ]
  },
  {
   "cell_type": "code",
   "execution_count": 13,
   "metadata": {},
   "outputs": [],
   "source": [
    "# checkpoint_energy.measure_security_energy('AES_Flash', live_plot=True, max_log_time=200, show_lm_plot=2)"
   ]
  },
  {
   "cell_type": "code",
   "execution_count": null,
   "metadata": {},
   "outputs": [
    {
     "name": "stdout",
     "output_type": "stream",
     "text": [
      "Firmware check OK\n",
      "Chiperase completed successfully\n",
      "\n",
      "make: Nothing to be done for 'all'.\n",
      "\n",
      "Firmware check OK\n",
      "Programming completed successfully.\n",
      "\n",
      "Starting DGILibExtra with config: \n",
      "{'interfaces': [256, 48], 'loggers': [0], 'gpio_delay_time': 0.0007, 'file_name_base': 'experiment_aes', 'log_folder': 'C:\\\\Users\\\\erikw_000\\\\Documents\\\\GitHub\\\\Atmel-SAML11\\\\Experiments\\\\Security\\\\AES'}\n",
      "\n"
     ]
    }
   ],
   "source": [
    "if measure_security:\n",
    "    checkpoint_energy.measure_all_security_energy(config_dict={\"loggers\": [LOGGER_CSV]}, show_lm_plot=show_lm_plot)"
   ]
  },
  {
   "cell_type": "markdown",
   "metadata": {},
   "source": [
    "### Smoothen?"
   ]
  },
  {
   "cell_type": "markdown",
   "metadata": {},
   "source": [
    "Get lookup function"
   ]
  },
  {
   "cell_type": "code",
   "execution_count": null,
   "metadata": {},
   "outputs": [],
   "source": [
    "get_security_energy = checkpoint_energy.get_security_energy_function()"
   ]
  },
  {
   "cell_type": "code",
   "execution_count": null,
   "metadata": {},
   "outputs": [],
   "source": [
    "for security_type in checkpoint_energy.security_projects + [\"None\"]:\n",
    "    print(security_type, get_security_energy(security_type,100))\n",
    "    print(security_type, get_security_energy(security_type,100000000))"
   ]
  },
  {
   "cell_type": "code",
   "execution_count": null,
   "metadata": {},
   "outputs": [],
   "source": [
    "if measure_workloads:\n",
    "    checkpoint_energy.measure_all_workload_energy(config_dict={\"loggers\": [LOGGER_CSV]}, repetitions=repetitions)"
   ]
  },
  {
   "cell_type": "code",
   "execution_count": null,
   "metadata": {},
   "outputs": [],
   "source": [
    "# checkpoint_energy.measure_workload_energy('BitCounting', live_plot=True, max_log_time=20)"
   ]
  },
  {
   "cell_type": "code",
   "execution_count": null,
   "metadata": {},
   "outputs": [],
   "source": [
    "get_workload_energy = checkpoint_energy.get_workload_energy_function()"
   ]
  },
  {
   "cell_type": "code",
   "execution_count": null,
   "metadata": {},
   "outputs": [],
   "source": [
    "for workload_type in checkpoint_energy.workload_projects:\n",
    "#     print(workload_type, len(list(get_workload_energy(workload_type).values())[0]), get_workload_energy(workload_type))\n",
    "    print(workload_type, len(list(get_workload_energy(workload_type).values())[0]))"
   ]
  },
  {
   "cell_type": "code",
   "execution_count": null,
   "metadata": {},
   "outputs": [],
   "source": [
    "# project_path = path.abspath(path.join(path.curdir, \"Workloads\", \"BitCounting\", \"BitCounting-S\"))\n",
    "# project_path"
   ]
  },
  {
   "cell_type": "code",
   "execution_count": null,
   "metadata": {},
   "outputs": [],
   "source": [
    "# checkpoint_energy.get_all_workload_info()"
   ]
  },
  {
   "cell_type": "code",
   "execution_count": null,
   "metadata": {},
   "outputs": [],
   "source": [
    "capacitor_size = 1e-5"
   ]
  },
  {
   "cell_type": "code",
   "execution_count": null,
   "metadata": {},
   "outputs": [],
   "source": [
    "import numpy as np\n",
    "import matplotlib.pyplot as plt"
   ]
  },
  {
   "cell_type": "code",
   "execution_count": null,
   "metadata": {},
   "outputs": [],
   "source": [
    "# # create plot\n",
    "# fig, ax = plt.subplots(figsize=(10,9))\n",
    "# index = np.arange(len(checkpoint_energy.workload_projects))\n",
    "# bar_width = 0.18\n",
    "# opacity = 0.8\n",
    "\n",
    "# # ax.grid()\n",
    "\n",
    "# get_workload_energy = checkpoint_energy.get_workload_energy_function()\n",
    "\n",
    "# colors = [\"blue\", \"red\", \"green\", \"cyan\", \"magenta\", \"yellow\", \"black\", \"white\"]\n",
    "\n",
    "# rects = {}\n",
    "# for workload_project in checkpoint_energy.workload_projects:\n",
    "#     energy = get_workload_energy(workload_project)\n",
    "#     #print(energy)\n",
    "#     rects[workload_project] = {}\n",
    "#     section_averages = {}\n",
    "#     section_stds = {}\n",
    "#     last_key = None\n",
    "#     for section in energy.keys():\n",
    "#         section_averages[section] = np.average(energy[section])\n",
    "#         section_stds[section] = np.std(energy[section])\n",
    "#         kwargs = {} if last_key is None else {\"bottom\": section_averages[last_key]}\n",
    "#         rects[workload_project][section] = ax.bar(index, section_averages[section], bar_width, label=section, alpha=opacity, yerr=section_stds[section], **kwargs)\n",
    "#         last_key = section\n",
    "    \n",
    "#     # rects += ax.bar(index + i*bar_width, [get_total_charge(application_name, security_type) for application_name in application_names], bar_width, label=security_type, color=colors[i], alpha=opacity)\n",
    "# print(rects)\n",
    "# ax.set_xlabel('Workload')\n",
    "# ax.set_ylabel('Charge [C]')\n",
    "# ax.set_title('Charge per Iteration')\n",
    "# fig.canvas.set_window_title('Charge per Workload')\n",
    "# ax.set_xticks(index)\n",
    "# ax.set_xticklabels(checkpoint_energy.workload_projects)\n",
    "# ax.legend()\n",
    "\n",
    "# fig.tight_layout()\n",
    "# fig.show()"
   ]
  },
  {
   "cell_type": "code",
   "execution_count": null,
   "metadata": {},
   "outputs": [],
   "source": [
    "class WorkloadPlotter(object):\n",
    "    def __init__(self, checkpoint_energy=CheckpointEnergy(), fig=None, ax=None, show=False):\n",
    "        self.checkpoint_energy = checkpoint_energy\n",
    "        self.fig = fig\n",
    "        self.ax = ax\n",
    "        if show:\n",
    "            self.make_fig()\n",
    "            self.update_fig()\n",
    "            \n",
    "        \n",
    "    def make_fig(self, *args, **kwargs):\n",
    "        self.fig, self.ax = plt.subplots(*args, **kwargs)\n",
    "    \n",
    "    def update_fig(self):\n",
    "        opacity = 0.8\n",
    "        self.ax.cla()\n",
    "        \n",
    "        self.bars = {}\n",
    "        for index, workload_project in enumerate(self.checkpoint_energy.workload_projects):\n",
    "            self.bars[workload_project] = {}\n",
    "            section_averages = self.checkpoint_energy.get_workload_average(workload_project)\n",
    "            section_stds = self.checkpoint_energy.get_workload_std(workload_project)\n",
    "            bottom = 0\n",
    "            for section in section_averages.keys():\n",
    "                self.bars[workload_project][section] = self.ax.bar(index, section_averages[section], label=section, alpha=opacity, yerr=section_stds[section], bottom=bottom)\n",
    "                bottom += section_averages[section]\n",
    "        \n",
    "        self.ax.set_xticks(range(len(self.checkpoint_energy.workload_projects)))\n",
    "        self.ax.set_xticklabels(self.checkpoint_energy.workload_projects)\n",
    "        self.ax.legend()\n",
    "        self.ax.set_yscale('log')\n",
    "        # self.ax.grid()\n",
    "\n",
    "        self.ax.set_xlabel('Workload')\n",
    "        self.ax.set_ylabel('Charge [C]')\n",
    "        self.ax.set_title('Charge per Section')\n",
    "        self.fig.canvas.set_window_title('Charge per Workload')\n",
    "        self.fig.show()"
   ]
  },
  {
   "cell_type": "code",
   "execution_count": null,
   "metadata": {},
   "outputs": [],
   "source": [
    "workload_plotter = WorkloadPlotter(checkpoint_energy, show=True)"
   ]
  },
  {
   "cell_type": "code",
   "execution_count": null,
   "metadata": {},
   "outputs": [],
   "source": [
    "# workload_plotter.make_fig()"
   ]
  },
  {
   "cell_type": "code",
   "execution_count": null,
   "metadata": {},
   "outputs": [],
   "source": [
    "# workload_plotter.update_fig()"
   ]
  },
  {
   "cell_type": "code",
   "execution_count": null,
   "metadata": {},
   "outputs": [],
   "source": [
    "import matplotlib.animation as animation"
   ]
  },
  {
   "cell_type": "code",
   "execution_count": null,
   "metadata": {},
   "outputs": [],
   "source": [
    "class SecurityPlotter(object):\n",
    "    def __init__(self, checkpoint_energy=CheckpointEnergy(), num_bytes=100, fig=None, ax=None, show=0):\n",
    "        self.checkpoint_energy = checkpoint_energy\n",
    "        self.fig = fig\n",
    "        self.ax = ax\n",
    "        self.num_bytes = num_bytes\n",
    "        if show:\n",
    "            self.make_fig()\n",
    "            self.update_fig()\n",
    "            if show >= 2:\n",
    "                self.animate()\n",
    "        \n",
    "    def make_fig(self, *args, **kwargs):\n",
    "        self.fig, self.ax = plt.subplots(*args, **kwargs)\n",
    "    \n",
    "    def update_fig(self, num_bytes=None):\n",
    "        if num_bytes is None:\n",
    "            num_bytes = self.num_bytes\n",
    "        opacity = 0.8\n",
    "        self.ax.cla()\n",
    "        \n",
    "        self.bars = {}\n",
    "        for index, security_project in enumerate(self.checkpoint_energy.security_projects):\n",
    "            self.bars[security_project] = {}\n",
    "            security_energy = self.checkpoint_energy.get_security_energy(security_project, num_bytes)\n",
    "            bottom = 0\n",
    "            for section in security_energy.keys():\n",
    "                self.bars[security_project][section] = self.ax.bar(index, security_energy[section], label=section, alpha=opacity, bottom=bottom)\n",
    "                bottom += security_energy[section]\n",
    "        \n",
    "        self.ax.set_xticks(range(len(self.checkpoint_energy.security_projects)))\n",
    "        self.ax.set_xticklabels(self.checkpoint_energy.security_projects)\n",
    "        self.ax.legend()\n",
    "        self.ax.set_yscale('log')\n",
    "        # self.ax.grid()\n",
    "\n",
    "        self.ax.set_xlabel('Security')\n",
    "        self.ax.set_ylabel('Charge [C]')\n",
    "        self.ax.set_title(f'Charge for {num_bytes} bytes')\n",
    "        self.fig.canvas.set_window_title('Charge per Security')\n",
    "        self.fig.show()\n",
    "        \n",
    "    def anim_func(self, num_bytes, *fargs):\n",
    "        self.update_fig(num_bytes)\n",
    "        return flatten(self.bars)\n",
    "    \n",
    "    def animate(self, frames=range(100, 10001, 100)):\n",
    "        self.animation = animation.FuncAnimation(self.fig, self.anim_func, blit=True, interval=0,frames=frames ,repeat=False)\n",
    "        \n",
    "def flatten(d, ret=None):\n",
    "    if ret is None:\n",
    "        ret = []\n",
    "    for k, v in sorted(d.items()):\n",
    "        if isinstance(v, dict):\n",
    "            flatten(v, ret)\n",
    "        else:\n",
    "            ret.extend(v.get_children())\n",
    "    return ret"
   ]
  },
  {
   "cell_type": "code",
   "execution_count": null,
   "metadata": {},
   "outputs": [],
   "source": [
    "security_plotter = SecurityPlotter(checkpoint_energy, show=2)"
   ]
  },
  {
   "cell_type": "code",
   "execution_count": null,
   "metadata": {},
   "outputs": [],
   "source": [
    "# security_plotter.make_fig()"
   ]
  },
  {
   "cell_type": "code",
   "execution_count": null,
   "metadata": {},
   "outputs": [],
   "source": [
    "# security_plotter.update_fig()"
   ]
  },
  {
   "cell_type": "code",
   "execution_count": null,
   "metadata": {},
   "outputs": [],
   "source": [
    "# security_plotter.animate()"
   ]
  },
  {
   "cell_type": "code",
   "execution_count": null,
   "metadata": {},
   "outputs": [],
   "source": [
    "# security_plotter.update_fig(1000000)"
   ]
  },
  {
   "cell_type": "code",
   "execution_count": null,
   "metadata": {},
   "outputs": [],
   "source": [
    "from math import sqrt\n",
    "\n",
    "class IterationsPlotter(object):\n",
    "    def __init__(self, checkpoint_energy=CheckpointEnergy(), num_iterations=3, fig=None, ax=None, show=0):\n",
    "        self.checkpoint_energy = checkpoint_energy\n",
    "        self.fig = fig\n",
    "        self.ax = ax\n",
    "        self.num_iterations = num_iterations\n",
    "        self.workload_section_types = {}\n",
    "        if show:\n",
    "            self.make_fig()\n",
    "            self.update_fig()\n",
    "            if show >= 2:\n",
    "                self.animate()\n",
    "        \n",
    "    def make_fig(self, *args, **kwargs):\n",
    "        self.fig, self.ax = plt.subplots(*args, **kwargs)\n",
    "        \n",
    "        for workload_project in self.checkpoint_energy.workload_projects:\n",
    "            self.workload_section_types[workload_project] = \\\n",
    "                self.checkpoint_energy.get_workload_config(workload_project)[\"analysis\"][\"section_types\"]\n",
    "    \n",
    "    def update_fig(self, num_iterations=None):\n",
    "        if num_iterations is None:\n",
    "            num_iterations = self.num_iterations\n",
    "        opacity = 0.8\n",
    "\n",
    "        # ax.grid()\n",
    "        self.ax.cla()\n",
    "\n",
    "        self.bars = []\n",
    "        for index, workload_project in enumerate(self.checkpoint_energy.workload_projects):\n",
    "            section_averages = self.checkpoint_energy.get_workload_average(workload_project)\n",
    "            section_stds = self.checkpoint_energy.get_workload_std(workload_project)\n",
    "            \n",
    "            bottom = 0\n",
    "            for section_type, sections in self.workload_section_types[workload_project].items():\n",
    "                loop_factor = (1 + (section_type == \"loop\") * (num_iterations-1))\n",
    "                for section in sections:\n",
    "                    bar_height = section_averages[section] * loop_factor\n",
    "                    self.bars.append(self.ax.bar(index, bar_height, label=section, alpha=opacity, yerr=section_stds[section] / sqrt(loop_factor), bottom=bottom))\n",
    "                    bottom += bar_height\n",
    "        \n",
    "        self.ax.set_xticks(range(len(self.checkpoint_energy.workload_projects)))\n",
    "        self.ax.set_xticklabels(self.checkpoint_energy.workload_projects)\n",
    "        self.ax.legend()\n",
    "        self.ax.set_yscale('log')\n",
    "\n",
    "        self.ax.set_xlabel('Workload')\n",
    "        self.ax.set_ylabel('Charge [C]')\n",
    "        self.ax.set_title(f'Charge for {num_iterations} iterations')\n",
    "        self.fig.canvas.set_window_title('Charge per Workload')\n",
    "        self.fig.show()\n",
    "        \n",
    "    def anim_func(self, num_iterations, *fargs):\n",
    "        self.update_fig(num_iterations)\n",
    "        artist_list = []\n",
    "        for bar in self.bars:\n",
    "            artist_list += bar\n",
    "        return artist_list\n",
    "    \n",
    "    def animate(self, frames=range(101)):\n",
    "        self.animation = animation.FuncAnimation(self.fig, self.anim_func, blit=True, interval=0, frames=frames, repeat=False)\n",
    "#         self.update_fig(max(frames))"
   ]
  },
  {
   "cell_type": "code",
   "execution_count": null,
   "metadata": {},
   "outputs": [],
   "source": [
    "iterations_plotter = IterationsPlotter(checkpoint_energy, show=2)"
   ]
  },
  {
   "cell_type": "code",
   "execution_count": null,
   "metadata": {},
   "outputs": [],
   "source": [
    "iterations_plotter.update_fig(4000)"
   ]
  },
  {
   "cell_type": "code",
   "execution_count": null,
   "metadata": {},
   "outputs": [],
   "source": [
    "class IterationsPlotter(object):\n",
    "    def __init__(self, checkpoint_energy=CheckpointEnergy(), num_iterations=3, fig=None, ax=None, show=0):\n",
    "        self.checkpoint_energy = checkpoint_energy\n",
    "        self.fig = fig\n",
    "        self.ax = ax\n",
    "        self.num_iterations = num_iterations\n",
    "        self.workload_section_types = {}\n",
    "        if show:\n",
    "            self.make_fig()\n",
    "            self.update_fig()\n",
    "        \n",
    "    def make_fig(self, *args, **kwargs):\n",
    "        self.fig, self.ax = plt.subplots(*args, **kwargs)\n",
    "        \n",
    "        for workload_project in self.checkpoint_energy.workload_projects:\n",
    "            self.workload_section_types[workload_project] = \\\n",
    "                self.checkpoint_energy.get_workload_config(workload_project)[\"analysis\"][\"section_types\"]\n",
    "            \n",
    "        print(self.workload_section_types)\n",
    "    \n",
    "    def update_fig(self):\n",
    "        opacity = 0.8\n",
    "\n",
    "        # ax.grid()\n",
    "        self.ax.cla()\n",
    "\n",
    "        self.bars = []\n",
    "        for index, workload_project in enumerate(self.checkpoint_energy.workload_projects):\n",
    "            section_averages = self.checkpoint_energy.get_workload_average(workload_project)\n",
    "            section_stds = self.checkpoint_energy.get_workload_std(workload_project)\n",
    "            \n",
    "            bottom = 0\n",
    "            for section_type, sections in self.workload_section_types[workload_project].items():\n",
    "                print(section_type, sections)\n",
    "                print(type(section_type), section_type, \"loop\", section_type == \"loop\")\n",
    "                for i in range(1 + (section_type == \"loop\") * (self.num_iterations-1)):\n",
    "                    print(i)\n",
    "                    for section in sections:\n",
    "                        self.bars.append(self.ax.bar(index, section_averages[section], label=section, alpha=opacity, yerr=section_stds[section], bottom=bottom))\n",
    "                        bottom += section_averages[section]\n",
    "            \n",
    "#             section_averages = {}\n",
    "#             bottoms = [0] * len(workload_energy)\n",
    "#             for sub_index, section in enumerate(workload_energy.keys()):\n",
    "#                 section_averages[section] = np.average(workload_energy[section])\n",
    "#                 self.bars[workload_project][section] = self.ax.bar(index + sub_index * bar_width, section_averages[section], label=section, alpha=opacity, yerr=section_stds[section], bottom=bottoms[sub_index])\n",
    "#                 bottoms[sub_index] += section_averages[section]\n",
    "\n",
    "#             # rects += ax.bar(index + i*bar_width, [get_total_charge(application_name, security_type) for application_name in application_names], bar_width, label=security_type, color=colors[i], alpha=opacity)\n",
    "#         print(self.bars)\n",
    "        \n",
    "        self.ax.set_xticks(range(len(self.checkpoint_energy.workload_projects)))\n",
    "        self.ax.set_xticklabels(self.checkpoint_energy.workload_projects)\n",
    "        self.ax.legend()\n",
    "        self.ax.set_yscale('log')\n",
    "\n",
    "        self.ax.set_xlabel('Workload')\n",
    "        self.ax.set_ylabel('Charge [C]')\n",
    "        self.ax.set_title(f'Charge for {self.num_iterations} iterations')\n",
    "        self.fig.canvas.set_window_title('Charge per Workload')\n",
    "        self.fig.show()"
   ]
  },
  {
   "cell_type": "code",
   "execution_count": null,
   "metadata": {},
   "outputs": [],
   "source": [
    "checkpoint_energy.get_checkpoint_size(\"FFT\")\n",
    "checkpoint_energy.get_workload_size(\"FFT\")"
   ]
  },
  {
   "cell_type": "code",
   "execution_count": null,
   "metadata": {},
   "outputs": [],
   "source": [
    "security_type = \"AES\"\n",
    "workload_project = \"FFT\""
   ]
  },
  {
   "cell_type": "code",
   "execution_count": null,
   "metadata": {},
   "outputs": [],
   "source": [
    "checkpoint_energy.get_security_config(security_type)"
   ]
  },
  {
   "cell_type": "code",
   "execution_count": null,
   "metadata": {},
   "outputs": [],
   "source": [
    "checkpoint_energy.get_checkpoint_energy(security_type, workload_project)"
   ]
  },
  {
   "cell_type": "code",
   "execution_count": null,
   "metadata": {},
   "outputs": [],
   "source": [
    "checkpoint_energy.get_checkpoint_size(workload_project)"
   ]
  },
  {
   "cell_type": "code",
   "execution_count": null,
   "metadata": {},
   "outputs": [],
   "source": [
    "checkpoint_energy.get_security_energy(security_type, checkpoint_energy.get_checkpoint_size(workload_project))"
   ]
  },
  {
   "cell_type": "markdown",
   "metadata": {},
   "source": [
    "For example, in the picture above the total RAM usage is  \"data\" + \"bss\" = 15 bytes.\n",
    "In this case, the total checkpoint size will be: RAM usage + 12 GPR  + LR + PC = 29 Bytes."
   ]
  },
  {
   "cell_type": "code",
   "execution_count": null,
   "metadata": {},
   "outputs": [],
   "source": [
    "def get_number_of_checkpoints(workload_charge, cap_size, security_charge):\n",
    "    if security_charge >= cap_size:\n",
    "        print(f\"Cap size too small for security charge. Got cap_size: {cap_size}, security_charge: {security_charge}\")\n",
    "        return float(\"inf\")\n",
    "    return workload_charge / (cap_size - security_charge)"
   ]
  },
  {
   "cell_type": "code",
   "execution_count": null,
   "metadata": {},
   "outputs": [],
   "source": [
    "class ControllerGUI(object):\n",
    "    def __init__(self, artists, ax_kwargs = {'facecolor': 'lightgoldenrodyellow'}, left=0.15, width=0.7, space=0.1):\n",
    "        self.artists = artists\n",
    "        num = len(artists)\n",
    "        height = (1-(num+1)*space)/num\n",
    "        self.fig = plt.figure(figsize=(8,num))\n",
    "\n",
    "        for i, artist in enumerate(self.artists.values()):\n",
    "            artist['ax'] = plt.axes([left, space + i*(space+height) , width, height], **ax_kwargs)\n",
    "            artist['obj'] = artist['args']['type'](artist['ax'], artist['args']['label'], *artist['args']['args'], **artist['args']['kwargs'])"
   ]
  },
  {
   "cell_type": "code",
   "execution_count": null,
   "metadata": {},
   "outputs": [],
   "source": [
    "from math import sqrt, floor\n",
    "import matplotlib as mpl\n",
    "import matplotlib.animation as animation\n",
    "import numpy as np\n",
    "\n",
    "class CapacitorPlotter(object):\n",
    "    def __init__(self, checkpoint_energy=CheckpointEnergy(), cap_size=1e-5, num_iterations=3, fig=None, ax=None, show=0, axes_switched=True, controller=True):\n",
    "        self.checkpoint_energy = checkpoint_energy\n",
    "        self.fig = fig\n",
    "        self.ax = ax\n",
    "        self.cap_size = cap_size\n",
    "        self.num_iterations = num_iterations\n",
    "        self.security_section_types = {}\n",
    "        self.workload_section_types = {}\n",
    "        self.axes_switched = axes_switched\n",
    "        \n",
    "        if show:\n",
    "            self.make_fig()\n",
    "            self.update_fig()\n",
    "            if show >= 2:\n",
    "                self.animate()\n",
    "        \n",
    "        if controller:\n",
    "            artists = {'cap': {'args': {'type': mpl.widgets.Slider, 'label': 'Capacitor size', 'args': [1e-7, 1e-2], 'kwargs': {'valinit': 3e-4, 'valstep': 1e-7, 'valfmt': \"%.2e C\"}}}, \n",
    "                'iterations': {'args': {'type': mpl.widgets.Slider, 'label': 'Iterations', 'args': [0, 100], 'kwargs': {'valinit': 1, 'valstep': 1, 'valfmt': \"%d\"}}}}\n",
    "\n",
    "            self.controller = ControllerGUI(artists)\n",
    "            \n",
    "            def update(val):\n",
    "                self.update_fig(self.controller.artists['cap']['obj'].val, int(self.controller.artists['iterations']['obj'].val))\n",
    "                self.controller.fig.canvas.draw_idle()\n",
    "\n",
    "            for artist in self.controller.artists.values():\n",
    "                artist['obj'].on_changed(update)\n",
    "\n",
    "            \n",
    "        \n",
    "    def make_fig(self, *args, **kwargs):\n",
    "        self.fig, self.ax = plt.subplots(*args, **kwargs)\n",
    "        self.fig.canvas.mpl_connect('key_press_event', self.resize_fig)\n",
    "        self.fig.canvas.set_window_title('Charge per Workload')\n",
    "        \n",
    "        for security_project in self.checkpoint_energy.security_projects:\n",
    "            self.security_section_types[security_project] = \\\n",
    "                self.checkpoint_energy.get_security_config(security_project)[\"analysis\"][\"section_types\"]\n",
    "        for workload_project in self.checkpoint_energy.workload_projects:\n",
    "            self.workload_section_types[workload_project] = \\\n",
    "                self.checkpoint_energy.get_workload_config(workload_project)[\"analysis\"][\"section_types\"]\n",
    "            \n",
    "        self.colormap = mpl.cm.nipy_spectral   # Qualitative colormap\n",
    "        self.max_num_colors = 15\n",
    "        self.colors = {}\n",
    "        self.legend_artists = []\n",
    "    \n",
    "    def get_color(self, section_type, hatch):\n",
    "        if section_type in self.colors:\n",
    "            color = self.colors[section_type]\n",
    "        else:\n",
    "            color = self.colormap(len(self.colors)/self.max_num_colors)\n",
    "            self.colors[section_type] = color\n",
    "            self.legend_artists.append(mpl.patches.Patch(facecolor=color, label=section_type, hatch=hatch))\n",
    "        return color\n",
    "    \n",
    "    def resize_fig(self, *args):\n",
    "        self.update_fig()\n",
    "    \n",
    "    def update_fig(self, cap_size=None, num_iterations=None):\n",
    "        if cap_size is None:\n",
    "            cap_size = self.cap_size\n",
    "        else:\n",
    "            self.cap_size = cap_size\n",
    "        if num_iterations is None:\n",
    "            num_iterations = self.num_iterations\n",
    "        else:\n",
    "            self.num_iterations = num_iterations\n",
    "        \n",
    "        bar_width = 1/(len(self.checkpoint_energy.security_projects) + 1)\n",
    "        bar_width_factor = 0.9 * bar_width\n",
    "        opacity = 0.8\n",
    "\n",
    "        self.ax.cla()\n",
    "        \n",
    "        self.bars = []\n",
    "        for workload_index, workload_project in enumerate(self.checkpoint_energy.workload_projects):\n",
    "            section_averages = self.checkpoint_energy.get_workload_average(workload_project)\n",
    "            section_stds = self.checkpoint_energy.get_workload_std(workload_project)\n",
    "            checkpoint_size = self.checkpoint_energy.get_checkpoint_size(workload_project)\n",
    "            \n",
    "            for security_index, security_project in enumerate(self.checkpoint_energy.security_projects):\n",
    "                bottom = 0\n",
    "                for workload_section_type, workload_sections in self.workload_section_types[workload_project].items():\n",
    "                    loop_factor = num_iterations if workload_section_type == \"loop\" else 1\n",
    "                    for workload_section in workload_sections:\n",
    "                        bar_height = section_averages[workload_section] * loop_factor\n",
    "                        self.bars.append(self.ax.bar(workload_index + security_index * bar_width, bar_height, bar_width_factor, label=workload_section, alpha=opacity, yerr=section_stds[workload_section] / sqrt(loop_factor), bottom=bottom, color=self.get_color(workload_section, 'x'), hatch='x'))\n",
    "                        bottom += bar_height\n",
    "                \n",
    "                security_energy = self.checkpoint_energy.get_security_energy(security_project, checkpoint_size)\n",
    "                number_of_checkpoints = get_number_of_checkpoints(bottom, cap_size, self.checkpoint_energy.get_checkpoint_energy(security_project, workload_project))\n",
    "#                 print(workload_project, security_project, number_of_checkpoints, floor(number_of_checkpoints))\n",
    "\n",
    "                for security_section_type, security_sections in self.security_section_types[security_project].items():\n",
    "                    loop_factor = number_of_checkpoints if security_section_type in (\"load\", \"store\") else 1\n",
    "                    security_bottom = bottom\n",
    "                    for security_section in security_sections:\n",
    "                        bar_height = security_energy[security_section] * loop_factor\n",
    "                        self.bars.append(self.ax.bar(workload_index + security_index * bar_width, bar_height, bar_width_factor, label=security_section, alpha=opacity, bottom=security_bottom, color=self.get_color(security_section, '//'), hatch='//'))\n",
    "                        security_bottom += bar_height\n",
    "        \n",
    "        self.ax.set_xticks(range(len(self.checkpoint_energy.workload_projects)))\n",
    "        self.ax.set_xticklabels(self.checkpoint_energy.workload_projects)\n",
    "        self.ax.legend(loc='upper right', handles=self.legend_artists + [mpl.lines.Line2D([0], [0], linestyle='--', color='k', alpha=0.4, label='Checkpoints')])\n",
    "        \n",
    "        self.lines = []\n",
    "        ymin, ymax = self.ax.get_ylim()\n",
    "        for y in np.arange(ymin, ymax, self.cap_size):\n",
    "            self.lines.append(self.ax.axhline(y, linestyle='--', color='k', alpha=0.4, zorder=0))\n",
    "        \n",
    "        #self.ax.set_yscale('log')\n",
    "        # self.ax.callbacks.connect(\"ylim_changed\", self.convert_checkpoint_axis)\n",
    "        self.convert_checkpoint_axis(self.ax)\n",
    "        \n",
    "        self.ax.yaxis.set_label_position(\"right\")\n",
    "        self.ax.yaxis.set_ticks_position(\"right\")\n",
    "        \n",
    "        self.ax.set_xlabel('Workload')\n",
    "        self.ax.set_ylabel('Charge [C]')\n",
    "        self.ax.set_title(f'Charge for {num_iterations} iterations with capacitor of {cap_size:.2e} C')\n",
    "        self.switch_axes(self.axes_switched)\n",
    "        self.fig.show()\n",
    "        \n",
    "    def anim_func(self, num_iterations, *fargs):\n",
    "        self.update_fig(num_iterations=num_iterations)\n",
    "        artist_list = self.lines\n",
    "        for bar in self.bars:\n",
    "            artist_list += bar\n",
    "        return artist_list\n",
    "    \n",
    "    def animate(self, frames=range(1,20)):\n",
    "        self.animation = animation.FuncAnimation(self.fig, self.anim_func, blit=True, interval=0, frames=frames, repeat=False)\n",
    "    \n",
    "    def convert_checkpoint_axis(self, ax):\n",
    "        \"\"\"\n",
    "        Update second axis according with first axis.\n",
    "        \"\"\"\n",
    "        if hasattr(self, \"ax_checkpoint\"):\n",
    "            self.ax_checkpoint.remove()\n",
    "        self.ax_checkpoint = ax.twinx()\n",
    "        ymin, ymax = ax.get_ylim()\n",
    "        self.ax_checkpoint.set_ylim(ymin/self.cap_size, ymax/self.cap_size)\n",
    "        \n",
    "        self.ax_checkpoint.set_ylabel('Checkpoints')\n",
    "        #self.ax_checkpoint.set_yscale('log')\n",
    "        self.ax_checkpoint.tick_params(axis='y', which='minor')\n",
    "        self.ax_checkpoint.yaxis.set_major_formatter(mpl.ticker.FormatStrFormatter(\"%d\"))\n",
    "        self.ax_checkpoint.yaxis.set_minor_formatter(mpl.ticker.FormatStrFormatter(\"%d\"))\n",
    "        for tick in self.ax_checkpoint.yaxis.iter_ticks():\n",
    "            if tick[1] < 1 or round(tick[1]) - tick[1]:\n",
    "                tick[0].set_visible(False)\n",
    "    \n",
    "    def switch_axes(self, axes_switched=None):\n",
    "        if axes_switched is not None:\n",
    "            self.axes_switched = axes_switched\n",
    "        else:\n",
    "            self.axes_switched = not self.axes_switched\n",
    "        if self.axes_switched:\n",
    "            pos = (\"right\", \"left\")\n",
    "        else:\n",
    "            pos = (\"left\", \"right\")\n",
    "        self.ax.yaxis.set_label_position(pos[0])\n",
    "        self.ax.yaxis.set_ticks_position(pos[0])\n",
    "        self.ax_checkpoint.yaxis.set_label_position(pos[1])\n",
    "        self.ax_checkpoint.yaxis.set_ticks_position(pos[1])"
   ]
  },
  {
   "cell_type": "code",
   "execution_count": null,
   "metadata": {},
   "outputs": [],
   "source": [
    "capacitor_plotter = CapacitorPlotter(checkpoint_energy, show=1, cap_size=0.0003, num_iterations=2)"
   ]
  },
  {
   "cell_type": "code",
   "execution_count": null,
   "metadata": {},
   "outputs": [],
   "source": [
    "capacitor_plotter.make_fig()"
   ]
  },
  {
   "cell_type": "code",
   "execution_count": null,
   "metadata": {},
   "outputs": [],
   "source": [
    "capacitor_plotter.update_fig(0.00003, 10)"
   ]
  },
  {
   "cell_type": "code",
   "execution_count": 629,
   "metadata": {},
   "outputs": [],
   "source": []
  },
  {
   "cell_type": "code",
   "execution_count": 18,
   "metadata": {},
   "outputs": [],
   "source": [
    "security_types = [\"None\", \"AES\", \"AES_Flash\", \"TrustZone\", \"TrustZone_Flash\"]\n",
    "# security_types = [\"None\", \"AES_Flash\", \"TruseZone_Flash\"]\n",
    "application_names = [\"Kalman\", \"AR\", \"Dijkstra\", \"Sorting 1024\", \"Bit Counting\", \"FFT 128\"]"
   ]
  },
  {
   "cell_type": "code",
   "execution_count": 19,
   "metadata": {},
   "outputs": [],
   "source": [
    "# app_charge_scale = 1e-4\n",
    "application_charges = np.array([0.000326812, 1e-10, 1e-10, 0.00001984909516280825944492365031646130546505446545779705047607421875, 0.0000066193645743728758915470737622666064225995796732604503631591796875, 0.00098674225419147416384080262474753908463753759860992431640625]) # TODO\n",
    "# app_number_of_bytes_scale = 1000\n",
    "application_number_of_bytes = np.array([4000, 1, 1, 1544 + 2**10, 90, 1975+24*128]) # TODO"
   ]
  },
  {
   "cell_type": "code",
   "execution_count": 20,
   "metadata": {},
   "outputs": [],
   "source": [
    "base_charge_per_app = dict(zip(application_names, application_charges))\n",
    "number_of_bytes_per_app = dict(zip(application_names, application_number_of_bytes))"
   ]
  },
  {
   "cell_type": "code",
   "execution_count": 21,
   "metadata": {},
   "outputs": [],
   "source": [
    "def get_total_charge(application_name, security_type):\n",
    "    print(application_name, security_type, f\"base: {base_charge_per_app[application_name]}, sec: {get_security_charge(security_type, number_of_bytes_per_app[application_name])}\")\n",
    "    return base_charge_per_app[application_name] + get_security_charge(security_type, number_of_bytes_per_app[application_name])"
   ]
  },
  {
   "cell_type": "markdown",
   "metadata": {},
   "source": [
    "# Bar chart"
   ]
  },
  {
   "cell_type": "code",
   "execution_count": 22,
   "metadata": {},
   "outputs": [],
   "source": [
    "import numpy as np\n",
    "import matplotlib.pyplot as plt"
   ]
  },
  {
   "cell_type": "code",
   "execution_count": 23,
   "metadata": {},
   "outputs": [
    {
     "name": "stdout",
     "output_type": "stream",
     "text": [
      "Kalman None base: 0.000326812, sec: 0\n",
      "AR None base: 1e-10, sec: 0\n",
      "Dijkstra None base: 1e-10, sec: 0\n",
      "Sorting 1024 None base: 1.984909516280826e-05, sec: 0\n",
      "Bit Counting None base: 6.619364574372876e-06, sec: 0\n",
      "FFT 128 None base: 0.0009867422541914742, sec: 0\n",
      "Kalman AES base: 0.000326812, sec: 0.000266660294291551\n",
      "AR AES base: 1e-10, sec: 5.187371787026527e-06\n",
      "Dijkstra AES base: 1e-10, sec: 5.187371787026527e-06\n",
      "Sorting 1024 AES base: 1.984909516280826e-05, sec: 0.00017271113084657168\n",
      "Bit Counting AES base: 6.619364574372876e-06, sec: 1.0433995337623398e-05\n",
      "FFT 128 AES base: 0.0009867422541914742, sec: 0.0003353747052574817\n",
      "Kalman AES_Flash base: 0.000326812, sec: 0.0003762351464001336\n",
      "AR AES_Flash base: 1e-10, sec: 8.73951455681015e-06\n",
      "Dijkstra AES_Flash base: 1e-10, sec: 8.73951455681015e-06\n",
      "Sorting 1024 AES_Flash base: 1.984909516280826e-05, sec: 0.00024623702644686776\n",
      "Bit Counting AES_Flash base: 6.619364574372876e-06, sec: 1.5452415137523475e-05\n",
      "FFT 128 AES_Flash base: 0.0009867422541914742, sec: 0.0004724774345093848\n",
      "Kalman TrustZone base: 0.000326812, sec: 7.22373063498969e-06\n",
      "AR TrustZone base: 1e-10, sec: 5.032668444340286e-08\n",
      "Dijkstra TrustZone base: 1e-10, sec: 5.032668444340286e-08\n",
      "Sorting 1024 TrustZone base: 1.984909516280826e-05, sec: 4.613783293843685e-06\n",
      "Bit Counting TrustZone base: 6.619364574372876e-06, sec: 1.9480195137815337e-07\n",
      "FFT 128 TrustZone base: 0.0009867422541914742, sec: 9.072607678880032e-06\n",
      "Kalman TrustZone_Flash base: 0.000326812, sec: 0.00010843217381790772\n",
      "AR TrustZone_Flash base: 1e-10, sec: 5.089571227427976e-06\n",
      "Dijkstra TrustZone_Flash base: 1e-10, sec: 5.089571227427976e-06\n",
      "Sorting 1024 TrustZone_Flash base: 1.984909516280826e-05, sec: 7.434156408221616e-05\n",
      "Bit Counting TrustZone_Flash base: 6.619364574372876e-06, sec: 5.864972594319396e-06\n",
      "FFT 128 TrustZone_Flash base: 0.0009867422541914742, sec: 0.00013435030928496495\n"
     ]
    }
   ],
   "source": [
    "# create plot\n",
    "fig, ax = plt.subplots(figsize=(10,9))\n",
    "index = np.arange(len(application_names))\n",
    "bar_width = 0.18\n",
    "opacity = 0.8\n",
    "\n",
    "# ax.grid()\n",
    "\n",
    "colors = [\"blue\", \"red\", \"green\", \"cyan\", \"magenta\", \"yellow\", \"black\", \"white\"]\n",
    "\n",
    "rects = []\n",
    "for i,security_type in enumerate(security_types):\n",
    "    rects += ax.bar(index + i*bar_width, [get_total_charge(application_name, security_type) for application_name in application_names], bar_width, label=security_type, color=colors[i], alpha=opacity)\n",
    " \n",
    "ax.set_xlabel('Application')\n",
    "ax.set_ylabel('Charge [C]')\n",
    "ax.set_title('Charge per Application')\n",
    "fig.canvas.set_window_title('Charge per Application')\n",
    "ax.set_xticks(index + bar_width)\n",
    "ax.set_xticklabels(application_names)\n",
    "ax.legend()\n",
    " \n",
    "fig.tight_layout()\n",
    "fig.show()"
   ]
  },
  {
   "cell_type": "markdown",
   "metadata": {},
   "source": [
    "# Number of Checkpoints"
   ]
  },
  {
   "cell_type": "code",
   "execution_count": 24,
   "metadata": {},
   "outputs": [],
   "source": [
    "security_types = [\"None\", \"AES_Flash\", \"TrustZone_Flash\"]"
   ]
  },
  {
   "cell_type": "code",
   "execution_count": 35,
   "metadata": {},
   "outputs": [],
   "source": [
    "min_cap_size_over_sec_charge = 10\n",
    "number_of_points = 1e5\n",
    "iterations = 1\n",
    "min_cap_factor = 10\n",
    "min_step_size = 1e-7"
   ]
  },
  {
   "cell_type": "code",
   "execution_count": null,
   "metadata": {},
   "outputs": [],
   "source": [
    "opacity = 0.8\n",
    "colors = [\"blue\", \"red\", \"green\", \"cyan\", \"magenta\", \"yellow\", \"black\", \"white\"]\n",
    "\n",
    "figs = {}\n",
    "axs = {}\n",
    "for application_name in application_names:\n",
    "# for application_name in [\"Sorting 1024\", \"FFT 128\"]:\n",
    "    fig, ax = plt.subplots(figsize=(10,9))\n",
    "    figs[application_name] = fig\n",
    "    axs[application_name] = ax\n",
    "    fig.canvas.set_window_title(application_name)\n",
    "    for i,security_type in enumerate(security_types):\n",
    "        security_charge = get_security_charge(security_type, number_of_bytes_per_app[application_name])\n",
    "        base_charge = base_charge_per_app[application_name]\n",
    "        capacitor_sizes = np.arange(base_charge/min_cap_factor,base_charge*iterations, (base_charge*iterations-base_charge/min_cap_factor)/number_of_points)\n",
    "        capacitor_sizes = capacitor_sizes[capacitor_sizes>security_charge]\n",
    "        y = base_charge/(capacitor_sizes - security_charge)\n",
    "#         ax.plot(capacitor_sizes, base_charge/(capacitor_sizes - security_charge)/(base_charge/capacitor_sizes), label=security_type, color=colors[i], alpha=opacity)\n",
    "        ax.plot(capacitor_sizes, y, label=security_type, color=colors[i], alpha=opacity)\n",
    "        ax.plot(capacitor_sizes, np.floor(y), color=colors[i], alpha=opacity/2)\n",
    "#         ax.plot(capacitor_sizes, np.floor(base_charge/(capacitor_sizes - security_charge)), '.', label=security_type, color=colors[i], alpha=opacity/2)\n",
    "#         ax.plot(capacitor_sizes, base_charge/(capacitor_sizes - security_charge), label=security_type, color=colors[i], alpha=opacity)\n",
    "    ax.plot([base_charge/min_cap_factor, base_charge*iterations], [1,1])\n",
    "    ax.set_xscale('log')\n",
    "#     ax.set_yscale('log')\n",
    "    ax.set_ylim(-1,10)\n",
    "    ax.set_xlabel('Capacitor Size [C]')\n",
    "    ax.set_ylabel('Number of Checkpoints')\n",
    "    ax.set_title(f'Number of Checkpoints per Security Type {application_name}')\n",
    "    fig.canvas.set_window_title(f\"Number of Checkpoints {application_name}\")\n",
    "    ax.legend()\n",
    "    fig.tight_layout()\n",
    "    fig.show()"
   ]
  },
  {
   "cell_type": "code",
   "execution_count": 27,
   "metadata": {},
   "outputs": [],
   "source": [
    "# opacity = 0.8\n",
    "# colors = [\"blue\", \"red\", \"green\", \"cyan\", \"magenta\", \"yellow\", \"black\", \"white\"]\n",
    "\n",
    "# figs = {}\n",
    "# axs = {}\n",
    "# # for application_name in application_names:\n",
    "# for application_name in [\"Sorting 1024\", \"FFT 128\"]:\n",
    "#     fig, ax = plt.subplots(figsize=(10,9))\n",
    "#     figs[application_name] = fig\n",
    "#     axs[application_name] = ax\n",
    "#     fig.canvas.set_window_title(application_name)\n",
    "#     security_charge_aes = get_security_charge(\"AES_Flash\", number_of_bytes_per_app[application_name])\n",
    "#     security_charge_trustzone = get_security_charge(\"TrustZone_Flash\", number_of_bytes_per_app[application_name])\n",
    "#     base_charge = base_charge_per_app[application_name]\n",
    "#     capacitor_sizes = np.arange(base_charge/min_cap_factor,base_charge*iterations, (base_charge*iterations-base_charge/min_cap_factor)/number_of_points)\n",
    "#     capacitor_sizes = capacitor_sizes[capacitor_sizes>security_charge_aes]\n",
    "# #         ax.plot(capacitor_sizes, base_charge/(capacitor_sizes - security_charge)/(base_charge/capacitor_sizes), label=security_type, color=colors[i], alpha=opacity)\n",
    "#     y = base_charge/(capacitor_sizes - security_charge_aes)/(base_charge/(capacitor_sizes - security_charge_trustzone))\n",
    "#     ax.plot(capacitor_sizes, y, label=security_type, color=colors[i], alpha=opacity)\n",
    "#     ax.plot(capacitor_sizes, np.floor(y), color=colors[i], alpha=opacity/2)\n",
    "# #         ax.plot(capacitor_sizes, np.floor(base_charge/(capacitor_sizes - security_charge)), '.', label=security_type, color=colors[i], alpha=opacity/2)\n",
    "# #         ax.plot(capacitor_sizes, base_charge/(capacitor_sizes - security_charge), label=security_type, color=colors[i], alpha=opacity)\n",
    "#     ax.plot([base_charge/min_cap_factor, base_charge*iterations], [1,1])\n",
    "#     ax.set_xscale('log')\n",
    "# #     ax.set_yscale('log')\n",
    "#     ax.set_ylim(-1,10)\n",
    "#     ax.set_xlabel('Capacitor Size [C]')\n",
    "#     ax.set_ylabel('Number of Checkpoints')\n",
    "#     ax.set_title(f'Number of Checkpoints per Security Type {application_name}')\n",
    "#     fig.canvas.set_window_title(f\"Number of Checkpoints {application_name}\")\n",
    "#     ax.legend()\n",
    "#     fig.tight_layout()\n",
    "#     fig.show()"
   ]
  },
  {
   "cell_type": "markdown",
   "metadata": {},
   "source": [
    "## Scales"
   ]
  },
  {
   "cell_type": "code",
   "execution_count": 28,
   "metadata": {},
   "outputs": [
    {
     "name": "stdout",
     "output_type": "stream",
     "text": [
      "Cap Size:\n",
      "\tmin: 0.00013514717936082669, max: 0.09867323966363496\n"
     ]
    }
   ],
   "source": [
    "print(\"Cap Size:\")\n",
    "print(f\"\\tmin: {min(capacitor_sizes)}, max: {max(capacitor_sizes)}\")"
   ]
  },
  {
   "cell_type": "code",
   "execution_count": 29,
   "metadata": {},
   "outputs": [
    {
     "name": "stdout",
     "output_type": "stream",
     "text": [
      "Base Charge:\n",
      "\tKalman: 0.000326812\n",
      "\tAR: 1e-10\n",
      "\tDijkstra: 1e-10\n",
      "\tSorting 1024: 1.984909516280826e-05\n",
      "\tBit Counting: 6.619364574372876e-06\n",
      "\tFFT 128: 0.0009867422541914742\n"
     ]
    }
   ],
   "source": [
    "print(\"Base Charge:\")\n",
    "for application_name in application_names:\n",
    "    print(f\"\\t{application_name}: {base_charge_per_app[application_name]}\")"
   ]
  },
  {
   "cell_type": "code",
   "execution_count": 30,
   "metadata": {},
   "outputs": [
    {
     "name": "stdout",
     "output_type": "stream",
     "text": [
      "Security Charge:\n",
      "\tNone min: 0,  max: 0\n",
      "\tAES_Flash min: 8.73951455681015e-06,  max: 0.0004724774345093848\n",
      "\tTrustZone_Flash min: 5.089571227427976e-06,  max: 0.00013435030928496495\n"
     ]
    }
   ],
   "source": [
    "print(\"Security Charge:\")\n",
    "for security_type in security_types:\n",
    "    print(f\"\\t{security_type} min: {get_security_charge(security_type, min(number_of_bytes_per_app.values()))},  max: {get_security_charge(security_type, max(number_of_bytes_per_app.values()))}\")\n",
    "# number_of_bytes_per_app = dict(zip(application_names, application_number_of_bytes))"
   ]
  },
  {
   "cell_type": "code",
   "execution_count": 31,
   "metadata": {},
   "outputs": [
    {
     "data": {
      "text/plain": [
       "{'Kalman': 0.000326812,\n",
       " 'AR': 1e-10,\n",
       " 'Dijkstra': 1e-10,\n",
       " 'Sorting 1024': 1.984909516280826e-05,\n",
       " 'Bit Counting': 6.619364574372876e-06,\n",
       " 'FFT 128': 0.0009867422541914742}"
      ]
     },
     "execution_count": 31,
     "metadata": {},
     "output_type": "execute_result"
    }
   ],
   "source": [
    "base_charge_per_app"
   ]
  },
  {
   "cell_type": "code",
   "execution_count": 32,
   "metadata": {},
   "outputs": [
    {
     "data": {
      "text/plain": [
       "1"
      ]
     },
     "execution_count": 32,
     "metadata": {},
     "output_type": "execute_result"
    }
   ],
   "source": [
    "min(number_of_bytes_per_app.values())"
   ]
  },
  {
   "cell_type": "code",
   "execution_count": 33,
   "metadata": {},
   "outputs": [
    {
     "data": {
      "text/plain": [
       "0"
      ]
     },
     "execution_count": 33,
     "metadata": {},
     "output_type": "execute_result"
    }
   ],
   "source": [
    "get_security_charge(\"None\", min(number_of_bytes_per_app.values()))"
   ]
  },
  {
   "cell_type": "code",
   "execution_count": 34,
   "metadata": {},
   "outputs": [
    {
     "data": {
      "text/plain": [
       "0.00010843217381790772"
      ]
     },
     "execution_count": 34,
     "metadata": {},
     "output_type": "execute_result"
    }
   ],
   "source": [
    "get_security_charge(\"TrustZone_Flash\", 4000)"
   ]
  },
  {
   "cell_type": "code",
   "execution_count": null,
   "metadata": {},
   "outputs": [],
   "source": []
  },
  {
   "cell_type": "code",
   "execution_count": 224,
   "metadata": {},
   "outputs": [],
   "source": [
    "a = [1,3,4,5]\n",
    "b = [9,8,7,6]"
   ]
  },
  {
   "cell_type": "code",
   "execution_count": 229,
   "metadata": {},
   "outputs": [],
   "source": [
    "def g(x):\n",
    "    return x if x > 4 else 2"
   ]
  },
  {
   "cell_type": "code",
   "execution_count": 232,
   "metadata": {},
   "outputs": [
    {
     "data": {
      "text/plain": [
       "2"
      ]
     },
     "execution_count": 232,
     "metadata": {},
     "output_type": "execute_result"
    }
   ],
   "source": [
    "g(1)"
   ]
  },
  {
   "cell_type": "code",
   "execution_count": null,
   "metadata": {},
   "outputs": [],
   "source": []
  },
  {
   "cell_type": "code",
   "execution_count": null,
   "metadata": {},
   "outputs": [],
   "source": []
  },
  {
   "cell_type": "markdown",
   "metadata": {},
   "source": [
    "## Plot stuff"
   ]
  },
  {
   "cell_type": "code",
   "execution_count": null,
   "metadata": {},
   "outputs": [],
   "source": [
    "# fig = plt.figure(figsize=(10, 6))\n",
    "# ax = fig.add_subplot(1, 1, 1)\n",
    "# ax.set_xlabel(\"Capacitor Size [C]\")\n",
    "# ax.set_ylabel(\"Number of Checkpoints\")"
   ]
  },
  {
   "cell_type": "code",
   "execution_count": null,
   "metadata": {},
   "outputs": [],
   "source": [
    "# capacitor_sizes = range(1,101)\n",
    "# def get_number_of_checkpoints(application_number):\n",
    "#     return [application_charges[application_number]/(capacitor_size - get_security_charge(\"trustzone_flash\", application_number_of_bytes[application_number])) for capacitor_size in capacitor_sizes]"
   ]
  },
  {
   "cell_type": "code",
   "execution_count": null,
   "metadata": {},
   "outputs": [],
   "source": [
    "# for application_number in range(5):\n",
    "#     ax.plot(capacitor_sizes, get_number_of_checkpoints(application_number), label=application_names[application_number])\n",
    "# ax.legend()\n",
    "# # ax.set_yscale('log')\n",
    "# # ax.set_xscale('log')\n",
    "# # ax.invert_xaxis()"
   ]
  },
  {
   "cell_type": "code",
   "execution_count": null,
   "metadata": {},
   "outputs": [],
   "source": []
  },
  {
   "cell_type": "code",
   "execution_count": null,
   "metadata": {},
   "outputs": [],
   "source": [
    "# fig2 = plt.figure(figsize=(10, 6))\n",
    "# ax2 = fig2.add_subplot(111, projection='3d')\n",
    "\n",
    "# ax2.set_xlabel(\"Capacitor Size [C]\")\n",
    "# ax2.set_ylabel(\"Number of Bytes\")\n",
    "# ax2.set_zlabel(\"Number of Checkpoints\")"
   ]
  },
  {
   "cell_type": "code",
   "execution_count": null,
   "metadata": {},
   "outputs": [],
   "source": [
    "# capacitor_sizes = range(1,1001)\n",
    "# application_charge = 50\n",
    "# number_of_bytes = range(1,1001)"
   ]
  },
  {
   "cell_type": "code",
   "execution_count": null,
   "metadata": {},
   "outputs": [],
   "source": [
    "# def get_number_of_checkpoints(application_charge, capacitor_size, number_of_bytes, security_type=\"trustzone_flash\"):\n",
    "#     return application_charge/(capacitor_size - get_security_charge(security_type, number_of_bytes))"
   ]
  },
  {
   "cell_type": "code",
   "execution_count": null,
   "metadata": {},
   "outputs": [],
   "source": [
    "# X, Y = np.meshgrid(capacitor_sizes, number_of_bytes)\n",
    "# Z = np.zeros(shape=(1000,1000))\n",
    "# for i,capacitor_size in enumerate(capacitor_sizes):\n",
    "#     for j,number_of_byte in enumerate(number_of_bytes):\n",
    "#         Z[i,j] = get_number_of_checkpoints(application_charge, capacitor_size, number_of_byte)\n",
    "# #Z = np.array([np.array([get_number_of_checkpoints(capacitor_size,application_charge) for application_charge in application_charges]) for  capacitor_size in capacitor_sizes])\n",
    "# Z.shape"
   ]
  },
  {
   "cell_type": "code",
   "execution_count": null,
   "metadata": {},
   "outputs": [],
   "source": [
    "# surf = ax2.plot_surface(X, Y, Z)"
   ]
  },
  {
   "cell_type": "code",
   "execution_count": null,
   "metadata": {},
   "outputs": [],
   "source": []
  },
  {
   "cell_type": "code",
   "execution_count": null,
   "metadata": {},
   "outputs": [],
   "source": []
  },
  {
   "cell_type": "code",
   "execution_count": null,
   "metadata": {},
   "outputs": [],
   "source": []
  },
  {
   "cell_type": "code",
   "execution_count": null,
   "metadata": {},
   "outputs": [],
   "source": []
  },
  {
   "cell_type": "code",
   "execution_count": null,
   "metadata": {},
   "outputs": [],
   "source": []
  },
  {
   "cell_type": "code",
   "execution_count": null,
   "metadata": {},
   "outputs": [],
   "source": []
  },
  {
   "cell_type": "code",
   "execution_count": null,
   "metadata": {},
   "outputs": [],
   "source": []
  },
  {
   "cell_type": "code",
   "execution_count": null,
   "metadata": {},
   "outputs": [],
   "source": []
  },
  {
   "cell_type": "code",
   "execution_count": null,
   "metadata": {},
   "outputs": [],
   "source": [
    "from math import sqrt, floor\n",
    "\n",
    "class CapacitorPlotter(object):\n",
    "    def __init__(self, checkpoint_energy=CheckpointEnergy(), cap_size=1e-5, num_iterations=3, fig=None, ax=None, show=0):\n",
    "        self.checkpoint_energy = checkpoint_energy\n",
    "        self.fig = fig\n",
    "        self.ax = ax\n",
    "        self.cap_size = cap_size\n",
    "        self.num_iterations = num_iterations\n",
    "        self.security_section_types = {}\n",
    "        self.workload_section_types = {}\n",
    "        if show:\n",
    "            self.make_fig()\n",
    "            self.update_fig()\n",
    "            \n",
    "        self.hatches_generator = ('/', '\\\\', '|', '-', '+', 'x', 'o', 'O', '.', '*')\n",
    "        self.hatches = {}\n",
    "        self.colors_generator = (\"blue\", \"red\", \"green\", \"cyan\", \"magenta\", \"yellow\", \"black\", \"white\")\n",
    "        self.colors = {}\n",
    "        self.legend_artists = []\n",
    "        \n",
    "    def make_fig(self, *args, **kwargs):\n",
    "        self.fig, self.ax = plt.subplots(*args, **kwargs)\n",
    "        \n",
    "        for security_project in self.checkpoint_energy.security_projects:\n",
    "            self.security_section_types[security_project] = \\\n",
    "                self.checkpoint_energy.get_security_config(security_project)[\"analysis\"][\"section_types\"]\n",
    "        for workload_project in self.checkpoint_energy.workload_projects:\n",
    "            self.workload_section_types[workload_project] = \\\n",
    "                self.checkpoint_energy.get_workload_config(workload_project)[\"analysis\"][\"section_types\"]\n",
    "    \n",
    "    def get_hatch_and_color(self, workload_section_type, security_section_type):\n",
    "        if workload_section_type in self.colors:\n",
    "            color = self.colors[workload_section_type]\n",
    "        else:\n",
    "            color = next(self.colors_generator)\n",
    "        if security_section_type in self.hatches:\n",
    "            hatch = self.hatches[security_section_type]\n",
    "        else:\n",
    "            hatch = next(self.hatches_generator)\n",
    "        return color, hatch\n",
    "            \n",
    "    \n",
    "    def update_fig(self, cap_size=None, num_iterations=None):\n",
    "        if cap_size is None:\n",
    "            cap_size = self.cap_size\n",
    "        if num_iterations is None:\n",
    "            num_iterations = self.num_iterations\n",
    "        \n",
    "        bar_width = 1/(len(self.checkpoint_energy.security_projects) + 1)\n",
    "        bar_width_factor = 0.9 * bar_width\n",
    "        opacity = 0.8\n",
    "\n",
    "        # ax.grid()\n",
    "        self.ax.cla()\n",
    "\n",
    "        self.bars = []\n",
    "        for workload_index, workload_project in enumerate(self.checkpoint_energy.workload_projects):\n",
    "            section_averages = self.checkpoint_energy.get_workload_average(workload_project)\n",
    "            section_stds = self.checkpoint_energy.get_workload_std(workload_project)\n",
    "            checkpoint_size = self.checkpoint_energy.get_checkpoint_size(workload_project)\n",
    "            \n",
    "            for security_index, security_project in enumerate(self.checkpoint_energy.security_projects):\n",
    "                bottom = 0\n",
    "                for workload_section_type, workload_sections in self.workload_section_types[workload_project].items():\n",
    "                    loop_factor = num_iterations if workload_section_type == \"loop\" else 1\n",
    "                    for workload_section in workload_sections:\n",
    "                        bar_height = section_averages[workload_section] * loop_factor\n",
    "                        color, hatch = self.get_hatch_and_color(workload_section_type, security_section_type)\n",
    "                        bar = self.ax.bar(workload_index + security_index * bar_width, bar_height, bar_width_factor, label=workload_section, alpha=opacity, yerr=section_stds[workload_section] / sqrt(loop_factor), bottom=bottom, hatch=hatch, color=color)\n",
    "                        self.bars.append(bar)\n",
    "                        \n",
    "                        bottom += bar_height\n",
    "                \n",
    "                security_energy = self.checkpoint_energy.get_security_energy(security_project, checkpoint_size)\n",
    "\n",
    "#                 self.checkpoint_energy..get_security_energy(security_type, checkpoint_size)\n",
    "\n",
    "                number_of_checkpoints = get_number_of_checkpoints(bottom, cap_size, self.checkpoint_energy.get_checkpoint_energy(security_project, workload_project))\n",
    "#                 print(number_of_checkpoints, floor(number_of_checkpoints))\n",
    "\n",
    "                for security_section_type, security_sections in self.security_section_types[security_project].items():\n",
    "                    loop_factor = number_of_checkpoints if security_section_type in (\"load\", \"store\") else 1\n",
    "                    security_bottom = bottom\n",
    "                    for security_section in security_sections:\n",
    "                        bar_height = security_energy[security_section] * loop_factor\n",
    "                        self.bars.append(self.ax.bar(workload_index + security_index * bar_width, bar_height, bar_width_factor, label=workload_section + ' ' + security_section, alpha=opacity, bottom=security_bottom))\n",
    "                        security_bottom += bar_height\n",
    "\n",
    "        \n",
    "        self.ax.set_xticks(range(len(self.checkpoint_energy.workload_projects)))\n",
    "        self.ax.set_xticklabels(self.checkpoint_energy.workload_projects)\n",
    "        self.ax.legend()\n",
    "        self.ax.set_yscale('log')\n",
    "\n",
    "        self.ax.set_xlabel('Workload')\n",
    "        self.ax.set_ylabel('Charge [C]')\n",
    "        self.ax.set_title(f'Charge for {num_iterations} iterations')\n",
    "        self.fig.canvas.set_window_title('Charge per Workload')\n",
    "        self.fig.show()\n",
    "        "
   ]
  }
 ],
 "metadata": {
  "kernelspec": {
   "display_name": "Python [conda env:SAML11-32]",
   "language": "python",
   "name": "conda-env-SAML11-32-py"
  },
  "language_info": {
   "codemirror_mode": {
    "name": "ipython",
    "version": 3
   },
   "file_extension": ".py",
   "mimetype": "text/x-python",
   "name": "python",
   "nbconvert_exporter": "python",
   "pygments_lexer": "ipython3",
   "version": "3.6.8"
  }
 },
 "nbformat": 4,
 "nbformat_minor": 2
}
