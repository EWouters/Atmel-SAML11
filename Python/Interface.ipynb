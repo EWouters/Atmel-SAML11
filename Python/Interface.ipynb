{
 "cells": [
  {
   "cell_type": "code",
   "execution_count": 1,
   "metadata": {},
   "outputs": [],
   "source": [
    "import serial"
   ]
  },
  {
   "cell_type": "code",
   "execution_count": 2,
   "metadata": {},
   "outputs": [],
   "source": [
    "# Custom Exceptions\n",
    "class Error(Exception):\n",
    "    \"\"\"Base class for exceptions in this module.\n",
    "    :param msg: Error message associated with the exception\n",
    "    :type msg: str\n",
    "    :ivar msg: Error message associated with the exception\n",
    "    \"\"\"\n",
    "\n",
    "    def __init__(self, msg):\n",
    "        self.msg = msg\n",
    "\n",
    "    def __str__(self):\n",
    "        return self.msg\n",
    "\n",
    "\n",
    "class CommandError(Error):\n",
    "    \"\"\"Exception raised sending a command to the SAML11.\"\"\"\n",
    "\n",
    "    pass\n",
    "\n",
    "\n",
    "class ConnectError(Error):\n",
    "    \"\"\"Exception raised connecting to the SAML11.\"\"\"\n",
    "\n",
    "    pass"
   ]
  },
  {
   "cell_type": "code",
   "execution_count": 3,
   "metadata": {},
   "outputs": [],
   "source": [
    "# https://github.com/nkinder/smart-card-removinator/blob/master/client/removinator/removinator.py\n",
    "class SAML11:\n",
    "    \"\"\"Communicates to the SAML11 on the specified serial port.\n",
    "    \"\"\"\n",
    "\n",
    "    def __init__(\n",
    "        self,\n",
    "        port=\"COM3\",\n",
    "        serial_settings = {\n",
    "            \"baudrate\": 9600,\n",
    "            \"bytesize\": serial.EIGHTBITS,\n",
    "            \"parity\": serial.PARITY_EVEN,\n",
    "            \"stopbits\": serial.STOPBITS_TWO,\n",
    "            \"xonxoff\": False,\n",
    "            \"dsrdtr\": True,\n",
    "            \"rtscts\": False,\n",
    "            \"timeout\": None,\n",
    "            \"write_timeout\": None,\n",
    "            \"inter_byte_timeout\": None,\n",
    "        },\n",
    "    ):\n",
    "        \"\"\"Opens a connection to the SAML11 on the specified serial port.\n",
    "        \"\"\"\n",
    "        \n",
    "        self.port = port        \n",
    "        self.serial_settings = serial_settings\n",
    "\n",
    "        self.last_result = \"\"\n",
    "        self.last_response = \"\"\n",
    "\n",
    "        # Open a connection to the SAML11.\n",
    "        try:\n",
    "            self.connection = serial.Serial(\n",
    "                port=port,\n",
    "            )\n",
    "            self.connection.apply_settings(serial_settings)\n",
    "        except serial.SerialException as e:\n",
    "            raise ConnectError(\n",
    "                \"Unable to open connection to SAML11 \"\n",
    "                \"controller on port {0}\".format(port)\n",
    "            )\n",
    "\n",
    "    def __enter__(self):\n",
    "        return self\n",
    "\n",
    "    def __exit__(self, exc_type, exc_value, traceback):\n",
    "        self.connection.close()\n",
    "\n",
    "    def get_status(self):\n",
    "        \"\"\"\n",
    "        Get the status of the SAML11\n",
    "        :raises: :exc:`CommandError`\n",
    "        \"\"\"\n",
    "\n",
    "        self.send_command(\"STA\")\n",
    "        return self.last_response\n",
    "\n",
    "    def send_command(self, command, print_response=False):\n",
    "        \"\"\"\n",
    "        Send a command to the SAML11\n",
    "        Sends the specified command to the SAML11. The command\n",
    "        result (*OK*, *DBG* or *ERR_\\\\**) will be available in the *last_result*\n",
    "        attribute of your *SAML11* object.  Similarly, the full command\n",
    "        response will be available in the *last_response* attribute.\n",
    "        Any debug output will be printed.\n",
    "        If an error result is encountered, a CommandError will be\n",
    "        raised.\n",
    "        :param command: the command to send\n",
    "        :type command: str\n",
    "        :raises: :exc:`CommandError`\n",
    "        \"\"\"\n",
    "\n",
    "        # Clear out the previous command result and response.\n",
    "        self.last_result = \"\"\n",
    "        self.last_response = \"\"\n",
    "\n",
    "        # Send the command in a proper envelope to the SAML11.\n",
    "        try:\n",
    "            self.connection.write(\"#{0}\\r\".format(command).encode(\"utf-8\"))\n",
    "        except serial.SerialException as e:\n",
    "            raise CommandError(\n",
    "                \"Serial error encountered sending command \"\n",
    "                '\"{0}\" ({1})'.format(command, e)\n",
    "            )\n",
    "\n",
    "        while 1:\n",
    "            resp_line = self.connection.readline().decode(\"utf-8\")\n",
    "            # print(resp_line)\n",
    "            if resp_line.startswith(\"OK\"):\n",
    "                self.last_result = resp_line.rstrip()\n",
    "                break\n",
    "            elif resp_line.startswith(\"ERR_\"):\n",
    "                self.last_result = resp_line.rstrip()\n",
    "                raise CommandError(\n",
    "                    '{0} encountered sending command \"{1}\"'.format(\n",
    "                        self.last_result, command\n",
    "                    )\n",
    "                )\n",
    "            elif resp_line.startswith(\"[DBG]\"):\n",
    "                while 1:\n",
    "                    print(resp_line.rstrip())\n",
    "                    resp_line = self.connection.readline().decode(\"utf-8\")\n",
    "                    if resp_line.startswith(\"OK\"):\n",
    "                        self.last_result = \"DBG\"\n",
    "                        break\n",
    "            else:\n",
    "                # Concatenate multi-line responses.\n",
    "                self.last_response += resp_line\n",
    "\n",
    "        if print_response:\n",
    "            print(\"Last result: {}\".format(self.last_result))\n",
    "            print(\"Last response:\\n{}\".format(self.last_response).replace(\"\\n\", \"\\n\\t\"))\n",
    "\n",
    "    def set_debug(self, debug):\n",
    "        \"\"\"\n",
    "        Enable or disable SAML11 debug output\n",
    "        When enabled, the SAML11 will return verbose responses\n",
    "        via serial when commands are executed. The debug output from the\n",
    "        previously run command will be available along with the standard\n",
    "        command output in the *last_response* attribute of your\n",
    "        *SAML11* object.\n",
    "        :param debug: enable/disable debugging\n",
    "        :type debug: bool\n",
    "        :raises: :exc:`CommandError`\n",
    "        \"\"\"\n",
    "        # Send the debug command.\n",
    "        self.send_command(\"DBG\")\n",
    "\n",
    "        # Check the response to see if we are in the requested state.\n",
    "        if debug and (self.last_response.rstrip().endswith(\"DBG_OFF\")):\n",
    "            self.send_command(\"DBG\")\n",
    "        elif not debug and (self.last_response.rstrip().endswith(\"DBG_ON\")):\n",
    "            self.send_command(\"DBG\")"
   ]
  },
  {
   "cell_type": "code",
   "execution_count": 4,
   "metadata": {},
   "outputs": [
    {
     "name": "stdout",
     "output_type": "stream",
     "text": [
      "Status:\tDebug mode is OFF\n",
      "\n",
      "Last result: OK\n",
      "Last response:\n",
      "\t--- SAML11 ---\n",
      "\t\n",
      "\tCommand Format:\n",
      "\t\tPrefix:\t\t#\n",
      "\t\tTerminator:\t\\r\n",
      "\tCommands:\n",
      "\t\tSTA\tReturn debug status status\n",
      "\t\tDBG\tToggle debugging output\n",
      "\t\t?\tShow usage information\n",
      "\t\n",
      "Last result: OK\n",
      "Last response:\n",
      "\tStatus:\tDebug mode is OFF\n",
      "\t\n",
      "[DBG] Received command \"STA\"\n",
      "Last result: OK\n",
      "Last response:\n",
      "\tStatus:\tDebug mode is ON\n",
      "\t\n",
      "[DBG] Received command \"DBG\"\n",
      "Last result: OK\n",
      "Last response:\n",
      "\tStatus:\tDebug mode is OFF\n",
      "\t\n"
     ]
    }
   ],
   "source": [
    "with SAML11() as board:\n",
    "    print(board.get_status())\n",
    "    board.send_command(\"?\", True)\n",
    "    board.send_command(\"STA\", True)\n",
    "    board.set_debug(True)\n",
    "    board.send_command(\"STA\", True)\n",
    "    board.set_debug(False)\n",
    "    board.send_command(\"STA\", True)"
   ]
  },
  {
   "cell_type": "code",
   "execution_count": 5,
   "metadata": {},
   "outputs": [],
   "source": [
    "from ctypes import *"
   ]
  },
  {
   "cell_type": "code",
   "execution_count": 6,
   "metadata": {},
   "outputs": [],
   "source": [
    "dgilib = cdll.LoadLibrary(\"dgilib\")"
   ]
  },
  {
   "cell_type": "code",
   "execution_count": 7,
   "metadata": {},
   "outputs": [
    {
     "data": {
      "text/plain": [
       "2"
      ]
     },
     "execution_count": 7,
     "metadata": {},
     "output_type": "execute_result"
    }
   ],
   "source": [
    "dgilib.Initialize()"
   ]
  },
  {
   "cell_type": "code",
   "execution_count": 8,
   "metadata": {},
   "outputs": [
    {
     "data": {
      "text/plain": [
       "2"
      ]
     },
     "execution_count": 8,
     "metadata": {},
     "output_type": "execute_result"
    }
   ],
   "source": [
    "dgilib.discover()"
   ]
  },
  {
   "cell_type": "code",
   "execution_count": 9,
   "metadata": {},
   "outputs": [
    {
     "data": {
      "text/plain": [
       "1"
      ]
     },
     "execution_count": 9,
     "metadata": {},
     "output_type": "execute_result"
    }
   ],
   "source": [
    "dgilib.get_device_count()"
   ]
  },
  {
   "cell_type": "code",
   "execution_count": 10,
   "metadata": {},
   "outputs": [
    {
     "ename": "OSError",
     "evalue": "exception: access violation writing 0x00000000",
     "output_type": "error",
     "traceback": [
      "\u001b[1;31m---------------------------------------------------------------------------\u001b[0m",
      "\u001b[1;31mOSError\u001b[0m                                   Traceback (most recent call last)",
      "\u001b[1;32m<ipython-input-10-cba3c3130f17>\u001b[0m in \u001b[0;36m<module>\u001b[1;34m()\u001b[0m\n\u001b[0;32m      2\u001b[0m \u001b[0mindex\u001b[0m \u001b[1;33m=\u001b[0m \u001b[0mc_int\u001b[0m\u001b[1;33m(\u001b[0m\u001b[1;33m)\u001b[0m\u001b[1;33m\u001b[0m\u001b[0m\n\u001b[0;32m      3\u001b[0m \u001b[0msn\u001b[0m \u001b[1;33m=\u001b[0m \u001b[0mc_wchar_p\u001b[0m\u001b[1;33m(\u001b[0m\u001b[1;33m)\u001b[0m\u001b[1;33m\u001b[0m\u001b[0m\n\u001b[1;32m----> 4\u001b[1;33m \u001b[0mdgilib\u001b[0m\u001b[1;33m.\u001b[0m\u001b[0mget_device_serial\u001b[0m\u001b[1;33m(\u001b[0m\u001b[0mindex\u001b[0m\u001b[1;33m,\u001b[0m \u001b[0msn\u001b[0m\u001b[1;33m)\u001b[0m\u001b[1;33m\u001b[0m\u001b[0m\n\u001b[0m",
      "\u001b[1;31mOSError\u001b[0m: exception: access violation writing 0x00000000"
     ]
    }
   ],
   "source": [
    "# int get_device_serial(int index, char* sn);\n",
    "index = c_int()\n",
    "sn = c_wchar_p()\n",
    "dgilib.get_device_serial(index, sn)"
   ]
  },
  {
   "cell_type": "code",
   "execution_count": null,
   "metadata": {},
   "outputs": [],
   "source": [
    "# get_device_name(int index, char* name);\n",
    "index = c_int()\n",
    "name = c_wchar_p()\n",
    "dgilib.get_device_name(index, name)"
   ]
  },
  {
   "cell_type": "code",
   "execution_count": null,
   "metadata": {},
   "outputs": [],
   "source": [
    "dgilib.get_major_version()"
   ]
  },
  {
   "cell_type": "code",
   "execution_count": null,
   "metadata": {},
   "outputs": [],
   "source": [
    "dgilib.get_minor_version()"
   ]
  },
  {
   "cell_type": "code",
   "execution_count": null,
   "metadata": {},
   "outputs": [],
   "source": [
    "dgilib.get_build_number()"
   ]
  },
  {
   "cell_type": "code",
   "execution_count": null,
   "metadata": {},
   "outputs": [],
   "source": []
  },
  {
   "cell_type": "code",
   "execution_count": null,
   "metadata": {},
   "outputs": [],
   "source": []
  },
  {
   "cell_type": "code",
   "execution_count": null,
   "metadata": {},
   "outputs": [],
   "source": []
  },
  {
   "cell_type": "code",
   "execution_count": null,
   "metadata": {},
   "outputs": [],
   "source": []
  },
  {
   "cell_type": "code",
   "execution_count": null,
   "metadata": {},
   "outputs": [],
   "source": []
  },
  {
   "cell_type": "code",
   "execution_count": null,
   "metadata": {},
   "outputs": [],
   "source": []
  },
  {
   "cell_type": "code",
   "execution_count": null,
   "metadata": {},
   "outputs": [],
   "source": []
  },
  {
   "cell_type": "code",
   "execution_count": null,
   "metadata": {},
   "outputs": [],
   "source": []
  },
  {
   "cell_type": "code",
   "execution_count": null,
   "metadata": {},
   "outputs": [],
   "source": [
    "libc = cdll.msvcrt"
   ]
  },
  {
   "cell_type": "code",
   "execution_count": null,
   "metadata": {},
   "outputs": [],
   "source": [
    "IntArray5 = c_int * 5\n",
    "ia = IntArray5(5, 1, 7, 33, 99)\n",
    "qsort = libc.qsort\n",
    "qsort.restype = None"
   ]
  },
  {
   "cell_type": "code",
   "execution_count": null,
   "metadata": {},
   "outputs": [],
   "source": [
    "CMPFUNC = CFUNCTYPE(c_int, POINTER(c_int), POINTER(c_int))"
   ]
  },
  {
   "cell_type": "code",
   "execution_count": null,
   "metadata": {},
   "outputs": [],
   "source": [
    "from ctypes.util import find_library"
   ]
  },
  {
   "cell_type": "code",
   "execution_count": null,
   "metadata": {},
   "outputs": [],
   "source": [
    "util.find_library(\"dgilib\")"
   ]
  },
  {
   "cell_type": "code",
   "execution_count": null,
   "metadata": {},
   "outputs": [],
   "source": []
  }
 ],
 "metadata": {
  "kernelspec": {
   "display_name": "SAML11-32",
   "language": "python",
   "name": "saml11-32"
  },
  "language_info": {
   "codemirror_mode": {
    "name": "ipython",
    "version": 3
   },
   "file_extension": ".py",
   "mimetype": "text/x-python",
   "name": "python",
   "nbconvert_exporter": "python",
   "pygments_lexer": "ipython3",
   "version": "3.6.5"
  }
 },
 "nbformat": 4,
 "nbformat_minor": 2
}
