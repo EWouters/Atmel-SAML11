{
 "cells": [
  {
   "cell_type": "markdown",
   "metadata": {},
   "source": [
    "## Import Libraries"
   ]
  },
  {
   "cell_type": "code",
   "execution_count": 38,
   "metadata": {},
   "outputs": [],
   "source": [
    "# %matplotlib ipympl\n",
    "# %matplotlib inline\n",
    "%matplotlib wx"
   ]
  },
  {
   "cell_type": "code",
   "execution_count": 39,
   "metadata": {},
   "outputs": [],
   "source": [
    "import matplotlib.pyplot as plt\n",
    "plt.ion()"
   ]
  },
  {
   "cell_type": "code",
   "execution_count": 40,
   "metadata": {},
   "outputs": [],
   "source": [
    "from pydgilib_extra import *"
   ]
  },
  {
   "cell_type": "markdown",
   "metadata": {},
   "source": [
    "## Data Logging"
   ]
  },
  {
   "cell_type": "markdown",
   "metadata": {},
   "source": [
    "Create a figure for the plot."
   ]
  },
  {
   "cell_type": "code",
   "execution_count": 41,
   "metadata": {},
   "outputs": [],
   "source": [
    "fig = plt.figure(figsize=(10, 6))\n",
    "fig.show()"
   ]
  },
  {
   "cell_type": "markdown",
   "metadata": {},
   "source": [
    "Create the configuration dictionary for `DGILibExtra`."
   ]
  },
  {
   "cell_type": "code",
   "execution_count": 43,
   "metadata": {},
   "outputs": [],
   "source": [
    "config_dict = {\n",
    "    \"interfaces\": [INTERFACE_POWER, INTERFACE_GPIO],\n",
    "    \"power_buffers\": [{\"channel\": CHANNEL_A, \"power_type\": POWER_CURRENT}],\n",
    "    \"read_mode\": [True, True, True, True],\n",
    "    \"loggers\": [LOGGER_OBJECT, LOGGER_PLOT, LOGGER_CSV],\n",
    "    \"plot_pins\": [False, False, True, True],\n",
    "    \"plot_pins_values\": [True, True, True, True],\n",
    "    \"gpio_delay_time\" : 0.0007,\n",
    "    \"plot_pins_method\": \"line\",\n",
    "    \"plot_xmax\": 100,\n",
    "    \"fig\": fig,\n",
    "    \"window_title\": \"Experiment AES Flash\"\n",
    "    \"file_name_base\": \"exeriment_aes_flash\"\n",
    "}"
   ]
  },
  {
   "cell_type": "markdown",
   "metadata": {},
   "source": [
    "Stop criteria to pass to the logger:"
   ]
  },
  {
   "cell_type": "code",
   "execution_count": 44,
   "metadata": {},
   "outputs": [],
   "source": [
    "def stop_fn(logger_data):\n",
    "    return all(logger_data.gpio.values[-1])"
   ]
  },
  {
   "cell_type": "markdown",
   "metadata": {},
   "source": [
    "Perform the measurement."
   ]
  },
  {
   "cell_type": "code",
   "execution_count": 45,
   "metadata": {},
   "outputs": [
    {
     "name": "stderr",
     "output_type": "stream",
     "text": [
      "D:\\Anaconda3\\envs\\SAML11-32\\lib\\site-packages\\matplotlib\\widgets.py:346: UserWarning: Attempting to set identical left==right results\n",
      "in singular transformations; automatically expanding.\n",
      "left=0, right=0\n",
      "  ax.set_xlim((valmin, valmax))\n"
     ]
    }
   ],
   "source": [
    "data = []\n",
    "fig.clf()\n",
    "for ax in fig.get_axes():\n",
    "    ax.cla()\n",
    "\n",
    "with DGILibExtra(**config_dict) as dgilib:\n",
    "    dgilib.device_reset()\n",
    "    dgilib.logger.log(100,stop_fn)\n",
    "    data = dgilib.data"
   ]
  },
  {
   "cell_type": "markdown",
   "metadata": {},
   "source": [
    "## Analysis"
   ]
  },
  {
   "cell_type": "code",
   "execution_count": 46,
   "metadata": {},
   "outputs": [],
   "source": [
    "aes_charge, aes_time = power_and_time_per_pulse(data, 2, 0.01)"
   ]
  },
  {
   "cell_type": "code",
   "execution_count": 47,
   "metadata": {},
   "outputs": [],
   "source": [
    "flash_charge, flash_time = power_and_time_per_pulse(data, 3, 0.01)"
   ]
  },
  {
   "cell_type": "code",
   "execution_count": 48,
   "metadata": {},
   "outputs": [],
   "source": [
    "aes_encrypt_charge = aes_charge[0::2]\n",
    "aes_decrypt_charge = aes_charge[1::2]\n",
    "aes_encrypt_time = aes_time[0::2]\n",
    "aes_decrypt_time = aes_time[1::2]"
   ]
  },
  {
   "cell_type": "code",
   "execution_count": 49,
   "metadata": {},
   "outputs": [],
   "source": [
    "flash_write_charge = flash_charge[0::2]\n",
    "flash_read_charge = flash_charge[1::2]\n",
    "flash_write_time = flash_time[0::2]\n",
    "flash_read_time = flash_time[1::2]"
   ]
  },
  {
   "cell_type": "code",
   "execution_count": 50,
   "metadata": {},
   "outputs": [
    {
     "name": "stdout",
     "output_type": "stream",
     "text": [
      "MAX_AES_BLOCKS: 100\n"
     ]
    }
   ],
   "source": [
    "MBEDTLS_AES_BLOCK_SIZE = 16\n",
    "MIN_AES_BLOCKS = 1\n",
    "num_bytes = range(MIN_AES_BLOCKS * MBEDTLS_AES_BLOCK_SIZE, MBEDTLS_AES_BLOCK_SIZE * (MIN_AES_BLOCKS + len(aes_encrypt_charge)), MBEDTLS_AES_BLOCK_SIZE)\n",
    "print(f\"MAX_AES_BLOCKS: {MIN_AES_BLOCKS + len(aes_encrypt_charge) - 1}\")"
   ]
  },
  {
   "cell_type": "code",
   "execution_count": 51,
   "metadata": {},
   "outputs": [],
   "source": [
    "from lmfit import Model\n",
    "\n",
    "def line(x, slope, intercept):\n",
    "    \"\"\"a line\"\"\"\n",
    "    return [slope*i + intercept for i in x]\n",
    "\n",
    "mod = Model(line)\n",
    "pars = mod.make_params(slope=0, intercept=1)"
   ]
  },
  {
   "cell_type": "code",
   "execution_count": 52,
   "metadata": {},
   "outputs": [
    {
     "name": "stdout",
     "output_type": "stream",
     "text": [
      "[[Model]]\n",
      "    Model(line)\n",
      "[[Fit Statistics]]\n",
      "    # fitting method   = leastsq\n",
      "    # function evals   = 7\n",
      "    # data points      = 100\n",
      "    # variables        = 2\n",
      "    chi-square         = 5.3471e-14\n",
      "    reduced chi-square = 5.4563e-16\n",
      "    Akaike info crit   = -3512.47990\n",
      "    Bayesian info crit = -3507.26956\n",
      "[[Variables]]\n",
      "    slope:      3.2406e-08 +/- 5.0574e-12 (0.02%) (init = 0)\n",
      "    intercept: -5.4403e-09 +/- 4.7069e-09 (86.52%) (init = 1)\n",
      "[[Correlations]] (unreported correlations are < 0.100)\n",
      "    C(slope, intercept) = -0.868\n",
      "\n",
      "[[Model]]\n",
      "    Model(line)\n",
      "[[Fit Statistics]]\n",
      "    # fitting method   = leastsq\n",
      "    # function evals   = 7\n",
      "    # data points      = 100\n",
      "    # variables        = 2\n",
      "    chi-square         = 4.6235e-14\n",
      "    reduced chi-square = 4.7178e-16\n",
      "    Akaike info crit   = -3527.02118\n",
      "    Bayesian info crit = -3521.81084\n",
      "[[Variables]]\n",
      "    slope:      3.3379e-08 +/- 4.7028e-12 (0.01%) (init = 0)\n",
      "    intercept: -1.5040e-09 +/- 4.3770e-09 (291.03%) (init = 1)\n",
      "[[Correlations]] (unreported correlations are < 0.100)\n",
      "    C(slope, intercept) = -0.868\n",
      "\n",
      "[[Model]]\n",
      "    Model(line)\n",
      "[[Fit Statistics]]\n",
      "    # fitting method   = leastsq\n",
      "    # function evals   = 7\n",
      "    # data points      = 100\n",
      "    # variables        = 2\n",
      "    chi-square         = 8.0499e-08\n",
      "    reduced chi-square = 8.2142e-10\n",
      "    Akaike info crit   = -2090.01865\n",
      "    Bayesian info crit = -2084.80831\n",
      "[[Variables]]\n",
      "    slope:      6.1381e-05 +/- 6.2056e-09 (0.01%) (init = 0)\n",
      "    intercept:  2.3419e-05 +/- 5.7754e-06 (24.66%) (init = 1)\n",
      "[[Correlations]] (unreported correlations are < 0.100)\n",
      "    C(slope, intercept) = -0.868\n",
      "\n",
      "[[Model]]\n",
      "    Model(line)\n",
      "[[Fit Statistics]]\n",
      "    # fitting method   = leastsq\n",
      "    # function evals   = 7\n",
      "    # data points      = 100\n",
      "    # variables        = 2\n",
      "    chi-square         = 8.6769e-08\n",
      "    reduced chi-square = 8.8539e-10\n",
      "    Akaike info crit   = -2082.51923\n",
      "    Bayesian info crit = -2077.30889\n",
      "[[Variables]]\n",
      "    slope:      6.4524e-05 +/- 6.4425e-09 (0.01%) (init = 0)\n",
      "    intercept:  2.0063e-05 +/- 5.9960e-06 (29.89%) (init = 1)\n",
      "[[Correlations]] (unreported correlations are < 0.100)\n",
      "    C(slope, intercept) = -0.868\n",
      "\n",
      "[[Model]]\n",
      "    Model(line)\n",
      "[[Fit Statistics]]\n",
      "    # fitting method   = leastsq\n",
      "    # function evals   = 7\n",
      "    # data points      = 100\n",
      "    # variables        = 2\n",
      "    chi-square         = 7.4292e-11\n",
      "    reduced chi-square = 7.5808e-13\n",
      "    Akaike info crit   = -2788.81878\n",
      "    Bayesian info crit = -2783.60844\n",
      "[[Variables]]\n",
      "    slope:      2.2784e-08 +/- 1.8852e-10 (0.83%) (init = 0)\n",
      "    intercept:  1.7201e-06 +/- 1.7545e-07 (10.20%) (init = 1)\n",
      "[[Correlations]] (unreported correlations are < 0.100)\n",
      "    C(slope, intercept) = -0.868\n",
      "\n",
      "[[Model]]\n",
      "    Model(line)\n",
      "[[Fit Statistics]]\n",
      "    # fitting method   = leastsq\n",
      "    # function evals   = 7\n",
      "    # data points      = 100\n",
      "    # variables        = 2\n",
      "    chi-square         = 8.2194e-15\n",
      "    reduced chi-square = 8.3871e-17\n",
      "    Akaike info crit   = -3699.74526\n",
      "    Bayesian info crit = -3694.53492\n",
      "[[Variables]]\n",
      "    slope:      7.8642e-10 +/- 1.9829e-12 (0.25%) (init = 0)\n",
      "    intercept:  7.0784e-10 +/- 1.8454e-09 (260.72%) (init = 1)\n",
      "[[Correlations]] (unreported correlations are < 0.100)\n",
      "    C(slope, intercept) = -0.868\n",
      "\n",
      "[[Model]]\n",
      "    Model(line)\n",
      "[[Fit Statistics]]\n",
      "    # fitting method   = leastsq\n",
      "    # function evals   = 6\n",
      "    # data points      = 100\n",
      "    # variables        = 2\n",
      "    chi-square         = 1.7500e-05\n",
      "    reduced chi-square = 1.7857e-07\n",
      "    Akaike info crit   = -1551.85027\n",
      "    Bayesian info crit = -1546.63993\n",
      "[[Variables]]\n",
      "    slope:      1.2289e-05 +/- 9.1494e-08 (0.74%) (init = 0)\n",
      "    intercept:  8.9425e-04 +/- 8.5152e-05 (9.52%) (init = 1)\n",
      "[[Correlations]] (unreported correlations are < 0.100)\n",
      "    C(slope, intercept) = -0.868\n",
      "\n",
      "[[Model]]\n",
      "    Model(line)\n",
      "[[Fit Statistics]]\n",
      "    # fitting method   = leastsq\n",
      "    # function evals   = 6\n",
      "    # data points      = 100\n",
      "    # variables        = 2\n",
      "    chi-square         = 7.1339e-08\n",
      "    reduced chi-square = 7.2795e-10\n",
      "    Akaike info crit   = -2102.09930\n",
      "    Bayesian info crit = -2096.88896\n",
      "[[Variables]]\n",
      "    slope:      2.1419e-06 +/- 5.8417e-09 (0.27%) (init = 0)\n",
      "    intercept:  9.0622e-06 +/- 5.4368e-06 (59.99%) (init = 1)\n",
      "[[Correlations]] (unreported correlations are < 0.100)\n",
      "    C(slope, intercept) = -0.868\n",
      "\n"
     ]
    }
   ],
   "source": [
    "results = []\n",
    "for y in [aes_encrypt_charge, aes_decrypt_charge, aes_encrypt_time, aes_decrypt_time, flash_write_charge, flash_read_charge, flash_write_time, flash_read_time]:\n",
    "    result = mod.fit(y, pars, x=num_bytes)\n",
    "    print(result.fit_report())\n",
    "    results.append(result)"
   ]
  },
  {
   "cell_type": "code",
   "execution_count": 53,
   "metadata": {},
   "outputs": [],
   "source": [
    "fig2 = plt.figure(figsize=(9, 8))\n",
    "fig2.canvas.set_window_title(\"Analysis AES Flash\")"
   ]
  },
  {
   "cell_type": "code",
   "execution_count": 54,
   "metadata": {},
   "outputs": [],
   "source": [
    "charge_color = 'r'\n",
    "time_color = 'b'"
   ]
  },
  {
   "cell_type": "code",
   "execution_count": 55,
   "metadata": {},
   "outputs": [],
   "source": [
    "fig2.clf()\n",
    "# fig2.suptitle(\"Energy analysis of AES\")\n",
    "ax1 = fig2.add_subplot(1, 1, 1)\n",
    "ax2 = ax1.twinx()\n",
    "ax1.set_xlabel('Number of bytes')\n",
    "ax1.set_ylabel('Charge [mC]', color=charge_color)\n",
    "ax2.set_ylabel('Time [s]', color=time_color)\n",
    "ax1.tick_params('y', colors=charge_color)\n",
    "ax2.tick_params('y', colors=time_color)"
   ]
  },
  {
   "cell_type": "code",
   "execution_count": 56,
   "metadata": {},
   "outputs": [],
   "source": [
    "lines = []\n",
    "lines += ax1.plot(num_bytes, aes_encrypt_charge, charge_color+'-', label='AES Encrypt Charge')\n",
    "lines += ax1.plot(num_bytes, aes_decrypt_charge, charge_color+'--', label='AES Decrypt Charge')\n",
    "lines += ax2.plot(num_bytes, aes_encrypt_time, time_color+'-', label='AES Encrypt Time')\n",
    "lines += ax2.plot(num_bytes, aes_decrypt_time, time_color+'--', label='AES Decrypt Time')\n",
    "lines += ax1.plot(num_bytes, flash_write_charge, charge_color+'-.', label='Flash Write Charge')\n",
    "lines += ax1.plot(num_bytes, flash_read_charge, charge_color+':', label='Flash Read Charge')\n",
    "lines += ax2.plot(num_bytes, flash_write_time, time_color+'-.', label='Flash Write Time')\n",
    "lines += ax2.plot(num_bytes, flash_read_time, time_color+':', label='Flash Read Time')\n",
    "ax1.legend(handles=lines)\n",
    "# [aes_encrypt_charge, aes_decrypt_charge, aes_encrypt_time, aes_decrypt_time, flash_write_charge, flash_read_charge, flash_write_time, flash_read_time]:\n",
    "ax1.set_title(f\"AES Encrypt Charge: Base {results[0].params['intercept'].value:.03} mC plus {results[0].params['slope'].value:.03} mC per byte\\n\" +\n",
    "             f\"AES Decrypt Charge: Base {results[1].params['intercept'].value:.03} mC plus {results[1].params['slope'].value:.03} mC per byte\\n\" +\n",
    "             f\"AES Encrypt Time: Base {results[2].params['intercept'].value:.03} s plus {results[2].params['slope'].value:.03} s per byte\\n\" +\n",
    "             f\"AES Decrypt Time: Base {results[3].params['intercept'].value:.03} s plus {results[3].params['slope'].value:.03} s per byte\\n\" +\n",
    "             f\"Flash Write Charge: Base {results[4].params['intercept'].value:.03} mC plus {results[4].params['slope'].value:.03} mC per byte\\n\" +\n",
    "             f\"Flash Read Charge: Base {results[5].params['intercept'].value:.03} mC plus {results[5].params['slope'].value:.03} mC per byte\\n\" +\n",
    "             f\"Flash Write Time: Base {results[6].params['intercept'].value:.03} s plus {results[6].params['slope'].value:.03} s per byte\\n\" +\n",
    "             f\"Flash Read Time: Base {results[7].params['intercept'].value:.03} s plus {results[7].params['slope'].value:.03} s per byte\\n\")\n",
    "fig2.tight_layout()\n",
    "fig2.show()"
   ]
  },
  {
   "cell_type": "code",
   "execution_count": null,
   "metadata": {},
   "outputs": [],
   "source": [
    "# data"
   ]
  }
 ],
 "metadata": {
  "kernelspec": {
   "display_name": "Python [conda env:SAML11-32]",
   "language": "python",
   "name": "conda-env-SAML11-32-py"
  },
  "language_info": {
   "codemirror_mode": {
    "name": "ipython",
    "version": 3
   },
   "file_extension": ".py",
   "mimetype": "text/x-python",
   "name": "python",
   "nbconvert_exporter": "python",
   "pygments_lexer": "ipython3",
   "version": "3.6.8"
  }
 },
 "nbformat": 4,
 "nbformat_minor": 2
}
