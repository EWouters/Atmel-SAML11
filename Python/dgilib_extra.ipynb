{
 "cells": [
  {
   "cell_type": "markdown",
   "metadata": {},
   "source": [
    "```\n",
    "PS C:\\Users\\Erik\\Desktop\\GitHub\\Atmel-SAML11\\Python\\pydgilib> \n",
    "    ..\\..\\..\\..\\..\\Miniconda3\\envs\\SAML11-32\\python.exe .\\setup.py test\n",
    "PS C:\\Users\\Erik\\Desktop\\GitHub\\Atmel-SAML11\\Python\\pydgilib> \n",
    "    ..\\..\\..\\..\\..\\Miniconda3\\envs\\SAML11-32\\Scripts\\pip.exe install -Ue .\n",
    "```"
   ]
  },
  {
   "cell_type": "code",
   "execution_count": 1,
   "metadata": {},
   "outputs": [],
   "source": [
    "from pydgilib_extra import *"
   ]
  },
  {
   "cell_type": "code",
   "execution_count": 2,
   "metadata": {},
   "outputs": [],
   "source": [
    "from time import sleep"
   ]
  },
  {
   "cell_type": "code",
   "execution_count": 3,
   "metadata": {},
   "outputs": [
    {
     "name": "stdout",
     "output_type": "stream",
     "text": [
      "14000 17\n"
     ]
    }
   ],
   "source": [
    "data = []\n",
    "data_obj = []\n",
    "\n",
    "config_dict = {\n",
    "    \"power_buffers\": [{\"channel\": CHANNEL_A, \"power_type\": POWER_CURRENT}],\n",
    "    \"read_mode\": [True, True, True, True],\n",
    "    \"write_mode\": [False, False, False, False],\n",
    "    \"loggers\": [LOGGER_CSV, LOGGER_OBJECT],\n",
    "    \"verbose\": 0,\n",
    "}\n",
    "\n",
    "with DGILibExtra(**config_dict) as dgilib:\n",
    "    data = dgilib.logger(1)\n",
    "    data_obj = dgilib.data\n",
    "    print(len(data[INTERFACE_POWER][0]) ,len(data[INTERFACE_GPIO][0]))"
   ]
  },
  {
   "cell_type": "code",
   "execution_count": 4,
   "metadata": {},
   "outputs": [
    {
     "data": {
      "text/plain": [
       "True"
      ]
     },
     "execution_count": 4,
     "metadata": {},
     "output_type": "execute_result"
    }
   ],
   "source": [
    "len(data) == len(data_obj) and ...\n",
    "len(data[INTERFACE_POWER]) == len(data_obj[INTERFACE_POWER]) and ...\n",
    "len(data[INTERFACE_GPIO]) == len(data_obj[INTERFACE_GPIO]) and ...\n",
    "data[INTERFACE_POWER][0] == data_obj[INTERFACE_POWER][0] and ...\n",
    "data[INTERFACE_POWER][1] == data_obj[INTERFACE_POWER][1] and ...\n",
    "data[INTERFACE_POWER][0] == data_obj[INTERFACE_GPIO][0] and ...\n",
    "data[INTERFACE_GPIO][1] == data_obj[INTERFACE_GPIO][1]"
   ]
  },
  {
   "cell_type": "code",
   "execution_count": 5,
   "metadata": {},
   "outputs": [
    {
     "data": {
      "text/plain": [
       "0.0003074650012422353"
      ]
     },
     "execution_count": 5,
     "metadata": {},
     "output_type": "execute_result"
    }
   ],
   "source": [
    "data[INTERFACE_POWER][1][1]"
   ]
  },
  {
   "cell_type": "code",
   "execution_count": null,
   "metadata": {},
   "outputs": [],
   "source": []
  },
  {
   "cell_type": "code",
   "execution_count": 6,
   "metadata": {},
   "outputs": [],
   "source": [
    "%matplotlib ipympl"
   ]
  },
  {
   "cell_type": "code",
   "execution_count": 7,
   "metadata": {},
   "outputs": [],
   "source": [
    "import matplotlib.pyplot as plt"
   ]
  },
  {
   "cell_type": "code",
   "execution_count": 8,
   "metadata": {},
   "outputs": [
    {
     "name": "stderr",
     "output_type": "stream",
     "text": [
      "C:\\Users\\Erik\\Miniconda3\\envs\\SAML11-32\\lib\\site-packages\\matplotlib\\__init__.py:942: MatplotlibDeprecationWarning: nbagg.transparent is deprecated and ignored. Use figure.facecolor instead.\n",
      "  mplDeprecation)\n"
     ]
    },
    {
     "data": {
      "application/vnd.jupyter.widget-view+json": {
       "model_id": "2e08b84fa5db4fe4a14b142a992cc4b8",
       "version_major": 2,
       "version_minor": 0
      },
      "text/plain": [
       "FigureCanvasNbAgg()"
      ]
     },
     "metadata": {},
     "output_type": "display_data"
    }
   ],
   "source": [
    "plt.figure()\n",
    "plt.plot(*data[INTERFACE_POWER])\n",
    "max_data = max(data[INTERFACE_POWER][1])\n",
    "for pin in range(4):\n",
    "    plt.plot(data[INTERFACE_GPIO][0], [d[pin]*max_data for d in data[INTERFACE_GPIO][1]])\n",
    "plt.show()"
   ]
  },
  {
   "cell_type": "code",
   "execution_count": 9,
   "metadata": {},
   "outputs": [
    {
     "name": "stderr",
     "output_type": "stream",
     "text": [
      "C:\\Users\\Erik\\Miniconda3\\envs\\SAML11-32\\lib\\site-packages\\matplotlib\\__init__.py:942: MatplotlibDeprecationWarning: nbagg.transparent is deprecated and ignored. Use figure.facecolor instead.\n",
      "  mplDeprecation)\n"
     ]
    },
    {
     "data": {
      "application/vnd.jupyter.widget-view+json": {
       "model_id": "0603767081434bde9597d887f97aed54",
       "version_major": 2,
       "version_minor": 0
      },
      "text/plain": [
       "FigureCanvasNbAgg()"
      ]
     },
     "metadata": {},
     "output_type": "display_data"
    }
   ],
   "source": [
    "# GPIO events should probably be plotted as arrows.\n",
    "plt.figure()\n",
    "plt.plot(*data[INTERFACE_GPIO])\n",
    "plt.show()"
   ]
  },
  {
   "cell_type": "code",
   "execution_count": 3,
   "metadata": {},
   "outputs": [
    {
     "name": "stdout",
     "output_type": "stream",
     "text": [
      "TODO: Create axes, or what if they were parsed?\n",
      "TODO: Update plot\n"
     ]
    }
   ],
   "source": [
    "data = []\n",
    "\n",
    "config_dict = {\n",
    "    \"power_buffers\": [{\"channel\": CHANNEL_A, \"power_type\": POWER_CURRENT}],\n",
    "    \"read_mode\": [True, True, True, True],\n",
    "    \"write_mode\": [False, False, False, False],\n",
    "    \"loggers\": [LOGGER_CSV, LOGGER_OBJECT, LOGGER_PLOT],\n",
    "    \"verbose\": 0,\n",
    "}\n",
    "\n",
    "with DGILibExtra(**config_dict) as dgilib:\n",
    "    data = dgilib.logger(1)"
   ]
  },
  {
   "cell_type": "code",
   "execution_count": 4,
   "metadata": {},
   "outputs": [],
   "source": [
    "data"
   ]
  }
 ],
 "metadata": {
  "kernelspec": {
   "display_name": "SAML11-32",
   "language": "python",
   "name": "saml11-32"
  },
  "language_info": {
   "codemirror_mode": {
    "name": "ipython",
    "version": 3
   },
   "file_extension": ".py",
   "mimetype": "text/x-python",
   "name": "python",
   "nbconvert_exporter": "python",
   "pygments_lexer": "ipython3",
   "version": "3.6.5"
  }
 },
 "nbformat": 4,
 "nbformat_minor": 2
}
