{
 "cells": [
  {
   "cell_type": "code",
   "execution_count": 1,
   "metadata": {},
   "outputs": [],
   "source": [
    "from os import path\n",
    "import subprocess"
   ]
  },
  {
   "cell_type": "code",
   "execution_count": 11,
   "metadata": {},
   "outputs": [],
   "source": [
    "def compile_and_program(project_path, device_name=\"ATSAML11E16A\", verbose=0, clean=False, build=True, erase=True, program=True, verify=True, jobs=8, tool=\"EDBG\", interface=\"SWD\", atmel_studio_path=\"C:\\\\Program Files (x86)\\\\Atmel\\\\Studio\", configuration=\"Debug\", device_sn=None):\n",
    "    # NOTE: if multiple devices are connected the serial number needs to be supplied to atprogram using the -s flag.\n",
    "    # if path.split\n",
    "    make_path = path.join(atmel_studio_path, \"7.0\\\\shellutils\\\\make.exe\")\n",
    "    atprogram_path = path.join(atmel_studio_path, \"7.0\\\\atbackend\\\\atprogram.exe\")\n",
    "    stdout = subprocess.PIPE if verbose else None\n",
    "    if clean:\n",
    "        res = subprocess.run([make_path, \"clean\"], cwd=path.join(project_path, configuration), stdout=stdout)\n",
    "        if verbose: print(res.stdout.decode())\n",
    "        if res.returncode: return res.returncode\n",
    "    if build:\n",
    "        res = subprocess.run([make_path, \"all\", \"--jobs\", str(jobs), \"--output-sync\"], cwd=path.join(project_path, configuration), stdout=stdout)\n",
    "        if verbose: print(res.stdout.decode())\n",
    "        if res.returncode: return res.returncode\n",
    "    if erase or program or verify:\n",
    "        atprogram_base_command = [atprogram_path] + [\"-v\"]*verbose + [\"-t\", tool, \"-i\", interface, \"-d\", device_name] + [\"-s\", device_sn]*(device_sn is not None)\n",
    "    if erase:\n",
    "        res = subprocess.run(atprogram_base_command + [\"chiperase\"], stdout=stdout)\n",
    "        if verbose: print(res.stdout.decode())\n",
    "        if res.returncode: return res.returncode\n",
    "    if program or verify:\n",
    "        if path.splitext(project_path)[1] is \".elf\":\n",
    "            elf_file_path = project_path\n",
    "        else: \n",
    "            elf_file_path = path.join(project_path, configuration, path.split(project_path)[1]) + \".elf\"\n",
    "    if program:\n",
    "        res = subprocess.run(atprogram_base_command + [\"program\", \"-f\", elf_file_path], stdout=stdout)\n",
    "        if verbose: print(res.stdout.decode())\n",
    "        if res.returncode: return res.returncode\n",
    "    if verify:\n",
    "        res = subprocess.run(atprogram_base_command + [\"verify\", \"-f\", elf_file_path], stdout=stdout)\n",
    "        if verbose: print(res.stdout.decode())\n",
    "#         if res.returncode: return res.returncode\n",
    "    if verbose >= 2:\n",
    "        res = subprocess.run(atprogram_base_command + [\"info\"], stdout=stdout)\n",
    "        if verbose: print(res.stdout.decode())\n",
    "        if res.returncode: return res.returncode\n",
    "    return 0"
   ]
  },
  {
   "cell_type": "code",
   "execution_count": 12,
   "metadata": {},
   "outputs": [],
   "source": [
    "project_path = \"C:\\\\Users\\\\erikw_000\\\\Documents\\\\GitHub\\\\Atmel-SAML11\\\\Python\\\\pydgilib\\\\UnitTest\\\\UnitTest\""
   ]
  },
  {
   "cell_type": "code",
   "execution_count": 14,
   "metadata": {},
   "outputs": [
    {
     "name": "stdout",
     "output_type": "stream",
     "text": [
      "make: Nothing to be done for 'all'.\n",
      "\n",
      "Firmware check OK\n",
      "Chiperase completed successfully\n",
      "\n",
      "Firmware check OK\n",
      "Programming completed successfully.\n",
      "\n",
      "Firmware check OK\n",
      "\n"
     ]
    },
    {
     "data": {
      "text/plain": [
       "0"
      ]
     },
     "execution_count": 14,
     "metadata": {},
     "output_type": "execute_result"
    }
   ],
   "source": [
    "compile_and_program(project_path, verbose=1)"
   ]
  },
  {
   "cell_type": "code",
   "execution_count": null,
   "metadata": {},
   "outputs": [],
   "source": []
  },
  {
   "cell_type": "code",
   "execution_count": null,
   "metadata": {},
   "outputs": [],
   "source": []
  },
  {
   "cell_type": "code",
   "execution_count": null,
   "metadata": {},
   "outputs": [],
   "source": []
  },
  {
   "cell_type": "code",
   "execution_count": null,
   "metadata": {},
   "outputs": [],
   "source": []
  },
  {
   "cell_type": "code",
   "execution_count": null,
   "metadata": {},
   "outputs": [],
   "source": []
  },
  {
   "cell_type": "code",
   "execution_count": null,
   "metadata": {},
   "outputs": [],
   "source": []
  },
  {
   "cell_type": "code",
   "execution_count": null,
   "metadata": {},
   "outputs": [],
   "source": []
  },
  {
   "cell_type": "code",
   "execution_count": null,
   "metadata": {},
   "outputs": [],
   "source": []
  },
  {
   "cell_type": "code",
   "execution_count": null,
   "metadata": {},
   "outputs": [],
   "source": []
  },
  {
   "cell_type": "code",
   "execution_count": null,
   "metadata": {},
   "outputs": [],
   "source": []
  },
  {
   "cell_type": "code",
   "execution_count": null,
   "metadata": {},
   "outputs": [],
   "source": []
  },
  {
   "cell_type": "code",
   "execution_count": null,
   "metadata": {},
   "outputs": [],
   "source": []
  },
  {
   "cell_type": "markdown",
   "metadata": {},
   "source": [
    "```\n",
    ">atprogram -d ATSAML11E16A -t EDBG -i SWD write --values 0x00\n",
    "Firmware check OK\n",
    "Write completed successfully.\n",
    "```"
   ]
  },
  {
   "cell_type": "markdown",
   "metadata": {},
   "source": [
    "```\n",
    ">atprogram -d ATSAML11E16A -t EDBG -i SWD exitcode\n",
    "Exit codes for atprogram\n",
    "\n",
    "atprogram is the Atmel Studio Command Line Interface which is deployed with\n",
    "Atmel Studio 6 as well as in a standalone package.  It replaces the individual\n",
    "Tools' command line interfaces, including:\n",
    "  - Stk500.exe\n",
    "  - Stk600.exe\n",
    "  - jtagiceii.exe\n",
    "  - AVRDragon.exe\n",
    "  - avrone.exe\n",
    "\n",
    "atprogram also replaces the command line interface to UC3 devices- avr32program\n",
    "atprogram also provides command line access to JTAGICE3 and SAMICE.\n",
    "\n",
    "atprogram makes use of the Atmel Studio backend, which means that all tools\n",
    "and devices supported by Atmel Studio are supported by atprogram.exe\n",
    "\n",
    "This guide is intended to be used as a reference when using atprogram\n",
    "in script utilities.\n",
    "\n",
    "Code ranges:\n",
    " 0-9         Exit codes that is locked or unknown\n",
    " 10-50       Exit codes due to errors in atprogram itself\n",
    " 100-200     Exit codes from atbackend\n",
    "\n",
    "\n",
    "Exits Codes:\n",
    "\n",
    "0    Success                       The program executed with no errors\n",
    "1    Unexpected Error              A run time error that was not anticipated\n",
    "2    User Interrupt Error          A user interrupted the program\n",
    "10   Command Error                 Exception which indicates that a command has\n",
    "                                   failed for some internal reason.\n",
    "11   Command Argument Error        Raised when there are error in the arguments\n",
    "                                   passed to the command\n",
    "12   Missing Command Error         An error which occurs if there is no command\n",
    "13   Command Parser Error          Error when parsing command line arguments.\n",
    "14   Tool Error                    Exception raised when there is an error with\n",
    "                                   the setup or use of a tool\n",
    "15   Resource Error                Exception raised when there is an error in\n",
    "                                   creating or serving a resource.\n",
    "16   Tcf Error                     A TCF command returned an error.\n",
    "17   Timeout Error                 Error because of an timeout.\n",
    "18   Missing Or Wrong Input Error  An error caused by incomplete information\n",
    "                                   specified by user\n",
    "19   Old Fw Exception              Firmware must be upgraded\n",
    "20   Backend Creation Error        Exception raised when there is an error in\n",
    "                                   creating or serving a resource.\n",
    "21   Options Parse Error           Error in parsing an option.\n",
    "22   Json Parse Error              Exception which can be thrown if a TCF\n",
    "                                   response could not be parsed.\n",
    "23   Verify Error                  An error given when failing to verify memory\n",
    "                                   content\n",
    "```"
   ]
  },
  {
   "cell_type": "code",
   "execution_count": null,
   "metadata": {},
   "outputs": [],
   "source": []
  }
 ],
 "metadata": {
  "kernelspec": {
   "display_name": "Python [conda env:SAML11-32]",
   "language": "python",
   "name": "conda-env-SAML11-32-py"
  },
  "language_info": {
   "codemirror_mode": {
    "name": "ipython",
    "version": 3
   },
   "file_extension": ".py",
   "mimetype": "text/x-python",
   "name": "python",
   "nbconvert_exporter": "python",
   "pygments_lexer": "ipython3",
   "version": "3.6.8"
  }
 },
 "nbformat": 4,
 "nbformat_minor": 2
}
