{
 "cells": [
  {
   "cell_type": "markdown",
   "metadata": {},
   "source": [
    "## Import Libraries"
   ]
  },
  {
   "cell_type": "code",
   "execution_count": 18,
   "metadata": {},
   "outputs": [],
   "source": [
    "# %matplotlib ipympl\n",
    "# %matplotlib inline\n",
    "%matplotlib wx"
   ]
  },
  {
   "cell_type": "code",
   "execution_count": 19,
   "metadata": {},
   "outputs": [],
   "source": [
    "import matplotlib.pyplot as plt\n",
    "plt.ion()"
   ]
  },
  {
   "cell_type": "code",
   "execution_count": 20,
   "metadata": {},
   "outputs": [],
   "source": [
    "from pydgilib_extra import *"
   ]
  },
  {
   "cell_type": "markdown",
   "metadata": {},
   "source": [
    "## Data Logging"
   ]
  },
  {
   "cell_type": "markdown",
   "metadata": {},
   "source": [
    "Create a figure for the plot."
   ]
  },
  {
   "cell_type": "code",
   "execution_count": 4,
   "metadata": {},
   "outputs": [],
   "source": [
    "fig = plt.figure(figsize=(10, 6))\n",
    "fig.show()"
   ]
  },
  {
   "cell_type": "markdown",
   "metadata": {},
   "source": [
    "Create the configuration dictionary for `DGILibExtra`."
   ]
  },
  {
   "cell_type": "code",
   "execution_count": 5,
   "metadata": {},
   "outputs": [],
   "source": [
    "config_dict = {\n",
    "    \"interfaces\": [INTERFACE_POWER, INTERFACE_GPIO],\n",
    "    \"power_buffers\": [{\"channel\": CHANNEL_A, \"power_type\": POWER_CURRENT}],\n",
    "    \"read_mode\": [True, True, True, True],\n",
    "    \"loggers\": [LOGGER_OBJECT, LOGGER_PLOT, LOGGER_CSV],\n",
    "    \"plot_pins\": [False, False, True, True],\n",
    "    \"plot_pins_values\": [True, True, True, True],\n",
    "    \"gpio_delay_time\" : 0.0007,\n",
    "    \"plot_pins_method\": \"line\",\n",
    "    \"plot_xmax\": 15,\n",
    "    \"fig\": fig,\n",
    "    \"window_title\": \"Experiment AES\",\n",
    "    \"file_name_base\": \"experiment_aes\"\n",
    "}"
   ]
  },
  {
   "cell_type": "markdown",
   "metadata": {},
   "source": [
    "Stop criteria to pass to the logger:"
   ]
  },
  {
   "cell_type": "code",
   "execution_count": 6,
   "metadata": {},
   "outputs": [],
   "source": [
    "#MIN_LOG_DURATION = 0.5 # seconds\n",
    "def stop_fn(logger_data):\n",
    "    return all(logger_data.gpio.values[-1]) #and logger_data.gpio.timestamps[-1] > MIN_LOG_DURATION\n",
    "# def stop_fn(logger_data):\n",
    "#     return len(logger_data.gpio) > 30"
   ]
  },
  {
   "cell_type": "markdown",
   "metadata": {},
   "source": [
    "Perform the measurement."
   ]
  },
  {
   "cell_type": "code",
   "execution_count": 7,
   "metadata": {},
   "outputs": [
    {
     "name": "stderr",
     "output_type": "stream",
     "text": [
      "D:\\Anaconda3\\envs\\SAML11-32\\lib\\site-packages\\matplotlib\\widgets.py:346: UserWarning: Attempting to set identical left==right results\n",
      "in singular transformations; automatically expanding.\n",
      "left=0, right=0\n",
      "  ax.set_xlim((valmin, valmax))\n"
     ]
    }
   ],
   "source": [
    "data = []\n",
    "fig.clf()\n",
    "for ax in fig.get_axes():\n",
    "    ax.cla()\n",
    "\n",
    "with DGILibExtra(**config_dict) as dgilib:\n",
    "    dgilib.device_reset()\n",
    "#     data = dgilib.logger.log(config_dict[\"plot_xmax\"],stop_fn)\n",
    "    dgilib.logger.log(100,stop_fn)\n",
    "    data = dgilib.data"
   ]
  },
  {
   "cell_type": "markdown",
   "metadata": {},
   "source": [
    "## Analysis"
   ]
  },
  {
   "cell_type": "code",
   "execution_count": 8,
   "metadata": {},
   "outputs": [],
   "source": [
    "encrypt_charge, encrypt_time = power_and_time_per_pulse(data, 2, 0.01)"
   ]
  },
  {
   "cell_type": "code",
   "execution_count": 9,
   "metadata": {},
   "outputs": [],
   "source": [
    "decrypt_charge, decrypt_time = power_and_time_per_pulse(data, 3, 0.01)"
   ]
  },
  {
   "cell_type": "code",
   "execution_count": 10,
   "metadata": {},
   "outputs": [
    {
     "name": "stdout",
     "output_type": "stream",
     "text": [
      "MAX_AES_BLOCKS: 100\n"
     ]
    }
   ],
   "source": [
    "MBEDTLS_AES_BLOCK_SIZE = 16\n",
    "MIN_AES_BLOCKS = 1\n",
    "num_bytes = range(MIN_AES_BLOCKS * MBEDTLS_AES_BLOCK_SIZE, MBEDTLS_AES_BLOCK_SIZE * (MIN_AES_BLOCKS + len(encrypt_charge)), MBEDTLS_AES_BLOCK_SIZE)\n",
    "print(f\"MAX_AES_BLOCKS: {MIN_AES_BLOCKS + len(encrypt_charge) - 1}\")"
   ]
  },
  {
   "cell_type": "code",
   "execution_count": 11,
   "metadata": {},
   "outputs": [],
   "source": [
    "from lmfit import Model\n",
    "\n",
    "def line(x, slope, intercept):\n",
    "    \"\"\"a line\"\"\"\n",
    "    return [slope*i + intercept for i in x]\n",
    "\n",
    "mod = Model(line)\n",
    "pars = mod.make_params(slope=0, intercept=1)"
   ]
  },
  {
   "cell_type": "code",
   "execution_count": 12,
   "metadata": {},
   "outputs": [
    {
     "name": "stdout",
     "output_type": "stream",
     "text": [
      "[[Model]]\n",
      "    Model(line)\n",
      "[[Fit Statistics]]\n",
      "    # fitting method   = leastsq\n",
      "    # function evals   = 7\n",
      "    # data points      = 100\n",
      "    # variables        = 2\n",
      "    chi-square         = 6.5784e-14\n",
      "    reduced chi-square = 6.7127e-16\n",
      "    Akaike info crit   = -3491.75645\n",
      "    Bayesian info crit = -3486.54611\n",
      "[[Variables]]\n",
      "    slope:      3.2411e-08 +/- 5.6098e-12 (0.02%) (init = 0)\n",
      "    intercept: -1.7168e-08 +/- 5.2209e-09 (30.41%) (init = 1)\n",
      "[[Correlations]] (unreported correlations are < 0.100)\n",
      "    C(slope, intercept) = -0.868\n",
      "\n",
      "[[Model]]\n",
      "    Model(line)\n",
      "[[Fit Statistics]]\n",
      "    # fitting method   = leastsq\n",
      "    # function evals   = 7\n",
      "    # data points      = 100\n",
      "    # variables        = 2\n",
      "    chi-square         = 4.9986e-14\n",
      "    reduced chi-square = 5.1007e-16\n",
      "    Akaike info crit   = -3519.21958\n",
      "    Bayesian info crit = -3514.00924\n",
      "[[Variables]]\n",
      "    slope:      3.3401e-08 +/- 4.8900e-12 (0.01%) (init = 0)\n",
      "    intercept: -1.5214e-08 +/- 4.5510e-09 (29.91%) (init = 1)\n",
      "[[Correlations]] (unreported correlations are < 0.100)\n",
      "    C(slope, intercept) = -0.868\n",
      "\n",
      "[[Model]]\n",
      "    Model(line)\n",
      "[[Fit Statistics]]\n",
      "    # fitting method   = leastsq\n",
      "    # function evals   = 6\n",
      "    # data points      = 100\n",
      "    # variables        = 2\n",
      "    chi-square         = 6.3079e-08\n",
      "    reduced chi-square = 6.4366e-10\n",
      "    Akaike info crit   = -2114.40532\n",
      "    Bayesian info crit = -2109.19498\n",
      "[[Variables]]\n",
      "    slope:      6.1395e-05 +/- 5.4932e-09 (0.01%) (init = 0)\n",
      "    intercept:  1.8610e-05 +/- 5.1124e-06 (27.47%) (init = 1)\n",
      "[[Correlations]] (unreported correlations are < 0.100)\n",
      "    C(slope, intercept) = -0.868\n",
      "\n",
      "[[Model]]\n",
      "    Model(line)\n",
      "[[Fit Statistics]]\n",
      "    # fitting method   = leastsq\n",
      "    # function evals   = 6\n",
      "    # data points      = 100\n",
      "    # variables        = 2\n",
      "    chi-square         = 6.6168e-08\n",
      "    reduced chi-square = 6.7518e-10\n",
      "    Akaike info crit   = -2109.62382\n",
      "    Bayesian info crit = -2104.41348\n",
      "[[Variables]]\n",
      "    slope:      6.4540e-05 +/- 5.6261e-09 (0.01%) (init = 0)\n",
      "    intercept:  1.5356e-05 +/- 5.2361e-06 (34.10%) (init = 1)\n",
      "[[Correlations]] (unreported correlations are < 0.100)\n",
      "    C(slope, intercept) = -0.868\n",
      "\n"
     ]
    }
   ],
   "source": [
    "results = []\n",
    "for y in [encrypt_charge, decrypt_charge, encrypt_time, decrypt_time]:\n",
    "    result = mod.fit(y, pars, x=num_bytes)\n",
    "    print(result.fit_report())\n",
    "    results.append(result)"
   ]
  },
  {
   "cell_type": "code",
   "execution_count": 13,
   "metadata": {},
   "outputs": [],
   "source": [
    "fig2 = plt.figure(figsize=(9, 6))\n",
    "fig2.canvas.set_window_title(\"Analysis AES\")"
   ]
  },
  {
   "cell_type": "code",
   "execution_count": 14,
   "metadata": {},
   "outputs": [],
   "source": [
    "charge_color = 'r'\n",
    "time_color = 'b'"
   ]
  },
  {
   "cell_type": "code",
   "execution_count": 15,
   "metadata": {},
   "outputs": [],
   "source": [
    "fig2.clf()\n",
    "# fig2.suptitle(\"Energy analysis of AES\")\n",
    "ax1 = fig2.add_subplot(1, 1, 1)\n",
    "ax2 = ax1.twinx()\n",
    "ax1.set_xlabel('Number of bytes')\n",
    "ax1.set_ylabel('Total Charge [C]', color=charge_color)\n",
    "ax2.set_ylabel('Time [s]', color=time_color)\n",
    "ax1.tick_params('y', colors=charge_color)\n",
    "ax2.tick_params('y', colors=time_color)"
   ]
  },
  {
   "cell_type": "code",
   "execution_count": 16,
   "metadata": {},
   "outputs": [],
   "source": [
    "lines = []\n",
    "lines += ax1.plot(num_bytes, encrypt_charge, charge_color+'-', label='Encrypt Charge')\n",
    "lines += ax1.plot(num_bytes, decrypt_charge, charge_color+'--', label='Decrypt Charge')\n",
    "lines += ax2.plot(num_bytes, encrypt_time, time_color+'-', label='Encrypt Time')\n",
    "lines += ax2.plot(num_bytes, decrypt_time, time_color+'--', label='Decrypt Time')\n",
    "ax1.legend(handles=lines)\n",
    "ax1.set_title(f\"Encrypt Charge: Base {results[0].params['intercept'].value:.03} C plus {results[0].params['slope'].value:.03} mC per byte\\n\" +\n",
    "             f\"Decrypt Charge: Base {results[1].params['intercept'].value:.03} C plus {results[1].params['slope'].value:.03} mC per byte\\n\" +\n",
    "             f\"Encrypt Time: Base {results[2].params['intercept'].value:.03} s plus {results[2].params['slope'].value:.03} s per byte\\n\" +\n",
    "             f\"Decrypt Time: Base {results[3].params['intercept'].value:.03} s plus {results[3].params['slope'].value:.03} s per byte\\n\")\n",
    "fig2.tight_layout()\n",
    "fig2.show()"
   ]
  },
  {
   "cell_type": "code",
   "execution_count": 17,
   "metadata": {},
   "outputs": [],
   "source": [
    "# data"
   ]
  }
 ],
 "metadata": {
  "kernelspec": {
   "display_name": "Python [conda env:SAML11-32]",
   "language": "python",
   "name": "conda-env-SAML11-32-py"
  },
  "language_info": {
   "codemirror_mode": {
    "name": "ipython",
    "version": 3
   },
   "file_extension": ".py",
   "mimetype": "text/x-python",
   "name": "python",
   "nbconvert_exporter": "python",
   "pygments_lexer": "ipython3",
   "version": "3.6.8"
  }
 },
 "nbformat": 4,
 "nbformat_minor": 2
}
