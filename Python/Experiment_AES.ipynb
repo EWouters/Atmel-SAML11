{
 "cells": [
  {
   "cell_type": "markdown",
   "metadata": {},
   "source": [
    "## Import Libraries"
   ]
  },
  {
   "cell_type": "code",
   "execution_count": 1,
   "metadata": {},
   "outputs": [],
   "source": [
    "from time import sleep"
   ]
  },
  {
   "cell_type": "code",
   "execution_count": 9,
   "metadata": {},
   "outputs": [],
   "source": [
    "%matplotlib ipympl\n",
    "# %matplotlib inline"
   ]
  },
  {
   "cell_type": "code",
   "execution_count": 10,
   "metadata": {},
   "outputs": [],
   "source": [
    "import matplotlib.pyplot as plt"
   ]
  },
  {
   "cell_type": "code",
   "execution_count": 11,
   "metadata": {},
   "outputs": [],
   "source": [
    "from pydgilib_extra import *"
   ]
  },
  {
   "cell_type": "markdown",
   "metadata": {},
   "source": [
    "Set the path to `dgilib.dll`."
   ]
  },
  {
   "cell_type": "code",
   "execution_count": 12,
   "metadata": {},
   "outputs": [],
   "source": [
    "dgilib_path = \"C:\\\\Users\\\\erikw_000\\\\Documents\\\\GitHub\\\\Atmel-SAML11\\\\Python\\\\dgilib.dll\""
   ]
  },
  {
   "cell_type": "markdown",
   "metadata": {},
   "source": [
    "## Data Logging"
   ]
  },
  {
   "cell_type": "markdown",
   "metadata": {},
   "source": [
    "Create a figure for the plot."
   ]
  },
  {
   "cell_type": "code",
   "execution_count": 13,
   "metadata": {},
   "outputs": [
    {
     "data": {
      "text/plain": [
       "<Figure size 720x432 with 0 Axes>"
      ]
     },
     "metadata": {},
     "output_type": "display_data"
    }
   ],
   "source": [
    "fig = plt.figure(figsize=(10, 6))"
   ]
  },
  {
   "cell_type": "markdown",
   "metadata": {},
   "source": [
    "Create the configuration dictionary for `DGILibExtra`."
   ]
  },
  {
   "cell_type": "code",
   "execution_count": 14,
   "metadata": {},
   "outputs": [],
   "source": [
    "config_dict = {\n",
    "    \"power_buffers\": [{\"channel\": CHANNEL_A, \"power_type\": POWER_CURRENT}],\n",
    "    \"read_mode\": [True, True, True, True],\n",
    "    \"write_mode\": [False, False, False, False],\n",
    "    \"loggers\": [LOGGER_OBJECT, LOGGER_PLOT, LOGGER_CSV],\n",
    "    \"plot_pins\": [False, False, True, True],\n",
    "    \"augment_gpio\" : True,\n",
    "    \"fig\": fig,\n",
    "    \"verbose\": 0,\n",
    "}"
   ]
  },
  {
   "cell_type": "markdown",
   "metadata": {},
   "source": [
    "Perform the measurement."
   ]
  },
  {
   "cell_type": "code",
   "execution_count": 15,
   "metadata": {},
   "outputs": [
    {
     "name": "stderr",
     "output_type": "stream",
     "text": [
      "D:\\Anaconda3\\envs\\SAML11-32\\lib\\site-packages\\matplotlib\\figure.py:445: UserWarning: Matplotlib is currently using module://ipykernel.pylab.backend_inline, which is a non-GUI backend, so cannot show the figure.\n",
      "  % get_backend())\n"
     ]
    }
   ],
   "source": [
    "data = []\n",
    "fig.clf()\n",
    "\n",
    "with DGILibExtra(dgilib_path, **config_dict) as dgilib:\n",
    "    dgilib.device_reset()\n",
    "    dgilib.logger_start()\n",
    "    sleep(1)\n",
    "    dgilib.update_callback()\n",
    "    while not all(dgilib.data[INTERFACE_GPIO][1][-1]):\n",
    "        dgilib.update_callback()\n",
    "#         sleep(1)\n",
    "    sleep(0.1)\n",
    "    dgilib.logger_stop()\n",
    "    data = dgilib.data"
   ]
  },
  {
   "cell_type": "markdown",
   "metadata": {},
   "source": [
    "## Analysis"
   ]
  },
  {
   "cell_type": "code",
   "execution_count": 9,
   "metadata": {},
   "outputs": [],
   "source": [
    "# def power_and_time_per_pulse(data, pin, verbose=0, power_factor=1e3):\n",
    "#     \"\"\"Calculate power and time per pulse.\n",
    "    \n",
    "#     Takes the data and a pin and returns a list of power and time sums for each pulse of the specified pin.\n",
    "#     It stops when all pins are high.\n",
    "    \n",
    "#     :param data: Data structure holding the samples.\n",
    "#     :type data: dict(256:list(list(float), list(float)), 48:list(list(float), list(list(bool))))\n",
    "#     :param pin: Number of the pin to be used.\n",
    "#     :type pin: int\n",
    "#     :return: List of list of power and time sums.\n",
    "#     :rtype: tuple(list(float), list(float))\n",
    "#     \"\"\"\n",
    "#     pin_value = False\n",
    "\n",
    "#     charges = []\n",
    "#     times = []\n",
    "\n",
    "#     power_index = 0\n",
    "#     power_sum = 0\n",
    "#     time_sum = 0\n",
    "\n",
    "#     start_time = 0\n",
    "#     end_time = 0\n",
    "#     last_time = 0\n",
    "\n",
    "#     for timestamp, pin_values in zip(*data[INTERFACE_GPIO]):\n",
    "#         if all(pin_values):\n",
    "#             if verbose:\n",
    "#                 print(f\"power_and_time_per_pulse done, charges: {len(currents)}, times: {len(times)}\")\n",
    "#             break\n",
    "#         if not pin_value and pin_values[pin]:\n",
    "#             pin_value = True\n",
    "#             start_time = timestamp\n",
    "#             last_time = timestamp\n",
    "#         if pin_value and not pin_values[pin]:\n",
    "#             pin_value = False\n",
    "#             end_time = timestamp\n",
    "#             while (power_index < len(data[INTERFACE_POWER][0]) and data[INTERFACE_POWER][0][power_index] <= end_time):\n",
    "#                 if (data[INTERFACE_POWER][0][power_index] >= start_time):\n",
    "#                     power_sum += data[INTERFACE_POWER][1][power_index] * (data[INTERFACE_POWER][0][power_index] - last_time)\n",
    "#                     time_sum += (data[INTERFACE_POWER][0][power_index] - last_time)\n",
    "#                 last_time = data[INTERFACE_POWER][0][power_index]\n",
    "#                 power_index += 1\n",
    "\n",
    "#             charges.append(power_sum*power_factor)\n",
    "#             times.append(time_sum)\n",
    "#             power_sum = 0\n",
    "#             time_sum = 0\n",
    "                \n",
    "#     return charges, times"
   ]
  },
  {
   "cell_type": "code",
   "execution_count": 16,
   "metadata": {},
   "outputs": [],
   "source": [
    "encrypt_charge, encrypt_time = power_and_time_per_pulse(data, 2)"
   ]
  },
  {
   "cell_type": "code",
   "execution_count": 17,
   "metadata": {},
   "outputs": [],
   "source": [
    "decrypt_charge, decrypt_time = power_and_time_per_pulse(data, 3)"
   ]
  },
  {
   "cell_type": "code",
   "execution_count": 18,
   "metadata": {},
   "outputs": [],
   "source": [
    "MBEDTLS_AES_BLOCK_SIZE = 16\n",
    "MIN_AES_BLOCKS = 0\n",
    "num_bytes = range(MIN_AES_BLOCKS * MBEDTLS_AES_BLOCK_SIZE, MBEDTLS_AES_BLOCK_SIZE * (MIN_AES_BLOCKS + len(encrypt_charge)), MBEDTLS_AES_BLOCK_SIZE)"
   ]
  },
  {
   "cell_type": "code",
   "execution_count": 19,
   "metadata": {},
   "outputs": [],
   "source": [
    "from lmfit import Model\n",
    "\n",
    "def line(x, slope, intercept):\n",
    "    \"\"\"a line\"\"\"\n",
    "    return [slope*i + intercept for i in x]\n",
    "\n",
    "mod = Model(line)\n",
    "pars = mod.make_params(slope=0, intercept=1)"
   ]
  },
  {
   "cell_type": "code",
   "execution_count": 20,
   "metadata": {},
   "outputs": [
    {
     "name": "stdout",
     "output_type": "stream",
     "text": [
      "[[Model]]\n",
      "    Model(line)\n",
      "[[Fit Statistics]]\n",
      "    # fitting method   = leastsq\n",
      "    # function evals   = 6\n",
      "    # data points      = 64\n",
      "    # variables        = 2\n",
      "    chi-square         = 2.6473e-08\n",
      "    reduced chi-square = 4.2698e-10\n",
      "    Akaike info crit   = -1378.78590\n",
      "    Bayesian info crit = -1374.46813\n",
      "[[Variables]]\n",
      "    slope:      3.3331e-05 +/- 8.7389e-09 (0.03%) (init = 0)\n",
      "    intercept:  4.0173e-04 +/- 5.1059e-06 (1.27%) (init = 1)\n",
      "[[Correlations]] (unreported correlations are < 0.100)\n",
      "    C(slope, intercept) = -0.863\n",
      "\n",
      "[[Model]]\n",
      "    Model(line)\n",
      "[[Fit Statistics]]\n",
      "    # fitting method   = leastsq\n",
      "    # function evals   = 7\n",
      "    # data points      = 64\n",
      "    # variables        = 2\n",
      "    chi-square         = 1.9586e-08\n",
      "    reduced chi-square = 3.1590e-10\n",
      "    Akaike info crit   = -1398.07024\n",
      "    Bayesian info crit = -1393.75248\n",
      "[[Variables]]\n",
      "    slope:      3.2335e-05 +/- 7.5167e-09 (0.02%) (init = 0)\n",
      "    intercept:  3.8560e-04 +/- 4.3918e-06 (1.14%) (init = 1)\n",
      "[[Correlations]] (unreported correlations are < 0.100)\n",
      "    C(slope, intercept) = -0.863\n",
      "\n",
      "[[Model]]\n",
      "    Model(line)\n",
      "[[Fit Statistics]]\n",
      "    # fitting method   = leastsq\n",
      "    # function evals   = 6\n",
      "    # data points      = 64\n",
      "    # variables        = 2\n",
      "    chi-square         = 4.7739e-08\n",
      "    reduced chi-square = 7.6999e-10\n",
      "    Akaike info crit   = -1341.04903\n",
      "    Bayesian info crit = -1336.73126\n",
      "[[Variables]]\n",
      "    slope:      6.4490e-05 +/- 1.1735e-08 (0.02%) (init = 0)\n",
      "    intercept:  0.00104084 +/- 6.8567e-06 (0.66%) (init = 1)\n",
      "[[Correlations]] (unreported correlations are < 0.100)\n",
      "    C(slope, intercept) = -0.863\n",
      "\n",
      "[[Model]]\n",
      "    Model(line)\n",
      "[[Fit Statistics]]\n",
      "    # fitting method   = leastsq\n",
      "    # function evals   = 6\n",
      "    # data points      = 64\n",
      "    # variables        = 2\n",
      "    chi-square         = 4.1897e-08\n",
      "    reduced chi-square = 6.7576e-10\n",
      "    Akaike info crit   = -1349.40344\n",
      "    Bayesian info crit = -1345.08567\n",
      "[[Variables]]\n",
      "    slope:      6.1343e-05 +/- 1.0994e-08 (0.02%) (init = 0)\n",
      "    intercept:  0.00100344 +/- 6.4234e-06 (0.64%) (init = 1)\n",
      "[[Correlations]] (unreported correlations are < 0.100)\n",
      "    C(slope, intercept) = -0.863\n",
      "\n"
     ]
    }
   ],
   "source": [
    "results = []\n",
    "for y in [encrypt_charge, decrypt_charge, encrypt_time, decrypt_time]:\n",
    "    result = mod.fit(y, pars, x=num_bytes)\n",
    "    print(result.fit_report())\n",
    "    results.append(result)"
   ]
  },
  {
   "cell_type": "code",
   "execution_count": 26,
   "metadata": {},
   "outputs": [
    {
     "data": {
      "text/plain": [
       "<Figure size 648x432 with 0 Axes>"
      ]
     },
     "metadata": {},
     "output_type": "display_data"
    }
   ],
   "source": [
    "fig = plt.figure(figsize=(9, 6))"
   ]
  },
  {
   "cell_type": "code",
   "execution_count": 27,
   "metadata": {},
   "outputs": [],
   "source": [
    "charge_color = 'r'\n",
    "time_color = 'b'"
   ]
  },
  {
   "cell_type": "code",
   "execution_count": 28,
   "metadata": {},
   "outputs": [],
   "source": [
    "fig.clf()\n",
    "# fig.suptitle(\"Energy analysis of AES\")\n",
    "ax1 = fig.add_subplot(1, 1, 1)\n",
    "ax2 = ax1.twinx()\n",
    "ax1.set_xlabel('Number of bytes')\n",
    "ax1.set_ylabel('Total Charge [mC]', color=charge_color)\n",
    "ax2.set_ylabel('Time [s]', color=time_color)\n",
    "ax1.tick_params('y', colors=charge_color)\n",
    "ax2.tick_params('y', colors=time_color)"
   ]
  },
  {
   "cell_type": "code",
   "execution_count": 29,
   "metadata": {},
   "outputs": [],
   "source": [
    "lines = []\n",
    "lines += ax1.plot(num_bytes, encrypt_charge, charge_color+'-', label='Encrypt Charge')\n",
    "lines += ax1.plot(num_bytes, decrypt_charge, charge_color+'--', label='Decrypt Charge')\n",
    "lines += ax2.plot(num_bytes, encrypt_time, time_color+'-', label='Encrypt Time')\n",
    "lines += ax2.plot(num_bytes, decrypt_time, time_color+'--', label='Decrypt Time')\n",
    "fig.legend(handles=lines)\n",
    "ax1.set_title(f\"Encrypt Charge: Base {results[0].params['intercept'].value:.03} mC plus {results[0].params['slope'].value:.03} mC per byte\\n\" +\n",
    "             f\"Decrypt Charge: Base {results[1].params['intercept'].value:.03} mC plus {results[1].params['slope'].value:.03} mC per byte\\n\" +\n",
    "             f\"Encrypt Time: Base {results[2].params['intercept'].value:.03} s plus {results[2].params['slope'].value:.03} s per byte\\n\" +\n",
    "             f\"Decrypt Time: Base {results[3].params['intercept'].value:.03} s plus {results[3].params['slope'].value:.03} s per byte\\n\")\n",
    "fig.tight_layout()\n",
    "fig.show()"
   ]
  },
  {
   "cell_type": "code",
   "execution_count": 30,
   "metadata": {},
   "outputs": [],
   "source": [
    "# data"
   ]
  },
  {
   "cell_type": "code",
   "execution_count": null,
   "metadata": {},
   "outputs": [],
   "source": []
  }
 ],
 "metadata": {
  "kernelspec": {
   "display_name": "Python [conda env:SAML11-32]",
   "language": "python",
   "name": "conda-env-SAML11-32-py"
  },
  "language_info": {
   "codemirror_mode": {
    "name": "ipython",
    "version": 3
   },
   "file_extension": ".py",
   "mimetype": "text/x-python",
   "name": "python",
   "nbconvert_exporter": "python",
   "pygments_lexer": "ipython3",
   "version": "3.6.8"
  }
 },
 "nbformat": 4,
 "nbformat_minor": 2
}
