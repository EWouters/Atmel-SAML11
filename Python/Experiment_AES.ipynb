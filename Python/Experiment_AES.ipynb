{
 "cells": [
  {
   "cell_type": "code",
   "execution_count": 1,
   "metadata": {},
   "outputs": [],
   "source": [
    "from serial_interface import *"
   ]
  },
  {
   "cell_type": "code",
   "execution_count": 2,
   "metadata": {},
   "outputs": [],
   "source": [
    "%matplotlib ipympl"
   ]
  },
  {
   "cell_type": "code",
   "execution_count": 3,
   "metadata": {},
   "outputs": [],
   "source": [
    "import matplotlib.pyplot as plt"
   ]
  },
  {
   "cell_type": "code",
   "execution_count": 4,
   "metadata": {},
   "outputs": [],
   "source": [
    "from pydgilib_extra import *"
   ]
  },
  {
   "cell_type": "code",
   "execution_count": 5,
   "metadata": {},
   "outputs": [],
   "source": [
    "dgilib_path = \"C:\\\\Users\\\\erikw_000\\\\Documents\\\\GitHub\\\\Atmel-SAML11\\\\Python\\\\dgilib.dll\""
   ]
  },
  {
   "cell_type": "code",
   "execution_count": 6,
   "metadata": {},
   "outputs": [
    {
     "data": {
      "application/vnd.jupyter.widget-view+json": {
       "model_id": "ec840c802ce843d19cbb314befc05242",
       "version_major": 2,
       "version_minor": 0
      },
      "text/plain": [
       "FigureCanvasNbAgg()"
      ]
     },
     "metadata": {},
     "output_type": "display_data"
    }
   ],
   "source": [
    "fig = plt.figure(figsize=(10, 6))"
   ]
  },
  {
   "cell_type": "code",
   "execution_count": 7,
   "metadata": {},
   "outputs": [
    {
     "name": "stdout",
     "output_type": "stream",
     "text": [
      "Status:\tDebug mode is OFF\n",
      "\n",
      "Last result: OK\n",
      "Last response:\n",
      "\t--- SAML11 ---\n",
      "\t\n",
      "\tCommand Format:\n",
      "\t\tPrefix:\t\t#\n",
      "\t\tTerminator:\t\\r\n",
      "\tCommands:\n",
      "\t\tSTA\tReturn debug status status\n",
      "\t\tDBG\tToggle debugging output\n",
      "\t\tTAE\tTest AES on a known block of data\n",
      "\t\tTFL\tTest Flash write and read using n bytes (command has to be followed by the number of bytes to be used in the test)\n",
      "\t\t?\tShow usage information\n",
      "\t\n",
      "Last result: OK\n",
      "Last response:\n",
      "\tStatus:\tDebug mode is OFF\n",
      "\t\n",
      "[DBG] Received command \"STA\"\n",
      "Last result: OK\n",
      "Last response:\n",
      "\tStatus:\tDebug mode is ON\n",
      "\t\n",
      "[DBG] Received command \"DBG\"\n",
      "Last result: OK\n",
      "Last response:\n",
      "\tStatus:\tDebug mode is OFF\n",
      "\t\n",
      "Last result: OK\n",
      "Last response:\n",
      "\tkey:\t\t603deb1015ca71be2b73aef0857d77811f352c073b6108d72d9810a30914dff4\n",
      "\tiv:\t\t000102030405060708090a0b0c0d0e0f\n",
      "\tinput:\t\tf58c4c04d6e5f1ba779eabfb5f7bfbd69cfc4e967edb808d679f777bc6702c7d39f23369a9d9bacfa530e26304231461b2eb05e2c39be9fcda6c19078c6a9d1b\n",
      "\tencrypted_ex:\tce054cfa6ec264de70202e906bd57065101da549b984ee26af6e06ef80fe30b3493431a21454391ac11a1ff5dc0414b607d932eaec0446521c3ebb52b7d38f4c\n",
      "\tencrypted:\tce054cfa6ec264de70202e906bd57065101da549b984ee26af6e06ef80fe30b3493431a21454391ac11a1ff5dc0414b607d932eaec0446521c3ebb52b7d38f4c\n",
      "\toutput:\tf58c4c04d6e5f1ba779eabfb5f7bfbd69cfc4e967edb808d679f777bc6702c7d39f23369a9d9bacfa530e26304231461b2eb05e2c39be9fcda6c19078c6a9d1b\n",
      "\tCBC encrypt:\tSUCCESS!\n",
      "\tCBC decrypt:\tSUCCESS!\n",
      "\t\n"
     ]
    }
   ],
   "source": [
    "data = []\n",
    "\n",
    "config_dict = {\n",
    "    \"power_buffers\": [{\"channel\": CHANNEL_A, \"power_type\": POWER_CURRENT}],\n",
    "    \"read_mode\": [False, False, True, True],\n",
    "    \"write_mode\": [False, False, False, False],\n",
    "    \"loggers\": [LOGGER_OBJECT, LOGGER_PLOT],\n",
    "    \"plot_pins\": False,\n",
    "    \"fig\": fig,\n",
    "    \"verbose\": 0,\n",
    "}\n",
    "\n",
    "\n",
    "fig.clf()\n",
    "pin = 3\n",
    "\n",
    "with DGILibExtra(dgilib_path, **config_dict) as dgilib, SAML11() as board:\n",
    "    dgilib.logger_start()\n",
    "    print(board.get_status())\n",
    "    board.send_command(\"?\", True)\n",
    "    board.send_command(\"STA\", True)\n",
    "    board.set_debug(True)\n",
    "    board.send_command(\"STA\", True)\n",
    "    board.set_debug(False)\n",
    "    board.send_command(\"STA\", True)\n",
    "    board.send_command(\"TAE\", True)\n",
    "    data = dgilib.logger_stop()\n",
    "    dgilib.ax.plot(*dgilib.power_filter_by_pin(2))\n",
    "    dgilib.ax.plot(*dgilib.power_filter_by_pin(3))"
   ]
  },
  {
   "cell_type": "code",
   "execution_count": null,
   "metadata": {},
   "outputs": [],
   "source": []
  },
  {
   "cell_type": "code",
   "execution_count": null,
   "metadata": {},
   "outputs": [],
   "source": []
  }
 ],
 "metadata": {
  "kernelspec": {
   "display_name": "Python [conda env:SAML11-32]",
   "language": "python",
   "name": "conda-env-SAML11-32-py"
  },
  "language_info": {
   "codemirror_mode": {
    "name": "ipython",
    "version": 3
   },
   "file_extension": ".py",
   "mimetype": "text/x-python",
   "name": "python",
   "nbconvert_exporter": "python",
   "pygments_lexer": "ipython3",
   "version": "3.6.8"
  }
 },
 "nbformat": 4,
 "nbformat_minor": 2
}
