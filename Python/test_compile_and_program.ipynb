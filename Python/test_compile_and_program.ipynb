{
 "cells": [
  {
   "cell_type": "code",
   "execution_count": 98,
   "metadata": {},
   "outputs": [],
   "source": [
    "from os import path\n",
    "import subprocess"
   ]
  },
  {
   "cell_type": "markdown",
   "metadata": {},
   "source": [
    "# Compile"
   ]
  },
  {
   "cell_type": "markdown",
   "metadata": {},
   "source": [
    "`C:\\Users\\erikw_000\\Documents\\GitHub\\Atmel-SAML11\\Experiments\\AES\\AES-S\\Debug>make all`"
   ]
  },
  {
   "cell_type": "code",
   "execution_count": 188,
   "metadata": {},
   "outputs": [],
   "source": [
    "project_path = \"C:\\\\Users\\\\erikw_000\\\\Documents\\\\GitHub\\\\Atmel-SAML11\\\\Python\\\\pydgilib\\\\UnitTest\\\\UnitTest\"\n",
    "make_path = \"C:\\\\Program Files (x86)\\\\Atmel\\\\Studio\\\\7.0\\\\shellutils\\\\make.exe\""
   ]
  },
  {
   "cell_type": "code",
   "execution_count": 172,
   "metadata": {},
   "outputs": [
    {
     "name": "stdout",
     "output_type": "stream",
     "text": [
      "CompletedProcess(args=['C:\\\\Program Files (x86)\\\\Atmel\\\\Studio\\\\7.0\\\\shellutils\\\\make.exe', 'all', '--jobs', '8', '--output-sync'], returncode=0, stdout=b\"make: Nothing to be done for 'all'.\\r\\n\")\n"
     ]
    }
   ],
   "source": [
    "res = subprocess.run([make_path, \"all\", \"--jobs\", \"8\", \"--output-sync\"], cwd=path.join(project_path, \"Debug\"), stdout=subprocess.PIPE)\n",
    "print(res)"
   ]
  },
  {
   "cell_type": "markdown",
   "metadata": {},
   "source": [
    "# Program"
   ]
  },
  {
   "cell_type": "markdown",
   "metadata": {},
   "source": [
    "`\"C:\\Program Files (x86)\\Atmel\\Studio\\7.0\\Extensions\\Application\\StudioCommandPrompt.exe\" `"
   ]
  },
  {
   "cell_type": "markdown",
   "metadata": {},
   "source": [
    "`atprogram -v -t EDBG -i SWD -d ATSAML11E16A program -f \"C:\\Users\\erikw_000\\Documents\\GitHub\\Atmel-SAML11\\Python\\pydgilib\\UnitTest\\UnitTest\\Debug\\UnitTest.elf\"`"
   ]
  },
  {
   "cell_type": "markdown",
   "metadata": {},
   "source": []
  },
  {
   "cell_type": "markdown",
   "metadata": {},
   "source": [
    "`\"C:\\Program Files (x86)\\Atmel\\Studio\\7.0\\Extensions\\Application\\StudioCommandPrompt.exe\" -v -t EDBG -i SWD -d ATSAML11E16A program -f \"C:\\Users\\erikw_000\\Documents\\GitHub\\Atmel-SAML11\\Python\\pydgilib\\UnitTest\\UnitTest\\Debug\\UnitTest.elf\"`"
   ]
  },
  {
   "cell_type": "code",
   "execution_count": 89,
   "metadata": {},
   "outputs": [],
   "source": [
    "import subprocess"
   ]
  },
  {
   "cell_type": "code",
   "execution_count": 3,
   "metadata": {},
   "outputs": [],
   "source": []
  },
  {
   "cell_type": "code",
   "execution_count": 79,
   "metadata": {},
   "outputs": [],
   "source": [
    "atprogram_path = \"C:\\\\Program Files (x86)\\\\Atmel\\\\Studio\\\\7.0\\\\atbackend\\\\atprogram.exe\""
   ]
  },
  {
   "cell_type": "code",
   "execution_count": 80,
   "metadata": {},
   "outputs": [],
   "source": [
    "elf_file_path = \"C:\\\\Users\\\\erikw_000\\\\Documents\\\\GitHub\\\\Atmel-SAML11\\\\Python\\\\pydgilib\\\\UnitTest\\\\UnitTest\\\\Debug\\\\UnitTest.elf\""
   ]
  },
  {
   "cell_type": "code",
   "execution_count": 82,
   "metadata": {},
   "outputs": [],
   "source": [
    "device_name = \"ATSAML11E16A\""
   ]
  },
  {
   "cell_type": "code",
   "execution_count": 159,
   "metadata": {},
   "outputs": [
    {
     "name": "stdout",
     "output_type": "stream",
     "text": [
      "Firmware check OK\n",
      "Chiperase completed successfully\n",
      "\n"
     ]
    }
   ],
   "source": [
    "res = subprocess.run([atprogram_path, \"-v\", \"-t\", \"EDBG\", \"-i\", \"SWD\", \"-d\", device_name, \"chiperase\"], stdout=subprocess.PIPE)\n",
    "print(res.stdout.decode())"
   ]
  },
  {
   "cell_type": "code",
   "execution_count": null,
   "metadata": {},
   "outputs": [],
   "source": [
    "res = subprocess.run([atprogram_path, \"-v\", \"-t\", \"EDBG\", \"-i\", \"SWD\", \"-d\", device_name, \"program\", \"-f\", elf_file_path], stdout=subprocess.PIPE)\n",
    "print(res.stdout.decode())"
   ]
  },
  {
   "cell_type": "code",
   "execution_count": 160,
   "metadata": {},
   "outputs": [
    {
     "name": "stdout",
     "output_type": "stream",
     "text": [
      "Firmware check OK\n",
      "\n"
     ]
    }
   ],
   "source": [
    "res = subprocess.run([atprogram_path, \"-v\", \"-t\", \"EDBG\", \"-i\", \"SWD\", \"-d\", device_name, \"verify\", \"-f\", elf_file_path], stdout=subprocess.PIPE)\n",
    "print(res.stdout.decode())"
   ]
  },
  {
   "cell_type": "code",
   "execution_count": 158,
   "metadata": {},
   "outputs": [
    {
     "name": "stdout",
     "output_type": "stream",
     "text": [
      "Firmware check OK\n",
      "\n"
     ]
    }
   ],
   "source": [
    "res = subprocess.run([atprogram_path, \"reset\"], stdout=subprocess.PIPE)\n",
    "print(res.stdout.decode())"
   ]
  },
  {
   "cell_type": "code",
   "execution_count": 212,
   "metadata": {},
   "outputs": [],
   "source": [
    "def compile_and_program(project_path, device_name=\"ATSAML11E16A\", verbose=0, clean=False, build=True, erase=True, program=True, verify=True, jobs=8, tool=\"EDBG\", interface=\"SWD\", atmel_studio_path=\"C:\\\\Program Files (x86)\\\\Atmel\\\\Studio\", configuration=\"Debug\", device_sn=None):\n",
    "    # NOTE: if multiple devices are connected the serial number needs to be supplied to atprogram using the -s flag.\n",
    "    # if path.split\n",
    "    make_path = path.join(atmel_studio_path, \"7.0\\\\shellutils\\\\make.exe\")\n",
    "    atprogram_path = path.join(atmel_studio_path, \"7.0\\\\atbackend\\\\atprogram.exe\")\n",
    "    stdout = subprocess.PIPE if verbose else None\n",
    "    if clean:\n",
    "        res = subprocess.run([make_path, \"clean\"], cwd=path.join(project_path, configuration), stdout=stdout)\n",
    "        if verbose: print(res.stdout.decode())\n",
    "        if res.returncode: return res.returncode\n",
    "    if build:\n",
    "        res = subprocess.run([make_path, \"all\", \"--jobs\", str(jobs), \"--output-sync\"], cwd=path.join(project_path, configuration), stdout=stdout)\n",
    "        if verbose: print(res.stdout.decode())\n",
    "        if res.returncode: return res.returncode\n",
    "    if erase or program or verify:\n",
    "        atprogram_base_command = [atprogram_path] + [\"-v\"]*verbose + [\"-t\", tool, \"-i\", interface, \"-d\", device_name] + [\"-s\", device_sn]*(device_sn is not None)\n",
    "    if erase:\n",
    "        res = subprocess.run(atprogram_base_command + [\"chiperase\"], stdout=stdout)\n",
    "        if verbose: print(res.stdout.decode())\n",
    "        if res.returncode: return res.returncode\n",
    "    if program or verify:\n",
    "        if path.splitext(project_path)[1] is \".elf\":\n",
    "            elf_file_path = project_path\n",
    "        else: \n",
    "            elf_file_path = path.join(project_path, configuration, path.split(project_path)[1]) + \".elf\"\n",
    "    if program:\n",
    "        res = subprocess.run(atprogram_base_command + [\"program\", \"-f\", elf_file_path], stdout=stdout)\n",
    "        if verbose: print(res.stdout.decode())\n",
    "        if res.returncode: return res.returncode\n",
    "    if verify:\n",
    "        res = subprocess.run(atprogram_base_command + [\"verify\", \"-f\", elf_file_path], stdout=stdout)\n",
    "        if verbose: print(res.stdout.decode())\n",
    "        if res.returncode: return res.returncode\n",
    "    return 0"
   ]
  },
  {
   "cell_type": "code",
   "execution_count": 213,
   "metadata": {},
   "outputs": [
    {
     "name": "stdout",
     "output_type": "stream",
     "text": [
      "make: Nothing to be done for 'all'.\n",
      "\n",
      "Firmware check OK\n",
      "Chiperase completed successfully\n",
      "\n",
      "Firmware check OK\n",
      "Programming completed successfully.\n",
      "\n",
      "Firmware check OK\n",
      "\n"
     ]
    },
    {
     "data": {
      "text/plain": [
       "23"
      ]
     },
     "execution_count": 213,
     "metadata": {},
     "output_type": "execute_result"
    }
   ],
   "source": [
    "compile_and_program(project_path, verbose=1)"
   ]
  },
  {
   "cell_type": "code",
   "execution_count": 177,
   "metadata": {},
   "outputs": [
    {
     "data": {
      "text/plain": [
       "[]"
      ]
     },
     "execution_count": 177,
     "metadata": {},
     "output_type": "execute_result"
    }
   ],
   "source": [
    "b = None\n",
    "[] + [3]*(b is not None)"
   ]
  },
  {
   "cell_type": "code",
   "execution_count": 179,
   "metadata": {},
   "outputs": [
    {
     "data": {
      "text/plain": [
       "'C:\\\\Program Files (x86)\\\\Atmel\\\\Studio'"
      ]
     },
     "execution_count": 179,
     "metadata": {},
     "output_type": "execute_result"
    }
   ],
   "source": [
    "atmel_studio_path=\"C:\\\\Program Files (x86)\\\\Atmel\\\\Studio\"\n",
    "atmel_studio_path"
   ]
  },
  {
   "cell_type": "code",
   "execution_count": 181,
   "metadata": {},
   "outputs": [
    {
     "data": {
      "text/plain": [
       "'Studio'"
      ]
     },
     "execution_count": 181,
     "metadata": {},
     "output_type": "execute_result"
    }
   ],
   "source": [
    "path.split(atmel_studio_path)[1]"
   ]
  },
  {
   "cell_type": "code",
   "execution_count": 185,
   "metadata": {},
   "outputs": [
    {
     "data": {
      "text/plain": [
       "'.5'"
      ]
     },
     "execution_count": 185,
     "metadata": {},
     "output_type": "execute_result"
    }
   ],
   "source": [
    "path.splitext(\"bla.5\")[1]"
   ]
  },
  {
   "cell_type": "code",
   "execution_count": 192,
   "metadata": {},
   "outputs": [],
   "source": [
    "device_name=\"ATSAML11E16A\"\n",
    "verbose=1\n",
    "clean=False\n",
    "build=True\n",
    "erase=True\n",
    "program=True\n",
    "verify=True\n",
    "jobs=8\n",
    "tool=\"EDBG\"\n",
    "interface=\"SWD\"\n",
    "atmel_studio_path=\"C:\\\\Program Files (x86)\\\\Atmel\\\\Studio\"\n",
    "configuration=\"Debug\"\n",
    "device_sn=None"
   ]
  },
  {
   "cell_type": "code",
   "execution_count": 194,
   "metadata": {},
   "outputs": [],
   "source": [
    "make_path = path.join(atmel_studio_path, \"7.0\\\\shellutils\\\\make.exe\")\n",
    "atprogram_path = path.join(atmel_studio_path, \"7.0\\\\atbackend\\\\atprogram.exe\")"
   ]
  },
  {
   "cell_type": "code",
   "execution_count": 196,
   "metadata": {},
   "outputs": [
    {
     "data": {
      "text/plain": [
       "'C:\\\\Program Files (x86)\\\\Atmel\\\\Studio\\\\7.0\\\\atbackend\\\\atprogram.exe'"
      ]
     },
     "execution_count": 196,
     "metadata": {},
     "output_type": "execute_result"
    }
   ],
   "source": [
    "atprogram_path"
   ]
  },
  {
   "cell_type": "code",
   "execution_count": 197,
   "metadata": {},
   "outputs": [],
   "source": [
    "stdout = subprocess.PIPE if verbose else None"
   ]
  },
  {
   "cell_type": "code",
   "execution_count": 201,
   "metadata": {},
   "outputs": [
    {
     "name": "stdout",
     "output_type": "stream",
     "text": [
      "rm -rf  atmel_start.o Device_Startup/startup_saml11e16a.o Device_Startup/system_saml11e16a.o driver_init.o examples/driver_examples.o hal/src/hal_atomic.o hal/src/hal_delay.o hal/src/hal_gpio.o hal/src/hal_init.o hal/src/hal_io.o hal/src/hal_sleep.o hal/src/hal_usart_sync.o hal/utils/src/utils_assert.o hal/utils/src/utils_event.o hal/utils/src/utils_list.o hal/utils/src/utils_syscalls.o hpl/core/hpl_core_m23_base.o hpl/core/hpl_init.o hpl/dmac/hpl_dmac.o hpl/gclk/hpl_gclk.o hpl/mclk/hpl_mclk.o hpl/osc32kctrl/hpl_osc32kctrl.o hpl/oscctrl/hpl_oscctrl.o hpl/pm/hpl_pm.o hpl/sercom/hpl_sercom.o main.o stdio_redirect/gcc/read.o stdio_redirect/gcc/write.o stdio_redirect/stdio_io.o stdio_start.o trustzone/trustzone_manager.o trustzone/trustzone_veneer.o   \n",
      "rm -rf  atmel_start.d Device_Startup/startup_saml11e16a.d Device_Startup/system_saml11e16a.d driver_init.d examples/driver_examples.d hal/src/hal_atomic.d hal/src/hal_delay.d hal/src/hal_gpio.d hal/src/hal_init.d hal/src/hal_io.d hal/src/hal_sleep.d hal/src/hal_usart_sync.d hal/utils/src/utils_assert.d hal/utils/src/utils_event.d hal/utils/src/utils_list.d hal/utils/src/utils_syscalls.d hpl/core/hpl_core_m23_base.d hpl/core/hpl_init.d hpl/dmac/hpl_dmac.d hpl/gclk/hpl_gclk.d hpl/mclk/hpl_mclk.d hpl/osc32kctrl/hpl_osc32kctrl.d hpl/oscctrl/hpl_oscctrl.d hpl/pm/hpl_pm.d hpl/sercom/hpl_sercom.d main.d stdio_redirect/gcc/read.d stdio_redirect/gcc/write.d stdio_redirect/stdio_io.d stdio_start.d trustzone/trustzone_manager.d trustzone/trustzone_veneer.d   \n",
      "rm -rf \"UnitTest.elf\" \"UnitTest.a\" \"UnitTest.hex\" \"UnitTest.bin\" \"UnitTest.lss\" \"UnitTest.eep\" \"UnitTest.map\" \"UnitTest.srec\"\n",
      "\n"
     ]
    }
   ],
   "source": [
    "res = subprocess.run([make_path, \"clean\"], cwd=path.join(project_path, configuration), stdout=stdout)\n",
    "print(res.stdout.decode())"
   ]
  },
  {
   "cell_type": "code",
   "execution_count": 205,
   "metadata": {},
   "outputs": [
    {
     "name": "stdout",
     "output_type": "stream",
     "text": [
      "make: Nothing to be done for 'all'.\n",
      "\n"
     ]
    }
   ],
   "source": [
    "res = subprocess.run([make_path, \"all\", \"--jobs\", str(jobs), \"--output-sync\"], cwd=path.join(project_path, configuration), stdout=stdout)\n",
    "print(res.stdout.decode())"
   ]
  },
  {
   "cell_type": "code",
   "execution_count": 207,
   "metadata": {},
   "outputs": [
    {
     "data": {
      "text/plain": [
       "['C:\\\\Program Files (x86)\\\\Atmel\\\\Studio\\\\7.0\\\\atbackend\\\\atprogram.exe',\n",
       " '-v',\n",
       " '-t',\n",
       " 'EDBG',\n",
       " '-i',\n",
       " 'SWD',\n",
       " '-d',\n",
       " 'ATSAML11E16A']"
      ]
     },
     "execution_count": 207,
     "metadata": {},
     "output_type": "execute_result"
    }
   ],
   "source": [
    "if erase or program or verify:\n",
    "    atprogram_base_command = [atprogram_path] + [\"-v\"]*verbose + [\"-t\", tool, \"-i\", interface, \"-d\", device_name] + [\"-s\", device_sn]*(device_sn is not None)\n",
    "atprogram_base_command"
   ]
  },
  {
   "cell_type": "code",
   "execution_count": 208,
   "metadata": {},
   "outputs": [
    {
     "name": "stdout",
     "output_type": "stream",
     "text": [
      "Firmware check OK\n",
      "Chiperase completed successfully\n",
      "\n"
     ]
    }
   ],
   "source": [
    "res = subprocess.run(atprogram_base_command + [\"chiperase\"], stdout=stdout)\n",
    "print(res.stdout.decode())"
   ]
  },
  {
   "cell_type": "code",
   "execution_count": 211,
   "metadata": {},
   "outputs": [
    {
     "data": {
      "text/plain": [
       "'C:\\\\Users\\\\erikw_000\\\\Documents\\\\GitHub\\\\Atmel-SAML11\\\\Python\\\\pydgilib\\\\UnitTest\\\\UnitTest\\\\Debug\\\\UnitTest.elf'"
      ]
     },
     "execution_count": 211,
     "metadata": {},
     "output_type": "execute_result"
    }
   ],
   "source": [
    "if program or verify:\n",
    "    if path.splitext(project_path)[1] is \".elf\":\n",
    "        elf_file_path = project_path\n",
    "    else: \n",
    "        elf_file_path = path.join(project_path, configuration, path.split(project_path)[1]) + \".elf\"\n",
    "elf_file_path"
   ]
  },
  {
   "cell_type": "code",
   "execution_count": null,
   "metadata": {},
   "outputs": [],
   "source": [
    "\n",
    "print(res.stdout.decode())"
   ]
  },
  {
   "cell_type": "code",
   "execution_count": null,
   "metadata": {},
   "outputs": [],
   "source": []
  },
  {
   "cell_type": "code",
   "execution_count": null,
   "metadata": {},
   "outputs": [],
   "source": []
  },
  {
   "cell_type": "code",
   "execution_count": null,
   "metadata": {},
   "outputs": [],
   "source": []
  },
  {
   "cell_type": "code",
   "execution_count": null,
   "metadata": {},
   "outputs": [],
   "source": []
  },
  {
   "cell_type": "code",
   "execution_count": null,
   "metadata": {},
   "outputs": [],
   "source": [
    "    atprogram_path = path.join(atmel_studio_path, \"7.0\\\\atbackend\\\\atprogram.exe\")\n",
    "    stdout = subprocess.PIPE if verbose else None\n",
    "    if clean:\n",
    "        res = subprocess.run([make_path, \"clean\"], cwd=path.join(project_path, configuration), stdout=stdout)\n",
    "        if verbose: print(res.stdout.decode())\n",
    "        if res.returncode: return res.returncode\n",
    "    if build:\n",
    "        res = subprocess.run([make_path, \"all\", \"--jobs\", jobs, \"--output-sync\"], cwd=path.join(project_path, configuration), stdout=stdout)\n",
    "        if verbose: print(res.stdout.decode())\n",
    "        if res.returncode: return res.returncode\n",
    "    if erase or program or verify:\n",
    "        atprogram_base_command = [atprogram_path] + [\"-v\"]*verbose + [\"-t\", tool, \"-i\", interface, \"-d\", device_name] + [\"-s\", device_sn]*(device_sn is not None)\n",
    "    if erase:\n",
    "        res = subprocess.run(atprogram_base_command + [\"chiperase\"], stdout=stdout)\n",
    "        if verbose: print(res.stdout.decode())\n",
    "        if res.returncode: return res.returncode\n",
    "    if program or verify:\n",
    "        if path.splitext(project_path)[1] is \".elf\":\n",
    "            elf_file_path = project_path\n",
    "        else: \n",
    "            elf_file_path = path.join(project_path, configuration, path.split(project_path)[1])\n",
    "    if program:\n",
    "        res = subprocess.run(atprogram_base_command + [\"program\", \"-f\", elf_file_path], stdout=stdout)\n",
    "        if verbose: print(res.stdout.decode())\n",
    "        if res.returncode: return res.returncode\n",
    "    if verify:\n",
    "        res = subprocess.run(atprogram_base_command + [\"verify\", \"-f\", elf_file_path], stdout=stdout)\n",
    "        if verbose: print(res.stdout.decode())\n",
    "        if res.returncode: return res.returncode\n",
    "    return 0"
   ]
  }
 ],
 "metadata": {
  "kernelspec": {
   "display_name": "Python [conda env:SAML11-32]",
   "language": "python",
   "name": "conda-env-SAML11-32-py"
  },
  "language_info": {
   "codemirror_mode": {
    "name": "ipython",
    "version": 3
   },
   "file_extension": ".py",
   "mimetype": "text/x-python",
   "name": "python",
   "nbconvert_exporter": "python",
   "pygments_lexer": "ipython3",
   "version": "3.6.8"
  }
 },
 "nbformat": 4,
 "nbformat_minor": 2
}
