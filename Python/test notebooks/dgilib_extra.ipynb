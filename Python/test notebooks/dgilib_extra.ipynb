{
 "cells": [
  {
   "cell_type": "markdown",
   "metadata": {},
   "source": [
    "```\n",
    "PS C:\\Users\\Erik\\Desktop\\GitHub\\Atmel-SAML11\\Python\\pydgilib> \n",
    "    ..\\..\\..\\..\\..\\Miniconda3\\envs\\SAML11-32\\python.exe .\\setup.py test\n",
    "PS C:\\Users\\Erik\\Desktop\\GitHub\\Atmel-SAML11\\Python\\pydgilib> \n",
    "    ..\\..\\..\\..\\..\\Miniconda3\\envs\\SAML11-32\\Scripts\\pip.exe install -Ue .\n",
    "```"
   ]
  },
  {
   "cell_type": "code",
   "execution_count": 1,
   "metadata": {},
   "outputs": [],
   "source": [
    "from pydgilib_extra import *"
   ]
  },
  {
   "cell_type": "code",
   "execution_count": 2,
   "metadata": {},
   "outputs": [],
   "source": [
    "from time import sleep"
   ]
  },
  {
   "cell_type": "code",
   "execution_count": 3,
   "metadata": {},
   "outputs": [],
   "source": [
    "dgilib_path = \"C:\\\\Users\\\\erikw_000\\\\Documents\\\\GitHub\\\\Atmel-SAML11\\\\Python\\\\dgilib.dll\""
   ]
  },
  {
   "cell_type": "code",
   "execution_count": 4,
   "metadata": {},
   "outputs": [
    {
     "name": "stdout",
     "output_type": "stream",
     "text": [
      "14000 17\n"
     ]
    }
   ],
   "source": [
    "data = []\n",
    "data_obj = []\n",
    "\n",
    "config_dict = {\n",
    "    \"power_buffers\": [{\"channel\": CHANNEL_A, \"power_type\": POWER_CURRENT}],\n",
    "    \"read_mode\": [True, True, True, True],\n",
    "    \"write_mode\": [False, False, False, False],\n",
    "    \"loggers\": [LOGGER_CSV, LOGGER_OBJECT],\n",
    "    \"verbose\": 0,\n",
    "}\n",
    "\n",
    "with DGILibExtra(dgilib_path, **config_dict) as dgilib:\n",
    "    data = dgilib.logger(1)\n",
    "    data_obj = dgilib.data\n",
    "    print(len(data[INTERFACE_POWER][0]) ,len(data[INTERFACE_GPIO][0]))"
   ]
  },
  {
   "cell_type": "code",
   "execution_count": 5,
   "metadata": {},
   "outputs": [],
   "source": [
    "assert(len(data) == len(data_obj))\n",
    "assert(len(data[INTERFACE_POWER]) == len(data_obj[INTERFACE_POWER]))\n",
    "assert(len(data[INTERFACE_GPIO]) == len(data_obj[INTERFACE_GPIO]))\n",
    "assert(data[INTERFACE_POWER][0] == data_obj[INTERFACE_POWER][0])\n",
    "assert(data[INTERFACE_POWER][1] == data_obj[INTERFACE_POWER][1])\n",
    "assert(data[INTERFACE_GPIO][0] == data_obj[INTERFACE_GPIO][0])\n",
    "assert(data[INTERFACE_GPIO][1] == data_obj[INTERFACE_GPIO][1])"
   ]
  },
  {
   "cell_type": "code",
   "execution_count": 6,
   "metadata": {},
   "outputs": [
    {
     "data": {
      "text/plain": [
       "0.003443608060479164"
      ]
     },
     "execution_count": 6,
     "metadata": {},
     "output_type": "execute_result"
    }
   ],
   "source": [
    "data[INTERFACE_POWER][1][1]"
   ]
  },
  {
   "cell_type": "code",
   "execution_count": null,
   "metadata": {},
   "outputs": [],
   "source": []
  },
  {
   "cell_type": "code",
   "execution_count": 7,
   "metadata": {},
   "outputs": [],
   "source": [
    "%matplotlib ipympl"
   ]
  },
  {
   "cell_type": "code",
   "execution_count": 8,
   "metadata": {},
   "outputs": [],
   "source": [
    "import matplotlib.pyplot as plt"
   ]
  },
  {
   "cell_type": "code",
   "execution_count": 9,
   "metadata": {},
   "outputs": [
    {
     "name": "stderr",
     "output_type": "stream",
     "text": [
      "D:\\Anaconda3\\envs\\SAML11-32\\lib\\site-packages\\matplotlib\\__init__.py:880: MatplotlibDeprecationWarning: \n",
      "nbagg.transparent\n",
      "  version, key, obj_type=\"rcparam\", alternative=alt_key)\n"
     ]
    },
    {
     "data": {
      "application/vnd.jupyter.widget-view+json": {
       "model_id": "9911afec944e4853a4626ef391076f94",
       "version_major": 2,
       "version_minor": 0
      },
      "text/plain": [
       "FigureCanvasNbAgg()"
      ]
     },
     "metadata": {},
     "output_type": "display_data"
    }
   ],
   "source": [
    "plt.figure()\n",
    "plt.plot(*data[INTERFACE_POWER])\n",
    "max_data = max(data[INTERFACE_POWER][1])\n",
    "for pin in range(4):\n",
    "    plt.plot(data[INTERFACE_GPIO][0], [d[pin]*max_data for d in data[INTERFACE_GPIO][1]])\n",
    "plt.show()"
   ]
  },
  {
   "cell_type": "code",
   "execution_count": 10,
   "metadata": {},
   "outputs": [
    {
     "data": {
      "application/vnd.jupyter.widget-view+json": {
       "model_id": "4106c4fcbae849b38cdb5c958c575bc7",
       "version_major": 2,
       "version_minor": 0
      },
      "text/plain": [
       "FigureCanvasNbAgg()"
      ]
     },
     "metadata": {},
     "output_type": "display_data"
    }
   ],
   "source": [
    "# GPIO events should probably be plotted as arrows.\n",
    "plt.figure()\n",
    "plt.plot(*data[INTERFACE_GPIO])\n",
    "plt.show()"
   ]
  },
  {
   "cell_type": "code",
   "execution_count": 11,
   "metadata": {},
   "outputs": [
    {
     "data": {
      "application/vnd.jupyter.widget-view+json": {
       "model_id": "ab0da8b64eb44bb5a7cc02104680788b",
       "version_major": 2,
       "version_minor": 0
      },
      "text/plain": [
       "FigureCanvasNbAgg()"
      ]
     },
     "metadata": {},
     "output_type": "display_data"
    }
   ],
   "source": [
    "data = []\n",
    "\n",
    "config_dict = {\n",
    "    \"power_buffers\": [{\"channel\": CHANNEL_A, \"power_type\": POWER_CURRENT}],\n",
    "    \"read_mode\": [True, True, True, True],\n",
    "    \"write_mode\": [False, False, False, False],\n",
    "    \"loggers\": [LOGGER_CSV, LOGGER_OBJECT, LOGGER_PLOT],\n",
    "    \"verbose\": 0,\n",
    "}\n",
    "\n",
    "with DGILibExtra(dgilib_path, **config_dict) as dgilib:\n",
    "    data = dgilib.logger(1)"
   ]
  },
  {
   "cell_type": "code",
   "execution_count": 12,
   "metadata": {},
   "outputs": [
    {
     "data": {
      "application/vnd.jupyter.widget-view+json": {
       "model_id": "a3079380128e4e73b6cb49eeca00f1e1",
       "version_major": 2,
       "version_minor": 0
      },
      "text/plain": [
       "FigureCanvasNbAgg()"
      ]
     },
     "metadata": {},
     "output_type": "display_data"
    },
    {
     "name": "stdout",
     "output_type": "stream",
     "text": [
      "Average current: 0.0022159258878090026 A (self.data)\n",
      "Average current: 0.0022159258878090026 A (data)\n",
      "Average current: 0.0022159258878090026 A\n",
      "Average current: 0.0003137827750551459 A (while pin 3 is high)\n"
     ]
    }
   ],
   "source": [
    "data = []\n",
    "power_data = []\n",
    "\n",
    "config_dict = {\n",
    "    \"power_buffers\": [{\"channel\": CHANNEL_A, \"power_type\": POWER_CURRENT}],\n",
    "    \"read_mode\": [True, True, True, True],\n",
    "    \"write_mode\": [False, False, False, False],\n",
    "    \"loggers\": [LOGGER_OBJECT, LOGGER_PLOT],\n",
    "    \"verbose\": 0,\n",
    "}\n",
    "\n",
    "pin = 3\n",
    "\n",
    "with DGILibExtra(dgilib_path, **config_dict) as dgilib:\n",
    "    data = dgilib.logger(1)\n",
    "    power_data = dgilib.power_filter_by_pin(pin)\n",
    "    print(f\"Average current: {dgilib.calculate_average()} A (self.data)\")\n",
    "    print(f\"Average current: {dgilib.calculate_average(data[INTERFACE_POWER])} A (data)\")\n",
    "\n",
    "    \n",
    "print(f\"Average current: {calculate_average(data[INTERFACE_POWER])} A\")\n",
    "print(f\"Average current: {calculate_average(power_data)} A (while pin {pin} is high)\")"
   ]
  },
  {
   "cell_type": "code",
   "execution_count": 13,
   "metadata": {},
   "outputs": [],
   "source": [
    "# def power_filter_by_pin(pin=0, data=None):\n",
    "#     \"\"\"\n",
    "\n",
    "#     Filters the data to when a specified pin is high\n",
    "#     \"\"\"\n",
    "\n",
    "#     power_data = data[INTERFACE_POWER]\n",
    "\n",
    "#     pin_value = False\n",
    "\n",
    "#     power_index = 0\n",
    "    \n",
    "#     for timestamp, pin_values in zip(*data[INTERFACE_GPIO]):\n",
    "#         while (power_data[0][power_index] < timestamp and power_index < len(power_data[0])):\n",
    "# #             print(power_data[0][power_index], power_data[1][power_index])\n",
    "#             power_data[1][power_index] *= pin_value\n",
    "#             power_index += 1\n",
    "            \n",
    "#         if pin_values[pin] != pin_value:\n",
    "#             print(f\"pin changed at {timestamp}, {pin_value}\")\n",
    "#             pin_value = pin_values[pin]\n",
    "\n",
    "#     return power_data\n",
    "\n",
    "# power_data = power_filter_by_pin(3, data)"
   ]
  },
  {
   "cell_type": "code",
   "execution_count": 14,
   "metadata": {},
   "outputs": [],
   "source": [
    "# def calculate_average(power_data, start_time=None, end_time=None):\n",
    "#         \"\"\"Calculate average value of the power_data using the left Riemann sum\"\"\"\n",
    "\n",
    "#         if start_time is None:\n",
    "#             start_time = power_data[0][0]\n",
    "\n",
    "#         if end_time is None:\n",
    "#             end_time = power_data[0][-1]\n",
    "\n",
    "#         last_time = start_time\n",
    "\n",
    "#         sum = 0\n",
    "\n",
    "#         for timestamp, power_value in zip(*power_data):\n",
    "#             sum += power_value * (timestamp - last_time)\n",
    "#             last_time = timestamp\n",
    "\n",
    "#         return sum / (end_time - start_time)\n",
    "    \n",
    "# # The first value is ignored when using this method\n",
    "# calculate_average([[0,2],[500,2]])"
   ]
  },
  {
   "cell_type": "code",
   "execution_count": 15,
   "metadata": {},
   "outputs": [
    {
     "data": {
      "application/vnd.jupyter.widget-view+json": {
       "model_id": "238ac873644e493b8d87010b12a1ad29",
       "version_major": 2,
       "version_minor": 0
      },
      "text/plain": [
       "FigureCanvasNbAgg()"
      ]
     },
     "metadata": {},
     "output_type": "display_data"
    },
    {
     "data": {
      "text/plain": [
       "<Figure size 640x480 with 0 Axes>"
      ]
     },
     "execution_count": 15,
     "metadata": {},
     "output_type": "execute_result"
    }
   ],
   "source": [
    "plt.figure()"
   ]
  },
  {
   "cell_type": "code",
   "execution_count": 16,
   "metadata": {},
   "outputs": [],
   "source": [
    "plt.clf()\n",
    "def logger_plot_data(data):\n",
    "    plt.gcf().set_size_inches(8, 6, forward=True)\n",
    "    plt.plot(*data[INTERFACE_POWER])\n",
    "    max_data = max(data[INTERFACE_POWER][1])\n",
    "    for pin in range(4):\n",
    "        plt.plot(data[INTERFACE_GPIO][0], [d[pin]*max_data for d in data[INTERFACE_GPIO][1]])\n",
    "    plt.xlabel('Time')\n",
    "    plt.ylabel('Current')\n",
    "    plt.suptitle(\"Logged Data\")\n",
    "    plt.title(f\"Average current: {calculate_average(data[INTERFACE_POWER])*1e3:.4} mA, with pin 2 high: {calculate_average(power_filter_by_pin(2, data))*1e3:.4} mA, with pin 3 high: {calculate_average(power_filter_by_pin(3, data))*1e3:.4}\")\n",
    "    plt.show()\n",
    "logger_plot_data(data)"
   ]
  },
  {
   "cell_type": "code",
   "execution_count": 17,
   "metadata": {},
   "outputs": [],
   "source": [
    "# calculate_average(power_filter_by_pin(2, data)[INTERFACE_POWER])\n",
    "# power_filter_by_pin(2, data)"
   ]
  },
  {
   "cell_type": "code",
   "execution_count": 18,
   "metadata": {},
   "outputs": [],
   "source": [
    "# data"
   ]
  },
  {
   "cell_type": "code",
   "execution_count": null,
   "metadata": {},
   "outputs": [],
   "source": []
  }
 ],
 "metadata": {
  "kernelspec": {
   "display_name": "Python [conda env:SAML11-32]",
   "language": "python",
   "name": "conda-env-SAML11-32-py"
  },
  "language_info": {
   "codemirror_mode": {
    "name": "ipython",
    "version": 3
   },
   "file_extension": ".py",
   "mimetype": "text/x-python",
   "name": "python",
   "nbconvert_exporter": "python",
   "pygments_lexer": "ipython3",
   "version": "3.6.8"
  }
 },
 "nbformat": 4,
 "nbformat_minor": 2
}
