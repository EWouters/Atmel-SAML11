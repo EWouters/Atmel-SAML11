{
 "cells": [
  {
   "cell_type": "code",
   "execution_count": 1,
   "metadata": {},
   "outputs": [
    {
     "name": "stderr",
     "output_type": "stream",
     "text": [
      "D:\\Anaconda3\\envs\\SAML11-32\\lib\\site-packages\\ipykernel\\parentpoller.py:116: UserWarning: Parent poll failed.  If the frontend dies,\n",
      "                the kernel may be left running.  Please let us know\n",
      "                about your system (bitness, Python, etc.) at\n",
      "                ipython-dev@scipy.org\n",
      "  ipython-dev@scipy.org\"\"\")\n"
     ]
    }
   ],
   "source": [
    "from os import path, getcwd\n",
    "import subprocess"
   ]
  },
  {
   "cell_type": "code",
   "execution_count": 140,
   "metadata": {},
   "outputs": [],
   "source": [
    "def atprogram(\n",
    "        project_path, device_name=\"ATSAML11E16A\", verbose=0, \n",
    "        clean=False, build=True, erase=True, program=True, verify=False, \n",
    "        jobs=8, tool=\"EDBG\", interface=\"SWD\", \n",
    "        atmel_studio_path=\"C:\\\\Program Files (x86)\\\\Atmel\\\\Studio\\\\7.0\",\n",
    "        make_path=None, atprogram_path=None,\n",
    "        configuration=\"Debug\", device_sn=None,\n",
    "        make_command=None, atprogram_command=None):\n",
    "    # NOTE: if multiple devices are connected the serial number needs to be supplied to atprogram using the -s flag.\n",
    "    # NOTE: verification is known to return 23, also in command line.\n",
    "    elf_mode = path.splitext(project_path)[1] is \".elf\"\n",
    "    stdout = subprocess.PIPE if verbose >= 0 else None\n",
    "    stderr = subprocess.STDOUT if verbose >= 1 else None\n",
    "    if not elf_mode:\n",
    "        if clean or build:\n",
    "            make_path = make_path or path.join(atmel_studio_path, \"shellutils\", \"make.exe\")\n",
    "            def make_caller(args):\n",
    "                res = subprocess.run([make_path] + args.split(), cwd=path.join(project_path, configuration), stdout=stdout, stderr=stderr)\n",
    "                if verbose: print(res.stdout.decode())\n",
    "                return res.returncode\n",
    "        if make_command:\n",
    "            returncode = make_caller(make_command)\n",
    "            if returncode or not atprogram_command:\n",
    "                return returncode\n",
    "        if clean:\n",
    "            returncode = make_caller(\"clean\")\n",
    "            if returncode: return returncode\n",
    "        if build:\n",
    "            returncode = make_caller(f\"all --jobs {jobs} --output-sync\")\n",
    "            if returncode: return returncode\n",
    "    if erase or program or verify or atprogram_command:\n",
    "        atprogram_path = atprogram_path or path.join(atmel_studio_path, \"atbackend\", \"atprogram.exe\")\n",
    "        def atprogram_caller(args):\n",
    "            res = subprocess.run([atprogram_path] + [\"-v\"]*(verbose-1) + args.split(), stdout=stdout, stderr=stderr)\n",
    "            if verbose: print(res.stdout.decode())\n",
    "            return res.returncode\n",
    "        elf_file_path = None if not (program or verify) else project_path if elf_mode else \\\n",
    "            path.join(project_path, configuration, path.basename(project_path)) + \".elf\"\n",
    "        atprogram_command = atprogram_command or \\\n",
    "            f\"-t {tool} -i {interface} -d {device_name}\" + \\\n",
    "            (device_sn is not None) * f\" -s {device_sn}\" + \\\n",
    "            erase * \" chiperase\" + \\\n",
    "            program * f\" program -f {elf_file_path}\" + \\\n",
    "            verify * f\" verify -f {elf_file_path}\" + \\\n",
    "            (verbose >= 3) * \" info\"\n",
    "        returncode = atprogram_caller(atprogram_command)\n",
    "        if returncode:\n",
    "            atprogram_caller(\"exitcode\")\n",
    "            return returncode\n",
    "    return 0"
   ]
  },
  {
   "cell_type": "code",
   "execution_count": 104,
   "metadata": {},
   "outputs": [],
   "source": [
    "from os import path, getenv\n",
    "from subprocess import run, PIPE, STDOUT\n",
    "\n",
    "\n",
    "def atprogram(project_path, device_name=\"ATSAML11E16A\", verbose=0, clean=False,\n",
    "              build=True, erase=True, program=True, verify=False, jobs=8,\n",
    "              tool=\"EDBG\", interface=\"SWD\", atmel_studio_path=path.join(\n",
    "                  getenv(\"programfiles(x86)\"), \"Atmel\", \"Studio\", \"7.0\"),\n",
    "              make_path=None, atprogram_path=None, configuration=\"Debug\",\n",
    "              device_sn=None, make_command=None, atprogram_command=None,\n",
    "              dry_run=False):\n",
    "    # NOTE: if multiple devices are connected the serial number needs to be\n",
    "    #   supplied to atprogram using the -s flag.\n",
    "    # NOTE: verification is known to return 23, also in command line.\n",
    "    elf_mode = path.splitext(project_path)[1] is \".elf\"\n",
    "    stdout = PIPE if verbose >= 0 else None\n",
    "    stderr = STDOUT if verbose >= 1 else None\n",
    "    if not elf_mode:\n",
    "        if clean or build:\n",
    "            make_path = make_path or path.join(\n",
    "                atmel_studio_path, \"shellutils\", \"make.exe\")\n",
    "\n",
    "            def make_caller(command):\n",
    "                args = ([make_path] + command.split())\n",
    "                kwargs = dict(cwd=path.join(\n",
    "                    project_path, configuration), stdout=stdout, stderr=stderr)\n",
    "                if dry_run:\n",
    "                    print(args, kwargs)\n",
    "                    return 0\n",
    "                res = run(args, **kwargs)\n",
    "                if verbose:\n",
    "                    print(res.stdout.decode())\n",
    "                return res.returncode\n",
    "        if make_command:\n",
    "            returncode = make_caller(make_command)\n",
    "            if returncode or not atprogram_command:\n",
    "                return returncode\n",
    "        if clean:\n",
    "            returncode = make_caller(\"clean\")\n",
    "            if returncode:\n",
    "                return returncode\n",
    "        if build:\n",
    "            returncode = make_caller(f\"all --jobs {jobs} --output-sync\")\n",
    "            if returncode:\n",
    "                return returncode\n",
    "    if erase or program or verify or atprogram_command:\n",
    "        atprogram_path = atprogram_path or path.join(\n",
    "            atmel_studio_path, \"atbackend\", \"atprogram.exe\")\n",
    "\n",
    "        def atprogram_caller(command):\n",
    "            args = ([atprogram_path] + (verbose-1) * [\"-v\"] + command.split())\n",
    "            kwargs = dict(stdout=stdout, stderr=stderr)\n",
    "            if dry_run:\n",
    "                print(args, kwargs)\n",
    "                return 0\n",
    "            res = run(args, **kwargs)\n",
    "            if verbose:\n",
    "                print(res.stdout.decode())\n",
    "            return res.returncode\n",
    "        elf_file_path = None if not (program or verify) else project_path if elf_mode else \\\n",
    "            path.join(project_path, configuration,\n",
    "                      path.basename(project_path)) + \".elf\"\n",
    "        atprogram_command = atprogram_command or \\\n",
    "            f\"-t {tool} -i {interface} -d {device_name}\" + \\\n",
    "            (device_sn is not None) * f\" -s {device_sn}\" + \\\n",
    "            erase * \" chiperase\" + \\\n",
    "            program * f\" program -f {elf_file_path}\" + \\\n",
    "            verify * f\" verify -f {elf_file_path}\" + \\\n",
    "            (verbose >= 3) * \" info\"\n",
    "        returncode = atprogram_caller(atprogram_command)\n",
    "        if returncode:\n",
    "            atprogram_caller(\"exitcode\")\n",
    "            return returncode\n",
    "    return 0\n"
   ]
  },
  {
   "cell_type": "code",
   "execution_count": 105,
   "metadata": {},
   "outputs": [
    {
     "ename": "NameError",
     "evalue": "name 'command' is not defined",
     "output_type": "error",
     "traceback": [
      "\u001b[1;31m---------------------------------------------------------------------------\u001b[0m",
      "\u001b[1;31mNameError\u001b[0m                                 Traceback (most recent call last)",
      "\u001b[1;32m<ipython-input-105-d303cdf8c447>\u001b[0m in \u001b[0;36m<module>\u001b[1;34m\u001b[0m\n\u001b[1;32m----> 1\u001b[1;33m \u001b[0mcommand\u001b[0m\u001b[1;33m\u001b[0m\u001b[1;33m\u001b[0m\u001b[0m\n\u001b[0m",
      "\u001b[1;31mNameError\u001b[0m: name 'command' is not defined"
     ]
    }
   ],
   "source": [
    "command"
   ]
  },
  {
   "cell_type": "code",
   "execution_count": 106,
   "metadata": {},
   "outputs": [],
   "source": [
    "project_path = \"C:\\\\Users\\\\erikw_000\\\\Documents\\\\GitHub\\\\Atmel-SAML11\\\\Python\\\\pydgilib\\\\UnitTest\\\\UnitTest\""
   ]
  },
  {
   "cell_type": "code",
   "execution_count": 108,
   "metadata": {},
   "outputs": [
    {
     "name": "stdout",
     "output_type": "stream",
     "text": [
      "make: Nothing to be done for 'all'.\n",
      "\n",
      "Firmware check OK\n",
      "Chiperase completed successfully\n",
      "Programming completed successfully.\n",
      "\n"
     ]
    },
    {
     "data": {
      "text/plain": [
       "0"
      ]
     },
     "execution_count": 108,
     "metadata": {},
     "output_type": "execute_result"
    }
   ],
   "source": [
    "atprogram(project_path, verbose=1, dry_run=False)"
   ]
  },
  {
   "cell_type": "code",
   "execution_count": 83,
   "metadata": {},
   "outputs": [
    {
     "data": {
      "text/plain": [
       "'8'"
      ]
     },
     "execution_count": 83,
     "metadata": {},
     "output_type": "execute_result"
    }
   ],
   "source": [
    "from os import getenv\n",
    "getenv(\"NUMBER_OF_PROCESSORS\")\n",
    "#!echo %NUMBER_OF_PROCESSORS%"
   ]
  },
  {
   "cell_type": "code",
   "execution_count": 150,
   "metadata": {},
   "outputs": [
    {
     "name": "stdout",
     "output_type": "stream",
     "text": [
      "C:\\Program Files (x86)\n"
     ]
    }
   ],
   "source": [
    "def g(b=getenv(\"programfiles(x86)\")):\n",
    "    print(b)\n",
    "g()"
   ]
  },
  {
   "cell_type": "code",
   "execution_count": 73,
   "metadata": {},
   "outputs": [],
   "source": [
    "def j(*args):\n",
    "    print(*args)\n",
    "    print(args)\n",
    "    print(type(args))"
   ]
  },
  {
   "cell_type": "code",
   "execution_count": 110,
   "metadata": {},
   "outputs": [
    {
     "name": "stdout",
     "output_type": "stream",
     "text": [
      "4\n"
     ]
    }
   ],
   "source": [
    "a = b = c = None\n",
    "if a is b is None:\n",
    "    print(4)"
   ]
  },
  {
   "cell_type": "code",
   "execution_count": 111,
   "metadata": {},
   "outputs": [
    {
     "data": {
      "text/plain": [
       "True"
      ]
     },
     "execution_count": 111,
     "metadata": {},
     "output_type": "execute_result"
    }
   ],
   "source": [
    "s = \"-v\"\n",
    "def i(e):\n",
    "    return \"v\" in e\n",
    "\n",
    "i(s)"
   ]
  },
  {
   "cell_type": "code",
   "execution_count": 117,
   "metadata": {},
   "outputs": [
    {
     "ename": "AssertionError",
     "evalue": "",
     "output_type": "error",
     "traceback": [
      "\u001b[1;31m---------------------------------------------------------------------------\u001b[0m",
      "\u001b[1;31mAssertionError\u001b[0m                            Traceback (most recent call last)",
      "\u001b[1;32m<ipython-input-117-337de689209d>\u001b[0m in \u001b[0;36m<module>\u001b[1;34m\u001b[0m\n\u001b[1;32m----> 1\u001b[1;33m \u001b[1;32massert\u001b[0m \u001b[0mi\u001b[0m\u001b[1;33m(\u001b[0m\u001b[1;34m\"-eee\"\u001b[0m\u001b[1;33m)\u001b[0m\u001b[1;33m\u001b[0m\u001b[1;33m\u001b[0m\u001b[0m\n\u001b[0m",
      "\u001b[1;31mAssertionError\u001b[0m: "
     ]
    }
   ],
   "source": [
    "assert i(\"-eee\")"
   ]
  },
  {
   "cell_type": "code",
   "execution_count": null,
   "metadata": {},
   "outputs": [],
   "source": []
  },
  {
   "cell_type": "code",
   "execution_count": 126,
   "metadata": {},
   "outputs": [
    {
     "data": {
      "text/plain": [
       "False"
      ]
     },
     "execution_count": 126,
     "metadata": {},
     "output_type": "execute_result"
    }
   ],
   "source": [
    "not True and (True or True)"
   ]
  },
  {
   "cell_type": "code",
   "execution_count": 22,
   "metadata": {},
   "outputs": [
    {
     "ename": "TypeError",
     "evalue": "join() takes exactly one argument (3 given)",
     "output_type": "error",
     "traceback": [
      "\u001b[1;31m---------------------------------------------------------------------------\u001b[0m",
      "\u001b[1;31mTypeError\u001b[0m                                 Traceback (most recent call last)",
      "\u001b[1;32m<ipython-input-22-2fcdfaee0d6d>\u001b[0m in \u001b[0;36m<module>\u001b[1;34m\u001b[0m\n\u001b[0;32m      2\u001b[0m \u001b[0margs\u001b[0m \u001b[1;33m=\u001b[0m \u001b[1;33m(\u001b[0m\u001b[1;33m[\u001b[0m\u001b[1;34m\"make.exe\"\u001b[0m\u001b[1;33m]\u001b[0m \u001b[1;33m+\u001b[0m \u001b[0mcommand\u001b[0m\u001b[1;33m.\u001b[0m\u001b[0msplit\u001b[0m\u001b[1;33m(\u001b[0m\u001b[1;33m)\u001b[0m\u001b[1;33m)\u001b[0m\u001b[1;33m\u001b[0m\u001b[1;33m\u001b[0m\u001b[0m\n\u001b[0;32m      3\u001b[0m \u001b[0margs\u001b[0m\u001b[1;33m\u001b[0m\u001b[1;33m\u001b[0m\u001b[0m\n\u001b[1;32m----> 4\u001b[1;33m \u001b[1;34m\"\"\u001b[0m\u001b[1;33m.\u001b[0m\u001b[0mjoin\u001b[0m\u001b[1;33m(\u001b[0m\u001b[1;33m*\u001b[0m\u001b[0margs\u001b[0m\u001b[1;33m)\u001b[0m\u001b[1;33m\u001b[0m\u001b[1;33m\u001b[0m\u001b[0m\n\u001b[0m",
      "\u001b[1;31mTypeError\u001b[0m: join() takes exactly one argument (3 given)"
     ]
    }
   ],
   "source": [
    "command = \"-v 6\"\n",
    "args = ([\"make.exe\"] + command.split())\n",
    "args\n",
    "\"\".join(*args)"
   ]
  },
  {
   "cell_type": "code",
   "execution_count": 3,
   "metadata": {},
   "outputs": [],
   "source": [
    "makefile_path = path.join(getcwd(),\"hello\")"
   ]
  },
  {
   "cell_type": "code",
   "execution_count": 4,
   "metadata": {},
   "outputs": [],
   "source": [
    "def foo():\n",
    "    foo.counter += 1\n",
    "    print(\"Counter is %d\" % foo.counter)\n",
    "foo.counter = 0"
   ]
  },
  {
   "cell_type": "code",
   "execution_count": 14,
   "metadata": {},
   "outputs": [],
   "source": [
    "kwargs = dict(cwd=makefile_path)"
   ]
  },
  {
   "cell_type": "code",
   "execution_count": 18,
   "metadata": {},
   "outputs": [],
   "source": [
    "def run(*args, **kwargs):\n",
    "    run.dry_run_result.append(\"\".join(kwargs.get(\"cwd\", getcwd())) + \"> \" + \" \".join(*args))\n",
    "run.dry_run_result = []"
   ]
  },
  {
   "cell_type": "code",
   "execution_count": 19,
   "metadata": {},
   "outputs": [
    {
     "data": {
      "text/plain": [
       "['C:\\\\Users\\\\erikw_000\\\\Documents\\\\GitHub\\\\Atmel-SAML11\\\\Python\\\\test notebooks\\\\hello> make.exe -v 6']"
      ]
     },
     "execution_count": 19,
     "metadata": {},
     "output_type": "execute_result"
    }
   ],
   "source": [
    "run(args, **kwargs)\n",
    "run.dry_run_result"
   ]
  },
  {
   "cell_type": "code",
   "execution_count": 162,
   "metadata": {},
   "outputs": [
    {
     "data": {
      "text/plain": [
       "'make.exe -v 6'"
      ]
     },
     "execution_count": 162,
     "metadata": {},
     "output_type": "execute_result"
    }
   ],
   "source": [
    "\" \".join(args)"
   ]
  },
  {
   "cell_type": "code",
   "execution_count": 181,
   "metadata": {},
   "outputs": [
    {
     "data": {
      "text/plain": [
       "'sdf'"
      ]
     },
     "execution_count": 181,
     "metadata": {},
     "output_type": "execute_result"
    }
   ],
   "source": [
    "bytes(\"sdf\", \"utf-8\").decode()"
   ]
  },
  {
   "cell_type": "code",
   "execution_count": null,
   "metadata": {},
   "outputs": [],
   "source": []
  },
  {
   "cell_type": "code",
   "execution_count": 187,
   "metadata": {},
   "outputs": [
    {
     "ename": "AttributeError",
     "evalue": "type object 'list' has no attribute 'setattr'",
     "output_type": "error",
     "traceback": [
      "\u001b[1;31m---------------------------------------------------------------------------\u001b[0m",
      "\u001b[1;31mAttributeError\u001b[0m                            Traceback (most recent call last)",
      "\u001b[1;32m<ipython-input-187-a6fa057050b1>\u001b[0m in \u001b[0;36m<module>\u001b[1;34m\u001b[0m\n\u001b[0;32m      1\u001b[0m \u001b[0ma\u001b[0m \u001b[1;33m=\u001b[0m \u001b[0mlist\u001b[0m\u001b[1;33m\u001b[0m\u001b[1;33m\u001b[0m\u001b[0m\n\u001b[1;32m----> 2\u001b[1;33m \u001b[0ma\u001b[0m\u001b[1;33m.\u001b[0m\u001b[0msetattr\u001b[0m\u001b[1;33m(\u001b[0m\u001b[0ma\u001b[0m\u001b[1;33m,\u001b[0m\u001b[1;36m4\u001b[0m\u001b[1;33m)\u001b[0m\u001b[1;33m\u001b[0m\u001b[1;33m\u001b[0m\u001b[0m\n\u001b[0m\u001b[0;32m      3\u001b[0m \u001b[0ma\u001b[0m\u001b[1;33m.\u001b[0m\u001b[0mb\u001b[0m\u001b[1;33m=\u001b[0m\u001b[1;36m3\u001b[0m\u001b[1;33m\u001b[0m\u001b[1;33m\u001b[0m\u001b[0m\n",
      "\u001b[1;31mAttributeError\u001b[0m: type object 'list' has no attribute 'setattr'"
     ]
    }
   ],
   "source": [
    "a = list\n",
    "a.setattr(a,4)\n",
    "a.b=3"
   ]
  },
  {
   "cell_type": "code",
   "execution_count": 193,
   "metadata": {},
   "outputs": [
    {
     "ename": "TypeError",
     "evalue": "object() takes no parameters",
     "output_type": "error",
     "traceback": [
      "\u001b[1;31m---------------------------------------------------------------------------\u001b[0m",
      "\u001b[1;31mTypeError\u001b[0m                                 Traceback (most recent call last)",
      "\u001b[1;32m<ipython-input-193-370c797511f6>\u001b[0m in \u001b[0;36m<module>\u001b[1;34m\u001b[0m\n\u001b[1;32m----> 1\u001b[1;33m \u001b[0mres\u001b[0m \u001b[1;33m=\u001b[0m \u001b[0mobject\u001b[0m\u001b[1;33m(\u001b[0m\u001b[0mstdout\u001b[0m\u001b[1;33m=\u001b[0m\u001b[1;34m'4'\u001b[0m\u001b[1;33m)\u001b[0m\u001b[1;33m\u001b[0m\u001b[1;33m\u001b[0m\u001b[0m\n\u001b[0m\u001b[0;32m      2\u001b[0m \u001b[0mres\u001b[0m\u001b[1;33m.\u001b[0m\u001b[0mstdout\u001b[0m \u001b[1;33m=\u001b[0m \u001b[1;32mlambda\u001b[0m\u001b[1;33m:\u001b[0m \u001b[1;32mNone\u001b[0m\u001b[1;33m\u001b[0m\u001b[1;33m\u001b[0m\u001b[0m\n",
      "\u001b[1;31mTypeError\u001b[0m: object() takes no parameters"
     ]
    }
   ],
   "source": [
    "res = object()\n",
    "res.stdout = lambda: None"
   ]
  },
  {
   "cell_type": "code",
   "execution_count": 136,
   "metadata": {},
   "outputs": [],
   "source": []
  },
  {
   "cell_type": "code",
   "execution_count": 136,
   "metadata": {},
   "outputs": [],
   "source": []
  },
  {
   "cell_type": "code",
   "execution_count": 41,
   "metadata": {},
   "outputs": [
    {
     "data": {
      "text/plain": [
       "['-v']"
      ]
     },
     "execution_count": 41,
     "metadata": {},
     "output_type": "execute_result"
    }
   ],
   "source": [
    "verbose = 2\n",
    "[] + [\"-v\"]*(verbose-1)"
   ]
  },
  {
   "cell_type": "code",
   "execution_count": 44,
   "metadata": {},
   "outputs": [
    {
     "data": {
      "text/plain": [
       "'-s adfaf'"
      ]
     },
     "execution_count": 44,
     "metadata": {},
     "output_type": "execute_result"
    }
   ],
   "source": [
    "device_sn = \"adfaf\"\n",
    "f\"-s {device_sn}\"*(device_sn is not None)"
   ]
  },
  {
   "cell_type": "code",
   "execution_count": 34,
   "metadata": {},
   "outputs": [
    {
     "ename": "SyntaxError",
     "evalue": "invalid syntax (<ipython-input-34-e10f4a9a9d09>, line 2)",
     "output_type": "error",
     "traceback": [
      "\u001b[1;36m  File \u001b[1;32m\"<ipython-input-34-e10f4a9a9d09>\"\u001b[1;36m, line \u001b[1;32m2\u001b[0m\n\u001b[1;33m    h or (return 4)\u001b[0m\n\u001b[1;37m               ^\u001b[0m\n\u001b[1;31mSyntaxError\u001b[0m\u001b[1;31m:\u001b[0m invalid syntax\n"
     ]
    }
   ],
   "source": [
    "def g(h):\n",
    "    h or return 4\n",
    "    return 3"
   ]
  },
  {
   "cell_type": "code",
   "execution_count": 134,
   "metadata": {},
   "outputs": [
    {
     "data": {
      "text/plain": [
       "True"
      ]
     },
     "execution_count": 134,
     "metadata": {},
     "output_type": "execute_result"
    }
   ],
   "source": [
    "False or not None"
   ]
  },
  {
   "cell_type": "code",
   "execution_count": 115,
   "metadata": {},
   "outputs": [
    {
     "ename": "UnboundLocalError",
     "evalue": "local variable 'dd' referenced before assignment",
     "output_type": "error",
     "traceback": [
      "\u001b[1;31m---------------------------------------------------------------------------\u001b[0m",
      "\u001b[1;31mUnboundLocalError\u001b[0m                         Traceback (most recent call last)",
      "\u001b[1;32m<ipython-input-115-67fde4b58603>\u001b[0m in \u001b[0;36m<module>\u001b[1;34m\u001b[0m\n\u001b[0;32m      9\u001b[0m     \u001b[0mmake_path\u001b[0m \u001b[1;33m=\u001b[0m \u001b[0mmake_path\u001b[0m \u001b[1;32mor\u001b[0m \u001b[0ma\u001b[0m\u001b[1;33m\u001b[0m\u001b[1;33m\u001b[0m\u001b[0m\n\u001b[0;32m     10\u001b[0m     \u001b[1;32mreturn\u001b[0m \u001b[0mmake_path\u001b[0m\u001b[1;33m\u001b[0m\u001b[1;33m\u001b[0m\u001b[0m\n\u001b[1;32m---> 11\u001b[1;33m \u001b[0mg\u001b[0m\u001b[1;33m(\u001b[0m\u001b[0ma\u001b[0m\u001b[1;33m)\u001b[0m\u001b[1;33m\u001b[0m\u001b[1;33m\u001b[0m\u001b[0m\n\u001b[0m",
      "\u001b[1;32m<ipython-input-115-67fde4b58603>\u001b[0m in \u001b[0;36mg\u001b[1;34m(a)\u001b[0m\n\u001b[0;32m      5\u001b[0m \u001b[0mdd\u001b[0m \u001b[1;33m=\u001b[0m \u001b[1;36m8\u001b[0m\u001b[1;33m\u001b[0m\u001b[1;33m\u001b[0m\u001b[0m\n\u001b[0;32m      6\u001b[0m \u001b[1;32mdef\u001b[0m \u001b[0mg\u001b[0m\u001b[1;33m(\u001b[0m\u001b[0ma\u001b[0m\u001b[1;33m)\u001b[0m\u001b[1;33m:\u001b[0m\u001b[1;33m\u001b[0m\u001b[1;33m\u001b[0m\u001b[0m\n\u001b[1;32m----> 7\u001b[1;33m     \u001b[0mdd\u001b[0m \u001b[1;33m=\u001b[0m \u001b[0mdd\u001b[0m \u001b[1;32mor\u001b[0m \u001b[1;36m4\u001b[0m\u001b[1;33m\u001b[0m\u001b[1;33m\u001b[0m\u001b[0m\n\u001b[0m\u001b[0;32m      8\u001b[0m     \u001b[0ma\u001b[0m \u001b[1;33m+=\u001b[0m \u001b[0mbool\u001b[0m\u001b[1;33m(\u001b[0m\u001b[0mcc\u001b[0m\u001b[1;33m)\u001b[0m\u001b[1;33m\u001b[0m\u001b[1;33m\u001b[0m\u001b[0m\n\u001b[0;32m      9\u001b[0m     \u001b[0mmake_path\u001b[0m \u001b[1;33m=\u001b[0m \u001b[0mmake_path\u001b[0m \u001b[1;32mor\u001b[0m \u001b[0ma\u001b[0m\u001b[1;33m\u001b[0m\u001b[1;33m\u001b[0m\u001b[0m\n",
      "\u001b[1;31mUnboundLocalError\u001b[0m: local variable 'dd' referenced before assignment"
     ]
    }
   ],
   "source": [
    "a = 4\n",
    "make_path = None\n",
    "make_path = make_path or a\n",
    "cc = None\n",
    "dd = 8\n",
    "def g(a):\n",
    "    dd = dd or 4\n",
    "    a += bool(cc)\n",
    "    make_path = make_path or a\n",
    "    return make_path\n",
    "g(a)"
   ]
  },
  {
   "cell_type": "code",
   "execution_count": 100,
   "metadata": {},
   "outputs": [],
   "source": [
    "make_path = make_path or 5"
   ]
  },
  {
   "cell_type": "code",
   "execution_count": 32,
   "metadata": {},
   "outputs": [
    {
     "data": {
      "text/plain": [
       "4"
      ]
     },
     "execution_count": 32,
     "metadata": {},
     "output_type": "execute_result"
    }
   ],
   "source": [
    "make_path"
   ]
  },
  {
   "cell_type": "code",
   "execution_count": null,
   "metadata": {},
   "outputs": [],
   "source": []
  },
  {
   "cell_type": "code",
   "execution_count": null,
   "metadata": {},
   "outputs": [],
   "source": []
  },
  {
   "cell_type": "code",
   "execution_count": 132,
   "metadata": {},
   "outputs": [
    {
     "name": "stdout",
     "output_type": "stream",
     "text": [
      "5\n"
     ]
    }
   ],
   "source": [
    "A = 243\n",
    "if not True or A:\n",
    "    print(5)"
   ]
  },
  {
   "cell_type": "code",
   "execution_count": null,
   "metadata": {},
   "outputs": [],
   "source": []
  },
  {
   "cell_type": "code",
   "execution_count": null,
   "metadata": {},
   "outputs": [],
   "source": []
  },
  {
   "cell_type": "code",
   "execution_count": null,
   "metadata": {},
   "outputs": [],
   "source": []
  },
  {
   "cell_type": "code",
   "execution_count": 81,
   "metadata": {},
   "outputs": [
    {
     "data": {
      "text/plain": [
       "6"
      ]
     },
     "execution_count": 81,
     "metadata": {},
     "output_type": "execute_result"
    }
   ],
   "source": [
    "elf_file_path = 4 if not (program or verify) else 5 if elf_mode else \\\n",
    "    6\n",
    "elf_file_path"
   ]
  },
  {
   "cell_type": "code",
   "execution_count": 79,
   "metadata": {},
   "outputs": [],
   "source": [
    "program = True\n",
    "verify = False\n",
    "project_path = 5\n",
    "elf_mode = False"
   ]
  },
  {
   "cell_type": "code",
   "execution_count": 82,
   "metadata": {},
   "outputs": [],
   "source": [
    "elf_file_path = None if not (program or verify) else project_path if elf_mode else \\\n",
    "    \".elf\""
   ]
  },
  {
   "cell_type": "markdown",
   "metadata": {},
   "source": [
    "```\n",
    ">atprogram\n",
    "[ERROR] No command specified.\n",
    "Atmel Studio Command Line Interface\n",
    "Copyright (C) 2015 Atmel Corporation.\n",
    "\n",
    "Usage: atprogram [options] <command> [arguments] [<command> [arguments] ...]\n",
    "\n",
    "Options:\n",
    "  -t  --tool <arg>           Tool name: avrdragon, avrispmk2, avrone, jtagice3,\n",
    "                             jtagicemkii, qt600, stk500, stk600, samice, edbg,\n",
    "                             medbg, nedbg, atmelice, pickit4, powerdebugger,\n",
    "                             megadfu or flip.\n",
    "  -s  --serialnumber <arg>   The programmer/debugger serialnumber. Must be\n",
    "                             specified when more than one debugger is\n",
    "                             connected.\n",
    "  -c  --comport <arg>        The com port to use for the programmer/debugger.\n",
    "                             e.g. -c COM1 or -c 1\n",
    "  -i  --interface <arg>      Physical interface: aWire, debugWIRE, HVPP, HVSP,\n",
    "                             ISP, JTAG, PDI, UPDI, TPI or SWD.\n",
    "  -d  --device <arg>         Device name. E.g. atxmega128a1 or at32uc3a0256.\n",
    "  -v  --verbose              Verbose output (debug).\n",
    "  -h  --host <arg>           Target host which runs the backend process.\n",
    "  -p  --port <arg>           Specify which port to use for the backend process.\n",
    "                             Ignored if the host option is not given.\n",
    "  -l  --logfile <arg>        Log file for atpbackend output.\n",
    "  -f  --force                Force command even if firmware is not up to date.\n",
    "  -cl --clock <arg>          The frequency to use for communication with a\n",
    "                             device (hz, khz, mhz, default hz). E.g. -cl 10mhz\n",
    "  -mb --max-baudrate <arg>   The maximum baud rate for communication on awire\n",
    "                             (bps).\n",
    "  -xr --externalreset        Apply external reset when starting a session.\n",
    "  -dc --daisychain <args,..> Set up a JTAG daisychain. Arguments are <devices-\n",
    "                             before, devices-after, instr-before, instr-after>.\n",
    "  -dca --daisychain_auto <arg> Deprecated.\n",
    "  -sa --snippet_addr <arg>   Address where flash programming ram snippet should\n",
    "                             be loaded.\n",
    "  -nr --no_ram               Do not use ram snippet to program flash.\n",
    "  -tv --target-voltage <arg> Set the STK600, STK500 or Powerdebugger target\n",
    "                             voltage (float value).\n",
    "  -a0 --aref0 <arg>          Set the STK600 Aref0 or STK500 aref generator\n",
    "                             voltage (float value).\n",
    "  -a1 --aref1 <arg>          Set the STK600 Aref1 generator voltage (float\n",
    "                             value).\n",
    "  -cg --clock-generator <arg> Set the STK600 or STK500 clock generator frequency\n",
    "                             (hz, khz, mhz, default hz).\n",
    "      --timeout <arg>        Set the timeout value in seconds for commands. The\n",
    "                             default is 180 seconds. Set to 0 for no timeout.\n",
    "  -q  --quiet                Do not display activity indicator.\n",
    "  -?  --help                 Display help information.\n",
    "  -V  --version              Display version information.\n",
    "  -cf --configfile <arg>     Set the configuration setting file name with path.\n",
    "  -ua --12v-updi-activation <arg> Use the 12V activation sequence for UPDI.\n",
    "                             Disconnect any peripherals on the UPDI line which\n",
    "                             are not 12V tolerant! Supported modes are: tool-\n",
    "                             toggle-power, user-toggle-power, simple-unsafe-\n",
    "                             pulse\n",
    "  -ab --atbackend <arg>      Specify path to atbackend executable. If specified\n",
    "                             with --host and --port, then --host and --port is\n",
    "                             used.\n",
    "\n",
    "Commands:\n",
    "   calibrate        Performs the oscillator calibration procedure.\n",
    "   chiperase        Full erase of chip.\n",
    "   debugaccess      Set(/get) Debug Access Level (DAL) on ARM devices.\n",
    "   detect           Detects devices on the jtag interface for supported tools.\n",
    "   dwdisable        Disable debugWIRE interface.\n",
    "   erase            Erase the specified memory.\n",
    "   exitcodes        Display possible exit codes for atprogram.\n",
    "   help             Displays help for a specific command.\n",
    "   info             Display information about a device.\n",
    "   interactive      Run in interactive mode.\n",
    "   list             Detect and print information about connected Atmel Tools.\n",
    "   migration        Display help for migration from old command line utilities.\n",
    "   panel            Pops-up Tool's settings Dialog.\n",
    "   parameters       Sets given parameters on the given tool without doing anything else.\n",
    "   powercalibration Performs the calibration procedure for the Powerdebugger.\n",
    "   program          Program device with data from <file>.\n",
    "   read             Read the contents of the memory on the device.\n",
    "   reboot           Reboots the given tool.\n",
    "   reset            Reset all domains and jump to the reset vector.\n",
    "   secure           Set the security bit on UC3 and ARM devices.\n",
    "   selftest         Performs the selftest procedure on Atmel-ICE.\n",
    "   verify           Verify content of memory based on a file.\n",
    "   version          Display the version.\n",
    "   write            Write to the memory with values entered on the command line.\n",
    "\n",
    "Arguments:\n",
    "  Use atprogram help <command> to get available attributes.\n",
    "\n",
    "Example:\n",
    "  atprogram -t jtagice3 -i jtag -d at32uc3b0512 program -f e:\\file.elf\n",
    "  atprogram -t avrone -i pdi -d atxmega128a1 chiperase\n",
    "\n",
    "For command specific help, use atprogram help <command>\n",
    "\n",
    "```"
   ]
  },
  {
   "cell_type": "markdown",
   "metadata": {},
   "source": [
    "```\n",
    ">atprogram -d ATSAML11E16A -t EDBG -i SWD exitcode\n",
    "Exit codes for atprogram\n",
    "\n",
    "atprogram is the Atmel Studio Command Line Interface which is deployed with\n",
    "Atmel Studio 6 as well as in a standalone package.  It replaces the individual\n",
    "Tools' command line interfaces, including:\n",
    "  - Stk500.exe\n",
    "  - Stk600.exe\n",
    "  - jtagiceii.exe\n",
    "  - AVRDragon.exe\n",
    "  - avrone.exe\n",
    "\n",
    "atprogram also replaces the command line interface to UC3 devices- avr32program\n",
    "atprogram also provides command line access to JTAGICE3 and SAMICE.\n",
    "\n",
    "atprogram makes use of the Atmel Studio backend, which means that all tools\n",
    "and devices supported by Atmel Studio are supported by atprogram.exe\n",
    "\n",
    "This guide is intended to be used as a reference when using atprogram\n",
    "in script utilities.\n",
    "\n",
    "Code ranges:\n",
    " 0-9         Exit codes that is locked or unknown\n",
    " 10-50       Exit codes due to errors in atprogram itself\n",
    " 100-200     Exit codes from atbackend\n",
    "\n",
    "\n",
    "Exits Codes:\n",
    "\n",
    "0    Success                       The program executed with no errors\n",
    "1    Unexpected Error              A run time error that was not anticipated\n",
    "2    User Interrupt Error          A user interrupted the program\n",
    "10   Command Error                 Exception which indicates that a command has\n",
    "                                   failed for some internal reason.\n",
    "11   Command Argument Error        Raised when there are error in the arguments\n",
    "                                   passed to the command\n",
    "12   Missing Command Error         An error which occurs if there is no command\n",
    "13   Command Parser Error          Error when parsing command line arguments.\n",
    "14   Tool Error                    Exception raised when there is an error with\n",
    "                                   the setup or use of a tool\n",
    "15   Resource Error                Exception raised when there is an error in\n",
    "                                   creating or serving a resource.\n",
    "16   Tcf Error                     A TCF command returned an error.\n",
    "17   Timeout Error                 Error because of an timeout.\n",
    "18   Missing Or Wrong Input Error  An error caused by incomplete information\n",
    "                                   specified by user\n",
    "19   Old Fw Exception              Firmware must be upgraded\n",
    "20   Backend Creation Error        Exception raised when there is an error in\n",
    "                                   creating or serving a resource.\n",
    "21   Options Parse Error           Error in parsing an option.\n",
    "22   Json Parse Error              Exception which can be thrown if a TCF\n",
    "                                   response could not be parsed.\n",
    "23   Verify Error                  An error given when failing to verify memory\n",
    "                                   content\n",
    "```"
   ]
  },
  {
   "cell_type": "code",
   "execution_count": null,
   "metadata": {},
   "outputs": [],
   "source": []
  },
  {
   "cell_type": "code",
   "execution_count": null,
   "metadata": {},
   "outputs": [],
   "source": [
    "\"\"\"This module provides Python bindings for make and atprogram.\"\"\"\n",
    "from os import path, getenv\n",
    "from subprocess import run, PIPE, STDOUT\n",
    "from warnings import warn\n",
    "from collections import namedtuple\n",
    "\n",
    "# In secure mode all commands will be returned in a list, they will not be\n",
    "# executed\n",
    "SECURE_MODE = False\n",
    "\n",
    "\n",
    "def atprogram(project_path=None, device_name=\"ATSAML11E16A\", verbose=0,\n",
    "              clean=False, build=True, erase=True, program=True, verify=False,\n",
    "              tool=\"EDBG\", interface=\"SWD\", atmel_studio_path=path.join(\n",
    "                  getenv(\"programfiles(x86)\"), \"Atmel\", \"Studio\", \"7.0\"),\n",
    "              make_path=None, atprogram_path=None, configuration=\"Debug\",\n",
    "              device_sn=None, jobs=getenv(\"NUMBER_OF_PROCESSORS\"),\n",
    "              make_command=None, atprogram_command=None, dry_run=False):\n",
    "    \"\"\"Atprogram.\n",
    "\n",
    "    This function can compile projects and write them to a device. It\n",
    "    determines what to do based on the arguments it gets. Specify at least one\n",
    "    of `project_path`, `make_command` or `atprogram_command`.\n",
    "\n",
    "    In secure mode all commands will be returned in a list, they will not be\n",
    "    executed.\n",
    "\n",
    "    NOTE: Verification is known to return 23, also in command line.\n",
    "\n",
    "    Keyword Arguments:\n",
    "        project_path {str} -- Location where the project resides. If it ends in\n",
    "            `.elf` the elf file will be used. If it ends in `Makefile` the\n",
    "            Makefile will be used. Otherwise it should be a path to a folder\n",
    "            which holds the `Debug` folder. (default: {None})\n",
    "        device_name {str} -- Device name. E.g. atxmega128a1 or at32uc3a0256.\n",
    "            (default: {\"ATSAML11E16A\"})\n",
    "        verbose {int} -- Verbosity:\n",
    "            - 0: Silent (default: {0})\n",
    "            - 1: Info\n",
    "            - 2: Debug\n",
    "            - 3: List Commands\n",
    "        clean {bool} -- Run make clean if True (default: {False})\n",
    "        build {bool} -- Run make all if True (default: {True})\n",
    "        erase {bool} -- Run atprogram chiperase if True (default: {True})\n",
    "        program {bool} -- Run atprogram program if True (default: {True})\n",
    "        verify {bool} -- Run atprogram verify if True (default: {False})\n",
    "        tool {str} -- Tool name: avrdragon, avrispmk2, avrone, jtagice3,\n",
    "            jtagicemkii, qt600, stk500, stk600, samice, edbg, medbg, nedbg,\n",
    "            atmelice, pickit4, powerdebugger, megadfu or flip. (default:\n",
    "            {\"EDBG\"})\n",
    "        interface {str} -- Physical interface: aWire, debugWIRE, HVPP, HVSP,\n",
    "            ISP, JTAG, PDI, UPDI, TPI or SWD. (default: {\"SWD\"})\n",
    "        atmel_studio_path {[type]} -- Location where Atmel Studio is installed,\n",
    "            ending in the folder named after the version, e.g. 7.0. (default:\n",
    "            {path.join(getenv(\"programfiles(x86)\"), \"Atmel\", \"Studio\", \"7.0\")})\n",
    "        make_path {[type]} -- Location where `make.exe` is installed. (default:\n",
    "            {path.join(getenv(\"programfiles(x86)\"), \"Atmel\", \"Studio\", \"7.0\", \"shellutils\", \"make.exe\")})\n",
    "        atprogram_path {[type]} -- Location where `atprogram.exe` is installed\n",
    "            (default: {path.join(getenv(\"programfiles(x86)\"), \"Atmel\", \"Studio\", \"7.0\", \"atbackend\", \"atprogram.exe\")})\n",
    "        configuration {str} -- Which configuration to use. (default: {\"Debug\"})\n",
    "        device_sn {str} -- The programmer/debugger serialnumber. Must be\n",
    "            specified when more than one debugger is connected. (default:\n",
    "            {None})\n",
    "        jobs {int} -- How many jobs *make* should use(default:\n",
    "            {getenv(\"NUMBER_OF_PROCESSORS\")})\n",
    "        make_command {str} -- Options to pass to make `[options] [target] ...`\n",
    "            (default: {None})\n",
    "        atprogram_command {str} -- Command(s) to pass to atprogram: `[options]\n",
    "            <command> [arguments] [<command> [arguments] ...]` (default:\n",
    "            {None})\n",
    "        dry_run {bool} -- [description] (default: {False})\n",
    "\n",
    "    Raises:\n",
    "        ValueError -- Need to specify at least one of `project_path`,\n",
    "            `make_command` or `atprogram_command`.\n",
    "\n",
    "    Returns:\n",
    "        int -- A non-zero return value indicates the subprocess call returned\n",
    "            an error.\n",
    "\n",
    "    \"\"\"\n",
    "    if SECURE_MODE:\n",
    "        warn(\"In secure mode all commands will be returned in a list, they \" +\n",
    "             \"will not be executed.\")\n",
    "    elf_mode = False\n",
    "    makefile_mode = False\n",
    "    makefile_path = None\n",
    "    if dry_run or SECURE_MODE:\n",
    "        run = _run\n",
    "        run.dry_run_result = []\n",
    "    if project_path is not None:\n",
    "        elf_mode = path.splitext(project_path)[1] is \".elf\"\n",
    "        makefile_path, makefile = path.split(project_path)\n",
    "        makefile_mode = makefile is \"Makefile\"\n",
    "        if not makefile_mode:\n",
    "            makefile_path = path.join(project_path, configuration)\n",
    "    elif make_command is atprogram_command is None:\n",
    "        raise ValueError(\n",
    "            \"Need to specify at least one of project_path, make_command or \" +\n",
    "            \"atprogram_command.\")\n",
    "    else:\n",
    "        # This is make_command mode or atprogram_command mode\n",
    "        clean = build = erase = program = verify = False\n",
    "    stdout = PIPE if verbose >= 0 else None\n",
    "    stderr = STDOUT if verbose >= 1 else None\n",
    "    if not elf_mode and (clean or build or make_command):\n",
    "        make_path = make_path or path.join(\n",
    "            atmel_studio_path, \"shellutils\", \"make.exe\")\n",
    "\n",
    "        def make_caller(command):\n",
    "            args = ([make_path] + command.split())\n",
    "            kwargs = dict(cwd=makefile_path, stdout=stdout, stderr=stderr)\n",
    "            res = run(args, **kwargs)\n",
    "            if verbose:\n",
    "                print(res.stdout.decode())\n",
    "            return res.returncode\n",
    "        if make_command:\n",
    "            returncode = make_caller(make_command)\n",
    "            if returncode or not atprogram_command:\n",
    "                return returncode\n",
    "        if clean:\n",
    "            returncode = make_caller(\"clean\")\n",
    "            if returncode:\n",
    "                return returncode\n",
    "        if build:\n",
    "            returncode = make_caller(f\"all --jobs {jobs} --output-sync\")\n",
    "            if returncode:\n",
    "                return returncode\n",
    "    if not makefile_mode and (erase or program or verify or atprogram_command):\n",
    "        atprogram_path = atprogram_path or path.join(\n",
    "            atmel_studio_path, \"atbackend\", \"atprogram.exe\")\n",
    "\n",
    "        def atprogram_caller(command):\n",
    "            args = ([atprogram_path] + (verbose-1) * [\"-v\"] + command.split())\n",
    "            kwargs = dict(stdout=stdout, stderr=stderr)\n",
    "            if dry_run:\n",
    "                print(args, kwargs)\n",
    "                return 0\n",
    "            res = run(args, **kwargs)\n",
    "            if verbose:\n",
    "                print(res.stdout.decode())\n",
    "            return res.returncode\n",
    "        elf_file_path = None if not (program or verify) else project_path if \\\n",
    "            elf_mode else path.join(project_path, configuration,\n",
    "                                    path.basename(project_path)) + \".elf\"\n",
    "        atprogram_command = atprogram_command or \\\n",
    "            f\"-t {tool} -i {interface} -d {device_name}\" + \\\n",
    "            (device_sn is not None) * f\" -s {device_sn}\" + \\\n",
    "            erase * \" chiperase\" + \\\n",
    "            program * f\" program -f {elf_file_path}\" + \\\n",
    "            verify * f\" verify -f {elf_file_path}\" + \\\n",
    "            (verbose >= 3) * \" info\"\n",
    "        returncode = atprogram_caller(atprogram_command)\n",
    "        if returncode:\n",
    "            atprogram_caller(\"exitcode\")\n",
    "            return returncode\n",
    "    if dry_run or SECURE_MODE:\n",
    "        if verbose:\n",
    "            print(run.dry_run_result)\n",
    "        return run.dry_run_result\n",
    "    return 0\n",
    "\n",
    "\n",
    "def _run(*args, **kwargs):\n",
    "    _run.dry_run_result.append(\n",
    "        \"\".join(kwargs.get(\"cwd\")) + \"> \" + \" \".join(*args))\n",
    "    res = namedtuple(\"res\", [\"stdout\", \"returncode\"])\n",
    "    res.stdout = bytes(_run.dry_run_result[-1], \"utf-8\")\n",
    "    res.returncode = 0\n",
    "    return res\n"
   ]
  },
  {
   "cell_type": "code",
   "execution_count": null,
   "metadata": {},
   "outputs": [],
   "source": [
    "from os import path, getenv\n",
    "from subprocess import run, PIPE, STDOUT\n",
    "from warnings import warn\n",
    "\n",
    "# In secure mode all commands will be returned in a list, they will not be\n",
    "# executed\n",
    "SECURE_MODE = False\n",
    "\n",
    "\n",
    "def atprogram(project_path=None, device_name=\"ATSAML11E16A\", verbose=0,\n",
    "              clean=False, build=True, erase=True, program=True, verify=False,\n",
    "              tool=\"EDBG\", interface=\"SWD\", atmel_studio_path=path.join(\n",
    "                  getenv(\"programfiles(x86)\"), \"Atmel\", \"Studio\", \"7.0\"),\n",
    "              make_path=None, atprogram_path=None, configuration=\"Debug\",\n",
    "              device_sn=None, jobs=getenv(\"NUMBER_OF_PROCESSORS\"),\n",
    "              make_command=None, atprogram_command=None, dry_run=False):\n",
    "    \"\"\"Atprogram.\n",
    "\n",
    "    This function can compile projects and write them to a device. It\n",
    "    determines what to do based on the arguments it gets. Specify at least one\n",
    "    of `project_path`, `make_command` or `atprogram_command`.\n",
    "\n",
    "    In secure mode all commands will be returned in a list, they will not be\n",
    "    executed.\n",
    "\n",
    "    NOTE: Verification is known to return 23, also in command line.\n",
    "\n",
    "    Keyword Arguments:\n",
    "        project_path {str} -- Location where the project resides. If it ends in\n",
    "            `.elf` the elf file will be used. If it ends in `Makefile` the\n",
    "            Makefile will be used. Otherwise it should be a path to a folder\n",
    "            which holds the `Debug` folder. (default: {None})\n",
    "        device_name {str} -- Device name. E.g. atxmega128a1 or at32uc3a0256.\n",
    "            (default: {\"ATSAML11E16A\"})\n",
    "        verbose {int} -- Verbosity:\n",
    "            - 0: Silent (default: {0})\n",
    "            - 1: Info\n",
    "            - 2: Debug\n",
    "            - 3: List Commands\n",
    "        clean {bool} -- Run make clean if True (default: {False})\n",
    "        build {bool} -- Run make all if True (default: {True})\n",
    "        erase {bool} -- Run atprogram chiperase if True (default: {True})\n",
    "        program {bool} -- Run atprogram program if True (default: {True})\n",
    "        verify {bool} -- Run atprogram verify if True (default: {False})\n",
    "        tool {str} -- Tool name: avrdragon, avrispmk2, avrone, jtagice3,\n",
    "            jtagicemkii, qt600, stk500, stk600, samice, edbg, medbg, nedbg,\n",
    "            atmelice, pickit4, powerdebugger, megadfu or flip. (default:\n",
    "            {\"EDBG\"})\n",
    "        interface {str} -- Physical interface: aWire, debugWIRE, HVPP, HVSP,\n",
    "            ISP, JTAG, PDI, UPDI, TPI or SWD. (default: {\"SWD\"})\n",
    "        atmel_studio_path {[type]} -- Location where Atmel Studio is installed,\n",
    "            ending in the folder named after the version, e.g. 7.0. (default:\n",
    "            {path.join(getenv(\"programfiles(x86)\"), \"Atmel\", \"Studio\", \"7.0\")})\n",
    "        make_path {[type]} -- Location where `make.exe` is installed. (default:\n",
    "            {path.join(getenv(\"programfiles(x86)\"), \"Atmel\", \"Studio\", \"7.0\", \"shellutils\", \"make.exe\")})\n",
    "        atprogram_path {[type]} -- Location where `atprogram.exe` is installed\n",
    "            (default: {path.join(getenv(\"programfiles(x86)\"), \"Atmel\", \"Studio\", \"7.0\", \"atbackend\", \"atprogram.exe\")})\n",
    "        configuration {str} -- Which configuration to use. (default: {\"Debug\"})\n",
    "        device_sn {str} -- The programmer/debugger serialnumber. Must be\n",
    "            specified when more than one debugger is connected. (default:\n",
    "            {None})\n",
    "        jobs {int} -- How many jobs *make* should use(default:\n",
    "            {getenv(\"NUMBER_OF_PROCESSORS\")})\n",
    "        make_command {str} -- Options to pass to make `[options] [target] ...`\n",
    "            (default: {None})\n",
    "        atprogram_command {str} -- Command(s) to pass to atprogram: `[options]\n",
    "            <command> [arguments] [<command> [arguments] ...]` (default:\n",
    "            {None})\n",
    "        dry_run {bool} -- [description] (default: {False})\n",
    "\n",
    "    Raises:\n",
    "        ValueError -- Need to specify at least one of `project_path`,\n",
    "            `make_command` or `atprogram_command`.\n",
    "\n",
    "    Returns:\n",
    "        int -- A non-zero return value indicates the subprocess call returned\n",
    "            an error.\n",
    "\n",
    "    \"\"\"\n",
    "    if SECURE_MODE:\n",
    "        warn(\"In secure mode all commands will be returned in a list, they \" +\n",
    "             \"will not be executed.\")\n",
    "    elf_mode = False\n",
    "    makefile_mode = False\n",
    "    makefile_path = None\n",
    "    if dry_run or SECURE_MODE:\n",
    "        dry_run_result = []\n",
    "    if project_path is not None:\n",
    "        elf_mode = path.splitext(project_path)[1] is \".elf\"\n",
    "        makefile_path, makefile = path.split(project_path)\n",
    "        makefile_mode = makefile is \"Makefile\"\n",
    "        if not makefile_mode:\n",
    "            makefile_path = path.join(project_path, configuration)\n",
    "    elif make_command is atprogram_command is None:\n",
    "        raise ValueError(\n",
    "            \"Need to specify at least one of project_path, make_command or \" +\n",
    "            \"atprogram_command.\")\n",
    "    else:\n",
    "        # This is make_command mode or atprogram_command mode\n",
    "        clean = build = erase = program = verify = False\n",
    "    stdout = PIPE if verbose >= 0 else None\n",
    "    stderr = STDOUT if verbose >= 1 else None\n",
    "    if not elf_mode and (clean or build or make_command):\n",
    "        make_path = make_path or path.join(\n",
    "            atmel_studio_path, \"shellutils\", \"make.exe\")\n",
    "    \n",
    "\n",
    "def caller(command, program):\n",
    "    if program is \"make\":\n",
    "        args = ([make_path] + command.split())\n",
    "        kwargs = dict(cwd=makefile_path, stdout=stdout, stderr=stderr)\n",
    "    elif program is \"atprogram\":\n",
    "        args = ([atprogram_path] + (verbose - 1) * [\"-v\"] + command.split())\n",
    "    else:\n",
    "        raise ValueError(\n",
    "            \"Program needs to be one of \\\"make\\\" or \\\"atprogram\\\".\")\n",
    "    kwargs = dict(stdout=stdout, stderr=stderr)\n",
    "    if dry_run:\n",
    "        dry_run_result.append(\n",
    "            \"\".join(kwargs.get(\"cwd\")) + \"> \" + \" \".join(*args))\n",
    "        if verbose:\n",
    "            print(dry_run_result[-1])\n",
    "        return 0\n",
    "    res = run(args, **kwargs)\n",
    "    if verbose:\n",
    "        print(res.stdout.decode())\n",
    "    return res.returncode\n",
    "\n",
    "        if make_command:\n",
    "            returncode = make_caller(make_command)\n",
    "            if returncode or not atprogram_command:\n",
    "                return returncode\n",
    "        if clean:\n",
    "            returncode = make_caller(\"clean\")\n",
    "            if returncode:\n",
    "                return returncode\n",
    "        if build:\n",
    "            returncode = make_caller(f\"all --jobs {jobs} --output-sync\")\n",
    "            if returncode:\n",
    "                return returncode\n",
    "    if not makefile_mode and (erase or program or verify or atprogram_command):\n",
    "        atprogram_path = atprogram_path or path.join(\n",
    "            atmel_studio_path, \"atbackend\", \"atprogram.exe\")\n",
    "\n",
    "        elf_file_path = None if not (program or verify) else project_path if \\\n",
    "            elf_mode else path.join(project_path, configuration,\n",
    "                                    path.basename(project_path)) + \".elf\"\n",
    "        atprogram_command = atprogram_command or \\\n",
    "            f\"-t {tool} -i {interface} -d {device_name}\" + \\\n",
    "            (device_sn is not None) * f\" -s {device_sn}\" + \\\n",
    "            erase * \" chiperase\" + \\\n",
    "            program * f\" program -f {elf_file_path}\" + \\\n",
    "            verify * f\" verify -f {elf_file_path}\" + \\\n",
    "            (verbose >= 3) * \" info\"\n",
    "        returncode = atprogram_caller(atprogram_command)\n",
    "        if returncode:\n",
    "            atprogram_caller(\"exitcode\")\n",
    "            return returncode\n",
    "    if dry_run or SECURE_MODE:\n",
    "        return run.dry_run_result\n",
    "    return 0\n"
   ]
  }
 ],
 "metadata": {
  "kernelspec": {
   "display_name": "Python [conda env:SAML11-32]",
   "language": "python",
   "name": "conda-env-SAML11-32-py"
  },
  "language_info": {
   "codemirror_mode": {
    "name": "ipython",
    "version": 3
   },
   "file_extension": ".py",
   "mimetype": "text/x-python",
   "name": "python",
   "nbconvert_exporter": "python",
   "pygments_lexer": "ipython3",
   "version": "3.6.8"
  }
 },
 "nbformat": 4,
 "nbformat_minor": 2
}
