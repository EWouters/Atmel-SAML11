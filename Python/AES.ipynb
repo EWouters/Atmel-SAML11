{
 "cells": [
  {
   "cell_type": "code",
   "execution_count": 4,
   "metadata": {},
   "outputs": [],
   "source": [
    "import os, random, struct\n",
    "from Crypto.Cipher import AES"
   ]
  },
  {
   "cell_type": "code",
   "execution_count": 5,
   "metadata": {},
   "outputs": [],
   "source": [
    "def encrypt_file(key, in_filename, out_filename=None, chunksize=64*1024):\n",
    "    \"\"\" Encrypts a file using AES (CBC mode) with the\n",
    "        given key.\n",
    "\n",
    "        key:\n",
    "            The encryption key - a string that must be\n",
    "            either 16, 24 or 32 bytes long. Longer keys\n",
    "            are more secure.\n",
    "\n",
    "        in_filename:\n",
    "            Name of the input file\n",
    "\n",
    "        out_filename:\n",
    "            If None, '<in_filename>.enc' will be used.\n",
    "\n",
    "        chunksize:\n",
    "            Sets the size of the chunk which the function\n",
    "            uses to read and encrypt the file. Larger chunk\n",
    "            sizes can be faster for some files and machines.\n",
    "            chunksize must be divisible by 16.\n",
    "    \"\"\"\n",
    "    if not out_filename:\n",
    "        out_filename = in_filename + '.enc'\n",
    "\n",
    "    iv = ''.join(chr(random.randint(0, 0xFF)) for i in range(16))\n",
    "    encryptor = AES.new(key, AES.MODE_CBC, iv)\n",
    "    filesize = os.path.getsize(in_filename)\n",
    "\n",
    "    with open(in_filename, 'rb') as infile:\n",
    "        with open(out_filename, 'wb') as outfile:\n",
    "            outfile.write(struct.pack('<Q', filesize))\n",
    "            outfile.write(iv)\n",
    "\n",
    "            while True:\n",
    "                chunk = infile.read(chunksize)\n",
    "                if len(chunk) == 0:\n",
    "                    break\n",
    "                elif len(chunk) % 16 != 0:\n",
    "                    chunk += ' ' * (16 - len(chunk) % 16)\n",
    "\n",
    "                outfile.write(encryptor.encrypt(chunk))"
   ]
  },
  {
   "cell_type": "code",
   "execution_count": 6,
   "metadata": {},
   "outputs": [],
   "source": [
    "def decrypt_file(key, in_filename, out_filename=None, chunksize=24*1024):\n",
    "    \"\"\" Decrypts a file using AES (CBC mode) with the\n",
    "        given key. Parameters are similar to encrypt_file,\n",
    "        with one difference: out_filename, if not supplied\n",
    "        will be in_filename without its last extension\n",
    "        (i.e. if in_filename is 'aaa.zip.enc' then\n",
    "        out_filename will be 'aaa.zip')\n",
    "    \"\"\"\n",
    "    if not out_filename:\n",
    "        out_filename = os.path.splitext(in_filename)[0]\n",
    "\n",
    "    with open(in_filename, 'rb') as infile:\n",
    "        origsize = struct.unpack('<Q', infile.read(struct.calcsize('Q')))[0]\n",
    "        iv = infile.read(16)\n",
    "        decryptor = AES.new(key, AES.MODE_CBC, iv)\n",
    "\n",
    "        with open(out_filename, 'wb') as outfile:\n",
    "            while True:\n",
    "                chunk = infile.read(chunksize)\n",
    "                if len(chunk) == 0:\n",
    "                    break\n",
    "                outfile.write(decryptor.decrypt(chunk))\n",
    "\n",
    "            outfile.truncate(origsize)"
   ]
  },
  {
   "cell_type": "code",
   "execution_count": null,
   "metadata": {},
   "outputs": [],
   "source": []
  }
 ],
 "metadata": {
  "kernelspec": {
   "display_name": "SAML11-32",
   "language": "python",
   "name": "saml11-32"
  },
  "language_info": {
   "codemirror_mode": {
    "name": "ipython",
    "version": 3
   },
   "file_extension": ".py",
   "mimetype": "text/x-python",
   "name": "python",
   "nbconvert_exporter": "python",
   "pygments_lexer": "ipython3",
   "version": "3.6.5"
  }
 },
 "nbformat": 4,
 "nbformat_minor": 2
}
