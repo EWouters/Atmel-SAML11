{
 "cells": [
  {
   "cell_type": "markdown",
   "metadata": {},
   "source": [
    "# DGILib\n",
    "\n",
    "This chapter will instantiate the connection to the Atmel SAML11 via the DGILib API.\n",
    "\n",
    "The API functions are separated into four groups:\n",
    "- Discovery: Used to discover available devices and get information about them.\n",
    "- Housekeeping: Provides version information, connection, and session control.\n",
    "- Interface: Communication Handles communication with the various interfaces of DGI.\n",
    "- Auxiliary: Extended functionality with interface-specifc usage."
   ]
  },
  {
   "cell_type": "markdown",
   "metadata": {},
   "source": [
    "## Discovery"
   ]
  },
  {
   "cell_type": "markdown",
   "metadata": {},
   "source": [
    "Import the `ctypes` library."
   ]
  },
  {
   "cell_type": "code",
   "execution_count": 59,
   "metadata": {},
   "outputs": [],
   "source": [
    "from ctypes import *\n",
    "import typing\n",
    "import time"
   ]
  },
  {
   "cell_type": "code",
   "execution_count": 60,
   "metadata": {},
   "outputs": [],
   "source": [
    "dgilib = cdll.LoadLibrary(\"dgilib\")"
   ]
  },
  {
   "cell_type": "markdown",
   "metadata": {},
   "source": [
    "Get the build information of DGILib."
   ]
  },
  {
   "cell_type": "code",
   "execution_count": 61,
   "metadata": {},
   "outputs": [],
   "source": [
    "major_version = dgilib.get_major_version()\n",
    "minor_version = dgilib.get_minor_version()\n",
    "build_number = dgilib.get_build_number()"
   ]
  },
  {
   "cell_type": "code",
   "execution_count": 62,
   "metadata": {},
   "outputs": [
    {
     "name": "stdout",
     "output_type": "stream",
     "text": [
      "major_version: 5, minor_version: 7, build_number: 244\n"
     ]
    }
   ],
   "source": [
    "print(\"major_version: {0}, minor_version: {1}, build_number: {2}\".format(major_version, minor_version, build_number))"
   ]
  },
  {
   "cell_type": "code",
   "execution_count": 63,
   "metadata": {},
   "outputs": [],
   "source": [
    "GET_STRING_SIZE = 100\n",
    "NUM_INTERFACES = 10\n",
    "NUM_CONFIG_IDS = 10\n",
    "NUM_CALIBRATION = 255\n",
    "BUFFER_SIZE = 10000000\n",
    "\n",
    "INTERFACE_TIMESTAMP  = 0x00 # Service interface which appends timestamps to all received events on associated interfaces.\n",
    "INTERFACE_SPI        = 0x20 # Communicates directly over SPI in Slave mode.\n",
    "INTERFACE_USART      = 0x21 # Communicates directly over USART in Slave mode.\n",
    "INTERFACE_I2C        = 0x22 # Communicates directly over I2C in Slave mode.\n",
    "INTERFACE_GPIO       = 0x30 # Monitors and controls the state of GPIO pins.\n",
    "INTERFACE_POWER_DATA = 0x40 # Receives data from the attached power measurement co-processors.\n",
    "INTERFACE_POWER_SYNC = 0x41 # Receives sync events from the attached power measurement co-processors.\n",
    "INTERFACE_RESERVED   = 0xFF # Special identifier used to indicate no interface."
   ]
  },
  {
   "cell_type": "markdown",
   "metadata": {},
   "source": [
    "#### `discover`\n",
    "Triggers a scan to find available devices in the system. The result will be immediately available through the `get_device_count`, `get_device_name` and `get_device_serial` functions.\n",
    "\n",
    "`void discover(void)`"
   ]
  },
  {
   "cell_type": "code",
   "execution_count": 64,
   "metadata": {},
   "outputs": [
    {
     "data": {
      "text/plain": [
       "2"
      ]
     },
     "execution_count": 64,
     "metadata": {},
     "output_type": "execute_result"
    }
   ],
   "source": [
    "dgilib.discover()"
   ]
  },
  {
   "cell_type": "markdown",
   "metadata": {},
   "source": [
    "#### `get_device_count`\n",
    "Returns the number of devices detected.\n",
    "\n",
    "`int get_device_count(void)`"
   ]
  },
  {
   "cell_type": "code",
   "execution_count": 65,
   "metadata": {},
   "outputs": [
    {
     "name": "stdout",
     "output_type": "stream",
     "text": [
      "device_count: 1\n"
     ]
    }
   ],
   "source": [
    "device_count = dgilib.get_device_count()\n",
    "print(\"device_count: {0}\".format(device_count))"
   ]
  },
  {
   "cell_type": "markdown",
   "metadata": {},
   "source": [
    "Select device to use. Defaults to `device_count - 1`."
   ]
  },
  {
   "cell_type": "code",
   "execution_count": 66,
   "metadata": {},
   "outputs": [],
   "source": [
    "device_index = device_count - 1"
   ]
  },
  {
   "cell_type": "markdown",
   "metadata": {},
   "source": [
    "#### `get_device_name`\n",
    "Gets the name of a detected device.\n",
    "\n",
    "A non-zero return value indicates an error.\n",
    "\n",
    "`int get_device_name(int index, char* name)`\n",
    "\n",
    "Parameter   | Description\n",
    "-------------  | -------------\n",
    "*index* | Index of device ranges from 0 to `get_device_count` - 1\n",
    "*name* | Pointer to buffer where name of device can be stored. 100 or more bytes must be allocated"
   ]
  },
  {
   "cell_type": "code",
   "execution_count": 67,
   "metadata": {},
   "outputs": [
    {
     "name": "stdout",
     "output_type": "stream",
     "text": [
      "0 get_device_name: b'SAM L11 Xplained Pro'\n"
     ]
    }
   ],
   "source": [
    "name = create_string_buffer(GET_STRING_SIZE)\n",
    "res = dgilib.get_device_name(device_index, byref(name))\n",
    "print(\"{0} get_device_name: {1}\".format(res, repr(name.value)))"
   ]
  },
  {
   "cell_type": "markdown",
   "metadata": {},
   "source": [
    "#### `get_device_serial`\n",
    "Gets the serial number of a detected device.\n",
    "\n",
    "A non-zero return value indicates an error.\n",
    "\n",
    "`int get_device_serial(int index, char* sn)`\n",
    "\n",
    "Parameter   | Description\n",
    "-------------  | -------------\n",
    "*index* | Index of device ranges from 0 to `get_device_count` - 1\n",
    "*sn* | Pointer to buffer where the serial number of the device can be stored. 100 or more bytes must be allocated. This is used when connecting to a device."
   ]
  },
  {
   "cell_type": "code",
   "execution_count": 68,
   "metadata": {},
   "outputs": [
    {
     "name": "stdout",
     "output_type": "stream",
     "text": [
      "0 get_device_serial: b'ATML3138061800001604'\n"
     ]
    }
   ],
   "source": [
    "sn = create_string_buffer(GET_STRING_SIZE)\n",
    "res = dgilib.get_device_serial(device_index, byref(sn))\n",
    "print(\"{0} get_device_serial: {1}\".format(res, repr(sn.value)))"
   ]
  },
  {
   "cell_type": "code",
   "execution_count": 69,
   "metadata": {},
   "outputs": [
    {
     "data": {
      "text/plain": [
       "2"
      ]
     },
     "execution_count": 69,
     "metadata": {},
     "output_type": "execute_result"
    }
   ],
   "source": [
    "# Initialize (not in manual, exists in dgilib.h)\n",
    "dgi_hndl = c_uint()\n",
    "dgilib.Initialize(byref(dgi_hndl))"
   ]
  },
  {
   "cell_type": "markdown",
   "metadata": {},
   "source": [
    "#### `is_msd_mode`\n",
    "EDBG devices can be set to a mass storage mode where the DGI is unavailable. In such cases the device is still detected by DGILib, but it won't be possible to directly connect to it. This command is used to check if the device is in such a mode.\n",
    "\n",
    "A non-zero return value indicates that the mode must be changed by `set_mode` before proceeding.\n",
    "\n",
    "`int is_msd_mode(char* sn)`\n",
    "\n",
    "Parameter   | Description\n",
    "-------------  | -------------\n",
    "*sn* | Serial number of the device to check"
   ]
  },
  {
   "cell_type": "markdown",
   "metadata": {},
   "source": [
    "#### `set_mode`\n",
    "This function is used to temporarily set the EDBG to a specified mode.\n",
    "\n",
    "A non-zero return value indicates an error.\n",
    "\n",
    "`int set_mode(char* sn, int nmbed)`\n",
    "\n",
    "Parameter   | Description\n",
    "-------------  | -------------\n",
    "*sn* | Serial number of the device to check\n",
    "*nmbed* | 0 - Set to mbed mode. 1 - Set to DGI mode."
   ]
  },
  {
   "cell_type": "markdown",
   "metadata": {},
   "source": [
    "Check and correct `msd_mode` to make sure the device is in DGI mode."
   ]
  },
  {
   "cell_type": "code",
   "execution_count": 70,
   "metadata": {},
   "outputs": [
    {
     "name": "stdout",
     "output_type": "stream",
     "text": [
      "msd_mode: 0\n"
     ]
    }
   ],
   "source": [
    "msd_mode = dgilib.is_msd_mode(sn)\n",
    "# if msd_mode:\n",
    "#     res = dgilib.set_mode(sn, 1)\n",
    "#     print(\"{0} set_mode 1\".format(res))\n",
    "print(\"msd_mode: {0}\".format(msd_mode))"
   ]
  },
  {
   "cell_type": "markdown",
   "metadata": {},
   "source": [
    "## Housekeeping"
   ]
  },
  {
   "cell_type": "markdown",
   "metadata": {},
   "source": [
    "#### `connect`\n",
    "Opens a connection to the specified device. This function must be called prior to any function requiring the connection handle.\n",
    "\n",
    "A non-zero return value indicates an error.\n",
    "\n",
    "`int connect(char* sn, uint32_t* dgi_hndl_p)`\n",
    "\n",
    "Parameter   | Description\n",
    "-------------  | -------------\n",
    "*sn* | Buffer holding the serial number of the device to open a connection to\n",
    "*dgi_hndl_p* | Pointer to a variable that will hold the handle of the connection"
   ]
  },
  {
   "cell_type": "code",
   "execution_count": 71,
   "metadata": {},
   "outputs": [
    {
     "name": "stdout",
     "output_type": "stream",
     "text": [
      "0 connect\n"
     ]
    }
   ],
   "source": [
    "res = dgilib.connect(sn, byref(dgi_hndl))\n",
    "print(\"{0} connect\".format(res))"
   ]
  },
  {
   "cell_type": "markdown",
   "metadata": {},
   "source": [
    "#### `connection_status`\n",
    "Verifies that the specified connection is still open.\n",
    "\n",
    "A non-zero return value indicates an error.\n",
    "\n",
    "`int connection_status(uint32_t* dgi_hndl)`\n",
    "\n",
    "Parameter   | Description\n",
    "-------------  | -------------\n",
    "*dgi_hndl* | Handle of the connection"
   ]
  },
  {
   "cell_type": "code",
   "execution_count": 72,
   "metadata": {},
   "outputs": [
    {
     "name": "stdout",
     "output_type": "stream",
     "text": [
      "connection_status: 0\n"
     ]
    }
   ],
   "source": [
    "c_status = dgilib.connection_status(dgi_hndl)\n",
    "print(\"connection_status: {0}\".format(c_status))"
   ]
  },
  {
   "cell_type": "markdown",
   "metadata": {},
   "source": [
    "#### `target_reset`\n",
    "This function is used to control the state of the reset line connected to the target, if available.\n",
    "\n",
    "A non-zero return value indicates an error.\n",
    "\n",
    "`int target_reset(uint32_t dgi_hndl, bool hold_reset)`\n",
    "\n",
    "Parameter   | Description\n",
    "-------------  | -------------\n",
    "*dgi_hndl* | Handle of the connection\n",
    "*hold_reset* | True will assert reset, false will release it"
   ]
  },
  {
   "cell_type": "code",
   "execution_count": 73,
   "metadata": {},
   "outputs": [
    {
     "name": "stdout",
     "output_type": "stream",
     "text": [
      "Resetting b'SAM L11 Xplained Pro'\n",
      "0\n",
      "0\n",
      "Done\n"
     ]
    }
   ],
   "source": [
    "print(\"Resetting {0}\".format(repr(name.value)))\n",
    "print(dgilib.target_reset(dgi_hndl, True))\n",
    "time.sleep(1)\n",
    "print(dgilib.target_reset(dgi_hndl, False))\n",
    "print(\"Done\");"
   ]
  },
  {
   "cell_type": "code",
   "execution_count": 74,
   "metadata": {},
   "outputs": [
    {
     "name": "stdout",
     "output_type": "stream",
     "text": [
      "connection_status: 0\n"
     ]
    }
   ],
   "source": [
    "c_status = dgilib.connection_status(dgi_hndl)\n",
    "print(\"connection_status: {0}\".format(c_status))"
   ]
  },
  {
   "cell_type": "markdown",
   "metadata": {},
   "source": [
    "#### `get_fw_version`\n",
    "Gets the firmware version of the DGI device connected. Note that this is the version of the DGI device, and not the tool.\n",
    "\n",
    "A non-zero return value indicates an error.\n",
    "\n",
    "`int get_fw_version(uint32_t dgi_hndl, unsigned char* major, unsigned char* minor)`\n",
    "\n",
    "Parameter   | Description\n",
    "-------------  | -------------\n",
    "*dgi_hndl* | Handle of the connection\n",
    "*major* | Pointer to a variable where the major version will be stored\n",
    "*minor* | Pointer to a variable where the minor version will be stored"
   ]
  },
  {
   "cell_type": "code",
   "execution_count": 75,
   "metadata": {},
   "outputs": [
    {
     "name": "stdout",
     "output_type": "stream",
     "text": [
      "0 fw_version major: 3, minor: 2\n"
     ]
    }
   ],
   "source": [
    "major = c_ubyte()\n",
    "minor = c_ubyte()\n",
    "res = dgilib.get_fw_version(dgi_hndl, byref(major), byref(minor))\n",
    "print(\"{0} fw_version major: {1}, minor: {2}\".format(res, repr(major.value), repr(minor.value)))"
   ]
  },
  {
   "cell_type": "markdown",
   "metadata": {},
   "source": [
    "## Interface"
   ]
  },
  {
   "cell_type": "markdown",
   "metadata": {},
   "source": [
    "#### `interface_list`\n",
    "Query the connected DGI device for available interfaces. Refer to the DGI documentation to resolve the ID.\n",
    "\n",
    "`int interface_list(uint32_t dgi_hndl, unsigned char* interfaces, unsigned char* count)`\n",
    "\n",
    "Parameter   | Description\n",
    "-------------  | -------------\n",
    "*dgi_hndl* | Handle to connection\n",
    "*interfaces* | Buffer to hold the ID of the available interfaces. Should be able to hold minimum 10 elements, but a larger count should be used to be future proof.\n",
    "*count* | Pointer to a variable that will be set to the number of interfaces registered in buffer."
   ]
  },
  {
   "cell_type": "code",
   "execution_count": 76,
   "metadata": {},
   "outputs": [],
   "source": [
    "interfaces = create_string_buffer(NUM_INTERFACES)\n",
    "interfaceCount = c_ubyte()"
   ]
  },
  {
   "cell_type": "code",
   "execution_count": 77,
   "metadata": {},
   "outputs": [
    {
     "name": "stdout",
     "output_type": "stream",
     "text": [
      "0 interface_list: b'\\x00 \"0@AP\\x00\\x00\\x00', interfaceCount: 7\n"
     ]
    }
   ],
   "source": [
    "res = dgilib.interface_list(dgi_hndl, byref(interfaces), byref(interfaceCount))\n",
    "print(\"{0} interface_list: {1}, interfaceCount: {2}\".format(res, interfaces[:], repr(interfaceCount.value)))"
   ]
  },
  {
   "cell_type": "markdown",
   "metadata": {},
   "source": [
    "#### `interface_get_configuration`\n",
    "Gets the configuration associated with the specified interface. Consult the DGI documentation for details.\n",
    "\n",
    "A non-zero return value indicates an error.\n",
    "\n",
    "`int interface_get_configuration(uint32_t dgi_hndl, int interface_id, unsigned int* config_id, unsigned int* config_value, unsigned int* config_cnt)`\n",
    "\n",
    "Parameter   | Description\n",
    "-------------  | -------------\n",
    "*dgi_hndl* | Handle to connection\n",
    "*interface_id* | The ID of the interface\n",
    "*config_id* | Buffer that will hold the ID field for the configuration item\n",
    "*config_value* | Buffer that will hold the value field for the configuration item\n",
    "*config_cnt* | Pointer to variable that will hold the count of stored configuration items"
   ]
  },
  {
   "cell_type": "code",
   "execution_count": 78,
   "metadata": {},
   "outputs": [
    {
     "name": "stdout",
     "output_type": "stream",
     "text": [
      "0 interface_get_configuration: 0, config_cnt: 2\n",
      "\tconfig_id: 0,\tvalue: 32\n",
      "\tconfig_id: 1,\tvalue: 60000000\n"
     ]
    }
   ],
   "source": [
    "config_id = (c_uint * NUM_CONFIG_IDS)()\n",
    "config_value = (c_uint * NUM_CONFIG_IDS)()\n",
    "config_cnt = c_uint()\n",
    "res = dgilib.interface_get_configuration(dgi_hndl, INTERFACE_TIMESTAMP, byref(config_id), byref(config_value), byref(config_cnt))\n",
    "print(\"{0} interface_get_configuration: {1}, config_cnt: {2}\".format(res, INTERFACE_TIMESTAMP, repr(config_cnt.value)))\n",
    "for i in range(config_cnt.value):\n",
    "    print(\"\\tconfig_id: {0},\\tvalue: {1}\".format(config_id[i], config_value[i]))"
   ]
  },
  {
   "cell_type": "code",
   "execution_count": 79,
   "metadata": {},
   "outputs": [
    {
     "name": "stdout",
     "output_type": "stream",
     "text": [
      "timerFactor: 5.333333333333333e-07\n"
     ]
    }
   ],
   "source": [
    "timerPrescaler = config_value[0]\n",
    "timerFrequency = config_value[1]\n",
    "timerFactor = timerPrescaler / timerFrequency\n",
    "print(\"timerFactor: {0}\".format(timerFactor))"
   ]
  },
  {
   "cell_type": "markdown",
   "metadata": {},
   "source": [
    "#### `interface_enable`\n",
    "Enables the specified interface. Note that no data acquisition will begin until a session has been started.\n",
    "\n",
    "A non-zero return value indicates an error.\n",
    "\n",
    "`int interface_enable(uint32_t dgi_hndl, int interface_id, bool timestamp)`\n",
    "\n",
    "Parameter   | Description\n",
    "-------------  | -------------\n",
    "*dgi_hndl* | Handle to connection\n",
    "*interface_id* | The ID of the interface to enable\n",
    "*timestamp* | Setting this to true will make the interface use timestamping. Consult the DGI documentation for details on the timestamping option."
   ]
  },
  {
   "cell_type": "code",
   "execution_count": 80,
   "metadata": {},
   "outputs": [
    {
     "name": "stdout",
     "output_type": "stream",
     "text": [
      "0 interface_enable: 48, enableTimestamp: True\n",
      "\n"
     ]
    }
   ],
   "source": [
    "interface_id = INTERFACE_GPIO;\n",
    "enableTimestamp = True;\n",
    "res = dgilib.interface_enable(dgi_hndl, interface_id, enableTimestamp);\n",
    "print(\"{0} interface_enable: {1}, enableTimestamp: {2}\\n\".format(res, interface_id, enableTimestamp))"
   ]
  },
  {
   "cell_type": "code",
   "execution_count": 81,
   "metadata": {},
   "outputs": [
    {
     "name": "stdout",
     "output_type": "stream",
     "text": [
      "0 interface_get_configuration: 48, config_cnt: 2\n",
      "\tconfig_id: 0,\tvalue: 0\n",
      "\tconfig_id: 1,\tvalue: 0\n"
     ]
    }
   ],
   "source": [
    "for i in range(NUM_CONFIG_IDS):\n",
    "    config_id[i] = 0\n",
    "    config_value[i] = 0\n",
    "res = dgilib.interface_get_configuration(dgi_hndl, interface_id, byref(config_id), byref(config_value), byref(config_cnt))\n",
    "print(\"{0} interface_get_configuration: {1}, config_cnt: {2}\".format(res, interface_id, repr(config_cnt.value)))\n",
    "for i in range(config_cnt.value):\n",
    "    print(\"\\tconfig_id: {0},\\tvalue: {1}\".format(config_id[i], config_value[i]))"
   ]
  },
  {
   "cell_type": "markdown",
   "metadata": {},
   "source": [
    "#### `interface_set_configuration`\n",
    "Sets the given configuration fields for the specified interface. Consult the DGI documentation for details.\n",
    "\n",
    "A non-zero return value indicates an error.\n",
    "\n",
    "`int interface_set_configuration(uint32_t dgi_hndl, int interface_id, unsigned int* config_id, unsigned int*\n",
    "config_value, unsigned int config_cnt)`\n",
    "\n",
    "Parameter   | Description\n",
    "-------------  | -------------\n",
    "*dgi_hndl* | Handle to connection\n",
    "*interface_id* | The ID of the interface\n",
    "*config_id* | Buffer that holds the ID field for the configuration items to set\n",
    "*config_value* | Buffer that holds the value field for the configuration items to set\n",
    "*config_cnt* | Number of items to set"
   ]
  },
  {
   "cell_type": "code",
   "execution_count": 82,
   "metadata": {},
   "outputs": [
    {
     "name": "stdout",
     "output_type": "stream",
     "text": [
      "0 interface_set_configuration: 48, config_cnt: 2\n",
      "\tconfig_id: 0,\tvalue: 15\n",
      "\tconfig_id: 1,\tvalue: 0\n"
     ]
    }
   ],
   "source": [
    "config_value[0] = 0b1111\n",
    "config_value[1] = 0b0000\n",
    "res = dgilib.interface_set_configuration(dgi_hndl, interface_id, byref(config_id), byref(config_value), config_cnt)\n",
    "print(\"{0} interface_set_configuration: {1}, config_cnt: {2}\".format(res, interface_id, repr(config_cnt.value)))\n",
    "for i in range(config_cnt.value):\n",
    "    print(\"\\tconfig_id: {0},\\tvalue: {1}\".format(config_id[i], config_value[i]))"
   ]
  },
  {
   "cell_type": "markdown",
   "metadata": {},
   "source": [
    "#### `interface_clear_buffer`\n",
    "Clears the data in the buffers for the specified interface.\n",
    "\n",
    "A non-zero return value indicates an error.\n",
    "\n",
    "`int interface_clear_buffer(uint32_t dgi_hndl, int interface_id)`\n",
    "\n",
    "Parameter   | Description\n",
    "-------------  | -------------\n",
    "*dgi_hndl* | Handle to connection\n",
    "*interface_id* | The ID of the interface"
   ]
  },
  {
   "cell_type": "code",
   "execution_count": 83,
   "metadata": {},
   "outputs": [
    {
     "name": "stdout",
     "output_type": "stream",
     "text": [
      "0 interface_clear_buffer: 48\n"
     ]
    }
   ],
   "source": [
    "res = dgilib.interface_clear_buffer(dgi_hndl, interface_id)\n",
    "print(\"{0} interface_clear_buffer: {1}\".format(res, interface_id))"
   ]
  },
  {
   "cell_type": "markdown",
   "metadata": {},
   "source": [
    "#### `start_polling`\n",
    "This function will start the polling system and start acquisition on enabled interfaces. It is possible to enable/disable interfaces both before and after the polling has been started. However, no data will be transferred until the polling is started.\n",
    "\n",
    "A non-zero return value indicates an error.\n",
    "\n",
    "`int start_polling(uint32_t dgi_hndl)`\n",
    "\n",
    "Parameter   | Description\n",
    "-------------  | -------------\n",
    "*dgi_hndl* | Handle of the connection"
   ]
  },
  {
   "cell_type": "code",
   "execution_count": 84,
   "metadata": {},
   "outputs": [
    {
     "name": "stdout",
     "output_type": "stream",
     "text": [
      "0 start_polling\n"
     ]
    }
   ],
   "source": [
    "res = dgilib.start_polling(dgi_hndl)\n",
    "print(\"{0} start_polling\".format(res))"
   ]
  },
  {
   "cell_type": "markdown",
   "metadata": {},
   "source": [
    "#### `interface_read_data`\n",
    "Reads the data received on the specified interface. This should be called regularly to avoid overflows in the system. DGILib can buffer 10M samples.\n",
    "\n",
    "A non-zero return value indicates an error.\n",
    "\n",
    "`int interface_read_data(uint32_t dgi_hndl, int interface_id, unsigned char* buffer, unsigned long long* timestamp, int* length, unsigned int* ovf_index, unsigned int* ovf_length, unsigned int* ovf_entry_count)`\n",
    "\n",
    "Parameter   | Description\n",
    "-------------  | -------------\n",
    "*dgi_hndl* | Handle to connection\n",
    "*interface_id* | The ID of the interface\n",
    "*buffer* | Buffer that will hold the received data. The buffer must have allocated 10M elements.\n",
    "*timestamp* | If timestamp is enabled for the interface, the buffer that will hold the received data. The buffer must have allocated 10M elements. Otherwise send 0.\n",
    "*length* | Pointer to a variable that will hold the count of elements received\n",
    "*ovf_index* | Reserved. Set to 0.\n",
    "*ovf_length* | Reserved. Set to 0.\n",
    "*ovf_entry_count* | Reserved. Set to 0. Could be set to a pointer to a variable that can be used as an indicator of overflows. Overflow would be indicated by non-zero value."
   ]
  },
  {
   "cell_type": "code",
   "execution_count": 87,
   "metadata": {},
   "outputs": [
    {
     "name": "stdout",
     "output_type": "stream",
     "text": [
      "0 interface_read_data: 48, length: 0\n"
     ]
    }
   ],
   "source": [
    "# readBuffer = create_string_buffer(BUFFER_SIZE)\n",
    "readBuffer = (c_ubyte * BUFFER_SIZE)()\n",
    "timestamp = (c_ulonglong * BUFFER_SIZE)()\n",
    "length = c_uint(0)\n",
    "ovf_index = c_uint(0)\n",
    "ovf_length = c_uint(0)\n",
    "ovf_entry_count = c_uint(0)\n",
    "res = dgilib.interface_read_data(dgi_hndl, interface_id, readBuffer, timestamp, byref(length), byref(ovf_index), byref(ovf_length), byref(ovf_entry_count));\n",
    "print(\"{0} interface_read_data: {1}, length: {2}\".format(res, interface_id, length.value))\n",
    "for i in range(length.value):\n",
    "    print(\"\\t{0}: buffer: {1}, timestamp: {2}, time: {3}\".format(i, readBuffer[i], timestamp[i], timestamp[i] * timerFactor))"
   ]
  },
  {
   "cell_type": "markdown",
   "metadata": {},
   "source": [
    "#### `interface_write_data`\n",
    "Writes data to the specified interface. A maximum of 255 elements can be written each time. An error return code will be given if data hasn't been written yet.\n",
    "\n",
    "A non-zero return value indicates an error. An error will be returned if the interface is still in the process of writing data. Wait a while and try again. The function get_connection_status can be used to verify if there is an error condition.\n",
    "\n",
    "`int interface_write_data(uint32_t dgi_hndl, int interface_id, unsigned char* buffer, int* length)`\n",
    "\n",
    "Parameter   | Description\n",
    "-------------  | -------------\n",
    "*dgi_hndl* | Handle to connection\n",
    "*interface_id* | The ID of the interface\n",
    "*buffer* | Buffer that will hold the received data. The buffer must have allocated 10M elements.\n",
    "*length* | Pointer to a variable that will hold the count of elements received"
   ]
  },
  {
   "cell_type": "code",
   "execution_count": 88,
   "metadata": {},
   "outputs": [],
   "source": [
    "# writeBuffer = (c_ubyte * NUM_CONFIG_IDS)()\n",
    "# writeLength = c_int(2)\n",
    "# res = dgilib.interface_write_data(dgi_hndl, interface_id, byref(writeBuffer), byref(writeLength))\n",
    "# print(\"{0} interface_write_data: {1}, length: {2}\".format(res, interface_id, writeLength.value))"
   ]
  },
  {
   "cell_type": "code",
   "execution_count": 89,
   "metadata": {},
   "outputs": [],
   "source": [
    "# res = dgilib.interface_read_data(dgi_hndl, interface_id, readBuffer, timestamp, byref(length), byref(ovf_index), byref(ovf_length), byref(ovf_entry_count));\n",
    "# print(\"{0} interface_read_data: {1}, length: {2}\".format(res, interface_id, length.value))\n",
    "# for i in range(length.value):\n",
    "#     print(\"\\t{0}: buffer: {1}, timestamp: {2}, time: {3}\".format(i, readBuffer[i], timestamp[i], timestamp[i] * timerFactor))"
   ]
  },
  {
   "cell_type": "markdown",
   "metadata": {},
   "source": [
    "## Auxiliary\n",
    "\n",
    "### Power\n",
    "The power interface (as found on some EDBG kits and Power Debugger) uses a protocol stream and calibration scheme that can be tricky to get right. The data rates are also relatively high and the calibration procedure could cause issues if not handled efficiently. Therefore some auxiliary functions to help with this have been made to perform parsing and calibration."
   ]
  },
  {
   "cell_type": "markdown",
   "metadata": {},
   "source": [
    "#### `auxiliary_power_initialize`\n",
    "Initializes the power parser.\n",
    "\n",
    "A non-zero return value indicates an error.\n",
    "\n",
    "`int auxiliary_power_initialize(uint32_t* power_hndl_p, uint32_t dgi_hndl)`\n",
    "\n",
    "Parameter   | Description\n",
    "-------------  | -------------\n",
    "*power_hndl_p* | Pointer to variable that will hold the handle to the power parser\n",
    "*dgi_hndl* | Handle to connection"
   ]
  },
  {
   "cell_type": "code",
   "execution_count": 90,
   "metadata": {},
   "outputs": [
    {
     "name": "stdout",
     "output_type": "stream",
     "text": [
      "0 auxiliary_power_initialize\n"
     ]
    }
   ],
   "source": [
    "power_hndl = c_uint()\n",
    "res = dgilib.auxiliary_power_initialize(byref(power_hndl), dgi_hndl)\n",
    "print(\"{0} auxiliary_power_initialize\".format(res))"
   ]
  },
  {
   "cell_type": "markdown",
   "metadata": {},
   "source": [
    "#### `auxiliary_power_get_circuit_type`\n",
    "Gets the type of power circuit.\n",
    "\n",
    "A non-zero return value indicates an error.\n",
    "\n",
    "`int auxiliary_power_get_circuit_type(uint32_t power_hndl, int* circuit)`\n",
    "\n",
    "Parameter   | Description\n",
    "-------------  | -------------\n",
    "*power_hndl* | Handle to the power parser\n",
    "*circuit* | Pointer to a variable that will hold the circuit type: OLD_XAM = 0x00, XAM = 0x10, PAM = 0x11, UNKNOWN = 0xFF"
   ]
  },
  {
   "cell_type": "code",
   "execution_count": 91,
   "metadata": {},
   "outputs": [
    {
     "name": "stdout",
     "output_type": "stream",
     "text": [
      "0 auxiliary_power_get_circuit_type: 16\n"
     ]
    }
   ],
   "source": [
    "circuit = c_int()\n",
    "res = dgilib.auxiliary_power_get_circuit_type(power_hndl, byref(circuit))\n",
    "print(\"{0} auxiliary_power_get_circuit_type: {1}\".format(res, circuit.value))"
   ]
  },
  {
   "cell_type": "markdown",
   "metadata": {},
   "source": [
    "#### `auxiliary_power_calibration_is_valid`\n",
    "Checks the status of the stored calibration.\n",
    "\n",
    "Returns true if the calibration is valid, false otherwise. Unity gain and offset will be used.\n",
    "\n",
    "`bool auxiliary_power_calibration_is_valid(uint32_t power_hndl)`\n",
    "\n",
    "Parameter   | Description\n",
    "-------------  | -------------\n",
    "*power_hndl* | Handle to the power parser"
   ]
  },
  {
   "cell_type": "code",
   "execution_count": 92,
   "metadata": {},
   "outputs": [
    {
     "name": "stdout",
     "output_type": "stream",
     "text": [
      "auxiliary_power_calibration_is_valid: 1\n"
     ]
    }
   ],
   "source": [
    "res = dgilib.auxiliary_power_calibration_is_valid(power_hndl)\n",
    "print(\"auxiliary_power_calibration_is_valid: {0}\".format(res))"
   ]
  },
  {
   "cell_type": "markdown",
   "metadata": {},
   "source": [
    "#### `auxiliary_power_calibration_is_valid`\n",
    "Checks the status of the stored calibration.\n",
    "\n",
    "Returns true if the calibration is valid, false otherwise. Unity gain and offset will be used.\n",
    "\n",
    "`bool auxiliary_power_calibration_is_valid(uint32_t power_hndl)`\n",
    "\n",
    "Parameter   | Description\n",
    "-------------  | -------------\n",
    "*power_hndl* | Handle to the power parser\n",
    "*type* | Type of calibration to trigger. See the DGI documentation for details."
   ]
  },
  {
   "cell_type": "code",
   "execution_count": 93,
   "metadata": {},
   "outputs": [
    {
     "name": "stdout",
     "output_type": "stream",
     "text": [
      "0 auxiliary_power_trigger_calibration\n",
      "Calibrating b'SAM L11 Xplained Pro'\n",
      "Calibrating...\n",
      "Calibrating...\n",
      "Done\n"
     ]
    }
   ],
   "source": [
    "calibrationType = circuit\n",
    "res = dgilib.auxiliary_power_trigger_calibration(power_hndl, calibrationType)\n",
    "print(\"{0} auxiliary_power_trigger_calibration\".format(res))\n",
    "if (not res):\n",
    "    print(\"Calibrating {0}\".format(name.value))\n",
    "    while (dgilib.auxiliary_power_get_status(power_hndl) == 0x03):\n",
    "        print(\"Calibrating...\")\n",
    "        time.sleep(0.1)\n",
    "    print(\"Done\")"
   ]
  },
  {
   "cell_type": "markdown",
   "metadata": {},
   "source": [
    "#### `auxiliary_power_get_status`\n",
    "Gets the status of the power parser.\n",
    "\n",
    "Return codes\n",
    "- `IDLE` = 0x00\n",
    "- `RUNNING` = 0x01\n",
    "- `DONE` = 0x02\n",
    "- `CALIBRATING` = 0x03\n",
    "- `INIT_FAILED` = 0x10\n",
    "- `OVERFLOWED` = 0x11\n",
    "- `USB_DISCONNECTED` = 0x12\n",
    "- `CALIBRATION_FAILED` = 0x20\n",
    "\n",
    "`int auxiliary_power_get_status(uint32_t power_hndl)`\n",
    "\n",
    "Parameter   | Description\n",
    "-------------  | -------------\n",
    "*power_hndl* | Handle to the power parser"
   ]
  },
  {
   "cell_type": "code",
   "execution_count": 94,
   "metadata": {},
   "outputs": [
    {
     "name": "stdout",
     "output_type": "stream",
     "text": [
      "power_status: 0\n"
     ]
    }
   ],
   "source": [
    "powerStatus = c_int(dgilib.auxiliary_power_get_status(power_hndl))\n",
    "print(\"power_status: {0}\".format(powerStatus.value))"
   ]
  },
  {
   "cell_type": "markdown",
   "metadata": {},
   "source": [
    "#### `auxiliary_power_get_calibration`\n",
    "Gets the raw calibration read from the tool.\n",
    "\n",
    "A non-zero return value indicates an error.\n",
    "\n",
    "`int auxiliary_power_get_calibration(uint32_t power_hndl, uint8_t* data, size_t length)`\n",
    "\n",
    "Parameter   | Description\n",
    "-------------  | -------------\n",
    "*power_hndl* | Handle to the power parser\n",
    "*data* | Buffer that will hold the read raw calibration data\n",
    "*length* | Number of raw calibration bytes to fetch. See the DGI documentation for number of bytes."
   ]
  },
  {
   "cell_type": "code",
   "execution_count": 95,
   "metadata": {},
   "outputs": [
    {
     "name": "stdout",
     "output_type": "stream",
     "text": [
      "208 auxiliary_power_get_calibration\n"
     ]
    }
   ],
   "source": [
    "calibrationData = (c_ubyte * NUM_CALIBRATION)()\n",
    "calibrationLength = c_size_t(NUM_CALIBRATION)\n",
    "res = dgilib.auxiliary_power_get_calibration(power_hndl, byref(calibrationData), calibrationLength)\n",
    "print(\"{0} auxiliary_power_get_calibration\".format(res))\n",
    "# for i in range(calibrationLength.value):\n",
    "#     print(\"\\t{0}: {1}\".format(i, calibrationData[i]))"
   ]
  },
  {
   "cell_type": "markdown",
   "metadata": {},
   "source": [
    "#### `auxiliary_power_register_buffer_pointers`\n",
    "Registers a set of pointers to be used for storing the calibrated power data. The buffers can then be locked by auxiliary_power_lock_data_for_reading, and the data directly read from the specified buffers. Zero-pointers can be specified to get the buffers allocated within DGILib. This requires the data to be fetched using auxiliary_power_copy_data.\n",
    "\n",
    "A non-zero return value indicates an error.\n",
    "\n",
    "`int auxiliary_power_register_buffer_pointers(uint32_t power_hndl, float* buffer, double* timestamp, size_t* count, size_t max_count, int channel, int type)`\n",
    "\n",
    "Parameter   | Description\n",
    "-------------  | -------------\n",
    "*power_hndl* | Handle to the power parser\n",
    "*buffer* | Buffer that will hold the samples. Set to 0 for automatically allocated.\n",
    "*timestamp* | Buffer that will hold the timestamp for the samples. Set to 0 for automatically allocated.\n",
    "*count* | Pointer to a variable that will hold the count of samples. Set to 0 for automatically allocated.\n",
    "*max_count* | Number of samples that can fit into the specified buffers. Or size of automatically allocated buffers.\n",
    "*channel* | Power channel for this buffer: A = 0, B = 1 (Power Debugger specific)\n",
    "*type* | Type of power data: Current = 0, Voltage = 1, Range = 2"
   ]
  },
  {
   "cell_type": "code",
   "execution_count": 96,
   "metadata": {},
   "outputs": [
    {
     "name": "stdout",
     "output_type": "stream",
     "text": [
      "0 auxiliary_power_register_buffer_pointers\n"
     ]
    }
   ],
   "source": [
    "powerBuffer = (c_float * BUFFER_SIZE)()\n",
    "powerTimestamp = (c_double * BUFFER_SIZE)()\n",
    "powerCount = c_size_t()\n",
    "max_count = (c_size_t * BUFFER_SIZE)()\n",
    "channel = c_int(0)\n",
    "powerType = c_int(0)\n",
    "res = dgilib.auxiliary_power_register_buffer_pointers(power_hndl, byref(powerBuffer), byref(powerTimestamp), byref(powerCount), max_count, channel, powerType);\n",
    "# res = dgilib.auxiliary_power_register_buffer_pointers(power_hndl, 0, 0, 0, max_count, channel, powerType);\n",
    "print(\"{0} auxiliary_power_register_buffer_pointers\".format(res))"
   ]
  },
  {
   "cell_type": "code",
   "execution_count": 97,
   "metadata": {},
   "outputs": [
    {
     "name": "stdout",
     "output_type": "stream",
     "text": [
      "power_status: 0\n"
     ]
    }
   ],
   "source": [
    "powerStatus = c_int(dgilib.auxiliary_power_get_status(power_hndl))\n",
    "print(\"power_status: {0}\".format(powerStatus.value))"
   ]
  },
  {
   "cell_type": "markdown",
   "metadata": {},
   "source": [
    "#### `auxiliary_power_start`\n",
    "Starts parsing of power data. The power and power sync interfaces are enabled automatically, but note that it is necessary to start the polling separately. This only starts the parser that consumes data from the DGILib buffer.\n",
    "\n",
    "A non-zero return value indicates an error.\n",
    "\n",
    "`int auxiliary_power_start(uint32_t power_hndl, int mode, int parameter)`\n",
    "\n",
    "Parameter   | Description\n",
    "-------------  | -------------\n",
    "*power_hndl* | Handle to the power parser\n",
    "*mode* | Sets the mode of capture.\n",
    " | 0 - continuous capturing which requires the user to periodically consume the data.\n",
    " | 1 - oneshot capturing that captures data until the buffer has been read once, has been filled or the time from the first received sample in seconds equals the specified parameter.\n",
    "*parameter* | Mode specific"
   ]
  },
  {
   "cell_type": "code",
   "execution_count": 98,
   "metadata": {},
   "outputs": [
    {
     "name": "stdout",
     "output_type": "stream",
     "text": [
      "0 auxiliary_power_start\n"
     ]
    }
   ],
   "source": [
    "mode = c_int(0)\n",
    "parameter = c_int(0)\n",
    "res = dgilib.auxiliary_power_start(power_hndl, mode, parameter);\n",
    "print(\"{0} auxiliary_power_start\".format(res))"
   ]
  },
  {
   "cell_type": "code",
   "execution_count": 100,
   "metadata": {},
   "outputs": [
    {
     "name": "stdout",
     "output_type": "stream",
     "text": [
      "power_status: 1\n"
     ]
    }
   ],
   "source": [
    "powerStatus = c_int(dgilib.auxiliary_power_get_status(power_hndl))\n",
    "print(\"power_status: {0}\".format(powerStatus.value))"
   ]
  },
  {
   "cell_type": "code",
   "execution_count": 101,
   "metadata": {},
   "outputs": [],
   "source": [
    "#     int loggedSamples = 0;\n",
    "#     printf(\"Waiting to log some data \\n\");\n",
    "#     for (int i = 0; i < 25; i++) {\n",
    "#         auxiliary_power_lock_data_for_reading(power_hndl);\n",
    "#         auxiliary_power_copy_data(power_hndl, powerBuffer+loggedSamples, powerTimestamp+loggedSamples, &powerCount, max_count, channel, powerType);\n",
    "#         auxiliary_power_free_data(power_hndl);\n",
    "#         loggedSamples += powerCount;\n",
    "#         printf(\".%d\", powerCount);\n",
    "# //        printf(\".\");\n",
    "#         for (int j = 0;j < WAIT_ITERATIONS; j+=10) {}\n",
    "#     }\n",
    "#     printf(\" Done\\n\");"
   ]
  },
  {
   "cell_type": "code",
   "execution_count": 102,
   "metadata": {},
   "outputs": [
    {
     "name": "stdout",
     "output_type": "stream",
     "text": [
      "power_status: 1\n"
     ]
    }
   ],
   "source": [
    "powerStatus = c_int(dgilib.auxiliary_power_get_status(power_hndl))\n",
    "print(\"power_status: {0}\".format(powerStatus.value))"
   ]
  },
  {
   "cell_type": "code",
   "execution_count": 103,
   "metadata": {},
   "outputs": [],
   "source": [
    "#     interface_id = INTERFACE_GPIO;\n",
    "#     res = interface_read_data(dgi_hndl, interface_id, readBuffer, timestamp, &length, &ovf_index, &ovf_length, &ovf_entry_count);\n",
    "#     printf(\"%d interface_read_data: 0x%.2x, length: %d\\n\", res, interface_id, length);\n",
    "#     for (int i = 0; i < length; ++i) {\n",
    "#         printf(\"\\t%.6d: buffer: %.4u, timestamp: %.4llu, time: %lf\\n\", i, readBuffer[i], timestamp[i], timestamp[i] * timerFactor);\n",
    "#     }"
   ]
  },
  {
   "cell_type": "markdown",
   "metadata": {},
   "source": [
    "#### `auxiliary_power_lock_data_for_reading`\n",
    "Blocks the parsing thread from accessing all the buffers. This must be called before the user application code accesses the buffers, or a call to auxiliary_power_copy_data is made. Afterwards auxiliary_power_free_data must be called. Minimize the amount of time between locking and freeing to avoid buffer overflows.\n",
    "\n",
    "A non-zero return value indicates an error.\n",
    "\n",
    "`int auxiliary_power_lock_data_for_reading(uint32_t power_hndl)`\n",
    "\n",
    "Parameter   | Description\n",
    "-------------  | -------------\n",
    "*power_hndl* | Handle to the power parser"
   ]
  },
  {
   "cell_type": "code",
   "execution_count": 104,
   "metadata": {},
   "outputs": [
    {
     "name": "stdout",
     "output_type": "stream",
     "text": [
      "0 auxiliary_power_lock_data_for_reading\n"
     ]
    }
   ],
   "source": [
    "res = dgilib.auxiliary_power_lock_data_for_reading(power_hndl)\n",
    "print(\"{0} auxiliary_power_lock_data_for_reading\".format(res))"
   ]
  },
  {
   "cell_type": "markdown",
   "metadata": {},
   "source": [
    "#### `auxiliary_power_copy_data`\n",
    "Copies parsed power data into the specified buffer. Remember to lock the buffers first. If the count parameter is the same as max_count there is probably more data to be read. Do another read to get the remaining data.\n",
    "\n",
    "A non-zero return value indicates an error.\n",
    "\n",
    "`int auxiliary_power_copy_data(uint32_t power_hndl, float* buffer, double* timestamp, size_t* count, size_t\n",
    "max_count, int channel, int type)`\n",
    "\n",
    "Parameter   | Description\n",
    "-------------  | -------------\n",
    "*power_hndl* | Handle to the power parser\n",
    "*buffer* | Buffer that will hold the data\n",
    "*timestamp* | Buffer that will hold the timestamps\n",
    "*count* | Pointer to a variable that will hold the count of elements copied\n",
    "*max_count* | Maximum number of elements that the buffer can hold\n",
    "*channel* | Power channel for this buffer: A = 0, B = 1 (Power Debugger specific)\n",
    "*type* | Type of power data: Current = 0, Voltage = 1, Range = 2"
   ]
  },
  {
   "cell_type": "code",
   "execution_count": 105,
   "metadata": {},
   "outputs": [
    {
     "name": "stdout",
     "output_type": "stream",
     "text": [
      "0 auxiliary_power_copy_data: 0 samples\n"
     ]
    }
   ],
   "source": [
    "res = dgilib.auxiliary_power_copy_data(power_hndl, powerBuffer, powerTimestamp, byref(powerCount), max_count, channel, powerType);\n",
    "print(\"{0} auxiliary_power_copy_data: {1} samples\".format(res, powerCount.value))"
   ]
  },
  {
   "cell_type": "markdown",
   "metadata": {},
   "source": [
    "#### `auxiliary_power_free_data`\n",
    "Clears the power data buffers and allows the power parser to continue.\n",
    "\n",
    "A non-zero return value indicates an error.\n",
    "\n",
    "`int auxiliary_power_free_data(uint32_t power_hndl)`\n",
    "\n",
    "Parameter   | Description\n",
    "-------------  | -------------\n",
    "*power_hndl* | Handle to the power parser"
   ]
  },
  {
   "cell_type": "code",
   "execution_count": 106,
   "metadata": {},
   "outputs": [
    {
     "name": "stdout",
     "output_type": "stream",
     "text": [
      "0 auxiliary_power_free_data\n"
     ]
    }
   ],
   "source": [
    "res = dgilib.auxiliary_power_free_data(power_hndl)\n",
    "print(\"{0} auxiliary_power_free_data\".format(res))"
   ]
  },
  {
   "cell_type": "markdown",
   "metadata": {},
   "source": [
    "#### `auxiliary_power_stop`\n",
    "Stops parsing of power data.\n",
    "\n",
    "A non-zero return value indicates an error.\n",
    "\n",
    "`int auxiliary_power_stop(uint32_t power_hndl)`\n",
    "\n",
    "Parameter   | Description\n",
    "-------------  | -------------\n",
    "*power_hndl* | Handle to the power parser"
   ]
  },
  {
   "cell_type": "code",
   "execution_count": 107,
   "metadata": {},
   "outputs": [
    {
     "name": "stdout",
     "output_type": "stream",
     "text": [
      "0 auxiliary_power_stop\n"
     ]
    }
   ],
   "source": [
    "res = dgilib.auxiliary_power_stop(power_hndl)\n",
    "print(\"{0} auxiliary_power_stop\".format(res))"
   ]
  },
  {
   "cell_type": "code",
   "execution_count": null,
   "metadata": {},
   "outputs": [],
   "source": [
    "# print(\"captured power data:\")\n",
    "# for i in range(powerCount.value):\n",
    "#     print(\"\\t{0}: buffer: {1}, timestamp: {2}\".format(i, powerBuffer[i], powerTimestamp[i]))"
   ]
  },
  {
   "cell_type": "code",
   "execution_count": 113,
   "metadata": {},
   "outputs": [
    {
     "name": "stdout",
     "output_type": "stream",
     "text": [
      "power_status: 0\n"
     ]
    }
   ],
   "source": [
    "powerStatus = c_int(dgilib.auxiliary_power_get_status(power_hndl))\n",
    "print(\"power_status: {0}\".format(powerStatus.value))"
   ]
  },
  {
   "cell_type": "code",
   "execution_count": null,
   "metadata": {},
   "outputs": [],
   "source": []
  },
  {
   "cell_type": "code",
   "execution_count": 114,
   "metadata": {},
   "outputs": [],
   "source": [
    "#     interface_id = INTERFACE_GPIO;\n",
    "#     res = interface_read_data(dgi_hndl, interface_id, readBuffer, timestamp, &length, &ovf_index, &ovf_length, &ovf_entry_count);\n",
    "#     printf(\"%d interface_read_data: 0x%.2x, length: %d\\n\", res, interface_id, length);\n",
    "#     for (int i = 0; i < length; ++i) {\n",
    "#         printf(\"\\t%.6d: buffer: %.4u, timestamp: %.4llu, time: %lf\\n\", i, readBuffer[i], timestamp[i], timestamp[i] * timerFactor);\n",
    "#     }"
   ]
  },
  {
   "cell_type": "code",
   "execution_count": 115,
   "metadata": {},
   "outputs": [],
   "source": [
    "#     res = interface_read_data(dgi_hndl, INTERFACE_POWER_SYNC, readBuffer, timestamp, &length, &ovf_index, &ovf_length, &ovf_entry_count);\n",
    "#     printf(\"%d interface_read_data: 0x%.2x, length: %d\\n\", res, INTERFACE_POWER_SYNC, length);\n",
    "#     for (int i = 0; i < length; ++i) {\n",
    "#         printf(\"\\t%.6d: buffer: %.4u, timestamp: %.4llu, time: %lf\\n\", i, readBuffer[i], timestamp[i], timestamp[i] * timerFactor);\n",
    "#     }"
   ]
  },
  {
   "cell_type": "markdown",
   "metadata": {},
   "source": [
    "## Uninitialize\n",
    "\n",
    "Here are all the functions to shutdown the device gracefully and avoid the dreaded mode 17."
   ]
  },
  {
   "cell_type": "markdown",
   "metadata": {},
   "source": [
    "#### `auxiliary_power_unregister_buffer_pointers`\n",
    "Unregisters the pointers for the specified power channel.\n",
    "\n",
    "A non-zero return value indicates an error.\n",
    "\n",
    "`int auxiliary_power_unregister_buffer_pointers(uint32_t power_hndl, int channel, int type)`\n",
    "\n",
    "Parameter   | Description\n",
    "-------------  | -------------\n",
    "*power_hndl* | Handle to the power parser\n",
    "*channel* | Power channel for this buffer: A = 0, B = 1 (Power Debugger specific)\n",
    "*type* | Type of power data: Current = 0, Voltage = 1, Range = 2"
   ]
  },
  {
   "cell_type": "code",
   "execution_count": 116,
   "metadata": {},
   "outputs": [
    {
     "name": "stdout",
     "output_type": "stream",
     "text": [
      "0 auxiliary_power_unregister_buffer_pointers\n"
     ]
    }
   ],
   "source": [
    "res = dgilib.auxiliary_power_unregister_buffer_pointers(power_hndl, channel, powerType)\n",
    "print(\"{0} auxiliary_power_unregister_buffer_pointers\".format(res))"
   ]
  },
  {
   "cell_type": "markdown",
   "metadata": {},
   "source": [
    "#### `auxiliary_power_uninitialize`\n",
    "Uninitializes the power parser.\n",
    "\n",
    "A non-zero return value indicates an error.\n",
    "\n",
    "`int auxiliary_power_uninitialize(uint32_t power_hndl)`\n",
    "\n",
    "Parameter   | Description\n",
    "-------------  | -------------\n",
    "*power_hndl* | Handle to the power parser"
   ]
  },
  {
   "cell_type": "code",
   "execution_count": 117,
   "metadata": {},
   "outputs": [
    {
     "name": "stdout",
     "output_type": "stream",
     "text": [
      "0 auxiliary_power_uninitialize\n"
     ]
    }
   ],
   "source": [
    "res = dgilib.auxiliary_power_uninitialize(power_hndl)\n",
    "print(\"{0} auxiliary_power_uninitialize\".format(res))"
   ]
  },
  {
   "cell_type": "markdown",
   "metadata": {},
   "source": [
    "#### `stop_polling`\n",
    "This function will stop the polling system and stop acquisition on all interfaces.\n",
    "\n",
    "A non-zero return value indicates an error.\n",
    "\n",
    "`int stop_polling(uint32_t dgi_hndl)`\n",
    "\n",
    "Parameter   | Description\n",
    "-------------  | -------------\n",
    "*dgi_hndl* | Handle of the connection"
   ]
  },
  {
   "cell_type": "code",
   "execution_count": 118,
   "metadata": {},
   "outputs": [
    {
     "name": "stdout",
     "output_type": "stream",
     "text": [
      "0 stop_polling\n"
     ]
    }
   ],
   "source": [
    "res = dgilib.stop_polling(dgi_hndl)\n",
    "print(\"{0} stop_polling\".format(res))"
   ]
  },
  {
   "cell_type": "markdown",
   "metadata": {},
   "source": [
    "#### `interface_disable`\n",
    "Disables the specified interface.\n",
    "\n",
    "A non-zero return value indicates an error.\n",
    "\n",
    "`int interface_disable(uint32_t dgi_hndl, int interface_id)`\n",
    "\n",
    "Parameter   | Description\n",
    "-------------  | -------------\n",
    "*dgi_hndl* | Handle to connection\n",
    "*interface_id* | The ID of the interface to enable"
   ]
  },
  {
   "cell_type": "code",
   "execution_count": 119,
   "metadata": {},
   "outputs": [
    {
     "name": "stdout",
     "output_type": "stream",
     "text": [
      "0 interface_disable: 48\n"
     ]
    }
   ],
   "source": [
    "interface_id = INTERFACE_GPIO\n",
    "res = dgilib.interface_disable(dgi_hndl, interface_id)\n",
    "print(\"{0} interface_disable: {1}\".format(res, interface_id))\n",
    "\n",
    "#     res = interface_disable(dgi_hndl, interface_id);\n",
    "#     printf(\"%d interface_disable: 0x%.2x\\n\", res, interface_id);\n",
    "\n",
    "#     res = interface_disable(dgi_hndl, INTERFACE_POWER_SYNC);\n",
    "#     printf(\"%d interface_disable: 0x%.2x\\n\", res, INTERFACE_POWER_SYNC);\n",
    "\n",
    "#     res = interface_disable(dgi_hndl, INTERFACE_TIMESTAMP);\n",
    "#     printf(\"%d interface_disable: 0x%.2x\\n\", res, INTERFACE_TIMESTAMP);"
   ]
  },
  {
   "cell_type": "markdown",
   "metadata": {},
   "source": [
    "#### `disconnect`\n",
    "Closes the specified connection.\n",
    "\n",
    "A non-zero return value indicates an error.\n",
    "\n",
    "`int disconnect(uint32_t dgi_hndl)`\n",
    "\n",
    "Parameter   | Description\n",
    "-------------  | -------------\n",
    "*dgi_hndl* | Handle of the connection"
   ]
  },
  {
   "cell_type": "code",
   "execution_count": 120,
   "metadata": {},
   "outputs": [
    {
     "name": "stdout",
     "output_type": "stream",
     "text": [
      "0 disconnect\n"
     ]
    }
   ],
   "source": [
    "res = dgilib.disconnect(dgi_hndl)\n",
    "print(\"{0} disconnect\".format(res))"
   ]
  },
  {
   "cell_type": "code",
   "execution_count": 121,
   "metadata": {},
   "outputs": [
    {
     "name": "stdout",
     "output_type": "stream",
     "text": [
      "connection_status: 2\n"
     ]
    }
   ],
   "source": [
    "c_status = dgilib.connection_status(dgi_hndl)\n",
    "print(\"connection_status: {0}\".format(c_status))"
   ]
  },
  {
   "cell_type": "code",
   "execution_count": 122,
   "metadata": {},
   "outputs": [
    {
     "data": {
      "text/plain": [
       "2"
      ]
     },
     "execution_count": 122,
     "metadata": {},
     "output_type": "execute_result"
    }
   ],
   "source": [
    "dgilib.UnInitialize(dgi_hndl)"
   ]
  },
  {
   "cell_type": "code",
   "execution_count": null,
   "metadata": {},
   "outputs": [],
   "source": []
  },
  {
   "cell_type": "code",
   "execution_count": null,
   "metadata": {},
   "outputs": [],
   "source": []
  },
  {
   "cell_type": "code",
   "execution_count": 123,
   "metadata": {},
   "outputs": [
    {
     "name": "stdout",
     "output_type": "stream",
     "text": [
      "1\n",
      "2\n",
      "3\n"
     ]
    }
   ],
   "source": [
    "def foo(aqs : typing.List[int]) -> Array:\n",
    "    array_type = c_int64 * len(aqs)\n",
    "    ans = array_type(*aqs)\n",
    "    return ans\n",
    "\n",
    "for el in foo([1,2,3]):\n",
    "    print(el)"
   ]
  },
  {
   "cell_type": "code",
   "execution_count": null,
   "metadata": {},
   "outputs": [],
   "source": []
  },
  {
   "cell_type": "code",
   "execution_count": null,
   "metadata": {},
   "outputs": [],
   "source": []
  },
  {
   "cell_type": "code",
   "execution_count": null,
   "metadata": {},
   "outputs": [],
   "source": []
  }
 ],
 "metadata": {
  "kernelspec": {
   "display_name": "SAML11-32",
   "language": "python",
   "name": "saml11-32"
  },
  "language_info": {
   "codemirror_mode": {
    "name": "ipython",
    "version": 3
   },
   "file_extension": ".py",
   "mimetype": "text/x-python",
   "name": "python",
   "nbconvert_exporter": "python",
   "pygments_lexer": "ipython3",
   "version": "3.6.5"
  }
 },
 "nbformat": 4,
 "nbformat_minor": 2
}
