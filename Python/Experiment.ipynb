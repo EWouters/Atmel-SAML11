{
 "cells": [
  {
   "cell_type": "code",
   "execution_count": 1,
   "metadata": {},
   "outputs": [],
   "source": [
    "# %matplotlib ipympl\n",
    "%matplotlib wx"
   ]
  },
  {
   "cell_type": "code",
   "execution_count": 2,
   "metadata": {},
   "outputs": [],
   "source": [
    "import matplotlib.pyplot as plt\n",
    "plt.ion()"
   ]
  },
  {
   "cell_type": "code",
   "execution_count": 3,
   "metadata": {},
   "outputs": [],
   "source": [
    "from pydgilib_extra import *"
   ]
  },
  {
   "cell_type": "code",
   "execution_count": 4,
   "metadata": {},
   "outputs": [],
   "source": [
    "fig = plt.figure(figsize=(8, 6))\n",
    "fig.show()"
   ]
  },
  {
   "cell_type": "code",
   "execution_count": 5,
   "metadata": {},
   "outputs": [],
   "source": [
    "config_dict = {\n",
    "    \"interfaces\": [INTERFACE_POWER, INTERFACE_GPIO],\n",
    "    \"power_buffers\": [{\"channel\": CHANNEL_A, \"power_type\": POWER_CURRENT}],\n",
    "    \"read_mode\": [True, True, True, True],\n",
    "    \"write_mode\": [False, False, False, False],\n",
    "    \"loggers\": [LOGGER_OBJECT, LOGGER_PLOT, LOGGER_CSV],\n",
    "    \"plot_pins\": [False, False, True, True],\n",
    "    \"plot_pins_values\": [True, True, True, True],\n",
    "    \"gpio_delay_time\" : 0.010795,\n",
    "    \"augment_gpio\": True,\n",
    "    \"plot_pins_method\": \"line\",\n",
    "    \"plot_xmax\": 1.2,\n",
    "    \"fig\": fig,\n",
    "}"
   ]
  },
  {
   "cell_type": "code",
   "execution_count": 6,
   "metadata": {},
   "outputs": [
    {
     "name": "stderr",
     "output_type": "stream",
     "text": [
      "D:\\Anaconda3\\envs\\SAML11-32\\lib\\site-packages\\matplotlib\\widgets.py:346: UserWarning: Attempting to set identical left==right results\n",
      "in singular transformations; automatically expanding.\n",
      "left=0, right=0.0\n",
      "  ax.set_xlim((valmin, valmax))\n",
      "D:\\Anaconda3\\envs\\SAML11-32\\lib\\site-packages\\matplotlib\\widgets.py:346: UserWarning: Attempting to set identical left==right results\n",
      "in singular transformations; automatically expanding.\n",
      "left=0, right=0.0\n",
      "  ax.set_xlim((valmin, valmax))\n"
     ]
    }
   ],
   "source": [
    "fig.clf()\n",
    "for ax in fig.get_axes():\n",
    "    ax.cla()\n",
    "data = []\n",
    "\n",
    "with DGILibExtra(**config_dict) as dgilib:\n",
    "    dgilib.device_reset()\n",
    "    data = dgilib.logger.log(1)"
   ]
  },
  {
   "cell_type": "code",
   "execution_count": 7,
   "metadata": {},
   "outputs": [
    {
     "name": "stdout",
     "output_type": "stream",
     "text": [
      "((0.012109666666666668, [False, False, False, False]), (0.012109666666666668, [True, True, True, True]), (0.012508600000000002, [True, True, True, True]), (0.012508600000000002, [True, True, False, True]), (0.012513400000000001, [True, True, False, True]), (0.012513400000000001, [True, True, False, False]), (0.037482466666666665, [True, True, False, False]), (0.037482466666666665, [True, True, True, False]), (0.03848513333333334, [True, True, True, False]), (0.03848513333333334, [True, True, False, False]), (0.048571, [True, True, False, False]), (0.048571, [True, True, False, True]), (0.04962166666666667, [True, True, False, True]), (0.04962166666666667, [True, True, False, False]), (0.06989846666666667, [True, True, False, False]), (0.06989846666666667, [True, True, True, False]), (0.07188353333333333, [True, True, True, False]), (0.07188353333333333, [True, True, False, False]), (0.08196886666666667, [True, True, False, False]), (0.08196886666666667, [True, True, False, True]), (0.0840526, [True, True, False, True]), (0.0840526, [True, True, False, False]), (0.10434113333333334, [True, True, False, False]), (0.10434113333333334, [True, True, True, False]), (0.1073086, [True, True, True, False]), (0.1073086, [True, True, False, False]), (0.11739393333333334, [True, True, False, False]), (0.11739393333333334, [True, True, False, True]), (0.12051073333333333, [True, True, False, True]), (0.12051073333333333, [True, True, False, False]), (0.1408366, [True, True, False, False]), (0.1408366, [True, True, True, False]), (0.14478593333333334, [True, True, True, False]), (0.14478593333333334, [True, True, False, False]), (0.15487073333333334, [True, True, False, False]), (0.15487073333333334, [True, True, False, True]), (0.15901953333333332, [True, True, False, True]), (0.15901953333333332, [True, True, False, False]), (0.1793566, [True, True, False, False]), (0.1793566, [True, True, True, False]), (0.18428833333333333, [True, True, True, False]), (0.18428833333333333, [True, True, False, False]), (0.1943742, [True, True, False, False]), (0.1943742, [True, True, False, True]), (0.19955606666666667, [True, True, False, True]), (0.19955606666666667, [True, True, False, False]), (0.21991766666666668, [True, True, False, False]), (0.21991766666666668, [True, True, True, False]), (0.22583233333333333, [True, True, True, False]), (0.22583233333333333, [True, True, False, False]), (0.23591873333333332, [True, True, False, False]), (0.23591873333333332, [True, True, False, True]), (0.24213206666666667, [True, True, False, True]), (0.24213206666666667, [True, True, False, False]), (0.26251873333333337, [True, True, False, False]), (0.26251873333333337, [True, True, True, False]), (0.2694147333333333, [True, True, True, False]), (0.2694147333333333, [True, True, False, False]), (0.27950006666666666, [True, True, False, False]), (0.27950006666666666, [True, True, False, True]), (0.28674646666666664, [True, True, False, True]), (0.28674646666666664, [True, True, False, False]), (0.30715606666666667, [True, True, False, False]), (0.30715606666666667, [True, True, True, False]), (0.3150344666666667, [True, True, True, False]), (0.3150344666666667, [True, True, False, False]), (0.3251198, [True, True, False, False]), (0.3251198, [True, True, False, True]), (0.33339820000000003, [True, True, False, True]), (0.33339820000000003, [True, True, False, False]), (0.35384353333333335, [True, True, False, False]), (0.35384353333333335, [True, True, True, False]), (0.3627038, [True, True, True, False]), (0.3627038, [True, True, False, False]), (0.37278913333333336, [True, True, False, False]), (0.37278913333333336, [True, True, False, True]), (0.3821006, [True, True, False, True]), (0.3821006, [True, True, False, False]), (0.40255766666666665, [True, True, False, False]), (0.40255766666666665, [True, True, True, False]), (0.4124008666666667, [True, True, True, False]), (0.4124008666666667, [True, True, False, False]), (0.42248673333333336, [True, True, False, False]), (0.42248673333333336, [True, True, False, True]), (0.43283073333333333, [True, True, False, True]), (0.43283073333333333, [True, True, False, False]), (0.6441704666666667, [True, True, False, False]), (0.6441704666666667, [True, True, True, True]))\n"
     ]
    }
   ],
   "source": [
    "print(data.gpio)"
   ]
  },
  {
   "cell_type": "code",
   "execution_count": null,
   "metadata": {},
   "outputs": [],
   "source": []
  }
 ],
 "metadata": {
  "kernelspec": {
   "display_name": "Python [conda env:SAML11-32]",
   "language": "python",
   "name": "conda-env-SAML11-32-py"
  },
  "language_info": {
   "codemirror_mode": {
    "name": "ipython",
    "version": 3
   },
   "file_extension": ".py",
   "mimetype": "text/x-python",
   "name": "python",
   "nbconvert_exporter": "python",
   "pygments_lexer": "ipython3",
   "version": "3.6.8"
  }
 },
 "nbformat": 4,
 "nbformat_minor": 2
}
