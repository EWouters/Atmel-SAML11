{
 "cells": [
  {
   "cell_type": "code",
   "execution_count": 8,
   "metadata": {},
   "outputs": [],
   "source": [
    "%matplotlib ipympl\n",
    "# %matplotlib wx"
   ]
  },
  {
   "cell_type": "code",
   "execution_count": 9,
   "metadata": {},
   "outputs": [],
   "source": [
    "import matplotlib.pyplot as plt\n",
    "plt.ion()"
   ]
  },
  {
   "cell_type": "code",
   "execution_count": 10,
   "metadata": {},
   "outputs": [],
   "source": [
    "from pydgilib_extra import *"
   ]
  },
  {
   "cell_type": "code",
   "execution_count": 11,
   "metadata": {},
   "outputs": [],
   "source": [
    "dgilib_path = \"C:\\\\Users\\\\erikw_000\\\\Documents\\\\GitHub\\\\Atmel-SAML11\\\\Python\\\\dgilib.dll\""
   ]
  },
  {
   "cell_type": "code",
   "execution_count": 18,
   "metadata": {},
   "outputs": [
    {
     "data": {
      "application/vnd.jupyter.widget-view+json": {
       "model_id": "86cbaccbac4d426ebce4f28f8b705d65",
       "version_major": 2,
       "version_minor": 0
      },
      "text/plain": [
       "FigureCanvasNbAgg()"
      ]
     },
     "metadata": {},
     "output_type": "display_data"
    }
   ],
   "source": [
    "fig = plt.figure(figsize=(8, 6))\n",
    "fig.show()"
   ]
  },
  {
   "cell_type": "code",
   "execution_count": 19,
   "metadata": {},
   "outputs": [],
   "source": [
    "data = []\n",
    "\n",
    "config_dict = {\n",
    "    \"dgilib_path\": dgilib_path,\n",
    "    \"interfaces\": [INTERFACE_POWER, INTERFACE_GPIO],\n",
    "    \"power_buffers\": [{\"channel\": CHANNEL_A, \"power_type\": POWER_CURRENT}],\n",
    "    \"read_mode\": [True, True, True, True],\n",
    "    \"write_mode\": [False, False, False, False],\n",
    "    \"loggers\": [LOGGER_OBJECT, LOGGER_PLOT, LOGGER_CSV],\n",
    "#     \"plot_pins\": [False, False, True, True],\n",
    "    \"plot_pins\": [False, False, False, False],\n",
    "    \"gpio_delay_time\" : 0.010795,\n",
    "    \"fig\": fig,\n",
    "    \"verbose\": 0,\n",
    "}\n",
    "\n",
    "fig.clf()\n",
    "\n",
    "with DGILibExtra(**config_dict) as dgilib:\n",
    "    dgilib.device_reset()\n",
    "    # data = dgilib.logger.update_callback()\n",
    "    data = dgilib.logger.log(1)\n",
    "#     dgilib.ax.plot(*dgilib.power_filter_by_pin(2))\n",
    "#     dgilib.ax.plot(*dgilib.power_filter_by_pin(3))"
   ]
  },
  {
   "cell_type": "code",
   "execution_count": 20,
   "metadata": {},
   "outputs": [
    {
     "name": "stdout",
     "output_type": "stream",
     "text": [
      "Interfaces:\n",
      "\t 256:   power,   samples:   15000\n",
      "\t  48:   gpio,    samples:     109\n",
      "\n"
     ]
    }
   ],
   "source": [
    "print(data)"
   ]
  },
  {
   "cell_type": "code",
   "execution_count": 15,
   "metadata": {},
   "outputs": [
    {
     "name": "stdout",
     "output_type": "stream",
     "text": [
      "args:  ('C:\\\\Users\\\\erikw_000\\\\Documents\\\\GitHub\\\\Atmel-SAML11\\\\Python\\\\dgilib.dll',)\n",
      "kwargs:  {'interfaces': [48], 'read_mode': [True, True, True, True], 'loggers': [1, 0], 'verbose': 10}\n",
      "device_count: 1\n",
      "\t0 get_device_serial: b'ATML3138061800001604'\n",
      "\t0 connect\n",
      "connection_status: 0\n",
      "\t0 interface_list: [0, 32, 34, 48, 64, 65, 80], interfaceCount: 7\n",
      "\t0 interface_set_configuration: 48, config_cnt: 1\n",
      "\t\tconfig_id: 0,\tvalue: 15\n",
      "\t0 interface_get_configuration: 0, config_cnt: 2\n",
      "\t\tconfig_id: 0,\tvalue: 32\n",
      "\t\tconfig_id: 1,\tvalue: 60000000\n",
      "timer_factor: 5.333333333333333e-07, timer_prescaler: 32, timer_frequency: 60000000\n",
      "read_mode:  [True, True, True, True]\n",
      "write_mode:  [False, False, False, False]\n",
      "augment_gpio:  False\n",
      "\t0 interface_enable: 48, timestamp: True\n",
      "b'ATML3138061800001604'\n",
      "build_number: 244\n",
      "244\n",
      "<class 'bytes'>\n",
      "\t0 start_polling\n",
      "\t0 interface_read_data: 48, length: 1\n",
      "\t0:\tbuffer: 15,\ttick: 2126\n",
      "Collected 1 gpio samples (4 pins per sample)\n",
      "\t0 interface_disable: 48\n",
      "\t0 disconnect\n"
     ]
    }
   ],
   "source": [
    "config_dict = {\n",
    "    \"interfaces\": [INTERFACE_GPIO],\n",
    "    \"read_mode\": [True, True, True, True],\n",
    "    \"loggers\": [LOGGER_OBJECT, LOGGER_CSV],\n",
    "    \"verbose\": 10,\n",
    "}\n",
    "\n",
    "with DGILibExtra(dgilib_path, **config_dict) as dgilib:\n",
    "    print(dgilib.device_sn)\n",
    "    print(dgilib.get_build_number())\n",
    "    print(type(dgilib.device_sn))\n",
    "    dgilib.logger.log(1)"
   ]
  },
  {
   "cell_type": "code",
   "execution_count": 5,
   "metadata": {},
   "outputs": [],
   "source": []
  },
  {
   "cell_type": "code",
   "execution_count": 6,
   "metadata": {},
   "outputs": [
    {
     "data": {
      "text/plain": [
       "<pydgilib.dgilib.DGILib at 0x6c6de70>"
      ]
     },
     "execution_count": 6,
     "metadata": {},
     "output_type": "execute_result"
    }
   ],
   "source": []
  },
  {
   "cell_type": "code",
   "execution_count": 8,
   "metadata": {},
   "outputs": [
    {
     "data": {
      "text/plain": [
       "False"
      ]
     },
     "execution_count": 8,
     "metadata": {},
     "output_type": "execute_result"
    }
   ],
   "source": []
  },
  {
   "cell_type": "code",
   "execution_count": 14,
   "metadata": {},
   "outputs": [],
   "source": [
    "wer = InterfaceData()\n",
    "ker = InterfaceData(1,2)"
   ]
  },
  {
   "cell_type": "code",
   "execution_count": 15,
   "metadata": {},
   "outputs": [
    {
     "data": {
      "text/plain": [
       "False"
      ]
     },
     "execution_count": 15,
     "metadata": {},
     "output_type": "execute_result"
    }
   ],
   "source": [
    "bool(wer)"
   ]
  },
  {
   "cell_type": "code",
   "execution_count": 16,
   "metadata": {},
   "outputs": [
    {
     "data": {
      "text/plain": [
       "True"
      ]
     },
     "execution_count": 16,
     "metadata": {},
     "output_type": "execute_result"
    }
   ],
   "source": [
    "bool(ker)"
   ]
  },
  {
   "cell_type": "code",
   "execution_count": 3,
   "metadata": {},
   "outputs": [],
   "source": [
    "asd = {'f':4,'g':2}"
   ]
  },
  {
   "cell_type": "code",
   "execution_count": 4,
   "metadata": {},
   "outputs": [
    {
     "name": "stdout",
     "output_type": "stream",
     "text": [
      "4\n",
      "2\n"
     ]
    }
   ],
   "source": [
    "for c in asd.values():\n",
    "    print(c)"
   ]
  },
  {
   "cell_type": "code",
   "execution_count": 5,
   "metadata": {},
   "outputs": [
    {
     "name": "stdout",
     "output_type": "stream",
     "text": [
      "hi\n"
     ]
    }
   ],
   "source": [
    "if any(256 in (INTERFACE_GPIO, INTERFACE_POWER)):\n",
    "    print(\"hi\")"
   ]
  },
  {
   "cell_type": "code",
   "execution_count": 2,
   "metadata": {},
   "outputs": [],
   "source": [
    "list1 = [1, 2, 3]\n",
    "list2 = [2, 4, 5]\n",
    "list3 = [6, 4, 5]"
   ]
  },
  {
   "cell_type": "code",
   "execution_count": 3,
   "metadata": {},
   "outputs": [
    {
     "data": {
      "text/plain": [
       "False"
      ]
     },
     "execution_count": 3,
     "metadata": {},
     "output_type": "execute_result"
    }
   ],
   "source": [
    "bool(any(interface in list1 for interface in list3))"
   ]
  },
  {
   "cell_type": "code",
   "execution_count": 25,
   "metadata": {},
   "outputs": [
    {
     "data": {
      "text/plain": [
       "[2]"
      ]
     },
     "execution_count": 25,
     "metadata": {},
     "output_type": "execute_result"
    }
   ],
   "source": [
    "start_time = 1.1\n",
    "end_time = 2.1\n",
    "\n",
    "start_index = 0\n",
    "end_index = len(list1) - 1\n",
    "# Get the index of the first sample after the start_time\n",
    "if start_time is not None:\n",
    "    while list1[start_index] < start_time and start_index < end_index:\n",
    "        start_index += 1\n",
    "if end_time is not None:\n",
    "    while list1[end_index] > end_time and end_index >= start_index:\n",
    "        end_index -= 1\n",
    "    # Increase end_index by 1 to include the first point after the end_time\n",
    "    end_index += 1\n",
    "    \n",
    "list1[start_index:end_index]"
   ]
  },
  {
   "cell_type": "code",
   "execution_count": 37,
   "metadata": {},
   "outputs": [
    {
     "data": {
      "application/vnd.jupyter.widget-view+json": {
       "model_id": "7410e0030e764dc38944240895602fea",
       "version_major": 2,
       "version_minor": 0
      },
      "text/plain": [
       "FigureCanvasNbAgg()"
      ]
     },
     "metadata": {},
     "output_type": "display_data"
    },
    {
     "data": {
      "text/plain": [
       "(<Figure size 800x600 with 1 Axes>,\n",
       " <matplotlib.axes._subplots.AxesSubplot at 0x4ca6bf0>)"
      ]
     },
     "execution_count": 37,
     "metadata": {},
     "output_type": "execute_result"
    }
   ],
   "source": [
    "logger_plot_data(data)"
   ]
  },
  {
   "cell_type": "code",
   "execution_count": 9,
   "metadata": {},
   "outputs": [],
   "source": [
    "rows = data[INTERFACE_GPIO]"
   ]
  },
  {
   "cell_type": "code",
   "execution_count": 70,
   "metadata": {},
   "outputs": [],
   "source": [
    "rows0 = (rows[0], map(list, zip(*rows[1])))"
   ]
  },
  {
   "cell_type": "code",
   "execution_count": 71,
   "metadata": {},
   "outputs": [
    {
     "data": {
      "text/plain": [
       "([0.0032741333333333334,\n",
       "  0.12552746666666667,\n",
       "  0.13567680000000001,\n",
       "  0.25664053333333336,\n",
       "  0.2667909333333333,\n",
       "  0.4181648,\n",
       "  0.4283146666666667,\n",
       "  0.43846293333333336,\n",
       "  0.44861280000000003],\n",
       " <map at 0xd6ab90>)"
      ]
     },
     "execution_count": 71,
     "metadata": {},
     "output_type": "execute_result"
    }
   ],
   "source": [
    "rows0"
   ]
  },
  {
   "cell_type": "code",
   "execution_count": 58,
   "metadata": {},
   "outputs": [
    {
     "ename": "SyntaxError",
     "evalue": "can't use starred expression here (cell_name, line 4)",
     "output_type": "error",
     "traceback": [
      "\u001b[1;36m  File \u001b[1;32m\"cell_name\"\u001b[1;36m, line \u001b[1;32m4\u001b[0m\n\u001b[1;31mSyntaxError\u001b[0m\u001b[1;31m:\u001b[0m can't use starred expression here\n"
     ]
    }
   ],
   "source": [
    "a = (*rows[1])"
   ]
  },
  {
   "cell_type": "code",
   "execution_count": 59,
   "metadata": {},
   "outputs": [
    {
     "ename": "NameError",
     "evalue": "name 'a' is not defined",
     "output_type": "error",
     "traceback": [
      "\u001b[1;31m---------------------------------------------------------------------------\u001b[0m",
      "\u001b[1;31mNameError\u001b[0m                                 Traceback (most recent call last)",
      "\u001b[1;32m<ipython-input-59-3f786850e387>\u001b[0m in \u001b[0;36m<module>\u001b[1;34m\u001b[0m\n\u001b[1;32m----> 1\u001b[1;33m \u001b[0ma\u001b[0m\u001b[1;33m\u001b[0m\u001b[1;33m\u001b[0m\u001b[0m\n\u001b[0m",
      "\u001b[1;31mNameError\u001b[0m: name 'a' is not defined"
     ]
    }
   ],
   "source": [
    "a"
   ]
  },
  {
   "cell_type": "code",
   "execution_count": 68,
   "metadata": {},
   "outputs": [
    {
     "data": {
      "text/plain": [
       "<map at 0xd6ae70>"
      ]
     },
     "execution_count": 68,
     "metadata": {},
     "output_type": "execute_result"
    }
   ],
   "source": [
    "map(list, zip(*rows[1]))"
   ]
  },
  {
   "cell_type": "code",
   "execution_count": 24,
   "metadata": {},
   "outputs": [
    {
     "data": {
      "text/plain": [
       "[(0.0019386666666666667, [True, True, True, True]),\n",
       " (0.002586666666666667, [True, True, False, True]),\n",
       " (0.0026528, [True, True, False, False]),\n",
       " (0.125328, [True, True, True, False]),\n",
       " (0.13547733333333334, [True, True, True, True]),\n",
       " (0.2564368, [True, True, False, True]),\n",
       " (0.2665856, [True, True, False, False]),\n",
       " (0.4179546666666667, [True, True, True, False]),\n",
       " (0.42810346666666665, [True, True, False, False]),\n",
       " (0.43825226666666667, [True, True, False, True]),\n",
       " (0.4484016, [True, True, False, False])]"
      ]
     },
     "execution_count": 24,
     "metadata": {},
     "output_type": "execute_result"
    }
   ],
   "source": [
    "list(zip(rows.timestamps, rows.values))"
   ]
  },
  {
   "cell_type": "code",
   "execution_count": 10,
   "metadata": {},
   "outputs": [
    {
     "data": {
      "text/plain": [
       "<pydgilib_extra.dgilib_data.InterfaceData at 0x6e2bc10>"
      ]
     },
     "execution_count": 10,
     "metadata": {},
     "output_type": "execute_result"
    }
   ],
   "source": [
    "rows"
   ]
  },
  {
   "cell_type": "code",
   "execution_count": 11,
   "metadata": {},
   "outputs": [
    {
     "data": {
      "text/plain": [
       "[(0.0014752, True, True, True, True),\n",
       " (0.0025664, True, True, False, True),\n",
       " (0.0026320000000000002, True, True, False, False),\n",
       " (0.12530133333333335, True, True, True, False),\n",
       " (0.13545173333333332, True, True, True, True),\n",
       " (0.2564128, True, True, False, True),\n",
       " (0.2665610666666667, True, True, False, False),\n",
       " (0.41794186666666666, True, True, True, False),\n",
       " (0.4280928, True, True, False, False),\n",
       " (0.4382432, True, True, False, True),\n",
       " (0.4483952, True, True, False, False)]"
      ]
     },
     "execution_count": 11,
     "metadata": {},
     "output_type": "execute_result"
    }
   ],
   "source": [
    "list(zip(rows.timestamps, *map(iter, zip(*rows.values))))"
   ]
  },
  {
   "cell_type": "code",
   "execution_count": 35,
   "metadata": {},
   "outputs": [
    {
     "ename": "TypeError",
     "evalue": "list() takes at most 1 argument (2 given)",
     "output_type": "error",
     "traceback": [
      "\u001b[1;31m---------------------------------------------------------------------------\u001b[0m",
      "\u001b[1;31mTypeError\u001b[0m                                 Traceback (most recent call last)",
      "\u001b[1;32m<ipython-input-35-66e54cf8ea1c>\u001b[0m in \u001b[0;36m<module>\u001b[1;34m\u001b[0m\n\u001b[1;32m----> 1\u001b[1;33m \u001b[0mlist\u001b[0m\u001b[1;33m(\u001b[0m\u001b[1;33m*\u001b[0m\u001b[0mmap\u001b[0m\u001b[1;33m(\u001b[0m\u001b[0mlist\u001b[0m\u001b[1;33m,\u001b[0m \u001b[1;33m(\u001b[0m\u001b[0mrows\u001b[0m\u001b[1;33m.\u001b[0m\u001b[0mtimestamps\u001b[0m\u001b[1;33m,\u001b[0m \u001b[0mzip\u001b[0m\u001b[1;33m(\u001b[0m\u001b[1;33m*\u001b[0m\u001b[0mrows\u001b[0m\u001b[1;33m.\u001b[0m\u001b[0mvalues\u001b[0m\u001b[1;33m)\u001b[0m\u001b[1;33m)\u001b[0m\u001b[1;33m)\u001b[0m\u001b[1;33m)\u001b[0m\u001b[1;33m\u001b[0m\u001b[1;33m\u001b[0m\u001b[0m\n\u001b[0m",
      "\u001b[1;31mTypeError\u001b[0m: list() takes at most 1 argument (2 given)"
     ]
    }
   ],
   "source": [
    "list(map(list, (rows.timestamps, zip(*rows.values))))"
   ]
  },
  {
   "cell_type": "code",
   "execution_count": 8,
   "metadata": {},
   "outputs": [],
   "source": [
    "    def csv_write_rows(self, interdace_data):\n",
    "        \"\"\"csv_write_rows.\"\"\"\n",
    "        self.csv_writer.writerows(\n",
    "            zip(interdace_data.timestamps,\n",
    "                *map(list, zip(*interdace_data.values))))"
   ]
  },
  {
   "cell_type": "code",
   "execution_count": 16,
   "metadata": {},
   "outputs": [
    {
     "data": {
      "text/plain": [
       "(0.00031976361060515046, 0.002303337600000008)"
      ]
     },
     "execution_count": 16,
     "metadata": {},
     "output_type": "execute_result"
    }
   ],
   "source": [
    "data.power[2]"
   ]
  },
  {
   "cell_type": "code",
   "execution_count": null,
   "metadata": {},
   "outputs": [],
   "source": []
  }
 ],
 "metadata": {
  "kernelspec": {
   "display_name": "Python [conda env:SAML11-32]",
   "language": "python",
   "name": "conda-env-SAML11-32-py"
  },
  "language_info": {
   "codemirror_mode": {
    "name": "ipython",
    "version": 3
   },
   "file_extension": ".py",
   "mimetype": "text/x-python",
   "name": "python",
   "nbconvert_exporter": "python",
   "pygments_lexer": "ipython3",
   "version": "3.6.8"
  }
 },
 "nbformat": 4,
 "nbformat_minor": 2
}
