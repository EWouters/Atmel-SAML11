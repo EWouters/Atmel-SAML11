{
 "cells": [
  {
   "cell_type": "code",
   "execution_count": 1,
   "metadata": {},
   "outputs": [],
   "source": [
    "# %matplotlib ipympl\n",
    "%matplotlib wx"
   ]
  },
  {
   "cell_type": "code",
   "execution_count": 2,
   "metadata": {},
   "outputs": [],
   "source": [
    "import matplotlib.pyplot as plt\n",
    "plt.ion()"
   ]
  },
  {
   "cell_type": "code",
   "execution_count": 3,
   "metadata": {},
   "outputs": [],
   "source": [
    "from pydgilib_extra import *"
   ]
  },
  {
   "cell_type": "code",
   "execution_count": 7,
   "metadata": {},
   "outputs": [],
   "source": [
    "fig = plt.figure(figsize=(8, 6))\n",
    "fig.show()"
   ]
  },
  {
   "cell_type": "code",
   "execution_count": 13,
   "metadata": {},
   "outputs": [
    {
     "name": "stdout",
     "output_type": "stream",
     "text": [
      "Interfaces:\n",
      "\t 256:   power,   samples:    2000\n",
      "\t  48:   gpio,    samples:      42\n",
      "\n",
      "Interfaces:\n",
      "\t 256:   power,   samples:    2000\n",
      "\t  48:   gpio,    samples:      82\n",
      "\n",
      "Interfaces:\n",
      "\t 256:   power,   samples:    6000\n",
      "\t  48:   gpio,    samples:      82\n",
      "\n",
      "Interfaces:\n",
      "\t 256:   power,   samples:    6000\n",
      "\t  48:   gpio,    samples:     146\n",
      "\n",
      "Interfaces:\n",
      "\t 256:   power,   samples:   11000\n",
      "\t  48:   gpio,    samples:     146\n",
      "\n",
      "Interfaces:\n",
      "\t 256:   power,   samples:   11000\n",
      "\t  48:   gpio,    samples:     164\n",
      "\n",
      "Interfaces:\n",
      "\t 256:   power,   samples:   16000\n",
      "\t  48:   gpio,    samples:     164\n",
      "\n",
      "Interfaces:\n",
      "\t 256:   power,   samples:   18000\n",
      "\t  48:   gpio,    samples:     164\n",
      "\n"
     ]
    }
   ],
   "source": [
    "data = []\n",
    "\n",
    "config_dict = {\n",
    "    \"interfaces\": [INTERFACE_POWER, INTERFACE_GPIO],\n",
    "    \"power_buffers\": [{\"channel\": CHANNEL_A, \"power_type\": POWER_CURRENT}],\n",
    "    \"read_mode\": [True, True, True, True],\n",
    "    \"write_mode\": [False, False, False, False],\n",
    "    \"loggers\": [LOGGER_OBJECT, LOGGER_PLOT, LOGGER_CSV],\n",
    "    \"plot_pins\": [False, False, True, True],\n",
    "    \"plot_pins_values\": [False, False, True, False],\n",
    "#     \"plot_pins\": [False, False, False, False],\n",
    "    \"gpio_delay_time\" : 0.010795,\n",
    "    \"fig\": fig,\n",
    "    \"verbose\": 0,\n",
    "}\n",
    "\n",
    "fig.clf()\n",
    "\n",
    "with DGILibExtra(**config_dict) as dgilib:\n",
    "    dgilib.device_reset()\n",
    "    # data = dgilib.logger.update_callback()\n",
    "    data = dgilib.logger.log(1)\n",
    "#     dgilib.ax.plot(*dgilib.power_filter_by_pin(2))\n",
    "#     dgilib.ax.plot(*dgilib.power_filter_by_pin(3))"
   ]
  },
  {
   "cell_type": "code",
   "execution_count": 6,
   "metadata": {},
   "outputs": [
    {
     "name": "stdout",
     "output_type": "stream",
     "text": [
      "Interfaces:\n",
      "\t 256:   power,   samples:   15000\n",
      "\t  48:   gpio,    samples:     164\n",
      "\n"
     ]
    },
    {
     "name": "stderr",
     "output_type": "stream",
     "text": [
      "D:\\Anaconda3\\envs\\SAML11-32\\lib\\site-packages\\matplotlib\\widgets.py:346: UserWarning: Attempting to set identical left==right results\n",
      "in singular transformations; automatically expanding.\n",
      "left=0, right=0.0\n",
      "  ax.set_xlim((valmin, valmax))\n",
      "D:\\Anaconda3\\envs\\SAML11-32\\lib\\site-packages\\matplotlib\\axes\\_base.py:1717: UserWarning: Attempting to set identical left==right results\n",
      "in singular transformations; automatically expanding.\n",
      "left=0, right=0.0\n",
      "  self.set_xlim([v[0], v[1]], emit=emit, auto=False)\n"
     ]
    }
   ],
   "source": [
    "print(data)"
   ]
  },
  {
   "cell_type": "code",
   "execution_count": null,
   "metadata": {},
   "outputs": [],
   "source": []
  }
 ],
 "metadata": {
  "kernelspec": {
   "display_name": "Python [conda env:SAML11-32]",
   "language": "python",
   "name": "conda-env-SAML11-32-py"
  },
  "language_info": {
   "codemirror_mode": {
    "name": "ipython",
    "version": 3
   },
   "file_extension": ".py",
   "mimetype": "text/x-python",
   "name": "python",
   "nbconvert_exporter": "python",
   "pygments_lexer": "ipython3",
   "version": "3.6.8"
  }
 },
 "nbformat": 4,
 "nbformat_minor": 2
}
