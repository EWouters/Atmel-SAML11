{
 "cells": [
  {
   "cell_type": "code",
   "execution_count": 1,
   "metadata": {},
   "outputs": [],
   "source": [
    "%matplotlib ipympl"
   ]
  },
  {
   "cell_type": "code",
   "execution_count": 2,
   "metadata": {},
   "outputs": [],
   "source": [
    "import matplotlib.pyplot as plt"
   ]
  },
  {
   "cell_type": "code",
   "execution_count": 3,
   "metadata": {},
   "outputs": [],
   "source": [
    "from pydgilib_extra import *"
   ]
  },
  {
   "cell_type": "code",
   "execution_count": 4,
   "metadata": {},
   "outputs": [],
   "source": [
    "dgilib_path = \"C:\\\\Users\\\\erikw_000\\\\Documents\\\\GitHub\\\\Atmel-SAML11\\\\Python\\\\dgilib.dll\""
   ]
  },
  {
   "cell_type": "code",
   "execution_count": 5,
   "metadata": {},
   "outputs": [
    {
     "data": {
      "application/vnd.jupyter.widget-view+json": {
       "model_id": "e74fcaa0754b4e86ab702d4f547cfc85",
       "version_major": 2,
       "version_minor": 0
      },
      "text/plain": [
       "FigureCanvasNbAgg()"
      ]
     },
     "metadata": {},
     "output_type": "display_data"
    }
   ],
   "source": [
    "fig = plt.figure(figsize=(8, 6))"
   ]
  },
  {
   "cell_type": "code",
   "execution_count": 8,
   "metadata": {},
   "outputs": [],
   "source": [
    "data = []\n",
    "\n",
    "config_dict = {\n",
    "    \"power_buffers\": [{\"channel\": CHANNEL_A, \"power_type\": POWER_CURRENT}],\n",
    "    \"read_mode\": [False, False, True, True],\n",
    "    \"write_mode\": [False, False, False, False],\n",
    "    \"loggers\": [LOGGER_OBJECT, LOGGER_PLOT],\n",
    "    \"plot_pins\": False,\n",
    "    \"fig\": fig,\n",
    "    \"verbose\": 0,\n",
    "}\n",
    "\n",
    "fig.clf()\n",
    "pin = 3\n",
    "\n",
    "with DGILibExtra(dgilib_path, **config_dict) as dgilib:\n",
    "    data = dgilib.logger(1)\n",
    "    dgilib.ax.plot(*dgilib.power_filter_by_pin(2))\n",
    "    dgilib.ax.plot(*dgilib.power_filter_by_pin(3))"
   ]
  },
  {
   "cell_type": "code",
   "execution_count": null,
   "metadata": {},
   "outputs": [],
   "source": []
  },
  {
   "cell_type": "code",
   "execution_count": null,
   "metadata": {},
   "outputs": [],
   "source": []
  }
 ],
 "metadata": {
  "kernelspec": {
   "display_name": "Python [conda env:SAML11-32]",
   "language": "python",
   "name": "conda-env-SAML11-32-py"
  },
  "language_info": {
   "codemirror_mode": {
    "name": "ipython",
    "version": 3
   },
   "file_extension": ".py",
   "mimetype": "text/x-python",
   "name": "python",
   "nbconvert_exporter": "python",
   "pygments_lexer": "ipython3",
   "version": "3.6.8"
  }
 },
 "nbformat": 4,
 "nbformat_minor": 2
}
