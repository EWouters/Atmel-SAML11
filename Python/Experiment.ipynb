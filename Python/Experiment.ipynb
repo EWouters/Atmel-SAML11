{
 "cells": [
  {
   "cell_type": "code",
   "execution_count": 1,
   "metadata": {},
   "outputs": [],
   "source": [
    "# %matplotlib ipympl\n",
    "%matplotlib wx"
   ]
  },
  {
   "cell_type": "code",
   "execution_count": 2,
   "metadata": {},
   "outputs": [],
   "source": [
    "import matplotlib.pyplot as plt\n",
    "plt.ion()"
   ]
  },
  {
   "cell_type": "code",
   "execution_count": 3,
   "metadata": {},
   "outputs": [],
   "source": [
    "from pydgilib_extra import *"
   ]
  },
  {
   "cell_type": "code",
   "execution_count": 4,
   "metadata": {},
   "outputs": [],
   "source": [
    "dgilib_path = \"C:\\\\Users\\\\erikw_000\\\\Documents\\\\GitHub\\\\Atmel-SAML11\\\\Python\\\\dgilib.dll\""
   ]
  },
  {
   "cell_type": "code",
   "execution_count": 5,
   "metadata": {},
   "outputs": [],
   "source": [
    "fig = plt.figure(figsize=(8, 6))\n",
    "fig.show()"
   ]
  },
  {
   "cell_type": "code",
   "execution_count": 6,
   "metadata": {},
   "outputs": [],
   "source": [
    "data = []\n",
    "\n",
    "config_dict = {\n",
    "    \"power_buffers\": [{\"channel\": CHANNEL_A, \"power_type\": POWER_CURRENT}],\n",
    "    \"read_mode\": [True, True, True, True],\n",
    "    \"write_mode\": [False, False, False, False],\n",
    "    \"loggers\": [LOGGER_OBJECT, LOGGER_PLOT, LOGGER_CSV],\n",
    "    \"plot_pins\": [False, False, True, True],\n",
    "    \"gpio_delay_time\" : 0.010795,\n",
    "    \"fig\": fig,\n",
    "    \"verbose\": 0,\n",
    "}\n",
    "\n",
    "fig.clf()\n",
    "\n",
    "with DGILibExtra(dgilib_path, **config_dict) as dgilib:\n",
    "    dgilib.device_reset()\n",
    "    data = dgilib.logger(1)\n",
    "#     dgilib.ax.plot(*dgilib.power_filter_by_pin(2))\n",
    "#     dgilib.ax.plot(*dgilib.power_filter_by_pin(3))"
   ]
  },
  {
   "cell_type": "code",
   "execution_count": 7,
   "metadata": {},
   "outputs": [
    {
     "data": {
      "text/plain": [
       "([0.0013472,\n",
       "  0.009144533333333333,\n",
       "  0.12989973333333332,\n",
       "  0.13998026666666666,\n",
       "  0.2607354666666667,\n",
       "  0.27081653333333333,\n",
       "  0.391568,\n",
       "  0.40164853333333334,\n",
       "  0.5224069333333333,\n",
       "  0.5324885333333333,\n",
       "  0.6532501333333334,\n",
       "  0.6633434666666667,\n",
       "  0.7840885333333334,\n",
       "  0.7941696,\n",
       "  0.9149168,\n",
       "  0.9249968000000001],\n",
       " [[True, True, False, False],\n",
       "  [True, True, False, False],\n",
       "  [True, True, True, False],\n",
       "  [True, True, True, False],\n",
       "  [True, True, False, False],\n",
       "  [True, True, False, False],\n",
       "  [True, True, True, False],\n",
       "  [True, True, True, False],\n",
       "  [True, True, False, False],\n",
       "  [True, True, False, False],\n",
       "  [True, True, True, False],\n",
       "  [True, True, True, False],\n",
       "  [True, True, False, False],\n",
       "  [True, True, False, False],\n",
       "  [True, True, True, False],\n",
       "  [True, True, True, False]])"
      ]
     },
     "execution_count": 7,
     "metadata": {},
     "output_type": "execute_result"
    }
   ],
   "source": [
    "data[INTERFACE_GPIO]"
   ]
  },
  {
   "cell_type": "code",
   "execution_count": 8,
   "metadata": {},
   "outputs": [],
   "source": [
    "args = [[INTERFACE_GPIO, INTERFACE_POWER]]"
   ]
  },
  {
   "cell_type": "code",
   "execution_count": 10,
   "metadata": {},
   "outputs": [
    {
     "data": {
      "text/plain": [
       "[48, 256]"
      ]
     },
     "execution_count": 10,
     "metadata": {},
     "output_type": "execute_result"
    }
   ],
   "source": [
    "args[0]"
   ]
  },
  {
   "cell_type": "code",
   "execution_count": 14,
   "metadata": {},
   "outputs": [],
   "source": [
    "dict({INTERFACE_POWER: ([], []), INTERFACE_GPIO: ([], [])})"
   ]
  },
  {
   "cell_type": "code",
   "execution_count": 30,
   "metadata": {},
   "outputs": [],
   "source": [
    "attr_dict = {\n",
    "    \"spi\": INTERFACE_SPI,\n",
    "    \"usart\": INTERFACE_USART,\n",
    "    \"i2c\": INTERFACE_I2C,\n",
    "    \"gpio\": INTERFACE_GPIO,\n",
    "    \"power\": INTERFACE_POWER,\n",
    "}"
   ]
  },
  {
   "cell_type": "code",
   "execution_count": 501,
   "metadata": {},
   "outputs": [
    {
     "ename": "TypeError",
     "evalue": "__slots__ items must be strings, not 'int'",
     "output_type": "error",
     "traceback": [
      "\u001b[1;31m---------------------------------------------------------------------------\u001b[0m",
      "\u001b[1;31mTypeError\u001b[0m                                 Traceback (most recent call last)",
      "\u001b[1;32m<ipython-input-501-6f86ccd0fa02>\u001b[0m in \u001b[0;36m<module>\u001b[1;34m\u001b[0m\n\u001b[1;32m----> 1\u001b[1;33m \u001b[1;32mclass\u001b[0m \u001b[0mLoggerData\u001b[0m\u001b[1;33m(\u001b[0m\u001b[0mdict\u001b[0m\u001b[1;33m)\u001b[0m\u001b[1;33m:\u001b[0m\u001b[1;33m\u001b[0m\u001b[1;33m\u001b[0m\u001b[0m\n\u001b[0m\u001b[0;32m      2\u001b[0m     \u001b[1;34m\"\"\"Class to store DGILib Logger Data.\"\"\"\u001b[0m\u001b[1;33m\u001b[0m\u001b[1;33m\u001b[0m\u001b[0m\n\u001b[0;32m      3\u001b[0m \u001b[1;33m\u001b[0m\u001b[0m\n\u001b[0;32m      4\u001b[0m     \u001b[0m__slots__\u001b[0m \u001b[1;33m=\u001b[0m \u001b[0mattr_dict\u001b[0m\u001b[1;33m.\u001b[0m\u001b[0mvalues\u001b[0m\u001b[1;33m(\u001b[0m\u001b[1;33m)\u001b[0m\u001b[1;33m\u001b[0m\u001b[1;33m\u001b[0m\u001b[0m\n\u001b[0;32m      5\u001b[0m \u001b[1;33m\u001b[0m\u001b[0m\n",
      "\u001b[1;31mTypeError\u001b[0m: __slots__ items must be strings, not 'int'"
     ]
    }
   ],
   "source": [
    "class LoggerData(dict):\n",
    "    \"\"\"Class to store DGILib Logger Data.\"\"\"\n",
    "\n",
    "    __slots__ = attr_dict.values()\n",
    "\n",
    "    def __init__(self, *args, **kwargs):\n",
    "        \"\"\"Take list of interfaces for the data.\"\"\"\n",
    "        # Call init function of dict\n",
    "        super().__init__(self)\n",
    "        # No args or kwargs were specified, populate args[0] with standard\n",
    "        # interfaces\n",
    "        if not args and not kwargs:\n",
    "            args = [[INTERFACE_GPIO, INTERFACE_POWER]]\n",
    "        # Args is list of interfaces, make data dict with interfaces as keys\n",
    "        # and tuples of lists as values\n",
    "        if args and isinstance(args[0], list):\n",
    "            for interface in args[0]:\n",
    "                self[interface] = ([], [])\n",
    "        # Instantiate dict with arguments\n",
    "        else:\n",
    "            self.update(*args, **kwargs)\n",
    "            assert all(valid_tuple(tup) for tup in self.values()), f\"One of the tuples passed to LoggerData was invalid. {self.values()}\"\n",
    "\n",
    "    def __iadd__(self, loggerdata):\n",
    "        \"\"\"Append new data.\n",
    "\n",
    "        Used to provide `loggerdata1 += loggerdata` syntax\n",
    "        \"\"\"\n",
    "        if not isinstance(loggerdata, dict):\n",
    "            raise ValueError(\n",
    "                f\"loggerdata must be a dict or LoggerData. Got {type(loggerdata)}\")\n",
    "        for interface, values in loggerdata.items():\n",
    "            if interface in self.keys():\n",
    "                self[interface][0].extend(values[0])\n",
    "                self[interface][1].extend(values[1])\n",
    "            else:\n",
    "                self[interface] = values\n",
    "        return self\n",
    "\n",
    "    def __add__(self, loggerdata):\n",
    "        \"\"\"Append new data.\n",
    "\n",
    "        Used to provide `loggerdata2 = loggerdata1 + loggerdata` syntax\n",
    "        \"\"\"\n",
    "        data = LoggerData()\n",
    "        data += self\n",
    "        data += loggerdata\n",
    "        return data\n",
    "\n",
    "    def append(self, interface, sample):\n",
    "        \"\"\"Append a sample to one of the interfaces.\"\"\"\n",
    "        pass\n",
    "\n",
    "    def extend(self, interface, samples):\n",
    "        \"\"\"Append a list of samples to one of the interfaces.\"\"\"\n",
    "        pass\n",
    "\n",
    "    def length(self, attr=None):\n",
    "        \"\"\"Compute the number of samples for the interfaces.\n",
    "\n",
    "        Return a dict of the number of samples for each interface. Or the\n",
    "        length of the `attr` specified.\n",
    "        \"\"\"\n",
    "        if attr is None:\n",
    "            return {key: len(val[0]) for key, val in self.items()}\n",
    "        elif attr in self.keys():\n",
    "            return len(self[attr][0])\n",
    "        elif attr in attr_dict.keys():\n",
    "            return len(self[attr_dict[attr]][0])\n",
    "        else:\n",
    "            raise ValueError(\n",
    "                f\"attr must be a named or numbered interface. Got {attr}\")\n",
    "\n",
    "    def __getattr__(self, attr):\n",
    "        \"\"\"Get attribute.\n",
    "\n",
    "        Used to provide `data.spi` syntax.\n",
    "        \"\"\"\n",
    "        return self[attr_dict[attr]]\n",
    "\n",
    "    def __setattr__(self, attr, value):\n",
    "        \"\"\"Set attribute.\n",
    "\n",
    "        Used to provide `data.spi = tuple([], [])` syntax.\n",
    "        \"\"\"\n",
    "        self[attr_dict[attr]] = value\n",
    "\n",
    "    def __repr__(self):\n",
    "        \"\"\"Print data.\n",
    "\n",
    "        Used to provide `str(data)` syntax.\n",
    "        \"\"\"\n",
    "        output = \"Interfaces:\\n\"\n",
    "        for interface in self.keys():\n",
    "            if interface in attr_dict.values():\n",
    "                for name, number in attr_dict.items():\n",
    "                    if interface == number:\n",
    "                        output += f\"\\t{number:4}: {name:{' '}^{10}}, samples: {len(self[interface][0]):7}\\n\"\n",
    "                        break\n",
    "            else:\n",
    "                output += f\"\\t{interface:4}: (unknown) , samples: {len(self[interface][0]):7}\\n\"\n",
    "\n",
    "        return output"
   ]
  },
  {
   "cell_type": "code",
   "execution_count": 458,
   "metadata": {},
   "outputs": [],
   "source": [
    "def valid_tuple(tup):\n",
    "    \"\"\"Check if tuple is valid data tuple for interface.\"\"\"\n",
    "    return isinstance(tup, tuple) and len(tup) == 2 and all(isinstance(s, list) for s in tup) and len(tup[0]) == len(tup[1]) "
   ]
  },
  {
   "cell_type": "code",
   "execution_count": 459,
   "metadata": {},
   "outputs": [
    {
     "data": {
      "text/plain": [
       "True"
      ]
     },
     "execution_count": 459,
     "metadata": {},
     "output_type": "execute_result"
    }
   ],
   "source": [
    "valid_tuple(([1], [2]))"
   ]
  },
  {
   "cell_type": "code",
   "execution_count": 460,
   "metadata": {},
   "outputs": [],
   "source": [
    "def test_init_from_dict():\n",
    "    data = LoggerData(\n",
    "        {INTERFACE_POWER: ([], []), INTERFACE_GPIO: ([], []), 4: ([], [])})\n",
    "    print(data)\n",
    "    assert data[INTERFACE_POWER] == ([], [])\n",
    "    assert data[INTERFACE_GPIO] == ([], [])"
   ]
  },
  {
   "cell_type": "code",
   "execution_count": 461,
   "metadata": {},
   "outputs": [
    {
     "name": "stdout",
     "output_type": "stream",
     "text": [
      "Interfaces:\n",
      "\t 256:   power   , samples:       0\n",
      "\t  48:    gpio   , samples:       0\n",
      "\t   4: (unknown) , samples:       0\n",
      "\n"
     ]
    }
   ],
   "source": [
    "test_init_from_dict()"
   ]
  },
  {
   "cell_type": "code",
   "execution_count": 462,
   "metadata": {},
   "outputs": [],
   "source": [
    "def test__iadd__():\n",
    "    data = LoggerData({INTERFACE_POWER: ([1], [2])})\n",
    "    data += {INTERFACE_POWER: ([2], [3])}\n",
    "    assert data[INTERFACE_POWER] == ([1, 2], [2, 3])\n",
    "    data = LoggerData({INTERFACE_POWER: ([1], [2])})\n",
    "    data += LoggerData({INTERFACE_POWER: ([2], [3])})\n",
    "    assert data[INTERFACE_POWER] == ([1, 2], [2, 3])\n",
    "\n",
    "def test__add__():\n",
    "    data1 = LoggerData({INTERFACE_POWER: ([1], [2])})\n",
    "    data2 = LoggerData({INTERFACE_POWER: ([2], [3])})\n",
    "    data = data1 + data2"
   ]
  },
  {
   "cell_type": "code",
   "execution_count": 463,
   "metadata": {},
   "outputs": [],
   "source": [
    "test__iadd__()"
   ]
  },
  {
   "cell_type": "code",
   "execution_count": 464,
   "metadata": {},
   "outputs": [],
   "source": [
    "data = LoggerData({INTERFACE_POWER: ([1], [2])})"
   ]
  },
  {
   "cell_type": "code",
   "execution_count": 465,
   "metadata": {},
   "outputs": [],
   "source": [
    "data += {INTERFACE_POWER: ([2], [3])}"
   ]
  },
  {
   "cell_type": "code",
   "execution_count": 466,
   "metadata": {},
   "outputs": [
    {
     "data": {
      "text/plain": [
       "([1, 2], [2, 3])"
      ]
     },
     "execution_count": 466,
     "metadata": {},
     "output_type": "execute_result"
    }
   ],
   "source": [
    "data.power"
   ]
  },
  {
   "cell_type": "code",
   "execution_count": 467,
   "metadata": {},
   "outputs": [],
   "source": [
    "data = LoggerData({INTERFACE_POWER: ([1], [2])})\n",
    "data += LoggerData({INTERFACE_POWER: ([2], [3])})"
   ]
  },
  {
   "cell_type": "code",
   "execution_count": 468,
   "metadata": {},
   "outputs": [
    {
     "data": {
      "text/plain": [
       "([1, 2], [2, 3])"
      ]
     },
     "execution_count": 468,
     "metadata": {},
     "output_type": "execute_result"
    }
   ],
   "source": [
    "data.power"
   ]
  },
  {
   "cell_type": "code",
   "execution_count": 469,
   "metadata": {},
   "outputs": [],
   "source": [
    "test__add__()"
   ]
  },
  {
   "cell_type": "code",
   "execution_count": 470,
   "metadata": {},
   "outputs": [],
   "source": [
    "data1 = LoggerData({INTERFACE_POWER: ([1], [2])})\n",
    "data2 = LoggerData({INTERFACE_POWER: ([2], [3])})\n",
    "data = data1 + data2"
   ]
  },
  {
   "cell_type": "code",
   "execution_count": 471,
   "metadata": {},
   "outputs": [
    {
     "data": {
      "text/plain": [
       "([1, 2], [2, 3])"
      ]
     },
     "execution_count": 471,
     "metadata": {},
     "output_type": "execute_result"
    }
   ],
   "source": [
    "data.power"
   ]
  },
  {
   "cell_type": "code",
   "execution_count": 472,
   "metadata": {},
   "outputs": [
    {
     "data": {
      "text/plain": [
       "([1], [2])"
      ]
     },
     "execution_count": 472,
     "metadata": {},
     "output_type": "execute_result"
    }
   ],
   "source": [
    "data1.power"
   ]
  },
  {
   "cell_type": "code",
   "execution_count": 473,
   "metadata": {},
   "outputs": [
    {
     "data": {
      "text/plain": [
       "([2], [3])"
      ]
     },
     "execution_count": 473,
     "metadata": {},
     "output_type": "execute_result"
    }
   ],
   "source": [
    "data2.power"
   ]
  },
  {
   "cell_type": "code",
   "execution_count": 474,
   "metadata": {},
   "outputs": [],
   "source": [
    "del data1\n",
    "del data2"
   ]
  },
  {
   "cell_type": "code",
   "execution_count": 475,
   "metadata": {},
   "outputs": [
    {
     "data": {
      "text/plain": [
       "([1, 2], [2, 3])"
      ]
     },
     "execution_count": 475,
     "metadata": {},
     "output_type": "execute_result"
    }
   ],
   "source": [
    "data.power"
   ]
  },
  {
   "cell_type": "code",
   "execution_count": 476,
   "metadata": {},
   "outputs": [],
   "source": [
    "data1 = LoggerData({INTERFACE_POWER: ([1], [2])})\n",
    "data2 = LoggerData({INTERFACE_POWER: ([2], [3])})\n",
    "data = data1 + data2\n",
    "assert data[INTERFACE_POWER] == ([1, 2], [2, 3])\n",
    "data1[INTERFACE_POWER] = ([4], [5])\n",
    "assert data[INTERFACE_POWER] == ([1, 2], [2, 3])"
   ]
  },
  {
   "cell_type": "code",
   "execution_count": 477,
   "metadata": {},
   "outputs": [
    {
     "data": {
      "text/plain": [
       "([1, 2], [2, 3])"
      ]
     },
     "execution_count": 477,
     "metadata": {},
     "output_type": "execute_result"
    }
   ],
   "source": [
    "data.power"
   ]
  },
  {
   "cell_type": "code",
   "execution_count": 478,
   "metadata": {},
   "outputs": [],
   "source": [
    "data = LoggerData({INTERFACE_POWER: ([1], [2]), INTERFACE_GPIO: ([], []), 4: ([3,4], [5,6])})"
   ]
  },
  {
   "cell_type": "code",
   "execution_count": 479,
   "metadata": {},
   "outputs": [
    {
     "data": {
      "text/plain": [
       "([1], [2])"
      ]
     },
     "execution_count": 479,
     "metadata": {},
     "output_type": "execute_result"
    }
   ],
   "source": [
    "data = LoggerData({INTERFACE_POWER: ([1], [2])})\n",
    "data1 = data + {}\n",
    "data[INTERFACE_POWER] = ([4], [5])\n",
    "data1[INTERFACE_POWER]"
   ]
  },
  {
   "cell_type": "code",
   "execution_count": 480,
   "metadata": {},
   "outputs": [
    {
     "ename": "AssertionError",
     "evalue": "One of the tuples passed to LoggerData was invalid. dict_values([([], [2]), ([], []), ([3, 4], [5, 6])])",
     "output_type": "error",
     "traceback": [
      "\u001b[1;31m---------------------------------------------------------------------------\u001b[0m",
      "\u001b[1;31mAssertionError\u001b[0m                            Traceback (most recent call last)",
      "\u001b[1;32m<ipython-input-480-5d779ac82878>\u001b[0m in \u001b[0;36m<module>\u001b[1;34m\u001b[0m\n\u001b[1;32m----> 1\u001b[1;33m \u001b[0mLoggerData\u001b[0m\u001b[1;33m(\u001b[0m\u001b[1;33m{\u001b[0m\u001b[0mINTERFACE_POWER\u001b[0m\u001b[1;33m:\u001b[0m \u001b[1;33m(\u001b[0m\u001b[1;33m[\u001b[0m\u001b[1;33m]\u001b[0m\u001b[1;33m,\u001b[0m \u001b[1;33m[\u001b[0m\u001b[1;36m2\u001b[0m\u001b[1;33m]\u001b[0m\u001b[1;33m)\u001b[0m\u001b[1;33m,\u001b[0m \u001b[0mINTERFACE_GPIO\u001b[0m\u001b[1;33m:\u001b[0m \u001b[1;33m(\u001b[0m\u001b[1;33m[\u001b[0m\u001b[1;33m]\u001b[0m\u001b[1;33m,\u001b[0m \u001b[1;33m[\u001b[0m\u001b[1;33m]\u001b[0m\u001b[1;33m)\u001b[0m\u001b[1;33m,\u001b[0m \u001b[1;36m4\u001b[0m\u001b[1;33m:\u001b[0m \u001b[1;33m(\u001b[0m\u001b[1;33m[\u001b[0m\u001b[1;36m3\u001b[0m\u001b[1;33m,\u001b[0m\u001b[1;36m4\u001b[0m\u001b[1;33m]\u001b[0m\u001b[1;33m,\u001b[0m \u001b[1;33m[\u001b[0m\u001b[1;36m5\u001b[0m\u001b[1;33m,\u001b[0m\u001b[1;36m6\u001b[0m\u001b[1;33m]\u001b[0m\u001b[1;33m)\u001b[0m\u001b[1;33m}\u001b[0m\u001b[1;33m)\u001b[0m\u001b[1;33m\u001b[0m\u001b[1;33m\u001b[0m\u001b[0m\n\u001b[0m",
      "\u001b[1;32m<ipython-input-457-a8ee69878ac4>\u001b[0m in \u001b[0;36m__init__\u001b[1;34m(self, *args, **kwargs)\u001b[0m\n\u001b[0;32m     18\u001b[0m         \u001b[1;32melse\u001b[0m\u001b[1;33m:\u001b[0m\u001b[1;33m\u001b[0m\u001b[1;33m\u001b[0m\u001b[0m\n\u001b[0;32m     19\u001b[0m             \u001b[0mself\u001b[0m\u001b[1;33m.\u001b[0m\u001b[0mupdate\u001b[0m\u001b[1;33m(\u001b[0m\u001b[1;33m*\u001b[0m\u001b[0margs\u001b[0m\u001b[1;33m,\u001b[0m \u001b[1;33m**\u001b[0m\u001b[0mkwargs\u001b[0m\u001b[1;33m)\u001b[0m\u001b[1;33m\u001b[0m\u001b[1;33m\u001b[0m\u001b[0m\n\u001b[1;32m---> 20\u001b[1;33m             \u001b[1;32massert\u001b[0m \u001b[0mall\u001b[0m\u001b[1;33m(\u001b[0m\u001b[0mvalid_tuple\u001b[0m\u001b[1;33m(\u001b[0m\u001b[0mtup\u001b[0m\u001b[1;33m)\u001b[0m \u001b[1;32mfor\u001b[0m \u001b[0mtup\u001b[0m \u001b[1;32min\u001b[0m \u001b[0mself\u001b[0m\u001b[1;33m.\u001b[0m\u001b[0mvalues\u001b[0m\u001b[1;33m(\u001b[0m\u001b[1;33m)\u001b[0m\u001b[1;33m)\u001b[0m\u001b[1;33m,\u001b[0m \u001b[1;34mf\"One of the tuples passed to LoggerData was invalid. {self.values()}\"\u001b[0m\u001b[1;33m\u001b[0m\u001b[1;33m\u001b[0m\u001b[0m\n\u001b[0m\u001b[0;32m     21\u001b[0m \u001b[1;33m\u001b[0m\u001b[0m\n\u001b[0;32m     22\u001b[0m     \u001b[1;32mdef\u001b[0m \u001b[0m__iadd__\u001b[0m\u001b[1;33m(\u001b[0m\u001b[0mself\u001b[0m\u001b[1;33m,\u001b[0m \u001b[0mloggerdata\u001b[0m\u001b[1;33m)\u001b[0m\u001b[1;33m:\u001b[0m\u001b[1;33m\u001b[0m\u001b[1;33m\u001b[0m\u001b[0m\n",
      "\u001b[1;31mAssertionError\u001b[0m: One of the tuples passed to LoggerData was invalid. dict_values([([], [2]), ([], []), ([3, 4], [5, 6])])"
     ]
    }
   ],
   "source": [
    "LoggerData({INTERFACE_POWER: ([], [2]), INTERFACE_GPIO: ([], []), 4: ([3,4], [5,6])})"
   ]
  },
  {
   "cell_type": "code",
   "execution_count": null,
   "metadata": {},
   "outputs": [],
   "source": []
  },
  {
   "cell_type": "code",
   "execution_count": 481,
   "metadata": {},
   "outputs": [],
   "source": [
    "# Simple addition of objects\n",
    "data1 = LoggerData({INTERFACE_POWER: ([1], [2])})\n",
    "data2 = LoggerData({INTERFACE_POWER: ([2], [3])})\n",
    "data = data1 + data2\n",
    "assert data[INTERFACE_POWER] == ([1, 2], [2, 3]), \"Incorrect value\""
   ]
  },
  {
   "cell_type": "code",
   "execution_count": 482,
   "metadata": {},
   "outputs": [
    {
     "data": {
      "text/plain": [
       "([1, 2], [2, 3])"
      ]
     },
     "execution_count": 482,
     "metadata": {},
     "output_type": "execute_result"
    }
   ],
   "source": [
    "data.power"
   ]
  },
  {
   "cell_type": "code",
   "execution_count": 484,
   "metadata": {},
   "outputs": [],
   "source": [
    "# Check that data has been deep copied\n",
    "# data1[INTERFACE_POWER]\n",
    "assert data[INTERFACE_POWER] == ([1, 2], [2, 3]), \"Incorrect value\"\n",
    "# Delete original copies (decrease reference count to them)\n",
    "del data1\n",
    "del data2\n",
    "assert data[INTERFACE_POWER] == ([1, 2], [2, 3]), \"Incorrect value\""
   ]
  },
  {
   "cell_type": "code",
   "execution_count": 486,
   "metadata": {},
   "outputs": [
    {
     "ename": "IndexError",
     "evalue": "tuple index out of range",
     "output_type": "error",
     "traceback": [
      "\u001b[1;31m---------------------------------------------------------------------------\u001b[0m",
      "\u001b[1;31mIndexError\u001b[0m                                Traceback (most recent call last)",
      "\u001b[1;32m<ipython-input-486-a073afaa95c9>\u001b[0m in \u001b[0;36m<module>\u001b[1;34m\u001b[0m\n\u001b[0;32m      2\u001b[0m \u001b[0mdata1\u001b[0m \u001b[1;33m=\u001b[0m \u001b[0mdata\u001b[0m\u001b[1;33m\u001b[0m\u001b[1;33m\u001b[0m\u001b[0m\n\u001b[0;32m      3\u001b[0m \u001b[1;31m# data[INTERFACE_POWER] = ([4], [5])\u001b[0m\u001b[1;33m\u001b[0m\u001b[1;33m\u001b[0m\u001b[1;33m\u001b[0m\u001b[0m\n\u001b[1;32m----> 4\u001b[1;33m \u001b[1;32massert\u001b[0m \u001b[0mdata1\u001b[0m\u001b[1;33m[\u001b[0m\u001b[0mINTERFACE_POWER\u001b[0m\u001b[1;33m]\u001b[0m \u001b[1;33m==\u001b[0m \u001b[1;33m(\u001b[0m\u001b[1;33m[\u001b[0m\u001b[1;36m4\u001b[0m\u001b[1;33m]\u001b[0m\u001b[1;33m,\u001b[0m \u001b[1;33m[\u001b[0m\u001b[1;36m5\u001b[0m\u001b[1;33m]\u001b[0m\u001b[1;33m)\u001b[0m\u001b[1;33m,\u001b[0m \u001b[1;34m\"Incorrect value\"\u001b[0m\u001b[1;33m\u001b[0m\u001b[1;33m\u001b[0m\u001b[0m\n\u001b[0m\u001b[0;32m      5\u001b[0m \u001b[1;31m# Check that data has been deep copied\u001b[0m\u001b[1;33m\u001b[0m\u001b[1;33m\u001b[0m\u001b[1;33m\u001b[0m\u001b[0m\n\u001b[0;32m      6\u001b[0m \u001b[0mdata\u001b[0m \u001b[1;33m=\u001b[0m \u001b[0mLoggerData\u001b[0m\u001b[1;33m(\u001b[0m\u001b[1;33m{\u001b[0m\u001b[0mINTERFACE_POWER\u001b[0m\u001b[1;33m:\u001b[0m \u001b[1;33m(\u001b[0m\u001b[1;33m[\u001b[0m\u001b[1;36m1\u001b[0m\u001b[1;33m]\u001b[0m\u001b[1;33m,\u001b[0m \u001b[1;33m[\u001b[0m\u001b[1;36m2\u001b[0m\u001b[1;33m]\u001b[0m\u001b[1;33m)\u001b[0m\u001b[1;33m}\u001b[0m\u001b[1;33m)\u001b[0m\u001b[1;33m\u001b[0m\u001b[1;33m\u001b[0m\u001b[0m\n",
      "\u001b[1;31mIndexError\u001b[0m: tuple index out of range"
     ]
    }
   ],
   "source": [
    "data = LoggerData({INTERFACE_POWER: ([1], [2])}), \"Incorrect value\"\n",
    "data1 = data\n",
    "# data[INTERFACE_POWER] = ([4], [5])\n",
    "assert data1[INTERFACE_POWER] == ([4], [5]), \"Incorrect value\"\n",
    "# Check that data has been deep copied\n",
    "data = LoggerData({INTERFACE_POWER: ([1], [2])})\n",
    "data1 = data + {}\n",
    "data[INTERFACE_POWER] = ([4], [5])\n",
    "assert data1[INTERFACE_POWER] == ([1], [2]), \"Incorrect value\""
   ]
  },
  {
   "cell_type": "code",
   "execution_count": null,
   "metadata": {},
   "outputs": [],
   "source": []
  },
  {
   "cell_type": "code",
   "execution_count": 451,
   "metadata": {},
   "outputs": [
    {
     "data": {
      "text/plain": [
       "2"
      ]
     },
     "execution_count": 451,
     "metadata": {},
     "output_type": "execute_result"
    }
   ],
   "source": [
    "len(data)"
   ]
  },
  {
   "cell_type": "code",
   "execution_count": 221,
   "metadata": {},
   "outputs": [
    {
     "name": "stdout",
     "output_type": "stream",
     "text": [
      "256 ([1], [2]) 1\n",
      "48 ([], []) 0\n",
      "4 ([], []) 0\n"
     ]
    },
    {
     "data": {
      "text/plain": [
       "0"
      ]
     },
     "execution_count": 221,
     "metadata": {},
     "output_type": "execute_result"
    }
   ],
   "source": [
    "data.length(INTERFACE_GPIO)"
   ]
  },
  {
   "cell_type": "code",
   "execution_count": 222,
   "metadata": {},
   "outputs": [
    {
     "name": "stdout",
     "output_type": "stream",
     "text": [
      "256 ([1], [2]) 1\n",
      "48 ([], []) 0\n",
      "4 ([], []) 0\n"
     ]
    },
    {
     "data": {
      "text/plain": [
       "1"
      ]
     },
     "execution_count": 222,
     "metadata": {},
     "output_type": "execute_result"
    }
   ],
   "source": [
    "data.length(INTERFACE_POWER)"
   ]
  },
  {
   "cell_type": "code",
   "execution_count": 226,
   "metadata": {},
   "outputs": [
    {
     "name": "stdout",
     "output_type": "stream",
     "text": [
      "256 ([1], [2]) 1\n",
      "48 ([], []) 0\n",
      "4 ([], []) 0\n"
     ]
    },
    {
     "data": {
      "text/plain": [
       "0"
      ]
     },
     "execution_count": 226,
     "metadata": {},
     "output_type": "execute_result"
    }
   ],
   "source": [
    "data.length(4)"
   ]
  },
  {
   "cell_type": "code",
   "execution_count": 224,
   "metadata": {},
   "outputs": [
    {
     "name": "stdout",
     "output_type": "stream",
     "text": [
      "256 ([1], [2]) 1\n",
      "48 ([], []) 0\n",
      "4 ([], []) 0\n"
     ]
    },
    {
     "data": {
      "text/plain": [
       "{256: 1, 48: 0, 4: 0}"
      ]
     },
     "execution_count": 224,
     "metadata": {},
     "output_type": "execute_result"
    }
   ],
   "source": [
    "data.length()"
   ]
  },
  {
   "cell_type": "code",
   "execution_count": 272,
   "metadata": {},
   "outputs": [
    {
     "data": {
      "text/plain": [
       "False"
      ]
     },
     "execution_count": 272,
     "metadata": {},
     "output_type": "execute_result"
    }
   ],
   "source": [
    "isinstance({256: 1, 48: 0, 4: 0}, LoggerData)"
   ]
  },
  {
   "cell_type": "code",
   "execution_count": null,
   "metadata": {},
   "outputs": [],
   "source": []
  },
  {
   "cell_type": "code",
   "execution_count": 605,
   "metadata": {},
   "outputs": [],
   "source": [
    "class InterfaceData(tuple):\n",
    "    \"\"\"Class to store DGILib Logger Interface Data.\"\"\"\n",
    "    \n",
    "    def __new__(*args, **kwargs):\n",
    "        \"\"\"Take tuple of timestamps and values.\"\"\"\n",
    "        # Call init function of tuple\n",
    "        if len(args) == 1:\n",
    "            args = *args, ([], [])\n",
    "        assert valid_interface_data(args[1]), f\"Argument passed to InterfaceData was invalid. {args[1]}\"\n",
    "        return tuple.__new__(*args, **kwargs)\n",
    "    \n",
    "    @property\n",
    "    def timestamps(self):\n",
    "        return self[0]\n",
    "    \n",
    "    @property\n",
    "    def values(self):\n",
    "        return self[1]\n",
    "    \n",
    "    def __len__(self):\n",
    "        return len(self[0])\n",
    "    \n",
    "def valid_interface_data(samples):\n",
    "    \"\"\"Check if samples are valid InterfaceData.\"\"\"\n",
    "    return (isinstance(samples, (tuple, list)) and\n",
    "            len(samples) == 2 and\n",
    "            all(isinstance(sample, list) for sample in samples) and\n",
    "            len(samples[0]) == len(samples[1]))"
   ]
  },
  {
   "cell_type": "code",
   "execution_count": 606,
   "metadata": {},
   "outputs": [
    {
     "name": "stdout",
     "output_type": "stream",
     "text": [
      "(<class '__main__.InterfaceData'>, [[2], [3]])\n",
      "(<class '__main__.InterfaceData'>, [[2], [3]])\n"
     ]
    },
    {
     "data": {
      "text/plain": [
       "([2], [3])"
      ]
     },
     "execution_count": 606,
     "metadata": {},
     "output_type": "execute_result"
    }
   ],
   "source": [
    "q = InterfaceData([[2],[3]])\n",
    "q"
   ]
  },
  {
   "cell_type": "code",
   "execution_count": 607,
   "metadata": {},
   "outputs": [
    {
     "name": "stdout",
     "output_type": "stream",
     "text": [
      "(<class '__main__.InterfaceData'>,)\n",
      "(<class '__main__.InterfaceData'>, ([], []))\n"
     ]
    },
    {
     "data": {
      "text/plain": [
       "([], [])"
      ]
     },
     "execution_count": 607,
     "metadata": {},
     "output_type": "execute_result"
    }
   ],
   "source": [
    "q = InterfaceData()\n",
    "q"
   ]
  },
  {
   "cell_type": "code",
   "execution_count": 590,
   "metadata": {},
   "outputs": [
    {
     "data": {
      "text/plain": [
       "[3]"
      ]
     },
     "execution_count": 590,
     "metadata": {},
     "output_type": "execute_result"
    }
   ],
   "source": [
    "q[1]"
   ]
  },
  {
   "cell_type": "code",
   "execution_count": 572,
   "metadata": {},
   "outputs": [
    {
     "data": {
      "text/plain": [
       "[2]"
      ]
     },
     "execution_count": 572,
     "metadata": {},
     "output_type": "execute_result"
    }
   ],
   "source": [
    "q.timestamps"
   ]
  },
  {
   "cell_type": "code",
   "execution_count": 531,
   "metadata": {},
   "outputs": [
    {
     "data": {
      "text/plain": [
       "([2], [3, 3])"
      ]
     },
     "execution_count": 531,
     "metadata": {},
     "output_type": "execute_result"
    }
   ],
   "source": [
    "w = tuple([[2],[3, 3]])\n",
    "w"
   ]
  },
  {
   "cell_type": "code",
   "execution_count": 511,
   "metadata": {},
   "outputs": [],
   "source": [
    "e = [4]"
   ]
  },
  {
   "cell_type": "code",
   "execution_count": 515,
   "metadata": {},
   "outputs": [],
   "source": [
    "w[1].extend(e)"
   ]
  },
  {
   "cell_type": "code",
   "execution_count": 516,
   "metadata": {},
   "outputs": [
    {
     "data": {
      "text/plain": [
       "([2], [3, [4], 4])"
      ]
     },
     "execution_count": 516,
     "metadata": {},
     "output_type": "execute_result"
    }
   ],
   "source": [
    "w"
   ]
  },
  {
   "cell_type": "code",
   "execution_count": null,
   "metadata": {},
   "outputs": [],
   "source": []
  },
  {
   "cell_type": "code",
   "execution_count": 539,
   "metadata": {},
   "outputs": [
    {
     "ename": "NameError",
     "evalue": "name 'MutableSequence' is not defined",
     "output_type": "error",
     "traceback": [
      "\u001b[1;31m---------------------------------------------------------------------------\u001b[0m",
      "\u001b[1;31mNameError\u001b[0m                                 Traceback (most recent call last)",
      "\u001b[1;32m<ipython-input-539-18fb15cbd4b9>\u001b[0m in \u001b[0;36m<module>\u001b[1;34m\u001b[0m\n\u001b[1;32m----> 1\u001b[1;33m \u001b[0misinstance\u001b[0m\u001b[1;33m(\u001b[0m\u001b[1;33m(\u001b[0m\u001b[1;33m)\u001b[0m\u001b[1;33m,\u001b[0m \u001b[0mMutableSequence\u001b[0m\u001b[1;33m)\u001b[0m\u001b[1;33m\u001b[0m\u001b[1;33m\u001b[0m\u001b[0m\n\u001b[0m",
      "\u001b[1;31mNameError\u001b[0m: name 'MutableSequence' is not defined"
     ]
    }
   ],
   "source": [
    "isinstance((), MutableSequence)"
   ]
  },
  {
   "cell_type": "code",
   "execution_count": null,
   "metadata": {},
   "outputs": [],
   "source": []
  },
  {
   "cell_type": "code",
   "execution_count": null,
   "metadata": {},
   "outputs": [],
   "source": []
  },
  {
   "cell_type": "code",
   "execution_count": 664,
   "metadata": {},
   "outputs": [],
   "source": [
    "\n",
    "attr_dict = {\n",
    "    \"spi\": INTERFACE_SPI,\n",
    "    \"usart\": INTERFACE_USART,\n",
    "    \"i2c\": INTERFACE_I2C,\n",
    "    \"gpio\": INTERFACE_GPIO,\n",
    "    \"power\": INTERFACE_POWER,\n",
    "}\n",
    "\n",
    "\n",
    "class InterfaceData(tuple):\n",
    "    \"\"\"Class to store DGILib Logger Interface Data.\"\"\"\n",
    "\n",
    "    def __new__(*args, **kwargs):\n",
    "        \"\"\"Take tuple of timestamps and values.\"\"\"\n",
    "        # Call init function of tuple\n",
    "        if len(args) == 1:\n",
    "            args = *args, ([], [])\n",
    "        assert valid_interface_data(\n",
    "            args[1]), f\"Samples passed to InterfaceData were not valid_interface_data. {args[1]}\"\n",
    "        return tuple.__new__(*args, **kwargs)\n",
    "\n",
    "    @property\n",
    "    def timestamps(self):\n",
    "        \"\"\"Get the list of timestamps.\"\"\"\n",
    "        return self[0]\n",
    "\n",
    "    @property\n",
    "    def values(self):\n",
    "        \"\"\"Get the list of values.\"\"\"\n",
    "        return self[1]\n",
    "\n",
    "    def __iadd__(self, interface_data):\n",
    "        \"\"\"Append new interface_data (in-place).\n",
    "\n",
    "        Used to provide `interface_data += interface_data1` syntax\n",
    "        \"\"\"\n",
    "        if not isinstance(interface_data, InterfaceData):\n",
    "            assert valid_interface_data(\n",
    "                interface_data), f\"Samples passed to InterfaceData were not valid_interface_data. {interface_data}\"\n",
    "        self[0].extend(interface_data[0])\n",
    "        self[1].extend(interface_data[1])\n",
    "        return self\n",
    "\n",
    "    def __add__(self, interface_data):\n",
    "        \"\"\"Append new interface_data (copy).\n",
    "\n",
    "        Used to provide `interface_data2 = interface_data1 + interface_data` syntax\n",
    "        \"\"\"\n",
    "        data = InterfaceData()\n",
    "        data += self\n",
    "        data += interface_data\n",
    "        return data\n",
    "\n",
    "    def append(self, interface_data):\n",
    "        \"\"\"Append interface_data.\"\"\"\n",
    "        return self.extend(interface_data)\n",
    "\n",
    "    def extend(self, interface_data):\n",
    "        \"\"\"Append a list of interface_data.\"\"\"\n",
    "        if isinstance(interface_data, InterfaceData):\n",
    "            self += interface_data\n",
    "        else:\n",
    "            self += InterfaceData(interface_data)\n",
    "        return self\n",
    "\n",
    "    def __len__(self):\n",
    "        \"\"\"Get the number of samples.\"\"\"\n",
    "        return len(self[0])\n",
    "\n",
    "\n",
    "class LoggerData(dict):\n",
    "    \"\"\"Class to store DGILib Logger Data.\"\"\"\n",
    "\n",
    "    def __init__(self, *args, **kwargs):\n",
    "        \"\"\"Take list of interfaces for the data.\"\"\"\n",
    "        # Call init function of dict\n",
    "        super().__init__(self)\n",
    "        # No args or kwargs were specified, populate args[0] with standard\n",
    "        # interfaces\n",
    "        if not args and not kwargs:\n",
    "            args = [[INTERFACE_GPIO, INTERFACE_POWER]]\n",
    "        # Args is list of interfaces, make data dict with interfaces as keys\n",
    "        # and tuples of lists as values\n",
    "        if args and isinstance(args[0], list):\n",
    "            for interface in args[0]:\n",
    "                self[interface] = InterfaceData()\n",
    "        # Instantiate dict with arguments\n",
    "        else:\n",
    "            self.update(*args, **kwargs)\n",
    "\n",
    "        for interface, interface_data in self.items():\n",
    "            if not isinstance(interface_data, InterfaceData):\n",
    "                self[interface] = InterfaceData(interface_data)\n",
    "\n",
    "    def __iadd__(self, logger_data):\n",
    "        \"\"\"Append new logger_data (in-place).\n",
    "\n",
    "        Used to provide `logger_data1 += logger_data` syntax\n",
    "        \"\"\"\n",
    "        if not isinstance(logger_data, dict):\n",
    "            raise ValueError(\n",
    "                f\"logger_data must be a dict or LoggerData. Got {type(logger_data)}\")\n",
    "        for interface, interface_data in logger_data.items():\n",
    "            self.extend(interface, interface_data)\n",
    "        return self\n",
    "\n",
    "    def __add__(self, logger_data):\n",
    "        \"\"\"Append new logger_data (copy).\n",
    "\n",
    "        Used to provide `logger_data2 = logger_data1 + logger_data` syntax\n",
    "        \"\"\"\n",
    "        data = LoggerData()\n",
    "        data += self\n",
    "        data += logger_data\n",
    "        return data\n",
    "\n",
    "    def append(self, interface, interface_data):\n",
    "        \"\"\"Append a sample to one of the interfaces.\"\"\"\n",
    "        return self.extend(interface, interface_data)\n",
    "\n",
    "    def extend(self, interface, interface_data):\n",
    "        \"\"\"Append a list of samples to one of the interfaces.\"\"\"\n",
    "        if interface in self.keys():\n",
    "            self[interface].extend(interface_data)\n",
    "        elif not isinstance(interface_data, InterfaceData):\n",
    "            self[interface] = InterfaceData(interface_data)\n",
    "        else:\n",
    "            self[interface] = interface_data\n",
    "        return self\n",
    "\n",
    "    def length(self, attr=None):\n",
    "        \"\"\"Compute the number of samples for the interfaces.\n",
    "\n",
    "        Return a dict of the number of samples for each interface. Or the\n",
    "        length of the `attr` specified.\n",
    "        \"\"\"\n",
    "        if attr is None:\n",
    "            return {key: len(interface_data) for key, interface_data in self.items()}\n",
    "        elif attr in self.keys():\n",
    "            return len(self[attr])\n",
    "        elif attr in attr_dict.keys():\n",
    "            return len(self[attr_dict[attr]])\n",
    "        else:\n",
    "            raise ValueError(\n",
    "                f\"attr must be a named or numbered interface. Got {attr}\")\n",
    "\n",
    "    def __getattr__(self, attr):\n",
    "        \"\"\"Get attribute.\n",
    "\n",
    "        Used to provide `data.spi` syntax.\n",
    "        \"\"\"\n",
    "        return self[attr_dict[attr]]\n",
    "\n",
    "    def __setattr__(self, attr, value):\n",
    "        \"\"\"Set attribute.\n",
    "\n",
    "        Used to provide `data.spi = tuple([], [])` syntax.\n",
    "        \"\"\"\n",
    "        self[attr_dict[attr]] = value\n",
    "\n",
    "    def __repr__(self):\n",
    "        \"\"\"Print data.\n",
    "\n",
    "        Used to provide `str(data)` syntax.\n",
    "        \"\"\"\n",
    "        output = \"Interfaces:\\n\"\n",
    "        for interface in self.keys():\n",
    "            if interface in attr_dict.values():\n",
    "                for name, number in attr_dict.items():\n",
    "                    if interface == number:\n",
    "                        output += f\"\\t{number:4}: {name:{' '}^{10}}, samples: {len(self[interface][0]):7}\\n\"\n",
    "                        break\n",
    "            else:\n",
    "                output += f\"\\t{interface:4}: (unknown) , samples: {len(self[interface][0]):7}\\n\"\n",
    "\n",
    "        return output\n",
    "\n",
    "# # Load CSV\n",
    "\n",
    "# # Calculations\n",
    "\n",
    "\n",
    "def valid_interface_data(samples):\n",
    "    \"\"\"Check if samples are valid InterfaceData.\"\"\"\n",
    "    return (isinstance(samples, (tuple, list)) and\n",
    "            len(samples) == 2 and\n",
    "            all(isinstance(sample, list) for sample in samples) and\n",
    "            len(samples[0]) == len(samples[1]))\n"
   ]
  },
  {
   "cell_type": "code",
   "execution_count": 665,
   "metadata": {},
   "outputs": [],
   "source": [
    "data = InterfaceData([[1], [2]])\n",
    "data += InterfaceData([[2], [3]])"
   ]
  },
  {
   "cell_type": "code",
   "execution_count": 669,
   "metadata": {},
   "outputs": [
    {
     "data": {
      "text/plain": [
       "([1, 2], [2, 3])"
      ]
     },
     "execution_count": 669,
     "metadata": {},
     "output_type": "execute_result"
    }
   ],
   "source": [
    "data"
   ]
  },
  {
   "cell_type": "code",
   "execution_count": 681,
   "metadata": {},
   "outputs": [],
   "source": [
    "data = LoggerData([INTERFACE_GPIO, INTERFACE_POWER])\n",
    "data += LoggerData({\n",
    "            INTERFACE_POWER: InterfaceData(([1], [2])),\n",
    "            INTERFACE_GPIO: InterfaceData(([3], [4]))})\n",
    "data += LoggerData({\n",
    "            INTERFACE_POWER: InterfaceData(([1], [2])),\n",
    "            INTERFACE_GPIO: InterfaceData(([3], [4]))})\n",
    "data += LoggerData({\n",
    "            INTERFACE_POWER: InterfaceData(([1], [2])),\n",
    "            INTERFACE_GPIO: InterfaceData(([3], [4]))})"
   ]
  },
  {
   "cell_type": "code",
   "execution_count": 684,
   "metadata": {},
   "outputs": [
    {
     "data": {
      "text/plain": [
       "Interfaces:\n",
       "\t  48:    gpio   , samples:       3\n",
       "\t 256:   power   , samples:       4"
      ]
     },
     "execution_count": 684,
     "metadata": {},
     "output_type": "execute_result"
    }
   ],
   "source": [
    "data.extend(INTERFACE_POWER, InterfaceData(([1], [2])))"
   ]
  },
  {
   "cell_type": "code",
   "execution_count": 666,
   "metadata": {},
   "outputs": [],
   "source": [
    "b = InterfaceData()"
   ]
  },
  {
   "cell_type": "code",
   "execution_count": 667,
   "metadata": {},
   "outputs": [
    {
     "data": {
      "text/plain": [
       "False"
      ]
     },
     "execution_count": 667,
     "metadata": {},
     "output_type": "execute_result"
    }
   ],
   "source": [
    "isinstance(a, InterfaceData)"
   ]
  },
  {
   "cell_type": "code",
   "execution_count": 668,
   "metadata": {},
   "outputs": [
    {
     "data": {
      "text/plain": [
       "False"
      ]
     },
     "execution_count": 668,
     "metadata": {},
     "output_type": "execute_result"
    }
   ],
   "source": [
    "isinstance((), InterfaceData)"
   ]
  },
  {
   "cell_type": "code",
   "execution_count": 650,
   "metadata": {},
   "outputs": [],
   "source": [
    "# Simple instantiaton\n",
    "data = LoggerData()\n",
    "assert data[INTERFACE_POWER] == ([], []), \"Incorrect value\"\n",
    "assert data[INTERFACE_GPIO] == ([], []), \"Incorrect value\""
   ]
  },
  {
   "cell_type": "code",
   "execution_count": 651,
   "metadata": {},
   "outputs": [],
   "source": [
    "# Instantiaton from list of interfaces\n",
    "data = LoggerData([INTERFACE_GPIO, INTERFACE_POWER])\n",
    "assert data[INTERFACE_POWER] == ([], []), \"Incorrect value\"\n",
    "assert data[INTERFACE_GPIO] == ([], []), \"Incorrect value\""
   ]
  },
  {
   "cell_type": "code",
   "execution_count": 652,
   "metadata": {},
   "outputs": [
    {
     "name": "stdout",
     "output_type": "stream",
     "text": [
      "Interfaces:\n",
      "\t 256:   power   , samples:       0\n",
      "\t  48:    gpio   , samples:       0\n",
      "\n"
     ]
    }
   ],
   "source": [
    "# Instantiation from dictionary\n",
    "data = LoggerData(\n",
    "    {INTERFACE_POWER: ([], []), INTERFACE_GPIO: ([], [])})\n",
    "print(data)\n",
    "assert data[INTERFACE_POWER] == ([], []), \"Incorrect value\"\n",
    "assert data[INTERFACE_GPIO] == ([], []), \"Incorrect value\""
   ]
  },
  {
   "cell_type": "code",
   "execution_count": 653,
   "metadata": {},
   "outputs": [],
   "source": [
    "# Instantiation from dictionary with data\n",
    "data = LoggerData(\n",
    "    {INTERFACE_POWER: ([1], [2]), INTERFACE_GPIO: ([3], [4])})\n",
    "assert data[INTERFACE_POWER] == ([1], [2]), \"Incorrect value\"\n",
    "assert data[INTERFACE_GPIO] == ([3], [4]), \"Incorrect value\""
   ]
  },
  {
   "cell_type": "code",
   "execution_count": 654,
   "metadata": {},
   "outputs": [],
   "source": [
    "# Simple instantiaton\n",
    "data = LoggerData()\n",
    "assert data[INTERFACE_POWER] == ([], []), \"Incorrect value\"\n",
    "assert data[INTERFACE_GPIO] == ([], []), \"Incorrect value\""
   ]
  },
  {
   "cell_type": "code",
   "execution_count": 655,
   "metadata": {},
   "outputs": [],
   "source": [
    "data = LoggerData([2])"
   ]
  },
  {
   "cell_type": "code",
   "execution_count": 685,
   "metadata": {},
   "outputs": [
    {
     "ename": "KeyError",
     "evalue": "2",
     "output_type": "error",
     "traceback": [
      "\u001b[1;31m---------------------------------------------------------------------------\u001b[0m",
      "\u001b[1;31mKeyError\u001b[0m                                  Traceback (most recent call last)",
      "\u001b[1;32m<ipython-input-685-dfaa3cc777fb>\u001b[0m in \u001b[0;36m<module>\u001b[1;34m\u001b[0m\n\u001b[1;32m----> 1\u001b[1;33m \u001b[0mtype\u001b[0m\u001b[1;33m(\u001b[0m\u001b[0mdata\u001b[0m\u001b[1;33m[\u001b[0m\u001b[1;36m2\u001b[0m\u001b[1;33m]\u001b[0m\u001b[1;33m)\u001b[0m\u001b[1;33m\u001b[0m\u001b[1;33m\u001b[0m\u001b[0m\n\u001b[0m",
      "\u001b[1;31mKeyError\u001b[0m: 2"
     ]
    }
   ],
   "source": [
    "type(data[2])"
   ]
  },
  {
   "cell_type": "code",
   "execution_count": null,
   "metadata": {},
   "outputs": [],
   "source": [
    "class testest(dict):\n",
    "    \"\"\"Class to store DGILib Logger Data.\"\"\"\n",
    "\n",
    "    def __init__(self, *args, **kwargs):\n",
    "        \"\"\"Take list of interfaces for the data.\"\"\"\n",
    "        # Call init function of dict\n",
    "        super().__init__(self)\n",
    "        self.update(*args, **kwargs)"
   ]
  },
  {
   "cell_type": "code",
   "execution_count": null,
   "metadata": {},
   "outputs": [],
   "source": [
    "testest()"
   ]
  },
  {
   "cell_type": "code",
   "execution_count": null,
   "metadata": {},
   "outputs": [],
   "source": []
  },
  {
   "cell_type": "code",
   "execution_count": null,
   "metadata": {},
   "outputs": [],
   "source": []
  },
  {
   "cell_type": "code",
   "execution_count": null,
   "metadata": {},
   "outputs": [],
   "source": [
    "isinstance(LoggerData, dict)"
   ]
  },
  {
   "cell_type": "code",
   "execution_count": null,
   "metadata": {},
   "outputs": [],
   "source": []
  },
  {
   "cell_type": "code",
   "execution_count": null,
   "metadata": {},
   "outputs": [],
   "source": []
  },
  {
   "cell_type": "code",
   "execution_count": 686,
   "metadata": {},
   "outputs": [],
   "source": [
    "l = [1,2]"
   ]
  },
  {
   "cell_type": "code",
   "execution_count": 687,
   "metadata": {},
   "outputs": [],
   "source": [
    "t = (2,3)"
   ]
  },
  {
   "cell_type": "code",
   "execution_count": 688,
   "metadata": {},
   "outputs": [],
   "source": [
    "a,b = l"
   ]
  },
  {
   "cell_type": "code",
   "execution_count": 689,
   "metadata": {},
   "outputs": [
    {
     "data": {
      "text/plain": [
       "1"
      ]
     },
     "execution_count": 689,
     "metadata": {},
     "output_type": "execute_result"
    }
   ],
   "source": [
    "a"
   ]
  },
  {
   "cell_type": "code",
   "execution_count": 690,
   "metadata": {},
   "outputs": [
    {
     "data": {
      "text/plain": [
       "2"
      ]
     },
     "execution_count": 690,
     "metadata": {},
     "output_type": "execute_result"
    }
   ],
   "source": [
    "b"
   ]
  },
  {
   "cell_type": "code",
   "execution_count": 691,
   "metadata": {},
   "outputs": [],
   "source": [
    "c,d = t"
   ]
  },
  {
   "cell_type": "code",
   "execution_count": 692,
   "metadata": {},
   "outputs": [
    {
     "data": {
      "text/plain": [
       "2"
      ]
     },
     "execution_count": 692,
     "metadata": {},
     "output_type": "execute_result"
    }
   ],
   "source": [
    "c"
   ]
  },
  {
   "cell_type": "code",
   "execution_count": 693,
   "metadata": {},
   "outputs": [
    {
     "data": {
      "text/plain": [
       "3"
      ]
     },
     "execution_count": 693,
     "metadata": {},
     "output_type": "execute_result"
    }
   ],
   "source": [
    "d"
   ]
  },
  {
   "cell_type": "code",
   "execution_count": 1970,
   "metadata": {},
   "outputs": [],
   "source": [
    "\"\"\"Class to store DGILib Logger Data.\"\"\"\n",
    "\n",
    "from pydgilib_extra.dgilib_extra_config import (\n",
    "    INTERFACE_SPI, INTERFACE_USART, INTERFACE_I2C, INTERFACE_GPIO,\n",
    "    INTERFACE_POWER)\n",
    "\n",
    "attr_dict = {\n",
    "    \"spi\": INTERFACE_SPI,\n",
    "    \"usart\": INTERFACE_USART,\n",
    "    \"i2c\": INTERFACE_I2C,\n",
    "    \"gpio\": INTERFACE_GPIO,\n",
    "    \"power\": INTERFACE_POWER,\n",
    "}\n",
    "\n",
    "\n",
    "class InterfaceData(object):\n",
    "    \"\"\"Class to store DGILib Logger Interface Data.\"\"\"\n",
    "\n",
    "    __slots__ = ['timestamps', 'values']\n",
    "\n",
    "    def __init__(self, *args):\n",
    "        \"\"\"Take tuple of timestamps and values.\"\"\"\n",
    "        if not args:\n",
    "            self.timestamps = []\n",
    "            self.values = []\n",
    "        elif len(args) == 1 and isinstance(args[0], InterfaceData):\n",
    "            self = args[0]\n",
    "        elif len(args) == 1 and valid_interface_data(args[0]):\n",
    "            self.timestamps, self.values = args[0]\n",
    "        elif len(args) == 2 and isinstance(args[0], list) and isinstance(args[1], list):\n",
    "            self.timestamps, self.values = args\n",
    "        elif len(args) == 2 and isinstance(args[0], (int, float)) and isinstance(args[1], (int, float, list)):\n",
    "            self.timestamps = [args[0]]\n",
    "            self.values = [args[1]]\n",
    "        else:\n",
    "            raise ValueError(\n",
    "                f\"Samples passed to InterfaceData must be tuple([],[]) or timestamps, values or InterfaceData. Got {args}\")\n",
    "\n",
    "    def __iadd__(self, interface_data):\n",
    "        \"\"\"Append new interface_data (in-place).\n",
    "\n",
    "        Used to provide `interface_data += interface_data1` syntax\n",
    "        \"\"\"\n",
    "        if isinstance(interface_data, InterfaceData):\n",
    "            self.timestamps.extend(interface_data.timestamps)\n",
    "            self.values.extend(interface_data.values)\n",
    "        else:\n",
    "            assert valid_interface_data(\n",
    "                interface_data), f\"Samples passed to InterfaceData were not valid_interface_data. {interface_data}\"\n",
    "            self.timestamps.extend(interface_data[0])\n",
    "            self.values.extend(interface_data[1])\n",
    "        return self\n",
    "\n",
    "    def __add__(self, interface_data):\n",
    "        \"\"\"Append new interface_data (copy).\n",
    "\n",
    "        Used to provide `interface_data2 = interface_data1 + interface_data` syntax\n",
    "        \"\"\"\n",
    "        data = InterfaceData()\n",
    "        data += self\n",
    "        data += interface_data\n",
    "        return data\n",
    "\n",
    "    def append(self, interface_data):\n",
    "        \"\"\"Append interface_data.\"\"\"\n",
    "        return self.extend(interface_data)\n",
    "\n",
    "    def extend(self, interface_data):\n",
    "        \"\"\"Append a list of interface_data.\"\"\"\n",
    "        if isinstance(interface_data, InterfaceData):\n",
    "            self += interface_data\n",
    "        else:\n",
    "            self += InterfaceData(interface_data)\n",
    "        return self\n",
    "\n",
    "    def __len__(self):\n",
    "        \"\"\"Get the number of samples.\"\"\"\n",
    "        if len(self.timestamps):\n",
    "            return len(self.timestamps)\n",
    "        else:\n",
    "            return 0\n",
    "\n",
    "    def __getitem__(self, index):\n",
    "        \"\"\"Get item.\n",
    "\n",
    "        Used to provide `timestamp, value = interface_data[5]` and\n",
    "        `timestamp, value = interface_data[2:5]` syntax\n",
    "        \"\"\"\n",
    "        return (self.timestamps[index], self.values[index])\n",
    "        # # Provides data[\"timestamps\"] as well\n",
    "        # if index == self.__slots__[0]:\n",
    "        #     return self.timestamps\n",
    "        # elif index == self.__slots__[1]:\n",
    "        #     return self.values\n",
    "        # else:\n",
    "        #     return (self.timestamps[index], self.values[index])\n",
    "\n",
    "    def __contains__(self, item):\n",
    "        \"\"\"Contains.\n",
    "\n",
    "        Used to provide `([1], [2]) in interface_data` syntax\n",
    "        \"\"\"\n",
    "        if isinstance(item, InterfaceData):\n",
    "            return all(any(item_timestamp == self_timestamp and item_value == self_value for self_timestamp, self_value in self) for item_timestamp, item_value in item)\n",
    "        else:\n",
    "            _item = InterfaceData(item)\n",
    "            return all(any(item_timestamp == self_timestamp and item_value == self_value for self_timestamp, self_value in self) for item_timestamp, item_value in _item)\n",
    "\n",
    "\n",
    "class LoggerData(dict):\n",
    "    \"\"\"Class to store DGILib Logger Data.\"\"\"\n",
    "\n",
    "    def __init__(self, *args, **kwargs):\n",
    "        \"\"\"Take list of interfaces for the data.\"\"\"\n",
    "        # Call init function of dict\n",
    "        super().__init__(self)\n",
    "        # No args or kwargs were specified, populate args[0] with standard\n",
    "        # interfaces\n",
    "        if not args and not kwargs:\n",
    "            args = [[INTERFACE_GPIO, INTERFACE_POWER]]\n",
    "        # Args is list of interfaces, make data dict with interfaces as keys\n",
    "        # and tuples of lists as values\n",
    "        if args and isinstance(args[0], list):\n",
    "            for interface in args[0]:\n",
    "                self[interface] = InterfaceData()\n",
    "        # Instantiate dict with arguments\n",
    "        else:\n",
    "            self.update(*args, **kwargs)\n",
    "\n",
    "        for interface, interface_data in self.items():\n",
    "            if not isinstance(interface_data, InterfaceData):\n",
    "                self[interface] = InterfaceData(interface_data)\n",
    "\n",
    "    def __getattr__(self, attr):\n",
    "        \"\"\"Get attribute.\n",
    "\n",
    "        Used to provide `data.spi` syntax.\n",
    "        \"\"\"\n",
    "        return self[attr_dict[attr]]\n",
    "\n",
    "    def __setattr__(self, attr, value):\n",
    "        \"\"\"Set attribute.\n",
    "\n",
    "        Used to provide `data.spi = InterfaceData(([], []))` syntax.\n",
    "        \"\"\"\n",
    "        self[attr_dict[attr]] = value\n",
    "\n",
    "    def __iadd__(self, logger_data):\n",
    "        \"\"\"Append new logger_data (in-place).\n",
    "\n",
    "        Used to provide `logger_data1 += logger_data` syntax\n",
    "        \"\"\"\n",
    "        if not isinstance(logger_data, dict):\n",
    "            raise ValueError(\n",
    "                f\"logger_data must be a dict or LoggerData. Got {type(logger_data)}\")\n",
    "        for interface, interface_data in logger_data.items():\n",
    "            self.extend(interface, interface_data)\n",
    "        return self\n",
    "\n",
    "    def __add__(self, logger_data):\n",
    "        \"\"\"Append new logger_data (copy).\n",
    "\n",
    "        Used to provide `logger_data2 = logger_data1 + logger_data` syntax\n",
    "        \"\"\"\n",
    "        data = LoggerData()\n",
    "        data += self\n",
    "        data += logger_data\n",
    "        return data\n",
    "\n",
    "    # def __copy__(self):\n",
    "    #     return self\n",
    "\n",
    "    def append(self, interface, interface_data):\n",
    "        \"\"\"Append a sample to one of the interfaces.\"\"\"\n",
    "        return self.extend(interface, interface_data)\n",
    "\n",
    "    def extend(self, interface, interface_data):\n",
    "        \"\"\"Append a list of samples to one of the interfaces.\"\"\"\n",
    "        if interface in self.keys():\n",
    "            self[interface].extend(interface_data)\n",
    "        elif not isinstance(interface_data, InterfaceData):\n",
    "            self[interface] = InterfaceData(interface_data)\n",
    "        else:\n",
    "            self[interface] = interface_data\n",
    "        return self\n",
    "\n",
    "    def length(self, attr=None):\n",
    "        \"\"\"Compute the number of samples for the interfaces.\n",
    "\n",
    "        Return a dict of the number of samples for each interface. Or the\n",
    "        length of the `attr` specified.\n",
    "        \"\"\"\n",
    "        if attr is None:\n",
    "            return {key: len(interface_data) for key, interface_data in self.items()}\n",
    "        elif attr in self.keys():\n",
    "            return len(self[attr])\n",
    "        elif attr in attr_dict.keys():\n",
    "            return len(self[attr_dict[attr]])\n",
    "        else:\n",
    "            raise ValueError(\n",
    "                f\"attr must be a named or numbered interface. Got {attr}\")\n",
    "\n",
    "    def __str__(self):\n",
    "        \"\"\"Print data.\n",
    "\n",
    "        Used to provide `str(data)` syntax.\n",
    "        \"\"\"\n",
    "        output = \"Interfaces:\\n\"\n",
    "        for interface in self.keys():\n",
    "            if interface in attr_dict.values():\n",
    "                for name, number in attr_dict.items():\n",
    "                    if interface == number:\n",
    "                        output += f\"\\t{number:4}: {name:{' '}^{10}}, samples: {len(self[interface][0]):7}\\n\"\n",
    "                        break\n",
    "            else:\n",
    "                output += f\"\\t{interface:4}: (unknown) , samples: {len(self[interface][0]):7}\\n\"\n",
    "\n",
    "        return output\n",
    "\n",
    "# # Load CSV\n",
    "\n",
    "# # Calculations\n",
    "\n",
    "\n",
    "def valid_interface_data(samples):\n",
    "    \"\"\"Check if samples are valid InterfaceData.\"\"\"\n",
    "    return (isinstance(samples, (tuple, list)) and\n",
    "            len(samples) == 2 and\n",
    "            all(isinstance(sample, list) for sample in samples) and\n",
    "            len(samples[0]) == len(samples[1]))\n"
   ]
  },
  {
   "cell_type": "code",
   "execution_count": 1971,
   "metadata": {},
   "outputs": [
    {
     "data": {
      "text/plain": [
       "0"
      ]
     },
     "execution_count": 1971,
     "metadata": {},
     "output_type": "execute_result"
    }
   ],
   "source": [
    "a = InterfaceData()\n",
    "len(a)"
   ]
  },
  {
   "cell_type": "code",
   "execution_count": 1972,
   "metadata": {},
   "outputs": [
    {
     "data": {
      "text/plain": [
       "()"
      ]
     },
     "execution_count": 1972,
     "metadata": {},
     "output_type": "execute_result"
    }
   ],
   "source": [
    "tuple(a)"
   ]
  },
  {
   "cell_type": "code",
   "execution_count": 1973,
   "metadata": {},
   "outputs": [],
   "source": [
    "b = InterfaceData(([1],[3]))"
   ]
  },
  {
   "cell_type": "code",
   "execution_count": 1974,
   "metadata": {},
   "outputs": [
    {
     "data": {
      "text/plain": [
       "((1, 3),)"
      ]
     },
     "execution_count": 1974,
     "metadata": {},
     "output_type": "execute_result"
    }
   ],
   "source": [
    "tuple(b)"
   ]
  },
  {
   "cell_type": "code",
   "execution_count": 1975,
   "metadata": {},
   "outputs": [
    {
     "data": {
      "text/plain": [
       "[(1, 3)]"
      ]
     },
     "execution_count": 1975,
     "metadata": {},
     "output_type": "execute_result"
    }
   ],
   "source": [
    "list(b)"
   ]
  },
  {
   "cell_type": "code",
   "execution_count": 1976,
   "metadata": {},
   "outputs": [],
   "source": [
    "c = InterfaceData(([1, 2],[3,4]))"
   ]
  },
  {
   "cell_type": "code",
   "execution_count": 1977,
   "metadata": {},
   "outputs": [
    {
     "data": {
      "text/plain": [
       "((1, 3), (2, 4))"
      ]
     },
     "execution_count": 1977,
     "metadata": {},
     "output_type": "execute_result"
    }
   ],
   "source": [
    "tuple(c)"
   ]
  },
  {
   "cell_type": "code",
   "execution_count": 1978,
   "metadata": {},
   "outputs": [
    {
     "data": {
      "text/plain": [
       "[(1, 3), (2, 4)]"
      ]
     },
     "execution_count": 1978,
     "metadata": {},
     "output_type": "execute_result"
    }
   ],
   "source": [
    "list(c)"
   ]
  },
  {
   "cell_type": "code",
   "execution_count": 1979,
   "metadata": {},
   "outputs": [
    {
     "data": {
      "text/plain": [
       "[(2, 4), (1, 3)]"
      ]
     },
     "execution_count": 1979,
     "metadata": {},
     "output_type": "execute_result"
    }
   ],
   "source": [
    "list(list(reversed(c)))"
   ]
  },
  {
   "cell_type": "code",
   "execution_count": 1980,
   "metadata": {},
   "outputs": [
    {
     "data": {
      "text/plain": [
       "2"
      ]
     },
     "execution_count": 1980,
     "metadata": {},
     "output_type": "execute_result"
    }
   ],
   "source": [
    "len(c)"
   ]
  },
  {
   "cell_type": "code",
   "execution_count": 1981,
   "metadata": {},
   "outputs": [],
   "source": [
    "aa, bb = c"
   ]
  },
  {
   "cell_type": "code",
   "execution_count": 1982,
   "metadata": {},
   "outputs": [
    {
     "data": {
      "text/plain": [
       "(1, 3)"
      ]
     },
     "execution_count": 1982,
     "metadata": {},
     "output_type": "execute_result"
    }
   ],
   "source": [
    "aa"
   ]
  },
  {
   "cell_type": "code",
   "execution_count": 1983,
   "metadata": {},
   "outputs": [
    {
     "name": "stderr",
     "output_type": "stream",
     "text": [
      "D:\\Anaconda3\\envs\\SAML11-32\\lib\\site-packages\\IPython\\core\\displayhook.py:271: UserWarning: Output cache limit (currently 1000 entries) hit.\n",
      "Flushing oldest 200 entries.\n",
      "  'Flushing oldest {cull_count} entries.'.format(sz=sz, cull_count=cull_count))\n"
     ]
    },
    {
     "data": {
      "text/plain": [
       "(2, 4)"
      ]
     },
     "execution_count": 1983,
     "metadata": {},
     "output_type": "execute_result"
    }
   ],
   "source": [
    "bb"
   ]
  },
  {
   "cell_type": "code",
   "execution_count": 1984,
   "metadata": {},
   "outputs": [],
   "source": [
    "cc = c"
   ]
  },
  {
   "cell_type": "code",
   "execution_count": 1985,
   "metadata": {},
   "outputs": [
    {
     "data": {
      "text/plain": [
       "<__main__.InterfaceData at 0xe7f370>"
      ]
     },
     "execution_count": 1985,
     "metadata": {},
     "output_type": "execute_result"
    }
   ],
   "source": [
    "cc"
   ]
  },
  {
   "cell_type": "code",
   "execution_count": 1986,
   "metadata": {},
   "outputs": [
    {
     "data": {
      "text/plain": [
       "False"
      ]
     },
     "execution_count": 1986,
     "metadata": {},
     "output_type": "execute_result"
    }
   ],
   "source": [
    "bool(a)"
   ]
  },
  {
   "cell_type": "code",
   "execution_count": 1987,
   "metadata": {},
   "outputs": [
    {
     "data": {
      "text/plain": [
       "True"
      ]
     },
     "execution_count": 1987,
     "metadata": {},
     "output_type": "execute_result"
    }
   ],
   "source": [
    "bool(c)"
   ]
  },
  {
   "cell_type": "code",
   "execution_count": 1988,
   "metadata": {},
   "outputs": [
    {
     "data": {
      "text/plain": [
       "[1, 2]"
      ]
     },
     "execution_count": 1988,
     "metadata": {},
     "output_type": "execute_result"
    }
   ],
   "source": [
    "c.timestamps"
   ]
  },
  {
   "cell_type": "code",
   "execution_count": 1989,
   "metadata": {},
   "outputs": [
    {
     "data": {
      "text/plain": [
       "[3, 4]"
      ]
     },
     "execution_count": 1989,
     "metadata": {},
     "output_type": "execute_result"
    }
   ],
   "source": [
    "c.values"
   ]
  },
  {
   "cell_type": "code",
   "execution_count": 1990,
   "metadata": {},
   "outputs": [
    {
     "ename": "TypeError",
     "evalue": "list indices must be integers or slices, not str",
     "output_type": "error",
     "traceback": [
      "\u001b[1;31m---------------------------------------------------------------------------\u001b[0m",
      "\u001b[1;31mTypeError\u001b[0m                                 Traceback (most recent call last)",
      "\u001b[1;32m<ipython-input-1990-f9bcc845d33b>\u001b[0m in \u001b[0;36m<module>\u001b[1;34m\u001b[0m\n\u001b[1;32m----> 1\u001b[1;33m \u001b[0mc\u001b[0m\u001b[1;33m[\u001b[0m\u001b[1;34m\"timestamps\"\u001b[0m\u001b[1;33m]\u001b[0m\u001b[1;33m\u001b[0m\u001b[1;33m\u001b[0m\u001b[0m\n\u001b[0m",
      "\u001b[1;32m<ipython-input-1970-18c4dcd3ef49>\u001b[0m in \u001b[0;36m__getitem__\u001b[1;34m(self, index)\u001b[0m\n\u001b[0;32m     87\u001b[0m         \u001b[0;31m`\u001b[0m\u001b[0mtimestamp\u001b[0m\u001b[1;33m,\u001b[0m \u001b[0mvalue\u001b[0m \u001b[1;33m=\u001b[0m \u001b[0minterface_data\u001b[0m\u001b[1;33m[\u001b[0m\u001b[1;36m2\u001b[0m\u001b[1;33m:\u001b[0m\u001b[1;36m5\u001b[0m\u001b[1;33m]\u001b[0m\u001b[0;31m`\u001b[0m \u001b[0msyntax\u001b[0m\u001b[1;33m\u001b[0m\u001b[1;33m\u001b[0m\u001b[0m\n\u001b[0;32m     88\u001b[0m         \"\"\"\n\u001b[1;32m---> 89\u001b[1;33m         \u001b[1;32mreturn\u001b[0m \u001b[1;33m(\u001b[0m\u001b[0mself\u001b[0m\u001b[1;33m.\u001b[0m\u001b[0mtimestamps\u001b[0m\u001b[1;33m[\u001b[0m\u001b[0mindex\u001b[0m\u001b[1;33m]\u001b[0m\u001b[1;33m,\u001b[0m \u001b[0mself\u001b[0m\u001b[1;33m.\u001b[0m\u001b[0mvalues\u001b[0m\u001b[1;33m[\u001b[0m\u001b[0mindex\u001b[0m\u001b[1;33m]\u001b[0m\u001b[1;33m)\u001b[0m\u001b[1;33m\u001b[0m\u001b[1;33m\u001b[0m\u001b[0m\n\u001b[0m\u001b[0;32m     90\u001b[0m         \u001b[1;31m# # Provides data[\"timestamps\"] as well\u001b[0m\u001b[1;33m\u001b[0m\u001b[1;33m\u001b[0m\u001b[1;33m\u001b[0m\u001b[0m\n\u001b[0;32m     91\u001b[0m         \u001b[1;31m# if index == self.__slots__[0]:\u001b[0m\u001b[1;33m\u001b[0m\u001b[1;33m\u001b[0m\u001b[1;33m\u001b[0m\u001b[0m\n",
      "\u001b[1;31mTypeError\u001b[0m: list indices must be integers or slices, not str"
     ]
    }
   ],
   "source": [
    "c[\"timestamps\"]"
   ]
  },
  {
   "cell_type": "code",
   "execution_count": 1991,
   "metadata": {},
   "outputs": [
    {
     "data": {
      "text/plain": [
       "([1], [3])"
      ]
     },
     "execution_count": 1991,
     "metadata": {},
     "output_type": "execute_result"
    }
   ],
   "source": [
    "c[0:1]"
   ]
  },
  {
   "cell_type": "code",
   "execution_count": 1992,
   "metadata": {},
   "outputs": [],
   "source": [
    "d = InterfaceData(([1, 2, 3],[4, 5, 6]))"
   ]
  },
  {
   "cell_type": "code",
   "execution_count": 1993,
   "metadata": {},
   "outputs": [
    {
     "name": "stdout",
     "output_type": "stream",
     "text": [
      "(3, 6)\n",
      "(2, 5)\n",
      "(1, 4)\n"
     ]
    },
    {
     "data": {
      "text/plain": [
       "[None, None, None]"
      ]
     },
     "execution_count": 1993,
     "metadata": {},
     "output_type": "execute_result"
    }
   ],
   "source": [
    "[print(s) for s in reversed(d)]"
   ]
  },
  {
   "cell_type": "code",
   "execution_count": 1994,
   "metadata": {},
   "outputs": [],
   "source": [
    "e = reversed(d)"
   ]
  },
  {
   "cell_type": "code",
   "execution_count": 1995,
   "metadata": {},
   "outputs": [
    {
     "ename": "TypeError",
     "evalue": "'reversed' object is not subscriptable",
     "output_type": "error",
     "traceback": [
      "\u001b[1;31m---------------------------------------------------------------------------\u001b[0m",
      "\u001b[1;31mTypeError\u001b[0m                                 Traceback (most recent call last)",
      "\u001b[1;32m<ipython-input-1995-8088862005ba>\u001b[0m in \u001b[0;36m<module>\u001b[1;34m\u001b[0m\n\u001b[1;32m----> 1\u001b[1;33m \u001b[0me\u001b[0m\u001b[1;33m[\u001b[0m\u001b[1;36m0\u001b[0m\u001b[1;33m]\u001b[0m\u001b[1;33m\u001b[0m\u001b[1;33m\u001b[0m\u001b[0m\n\u001b[0m",
      "\u001b[1;31mTypeError\u001b[0m: 'reversed' object is not subscriptable"
     ]
    }
   ],
   "source": [
    "e[0]"
   ]
  },
  {
   "cell_type": "code",
   "execution_count": 1996,
   "metadata": {},
   "outputs": [
    {
     "data": {
      "text/plain": [
       "((1, 2),)"
      ]
     },
     "execution_count": 1996,
     "metadata": {},
     "output_type": "execute_result"
    }
   ],
   "source": [
    "tuple(InterfaceData([[1], [2]]))"
   ]
  },
  {
   "cell_type": "code",
   "execution_count": 1997,
   "metadata": {},
   "outputs": [],
   "source": [
    "data = InterfaceData([[1], [2]])"
   ]
  },
  {
   "cell_type": "code",
   "execution_count": 1998,
   "metadata": {},
   "outputs": [
    {
     "data": {
      "text/plain": [
       "[1]"
      ]
     },
     "execution_count": 1998,
     "metadata": {},
     "output_type": "execute_result"
    }
   ],
   "source": [
    "data.timestamps"
   ]
  },
  {
   "cell_type": "code",
   "execution_count": 1999,
   "metadata": {},
   "outputs": [
    {
     "data": {
      "text/plain": [
       "[2]"
      ]
     },
     "execution_count": 1999,
     "metadata": {},
     "output_type": "execute_result"
    }
   ],
   "source": [
    "data.values"
   ]
  },
  {
   "cell_type": "code",
   "execution_count": 2000,
   "metadata": {},
   "outputs": [],
   "source": [
    "assert data.timestamps == [1], \"Incorrect value\""
   ]
  },
  {
   "cell_type": "code",
   "execution_count": 2001,
   "metadata": {},
   "outputs": [],
   "source": [
    "assert data.values == [2], \"Incorrect value\""
   ]
  },
  {
   "cell_type": "code",
   "execution_count": 2002,
   "metadata": {},
   "outputs": [
    {
     "ename": "TypeError",
     "evalue": "list indices must be integers or slices, not str",
     "output_type": "error",
     "traceback": [
      "\u001b[1;31m---------------------------------------------------------------------------\u001b[0m",
      "\u001b[1;31mTypeError\u001b[0m                                 Traceback (most recent call last)",
      "\u001b[1;32m<ipython-input-2002-1ec91cb8ccaf>\u001b[0m in \u001b[0;36m<module>\u001b[1;34m\u001b[0m\n\u001b[0;32m      2\u001b[0m \u001b[1;32massert\u001b[0m \u001b[0mdata\u001b[0m\u001b[1;33m.\u001b[0m\u001b[0mtimestamps\u001b[0m \u001b[1;33m==\u001b[0m \u001b[1;33m[\u001b[0m\u001b[1;36m1\u001b[0m\u001b[1;33m]\u001b[0m\u001b[1;33m,\u001b[0m \u001b[1;34m\"Incorrect value\"\u001b[0m\u001b[1;33m\u001b[0m\u001b[1;33m\u001b[0m\u001b[0m\n\u001b[0;32m      3\u001b[0m \u001b[1;32massert\u001b[0m \u001b[0mdata\u001b[0m\u001b[1;33m.\u001b[0m\u001b[0mvalues\u001b[0m \u001b[1;33m==\u001b[0m \u001b[1;33m[\u001b[0m\u001b[1;36m2\u001b[0m\u001b[1;33m]\u001b[0m\u001b[1;33m,\u001b[0m \u001b[1;34m\"Incorrect value\"\u001b[0m\u001b[1;33m\u001b[0m\u001b[1;33m\u001b[0m\u001b[0m\n\u001b[1;32m----> 4\u001b[1;33m \u001b[1;32massert\u001b[0m \u001b[0mdata\u001b[0m\u001b[1;33m[\u001b[0m\u001b[1;34m\"timestamps\"\u001b[0m\u001b[1;33m]\u001b[0m \u001b[1;33m==\u001b[0m \u001b[1;33m[\u001b[0m\u001b[1;36m1\u001b[0m\u001b[1;33m]\u001b[0m\u001b[1;33m,\u001b[0m \u001b[1;34m\"Incorrect value\"\u001b[0m\u001b[1;33m\u001b[0m\u001b[1;33m\u001b[0m\u001b[0m\n\u001b[0m\u001b[0;32m      5\u001b[0m \u001b[1;32massert\u001b[0m \u001b[0mdata\u001b[0m\u001b[1;33m[\u001b[0m\u001b[1;34m\"values\"\u001b[0m\u001b[1;33m]\u001b[0m \u001b[1;33m==\u001b[0m \u001b[1;33m[\u001b[0m\u001b[1;36m2\u001b[0m\u001b[1;33m]\u001b[0m\u001b[1;33m,\u001b[0m \u001b[1;34m\"Incorrect value\"\u001b[0m\u001b[1;33m\u001b[0m\u001b[1;33m\u001b[0m\u001b[0m\n",
      "\u001b[1;32m<ipython-input-1970-18c4dcd3ef49>\u001b[0m in \u001b[0;36m__getitem__\u001b[1;34m(self, index)\u001b[0m\n\u001b[0;32m     87\u001b[0m         \u001b[0;31m`\u001b[0m\u001b[0mtimestamp\u001b[0m\u001b[1;33m,\u001b[0m \u001b[0mvalue\u001b[0m \u001b[1;33m=\u001b[0m \u001b[0minterface_data\u001b[0m\u001b[1;33m[\u001b[0m\u001b[1;36m2\u001b[0m\u001b[1;33m:\u001b[0m\u001b[1;36m5\u001b[0m\u001b[1;33m]\u001b[0m\u001b[0;31m`\u001b[0m \u001b[0msyntax\u001b[0m\u001b[1;33m\u001b[0m\u001b[1;33m\u001b[0m\u001b[0m\n\u001b[0;32m     88\u001b[0m         \"\"\"\n\u001b[1;32m---> 89\u001b[1;33m         \u001b[1;32mreturn\u001b[0m \u001b[1;33m(\u001b[0m\u001b[0mself\u001b[0m\u001b[1;33m.\u001b[0m\u001b[0mtimestamps\u001b[0m\u001b[1;33m[\u001b[0m\u001b[0mindex\u001b[0m\u001b[1;33m]\u001b[0m\u001b[1;33m,\u001b[0m \u001b[0mself\u001b[0m\u001b[1;33m.\u001b[0m\u001b[0mvalues\u001b[0m\u001b[1;33m[\u001b[0m\u001b[0mindex\u001b[0m\u001b[1;33m]\u001b[0m\u001b[1;33m)\u001b[0m\u001b[1;33m\u001b[0m\u001b[1;33m\u001b[0m\u001b[0m\n\u001b[0m\u001b[0;32m     90\u001b[0m         \u001b[1;31m# # Provides data[\"timestamps\"] as well\u001b[0m\u001b[1;33m\u001b[0m\u001b[1;33m\u001b[0m\u001b[1;33m\u001b[0m\u001b[0m\n\u001b[0;32m     91\u001b[0m         \u001b[1;31m# if index == self.__slots__[0]:\u001b[0m\u001b[1;33m\u001b[0m\u001b[1;33m\u001b[0m\u001b[1;33m\u001b[0m\u001b[0m\n",
      "\u001b[1;31mTypeError\u001b[0m: list indices must be integers or slices, not str"
     ]
    }
   ],
   "source": [
    "        data = InterfaceData([[1], [2]])\n",
    "        assert data.timestamps == [1], \"Incorrect value\"\n",
    "        assert data.values == [2], \"Incorrect value\"\n",
    "        assert data[\"timestamps\"] == [1], \"Incorrect value\"\n",
    "        assert data[\"values\"] == [2], \"Incorrect value\""
   ]
  },
  {
   "cell_type": "code",
   "execution_count": 2003,
   "metadata": {},
   "outputs": [],
   "source": [
    "data = InterfaceData(([1, 2], [3, 4]))"
   ]
  },
  {
   "cell_type": "code",
   "execution_count": 2004,
   "metadata": {},
   "outputs": [
    {
     "data": {
      "text/plain": [
       "[1, 2]"
      ]
     },
     "execution_count": 2004,
     "metadata": {},
     "output_type": "execute_result"
    }
   ],
   "source": [
    "data.timestamps"
   ]
  },
  {
   "cell_type": "code",
   "execution_count": 2005,
   "metadata": {},
   "outputs": [
    {
     "data": {
      "text/plain": [
       "[3, 4]"
      ]
     },
     "execution_count": 2005,
     "metadata": {},
     "output_type": "execute_result"
    }
   ],
   "source": [
    "data.values"
   ]
  },
  {
   "cell_type": "code",
   "execution_count": 2006,
   "metadata": {},
   "outputs": [
    {
     "data": {
      "text/plain": [
       "(1, 3)"
      ]
     },
     "execution_count": 2006,
     "metadata": {},
     "output_type": "execute_result"
    }
   ],
   "source": [
    "data[0]"
   ]
  },
  {
   "cell_type": "code",
   "execution_count": 2007,
   "metadata": {},
   "outputs": [],
   "source": [
    "\n",
    "        data = InterfaceData([[1], [2]])\n",
    "        data += ([2], [3])"
   ]
  },
  {
   "cell_type": "code",
   "execution_count": 2008,
   "metadata": {},
   "outputs": [
    {
     "data": {
      "text/plain": [
       "((1, 2), (2, 3))"
      ]
     },
     "execution_count": 2008,
     "metadata": {},
     "output_type": "execute_result"
    }
   ],
   "source": [
    "tuple(data)"
   ]
  },
  {
   "cell_type": "code",
   "execution_count": 2009,
   "metadata": {},
   "outputs": [],
   "source": [
    "data = InterfaceData([[1], [2]])\n",
    "#data1 = data + InterfaceData(([], []))\n",
    "data1 = data + (([], []))\n",
    "data = InterfaceData([[4], [5]])"
   ]
  },
  {
   "cell_type": "code",
   "execution_count": 2010,
   "metadata": {},
   "outputs": [
    {
     "data": {
      "text/plain": [
       "((4, 5),)"
      ]
     },
     "execution_count": 2010,
     "metadata": {},
     "output_type": "execute_result"
    }
   ],
   "source": [
    "tuple(data)"
   ]
  },
  {
   "cell_type": "code",
   "execution_count": 2011,
   "metadata": {},
   "outputs": [
    {
     "data": {
      "text/plain": [
       "((1, 2),)"
      ]
     },
     "execution_count": 2011,
     "metadata": {},
     "output_type": "execute_result"
    }
   ],
   "source": [
    "tuple(data1)"
   ]
  },
  {
   "cell_type": "code",
   "execution_count": 2012,
   "metadata": {},
   "outputs": [],
   "source": [
    "del data1"
   ]
  },
  {
   "cell_type": "code",
   "execution_count": 2013,
   "metadata": {},
   "outputs": [],
   "source": [
    "data = InterfaceData(([1, 2], [3, 4]))"
   ]
  },
  {
   "cell_type": "code",
   "execution_count": 2014,
   "metadata": {},
   "outputs": [
    {
     "data": {
      "text/plain": [
       "<__main__.InterfaceData at 0xfc16f0>"
      ]
     },
     "execution_count": 2014,
     "metadata": {},
     "output_type": "execute_result"
    }
   ],
   "source": [
    "data"
   ]
  },
  {
   "cell_type": "code",
   "execution_count": 2015,
   "metadata": {},
   "outputs": [
    {
     "data": {
      "text/plain": [
       "((1, 3), (2, 4))"
      ]
     },
     "execution_count": 2015,
     "metadata": {},
     "output_type": "execute_result"
    }
   ],
   "source": [
    "tuple(data)"
   ]
  },
  {
   "cell_type": "code",
   "execution_count": 2016,
   "metadata": {},
   "outputs": [
    {
     "data": {
      "text/plain": [
       "(1, 3)"
      ]
     },
     "execution_count": 2016,
     "metadata": {},
     "output_type": "execute_result"
    }
   ],
   "source": [
    "data[0]"
   ]
  },
  {
   "cell_type": "code",
   "execution_count": 2017,
   "metadata": {},
   "outputs": [
    {
     "data": {
      "text/plain": [
       "(2, 4)"
      ]
     },
     "execution_count": 2017,
     "metadata": {},
     "output_type": "execute_result"
    }
   ],
   "source": [
    "data[1]"
   ]
  },
  {
   "cell_type": "code",
   "execution_count": 2018,
   "metadata": {},
   "outputs": [
    {
     "data": {
      "text/plain": [
       "0"
      ]
     },
     "execution_count": 2018,
     "metadata": {},
     "output_type": "execute_result"
    }
   ],
   "source": [
    "len(InterfaceData())"
   ]
  },
  {
   "cell_type": "code",
   "execution_count": 2019,
   "metadata": {},
   "outputs": [
    {
     "data": {
      "text/plain": [
       "<__main__.InterfaceData at 0xfc1550>"
      ]
     },
     "execution_count": 2019,
     "metadata": {},
     "output_type": "execute_result"
    }
   ],
   "source": [
    "InterfaceData()"
   ]
  },
  {
   "cell_type": "code",
   "execution_count": 2020,
   "metadata": {},
   "outputs": [
    {
     "data": {
      "text/plain": [
       "()"
      ]
     },
     "execution_count": 2020,
     "metadata": {},
     "output_type": "execute_result"
    }
   ],
   "source": [
    "tuple(InterfaceData())"
   ]
  },
  {
   "cell_type": "code",
   "execution_count": 2021,
   "metadata": {},
   "outputs": [
    {
     "data": {
      "text/plain": [
       "0"
      ]
     },
     "execution_count": 2021,
     "metadata": {},
     "output_type": "execute_result"
    }
   ],
   "source": [
    "len(InterfaceData())"
   ]
  },
  {
   "cell_type": "code",
   "execution_count": 2022,
   "metadata": {},
   "outputs": [
    {
     "data": {
      "text/plain": [
       "1"
      ]
     },
     "execution_count": 2022,
     "metadata": {},
     "output_type": "execute_result"
    }
   ],
   "source": [
    "len(InterfaceData(([1],[2])))"
   ]
  },
  {
   "cell_type": "code",
   "execution_count": 2023,
   "metadata": {},
   "outputs": [],
   "source": [
    "timestamp, value = data[1]"
   ]
  },
  {
   "cell_type": "code",
   "execution_count": 2024,
   "metadata": {},
   "outputs": [
    {
     "data": {
      "text/plain": [
       "2"
      ]
     },
     "execution_count": 2024,
     "metadata": {},
     "output_type": "execute_result"
    }
   ],
   "source": [
    "timestamp"
   ]
  },
  {
   "cell_type": "code",
   "execution_count": 2025,
   "metadata": {},
   "outputs": [
    {
     "data": {
      "text/plain": [
       "4"
      ]
     },
     "execution_count": 2025,
     "metadata": {},
     "output_type": "execute_result"
    }
   ],
   "source": [
    "value"
   ]
  },
  {
   "cell_type": "code",
   "execution_count": 2026,
   "metadata": {},
   "outputs": [
    {
     "data": {
      "text/plain": [
       "<__main__.InterfaceData at 0xfc16f0>"
      ]
     },
     "execution_count": 2026,
     "metadata": {},
     "output_type": "execute_result"
    }
   ],
   "source": [
    "data.append([[9,8,7,6],[34,45,56,67]])"
   ]
  },
  {
   "cell_type": "code",
   "execution_count": 2061,
   "metadata": {},
   "outputs": [
    {
     "data": {
      "text/plain": [
       "([7, 6], [56, 67])"
      ]
     },
     "execution_count": 2061,
     "metadata": {},
     "output_type": "execute_result"
    }
   ],
   "source": [
    "data[4:6]"
   ]
  },
  {
   "cell_type": "code",
   "execution_count": 2028,
   "metadata": {},
   "outputs": [
    {
     "data": {
      "text/plain": [
       "True"
      ]
     },
     "execution_count": 2028,
     "metadata": {},
     "output_type": "execute_result"
    }
   ],
   "source": [
    "([9], [34]) in data"
   ]
  },
  {
   "cell_type": "code",
   "execution_count": 2029,
   "metadata": {},
   "outputs": [
    {
     "data": {
      "text/plain": [
       "True"
      ]
     },
     "execution_count": 2029,
     "metadata": {},
     "output_type": "execute_result"
    }
   ],
   "source": [
    "data in data + ([10], [34])"
   ]
  },
  {
   "cell_type": "code",
   "execution_count": 2030,
   "metadata": {},
   "outputs": [
    {
     "data": {
      "text/plain": [
       "False"
      ]
     },
     "execution_count": 2030,
     "metadata": {},
     "output_type": "execute_result"
    }
   ],
   "source": [
    "data + ([10], [34]) in data"
   ]
  },
  {
   "cell_type": "code",
   "execution_count": 2031,
   "metadata": {},
   "outputs": [
    {
     "data": {
      "text/plain": [
       "True"
      ]
     },
     "execution_count": 2031,
     "metadata": {},
     "output_type": "execute_result"
    }
   ],
   "source": [
    "([], []) in data"
   ]
  },
  {
   "cell_type": "code",
   "execution_count": 2032,
   "metadata": {},
   "outputs": [
    {
     "data": {
      "text/plain": [
       "([6, 7, 8, 9, 2, 1], [67, 56, 45, 34, 4, 3])"
      ]
     },
     "execution_count": 2032,
     "metadata": {},
     "output_type": "execute_result"
    }
   ],
   "source": [
    "data[::-1]"
   ]
  },
  {
   "cell_type": "code",
   "execution_count": 2062,
   "metadata": {},
   "outputs": [],
   "source": [
    "data = InterfaceData(([1, 2], [3, 4]))\n",
    "assert data[0] == (1, 3), \"Incorrect value\"\n",
    "assert data[1] == (2, 4), \"Incorrect value\"\n",
    "assert data[::-1] == ([2, 1], [4, 3]), \"Incorrect value\"\n",
    "data.append([[9, 8, 7, 6], [34, 45, 56, 67]])\n",
    "assert data[4:6] == ([7, 6], [56, 67]), \"Incorrect value\""
   ]
  },
  {
   "cell_type": "code",
   "execution_count": 2033,
   "metadata": {},
   "outputs": [
    {
     "data": {
      "text/plain": [
       "6"
      ]
     },
     "execution_count": 2033,
     "metadata": {},
     "output_type": "execute_result"
    }
   ],
   "source": [
    "len(data)"
   ]
  },
  {
   "cell_type": "code",
   "execution_count": 2034,
   "metadata": {},
   "outputs": [
    {
     "data": {
      "text/plain": [
       "[(6, 67), (7, 56), (8, 45), (9, 34), (2, 4), (1, 3)]"
      ]
     },
     "execution_count": 2034,
     "metadata": {},
     "output_type": "execute_result"
    }
   ],
   "source": [
    "list(reversed(data))"
   ]
  },
  {
   "cell_type": "code",
   "execution_count": 2035,
   "metadata": {},
   "outputs": [],
   "source": [
    "cs = reversed(data)"
   ]
  },
  {
   "cell_type": "code",
   "execution_count": 2036,
   "metadata": {},
   "outputs": [
    {
     "name": "stdout",
     "output_type": "stream",
     "text": [
      "1 3\n",
      "2 4\n",
      "9 34\n",
      "8 45\n",
      "7 56\n",
      "6 67\n"
     ]
    }
   ],
   "source": [
    "for timestamp, value in data:\n",
    "    print(timestamp, value)"
   ]
  },
  {
   "cell_type": "code",
   "execution_count": 2037,
   "metadata": {},
   "outputs": [
    {
     "name": "stdout",
     "output_type": "stream",
     "text": [
      "6 67\n",
      "7 56\n",
      "8 45\n",
      "9 34\n",
      "2 4\n",
      "1 3\n"
     ]
    }
   ],
   "source": [
    "for timestamp, value in reversed(data):\n",
    "    print(timestamp, value)"
   ]
  },
  {
   "cell_type": "code",
   "execution_count": 2038,
   "metadata": {},
   "outputs": [
    {
     "data": {
      "text/plain": [
       "False"
      ]
     },
     "execution_count": 2038,
     "metadata": {},
     "output_type": "execute_result"
    }
   ],
   "source": [
    "data + ([10], [34]) == data"
   ]
  },
  {
   "cell_type": "code",
   "execution_count": 2039,
   "metadata": {},
   "outputs": [
    {
     "data": {
      "text/plain": [
       "True"
      ]
     },
     "execution_count": 2039,
     "metadata": {},
     "output_type": "execute_result"
    }
   ],
   "source": [
    "data == data"
   ]
  },
  {
   "cell_type": "code",
   "execution_count": 2040,
   "metadata": {},
   "outputs": [
    {
     "ename": "TypeError",
     "evalue": "'>' not supported between instances of 'InterfaceData' and 'InterfaceData'",
     "output_type": "error",
     "traceback": [
      "\u001b[1;31m---------------------------------------------------------------------------\u001b[0m",
      "\u001b[1;31mTypeError\u001b[0m                                 Traceback (most recent call last)",
      "\u001b[1;32m<ipython-input-2040-ae7e27b58d0c>\u001b[0m in \u001b[0;36m<module>\u001b[1;34m\u001b[0m\n\u001b[1;32m----> 1\u001b[1;33m \u001b[0mdata\u001b[0m \u001b[1;33m+\u001b[0m \u001b[1;33m(\u001b[0m\u001b[1;33m[\u001b[0m\u001b[1;36m10\u001b[0m\u001b[1;33m]\u001b[0m\u001b[1;33m,\u001b[0m \u001b[1;33m[\u001b[0m\u001b[1;36m34\u001b[0m\u001b[1;33m]\u001b[0m\u001b[1;33m)\u001b[0m \u001b[1;33m>\u001b[0m \u001b[0mdata\u001b[0m\u001b[1;33m\u001b[0m\u001b[1;33m\u001b[0m\u001b[0m\n\u001b[0m",
      "\u001b[1;31mTypeError\u001b[0m: '>' not supported between instances of 'InterfaceData' and 'InterfaceData'"
     ]
    }
   ],
   "source": [
    "data + ([10], [34]) > data"
   ]
  },
  {
   "cell_type": "code",
   "execution_count": 2041,
   "metadata": {},
   "outputs": [
    {
     "data": {
      "text/plain": [
       "True"
      ]
     },
     "execution_count": 2041,
     "metadata": {},
     "output_type": "execute_result"
    }
   ],
   "source": [
    "\n",
    "data == data"
   ]
  },
  {
   "cell_type": "code",
   "execution_count": 2042,
   "metadata": {},
   "outputs": [
    {
     "data": {
      "text/plain": [
       "False"
      ]
     },
     "execution_count": 2042,
     "metadata": {},
     "output_type": "execute_result"
    }
   ],
   "source": [
    "data == ([10], [34])"
   ]
  },
  {
   "cell_type": "code",
   "execution_count": 2044,
   "metadata": {},
   "outputs": [
    {
     "name": "stdout",
     "output_type": "stream",
     "text": [
      "(1, 3)\n",
      "True\n",
      "(2, 4)\n",
      "True\n",
      "(9, 34)\n",
      "True\n",
      "(8, 45)\n",
      "True\n",
      "(7, 56)\n",
      "True\n",
      "(6, 67)\n",
      "True\n"
     ]
    }
   ],
   "source": [
    "for sample in data:\n",
    "    print(sample)\n",
    "    print(InterfaceData(*sample) in data)"
   ]
  },
  {
   "cell_type": "code",
   "execution_count": 2047,
   "metadata": {},
   "outputs": [
    {
     "data": {
      "text/plain": [
       "False"
      ]
     },
     "execution_count": 2047,
     "metadata": {},
     "output_type": "execute_result"
    }
   ],
   "source": [
    "data in reversed(data)"
   ]
  },
  {
   "cell_type": "code",
   "execution_count": 2050,
   "metadata": {},
   "outputs": [
    {
     "data": {
      "text/plain": [
       "False"
      ]
     },
     "execution_count": 2050,
     "metadata": {},
     "output_type": "execute_result"
    }
   ],
   "source": [
    "data in list(reversed(data))"
   ]
  },
  {
   "cell_type": "code",
   "execution_count": 2051,
   "metadata": {},
   "outputs": [
    {
     "data": {
      "text/plain": [
       "[(6, 67), (7, 56), (8, 45), (9, 34), (2, 4), (1, 3)]"
      ]
     },
     "execution_count": 2051,
     "metadata": {},
     "output_type": "execute_result"
    }
   ],
   "source": [
    "list(reversed(data))"
   ]
  },
  {
   "cell_type": "code",
   "execution_count": 2052,
   "metadata": {},
   "outputs": [
    {
     "data": {
      "text/plain": [
       "[(1, 3), (2, 4), (9, 34), (8, 45), (7, 56), (6, 67)]"
      ]
     },
     "execution_count": 2052,
     "metadata": {},
     "output_type": "execute_result"
    }
   ],
   "source": [
    "list(data)"
   ]
  },
  {
   "cell_type": "code",
   "execution_count": 2056,
   "metadata": {},
   "outputs": [
    {
     "data": {
      "text/plain": [
       "False"
      ]
     },
     "execution_count": 2056,
     "metadata": {},
     "output_type": "execute_result"
    }
   ],
   "source": [
    "list(data) in list(reversed(data))"
   ]
  },
  {
   "cell_type": "code",
   "execution_count": 2059,
   "metadata": {},
   "outputs": [
    {
     "ename": "ValueError",
     "evalue": "Samples passed to InterfaceData must be tuple([],[]) or timestamps, values or InterfaceData. Got (((1, 3), (2, 4), (9, 34), (8, 45), (7, 56), (6, 67)),)",
     "output_type": "error",
     "traceback": [
      "\u001b[1;31m---------------------------------------------------------------------------\u001b[0m",
      "\u001b[1;31mValueError\u001b[0m                                Traceback (most recent call last)",
      "\u001b[1;32m<ipython-input-2059-f288ebaeaf63>\u001b[0m in \u001b[0;36m<module>\u001b[1;34m\u001b[0m\n\u001b[1;32m----> 1\u001b[1;33m \u001b[0mtuple\u001b[0m\u001b[1;33m(\u001b[0m\u001b[0mdata\u001b[0m\u001b[1;33m)\u001b[0m \u001b[1;32min\u001b[0m \u001b[0mdata\u001b[0m\u001b[1;33m\u001b[0m\u001b[1;33m\u001b[0m\u001b[0m\n\u001b[0m",
      "\u001b[1;32m<ipython-input-1970-18c4dcd3ef49>\u001b[0m in \u001b[0;36m__contains__\u001b[1;34m(self, item)\u001b[0m\n\u001b[0;32m    104\u001b[0m             \u001b[1;32mreturn\u001b[0m \u001b[0mall\u001b[0m\u001b[1;33m(\u001b[0m\u001b[0many\u001b[0m\u001b[1;33m(\u001b[0m\u001b[0mitem_timestamp\u001b[0m \u001b[1;33m==\u001b[0m \u001b[0mself_timestamp\u001b[0m \u001b[1;32mand\u001b[0m \u001b[0mitem_value\u001b[0m \u001b[1;33m==\u001b[0m \u001b[0mself_value\u001b[0m \u001b[1;32mfor\u001b[0m \u001b[0mself_timestamp\u001b[0m\u001b[1;33m,\u001b[0m \u001b[0mself_value\u001b[0m \u001b[1;32min\u001b[0m \u001b[0mself\u001b[0m\u001b[1;33m)\u001b[0m \u001b[1;32mfor\u001b[0m \u001b[0mitem_timestamp\u001b[0m\u001b[1;33m,\u001b[0m \u001b[0mitem_value\u001b[0m \u001b[1;32min\u001b[0m \u001b[0mitem\u001b[0m\u001b[1;33m)\u001b[0m\u001b[1;33m\u001b[0m\u001b[1;33m\u001b[0m\u001b[0m\n\u001b[0;32m    105\u001b[0m         \u001b[1;32melse\u001b[0m\u001b[1;33m:\u001b[0m\u001b[1;33m\u001b[0m\u001b[1;33m\u001b[0m\u001b[0m\n\u001b[1;32m--> 106\u001b[1;33m             \u001b[0m_item\u001b[0m \u001b[1;33m=\u001b[0m \u001b[0mInterfaceData\u001b[0m\u001b[1;33m(\u001b[0m\u001b[0mitem\u001b[0m\u001b[1;33m)\u001b[0m\u001b[1;33m\u001b[0m\u001b[1;33m\u001b[0m\u001b[0m\n\u001b[0m\u001b[0;32m    107\u001b[0m             \u001b[1;32mreturn\u001b[0m \u001b[0mall\u001b[0m\u001b[1;33m(\u001b[0m\u001b[0many\u001b[0m\u001b[1;33m(\u001b[0m\u001b[0mitem_timestamp\u001b[0m \u001b[1;33m==\u001b[0m \u001b[0mself_timestamp\u001b[0m \u001b[1;32mand\u001b[0m \u001b[0mitem_value\u001b[0m \u001b[1;33m==\u001b[0m \u001b[0mself_value\u001b[0m \u001b[1;32mfor\u001b[0m \u001b[0mself_timestamp\u001b[0m\u001b[1;33m,\u001b[0m \u001b[0mself_value\u001b[0m \u001b[1;32min\u001b[0m \u001b[0mself\u001b[0m\u001b[1;33m)\u001b[0m \u001b[1;32mfor\u001b[0m \u001b[0mitem_timestamp\u001b[0m\u001b[1;33m,\u001b[0m \u001b[0mitem_value\u001b[0m \u001b[1;32min\u001b[0m \u001b[0m_item\u001b[0m\u001b[1;33m)\u001b[0m\u001b[1;33m\u001b[0m\u001b[1;33m\u001b[0m\u001b[0m\n\u001b[0;32m    108\u001b[0m \u001b[1;33m\u001b[0m\u001b[0m\n",
      "\u001b[1;32m<ipython-input-1970-18c4dcd3ef49>\u001b[0m in \u001b[0;36m__init__\u001b[1;34m(self, *args)\u001b[0m\n\u001b[0;32m     35\u001b[0m         \u001b[1;32melse\u001b[0m\u001b[1;33m:\u001b[0m\u001b[1;33m\u001b[0m\u001b[1;33m\u001b[0m\u001b[0m\n\u001b[0;32m     36\u001b[0m             raise ValueError(\n\u001b[1;32m---> 37\u001b[1;33m                 f\"Samples passed to InterfaceData must be tuple([],[]) or timestamps, values or InterfaceData. Got {args}\")\n\u001b[0m\u001b[0;32m     38\u001b[0m \u001b[1;33m\u001b[0m\u001b[0m\n\u001b[0;32m     39\u001b[0m     \u001b[1;32mdef\u001b[0m \u001b[0m__iadd__\u001b[0m\u001b[1;33m(\u001b[0m\u001b[0mself\u001b[0m\u001b[1;33m,\u001b[0m \u001b[0minterface_data\u001b[0m\u001b[1;33m)\u001b[0m\u001b[1;33m:\u001b[0m\u001b[1;33m\u001b[0m\u001b[1;33m\u001b[0m\u001b[0m\n",
      "\u001b[1;31mValueError\u001b[0m: Samples passed to InterfaceData must be tuple([],[]) or timestamps, values or InterfaceData. Got (((1, 3), (2, 4), (9, 34), (8, 45), (7, 56), (6, 67)),)"
     ]
    }
   ],
   "source": [
    "tuple(data) in data"
   ]
  },
  {
   "cell_type": "code",
   "execution_count": null,
   "metadata": {},
   "outputs": [],
   "source": []
  },
  {
   "cell_type": "code",
   "execution_count": null,
   "metadata": {},
   "outputs": [],
   "source": []
  },
  {
   "cell_type": "code",
   "execution_count": null,
   "metadata": {},
   "outputs": [],
   "source": []
  },
  {
   "cell_type": "code",
   "execution_count": null,
   "metadata": {},
   "outputs": [],
   "source": []
  },
  {
   "cell_type": "code",
   "execution_count": null,
   "metadata": {},
   "outputs": [],
   "source": []
  },
  {
   "cell_type": "code",
   "execution_count": null,
   "metadata": {},
   "outputs": [],
   "source": []
  },
  {
   "cell_type": "code",
   "execution_count": null,
   "metadata": {},
   "outputs": [],
   "source": []
  },
  {
   "cell_type": "code",
   "execution_count": null,
   "metadata": {},
   "outputs": [],
   "source": []
  },
  {
   "cell_type": "code",
   "execution_count": null,
   "metadata": {},
   "outputs": [],
   "source": []
  },
  {
   "cell_type": "code",
   "execution_count": null,
   "metadata": {},
   "outputs": [],
   "source": []
  },
  {
   "cell_type": "code",
   "execution_count": null,
   "metadata": {},
   "outputs": [],
   "source": []
  },
  {
   "cell_type": "code",
   "execution_count": null,
   "metadata": {},
   "outputs": [],
   "source": []
  },
  {
   "cell_type": "code",
   "execution_count": null,
   "metadata": {},
   "outputs": [],
   "source": []
  },
  {
   "cell_type": "code",
   "execution_count": null,
   "metadata": {},
   "outputs": [],
   "source": []
  },
  {
   "cell_type": "code",
   "execution_count": null,
   "metadata": {},
   "outputs": [],
   "source": []
  },
  {
   "cell_type": "code",
   "execution_count": null,
   "metadata": {},
   "outputs": [],
   "source": []
  },
  {
   "cell_type": "code",
   "execution_count": null,
   "metadata": {},
   "outputs": [],
   "source": []
  },
  {
   "cell_type": "code",
   "execution_count": null,
   "metadata": {},
   "outputs": [],
   "source": []
  },
  {
   "cell_type": "code",
   "execution_count": null,
   "metadata": {},
   "outputs": [],
   "source": []
  },
  {
   "cell_type": "code",
   "execution_count": null,
   "metadata": {},
   "outputs": [],
   "source": []
  },
  {
   "cell_type": "code",
   "execution_count": null,
   "metadata": {},
   "outputs": [],
   "source": []
  },
  {
   "cell_type": "code",
   "execution_count": null,
   "metadata": {},
   "outputs": [],
   "source": []
  },
  {
   "cell_type": "code",
   "execution_count": null,
   "metadata": {},
   "outputs": [],
   "source": []
  },
  {
   "cell_type": "code",
   "execution_count": null,
   "metadata": {},
   "outputs": [],
   "source": []
  },
  {
   "cell_type": "code",
   "execution_count": null,
   "metadata": {},
   "outputs": [],
   "source": []
  },
  {
   "cell_type": "code",
   "execution_count": null,
   "metadata": {},
   "outputs": [],
   "source": []
  },
  {
   "cell_type": "code",
   "execution_count": null,
   "metadata": {},
   "outputs": [],
   "source": []
  },
  {
   "cell_type": "code",
   "execution_count": null,
   "metadata": {},
   "outputs": [],
   "source": []
  },
  {
   "cell_type": "code",
   "execution_count": null,
   "metadata": {},
   "outputs": [],
   "source": []
  },
  {
   "cell_type": "code",
   "execution_count": null,
   "metadata": {},
   "outputs": [],
   "source": []
  },
  {
   "cell_type": "code",
   "execution_count": null,
   "metadata": {},
   "outputs": [],
   "source": []
  },
  {
   "cell_type": "code",
   "execution_count": null,
   "metadata": {},
   "outputs": [],
   "source": []
  },
  {
   "cell_type": "code",
   "execution_count": null,
   "metadata": {},
   "outputs": [],
   "source": []
  },
  {
   "cell_type": "code",
   "execution_count": null,
   "metadata": {},
   "outputs": [],
   "source": []
  },
  {
   "cell_type": "code",
   "execution_count": null,
   "metadata": {},
   "outputs": [],
   "source": []
  },
  {
   "cell_type": "code",
   "execution_count": null,
   "metadata": {},
   "outputs": [],
   "source": []
  },
  {
   "cell_type": "code",
   "execution_count": null,
   "metadata": {},
   "outputs": [],
   "source": []
  },
  {
   "cell_type": "code",
   "execution_count": null,
   "metadata": {},
   "outputs": [],
   "source": []
  }
 ],
 "metadata": {
  "kernelspec": {
   "display_name": "Python [conda env:SAML11-32]",
   "language": "python",
   "name": "conda-env-SAML11-32-py"
  },
  "language_info": {
   "codemirror_mode": {
    "name": "ipython",
    "version": 3
   },
   "file_extension": ".py",
   "mimetype": "text/x-python",
   "name": "python",
   "nbconvert_exporter": "python",
   "pygments_lexer": "ipython3",
   "version": "3.6.8"
  }
 },
 "nbformat": 4,
 "nbformat_minor": 2
}
