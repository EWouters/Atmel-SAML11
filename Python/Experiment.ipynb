{
 "cells": [
  {
   "cell_type": "code",
   "execution_count": 1,
   "metadata": {},
   "outputs": [],
   "source": [
    "# %matplotlib ipympl\n",
    "%matplotlib wx"
   ]
  },
  {
   "cell_type": "code",
   "execution_count": 2,
   "metadata": {},
   "outputs": [],
   "source": [
    "import matplotlib.pyplot as plt"
   ]
  },
  {
   "cell_type": "code",
   "execution_count": 3,
   "metadata": {},
   "outputs": [],
   "source": [
    "from pydgilib_extra import *"
   ]
  },
  {
   "cell_type": "code",
   "execution_count": 4,
   "metadata": {},
   "outputs": [],
   "source": [
    "dgilib_path = \"C:\\\\Users\\\\erikw_000\\\\Documents\\\\GitHub\\\\Atmel-SAML11\\\\Python\\\\dgilib.dll\""
   ]
  },
  {
   "cell_type": "code",
   "execution_count": 5,
   "metadata": {},
   "outputs": [],
   "source": [
    "fig = plt.figure(figsize=(8, 6))"
   ]
  },
  {
   "cell_type": "code",
   "execution_count": 12,
   "metadata": {},
   "outputs": [],
   "source": [
    "data = []\n",
    "\n",
    "config_dict = {\n",
    "    \"power_buffers\": [{\"channel\": CHANNEL_A, \"power_type\": POWER_CURRENT}],\n",
    "    \"read_mode\": [True, True, True, True],\n",
    "    \"write_mode\": [False, False, False, False],\n",
    "    \"loggers\": [LOGGER_OBJECT, LOGGER_PLOT, LOGGER_CSV],\n",
    "    \"plot_pins\": [True, True, True, True],\n",
    "    \"augment_gpio\" : True,\n",
    "    \"fig\": fig,\n",
    "    \"verbose\": 0,\n",
    "}\n",
    "\n",
    "fig.clf()\n",
    "\n",
    "with DGILibExtra(dgilib_path, **config_dict) as dgilib:\n",
    "    dgilib.device_reset()\n",
    "    data = dgilib.logger(2)\n",
    "#     dgilib.ax.plot(*dgilib.power_filter_by_pin(2))\n",
    "#     dgilib.ax.plot(*dgilib.power_filter_by_pin(3))"
   ]
  },
  {
   "cell_type": "code",
   "execution_count": 13,
   "metadata": {},
   "outputs": [
    {
     "data": {
      "text/plain": [
       "([0.0019952,\n",
       "  0.0021541333333333335,\n",
       "  0.0022197333333333334,\n",
       "  0.12697226666666667,\n",
       "  0.13712,\n",
       "  0.25805493333333335,\n",
       "  0.2682021333333333,\n",
       "  0.4195392,\n",
       "  0.42968693333333335,\n",
       "  0.43983466666666665,\n",
       "  0.44998293333333333],\n",
       " [[True, True, True, True],\n",
       "  [True, True, True, False],\n",
       "  [True, True, False, False],\n",
       "  [True, True, False, True],\n",
       "  [True, True, True, True],\n",
       "  [True, True, True, False],\n",
       "  [True, True, False, False],\n",
       "  [True, True, False, True],\n",
       "  [True, True, False, False],\n",
       "  [True, True, True, False],\n",
       "  [True, True, False, False]])"
      ]
     },
     "execution_count": 13,
     "metadata": {},
     "output_type": "execute_result"
    }
   ],
   "source": [
    "data[INTERFACE_GPIO]"
   ]
  },
  {
   "cell_type": "code",
   "execution_count": null,
   "metadata": {},
   "outputs": [],
   "source": []
  }
 ],
 "metadata": {
  "kernelspec": {
   "display_name": "Python [conda env:SAML11-32]",
   "language": "python",
   "name": "conda-env-SAML11-32-py"
  },
  "language_info": {
   "codemirror_mode": {
    "name": "ipython",
    "version": 3
   },
   "file_extension": ".py",
   "mimetype": "text/x-python",
   "name": "python",
   "nbconvert_exporter": "python",
   "pygments_lexer": "ipython3",
   "version": "3.6.8"
  }
 },
 "nbformat": 4,
 "nbformat_minor": 2
}
