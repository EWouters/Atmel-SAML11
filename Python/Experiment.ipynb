{
 "cells": [
  {
   "cell_type": "markdown",
   "metadata": {},
   "source": [
    "## Import Libraries"
   ]
  },
  {
   "cell_type": "code",
   "execution_count": 1,
   "metadata": {},
   "outputs": [],
   "source": [
    "# %matplotlib ipympl\n",
    "%matplotlib wx"
   ]
  },
  {
   "cell_type": "code",
   "execution_count": 2,
   "metadata": {},
   "outputs": [],
   "source": [
    "import matplotlib.pyplot as plt\n",
    "plt.ion()"
   ]
  },
  {
   "cell_type": "code",
   "execution_count": 3,
   "metadata": {},
   "outputs": [],
   "source": [
    "from pydgilib_extra import *\n",
    "from atprogram.atprogram import atprogram"
   ]
  },
  {
   "cell_type": "code",
   "execution_count": 4,
   "metadata": {},
   "outputs": [],
   "source": [
    "from os import getcwd, path, pardir"
   ]
  },
  {
   "cell_type": "markdown",
   "metadata": {},
   "source": [
    "## Compile and program project"
   ]
  },
  {
   "cell_type": "code",
   "execution_count": 5,
   "metadata": {},
   "outputs": [
    {
     "data": {
      "text/plain": [
       "'C:\\\\Users\\\\erikw_000\\\\Documents\\\\GitHub\\\\Atmel-SAML11\\\\Python\\\\pydgilib\\\\UnitTest\\\\UnitTest'"
      ]
     },
     "execution_count": 5,
     "metadata": {},
     "output_type": "execute_result"
    }
   ],
   "source": [
    "project_path = path.join(getcwd(), \"pydgilib\", \"UnitTest\", \"UnitTest\")\n",
    "project_path"
   ]
  },
  {
   "cell_type": "code",
   "execution_count": 6,
   "metadata": {},
   "outputs": [
    {
     "name": "stdout",
     "output_type": "stream",
     "text": [
      "make: Nothing to be done for 'all'.\n",
      "\n",
      "[DEBUG] Starting execution of \"chiperase\"\n",
      "[DEBUG] Starting process 'C:\\Program Files (x86)\\Atmel\\Studio\\7.0\\atbackend\\atbackend.exe'\n",
      "[DEBUG] Connecting to TCP:127.0.0.1:6472\n",
      "[INFO] Connected to edbg, fw version: 3.25\n",
      "[INFO] Firmware check OK\n",
      "[DEBUG] Command \"chiperase\" finished with return code 0\n",
      "[DEBUG] Starting execution of \"program\"\n",
      "[DEBUG] Memory segment base written at 0x00000000. Size = 0x00001380.\n",
      "[DEBUG] Memory segment base written at 0x00001380. Size = 0x00000064.\n",
      "[DEBUG] Memory segment base written at 0x0000fb00. Size = 0x00000020.\n",
      "[DEBUG] Memory segment base written at 0x00804000. Size = 0x00000020.\n",
      "[DEBUG] Command \"program\" finished with return code 0\n",
      "[DEBUG] Starting execution of \"info\"\n",
      "Firmware check OK\n",
      "Chiperase completed successfully\n",
      "Programming completed successfully.\n",
      "Tool edbg has firmware version: 03.25\n",
      "Target voltage: 3.33 V\n",
      "\n",
      "Device information:\n",
      "\n",
      "Name:       ATSAML11E16A  \n",
      "JtagId:     N/A           \n",
      "Revision:   B             \n",
      "CPU arch.:  CORTEX-M23    \n",
      "Series:     SAML11\n",
      "DAL:        2\n",
      "\n",
      "Memory Information:\n",
      "\n",
      "Address Space    StartAddress            Size\n",
      "\n",
      "base                      0x0     0x100000000\n",
      "  FLASH                   0x0         0x10000\n",
      "  AUX                0x806000           0x100\n",
      "  BOCOR              0x80c000           0x100\n",
      "  DATAFLASH          0x400000           0x800\n",
      "  SW_CALIB           0x806020             0x8\n",
      "  TEMP_LOG           0x806038             0x8\n",
      "  USER_PAGE          0x804000           0x100\n",
      "  HSRAM            0x20000000          0x4000\n",
      "  HPB0             0x40000000          0x8000\n",
      "  HPB1             0x41000000         0x10000\n",
      "  HPB2             0x42000000          0x4000\n",
      "  PPB              0xe0000000        0x100000\n",
      "  SCS              0xe000e000          0x1000\n",
      "  PERIPHERALS      0x40000000      0x20000000\n",
      "\n",
      "fuses                     0x0      0x20000000\n",
      "\n",
      "BOCOR_WORD_27 (0b11111111111111111111111111111111 <-> 0xffffffff):\n",
      "   BOOTROM_BOOTKEY_7 0xffffffff\n",
      "\n",
      "BOCOR_WORD_26 (0b11111111111111111111111111111111 <-> 0xffffffff):\n",
      "   BOOTROM_BOOTKEY_6 0xffffffff\n",
      "\n",
      "BOCOR_WORD_25 (0b11111111111111111111111111111111 <-> 0xffffffff):\n",
      "   BOOTROM_BOOTKEY_5 0xffffffff\n",
      "\n",
      "BOCOR_WORD_24 (0b11111111111111111111111111111111 <-> 0xffffffff):\n",
      "   BOOTROM_BOOTKEY_4 0xffffffff\n",
      "\n",
      "BOCOR_WORD_23 (0b11111111111111111111111111111111 <-> 0xffffffff):\n",
      "   BOOTROM_BOOTKEY_3 0xffffffff\n",
      "\n",
      "BOCOR_WORD_22 (0b11111111111111111111111111111111 <-> 0xffffffff):\n",
      "   BOOTROM_BOOTKEY_2 0xffffffff\n",
      "\n",
      "BOCOR_WORD_21 (0b11111111111111111111111111111111 <-> 0xffffffff):\n",
      "   BOOTROM_BOOTKEY_1 0xffffffff\n",
      "\n",
      "BOCOR_WORD_20 (0b11111111111111111111111111111111 <-> 0xffffffff):\n",
      "   BOOTROM_BOOTKEY_0 0xffffffff\n",
      "\n",
      "BOCOR_WORD_19 (0b11111111111111111111111111111111 <-> 0xffffffff):\n",
      "   BOOTROM_CRCKEY_3 0xffffffff\n",
      "\n",
      "BOCOR_WORD_18 (0b11111111111111111111111111111111 <-> 0xffffffff):\n",
      "   BOOTROM_CRCKEY_2 0xffffffff\n",
      "\n",
      "BOCOR_WORD_17 (0b11111111111111111111111111111111 <-> 0xffffffff):\n",
      "   BOOTROM_CRCKEY_1 0xffffffff\n",
      "\n",
      "BOCOR_WORD_16 (0b11111111111111111111111111111111 <-> 0xffffffff):\n",
      "   BOOTROM_CRCKEY_0 0xffffffff\n",
      "\n",
      "BOCOR_WORD_15 (0b11111111111111111111111111111111 <-> 0xffffffff):\n",
      "   BOOTROM_CEKEY2_3 0xffffffff\n",
      "\n",
      "BOCOR_WORD_14 (0b11111111111111111111111111111111 <-> 0xffffffff):\n",
      "   BOOTROM_CEKEY2_2 0xffffffff\n",
      "\n",
      "BOCOR_WORD_13 (0b11111111111111111111111111111111 <-> 0xffffffff):\n",
      "   BOOTROM_CEKEY2_1 0xffffffff\n",
      "\n",
      "BOCOR_WORD_12 (0b11111111111111111111111111111111 <-> 0xffffffff):\n",
      "   BOOTROM_CEKEY2_0 0xffffffff\n",
      "\n",
      "BOCOR_WORD_11 (0b11111111111111111111111111111111 <-> 0xffffffff):\n",
      "   BOOTROM_CEKEY1_3 0xffffffff\n",
      "\n",
      "BOCOR_WORD_10 (0b11111111111111111111111111111111 <-> 0xffffffff):\n",
      "   BOOTROM_CEKEY1_2 0xffffffff\n",
      "\n",
      "BOCOR_WORD_9 (0b11111111111111111111111111111111 <-> 0xffffffff):\n",
      "   BOOTROM_CEKEY1_1 0xffffffff\n",
      "\n",
      "BOCOR_WORD_8 (0b11111111111111111111111111111111 <-> 0xffffffff):\n",
      "   BOOTROM_CEKEY1_0 0xffffffff\n",
      "\n",
      "BOCOR_WORD_7 (0b11111111111111111111111111111111 <-> 0xffffffff):\n",
      "   BOOTROM_CEKEY0_3 0xffffffff\n",
      "\n",
      "BOCOR_WORD_6 (0b11111111111111111111111111111111 <-> 0xffffffff):\n",
      "   BOOTROM_CEKEY0_2 0xffffffff\n",
      "\n",
      "BOCOR_WORD_5 (0b11111111111111111111111111111111 <-> 0xffffffff):\n",
      "   BOOTROM_CEKEY0_1 0xffffffff\n",
      "\n",
      "BOCOR_WORD_4 (0b11111111111111111111111111111111 <-> 0xffffffff):\n",
      "   BOOTROM_CEKEY0_0 0xffffffff\n",
      "\n",
      "BOCOR_WORD_3 (0b00000000000000000000000000111101 <-> 0x0000003d):\n",
      "   BOOTROM_ROMVERSION 0x3d\n",
      "\n",
      "BOCOR_WORD_1 (0b00000000000000110000000000000000 <-> 0x00030000):\n",
      "   NVMCTRL_BCREN 1\n",
      "   NVMCTRL_BCWEN 1\n",
      "   IDAU_BOOTPROT 0x0\n",
      "\n",
      "BOCOR_WORD_0 (0b10100000000000000000000000000000 <-> 0xa0000000):\n",
      "   BOOTROM_BOOTOPT 0xa0\n",
      "   IDAU_BNSC     0x0\n",
      "   IDAU_BS       0x0\n",
      "\n",
      "SW_CALIB_WORD_0 (0b11111111111111111111000001111111 <-> 0xfffff07f):\n",
      "   DFLLULP_DIV_PL2 0x0\n",
      "   DFLLULP_DIV_PL0 0x1\n",
      "   ADC_BIASCOMP  0x7\n",
      "   ADC_BIASREFBUF 0x7\n",
      "\n",
      "TEMP_LOG_WORD_1 (0b11001000101010101000000111111100 <-> 0xc8aa81fc):\n",
      "   HOT_ADC_VAL_PTAT[DEBUG] Command \"info\" finished with return code 0\n",
      "[DEBUG] Exit successfully.\n",
      " 0xc8a\n",
      "   ROOM_ADC_VAL_PTAT 0xa81\n",
      "   HOT_INT1V_VAL 0xfc\n",
      "\n",
      "TEMP_LOG_WORD_0 (0b00000011000001010101011000011110 <-> 0x0305561e):\n",
      "   ROOM_INT1V_VAL 0x3\n",
      "   HOT_TEMP_VAL_DEC 0x0\n",
      "   HOT_TEMP_VAL_INT 0x55\n",
      "   ROOM_TEMP_VAL_DEC 0x6\n",
      "   ROOM_TEMP_VAL_INT 0x1e\n",
      "\n",
      "USER_WORD_6 (0b00000000000000000000000000000000 <-> 0x00000000):\n",
      "   NONSECC_TRAM  0\n",
      "   NONSECC_OPAMP 0\n",
      "   NONSECC_CCL   0\n",
      "   NONSECC_TRNG  0\n",
      "   NONSECC_PTC   0\n",
      "   NONSECC_DAC   0\n",
      "   NONSECC_ADC   0\n",
      "   NONSECC_TC2   0\n",
      "   NONSECC_TC1   0\n",
      "   NONSECC_TC0   0\n",
      "   NONSECC_SERCOM2 0\n",
      "   NONSECC_SERCOM1 0\n",
      "   NONSECC_SERCOM0 0\n",
      "   NONSECC_EVSYS 0\n",
      "\n",
      "USER_WORD_5 (0b00000000000000000000000000000000 <-> 0x00000000):\n",
      "   NONSECB_DMAC  0\n",
      "   NONSECB_NVMCTRL 0\n",
      "   NONSECB_DSU   0\n",
      "   NONSECB_IDAU  0\n",
      "\n",
      "USER_WORD_4 (0b00000000000000000000000000000000 <-> 0x00000000):\n",
      "   NONSECA_AC    0\n",
      "   NONSECA_PORT  0\n",
      "   NONSECA_FREQM 0\n",
      "   NONSECA_EIC   0\n",
      "   NONSECA_RTC   0\n",
      "   NONSECA_WDT   0\n",
      "   NONSECA_GCLK  0\n",
      "   NONSECA_SUPC  0\n",
      "   NONSECA_OSC32KCTRL 0\n",
      "   NONSECA_OSCCTRL 0\n",
      "   NONSECA_RSTC  0\n",
      "   NONSECA_MCLK  0\n",
      "   NONSECA_PM    0\n",
      "   NONSECA_PAC   0\n",
      "\n",
      "USER_WORD_3 (0b00000000000000000000000000000001 <-> 0x00000001):\n",
      "   NVMCTRL_URWEN 1\n",
      "\n",
      "USER_WORD_2 (0b01111111000010000010000011111111 <-> 0x7f0820ff):\n",
      "   IDAU_RS       0x7f\n",
      "   IDAU_DS       0x8\n",
      "   IDAU_ANSC     0x20\n",
      "   IDAU_AS       0xff\n",
      "\n",
      "USER_WORD_1 (0b00000000000000000001100010111011 <-> 0x000018bb):\n",
      "   BOOTROM_DXN   1\n",
      "   BOOTROM_RXN   1\n",
      "   BOD33_HYST    0\n",
      "   WDT_WEN       0\n",
      "   WDT_EWOFFSET  0xb\n",
      "   WDT_WINDOW    0xb\n",
      "\n",
      "USER_WORD_0 (0b10110000100011110100001100111111 <-> 0xb08f433f):\n",
      "   WDT_PER       0xb\n",
      "   WDT_ALWAYSON  0\n",
      "   WDT_ENABLE    0\n",
      "   WDT_RUNSTDBY  0\n",
      "   BOD33_ACTION  0x1\n",
      "   BOD33_DIS     0\n",
      "   BOD33USERLEVEL 0x6\n",
      "   NVMCTRL_NSULCK 0x7\n",
      "   NVMCTRL_SULCK 0x7\n",
      "\n",
      "\n"
     ]
    },
    {
     "data": {
      "text/plain": [
       "0"
      ]
     },
     "execution_count": 6,
     "metadata": {},
     "output_type": "execute_result"
    }
   ],
   "source": [
    "atprogram(project_path, verbose=3)"
   ]
  },
  {
   "cell_type": "markdown",
   "metadata": {},
   "source": [
    "## Data Logging"
   ]
  },
  {
   "cell_type": "markdown",
   "metadata": {},
   "source": [
    "Create a figure for the plot."
   ]
  },
  {
   "cell_type": "code",
   "execution_count": 7,
   "metadata": {},
   "outputs": [],
   "source": [
    "# fig = plt.figure(figsize=(8, 6))\n",
    "# fig.show()"
   ]
  },
  {
   "cell_type": "code",
   "execution_count": 8,
   "metadata": {},
   "outputs": [],
   "source": [
    "# config_dict = {\n",
    "#     \"interfaces\": [INTERFACE_POWER, INTERFACE_GPIO],\n",
    "#     \"power_buffers\": [{\"channel\": CHANNEL_A, \"power_type\": POWER_CURRENT}],\n",
    "#     \"read_mode\": [True, True, True, True],\n",
    "#     \"write_mode\": [False, False, False, False],\n",
    "#     \"loggers\": [LOGGER_OBJECT, LOGGER_PLOT, LOGGER_CSV],\n",
    "#     \"plot_pins\": [False, False, True, True],\n",
    "#     \"plot_pins_values\": [True, True, True, True],\n",
    "#     \"gpio_delay_time\" : 0.010795,\n",
    "#     \"augment_gpio\": True,\n",
    "#     \"plot_pins_method\": \"line\",\n",
    "#     \"plot_xmax\": 1.2,\n",
    "#     \"fig\": fig,\n",
    "# }\n",
    "\n",
    "config_dict = {\n",
    "    \"interfaces\": [INTERFACE_POWER, INTERFACE_GPIO],\n",
    "    \"power_buffers\": [{\"channel\": CHANNEL_A, \"power_type\": POWER_CURRENT}],\n",
    "    \"read_mode\": [True, True, True, True],\n",
    "    \"write_mode\": [False, False, False, False],\n",
    "    \"loggers\": [LOGGER_OBJECT, LOGGER_CSV],\n",
    "    \"gpio_delay_time\" : 0.010795,\n",
    "}"
   ]
  },
  {
   "cell_type": "code",
   "execution_count": 9,
   "metadata": {},
   "outputs": [],
   "source": [
    "# fig.clf()\n",
    "# for ax in fig.get_axes():\n",
    "#     ax.cla()\n",
    "# data = []\n",
    "\n",
    "with DGILibExtra(**config_dict) as dgilib:\n",
    "    dgilib.device_reset()\n",
    "    data = dgilib.logger.log(1)"
   ]
  },
  {
   "cell_type": "code",
   "execution_count": 10,
   "metadata": {},
   "outputs": [
    {
     "name": "stdout",
     "output_type": "stream",
     "text": [
      "((0.012270733333333334, [False, False, False, False]), (0.012270733333333334, [True, True, True, True]), (0.012387, [True, True, True, True]), (0.012387, [True, True, False, False]), (0.0123902, [True, True, False, False]), (0.11658433333333333, [True, True, False, False]), (0.11658433333333333, [True, True, True, False]), (0.2172046, [True, True, True, False]), (0.2172046, [True, True, True, True]), (0.22728833333333334, [True, True, True, True]), (0.22728833333333334, [True, True, True, False]), (0.32791233333333336, [True, True, True, False]), (0.32791233333333336, [True, True, False, False]), (0.4285368666666667, [True, True, False, False]), (0.4285368666666667, [True, True, False, True]), (0.4386206, [True, True, False, True]), (0.4386206, [True, True, False, False]), (0.5392360666666667, [True, True, False, False]), (0.5392360666666667, [True, True, True, False]), (0.6398494, [True, True, True, False]), (0.6398494, [True, True, True, True]), (0.649931, [True, True, True, True]), (0.649931, [True, True, True, False]), (0.7505416666666667, [True, True, True, False]), (0.7505416666666667, [True, True, False, False]), (0.8511635333333334, [True, True, False, False]), (0.8511635333333334, [True, True, False, True]), (0.8612472666666667, [True, True, False, True]), (0.8612472666666667, [True, True, False, False]), (0.9618744666666666, [True, True, False, False]), (0.9618744666666666, [True, True, True, False]))\n"
     ]
    }
   ],
   "source": [
    "print(data.gpio)"
   ]
  },
  {
   "cell_type": "code",
   "execution_count": null,
   "metadata": {},
   "outputs": [],
   "source": []
  }
 ],
 "metadata": {
  "kernelspec": {
   "display_name": "Python [conda env:SAML11-32]",
   "language": "python",
   "name": "conda-env-SAML11-32-py"
  },
  "language_info": {
   "codemirror_mode": {
    "name": "ipython",
    "version": 3
   },
   "file_extension": ".py",
   "mimetype": "text/x-python",
   "name": "python",
   "nbconvert_exporter": "python",
   "pygments_lexer": "ipython3",
   "version": "3.6.8"
  }
 },
 "nbformat": 4,
 "nbformat_minor": 2
}
