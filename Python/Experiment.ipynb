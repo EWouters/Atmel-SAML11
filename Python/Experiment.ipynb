{
 "cells": [
  {
   "cell_type": "code",
   "execution_count": 1,
   "metadata": {},
   "outputs": [],
   "source": [
    "# %matplotlib ipympl\n",
    "%matplotlib wx"
   ]
  },
  {
   "cell_type": "code",
   "execution_count": 2,
   "metadata": {},
   "outputs": [],
   "source": [
    "import matplotlib.pyplot as plt\n",
    "plt.ion()"
   ]
  },
  {
   "cell_type": "code",
   "execution_count": 3,
   "metadata": {},
   "outputs": [],
   "source": [
    "from pydgilib_extra import *"
   ]
  },
  {
   "cell_type": "code",
   "execution_count": 4,
   "metadata": {},
   "outputs": [],
   "source": [
    "fig = plt.figure(figsize=(8, 6))\n",
    "# fig.show()"
   ]
  },
  {
   "cell_type": "code",
   "execution_count": 5,
   "metadata": {},
   "outputs": [
    {
     "name": "stderr",
     "output_type": "stream",
     "text": [
      "D:\\Anaconda3\\envs\\SAML11-32\\lib\\site-packages\\matplotlib\\widgets.py:346: UserWarning: Attempting to set identical left==right results\n",
      "in singular transformations; automatically expanding.\n",
      "left=0, right=0.0\n",
      "  ax.set_xlim((valmin, valmax))\n",
      "D:\\Anaconda3\\envs\\SAML11-32\\lib\\site-packages\\matplotlib\\widgets.py:346: UserWarning: Attempting to set identical left==right results\n",
      "in singular transformations; automatically expanding.\n",
      "left=0, right=0.0\n",
      "  ax.set_xlim((valmin, valmax))\n"
     ]
    }
   ],
   "source": [
    "data = []\n",
    "\n",
    "config_dict = {\n",
    "    \"interfaces\": [INTERFACE_POWER, INTERFACE_GPIO],\n",
    "    \"power_buffers\": [{\"channel\": CHANNEL_A, \"power_type\": POWER_CURRENT}],\n",
    "    \"read_mode\": [True, True, True, True],\n",
    "    \"write_mode\": [False, False, False, False],\n",
    "    \"loggers\": [LOGGER_OBJECT, LOGGER_PLOT, LOGGER_CSV],\n",
    "    \"plot_pins\": [False, False, True, True],\n",
    "    \"plot_pins_values\": [True, True, True, True],\n",
    "    \"gpio_delay_time\" : 0.010795,\n",
    "    \"augment_gpio\": True,\n",
    "    \"plot_pins_method\": \"line\",\n",
    "    \"plot_xmax\": 1.2,\n",
    "    \"fig\": fig,\n",
    "}\n",
    "\n",
    "fig.clf()\n",
    "for ax in fig.get_axes():\n",
    "    ax.cla()\n",
    "\n",
    "with DGILibExtra(**config_dict) as dgilib:\n",
    "    dgilib.device_reset()\n",
    "    data = dgilib.logger.log(1)"
   ]
  },
  {
   "cell_type": "code",
   "execution_count": 6,
   "metadata": {},
   "outputs": [
    {
     "name": "stdout",
     "output_type": "stream",
     "text": [
      "((0.012177933333333335, [False, False, False, False]), (0.012177933333333335, [True, True, True, True]), (0.0125438, [True, True, True, True]), (0.0125438, [True, True, False, True]), (0.0125486, [True, True, False, True]), (0.0125486, [True, True, False, False]), (0.03739873333333334, [True, True, False, False]), (0.03739873333333334, [True, True, True, False]), (0.038400866666666665, [True, True, True, False]), (0.038400866666666665, [True, True, False, False]), (0.0484846, [True, True, False, False]), (0.0484846, [True, True, False, True]), (0.0495358, [True, True, False, True]), (0.0495358, [True, True, False, False]), (0.0698126, [True, True, False, False]), (0.0698126, [True, True, True, False]), (0.07179713333333333, [True, True, True, False]), (0.07179713333333333, [True, True, False, False]), (0.08188140000000001, [True, True, False, False]), (0.08188140000000001, [True, True, False, True]), (0.08396513333333333, [True, True, False, True]), (0.08396513333333333, [True, True, False, False]), (0.10425526666666667, [True, True, False, False]), (0.10425526666666667, [True, True, True, False]), (0.1072222, [True, True, True, False]), (0.1072222, [True, True, False, False]), (0.11730646666666666, [True, True, False, False]), (0.11730646666666666, [True, True, False, True]), (0.12042273333333334, [True, True, False, True]), (0.12042273333333334, [True, True, False, False]), (0.1407502, [True, True, False, False]), (0.1407502, [True, True, True, False]), (0.14469953333333332, [True, True, True, False]), (0.14469953333333332, [True, True, False, False]), (0.1547838, [True, True, False, False]), (0.1547838, [True, True, False, True]), (0.15893313333333334, [True, True, False, True]), (0.15893313333333334, [True, True, False, False]), (0.3702622, [True, True, False, False]), (0.3702622, [True, True, True, True]))\n"
     ]
    }
   ],
   "source": [
    "print(data.gpio)"
   ]
  }
 ],
 "metadata": {
  "kernelspec": {
   "display_name": "Python [conda env:SAML11-32]",
   "language": "python",
   "name": "conda-env-SAML11-32-py"
  },
  "language_info": {
   "codemirror_mode": {
    "name": "ipython",
    "version": 3
   },
   "file_extension": ".py",
   "mimetype": "text/x-python",
   "name": "python",
   "nbconvert_exporter": "python",
   "pygments_lexer": "ipython3",
   "version": "3.6.8"
  }
 },
 "nbformat": 4,
 "nbformat_minor": 2
}
