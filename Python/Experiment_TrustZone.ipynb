{
 "cells": [
  {
   "cell_type": "markdown",
   "metadata": {},
   "source": [
    "## Import Libraries"
   ]
  },
  {
   "cell_type": "code",
   "execution_count": 1,
   "metadata": {},
   "outputs": [],
   "source": [
    "from time import sleep"
   ]
  },
  {
   "cell_type": "code",
   "execution_count": 2,
   "metadata": {},
   "outputs": [],
   "source": [
    "# %matplotlib ipympl\n",
    "# %matplotlib inline\n",
    "%matplotlib wx"
   ]
  },
  {
   "cell_type": "code",
   "execution_count": 3,
   "metadata": {},
   "outputs": [],
   "source": [
    "import matplotlib.pyplot as plt\n",
    "plt.ion()"
   ]
  },
  {
   "cell_type": "code",
   "execution_count": 4,
   "metadata": {},
   "outputs": [],
   "source": [
    "from pydgilib_extra import *"
   ]
  },
  {
   "cell_type": "markdown",
   "metadata": {},
   "source": [
    "Set the path to `dgilib.dll`."
   ]
  },
  {
   "cell_type": "code",
   "execution_count": 5,
   "metadata": {},
   "outputs": [],
   "source": [
    "dgilib_path = \"C:\\\\Users\\\\erikw_000\\\\Documents\\\\GitHub\\\\Atmel-SAML11\\\\Python\\\\dgilib.dll\""
   ]
  },
  {
   "cell_type": "markdown",
   "metadata": {},
   "source": [
    "## Data Logging"
   ]
  },
  {
   "cell_type": "markdown",
   "metadata": {},
   "source": [
    "Create a figure for the plot."
   ]
  },
  {
   "cell_type": "code",
   "execution_count": 6,
   "metadata": {},
   "outputs": [],
   "source": [
    "fig = plt.figure(figsize=(10, 6))"
   ]
  },
  {
   "cell_type": "markdown",
   "metadata": {},
   "source": [
    "Create the configuration dictionary for `DGILibExtra`."
   ]
  },
  {
   "cell_type": "code",
   "execution_count": 7,
   "metadata": {},
   "outputs": [],
   "source": [
    "config_dict = {\n",
    "    \"power_buffers\": [{\"channel\": CHANNEL_A, \"power_type\": POWER_CURRENT}],\n",
    "    \"read_mode\": [True, True, True, True],\n",
    "    \"write_mode\": [False, False, False, False],\n",
    "    \"loggers\": [LOGGER_OBJECT, LOGGER_PLOT, LOGGER_CSV],\n",
    "    \"plot_pins\": [True, True, True, True],\n",
    "    \"augment_gpio\" : True,\n",
    "    \"fig\": fig,\n",
    "    \"verbose\": 0,\n",
    "}"
   ]
  },
  {
   "cell_type": "markdown",
   "metadata": {},
   "source": [
    "Perform the measurement."
   ]
  },
  {
   "cell_type": "code",
   "execution_count": 8,
   "metadata": {},
   "outputs": [],
   "source": [
    "data = []\n",
    "fig.clf()\n",
    "\n",
    "with DGILibExtra(dgilib_path, **config_dict) as dgilib:\n",
    "    dgilib.device_reset()\n",
    "    dgilib.logger_start()\n",
    "    sleep(1)\n",
    "    dgilib.update_callback()\n",
    "    while not all(dgilib.data[INTERFACE_GPIO][1][-1]):\n",
    "        dgilib.update_callback()\n",
    "#         sleep(1)\n",
    "    sleep(0.1)\n",
    "    dgilib.logger_stop()\n",
    "    data = dgilib.data"
   ]
  },
  {
   "cell_type": "markdown",
   "metadata": {},
   "source": [
    "## Analysis"
   ]
  },
  {
   "cell_type": "code",
   "execution_count": 9,
   "metadata": {},
   "outputs": [],
   "source": [
    "aes_charge, aes_time = power_and_time_per_pulse(data, 2)"
   ]
  },
  {
   "cell_type": "code",
   "execution_count": 10,
   "metadata": {},
   "outputs": [],
   "source": [
    "flash_charge, flash_time = power_and_time_per_pulse(data, 3)"
   ]
  },
  {
   "cell_type": "code",
   "execution_count": 11,
   "metadata": {},
   "outputs": [],
   "source": [
    "aes_encrypt_charge = aes_charge[0::2]\n",
    "aes_decrypt_charge = aes_charge[1::2]\n",
    "aes_encrypt_time = aes_time[0::2]\n",
    "aes_decrypt_time = aes_time[1::2]"
   ]
  },
  {
   "cell_type": "code",
   "execution_count": 12,
   "metadata": {},
   "outputs": [],
   "source": [
    "flash_write_charge = flash_charge[0::2]\n",
    "flash_read_charge = flash_charge[1::2]\n",
    "flash_write_time = flash_time[0::2]\n",
    "flash_read_time = flash_time[1::2]"
   ]
  },
  {
   "cell_type": "code",
   "execution_count": 13,
   "metadata": {},
   "outputs": [],
   "source": [
    "MBEDTLS_AES_BLOCK_SIZE = 16\n",
    "MIN_AES_BLOCKS = 1\n",
    "num_bytes = range(MIN_AES_BLOCKS * MBEDTLS_AES_BLOCK_SIZE, MBEDTLS_AES_BLOCK_SIZE * (MIN_AES_BLOCKS + len(aes_encrypt_charge)), MBEDTLS_AES_BLOCK_SIZE)"
   ]
  },
  {
   "cell_type": "code",
   "execution_count": 14,
   "metadata": {},
   "outputs": [],
   "source": [
    "from lmfit import Model\n",
    "\n",
    "def line(x, slope, intercept):\n",
    "    \"\"\"a line\"\"\"\n",
    "    return [slope*i + intercept for i in x]\n",
    "\n",
    "mod = Model(line)\n",
    "pars = mod.make_params(slope=0, intercept=1)"
   ]
  },
  {
   "cell_type": "code",
   "execution_count": 15,
   "metadata": {},
   "outputs": [
    {
     "name": "stdout",
     "output_type": "stream",
     "text": [
      "[[Model]]\n",
      "    Model(line)\n",
      "[[Fit Statistics]]\n",
      "    # fitting method   = leastsq\n",
      "    # function evals   = 6\n",
      "    # data points      = 400\n",
      "    # variables        = 2\n",
      "    chi-square         = 5.7816e-06\n",
      "    reduced chi-square = 1.4527e-08\n",
      "    Akaike info crit   = -7216.91744\n",
      "    Bayesian info crit = -7208.93451\n",
      "[[Variables]]\n",
      "    slope:      3.2435e-05 +/- 3.2619e-09 (0.01%) (init = 0)\n",
      "    intercept: -2.5689e-04 +/- 1.2075e-05 (4.70%) (init = 1)\n",
      "[[Correlations]] (unreported correlations are < 0.100)\n",
      "    C(slope, intercept) = -0.867\n",
      "\n",
      "[[Model]]\n",
      "    Model(line)\n",
      "[[Fit Statistics]]\n",
      "    # fitting method   = leastsq\n",
      "    # function evals   = 6\n",
      "    # data points      = 400\n",
      "    # variables        = 2\n",
      "    chi-square         = 6.4069e-06\n",
      "    reduced chi-square = 1.6098e-08\n",
      "    Akaike info crit   = -7175.84211\n",
      "    Bayesian info crit = -7167.85918\n",
      "[[Variables]]\n",
      "    slope:      3.3418e-05 +/- 3.4337e-09 (0.01%) (init = 0)\n",
      "    intercept: -2.4795e-04 +/- 1.2711e-05 (5.13%) (init = 1)\n",
      "[[Correlations]] (unreported correlations are < 0.100)\n",
      "    C(slope, intercept) = -0.867\n",
      "\n",
      "[[Model]]\n",
      "    Model(line)\n",
      "[[Fit Statistics]]\n",
      "    # fitting method   = leastsq\n",
      "    # function evals   = 7\n",
      "    # data points      = 400\n",
      "    # variables        = 2\n",
      "    chi-square         = 5.8296e-07\n",
      "    reduced chi-square = 1.4647e-09\n",
      "    Akaike info crit   = -8134.64500\n",
      "    Bayesian info crit = -8126.66207\n",
      "[[Variables]]\n",
      "    slope:      6.1348e-05 +/- 1.0358e-09 (0.00%) (init = 0)\n",
      "    intercept:  3.8500e-05 +/- 3.8344e-06 (9.96%) (init = 1)\n",
      "[[Correlations]] (unreported correlations are < 0.100)\n",
      "    C(slope, intercept) = -0.867\n",
      "\n",
      "[[Model]]\n",
      "    Model(line)\n",
      "[[Fit Statistics]]\n",
      "    # fitting method   = leastsq\n",
      "    # function evals   = 7\n",
      "    # data points      = 400\n",
      "    # variables        = 2\n",
      "    chi-square         = 6.8276e-07\n",
      "    reduced chi-square = 1.7155e-09\n",
      "    Akaike info crit   = -8071.43518\n",
      "    Bayesian info crit = -8063.45225\n",
      "[[Variables]]\n",
      "    slope:      6.4490e-05 +/- 1.1209e-09 (0.00%) (init = 0)\n",
      "    intercept:  3.8356e-05 +/- 4.1496e-06 (10.82%) (init = 1)\n",
      "[[Correlations]] (unreported correlations are < 0.100)\n",
      "    C(slope, intercept) = -0.867\n",
      "\n",
      "[[Model]]\n",
      "    Model(line)\n",
      "[[Fit Statistics]]\n",
      "    # fitting method   = leastsq\n",
      "    # function evals   = 6\n",
      "    # data points      = 400\n",
      "    # variables        = 2\n",
      "    chi-square         = 3.1953e-04\n",
      "    reduced chi-square = 8.0284e-07\n",
      "    Akaike info crit   = -5612.04880\n",
      "    Bayesian info crit = -5604.06587\n",
      "[[Variables]]\n",
      "    slope:      2.2620e-05 +/- 2.4249e-08 (0.11%) (init = 0)\n",
      "    intercept:  7.9723e-04 +/- 8.9770e-05 (11.26%) (init = 1)\n",
      "[[Correlations]] (unreported correlations are < 0.100)\n",
      "    C(slope, intercept) = -0.867\n",
      "\n",
      "[[Model]]\n",
      "    Model(line)\n",
      "[[Fit Statistics]]\n",
      "    # fitting method   = leastsq\n",
      "    # function evals   = 7\n",
      "    # data points      = 400\n",
      "    # variables        = 2\n",
      "    chi-square         = 8.4692e-08\n",
      "    reduced chi-square = 2.1279e-10\n",
      "    Akaike info crit   = -8906.28457\n",
      "    Bayesian info crit = -8898.30164\n",
      "[[Variables]]\n",
      "    slope:      7.8794e-07 +/- 3.9479e-10 (0.05%) (init = 0)\n",
      "    intercept: -3.4256e-05 +/- 1.4615e-06 (4.27%) (init = 1)\n",
      "[[Correlations]] (unreported correlations are < 0.100)\n",
      "    C(slope, intercept) = -0.867\n",
      "\n",
      "[[Model]]\n",
      "    Model(line)\n",
      "[[Fit Statistics]]\n",
      "    # fitting method   = leastsq\n",
      "    # function evals   = 6\n",
      "    # data points      = 400\n",
      "    # variables        = 2\n",
      "    chi-square         = 7.0333e-05\n",
      "    reduced chi-square = 1.7672e-07\n",
      "    Akaike info crit   = -6217.49590\n",
      "    Bayesian info crit = -6209.51297\n",
      "[[Variables]]\n",
      "    slope:      1.2221e-05 +/- 1.1377e-08 (0.09%) (init = 0)\n",
      "    intercept:  9.1781e-04 +/- 4.2116e-05 (4.59%) (init = 1)\n",
      "[[Correlations]] (unreported correlations are < 0.100)\n",
      "    C(slope, intercept) = -0.867\n",
      "\n",
      "[[Model]]\n",
      "    Model(line)\n",
      "[[Fit Statistics]]\n",
      "    # fitting method   = leastsq\n",
      "    # function evals   = 6\n",
      "    # data points      = 400\n",
      "    # variables        = 2\n",
      "    chi-square         = 3.0258e-07\n",
      "    reduced chi-square = 7.6025e-10\n",
      "    Akaike info crit   = -8396.95715\n",
      "    Bayesian info crit = -8388.97422\n",
      "[[Variables]]\n",
      "    slope:      2.1376e-06 +/- 7.4621e-10 (0.03%) (init = 0)\n",
      "    intercept:  1.1800e-05 +/- 2.7624e-06 (23.41%) (init = 1)\n",
      "[[Correlations]] (unreported correlations are < 0.100)\n",
      "    C(slope, intercept) = -0.867\n",
      "\n"
     ]
    }
   ],
   "source": [
    "results = []\n",
    "for y in [aes_encrypt_charge, aes_decrypt_charge, aes_encrypt_time, aes_decrypt_time, flash_write_charge, flash_read_charge, flash_write_time, flash_read_time]:\n",
    "    result = mod.fit(y, pars, x=num_bytes)\n",
    "    print(result.fit_report())\n",
    "    results.append(result)"
   ]
  },
  {
   "cell_type": "code",
   "execution_count": 16,
   "metadata": {},
   "outputs": [],
   "source": [
    "fig = plt.figure(figsize=(9, 8))"
   ]
  },
  {
   "cell_type": "code",
   "execution_count": 17,
   "metadata": {},
   "outputs": [],
   "source": [
    "charge_color = 'r'\n",
    "time_color = 'b'"
   ]
  },
  {
   "cell_type": "code",
   "execution_count": 18,
   "metadata": {},
   "outputs": [],
   "source": [
    "fig.clf()\n",
    "# fig.suptitle(\"Energy analysis of AES\")\n",
    "ax1 = fig.add_subplot(1, 1, 1)\n",
    "ax2 = ax1.twinx()\n",
    "ax1.set_xlabel('Number of bytes')\n",
    "ax1.set_ylabel('Charge [mC]', color=charge_color)\n",
    "ax2.set_ylabel('Time [s]', color=time_color)\n",
    "ax1.tick_params('y', colors=charge_color)\n",
    "ax2.tick_params('y', colors=time_color)"
   ]
  },
  {
   "cell_type": "code",
   "execution_count": 19,
   "metadata": {},
   "outputs": [],
   "source": [
    "lines = []\n",
    "lines += ax1.plot(num_bytes, aes_encrypt_charge, charge_color+'-', label='AES Encrypt Charge')\n",
    "lines += ax1.plot(num_bytes, aes_decrypt_charge, charge_color+'--', label='AES Decrypt Charge')\n",
    "lines += ax2.plot(num_bytes, aes_encrypt_time, time_color+'-', label='AES Encrypt Time')\n",
    "lines += ax2.plot(num_bytes, aes_decrypt_time, time_color+'--', label='AES Decrypt Time')\n",
    "lines += ax1.plot(num_bytes, flash_write_charge, charge_color+'-.', label='Flash Write Charge')\n",
    "lines += ax1.plot(num_bytes, flash_read_charge, charge_color+':', label='Flash Read Charge')\n",
    "lines += ax2.plot(num_bytes, flash_write_time, time_color+'-.', label='Flash Write Time')\n",
    "lines += ax2.plot(num_bytes, flash_read_time, time_color+':', label='Flash Read Time')\n",
    "ax1.legend(handles=lines)\n",
    "# [aes_encrypt_charge, aes_decrypt_charge, aes_encrypt_time, aes_decrypt_time, flash_write_charge, flash_read_charge, flash_write_time, flash_read_time]:\n",
    "ax1.set_title(f\"AES Encrypt Charge: Base {results[0].params['intercept'].value:.03} mC plus {results[0].params['slope'].value:.03} mC per byte\\n\" +\n",
    "             f\"AES Decrypt Charge: Base {results[1].params['intercept'].value:.03} mC plus {results[1].params['slope'].value:.03} mC per byte\\n\" +\n",
    "             f\"AES Encrypt Time: Base {results[2].params['intercept'].value:.03} s plus {results[2].params['slope'].value:.03} s per byte\\n\" +\n",
    "             f\"AES Decrypt Time: Base {results[3].params['intercept'].value:.03} s plus {results[3].params['slope'].value:.03} s per byte\\n\" +\n",
    "             f\"Flash Write Charge: Base {results[4].params['intercept'].value:.03} mC plus {results[4].params['slope'].value:.03} mC per byte\\n\" +\n",
    "             f\"Flash Read Charge: Base {results[5].params['intercept'].value:.03} mC plus {results[5].params['slope'].value:.03} mC per byte\\n\" +\n",
    "             f\"Flash Write Time: Base {results[6].params['intercept'].value:.03} s plus {results[6].params['slope'].value:.03} s per byte\\n\" +\n",
    "             f\"Flash Read Time: Base {results[7].params['intercept'].value:.03} s plus {results[7].params['slope'].value:.03} s per byte\\n\")\n",
    "fig.tight_layout()\n",
    "fig.show()"
   ]
  },
  {
   "cell_type": "code",
   "execution_count": 20,
   "metadata": {},
   "outputs": [],
   "source": [
    "# data"
   ]
  },
  {
   "cell_type": "code",
   "execution_count": null,
   "metadata": {},
   "outputs": [],
   "source": []
  },
  {
   "cell_type": "code",
   "execution_count": null,
   "metadata": {},
   "outputs": [],
   "source": []
  }
 ],
 "metadata": {
  "kernelspec": {
   "display_name": "Python [conda env:SAML11-32]",
   "language": "python",
   "name": "conda-env-SAML11-32-py"
  },
  "language_info": {
   "codemirror_mode": {
    "name": "ipython",
    "version": 3
   },
   "file_extension": ".py",
   "mimetype": "text/x-python",
   "name": "python",
   "nbconvert_exporter": "python",
   "pygments_lexer": "ipython3",
   "version": "3.6.8"
  }
 },
 "nbformat": 4,
 "nbformat_minor": 2
}
